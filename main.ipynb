{
 "cells": [
  {
   "cell_type": "code",
   "execution_count": 2,
   "metadata": {},
   "outputs": [],
   "source": [
    "from mongodb.client import DatabaseClient"
   ]
  },
  {
   "cell_type": "code",
   "execution_count": 3,
   "metadata": {},
   "outputs": [
    {
     "data": {
      "text/plain": [
       "True"
      ]
     },
     "execution_count": 3,
     "metadata": {},
     "output_type": "execute_result"
    }
   ],
   "source": [
    "client = DatabaseClient()\n",
    "client.check_connection()"
   ]
  },
  {
   "cell_type": "code",
   "execution_count": 7,
   "metadata": {},
   "outputs": [
    {
     "data": {
      "text/plain": [
       "['B0BXSWNZKG',\n",
       " 'B09MSB2FRH',\n",
       " 'B08F7F4BZH',\n",
       " 'B0BXSVJBXV',\n",
       " 'B088WCR7GC',\n",
       " 'B0C1S2TMFR',\n",
       " 'B01FIEV4Y8',\n",
       " 'B0C8SJD7YH',\n",
       " 'B09NTPXH26',\n",
       " 'B07D9FF87L']"
      ]
     },
     "execution_count": 7,
     "metadata": {},
     "output_type": "execute_result"
    }
   ],
   "source": [
    "# Define the aggregation pipeline\n",
    "pipeline = [\n",
    "    {\"$match\": {\"metadata.product_page_scraped\": False}},  # Filter documents\n",
    "    {\"$sample\": {\"size\": 10}},  # Randomly select 10 documents\n",
    "    {\"$project\": {\"asin\": 1, \"_id\": 0}},\n",
    "]\n",
    "\n",
    "# Execute the aggregation query\n",
    "random_documents = list(client.collection.aggregate(pipeline))\n",
    "random_documents = [doc[\"asin\"] for doc in random_documents]\n",
    "random_documents"
   ]
  },
  {
   "cell_type": "code",
   "execution_count": 1,
   "metadata": {},
   "outputs": [],
   "source": [
    "def get_random_asins():\n",
    "    \"\"\"Return a list of random ASINs.\"\"\"\n",
    "    from mongodb.client import DatabaseClient\n",
    "\n",
    "    client = DatabaseClient()\n",
    "    pipeline = [\n",
    "        {\"$match\": {\"metadata.product_page_scraped\": False}},\n",
    "        {\"$sample\": {\"size\": 5}},\n",
    "        {\"$project\": {\"asin\": 1, \"_id\": 0}},\n",
    "    ]\n",
    "    random_documents = list(client.collection.aggregate(pipeline))\n",
    "    for doc in random_documents:\n",
    "        yield doc[\"asin\"]\n",
    "    client.close()"
   ]
  }
 ],
 "metadata": {
  "kernelspec": {
   "display_name": ".venv",
   "language": "python",
   "name": "python3"
  },
  "language_info": {
   "codemirror_mode": {
    "name": "ipython",
    "version": 3
   },
   "file_extension": ".py",
   "mimetype": "text/x-python",
   "name": "python",
   "nbconvert_exporter": "python",
   "pygments_lexer": "ipython3",
   "version": "3.12.1"
  }
 },
 "nbformat": 4,
 "nbformat_minor": 2
}
