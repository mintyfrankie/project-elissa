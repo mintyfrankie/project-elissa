{
 "cells": [
  {
   "cell_type": "code",
   "execution_count": 1,
   "metadata": {},
   "outputs": [],
   "source": [
    "from mongodb.client import DatabaseClient"
   ]
  },
  {
   "cell_type": "code",
   "execution_count": 2,
   "metadata": {},
   "outputs": [
    {
     "data": {
      "text/plain": [
       "True"
      ]
     },
     "execution_count": 2,
     "metadata": {},
     "output_type": "execute_result"
    }
   ],
   "source": [
    "client = DatabaseClient()\n",
    "client.check_connection()"
   ]
  },
  {
   "cell_type": "code",
   "execution_count": 13,
   "metadata": {},
   "outputs": [],
   "source": [
    "def get_random_reviews():\n",
    "    \"\"\"Return a list of random ASINs.\"\"\"\n",
    "    from mongodb.client import DatabaseClient\n",
    "\n",
    "    client = DatabaseClient()\n",
    "    pipeline = [\n",
    "        {\n",
    "            \"$match\": {\n",
    "                \"_metadata.review_page_scraped\": False,\n",
    "                \"review_url\": {\"$exists\": True, \"$ne\": None},\n",
    "            }\n",
    "        },\n",
    "        {\"$sample\": {\"size\": 5}},\n",
    "        {\"$project\": {\"review_url\": 1, \"_id\": 0}},\n",
    "    ]\n",
    "    random_documents = list(client.collection.aggregate(pipeline))\n",
    "    for doc in random_documents:\n",
    "        yield doc[\"review_url\"]\n",
    "    client.close()"
   ]
  },
  {
   "cell_type": "code",
   "execution_count": 14,
   "metadata": {},
   "outputs": [
    {
     "data": {
      "text/plain": [
       "['https://www.amazon.fr/Always-Prot%C3%A8ge-Slips-Incontinence-Protection-Int%C3%A9grale/product-reviews/B00QTJ23IS/ref=cm_cr_dp_d_show_all_btm?ie=UTF8&reviewerType=all_reviews',\n",
       " 'https://www.amazon.fr/NANA-Serviettes-hygieniques-Normal-x14/product-reviews/B00GESJOMM/ref=cm_cr_dp_d_show_all_btm?ie=UTF8&reviewerType=all_reviews',\n",
       " 'https://www.amazon.fr/Nett-Boite-Tampons-Applicateur-Unit%C3%A9s/product-reviews/B08YG9YWX1/ref=cm_cr_dp_d_show_all_btm?ie=UTF8&reviewerType=all_reviews',\n",
       " 'https://www.amazon.fr/MQUPIN-Serviettes-hygi%C3%A9niques-r%C3%A9utilisables-allonger%EF%BC%899-84in/product-reviews/B09MCLTNJ2/ref=cm_cr_dp_d_show_all_btm?ie=UTF8&reviewerType=all_reviews',\n",
       " 'https://www.amazon.fr/TENA-Prot%C3%A8ge-slip-Discret-Urinaires-Incontinence/product-reviews/B06XYDRJDN/ref=cm_cr_dp_d_show_all_btm?ie=UTF8&reviewerType=all_reviews']"
      ]
     },
     "execution_count": 14,
     "metadata": {},
     "output_type": "execute_result"
    }
   ],
   "source": [
    "list(get_random_reviews())"
   ]
  },
  {
   "cell_type": "code",
   "execution_count": null,
   "metadata": {},
   "outputs": [],
   "source": []
  }
 ],
 "metadata": {
  "kernelspec": {
   "display_name": ".venv",
   "language": "python",
   "name": "python3"
  },
  "language_info": {
   "codemirror_mode": {
    "name": "ipython",
    "version": 3
   },
   "file_extension": ".py",
   "mimetype": "text/x-python",
   "name": "python",
   "nbconvert_exporter": "python",
   "pygments_lexer": "ipython3",
   "version": "3.12.1"
  }
 },
 "nbformat": 4,
 "nbformat_minor": 2
}
