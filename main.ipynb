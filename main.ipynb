{
 "cells": [
  {
   "cell_type": "markdown",
   "metadata": {},
   "source": [
    "# Playground\n"
   ]
  },
  {
   "cell_type": "code",
   "execution_count": 3,
   "metadata": {},
   "outputs": [],
   "source": [
    "from selenium import webdriver\n",
    "from selenium.webdriver.chrome.options import Options\n",
    "\n",
    "from scraping.spiders.search_page import SearchPageSpider\n",
    "from scraping.utils.constants import QUERY_KEYWORDS"
   ]
  },
  {
   "cell_type": "code",
   "execution_count": 4,
   "metadata": {},
   "outputs": [
    {
     "name": "stdout",
     "output_type": "stream",
     "text": [
      "SearchPageSpider is initialized.\n",
      "current_url: https://www.amazon.fr/s?k=tampon+femme\n",
      "Scraped 49 items.\n",
      "current_url: https://www.amazon.fr/s?k=tampon+femme&page=2&ref=sr_pg_1\n",
      "Scraped 48 items.\n",
      "current_url: https://www.amazon.fr/s?k=tampon+femme&page=3&ref=sr_pg_2\n",
      "Scraped 48 items.\n",
      "current_url: https://www.amazon.fr/s?k=tampon+femme&page=4&ref=sr_pg_3\n",
      "Scraped 48 items.\n",
      "current_url: https://www.amazon.fr/s?k=tampon+femme&page=5&ref=sr_pg_4\n",
      "Scraped 48 items.\n",
      "current_url: https://www.amazon.fr/s?k=tampon+femme&page=6&ref=sr_pg_5\n",
      "Scraped 29 items.\n",
      "current_url: https://www.amazon.fr/s?k=tampon+femme&page=7&ref=sr_pg_6\n",
      "Scraped 10 items.\n",
      "current_url: https://www.amazon.fr/s?k=serviette+femme\n",
      "Scraped 47 items.\n",
      "current_url: https://www.amazon.fr/s?k=serviette+femme&page=2&ref=sr_pg_1\n",
      "Scraped 48 items.\n",
      "current_url: https://www.amazon.fr/s?k=serviette+femme&page=3&ref=sr_pg_2\n",
      "Scraped 47 items.\n",
      "current_url: https://www.amazon.fr/s?k=serviette+femme&page=4&ref=sr_pg_3\n",
      "Scraped 44 items.\n",
      "current_url: https://www.amazon.fr/s?k=serviette+femme&page=5&ref=sr_pg_4\n",
      "Scraped 39 items.\n",
      "current_url: https://www.amazon.fr/s?k=serviette+femme&page=6&ref=sr_pg_5\n",
      "Scraped 40 items.\n",
      "current_url: https://www.amazon.fr/s?k=serviette+femme&page=7&ref=sr_pg_6\n",
      "Scraped 11 items.\n",
      "current_url: https://www.amazon.fr/s?k=cup+menstruelle\n",
      "Scraped 46 items.\n",
      "current_url: https://www.amazon.fr/s?k=cup+menstruelle&page=2&ref=sr_pg_1\n",
      "Scraped 44 items.\n",
      "current_url: https://www.amazon.fr/s?k=cup+menstruelle&page=3&ref=sr_pg_2\n",
      "Scraped 46 items.\n",
      "current_url: https://www.amazon.fr/s?k=cup+menstruelle&page=4&ref=sr_pg_3\n",
      "Scraped 44 items.\n",
      "current_url: https://www.amazon.fr/s?k=cup+menstruelle&page=5&ref=sr_pg_4\n",
      "Scraped 46 items.\n",
      "current_url: https://www.amazon.fr/s?k=cup+menstruelle&page=6&ref=sr_pg_5\n",
      "Scraped 46 items.\n",
      "current_url: https://www.amazon.fr/s?k=cup+menstruelle&page=7&ref=sr_pg_6\n",
      "Scraped 17 items.\n",
      "current_url: https://www.amazon.fr/s?k=protege+slip\n",
      "Scraped 48 items.\n",
      "current_url: https://www.amazon.fr/s?k=protege+slip&page=2&ref=sr_pg_1\n",
      "Scraped 45 items.\n",
      "current_url: https://www.amazon.fr/s?k=protege+slip&page=3&ref=sr_pg_2\n",
      "Scraped 48 items.\n",
      "current_url: https://www.amazon.fr/s?k=protege+slip&page=4&ref=sr_pg_3\n",
      "Scraped 46 items.\n",
      "current_url: https://www.amazon.fr/s?k=protege+slip&page=5&ref=sr_pg_4\n",
      "Scraped 48 items.\n",
      "current_url: https://www.amazon.fr/s?k=protege+slip&page=6&ref=sr_pg_5\n",
      "Scraped 46 items.\n",
      "current_url: https://www.amazon.fr/s?k=protege+slip&page=7&ref=sr_pg_6\n",
      "Scraped 4 items.\n",
      "Scraped 1130 items in total.\n"
     ]
    }
   ],
   "source": [
    "options = Options()\n",
    "options.add_argument(\"--headless\")\n",
    "\n",
    "with webdriver.Chrome(options=options) as driver:\n",
    "    spider = SearchPageSpider(\n",
    "        driver,\n",
    "        keywords=QUERY_KEYWORDS,\n",
    "    )\n",
    "\n",
    "    data = spider.run()"
   ]
  },
  {
   "cell_type": "code",
   "execution_count": 7,
   "metadata": {},
   "outputs": [],
   "source": [
    "import pandas as pd\n",
    "\n",
    "df = pd.DataFrame(data)"
   ]
  }
 ],
 "metadata": {
  "kernelspec": {
   "display_name": ".venv",
   "language": "python",
   "name": "python3"
  },
  "language_info": {
   "codemirror_mode": {
    "name": "ipython",
    "version": 3
   },
   "file_extension": ".py",
   "mimetype": "text/x-python",
   "name": "python",
   "nbconvert_exporter": "python",
   "pygments_lexer": "ipython3",
   "version": "3.12.1"
  }
 },
 "nbformat": 4,
 "nbformat_minor": 2
}
