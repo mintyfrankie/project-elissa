{
 "cells": [
  {
   "cell_type": "code",
   "execution_count": 1,
   "metadata": {},
   "outputs": [],
   "source": [
    "from selenium import webdriver\n",
    "from selenium.webdriver.chrome.options import Options\n",
    "from selenium.webdriver.common.by import By"
   ]
  },
  {
   "cell_type": "code",
   "execution_count": 2,
   "metadata": {},
   "outputs": [],
   "source": [
    "REVIEW_URLS = [\n",
    "    \"https://www.amazon.fr/SUPVOX-serviettes-hygi%C3%A9niques-pochettes-menstruelle/product-reviews/B07XLKC4WZ/ref=cm_cr_dp_d_show_all_btm?ie=UTF8&reviewerType=all_reviews\",\n",
    "    \"https://www.amazon.fr/Always-ProFresh-Serviettes-Pochettes-Individuelles/product-reviews/B082VVRKTP/ref=cm_cr_dp_d_show_all_btm?ie=UTF8&reviewerType=all_reviews\",\n",
    "]"
   ]
  },
  {
   "cell_type": "code",
   "execution_count": 3,
   "metadata": {},
   "outputs": [],
   "source": [
    "options = Options()\n",
    "# options.add_argument(\"--headless\")\n",
    "driver = webdriver.Chrome(options=options)\n",
    "driver.get(REVIEW_URLS[0])"
   ]
  },
  {
   "cell_type": "code",
   "execution_count": 4,
   "metadata": {},
   "outputs": [
    {
     "name": "stdout",
     "output_type": "stream",
     "text": [
      "[<selenium.webdriver.remote.webelement.WebElement (session=\"a2587fd4f0a9b863e7884ea3c3800003\", element=\"723F82421FD78A2AA7ED5361F1BA14E6_element_31\")>, <selenium.webdriver.remote.webelement.WebElement (session=\"a2587fd4f0a9b863e7884ea3c3800003\", element=\"723F82421FD78A2AA7ED5361F1BA14E6_element_32\")>, <selenium.webdriver.remote.webelement.WebElement (session=\"a2587fd4f0a9b863e7884ea3c3800003\", element=\"723F82421FD78A2AA7ED5361F1BA14E6_element_33\")>, <selenium.webdriver.remote.webelement.WebElement (session=\"a2587fd4f0a9b863e7884ea3c3800003\", element=\"723F82421FD78A2AA7ED5361F1BA14E6_element_34\")>, <selenium.webdriver.remote.webelement.WebElement (session=\"a2587fd4f0a9b863e7884ea3c3800003\", element=\"723F82421FD78A2AA7ED5361F1BA14E6_element_35\")>, <selenium.webdriver.remote.webelement.WebElement (session=\"a2587fd4f0a9b863e7884ea3c3800003\", element=\"723F82421FD78A2AA7ED5361F1BA14E6_element_36\")>, <selenium.webdriver.remote.webelement.WebElement (session=\"a2587fd4f0a9b863e7884ea3c3800003\", element=\"723F82421FD78A2AA7ED5361F1BA14E6_element_37\")>, <selenium.webdriver.remote.webelement.WebElement (session=\"a2587fd4f0a9b863e7884ea3c3800003\", element=\"723F82421FD78A2AA7ED5361F1BA14E6_element_38\")>, <selenium.webdriver.remote.webelement.WebElement (session=\"a2587fd4f0a9b863e7884ea3c3800003\", element=\"723F82421FD78A2AA7ED5361F1BA14E6_element_39\")>, <selenium.webdriver.remote.webelement.WebElement (session=\"a2587fd4f0a9b863e7884ea3c3800003\", element=\"723F82421FD78A2AA7ED5361F1BA14E6_element_40\")>]\n"
     ]
    }
   ],
   "source": [
    "from scraping.spiders.review_page import get_review_cards\n",
    "\n",
    "review_cards = get_review_cards(driver)\n",
    "print(review_cards)"
   ]
  },
  {
   "cell_type": "code",
   "execution_count": 5,
   "metadata": {},
   "outputs": [
    {
     "name": "stdout",
     "output_type": "stream",
     "text": [
      "conforme\n",
      "('en France', '22 septembre 2022')\n",
      "De la... Impossible à fermer même en étant précautionneux\n",
      "('en France', '16 janvier 2023')\n",
      "Très pratique pour mettre les serviettes lavables dans votre sac à main\n",
      "('en France', '5 septembre 2022')\n",
      "Great to put in bag or case\n",
      "('au Royaume-Uni', '18 août 2022')\n",
      "I loved these bags! They are perfect for my daughters backpack and our cars. We could fit a pad and period underwear in each bag! I loved all the print options too!\n",
      "('aux États-Unis', '7 novembre 2023')\n",
      "Love these, good quality bag that fits easily 4 sanitary towels. Discreet and I really liked 3 of the designs. Shame you couldn't pick the patterns of all 4, not as keen on the floral but that's just my personal preference\n",
      "('au Royaume-Uni', '9 avril 2021')\n",
      "Daughter can now be discreet at school when she needs to pull out of her backpack.  This is a great idea for girls who are not into carrying purses/handbags.\n",
      "('aux États-Unis', '8 novembre 2022')\n",
      "These four arrived and are excellent, I use them to put masks in all my different bags excellent.👌\n",
      "('au Royaume-Uni', '8 novembre 2020')\n",
      "The zip is terrible. I bought them for my daughter but had to buy something else as the zip kept twisting so she couldn’t close the bags. I could only manage to close it when I fiddled about which isn’t very practical when out and about.\n",
      "('au Royaume-Uni', '2 octobre 2021')\n",
      "Very flimsy and zips are poor quality\n",
      "('au Royaume-Uni', '14 août 2021')\n"
     ]
    }
   ],
   "source": [
    "from scraping.spiders.review_page import get_body, get_metadata\n",
    "\n",
    "for review_card in review_cards:\n",
    "    body = get_body(review_card)\n",
    "    metadata = get_metadata(review_card)\n",
    "    print(body)\n",
    "    print(metadata)"
   ]
  },
  {
   "cell_type": "code",
   "execution_count": 23,
   "metadata": {},
   "outputs": [
    {
     "data": {
      "text/plain": [
       "['conforme',\n",
       " 'conforme',\n",
       " 'conforme',\n",
       " 'conforme',\n",
       " 'conforme',\n",
       " 'conforme',\n",
       " 'conforme',\n",
       " 'conforme',\n",
       " 'conforme',\n",
       " 'conforme']"
      ]
     },
     "execution_count": 23,
     "metadata": {},
     "output_type": "execute_result"
    }
   ],
   "source": [
    "elems = driver.find_elements(By.XPATH, \"//div[@data-hook='review']\")\n",
    "\n",
    "[get_body(elem) for elem in elems]"
   ]
  },
  {
   "cell_type": "code",
   "execution_count": null,
   "metadata": {},
   "outputs": [],
   "source": []
  }
 ],
 "metadata": {
  "kernelspec": {
   "display_name": ".venv",
   "language": "python",
   "name": "python3"
  },
  "language_info": {
   "codemirror_mode": {
    "name": "ipython",
    "version": 3
   },
   "file_extension": ".py",
   "mimetype": "text/x-python",
   "name": "python",
   "nbconvert_exporter": "python",
   "pygments_lexer": "ipython3",
   "version": "3.12.1"
  }
 },
 "nbformat": 4,
 "nbformat_minor": 2
}
