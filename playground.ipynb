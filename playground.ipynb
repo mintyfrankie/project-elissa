{
 "cells": [
  {
   "cell_type": "code",
   "execution_count": 1,
   "metadata": {},
   "outputs": [],
   "source": [
    "from scripts.converter import export_products, export_reviews"
   ]
  },
  {
   "cell_type": "code",
   "execution_count": 2,
   "metadata": {},
   "outputs": [
    {
     "name": "stdout",
     "output_type": "stream",
     "text": [
      "Queried 711 products.\n",
      "Exported products data.\n"
     ]
    }
   ],
   "source": [
    "products = export_products()"
   ]
  },
  {
   "cell_type": "code",
   "execution_count": 2,
   "metadata": {},
   "outputs": [
    {
     "name": "stdout",
     "output_type": "stream",
     "text": [
      "Queried 13750 reviews.\n",
      "Exported reviews data.\n"
     ]
    }
   ],
   "source": [
    "reviews = export_reviews()"
   ]
  },
  {
   "cell_type": "code",
   "execution_count": 3,
   "metadata": {},
   "outputs": [
    {
     "data": {
      "text/html": [
       "<div>\n",
       "<style scoped>\n",
       "    .dataframe tbody tr th:only-of-type {\n",
       "        vertical-align: middle;\n",
       "    }\n",
       "\n",
       "    .dataframe tbody tr th {\n",
       "        vertical-align: top;\n",
       "    }\n",
       "\n",
       "    .dataframe thead th {\n",
       "        text-align: right;\n",
       "    }\n",
       "</style>\n",
       "<table border=\"1\" class=\"dataframe\">\n",
       "  <thead>\n",
       "    <tr style=\"text-align: right;\">\n",
       "      <th></th>\n",
       "      <th>asin</th>\n",
       "      <th>rating</th>\n",
       "      <th>title</th>\n",
       "      <th>country</th>\n",
       "      <th>date</th>\n",
       "      <th>body</th>\n",
       "    </tr>\n",
       "  </thead>\n",
       "  <tbody>\n",
       "    <tr>\n",
       "      <th>0</th>\n",
       "      <td>B082VVRKTP</td>\n",
       "      <td>5.0</td>\n",
       "      <td>idéal pour les pertes importantes</td>\n",
       "      <td>en France</td>\n",
       "      <td>30 septembre 2023</td>\n",
       "      <td>J'ai voulu essayer cette gamme là et je pense ...</td>\n",
       "    </tr>\n",
       "    <tr>\n",
       "      <th>1</th>\n",
       "      <td>B082VVRKTP</td>\n",
       "      <td>5.0</td>\n",
       "      <td>Très bien</td>\n",
       "      <td>en France</td>\n",
       "      <td>21 décembre 2023</td>\n",
       "      <td>Très bien</td>\n",
       "    </tr>\n",
       "    <tr>\n",
       "      <th>2</th>\n",
       "      <td>B082VVRKTP</td>\n",
       "      <td>4.0</td>\n",
       "      <td>La seule marque que je tolère</td>\n",
       "      <td>en France</td>\n",
       "      <td>11 novembre 2023</td>\n",
       "      <td>Je peux rien dire je le trouve très bien et c’...</td>\n",
       "    </tr>\n",
       "    <tr>\n",
       "      <th>3</th>\n",
       "      <td>B082VVRKTP</td>\n",
       "      <td>5.0</td>\n",
       "      <td>Efficaces.</td>\n",
       "      <td>en France</td>\n",
       "      <td>12 décembre 2023</td>\n",
       "      <td>Très bien, aucune fuite, couvre les odeurs, pa...</td>\n",
       "    </tr>\n",
       "    <tr>\n",
       "      <th>4</th>\n",
       "      <td>B082VVRKTP</td>\n",
       "      <td>5.0</td>\n",
       "      <td>prix intéressant</td>\n",
       "      <td>en France</td>\n",
       "      <td>9 décembre 2023</td>\n",
       "      <td>Moins cher que dans le commerce et bon produit !</td>\n",
       "    </tr>\n",
       "    <tr>\n",
       "      <th>...</th>\n",
       "      <td>...</td>\n",
       "      <td>...</td>\n",
       "      <td>...</td>\n",
       "      <td>...</td>\n",
       "      <td>...</td>\n",
       "      <td>...</td>\n",
       "    </tr>\n",
       "    <tr>\n",
       "      <th>13745</th>\n",
       "      <td>B09WN1PZ5W</td>\n",
       "      <td>NaN</td>\n",
       "      <td>None</td>\n",
       "      <td>en Al</td>\n",
       "      <td>magne le 7 novembre 2022</td>\n",
       "      <td>Die Einlagen haben eine gute Größe und man kan...</td>\n",
       "    </tr>\n",
       "    <tr>\n",
       "      <th>13746</th>\n",
       "      <td>B09WN1PZ5W</td>\n",
       "      <td>NaN</td>\n",
       "      <td>None</td>\n",
       "      <td>en Al</td>\n",
       "      <td>magne le 6 novembre 2022</td>\n",
       "      <td>Diese Carefree Slip-Einlagen passen in normale...</td>\n",
       "    </tr>\n",
       "    <tr>\n",
       "      <th>13747</th>\n",
       "      <td>B09WN1PZ5W</td>\n",
       "      <td>NaN</td>\n",
       "      <td>None</td>\n",
       "      <td>en Al</td>\n",
       "      <td>magne le 9 novembre 2022</td>\n",
       "      <td>Diese Carefree Slipeinlagen sind flexibel und ...</td>\n",
       "    </tr>\n",
       "    <tr>\n",
       "      <th>13748</th>\n",
       "      <td>B09WN1PZ5W</td>\n",
       "      <td>NaN</td>\n",
       "      <td>None</td>\n",
       "      <td>en Al</td>\n",
       "      <td>magne le 3 novembre 2022</td>\n",
       "      <td>Die Slipeinlagen schützen ganz wunderbar vor A...</td>\n",
       "    </tr>\n",
       "    <tr>\n",
       "      <th>13749</th>\n",
       "      <td>B0983N86LC</td>\n",
       "      <td>NaN</td>\n",
       "      <td>None</td>\n",
       "      <td>en Espagne</td>\n",
       "      <td>25 août 2022</td>\n",
       "      <td>No uso otros, son una maravilla. Y no dan ning...</td>\n",
       "    </tr>\n",
       "  </tbody>\n",
       "</table>\n",
       "<p>13750 rows × 6 columns</p>\n",
       "</div>"
      ],
      "text/plain": [
       "             asin  rating                              title     country  \\\n",
       "0      B082VVRKTP     5.0  idéal pour les pertes importantes   en France   \n",
       "1      B082VVRKTP     5.0                          Très bien   en France   \n",
       "2      B082VVRKTP     4.0      La seule marque que je tolère   en France   \n",
       "3      B082VVRKTP     5.0                         Efficaces.   en France   \n",
       "4      B082VVRKTP     5.0                   prix intéressant   en France   \n",
       "...           ...     ...                                ...         ...   \n",
       "13745  B09WN1PZ5W     NaN                               None       en Al   \n",
       "13746  B09WN1PZ5W     NaN                               None       en Al   \n",
       "13747  B09WN1PZ5W     NaN                               None       en Al   \n",
       "13748  B09WN1PZ5W     NaN                               None       en Al   \n",
       "13749  B0983N86LC     NaN                               None  en Espagne   \n",
       "\n",
       "                           date  \\\n",
       "0             30 septembre 2023   \n",
       "1              21 décembre 2023   \n",
       "2              11 novembre 2023   \n",
       "3              12 décembre 2023   \n",
       "4               9 décembre 2023   \n",
       "...                         ...   \n",
       "13745  magne le 7 novembre 2022   \n",
       "13746  magne le 6 novembre 2022   \n",
       "13747  magne le 9 novembre 2022   \n",
       "13748  magne le 3 novembre 2022   \n",
       "13749              25 août 2022   \n",
       "\n",
       "                                                    body  \n",
       "0      J'ai voulu essayer cette gamme là et je pense ...  \n",
       "1                                              Très bien  \n",
       "2      Je peux rien dire je le trouve très bien et c’...  \n",
       "3      Très bien, aucune fuite, couvre les odeurs, pa...  \n",
       "4       Moins cher que dans le commerce et bon produit !  \n",
       "...                                                  ...  \n",
       "13745  Die Einlagen haben eine gute Größe und man kan...  \n",
       "13746  Diese Carefree Slip-Einlagen passen in normale...  \n",
       "13747  Diese Carefree Slipeinlagen sind flexibel und ...  \n",
       "13748  Die Slipeinlagen schützen ganz wunderbar vor A...  \n",
       "13749  No uso otros, son una maravilla. Y no dan ning...  \n",
       "\n",
       "[13750 rows x 6 columns]"
      ]
     },
     "execution_count": 3,
     "metadata": {},
     "output_type": "execute_result"
    }
   ],
   "source": [
    "reviews"
   ]
  },
  {
   "cell_type": "code",
   "execution_count": null,
   "metadata": {},
   "outputs": [],
   "source": []
  }
 ],
 "metadata": {
  "kernelspec": {
   "display_name": ".venv",
   "language": "python",
   "name": "python3"
  },
  "language_info": {
   "codemirror_mode": {
    "name": "ipython",
    "version": 3
   },
   "file_extension": ".py",
   "mimetype": "text/x-python",
   "name": "python",
   "nbconvert_exporter": "python",
   "pygments_lexer": "ipython3",
   "version": "3.12.1"
  }
 },
 "nbformat": 4,
 "nbformat_minor": 2
}
