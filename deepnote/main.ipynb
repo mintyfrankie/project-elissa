{
  "cells": [
    {
      "cell_type": "markdown",
      "source": "\n\n<h1 align=\"center\"> Project Elissa </h1>\n\n<h2 align=\"center\"> Applied Machine Learning </h2>",
      "metadata": {
        "cell_id": "b1dd61d2c7ec4d18be1bb1dddded27b3",
        "deepnote_cell_type": "markdown"
      },
      "block_group": "8e1e22ca57694ef885d2d8e4b79dd7d3"
    },
    {
      "cell_type": "code",
      "source": "import pandas as pd",
      "metadata": {
        "source_hash": "9b82ee11",
        "execution_start": 1703965550295,
        "execution_millis": 47,
        "deepnote_to_be_reexecuted": false,
        "cell_id": "7586eb5d8392467e977a6175e7c92835",
        "deepnote_cell_type": "code"
      },
      "outputs": [],
      "execution_count": 8,
      "block_group": "7586eb5d8392467e977a6175e7c92835"
    },
    {
      "cell_type": "code",
      "source": "products = pd.read_csv(\"/work/Github/data/products.csv\")\nproducts.head()",
      "metadata": {
        "source_hash": "10c0170d",
        "execution_start": 1703965550835,
        "execution_millis": 249,
        "deepnote_to_be_reexecuted": false,
        "cell_id": "fe4a8b7a173c4df0bcdd8383b6aa2b66",
        "deepnote_cell_type": "code"
      },
      "outputs": [
        {
          "output_type": "execute_result",
          "execution_count": 9,
          "data": {
            "application/vnd.deepnote.dataframe.v3+json": {
              "column_count": 7,
              "row_count": 5,
              "columns": [
                {
                  "name": "asin",
                  "dtype": "object",
                  "stats": {
                    "unique_count": 5,
                    "nan_count": 0,
                    "categories": [
                      {
                        "name": "B082VVRKTP",
                        "count": 1
                      },
                      {
                        "name": "B07YQFH15Y",
                        "count": 1
                      },
                      {
                        "name": "3 others",
                        "count": 3
                      }
                    ]
                  }
                },
                {
                  "name": "title",
                  "dtype": "object",
                  "stats": {
                    "unique_count": 5,
                    "nan_count": 0,
                    "categories": [
                      {
                        "name": "Always Maxi Serviettes Hygiéniques, ProFresh Night, 12 Serviettes Sans Ailettes, Flux Très Abondants Nuit, Cœur Ultra Absorbant et Neutralisation des Odeurs",
                        "count": 1
                      },
                      {
                        "name": "Nana Maxi Goodnight Serviettes Hygiéniques pour la Nuit, 12 Serviettes",
                        "count": 1
                      },
                      {
                        "name": "3 others",
                        "count": 3
                      }
                    ]
                  }
                },
                {
                  "name": "avg_rating",
                  "dtype": "float64",
                  "stats": {
                    "unique_count": 3,
                    "nan_count": 0,
                    "min": "4.4",
                    "max": "4.7",
                    "histogram": [
                      {
                        "bin_start": 4.4,
                        "bin_end": 4.430000000000001,
                        "count": 1
                      },
                      {
                        "bin_start": 4.430000000000001,
                        "bin_end": 4.46,
                        "count": 0
                      },
                      {
                        "bin_start": 4.46,
                        "bin_end": 4.49,
                        "count": 0
                      },
                      {
                        "bin_start": 4.49,
                        "bin_end": 4.5200000000000005,
                        "count": 2
                      },
                      {
                        "bin_start": 4.5200000000000005,
                        "bin_end": 4.550000000000001,
                        "count": 0
                      },
                      {
                        "bin_start": 4.550000000000001,
                        "bin_end": 4.58,
                        "count": 0
                      },
                      {
                        "bin_start": 4.58,
                        "bin_end": 4.61,
                        "count": 0
                      },
                      {
                        "bin_start": 4.61,
                        "bin_end": 4.640000000000001,
                        "count": 0
                      },
                      {
                        "bin_start": 4.640000000000001,
                        "bin_end": 4.67,
                        "count": 0
                      },
                      {
                        "bin_start": 4.67,
                        "bin_end": 4.7,
                        "count": 2
                      }
                    ]
                  }
                },
                {
                  "name": "brand",
                  "dtype": "object",
                  "stats": {
                    "unique_count": 3,
                    "nan_count": 0,
                    "categories": [
                      {
                        "name": "Always",
                        "count": 2
                      },
                      {
                        "name": "Nana",
                        "count": 2
                      },
                      {
                        "name": "Lansinoh",
                        "count": 1
                      }
                    ]
                  }
                },
                {
                  "name": "num_reviews",
                  "dtype": "float64",
                  "stats": {
                    "unique_count": 5,
                    "nan_count": 0,
                    "min": "255.0",
                    "max": "1029.0",
                    "histogram": [
                      {
                        "bin_start": 255,
                        "bin_end": 332.4,
                        "count": 2
                      },
                      {
                        "bin_start": 332.4,
                        "bin_end": 409.8,
                        "count": 0
                      },
                      {
                        "bin_start": 409.8,
                        "bin_end": 487.20000000000005,
                        "count": 0
                      },
                      {
                        "bin_start": 487.20000000000005,
                        "bin_end": 564.6,
                        "count": 0
                      },
                      {
                        "bin_start": 564.6,
                        "bin_end": 642,
                        "count": 0
                      },
                      {
                        "bin_start": 642,
                        "bin_end": 719.4000000000001,
                        "count": 0
                      },
                      {
                        "bin_start": 719.4000000000001,
                        "bin_end": 796.8000000000001,
                        "count": 0
                      },
                      {
                        "bin_start": 796.8000000000001,
                        "bin_end": 874.2,
                        "count": 2
                      },
                      {
                        "bin_start": 874.2,
                        "bin_end": 951.6,
                        "count": 0
                      },
                      {
                        "bin_start": 951.6,
                        "bin_end": 1029,
                        "count": 1
                      }
                    ]
                  }
                },
                {
                  "name": "price",
                  "dtype": "float64",
                  "stats": {
                    "unique_count": 5,
                    "nan_count": 0,
                    "min": "1.79",
                    "max": "3.99",
                    "histogram": [
                      {
                        "bin_start": 1.79,
                        "bin_end": 2.0100000000000002,
                        "count": 1
                      },
                      {
                        "bin_start": 2.0100000000000002,
                        "bin_end": 2.23,
                        "count": 1
                      },
                      {
                        "bin_start": 2.23,
                        "bin_end": 2.45,
                        "count": 0
                      },
                      {
                        "bin_start": 2.45,
                        "bin_end": 2.67,
                        "count": 2
                      },
                      {
                        "bin_start": 2.67,
                        "bin_end": 2.89,
                        "count": 0
                      },
                      {
                        "bin_start": 2.89,
                        "bin_end": 3.1100000000000003,
                        "count": 0
                      },
                      {
                        "bin_start": 3.1100000000000003,
                        "bin_end": 3.33,
                        "count": 0
                      },
                      {
                        "bin_start": 3.33,
                        "bin_end": 3.5500000000000003,
                        "count": 0
                      },
                      {
                        "bin_start": 3.5500000000000003,
                        "bin_end": 3.7700000000000005,
                        "count": 0
                      },
                      {
                        "bin_start": 3.7700000000000005,
                        "bin_end": 3.99,
                        "count": 1
                      }
                    ]
                  }
                },
                {
                  "name": "unities",
                  "dtype": "float64",
                  "stats": {
                    "unique_count": 4,
                    "nan_count": 0,
                    "min": "9.0",
                    "max": "16.0",
                    "histogram": [
                      {
                        "bin_start": 9,
                        "bin_end": 9.7,
                        "count": 1
                      },
                      {
                        "bin_start": 9.7,
                        "bin_end": 10.4,
                        "count": 1
                      },
                      {
                        "bin_start": 10.4,
                        "bin_end": 11.1,
                        "count": 0
                      },
                      {
                        "bin_start": 11.1,
                        "bin_end": 11.8,
                        "count": 0
                      },
                      {
                        "bin_start": 11.8,
                        "bin_end": 12.5,
                        "count": 2
                      },
                      {
                        "bin_start": 12.5,
                        "bin_end": 13.2,
                        "count": 0
                      },
                      {
                        "bin_start": 13.2,
                        "bin_end": 13.899999999999999,
                        "count": 0
                      },
                      {
                        "bin_start": 13.899999999999999,
                        "bin_end": 14.6,
                        "count": 0
                      },
                      {
                        "bin_start": 14.6,
                        "bin_end": 15.3,
                        "count": 0
                      },
                      {
                        "bin_start": 15.3,
                        "bin_end": 16,
                        "count": 1
                      }
                    ]
                  }
                },
                {
                  "name": "_deepnote_index_column",
                  "dtype": "int64"
                }
              ],
              "rows": [
                {
                  "asin": "B082VVRKTP",
                  "title": "Always Maxi Serviettes Hygiéniques, ProFresh Night, 12 Serviettes Sans Ailettes, Flux Très Abondants Nuit, Cœur Ultra Absorbant et Neutralisation des Odeurs",
                  "avg_rating": 4.4,
                  "brand": "Always",
                  "num_reviews": 1029,
                  "price": 1.79,
                  "unities": 12,
                  "_deepnote_index_column": 0
                },
                {
                  "asin": "B07YQFH15Y",
                  "title": "Nana Maxi Goodnight Serviettes Hygiéniques pour la Nuit, 12 Serviettes",
                  "avg_rating": 4.7,
                  "brand": "Nana",
                  "num_reviews": 799,
                  "price": 2.06,
                  "unities": 12,
                  "_deepnote_index_column": 1
                },
                {
                  "asin": "B0BV2WJZ3N",
                  "title": "Lansinoh Serviettes maternité I Extra absorbantes I Dès l'accouchement",
                  "avg_rating": 4.5,
                  "brand": "Lansinoh",
                  "num_reviews": 299,
                  "price": 3.99,
                  "unities": 10,
                  "_deepnote_index_column": 2
                },
                {
                  "asin": "B09T75Y3HN",
                  "title": "Always Maxi Serviettes Hygiéniques, Taille 3, Night, 16 Serviettes Avec Ailettes, Flux Très Abondants Nuit, Cœur Ultra Absorbant et Barrières Anti-Fuites",
                  "avg_rating": 4.5,
                  "brand": "Always",
                  "num_reviews": 255,
                  "price": 2.45,
                  "unities": 16,
                  "_deepnote_index_column": 3
                },
                {
                  "asin": "B09WB6LBGC",
                  "title": "Nana Ultra Extra-Large Avec Ailettes Flux Très Abondants Plus, 9 Serviettes",
                  "avg_rating": 4.7,
                  "brand": "Nana",
                  "num_reviews": 852,
                  "price": 2.59,
                  "unities": 9,
                  "_deepnote_index_column": 4
                }
              ]
            },
            "text/plain": "         asin                                              title  avg_rating  \\\n0  B082VVRKTP  Always Maxi Serviettes Hygiéniques, ProFresh N...         4.4   \n1  B07YQFH15Y  Nana Maxi Goodnight Serviettes Hygiéniques pou...         4.7   \n2  B0BV2WJZ3N  Lansinoh Serviettes maternité I Extra absorban...         4.5   \n3  B09T75Y3HN  Always Maxi Serviettes Hygiéniques, Taille 3, ...         4.5   \n4  B09WB6LBGC  Nana Ultra Extra-Large Avec Ailettes Flux Très...         4.7   \n\n      brand  num_reviews  price  unities  \n0    Always       1029.0   1.79     12.0  \n1      Nana        799.0   2.06     12.0  \n2  Lansinoh        299.0   3.99     10.0  \n3    Always        255.0   2.45     16.0  \n4      Nana        852.0   2.59      9.0  ",
            "text/html": "<div>\n<style scoped>\n    .dataframe tbody tr th:only-of-type {\n        vertical-align: middle;\n    }\n\n    .dataframe tbody tr th {\n        vertical-align: top;\n    }\n\n    .dataframe thead th {\n        text-align: right;\n    }\n</style>\n<table border=\"1\" class=\"dataframe\">\n  <thead>\n    <tr style=\"text-align: right;\">\n      <th></th>\n      <th>asin</th>\n      <th>title</th>\n      <th>avg_rating</th>\n      <th>brand</th>\n      <th>num_reviews</th>\n      <th>price</th>\n      <th>unities</th>\n    </tr>\n  </thead>\n  <tbody>\n    <tr>\n      <th>0</th>\n      <td>B082VVRKTP</td>\n      <td>Always Maxi Serviettes Hygiéniques, ProFresh N...</td>\n      <td>4.4</td>\n      <td>Always</td>\n      <td>1029.0</td>\n      <td>1.79</td>\n      <td>12.0</td>\n    </tr>\n    <tr>\n      <th>1</th>\n      <td>B07YQFH15Y</td>\n      <td>Nana Maxi Goodnight Serviettes Hygiéniques pou...</td>\n      <td>4.7</td>\n      <td>Nana</td>\n      <td>799.0</td>\n      <td>2.06</td>\n      <td>12.0</td>\n    </tr>\n    <tr>\n      <th>2</th>\n      <td>B0BV2WJZ3N</td>\n      <td>Lansinoh Serviettes maternité I Extra absorban...</td>\n      <td>4.5</td>\n      <td>Lansinoh</td>\n      <td>299.0</td>\n      <td>3.99</td>\n      <td>10.0</td>\n    </tr>\n    <tr>\n      <th>3</th>\n      <td>B09T75Y3HN</td>\n      <td>Always Maxi Serviettes Hygiéniques, Taille 3, ...</td>\n      <td>4.5</td>\n      <td>Always</td>\n      <td>255.0</td>\n      <td>2.45</td>\n      <td>16.0</td>\n    </tr>\n    <tr>\n      <th>4</th>\n      <td>B09WB6LBGC</td>\n      <td>Nana Ultra Extra-Large Avec Ailettes Flux Très...</td>\n      <td>4.7</td>\n      <td>Nana</td>\n      <td>852.0</td>\n      <td>2.59</td>\n      <td>9.0</td>\n    </tr>\n  </tbody>\n</table>\n</div>"
          },
          "metadata": {}
        }
      ],
      "execution_count": 9,
      "block_group": "c9b3e86630ec4637bcc2082d1c002b80"
    },
    {
      "cell_type": "code",
      "source": "reviews = pd.read_csv(\"/work/Github/data/reviews.csv\")\nreviews.head()",
      "metadata": {
        "source_hash": "1b83049",
        "execution_start": 1703965551809,
        "execution_millis": 264,
        "deepnote_to_be_reexecuted": false,
        "cell_id": "c8e5de9eafe84c08b1d77fd912101115",
        "deepnote_cell_type": "code"
      },
      "outputs": [
        {
          "output_type": "execute_result",
          "execution_count": 10,
          "data": {
            "application/vnd.deepnote.dataframe.v3+json": {
              "column_count": 6,
              "row_count": 5,
              "columns": [
                {
                  "name": "asin",
                  "dtype": "object",
                  "stats": {
                    "unique_count": 1,
                    "nan_count": 0,
                    "categories": [
                      {
                        "name": "B082VVRKTP",
                        "count": 5
                      }
                    ]
                  }
                },
                {
                  "name": "rating",
                  "dtype": "float64",
                  "stats": {
                    "unique_count": 2,
                    "nan_count": 0,
                    "min": "4.0",
                    "max": "5.0",
                    "histogram": [
                      {
                        "bin_start": 4,
                        "bin_end": 4.1,
                        "count": 1
                      },
                      {
                        "bin_start": 4.1,
                        "bin_end": 4.2,
                        "count": 0
                      },
                      {
                        "bin_start": 4.2,
                        "bin_end": 4.3,
                        "count": 0
                      },
                      {
                        "bin_start": 4.3,
                        "bin_end": 4.4,
                        "count": 0
                      },
                      {
                        "bin_start": 4.4,
                        "bin_end": 4.5,
                        "count": 0
                      },
                      {
                        "bin_start": 4.5,
                        "bin_end": 4.6,
                        "count": 0
                      },
                      {
                        "bin_start": 4.6,
                        "bin_end": 4.7,
                        "count": 0
                      },
                      {
                        "bin_start": 4.7,
                        "bin_end": 4.8,
                        "count": 0
                      },
                      {
                        "bin_start": 4.8,
                        "bin_end": 4.9,
                        "count": 0
                      },
                      {
                        "bin_start": 4.9,
                        "bin_end": 5,
                        "count": 4
                      }
                    ]
                  }
                },
                {
                  "name": "title",
                  "dtype": "object",
                  "stats": {
                    "unique_count": 5,
                    "nan_count": 0,
                    "categories": [
                      {
                        "name": "idéal pour les pertes importantes",
                        "count": 1
                      },
                      {
                        "name": "Très bien",
                        "count": 1
                      },
                      {
                        "name": "3 others",
                        "count": 3
                      }
                    ]
                  }
                },
                {
                  "name": "country",
                  "dtype": "object",
                  "stats": {
                    "unique_count": 1,
                    "nan_count": 0,
                    "categories": [
                      {
                        "name": "en France",
                        "count": 5
                      }
                    ]
                  }
                },
                {
                  "name": "date",
                  "dtype": "object",
                  "stats": {
                    "unique_count": 5,
                    "nan_count": 0,
                    "categories": [
                      {
                        "name": "30 septembre 2023",
                        "count": 1
                      },
                      {
                        "name": "21 décembre 2023",
                        "count": 1
                      },
                      {
                        "name": "3 others",
                        "count": 3
                      }
                    ]
                  }
                },
                {
                  "name": "body",
                  "dtype": "object",
                  "stats": {
                    "unique_count": 5,
                    "nan_count": 0,
                    "categories": [
                      {
                        "name": "J'ai voulu essayer cette gamme là et je pense en racheter une prochaine fois, surtout pour les nuits, car certes plus grosses que les normales, donc moins esthétiques/pratiques, mais du coup plus absorbantes et moins de \"carnages\" le lendemain au réveil que les classiques que j'utilisais!Jamais déçue par cette marque de toute façon! Seul bémol, c'est les prix d'Always par rapport à certaines de ses concurrentes. Surtout que, pour ma part, j'en utilise pas mal et pas juste sur 3 jours! Donc cela me revient cher à force!Mais certaines sont moins absorbantes voire malodorantes par rapport à la gamme d'Always, donc plus de serviettes utilisées! je me persuade donc souvent psychologiquement, à chaque fois que, pour des raisons budgétaires j'en utilise d'autres plus bons marchés, qu'elles restent les plus adaptées pour moi et revient toujours à cette marque même si mon porte-monnaie me crie dessus et que pour des raisons de confort notamment, je préfère me priver ailleurs et utiliser cette marque là!Pour ma part, toujours privilégier celles avec les ailettes, pour un meilleur maintient de la serviette, de taille longue, car sinon trop mise en avant ou arrière et donc des catastrophes en perspectives.... Certaines d'entre vous se reconnaîtront peut-être ;-)Donc acheter la marque always est le mieux, si on peut se le permettre financièrement parlant bien sûr!",
                        "count": 1
                      },
                      {
                        "name": "Très bien",
                        "count": 1
                      },
                      {
                        "name": "3 others",
                        "count": 3
                      }
                    ]
                  }
                },
                {
                  "name": "_deepnote_index_column",
                  "dtype": "int64"
                }
              ],
              "rows": [
                {
                  "asin": "B082VVRKTP",
                  "rating": 5,
                  "title": "idéal pour les pertes importantes",
                  "country": "en France",
                  "date": "30 septembre 2023",
                  "body": "J'ai voulu essayer cette gamme là et je pense en racheter une prochaine fois, surtout pour les nuits, car certes plus grosses que les normales, donc moins esthétiques/pratiques, mais du coup plus absorbantes et moins de \"carnages\" le lendemain au réveil que les classiques que j'utilisais!Jamais déçue par cette marque de toute façon! Seul bémol, c'est les prix d'Always par rapport à certaines de ses concurrentes. Surtout que, pour ma part, j'en utilise pas mal et pas juste sur 3 jours! Donc cela me revient cher à force!Mais certaines sont moins absorbantes voire malodorantes par rapport à la gamme d'Always, donc plus de serviettes utilisées! je me persuade donc souvent psychologiquement, à chaque fois que, pour des raisons budgétaires j'en utilise d'autres plus bons marchés, qu'elles restent les plus adaptées pour moi et revient toujours à cette marque même si mon porte-monnaie me crie dessus et que pour des raisons de confort notamment, je préfère me priver ailleurs et utiliser cette …",
                  "_deepnote_index_column": 0
                },
                {
                  "asin": "B082VVRKTP",
                  "rating": 5,
                  "title": "Très bien",
                  "country": "en France",
                  "date": "21 décembre 2023",
                  "body": "Très bien",
                  "_deepnote_index_column": 1
                },
                {
                  "asin": "B082VVRKTP",
                  "rating": 4,
                  "title": "La seule marque que je tolère",
                  "country": "en France",
                  "date": "11 novembre 2023",
                  "body": "Je peux rien dire je le trouve très bien et c’est le seul que je tolère",
                  "_deepnote_index_column": 2
                },
                {
                  "asin": "B082VVRKTP",
                  "rating": 5,
                  "title": "Efficaces.",
                  "country": "en France",
                  "date": "12 décembre 2023",
                  "body": "Très bien, aucune fuite, couvre les odeurs, parfait.",
                  "_deepnote_index_column": 3
                },
                {
                  "asin": "B082VVRKTP",
                  "rating": 5,
                  "title": "prix intéressant",
                  "country": "en France",
                  "date": "9 décembre 2023",
                  "body": "Moins cher que dans le commerce et bon produit !",
                  "_deepnote_index_column": 4
                }
              ]
            },
            "text/plain": "         asin  rating                              title    country  \\\n0  B082VVRKTP     5.0  idéal pour les pertes importantes  en France   \n1  B082VVRKTP     5.0                          Très bien  en France   \n2  B082VVRKTP     4.0      La seule marque que je tolère  en France   \n3  B082VVRKTP     5.0                         Efficaces.  en France   \n4  B082VVRKTP     5.0                   prix intéressant  en France   \n\n                date                                               body  \n0  30 septembre 2023  J'ai voulu essayer cette gamme là et je pense ...  \n1   21 décembre 2023                                          Très bien  \n2   11 novembre 2023  Je peux rien dire je le trouve très bien et c’...  \n3   12 décembre 2023  Très bien, aucune fuite, couvre les odeurs, pa...  \n4    9 décembre 2023   Moins cher que dans le commerce et bon produit !  ",
            "text/html": "<div>\n<style scoped>\n    .dataframe tbody tr th:only-of-type {\n        vertical-align: middle;\n    }\n\n    .dataframe tbody tr th {\n        vertical-align: top;\n    }\n\n    .dataframe thead th {\n        text-align: right;\n    }\n</style>\n<table border=\"1\" class=\"dataframe\">\n  <thead>\n    <tr style=\"text-align: right;\">\n      <th></th>\n      <th>asin</th>\n      <th>rating</th>\n      <th>title</th>\n      <th>country</th>\n      <th>date</th>\n      <th>body</th>\n    </tr>\n  </thead>\n  <tbody>\n    <tr>\n      <th>0</th>\n      <td>B082VVRKTP</td>\n      <td>5.0</td>\n      <td>idéal pour les pertes importantes</td>\n      <td>en France</td>\n      <td>30 septembre 2023</td>\n      <td>J'ai voulu essayer cette gamme là et je pense ...</td>\n    </tr>\n    <tr>\n      <th>1</th>\n      <td>B082VVRKTP</td>\n      <td>5.0</td>\n      <td>Très bien</td>\n      <td>en France</td>\n      <td>21 décembre 2023</td>\n      <td>Très bien</td>\n    </tr>\n    <tr>\n      <th>2</th>\n      <td>B082VVRKTP</td>\n      <td>4.0</td>\n      <td>La seule marque que je tolère</td>\n      <td>en France</td>\n      <td>11 novembre 2023</td>\n      <td>Je peux rien dire je le trouve très bien et c’...</td>\n    </tr>\n    <tr>\n      <th>3</th>\n      <td>B082VVRKTP</td>\n      <td>5.0</td>\n      <td>Efficaces.</td>\n      <td>en France</td>\n      <td>12 décembre 2023</td>\n      <td>Très bien, aucune fuite, couvre les odeurs, pa...</td>\n    </tr>\n    <tr>\n      <th>4</th>\n      <td>B082VVRKTP</td>\n      <td>5.0</td>\n      <td>prix intéressant</td>\n      <td>en France</td>\n      <td>9 décembre 2023</td>\n      <td>Moins cher que dans le commerce et bon produit !</td>\n    </tr>\n  </tbody>\n</table>\n</div>"
          },
          "metadata": {}
        }
      ],
      "execution_count": 10,
      "block_group": "cdcb063d9d644e1dafb019d09575a212"
    },
    {
      "cell_type": "markdown",
      "source": "<a style='text-decoration:none;line-height:16px;display:flex;color:#5B5B62;padding:10px;justify-content:end;' href='https://deepnote.com?utm_source=created-in-deepnote-cell&projectId=c69eda90-f722-440e-858d-daa6941ca74f' target=\"_blank\">\n<img alt='Created in deepnote.com' style='display:inline;max-height:16px;margin:0px;margin-right:7.5px;' src='data:image/svg+xml;base64,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' > </img>\nCreated in <span style='font-weight:600;margin-left:4px;'>Deepnote</span></a>",
      "metadata": {
        "created_in_deepnote_cell": true,
        "deepnote_cell_type": "markdown"
      }
    }
  ],
  "nbformat": 4,
  "nbformat_minor": 0,
  "metadata": {
    "deepnote": {},
    "orig_nbformat": 2,
    "deepnote_notebook_id": "ffbb30e444d04e19b0ad6756205a4159",
    "deepnote_execution_queue": []
  }
}