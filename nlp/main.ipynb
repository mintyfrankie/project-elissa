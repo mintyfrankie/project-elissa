{
 "cells": [
  {
   "cell_type": "markdown",
   "metadata": {},
   "source": [
    "# Project Elissa - NLP Playground\n"
   ]
  },
  {
   "cell_type": "code",
   "execution_count": 3,
   "metadata": {},
   "outputs": [],
   "source": [
    "import re\n",
    "import pandas as pd\n",
    "from langdetect import detect, LangDetectException\n",
    "import nltk\n",
    "import spacy\n",
    "import gensim\n",
    "from gensim import corpora\n"
   ]
  },
  {
   "cell_type": "code",
   "execution_count": 5,
   "metadata": {},
   "outputs": [],
   "source": [
    "df_products = pd.read_csv(\"../data/products.csv\")\n",
    "df_reviews = pd.read_csv(\"../data/reviews.csv\")\n"
   ]
  },
  {
   "cell_type": "markdown",
   "metadata": {},
   "source": [
    "## Language Detection\n"
   ]
  },
  {
   "cell_type": "code",
   "execution_count": 3,
   "metadata": {},
   "outputs": [],
   "source": [
    "def detect_language(body: str | None) -> str:\n",
    "    \"\"\"Detect language of a string.\"\"\"\n",
    "\n",
    "    if body is None:\n",
    "        return None\n",
    "    try:\n",
    "        return detect(body)\n",
    "    except LangDetectException:\n",
    "        return None\n",
    "\n",
    "\n",
    "df_reviews[\"language\"] = df_reviews[\"body\"].apply(detect_language)\n"
   ]
  },
  {
   "cell_type": "code",
   "execution_count": 4,
   "metadata": {},
   "outputs": [
    {
     "data": {
      "text/plain": [
       "language\n",
       "fr    3998\n",
       "en    3575\n",
       "de    2127\n",
       "it    1325\n",
       "es    1182\n",
       "Name: count, dtype: int64"
      ]
     },
     "execution_count": 4,
     "metadata": {},
     "output_type": "execute_result"
    }
   ],
   "source": [
    "# Display languages that have more than 100 reviews\n",
    "df_reviews[\"language\"].value_counts().loc[lambda x: x > 100]\n"
   ]
  },
  {
   "cell_type": "markdown",
   "metadata": {},
   "source": [
    "## Theme Modelling\n",
    "\n",
    "- [Difference bewteen LSA and LDA - Medium](https://medium.com/@sujathamudadla1213/difference-between-lda-and-lsa-f7fefa6b4bfd)\n",
    "\n",
    "We will proceed with only French for the time being.\n"
   ]
  },
  {
   "cell_type": "code",
   "execution_count": 5,
   "metadata": {},
   "outputs": [],
   "source": [
    "LANG_EN = {\"long\": \"english\", \"short\": \"en\", \"spacy\": \"en_core_web_sm\"}\n",
    "LANG = {\"long\": \"french\", \"short\": \"fr\", \"spacy\": \"fr_core_news_sm\"}\n"
   ]
  },
  {
   "cell_type": "markdown",
   "metadata": {},
   "source": [
    "### Text Cleaning\n"
   ]
  },
  {
   "cell_type": "code",
   "execution_count": 16,
   "metadata": {},
   "outputs": [
    {
     "name": "stderr",
     "output_type": "stream",
     "text": [
      "[nltk_data] Downloading package stopwords to\n",
      "[nltk_data]     /Users/yunan.wang/nltk_data...\n",
      "[nltk_data]   Package stopwords is already up-to-date!\n"
     ]
    }
   ],
   "source": [
    "nltk.download(\"stopwords\")\n",
    "\n",
    "df = df_reviews.query(\"language == 'en'\")\n",
    "stop_words = nltk.corpus.stopwords.words(LANG[\"long\"])\n"
   ]
  },
  {
   "cell_type": "code",
   "execution_count": 17,
   "metadata": {},
   "outputs": [],
   "source": [
    "def clean_text(text: str | None) -> str:\n",
    "    \"\"\"\n",
    "    Clean text by removing non-alphabetic characters,\n",
    "    shortwords and multiple spaces.\n",
    "    \"\"\"\n",
    "\n",
    "    if text is None:\n",
    "        return None\n",
    "\n",
    "    # remove everything except alphabets (accents included)\n",
    "    text = re.sub(r\"[^a-zA-ZÀ-ÿ]\", \" \", text)\n",
    "    # remove shortwords (length <= 3)\n",
    "    text = \" \".join([word for word in text.split() if len(word) > 3])\n",
    "    # remove multiple spaces\n",
    "    text = \" \".join(text.split())\n",
    "    # lowercase\n",
    "    text = text.lower()\n",
    "\n",
    "    return text\n"
   ]
  },
  {
   "cell_type": "code",
   "execution_count": 18,
   "metadata": {},
   "outputs": [],
   "source": [
    "def remove_stopwords(text: str | None) -> str:\n",
    "    \"\"\"Remove stopwords from text.\"\"\"\n",
    "\n",
    "    if text is None:\n",
    "        return None\n",
    "\n",
    "    text = \" \".join([word for word in text.split() if word not in stop_words])\n",
    "\n",
    "    return text\n"
   ]
  },
  {
   "cell_type": "code",
   "execution_count": 19,
   "metadata": {},
   "outputs": [],
   "source": [
    "doc_cleaned = df[\"body\"].apply(clean_text).apply(remove_stopwords)\n"
   ]
  },
  {
   "cell_type": "markdown",
   "metadata": {},
   "source": [
    "### LSA (Latent Semantic Analysis)\n"
   ]
  },
  {
   "cell_type": "code",
   "execution_count": 20,
   "metadata": {},
   "outputs": [],
   "source": [
    "def train_LSA(texts: pd.Series, lang: str = LANG[\"long\"]) -> dict[int, list[str]]:\n",
    "    \"\"\"Train Latent Semantic Analysis model to extract topics from texts.\"\"\"\n",
    "\n",
    "    from sklearn.feature_extraction.text import TfidfVectorizer\n",
    "    from sklearn.decomposition import TruncatedSVD\n",
    "\n",
    "    stopwords = nltk.corpus.stopwords.words(lang)\n",
    "    vectorizer = TfidfVectorizer(\n",
    "        stop_words=stopwords,\n",
    "        max_features=1000,\n",
    "        max_df=0.5,\n",
    "        smooth_idf=True,\n",
    "    )\n",
    "\n",
    "    X = vectorizer.fit_transform(texts)\n",
    "    svd_model = TruncatedSVD(\n",
    "        n_components=10, algorithm=\"randomized\", n_iter=100, random_state=122\n",
    "    )\n",
    "    svd_model.fit(X)\n",
    "    terms = vectorizer.get_feature_names_out()\n",
    "\n",
    "    topics = {}\n",
    "    for i, comp in enumerate(svd_model.components_):\n",
    "        terms_comp = zip(terms, comp)\n",
    "        sorted_terms = sorted(terms_comp, key=lambda x: x[1], reverse=True)[:7]\n",
    "        topics[i] = [t[0] for t in sorted_terms]\n",
    "    return topics\n"
   ]
  },
  {
   "cell_type": "code",
   "execution_count": 21,
   "metadata": {},
   "outputs": [],
   "source": [
    "LSA_result = train_LSA(doc_cleaned)\n"
   ]
  },
  {
   "cell_type": "code",
   "execution_count": 22,
   "metadata": {},
   "outputs": [
    {
     "data": {
      "text/plain": [
       "{0: ['product', 'good', 'great', 'like', 'comfortable', 'easy', 'cups'],\n",
       " 1: ['good', 'product', 'great', 'quality', 'price', 'value', 'comfortable'],\n",
       " 2: ['great', 'product', 'easy', 'comfortable', 'love', 'organic', 'tampons'],\n",
       " 3: ['comfortable',\n",
       "  'easy',\n",
       "  'product',\n",
       "  'clean',\n",
       "  'menstrual',\n",
       "  'remove',\n",
       "  'effective'],\n",
       " 4: ['product', 'disc', 'first', 'using', 'time', 'period', 'inside'],\n",
       " 5: ['love',\n",
       "  'organic',\n",
       "  'tampons',\n",
       "  'applicator',\n",
       "  'plastic',\n",
       "  'comfortable',\n",
       "  'cotton'],\n",
       " 6: ['love', 'easy', 'clean', 'quality', 'works', 'good', 'recommend'],\n",
       " 7: ['love', 'size', 'well', 'comfortable', 'small', 'liners', 'soft'],\n",
       " 8: ['easy', 'small', 'well', 'size', 'liners', 'plastic', 'would'],\n",
       " 9: ['size', 'small', 'applicator', 'tampons', 'perfect', 'large', 'organic']}"
      ]
     },
     "execution_count": 22,
     "metadata": {},
     "output_type": "execute_result"
    }
   ],
   "source": [
    "LSA_result\n"
   ]
  },
  {
   "cell_type": "markdown",
   "metadata": {},
   "source": [
    "### LDA (Latent Dirichlet Allocation)\n"
   ]
  },
  {
   "cell_type": "code",
   "execution_count": 23,
   "metadata": {},
   "outputs": [
    {
     "name": "stdout",
     "output_type": "stream",
     "text": [
      "Collecting en-core-web-sm==3.7.1\n",
      "  Downloading https://github.com/explosion/spacy-models/releases/download/en_core_web_sm-3.7.1/en_core_web_sm-3.7.1-py3-none-any.whl (12.8 MB)\n",
      "\u001b[2K     \u001b[90m━━━━━━━━━━━━━━━━━━━━━━━━━━━━━━━━━━━━━━━━\u001b[0m \u001b[32m12.8/12.8 MB\u001b[0m \u001b[31m74.1 MB/s\u001b[0m eta \u001b[36m0:00:00\u001b[0m00:01\u001b[0m0:01\u001b[0m\n",
      "\u001b[?25hRequirement already satisfied: spacy<3.8.0,>=3.7.2 in ./.venv/lib/python3.11/site-packages (from en-core-web-sm==3.7.1) (3.7.2)\n",
      "Requirement already satisfied: spacy-legacy<3.1.0,>=3.0.11 in ./.venv/lib/python3.11/site-packages (from spacy<3.8.0,>=3.7.2->en-core-web-sm==3.7.1) (3.0.12)\n",
      "Requirement already satisfied: spacy-loggers<2.0.0,>=1.0.0 in ./.venv/lib/python3.11/site-packages (from spacy<3.8.0,>=3.7.2->en-core-web-sm==3.7.1) (1.0.5)\n",
      "Requirement already satisfied: murmurhash<1.1.0,>=0.28.0 in ./.venv/lib/python3.11/site-packages (from spacy<3.8.0,>=3.7.2->en-core-web-sm==3.7.1) (1.0.10)\n",
      "Requirement already satisfied: cymem<2.1.0,>=2.0.2 in ./.venv/lib/python3.11/site-packages (from spacy<3.8.0,>=3.7.2->en-core-web-sm==3.7.1) (2.0.8)\n",
      "Requirement already satisfied: preshed<3.1.0,>=3.0.2 in ./.venv/lib/python3.11/site-packages (from spacy<3.8.0,>=3.7.2->en-core-web-sm==3.7.1) (3.0.9)\n",
      "Requirement already satisfied: thinc<8.3.0,>=8.1.8 in ./.venv/lib/python3.11/site-packages (from spacy<3.8.0,>=3.7.2->en-core-web-sm==3.7.1) (8.2.2)\n",
      "Requirement already satisfied: wasabi<1.2.0,>=0.9.1 in ./.venv/lib/python3.11/site-packages (from spacy<3.8.0,>=3.7.2->en-core-web-sm==3.7.1) (1.1.2)\n",
      "Requirement already satisfied: srsly<3.0.0,>=2.4.3 in ./.venv/lib/python3.11/site-packages (from spacy<3.8.0,>=3.7.2->en-core-web-sm==3.7.1) (2.4.8)\n",
      "Requirement already satisfied: catalogue<2.1.0,>=2.0.6 in ./.venv/lib/python3.11/site-packages (from spacy<3.8.0,>=3.7.2->en-core-web-sm==3.7.1) (2.0.10)\n",
      "Requirement already satisfied: weasel<0.4.0,>=0.1.0 in ./.venv/lib/python3.11/site-packages (from spacy<3.8.0,>=3.7.2->en-core-web-sm==3.7.1) (0.3.4)\n",
      "Requirement already satisfied: typer<0.10.0,>=0.3.0 in ./.venv/lib/python3.11/site-packages (from spacy<3.8.0,>=3.7.2->en-core-web-sm==3.7.1) (0.9.0)\n",
      "Requirement already satisfied: smart-open<7.0.0,>=5.2.1 in ./.venv/lib/python3.11/site-packages (from spacy<3.8.0,>=3.7.2->en-core-web-sm==3.7.1) (6.4.0)\n",
      "Requirement already satisfied: tqdm<5.0.0,>=4.38.0 in ./.venv/lib/python3.11/site-packages (from spacy<3.8.0,>=3.7.2->en-core-web-sm==3.7.1) (4.66.1)\n",
      "Requirement already satisfied: requests<3.0.0,>=2.13.0 in ./.venv/lib/python3.11/site-packages (from spacy<3.8.0,>=3.7.2->en-core-web-sm==3.7.1) (2.30.0)\n",
      "Requirement already satisfied: pydantic!=1.8,!=1.8.1,<3.0.0,>=1.7.4 in ./.venv/lib/python3.11/site-packages (from spacy<3.8.0,>=3.7.2->en-core-web-sm==3.7.1) (2.5.3)\n",
      "Requirement already satisfied: jinja2 in ./.venv/lib/python3.11/site-packages (from spacy<3.8.0,>=3.7.2->en-core-web-sm==3.7.1) (3.1.2)\n",
      "Requirement already satisfied: setuptools in ./.venv/lib/python3.11/site-packages (from spacy<3.8.0,>=3.7.2->en-core-web-sm==3.7.1) (69.0.3)\n",
      "Requirement already satisfied: packaging>=20.0 in ./.venv/lib/python3.11/site-packages (from spacy<3.8.0,>=3.7.2->en-core-web-sm==3.7.1) (23.2)\n",
      "Requirement already satisfied: langcodes<4.0.0,>=3.2.0 in ./.venv/lib/python3.11/site-packages (from spacy<3.8.0,>=3.7.2->en-core-web-sm==3.7.1) (3.3.0)\n",
      "Requirement already satisfied: numpy>=1.19.0 in ./.venv/lib/python3.11/site-packages (from spacy<3.8.0,>=3.7.2->en-core-web-sm==3.7.1) (1.26.3)\n",
      "Requirement already satisfied: annotated-types>=0.4.0 in ./.venv/lib/python3.11/site-packages (from pydantic!=1.8,!=1.8.1,<3.0.0,>=1.7.4->spacy<3.8.0,>=3.7.2->en-core-web-sm==3.7.1) (0.6.0)\n",
      "Requirement already satisfied: pydantic-core==2.14.6 in ./.venv/lib/python3.11/site-packages (from pydantic!=1.8,!=1.8.1,<3.0.0,>=1.7.4->spacy<3.8.0,>=3.7.2->en-core-web-sm==3.7.1) (2.14.6)\n",
      "Requirement already satisfied: typing-extensions>=4.6.1 in ./.venv/lib/python3.11/site-packages (from pydantic!=1.8,!=1.8.1,<3.0.0,>=1.7.4->spacy<3.8.0,>=3.7.2->en-core-web-sm==3.7.1) (4.9.0)\n",
      "Requirement already satisfied: charset-normalizer<4,>=2 in ./.venv/lib/python3.11/site-packages (from requests<3.0.0,>=2.13.0->spacy<3.8.0,>=3.7.2->en-core-web-sm==3.7.1) (3.3.2)\n",
      "Requirement already satisfied: idna<4,>=2.5 in ./.venv/lib/python3.11/site-packages (from requests<3.0.0,>=2.13.0->spacy<3.8.0,>=3.7.2->en-core-web-sm==3.7.1) (3.6)\n",
      "Requirement already satisfied: urllib3<3,>=1.21.1 in ./.venv/lib/python3.11/site-packages (from requests<3.0.0,>=2.13.0->spacy<3.8.0,>=3.7.2->en-core-web-sm==3.7.1) (2.1.0)\n",
      "Requirement already satisfied: certifi>=2017.4.17 in ./.venv/lib/python3.11/site-packages (from requests<3.0.0,>=2.13.0->spacy<3.8.0,>=3.7.2->en-core-web-sm==3.7.1) (2023.11.17)\n",
      "Requirement already satisfied: blis<0.8.0,>=0.7.8 in ./.venv/lib/python3.11/site-packages (from thinc<8.3.0,>=8.1.8->spacy<3.8.0,>=3.7.2->en-core-web-sm==3.7.1) (0.7.11)\n",
      "Requirement already satisfied: confection<1.0.0,>=0.0.1 in ./.venv/lib/python3.11/site-packages (from thinc<8.3.0,>=8.1.8->spacy<3.8.0,>=3.7.2->en-core-web-sm==3.7.1) (0.1.4)\n",
      "Requirement already satisfied: click<9.0.0,>=7.1.1 in ./.venv/lib/python3.11/site-packages (from typer<0.10.0,>=0.3.0->spacy<3.8.0,>=3.7.2->en-core-web-sm==3.7.1) (8.1.7)\n",
      "Requirement already satisfied: cloudpathlib<0.17.0,>=0.7.0 in ./.venv/lib/python3.11/site-packages (from weasel<0.4.0,>=0.1.0->spacy<3.8.0,>=3.7.2->en-core-web-sm==3.7.1) (0.16.0)\n",
      "Requirement already satisfied: MarkupSafe>=2.0 in ./.venv/lib/python3.11/site-packages (from jinja2->spacy<3.8.0,>=3.7.2->en-core-web-sm==3.7.1) (2.1.3)\n",
      "Installing collected packages: en-core-web-sm\n",
      "Successfully installed en-core-web-sm-3.7.1\n",
      "\u001b[33mWARNING: There was an error checking the latest version of pip.\u001b[0m\u001b[33m\n",
      "\u001b[0m\u001b[38;5;2m✔ Download and installation successful\u001b[0m\n",
      "You can now load the package via spacy.load('en_core_web_sm')\n"
     ]
    }
   ],
   "source": [
    "!python -m spacy download {LANG[\"spacy\"]}\n",
    "nlp = spacy.load(LANG[\"spacy\"], disable=[\"parser\", \"ner\"])\n"
   ]
  },
  {
   "cell_type": "code",
   "execution_count": 24,
   "metadata": {},
   "outputs": [],
   "source": [
    "def lemmatize_text(text: str, tags=[\"NOUN\", \"ADJ\", \"VERB\"]) -> list[str]:\n",
    "    \"\"\"Lemmatize text.\"\"\"\n",
    "\n",
    "    doc = nlp(text)\n",
    "    return [token.lemma_ for token in doc if token.pos_ in tags]\n"
   ]
  },
  {
   "cell_type": "code",
   "execution_count": 25,
   "metadata": {},
   "outputs": [],
   "source": [
    "doc_lemmatized = doc_cleaned.apply(lemmatize_text)\n"
   ]
  },
  {
   "cell_type": "code",
   "execution_count": 35,
   "metadata": {},
   "outputs": [],
   "source": [
    "def train_LDA(docs: pd.Series) -> dict[str, object]:\n",
    "    docs_lemmatized = docs.apply(lemmatize_text)\n",
    "    dictionary = corpora.Dictionary(docs_lemmatized)\n",
    "    doc_term_matrix = [dictionary.doc2bow(doc) for doc in docs_lemmatized]\n",
    "    LDA = gensim.models.ldamodel.LdaModel\n",
    "    lda_model = LDA(\n",
    "        corpus=doc_term_matrix,\n",
    "        id2word=dictionary,\n",
    "        num_topics=10,\n",
    "        random_state=100,\n",
    "        chunksize=1000,\n",
    "        passes=50,\n",
    "    )\n",
    "\n",
    "    topics_df = pd.DataFrame(\n",
    "        {\n",
    "            f\"topic_{i}\": [token for token, _ in lda_model.show_topic(i, topn=10)]\n",
    "            for i in range(lda_model.num_topics)\n",
    "        }\n",
    "    )\n",
    "    output = {\n",
    "        \"model\": lda_model,\n",
    "        \"dictionary\": dictionary,\n",
    "        \"doc_term_matrix\": doc_term_matrix,\n",
    "        \"topics_df\": topics_df,\n",
    "    }\n",
    "    return output\n"
   ]
  },
  {
   "cell_type": "code",
   "execution_count": 36,
   "metadata": {},
   "outputs": [
    {
     "data": {
      "text/html": [
       "<div>\n",
       "<style scoped>\n",
       "    .dataframe tbody tr th:only-of-type {\n",
       "        vertical-align: middle;\n",
       "    }\n",
       "\n",
       "    .dataframe tbody tr th {\n",
       "        vertical-align: top;\n",
       "    }\n",
       "\n",
       "    .dataframe thead th {\n",
       "        text-align: right;\n",
       "    }\n",
       "</style>\n",
       "<table border=\"1\" class=\"dataframe\">\n",
       "  <thead>\n",
       "    <tr style=\"text-align: right;\">\n",
       "      <th></th>\n",
       "      <th>topic_0</th>\n",
       "      <th>topic_1</th>\n",
       "      <th>topic_2</th>\n",
       "      <th>topic_3</th>\n",
       "      <th>topic_4</th>\n",
       "      <th>topic_5</th>\n",
       "      <th>topic_6</th>\n",
       "      <th>topic_7</th>\n",
       "      <th>topic_8</th>\n",
       "      <th>topic_9</th>\n",
       "    </tr>\n",
       "  </thead>\n",
       "  <tbody>\n",
       "    <tr>\n",
       "      <th>0</th>\n",
       "      <td>product</td>\n",
       "      <td>false</td>\n",
       "      <td>liner</td>\n",
       "      <td>product</td>\n",
       "      <td>absorbent</td>\n",
       "      <td>tampon</td>\n",
       "      <td>use</td>\n",
       "      <td>clean</td>\n",
       "      <td>comfy</td>\n",
       "      <td>period</td>\n",
       "    </tr>\n",
       "    <tr>\n",
       "      <th>1</th>\n",
       "      <td>receive</td>\n",
       "      <td>review</td>\n",
       "      <td>pad</td>\n",
       "      <td>great</td>\n",
       "      <td>comfortable</td>\n",
       "      <td>applicator</td>\n",
       "      <td>cup</td>\n",
       "      <td>wash</td>\n",
       "      <td>wing</td>\n",
       "      <td>use</td>\n",
       "    </tr>\n",
       "    <tr>\n",
       "      <th>2</th>\n",
       "      <td>fall</td>\n",
       "      <td>playercard</td>\n",
       "      <td>thin</td>\n",
       "      <td>good</td>\n",
       "      <td>natural</td>\n",
       "      <td>organic</td>\n",
       "      <td>disc</td>\n",
       "      <td>smell</td>\n",
       "      <td>sticky</td>\n",
       "      <td>tampon</td>\n",
       "    </tr>\n",
       "    <tr>\n",
       "      <th>3</th>\n",
       "      <td>pack</td>\n",
       "      <td>vsemetric</td>\n",
       "      <td>stay</td>\n",
       "      <td>love</td>\n",
       "      <td>protection</td>\n",
       "      <td>brand</td>\n",
       "      <td>size</td>\n",
       "      <td>brand</td>\n",
       "      <td>amount</td>\n",
       "      <td>heavy</td>\n",
       "    </tr>\n",
       "    <tr>\n",
       "      <th>4</th>\n",
       "      <td>return</td>\n",
       "      <td>clientid</td>\n",
       "      <td>panty</td>\n",
       "      <td>recommend</td>\n",
       "      <td>arrive</td>\n",
       "      <td>one</td>\n",
       "      <td>small</td>\n",
       "      <td>use</td>\n",
       "      <td>moon</td>\n",
       "      <td>time</td>\n",
       "    </tr>\n",
       "    <tr>\n",
       "      <th>5</th>\n",
       "      <td>order</td>\n",
       "      <td>player</td>\n",
       "      <td>bag</td>\n",
       "      <td>use</td>\n",
       "      <td>flimsy</td>\n",
       "      <td>find</td>\n",
       "      <td>feel</td>\n",
       "      <td>work</td>\n",
       "      <td>ultra</td>\n",
       "      <td>feel</td>\n",
       "    </tr>\n",
       "    <tr>\n",
       "      <th>6</th>\n",
       "      <td>purchase</td>\n",
       "      <td>event</td>\n",
       "      <td>place</td>\n",
       "      <td>comfortable</td>\n",
       "      <td>pantie</td>\n",
       "      <td>plastic</td>\n",
       "      <td>try</td>\n",
       "      <td>good</td>\n",
       "      <td>usual</td>\n",
       "      <td>day</td>\n",
       "    </tr>\n",
       "    <tr>\n",
       "      <th>7</th>\n",
       "      <td>open</td>\n",
       "      <td>true</td>\n",
       "      <td>underwear</td>\n",
       "      <td>easy</td>\n",
       "      <td>chemical</td>\n",
       "      <td>make</td>\n",
       "      <td>menstrual</td>\n",
       "      <td>price</td>\n",
       "      <td>thick</td>\n",
       "      <td>hour</td>\n",
       "    </tr>\n",
       "    <tr>\n",
       "      <th>8</th>\n",
       "      <td>irritate</td>\n",
       "      <td>videoasinlist</td>\n",
       "      <td>stick</td>\n",
       "      <td>quality</td>\n",
       "      <td>unscented</td>\n",
       "      <td>cotton</td>\n",
       "      <td>easy</td>\n",
       "      <td>love</td>\n",
       "      <td>hygienic</td>\n",
       "      <td>leak</td>\n",
       "    </tr>\n",
       "    <tr>\n",
       "      <th>9</th>\n",
       "      <td>look</td>\n",
       "      <td>isinternal</td>\n",
       "      <td>wrap</td>\n",
       "      <td>price</td>\n",
       "      <td>package</td>\n",
       "      <td>use</td>\n",
       "      <td>make</td>\n",
       "      <td>skin</td>\n",
       "      <td>variety</td>\n",
       "      <td>take</td>\n",
       "    </tr>\n",
       "  </tbody>\n",
       "</table>\n",
       "</div>"
      ],
      "text/plain": [
       "    topic_0        topic_1    topic_2      topic_3      topic_4     topic_5  \\\n",
       "0   product          false      liner      product    absorbent      tampon   \n",
       "1   receive         review        pad        great  comfortable  applicator   \n",
       "2      fall     playercard       thin         good      natural     organic   \n",
       "3      pack      vsemetric       stay         love   protection       brand   \n",
       "4    return       clientid      panty    recommend       arrive         one   \n",
       "5     order         player        bag          use       flimsy        find   \n",
       "6  purchase          event      place  comfortable       pantie     plastic   \n",
       "7      open           true  underwear         easy     chemical        make   \n",
       "8  irritate  videoasinlist      stick      quality    unscented      cotton   \n",
       "9      look     isinternal       wrap        price      package         use   \n",
       "\n",
       "     topic_6 topic_7   topic_8 topic_9  \n",
       "0        use   clean     comfy  period  \n",
       "1        cup    wash      wing     use  \n",
       "2       disc   smell    sticky  tampon  \n",
       "3       size   brand    amount   heavy  \n",
       "4      small     use      moon    time  \n",
       "5       feel    work     ultra    feel  \n",
       "6        try    good     usual     day  \n",
       "7  menstrual   price     thick    hour  \n",
       "8       easy    love  hygienic    leak  \n",
       "9       make    skin   variety    take  "
      ]
     },
     "execution_count": 36,
     "metadata": {},
     "output_type": "execute_result"
    }
   ],
   "source": [
    "LDA_result = train_LDA(doc_cleaned)\n",
    "LDA_result[\"topics_df\"]\n"
   ]
  },
  {
   "cell_type": "code",
   "execution_count": 39,
   "metadata": {},
   "outputs": [
    {
     "data": {
      "text/html": [
       "\n",
       "<link rel=\"stylesheet\" type=\"text/css\" href=\"https://cdn.jsdelivr.net/gh/bmabey/pyLDAvis@3.4.0/pyLDAvis/js/ldavis.v1.0.0.css\">\n",
       "\n",
       "\n",
       "<div id=\"ldavis_el4562112973148963526212485\" style=\"background-color:white;\"></div>\n",
       "<script type=\"text/javascript\">\n",
       "\n",
       "var ldavis_el4562112973148963526212485_data = {\"mdsDat\": {\"x\": [-0.2219097887823219, -0.2026004855312235, -0.1602878733720531, -0.1082302212386329, 0.29792716976580086, 0.043695085776962114, 0.014883459810323692, -0.01998086935046421, 0.19182388772725906, 0.16467963519434975], \"y\": [0.08953638675882968, 0.1151531205796768, -0.015834987453723793, 0.0015904726596059685, 0.28547428393697644, -0.07699836639255778, -0.12094504249744781, -0.054740027605704386, -0.12467875612028755, -0.09855708386536804], \"topics\": [1, 2, 3, 4, 5, 6, 7, 8, 9, 10], \"cluster\": [1, 1, 1, 1, 1, 1, 1, 1, 1, 1], \"Freq\": [42.366210213650426, 23.36678858229747, 10.639134255419552, 6.223974938941114, 4.359263343294744, 3.780520262212543, 3.6158462749946447, 2.9272693745052325, 1.5185072618485258, 1.2024854928357456]}, \"tinfo\": {\"Term\": [\"product\", \"comfortable\", \"tampon\", \"false\", \"great\", \"good\", \"liner\", \"pad\", \"use\", \"period\", \"brand\", \"work\", \"clean\", \"review\", \"cup\", \"love\", \"small\", \"wear\", \"place\", \"heavy\", \"applicator\", \"make\", \"find\", \"wash\", \"organic\", \"stay\", \"easy\", \"open\", \"time\", \"size\", \"cervix\", \"large\", \"stem\", \"cup\", \"suction\", \"firm\", \"flexible\", \"pelvic\", \"process\", \"inserting\", \"beginner\", \"diva\", \"grip\", \"muscle\", \"capacity\", \"follow\", \"turn\", \"trim\", \"lumma\", \"correct\", \"tuck\", \"youtube\", \"instruction\", \"trouble\", \"error\", \"realize\", \"medical\", \"stiff\", \"teen\", \"style\", \"user\", \"size\", \"string\", \"fold\", \"disc\", \"silicone\", \"small\", \"different\", \"soft\", \"hard\", \"high\", \"menstrual\", \"insert\", \"uncomfortable\", \"try\", \"remove\", \"open\", \"disk\", \"shape\", \"pull\", \"easy\", \"find\", \"insertion\", \"feel\", \"use\", \"leak\", \"make\", \"first\", \"think\", \"give\", \"time\", \"work\", \"come\", \"little\", \"comfortable\", \"take\", \"good\", \"need\", \"life\", \"night\", \"bleed\", \"scent\", \"morning\", \"sink\", \"restroom\", \"overnight\", \"plan\", \"clothe\", \"carefree\", \"wonder\", \"saver\", \"enjoy\", \"disintegrate\", \"fluid\", \"bleeding\", \"self\", \"tired\", \"backing\", \"swim\", \"angle\", \"sleep\", \"landfill\", \"pump\", \"fence\", \"endometriosis\", \"relaxed\", \"discharge\", \"pregnant\", \"pantyliner\", \"rinse\", \"hour\", \"boil\", \"heavy\", \"period\", \"public\", \"whole\", \"change\", \"day\", \"worry\", \"shower\", \"toilet\", \"empty\", \"scare\", \"tampon\", \"blood\", \"wear\", \"go\", \"thing\", \"pad\", \"light\", \"last\", \"mess\", \"flow\", \"time\", \"take\", \"feel\", \"leak\", \"use\", \"cycle\", \"month\", \"first\", \"start\", \"know\", \"comfortable\", \"work\", \"make\", \"try\", \"remove\", \"need\", \"easy\", \"feminine\", \"trash\", \"hygiene\", \"dispose\", \"disposal\", \"impressed\", \"sterilizer\", \"rubber\", \"pocket\", \"lovely\", \"odor\", \"wrapping\", \"negative\", \"planet\", \"peesafe\", \"family\", \"mooncup\", \"fabric\", \"unable\", \"discreet\", \"finish\", \"gentle\", \"quantity\", \"urine\", \"plenty\", \"roll\", \"cord\", \"confidence\", \"safety\", \"gift\", \"value\", \"delivery\", \"quality\", \"great\", \"product\", \"price\", \"good\", \"store\", \"safe\", \"thank\", \"friendly\", \"love\", \"recommend\", \"packaging\", \"carry\", \"length\", \"cheap\", \"comfortable\", \"sanitary\", \"easy\", \"need\", \"purchase\", \"money\", \"use\", \"perfect\", \"come\", \"happy\", \"amazing\", \"buy\", \"size\", \"work\", \"wish\", \"brand\", \"make\", \"little\", \"soft\", \"clean\", \"year\", \"applicator\", \"organic\", \"bunch\", \"narrow\", \"cardboard\", \"allergic\", \"standard\", \"lily\", \"collapse\", \"kotex\", \"synthetic\", \"prepare\", \"let\", \"confortable\", \"holiday\", \"patient\", \"hide\", \"harsh\", \"supermarket\", \"fishing\", \"additional\", \"shame\", \"constant\", \"soooo\", \"bin\", \"section\", \"faulty\", \"yeast\", \"dryness\", \"lubrication\", \"inch\", \"chemical\", \"absorbency\", \"tampax\", \"cotton\", \"wrapper\", \"one\", \"expand\", \"plastic\", \"rash\", \"tampon\", \"healthy\", \"brand\", \"absorb\", \"problem\", \"regular\", \"many\", \"find\", \"useless\", \"make\", \"want\", \"back\", \"come\", \"cause\", \"natural\", \"love\", \"buying\", \"use\", \"product\", \"work\", \"need\", \"issue\", \"great\", \"change\", \"buy\", \"good\", \"try\", \"know\", \"false\", \"playercard\", \"vsemetric\", \"clientid\", \"player\", \"isinternal\", \"refmarker\", \"videoasinlist\", \"https\", \"titre\", \"image\", \"sous\", \"d\\u00e9sactiv\\u00e9\", \"clickstream\", \"clientprefix\", \"customerevent\", \"endpoint\", \"eventowner\", \"eventtype\", \"metric\", \"playertsmmetricsschemaid\", \"prod\", \"productid\", \"schemaid\", \"sessiontype\", \"vsecardsevent\", \"vsecardsplayerevent\", \"widgetmetricsschemaid\", \"ivevideoview\", \"customerid\", \"event\", \"true\", \"review\", \"test\", \"receive\", \"irritate\", \"tail\", \"description\", \"refund\", \"decent\", \"discrete\", \"nixit\", \"slim\", \"thickness\", \"service\", \"proof\", \"bleach\", \"silky\", \"reviewer\", \"ship\", \"garbage\", \"prolapse\", \"toss\", \"width\", \"postpartum\", \"door\", \"boot\", \"internet\", \"ovio\", \"unhappy\", \"label\", \"customer\", \"satisfied\", \"lightweight\", \"return\", \"accord\", \"replace\", \"picture\", \"fall\", \"ask\", \"send\", \"pack\", \"complain\", \"damage\", \"box\", \"bulky\", \"package\", \"purpose\", \"order\", \"irritation\", \"purchase\", \"product\", \"skin\", \"look\", \"open\", \"star\", \"review\", \"plastic\", \"buy\", \"version\", \"come\", \"free\", \"want\", \"liner\", \"panty\", \"bag\", \"adhesive\", \"thong\", \"layer\", \"daily\", \"bamboo\", \"breathable\", \"adhesion\", \"protect\", \"rashe\", \"adhere\", \"ingredient\", \"delicate\", \"strip\", \"peel\", \"knicker\", \"scrunch\", \"fiber\", \"moisture\", \"disgusting\", \"weight\", \"surface\", \"straight\", \"refill\", \"drawer\", \"wrap\", \"dress\", \"massive\", \"thin\", \"underwear\", \"individual\", \"stay\", \"stick\", \"cover\", \"pad\", \"absorb\", \"plastic\", \"place\", \"fact\", \"cotton\", \"contain\", \"wide\", \"wear\", \"extra\", \"thick\", \"long\", \"material\", \"small\", \"smell\", \"good\", \"worth\", \"make\", \"hold\", \"well\", \"part\", \"shop\", \"itch\", \"white\", \"describe\", \"reaction\", \"timer\", \"fiddly\", \"system\", \"absorption\", \"napkin\", \"residue\", \"opt\", \"rough\", \"embarrassing\", \"buck\", \"special\", \"cleanser\", \"calm\", \"cleaner\", \"parfum\", \"preferred\", \"sport\", \"stage\", \"overpower\", \"prompt\", \"allergy\", \"ethical\", \"impression\", \"partum\", \"bunching\", \"smell\", \"soap\", \"advertise\", \"sensitive\", \"wash\", \"skin\", \"fresh\", \"clean\", \"round\", \"washing\", \"brand\", \"price\", \"brilliant\", \"item\", \"order\", \"work\", \"keep\", \"fit\", \"use\", \"love\", \"good\", \"perfect\", \"comfortable\", \"happy\", \"nice\", \"buy\", \"year\", \"try\", \"time\", \"pad\", \"look\", \"comfy\", \"wing\", \"sticky\", \"moon\", \"usual\", \"hygienic\", \"variety\", \"collection\", \"repeat\", \"foam\", \"practical\", \"irritated\", \"lack\", \"okay\", \"absorbant\", \"fair\", \"relief\", \"toy\", \"decrease\", \"softcup\", \"grow\", \"drawback\", \"twisting\", \"band\", \"playtex\", \"canvas\", \"incredible\", \"bust\", \"nerve\", \"economical\", \"country\", \"frustration\", \"coverage\", \"ultra\", \"reliable\", \"amount\", \"deliver\", \"request\", \"thick\", \"support\", \"super\", \"overall\", \"flimsy\", \"unscented\", \"natracare\", \"crush\", \"scented\", \"fast\", \"mistake\", \"glue\", \"purchasing\", \"taking\", \"gusset\", \"reorder\", \"equivalent\", \"seventh\", \"envelope\", \"sufficient\", \"combine\", \"organyc\", \"pill\", \"unacceptable\", \"certify\", \"prevail\", \"align\", \"abit\", \"elderly\", \"going\", \"durability\", \"flower\", \"gripe\", \"done\", \"absorbent\", \"generation\", \"protection\", \"towel\", \"complete\", \"arrive\", \"natural\", \"pantie\", \"effective\", \"tear\", \"useful\", \"comfortable\", \"chemical\", \"package\", \"like\", \"monthly\", \"health\", \"throw\", \"purpose\", \"item\"], \"Freq\": [1159.0, 768.0, 777.0, 340.0, 681.0, 903.0, 308.0, 516.0, 1631.0, 775.0, 432.0, 784.0, 325.0, 385.0, 811.0, 604.0, 726.0, 472.0, 334.0, 493.0, 189.0, 858.0, 718.0, 168.0, 174.0, 186.0, 840.0, 312.0, 978.0, 841.0, 343.1323787900449, 308.72764148960425, 242.5936848897665, 808.8565013795724, 235.33722806416168, 84.65554749241414, 60.49533000201844, 60.13369336636228, 59.1453371083536, 58.004527720408376, 56.140302753200565, 55.79095968821498, 55.48008567558918, 54.21951267105514, 54.09490599357855, 52.67879039941367, 45.31036935100992, 44.60616075445298, 43.0831443461709, 43.00527435390611, 40.900902425350196, 40.867216756350665, 134.36608325594764, 39.0470843008273, 37.954214329802504, 37.78041500732742, 35.06024903453549, 34.86076542232854, 34.26987756467701, 32.34171042201343, 120.42214433333946, 748.8341295549433, 108.16252558534009, 211.88928481769716, 776.0832925947742, 136.34210718510892, 612.6757557053533, 247.21790369352203, 377.1223480930141, 144.51701034051393, 191.98965718409724, 536.3343160871697, 431.9639760356441, 202.48860524688544, 577.6180177175529, 423.8128704419853, 243.80209055408378, 106.03434232330086, 119.15037949710457, 194.2737824161438, 534.9584277371371, 463.5089294923537, 134.2158060604763, 592.5750423474612, 828.5285648289743, 475.27267389239324, 483.4174628492923, 356.36786283048366, 298.8053436035733, 292.5328865764677, 471.78581695172346, 404.88914482545704, 280.55105294736984, 276.8736686142013, 338.2586528342776, 304.6468187080363, 300.59754238563494, 255.15642875297124, 194.68733873249704, 132.42006159565193, 48.630645702333474, 36.81682921996948, 36.66085393274083, 32.38180546013136, 30.595389130300422, 28.881256069008717, 26.000232700245064, 25.295591730305315, 25.3055800834661, 23.088621424121346, 23.045374007051795, 20.22932177401917, 19.991836967575022, 19.214079733357163, 19.192768714712212, 38.54713100706214, 18.102074730230694, 17.77884959642613, 17.599640311027667, 17.455506729181273, 52.392550671408465, 16.201292389684255, 15.765806521628878, 15.409167877897097, 14.871512170780337, 14.574041543528757, 14.44141545600829, 14.410454093111797, 45.3522023452599, 48.608856154221506, 343.6711332148648, 38.64844253136522, 429.3218920121808, 644.3270754062916, 72.39659140634343, 58.45815219655374, 301.11670783442094, 351.905404965519, 122.45934667646455, 47.538697160439746, 113.65113326601333, 165.29923893705347, 24.76107684754748, 467.79691698383965, 109.75804032972086, 287.29789086377815, 277.49288791401744, 228.65195256399778, 283.07708879534204, 124.53749127994284, 139.68880773217518, 109.9109570794037, 193.80838390956347, 419.61871203091545, 301.2605198647207, 402.61555237077164, 329.7696344544074, 485.64111370343517, 151.8563182563125, 128.05571081471797, 212.51628327479457, 140.5000797523979, 144.88498957710007, 184.48043179608734, 185.7470511891487, 176.15871827996781, 172.3629719095374, 156.33713652657374, 151.5858402356635, 149.28122206728636, 52.18892312983142, 42.875890869850004, 36.573279431659216, 36.19102693754906, 27.447065403405052, 23.161621908640583, 22.856042173281605, 22.76778376988377, 22.459287449355035, 19.54885823406807, 18.196024988286723, 17.489195759998452, 17.071466984459814, 15.714778773932352, 14.592956365602609, 14.379413913557055, 14.329063047762814, 12.492092803008454, 12.237696255377532, 49.008425044627835, 11.57537434733983, 11.549334890496175, 11.119658490965698, 11.08528313397876, 10.919858573231867, 10.45994882877569, 10.442219910465145, 10.439763292679869, 10.186194455780917, 10.015065838346297, 62.687564553325565, 35.21564477195216, 147.93780431267194, 457.88422793180297, 676.0023386829173, 141.6681652733054, 457.70088654627017, 56.26523939832115, 52.71844588300731, 59.96946395597592, 59.89236927225552, 233.23363041350163, 179.44593443444975, 54.93786805635182, 38.130380849766475, 31.422726052324794, 42.67189130003182, 158.6161949954582, 45.73812841460871, 151.14270026686077, 118.27774244569954, 70.20772003343721, 60.08345747689534, 175.01351810313884, 65.74109780680732, 93.91066706638726, 61.102805146525505, 52.386125788123564, 70.7593950002977, 85.03334726915722, 80.98703609110163, 51.22525111133112, 66.15626736531954, 69.84479539187889, 61.597872999482554, 58.22992494789834, 53.685802251785304, 53.458142605277764, 188.34594314539004, 173.97962340331313, 42.7245528447038, 22.366387599191246, 28.765935817305994, 16.63368861933943, 15.846899207325286, 15.516533653396325, 15.911952899469078, 13.13616819482639, 11.900755001475781, 11.391245302014815, 11.353145912784118, 11.28055583315399, 10.519719918770639, 10.464051136538242, 9.449836142489028, 8.833841840026503, 8.513819514274537, 8.27295791900544, 7.682501011168871, 16.1247157399625, 7.3976073554639505, 7.3277438632707135, 7.302459367553695, 7.165709171924687, 7.072257292697038, 7.032296567496562, 6.951574607749188, 6.479129097984999, 19.358314909490986, 65.52898563246993, 34.91707661110605, 22.72833382007413, 78.65058954772988, 25.10735587963979, 123.08448274595631, 24.72688801706342, 105.73881693264606, 13.804308229120542, 258.70306163781277, 14.247036431091857, 128.02247219436316, 30.918034046271917, 61.12967220889399, 43.07773729858691, 47.084721563558766, 111.93429259117556, 19.672167176261965, 99.26582417378752, 66.0378209348404, 31.16533006418147, 63.689397620064895, 36.72490861331362, 30.84343493770919, 57.94759158190297, 23.73371690982616, 73.5065475098801, 63.06590402195601, 53.10283618246355, 48.15638709695347, 39.5125775434851, 45.588919607183634, 36.02268050368307, 35.54906761255523, 38.48396821793626, 36.847826924616484, 32.80768390349893, 339.72229338663334, 101.105744927561, 101.105744927561, 84.27191032527342, 80.56782734417001, 67.43809083808277, 67.43809083808277, 67.43809083808277, 56.42341362423208, 49.62320331198309, 43.23963686784465, 34.7514972299651, 34.61584679256378, 33.77044808492724, 33.77044808492724, 33.77044808492724, 33.77044808492724, 33.77044808492724, 33.77044808492724, 33.77044808492724, 33.77044808492724, 33.77044808492724, 33.77044808492724, 33.77044808492724, 33.77044808492724, 33.77044808492724, 33.77044808492724, 33.77044808492724, 32.78939516111514, 30.17903303634256, 72.40953690905278, 71.66859485752757, 111.58634908524935, 35.115310055529896, 69.66765289485163, 44.04811786017451, 38.636914893887976, 28.834646583957248, 27.60605932094062, 22.987206182478534, 16.754921432921993, 13.93626826651857, 13.138258890698175, 12.698966381030473, 26.281784077649675, 11.435260918122937, 10.755054198178293, 10.696830819859215, 10.64758095474217, 10.637203205109179, 9.51089334687924, 9.258099656877155, 8.626166226888703, 8.57118389834843, 8.130727199667662, 7.91583970055681, 7.796638543171349, 7.757042189061293, 7.474278619898837, 6.641102297356937, 6.5967189225548815, 25.260891083951716, 15.607830677917693, 6.064383869856479, 52.826669956605, 11.070307734751779, 17.58373389003245, 31.331877077074747, 58.15359579734906, 11.255263041327593, 28.24489022263983, 55.39100885960153, 12.981575926593734, 17.522963387405404, 22.75510900398104, 19.701138910437376, 40.110556980321604, 19.871448047423787, 50.47278955496802, 23.20766147084539, 49.4471627934182, 110.00348413593618, 28.46501616267224, 44.04387401845201, 44.53195514171363, 25.69548341602058, 40.097114324919524, 31.19792570224298, 32.50112592922706, 21.417432069011205, 24.708990118508773, 21.34417418500688, 21.068167172347408, 307.75053503496105, 76.5374835483589, 65.38091981140846, 57.885749618996, 41.84320719427776, 22.3953070547289, 18.55991308110947, 16.95658378597745, 15.843407625193244, 13.260463186029874, 13.208704060662646, 13.12855083854417, 12.507816672815643, 11.54866728159777, 7.374484310986886, 6.662031163452047, 6.661814893148941, 6.63518386952084, 6.558751515280256, 6.22705712453634, 5.909466926983563, 5.628020903837354, 4.9009307232341595, 4.452554586024354, 4.379631922680911, 4.36170146901852, 4.249396845426359, 58.32028994192342, 4.161558191667077, 3.8712587988844853, 88.81812629028708, 63.879765697085084, 14.016296551862698, 84.16975030682717, 62.66072208857833, 21.774086280818384, 148.33271726430107, 25.2801711057325, 51.89048606872379, 65.00120557749449, 28.77224067469969, 28.91399488815282, 13.598076800939232, 16.08190988858795, 54.486018066398366, 22.168226370819955, 24.466148490955323, 33.95523371308511, 28.869897686784757, 44.91644894799101, 20.84621145604095, 33.50574566442563, 22.36805542936145, 29.361451876574428, 22.341690825671957, 22.329454314609272, 21.264196130547997, 24.25064512245828, 14.693412457374249, 13.988963202108883, 23.573620818478336, 12.846829943346492, 11.448789257256019, 10.942107699828796, 10.679231117365125, 10.579504829157864, 10.524719632014271, 9.3258727006293, 9.203687285495013, 7.7810832773578404, 7.7281009510403305, 7.114763281020159, 7.034805135206411, 6.849586484054248, 6.533601336253226, 6.510532582702744, 6.04942013960373, 5.561659210346358, 5.315008465317426, 5.1829431023714525, 5.158302704742288, 4.956390687725118, 8.453457671712457, 4.519619221062478, 4.517861073105235, 4.342283530614153, 4.32296293409249, 80.26182995233441, 34.04188559957905, 16.09119559048957, 33.9977032113683, 83.99628719284992, 34.241069204413606, 19.310029237277913, 85.89161826827848, 12.767365335007302, 12.024412544323262, 77.1017539084296, 44.112968168443125, 12.279425514274577, 22.552315429611735, 31.481522292688577, 59.39818153843238, 33.01660146130316, 20.80958258886145, 64.75613093587096, 40.54388785012193, 45.63633184852285, 26.840942936224597, 33.35549550218733, 22.670229017813284, 19.72060039802098, 21.90201827328995, 21.932635358986648, 21.874702433117154, 19.473952190459784, 17.822956420751495, 16.343644449294146, 46.609469914554666, 43.14917391894647, 23.9307696270488, 16.376629528575265, 14.701168509358986, 14.190112599989153, 14.00392861870685, 13.506406900687326, 13.42673655779014, 13.08823171589059, 11.83866334537757, 11.682752936052648, 11.159181651137322, 10.959867582447965, 10.851882979383413, 10.287580123067192, 9.97438574590013, 6.977559458669664, 6.817464533267848, 6.50936884217309, 5.7635686889066795, 5.6621813788831465, 5.200092797744692, 5.143484350977176, 5.110753247873032, 4.77422351335737, 4.75168517534962, 4.459598318645299, 4.430031599513742, 4.336436124317885, 7.602074460680586, 5.757625596711907, 13.195893167430487, 15.996613865977078, 10.150711302156353, 17.41498185041551, 9.141640720608203, 7.095954016246367, 14.680368344827027, 7.544926660197277, 10.414587886352974, 7.1120497264031055, 18.4871967683968, 14.558735234563377, 12.772205458026177, 12.551336696946484, 10.771828256530027, 9.34833261975958, 8.705274232443951, 8.039025943800198, 7.5936964495101575, 7.147835872863596, 6.232314516535299, 5.511000961573462, 5.124399065023748, 4.676984850982892, 4.438014468306874, 4.119203488614153, 3.950702627084957, 3.5151882539717207, 3.4792995428714764, 2.979528634648784, 2.7914030031553243, 2.776703904782299, 2.605882228990508, 2.4793715320922534, 2.257661326003137, 2.2557439050123254, 2.154453496184505, 2.1503566309892013, 2.0630123458194096, 2.0634698115097287, 54.04399129823513, 4.361181600710659, 21.33794470692866, 13.512598889327407, 8.012553130044477, 20.923252254096592, 25.998894414768223, 17.12247355084132, 13.379138257959875, 8.403039380669897, 10.75095395766512, 53.69546368085442, 15.610337714985983, 13.83550842805023, 13.508150097379168, 6.196877929031012, 6.661761052223819, 7.288214646724208, 6.263365374863809, 6.228795509595923], \"Total\": [1159.0, 768.0, 777.0, 340.0, 681.0, 903.0, 308.0, 516.0, 1631.0, 775.0, 432.0, 784.0, 325.0, 385.0, 811.0, 604.0, 726.0, 472.0, 334.0, 493.0, 189.0, 858.0, 718.0, 168.0, 174.0, 186.0, 840.0, 312.0, 978.0, 841.0, 343.9506324532746, 309.54599532111945, 243.41193878453015, 811.5858582633241, 236.15550193778373, 85.47379493497436, 61.31360662022752, 60.95195272930143, 59.963754795337984, 58.82279662521263, 56.95856231141862, 56.609269951366834, 56.29835109819243, 55.03779896118865, 54.91315386685001, 53.49800578041692, 46.12868418547051, 45.42441510441488, 43.90139746664457, 43.82353705377079, 41.719180855846815, 41.68551403618706, 137.08364507344965, 39.865386310616046, 38.77247179877717, 38.59876835282211, 35.87853494990213, 35.67920146352986, 35.09185406144626, 33.16000295032664, 125.79639120255366, 841.7206365535843, 115.14204571204799, 232.37786874347938, 907.3347870148248, 147.84585191724364, 726.407642713699, 285.0157303395961, 449.75892859654385, 161.00695356374837, 220.54713970577143, 676.3501605511287, 543.3915761155225, 244.76858980347833, 815.0381412809201, 580.8572626830077, 312.08815977066905, 118.93863964236286, 136.46148565978203, 245.46435752099046, 840.3947851273363, 718.1328870817675, 162.61674525249862, 1053.6193604350858, 1631.9172639208743, 814.6424169700085, 858.4889750145767, 579.4206750574336, 480.36218032596605, 466.36405099794376, 978.4218660533113, 784.5525310359408, 491.7721126286174, 488.63415627496903, 768.8558171219199, 641.3766527165442, 903.270249231009, 595.8357031537905, 195.50318635724716, 133.2359880094504, 49.44652444972271, 37.63313140632571, 37.476725016536065, 33.19763404497732, 31.411237057756935, 29.697358455672624, 26.816135159837422, 26.111526345914353, 26.12211122730052, 23.904508122694484, 23.861211886432887, 21.045203840097102, 20.807920204116826, 20.02992435478235, 20.00895754798763, 40.200825796679794, 18.91788192917899, 18.59532092691076, 18.41546215917672, 18.271428864826003, 55.02385233531068, 17.01745816013227, 16.581897146650693, 16.22499322260065, 15.687413824683214, 15.389853165611969, 15.25823708220654, 15.226395357245677, 48.15397039654826, 51.65825430054684, 379.0452313913313, 41.465104229507745, 493.05335531108483, 775.840092523944, 80.09539691871836, 64.14087610722571, 362.50105240429406, 430.85757961492175, 145.18783971731958, 53.36697103059404, 139.07298036065922, 210.3498073235976, 26.507851766237355, 777.7678410584831, 148.11762453998276, 472.51393468616516, 485.922856499694, 382.81938369125726, 516.0563038111875, 185.83759109653062, 218.93030406106328, 161.99639091913866, 342.9283288335353, 978.4218660533113, 641.3766527165442, 1053.6193604350858, 814.6424169700085, 1631.9172639208743, 292.7532804746404, 237.49256478971085, 579.4206750574336, 292.5401330827815, 390.05874710104274, 768.8558171219199, 784.5525310359408, 858.4889750145767, 815.0381412809201, 580.8572626830077, 595.8357031537905, 840.3947851273363, 53.02328204618305, 43.71023558212143, 37.407598880467084, 37.02533540850399, 28.2814575808842, 23.99602854755017, 23.69037137218077, 23.602105235508496, 23.29362111958763, 20.38319151991386, 19.030402875487137, 18.32354235183686, 17.905874742793188, 16.549079446984805, 15.427286668491385, 15.213759308908365, 15.163540400011495, 13.326708079950336, 13.072044383673532, 52.41340253837751, 12.409984346095262, 12.38383873112631, 11.954079256500817, 11.919738199029537, 11.754273003626567, 11.294380495637618, 11.276631898589635, 11.274263978566387, 11.020745888724427, 10.849366254636688, 74.00236531933682, 40.37929049427649, 188.29097848090888, 681.8349318581274, 1159.6706063529102, 228.92027327891728, 903.270249231009, 81.40586080851875, 82.42910998669754, 100.41895020578922, 101.56512961367366, 604.3768845624877, 489.3750774513688, 98.71128445852109, 62.00429621042991, 48.01029072801529, 80.80061328613915, 768.8558171219199, 97.27492271683789, 840.3947851273363, 595.8357031537905, 221.44884875092717, 169.7974738320512, 1631.9172639208743, 216.1852383169318, 491.7721126286174, 186.48315722286483, 137.77871898677725, 364.9887351492766, 841.7206365535843, 784.5525310359408, 147.57535741508056, 432.3557558290657, 858.4889750145767, 488.63415627496903, 449.75892859654385, 325.90273684196717, 400.95080199047516, 189.1753774108422, 174.80908138781612, 43.554067251637896, 23.195968472180645, 30.147225554184157, 17.463147588559742, 16.6764057782465, 16.34607527259077, 16.875533371996816, 13.965823602749708, 12.730206424126976, 12.220994127341275, 12.182648439986098, 12.118794692928473, 11.349252263072538, 11.293826570804788, 10.279472152836687, 9.663336282906462, 9.343351771111244, 9.102439063468282, 8.512114699198285, 17.898023261638883, 8.227236594314974, 8.157320868037223, 8.131929582723053, 7.995232948346509, 7.901681968999986, 7.861790381429428, 7.781061435135914, 7.308843414997599, 22.97775010341142, 85.69136826324169, 44.022226687822204, 28.268804429373883, 111.15398042851416, 32.129733509826885, 202.2619162423575, 33.00215990783092, 200.20265687034163, 17.394109745498202, 777.7678410584831, 18.674200727433085, 432.3557558290657, 58.45956884969976, 197.88816100871352, 120.27066510368189, 145.47469020894883, 718.1328870817675, 32.21405962092054, 858.4889750145767, 389.43352074694195, 89.2381621341429, 491.7721126286174, 153.34493124705133, 98.55014773880578, 604.3768845624877, 53.01131645080743, 1631.9172639208743, 1159.6706063529102, 784.5525310359408, 595.8357031537905, 280.0258487321374, 681.8349318581274, 362.50105240429406, 364.9887351492766, 903.270249231009, 815.0381412809201, 390.05874710104274, 340.54576143472235, 101.92920998305175, 101.92920998305175, 85.09537538076417, 81.39129242895207, 68.26155589357352, 68.26155589357352, 68.26155589357352, 57.246886719701166, 50.446668346652785, 44.063154413068325, 35.57496228545585, 35.43931183653707, 34.59391314041798, 34.59391314041798, 34.59391314041798, 34.59391314041798, 34.59391314041798, 34.59391314041798, 34.59391314041798, 34.59391314041798, 34.59391314041798, 34.59391314041798, 34.59391314041798, 34.59391314041798, 34.59391314041798, 34.59391314041798, 34.59391314041798, 33.61286019578483, 31.002498118077845, 75.23168109600293, 94.95859202539314, 385.0382621755626, 82.28724141795034, 70.50418441909275, 44.884701357346195, 39.47348770584351, 29.671152613504518, 28.442569156070938, 23.823771403149173, 17.59154394250391, 14.772795877199012, 13.974831911435246, 13.535739008173492, 28.187494703388253, 12.271858288098612, 11.591679882252004, 11.533491195547155, 11.484168057899689, 11.473757617473872, 10.347396828601235, 10.094595270099365, 9.462855525627303, 9.407779097776261, 8.967384088119513, 8.752349173036576, 8.633136254947676, 8.593618716698465, 8.310814299497602, 7.477594473237303, 7.4333145588359875, 28.576745191171277, 17.751091703991683, 6.900885012193763, 60.272393709706314, 12.673578693620417, 21.0922901114025, 40.761830834332024, 84.81885792935735, 13.349094487611568, 43.026112459332204, 132.81718450152673, 17.289970273620447, 27.05839179989756, 41.19247639829208, 33.81315169032186, 115.9379044067091, 35.77333871269036, 193.20235760815268, 50.65357123889801, 221.44884875092717, 1159.6706063529102, 78.9978813333734, 285.26316364259867, 312.08815977066905, 83.38304945937386, 385.0382621755626, 200.20265687034163, 364.9887351492766, 67.4314070185455, 491.7721126286174, 163.20433119617186, 389.43352074694195, 308.6007952853579, 77.38772808444756, 66.23121497868271, 58.73600287897329, 42.69344593557537, 23.245570745244578, 19.41017626458936, 17.806842546988083, 16.693628380337262, 14.110731016501093, 14.058974240574681, 13.97903679018654, 13.358031031034848, 12.39907105546202, 8.224726617630374, 7.5122404795312265, 7.512018806772274, 7.485388256343313, 7.409011666283742, 7.07741174425566, 6.75985726647857, 6.478342345030593, 5.751292257151633, 5.3027789481735015, 5.230040451850601, 5.212061312569424, 5.099723301975803, 70.11479062636708, 5.011818014076952, 4.7217277187846864, 119.93410677489915, 101.13021095367495, 19.942450211638253, 186.32343324108697, 153.013827543042, 40.98292531268538, 516.0563038111875, 58.45956884969976, 200.20265687034163, 334.52955861434117, 110.0390218128872, 111.15398042851416, 28.35515532736121, 41.072006343803736, 472.51393468616516, 83.37150462268211, 104.07790696890768, 238.89715689915133, 174.38817632543743, 726.407642713699, 101.86930203362809, 903.270249231009, 155.6366077793487, 858.4889750145767, 201.92040707577144, 242.49982684020702, 138.03488255625504, 25.08851661455624, 15.53127177775762, 14.82682317217742, 25.090184776587854, 13.68464832827997, 12.286708686089645, 11.779967895519755, 11.517147764754151, 11.41744245483248, 11.362666903559004, 10.16370334579681, 10.041568180202251, 8.618941781712769, 8.566039387242713, 7.952581341209736, 7.872670415092337, 7.687380984706866, 7.371492657462317, 7.34838277994453, 6.8872836648782325, 6.399531232255122, 6.152880783948936, 6.020788230024656, 5.996126327715168, 5.794187587292329, 10.018894546921922, 5.357458703066019, 5.355698894615356, 5.1801213484908875, 5.1609400425274305, 101.86930203362809, 42.456812767654014, 20.529959748926068, 48.66190123090617, 168.63427064078132, 78.9978813333734, 37.14289322199486, 325.90273684196717, 21.803642178798064, 20.723000350623515, 432.3557558290657, 228.92027327891728, 23.637233586398548, 78.89117898551697, 193.20235760815268, 784.5525310359408, 266.00167176379205, 93.64931672110778, 1631.9172639208743, 604.3768845624877, 903.270249231009, 216.1852383169318, 768.8558171219199, 186.48315722286483, 158.86867591627228, 364.9887351492766, 400.95080199047516, 815.0381412809201, 978.4218660533113, 516.0563038111875, 285.26316364259867, 47.45448677314073, 43.99422800156417, 24.77581598328144, 17.2216535983978, 15.546210415188506, 15.035106125206507, 14.849008060661328, 14.351412067036119, 14.27183261320039, 13.933320313116704, 12.683772378655966, 12.527845288883745, 12.004261796331317, 11.804953460072376, 11.697155522192116, 11.13268748019334, 10.819558487978354, 7.822679350127377, 7.662518369374453, 7.354400591262752, 6.609163864564186, 6.5072287922535414, 6.045238060198116, 5.988512766235339, 5.955755246671653, 5.619336475062697, 5.596738687206548, 5.304734008157225, 5.275056763367812, 5.181547975085854, 9.761929417586895, 7.442029570417057, 23.605909685199197, 31.11180262868776, 19.999939255006996, 66.53275414786089, 19.127676338627786, 13.717676418755465, 104.07790696890768, 18.218968081499735, 140.7283097780854, 78.92913811285887, 19.33791848495606, 15.409488800150747, 13.622939877138133, 13.402087373262058, 11.622554471478775, 10.199047567385978, 9.55613110905167, 8.889778283053982, 8.444407268460353, 7.998632248843294, 7.0831585752969035, 6.361704904379498, 5.975162193087261, 5.527656436269927, 5.288716530047015, 4.970161732202507, 4.801428915452101, 4.365927600158618, 4.330015374943232, 3.830240673912966, 3.6420830345689814, 3.627459508248029, 3.45664751529217, 3.3300603345155344, 3.1083130729255406, 3.1064620065722863, 3.0051706718605753, 3.0011491413864952, 2.913755085123922, 2.914442838169151, 78.23840290782742, 6.856090462661338, 51.311230218576256, 29.150559654834893, 16.003684475794174, 67.2704808715205, 98.55014773880578, 55.300809159014776, 39.092595596059404, 20.263080864019976, 37.647669875442126, 768.8558171219199, 85.69136826324169, 115.9379044067091, 111.10953427026598, 16.44333349335062, 20.932341977610537, 49.14526832959619, 35.77333871269036, 78.89117898551697], \"Category\": [\"Default\", \"Default\", \"Default\", \"Default\", \"Default\", \"Default\", \"Default\", \"Default\", \"Default\", \"Default\", \"Default\", \"Default\", \"Default\", \"Default\", \"Default\", \"Default\", \"Default\", \"Default\", \"Default\", \"Default\", \"Default\", \"Default\", \"Default\", \"Default\", \"Default\", \"Default\", \"Default\", \"Default\", \"Default\", \"Default\", \"Topic1\", \"Topic1\", \"Topic1\", \"Topic1\", \"Topic1\", \"Topic1\", \"Topic1\", \"Topic1\", \"Topic1\", \"Topic1\", \"Topic1\", \"Topic1\", \"Topic1\", \"Topic1\", \"Topic1\", \"Topic1\", \"Topic1\", \"Topic1\", \"Topic1\", \"Topic1\", \"Topic1\", \"Topic1\", \"Topic1\", \"Topic1\", \"Topic1\", \"Topic1\", \"Topic1\", \"Topic1\", \"Topic1\", \"Topic1\", \"Topic1\", \"Topic1\", \"Topic1\", \"Topic1\", \"Topic1\", \"Topic1\", \"Topic1\", \"Topic1\", \"Topic1\", \"Topic1\", \"Topic1\", \"Topic1\", \"Topic1\", \"Topic1\", \"Topic1\", \"Topic1\", \"Topic1\", \"Topic1\", \"Topic1\", \"Topic1\", \"Topic1\", \"Topic1\", \"Topic1\", \"Topic1\", \"Topic1\", \"Topic1\", \"Topic1\", \"Topic1\", \"Topic1\", \"Topic1\", \"Topic1\", \"Topic1\", \"Topic1\", \"Topic1\", \"Topic1\", \"Topic1\", \"Topic1\", \"Topic1\", \"Topic2\", \"Topic2\", \"Topic2\", \"Topic2\", \"Topic2\", \"Topic2\", \"Topic2\", \"Topic2\", \"Topic2\", \"Topic2\", \"Topic2\", \"Topic2\", \"Topic2\", \"Topic2\", \"Topic2\", \"Topic2\", \"Topic2\", \"Topic2\", \"Topic2\", \"Topic2\", \"Topic2\", \"Topic2\", \"Topic2\", \"Topic2\", \"Topic2\", \"Topic2\", \"Topic2\", \"Topic2\", \"Topic2\", \"Topic2\", \"Topic2\", \"Topic2\", \"Topic2\", \"Topic2\", \"Topic2\", \"Topic2\", \"Topic2\", \"Topic2\", \"Topic2\", \"Topic2\", \"Topic2\", \"Topic2\", \"Topic2\", \"Topic2\", \"Topic2\", \"Topic2\", \"Topic2\", \"Topic2\", \"Topic2\", \"Topic2\", \"Topic2\", \"Topic2\", \"Topic2\", \"Topic2\", \"Topic2\", \"Topic2\", \"Topic2\", \"Topic2\", \"Topic2\", \"Topic2\", \"Topic2\", \"Topic2\", \"Topic2\", \"Topic2\", \"Topic2\", \"Topic2\", \"Topic2\", \"Topic2\", \"Topic2\", \"Topic2\", \"Topic2\", \"Topic2\", \"Topic3\", \"Topic3\", \"Topic3\", \"Topic3\", \"Topic3\", \"Topic3\", \"Topic3\", \"Topic3\", \"Topic3\", \"Topic3\", \"Topic3\", \"Topic3\", \"Topic3\", \"Topic3\", \"Topic3\", \"Topic3\", \"Topic3\", \"Topic3\", \"Topic3\", \"Topic3\", \"Topic3\", \"Topic3\", \"Topic3\", \"Topic3\", \"Topic3\", \"Topic3\", \"Topic3\", \"Topic3\", \"Topic3\", \"Topic3\", \"Topic3\", \"Topic3\", \"Topic3\", \"Topic3\", \"Topic3\", \"Topic3\", \"Topic3\", \"Topic3\", \"Topic3\", \"Topic3\", \"Topic3\", \"Topic3\", \"Topic3\", \"Topic3\", \"Topic3\", \"Topic3\", \"Topic3\", \"Topic3\", \"Topic3\", \"Topic3\", \"Topic3\", \"Topic3\", \"Topic3\", \"Topic3\", \"Topic3\", \"Topic3\", \"Topic3\", \"Topic3\", \"Topic3\", \"Topic3\", \"Topic3\", \"Topic3\", \"Topic3\", \"Topic3\", \"Topic3\", \"Topic3\", \"Topic3\", \"Topic3\", \"Topic4\", \"Topic4\", \"Topic4\", \"Topic4\", \"Topic4\", \"Topic4\", \"Topic4\", \"Topic4\", \"Topic4\", \"Topic4\", \"Topic4\", \"Topic4\", \"Topic4\", \"Topic4\", \"Topic4\", \"Topic4\", \"Topic4\", \"Topic4\", \"Topic4\", \"Topic4\", \"Topic4\", \"Topic4\", \"Topic4\", \"Topic4\", \"Topic4\", \"Topic4\", \"Topic4\", \"Topic4\", \"Topic4\", \"Topic4\", \"Topic4\", \"Topic4\", \"Topic4\", \"Topic4\", \"Topic4\", \"Topic4\", \"Topic4\", \"Topic4\", \"Topic4\", \"Topic4\", \"Topic4\", \"Topic4\", \"Topic4\", \"Topic4\", \"Topic4\", \"Topic4\", \"Topic4\", \"Topic4\", \"Topic4\", \"Topic4\", \"Topic4\", \"Topic4\", \"Topic4\", \"Topic4\", \"Topic4\", \"Topic4\", \"Topic4\", \"Topic4\", \"Topic4\", \"Topic4\", \"Topic4\", \"Topic4\", \"Topic4\", \"Topic4\", \"Topic4\", \"Topic4\", \"Topic4\", \"Topic4\", \"Topic5\", \"Topic5\", \"Topic5\", \"Topic5\", \"Topic5\", \"Topic5\", \"Topic5\", \"Topic5\", \"Topic5\", \"Topic5\", \"Topic5\", \"Topic5\", \"Topic5\", \"Topic5\", \"Topic5\", \"Topic5\", \"Topic5\", \"Topic5\", \"Topic5\", \"Topic5\", \"Topic5\", \"Topic5\", \"Topic5\", \"Topic5\", \"Topic5\", \"Topic5\", \"Topic5\", \"Topic5\", \"Topic5\", \"Topic5\", \"Topic5\", \"Topic5\", \"Topic5\", \"Topic5\", \"Topic6\", \"Topic6\", \"Topic6\", \"Topic6\", \"Topic6\", \"Topic6\", \"Topic6\", \"Topic6\", \"Topic6\", \"Topic6\", \"Topic6\", \"Topic6\", \"Topic6\", \"Topic6\", \"Topic6\", \"Topic6\", \"Topic6\", \"Topic6\", \"Topic6\", \"Topic6\", \"Topic6\", \"Topic6\", \"Topic6\", \"Topic6\", \"Topic6\", \"Topic6\", \"Topic6\", \"Topic6\", \"Topic6\", \"Topic6\", \"Topic6\", \"Topic6\", \"Topic6\", \"Topic6\", \"Topic6\", \"Topic6\", \"Topic6\", \"Topic6\", \"Topic6\", \"Topic6\", \"Topic6\", \"Topic6\", \"Topic6\", \"Topic6\", \"Topic6\", \"Topic6\", \"Topic6\", \"Topic6\", \"Topic6\", \"Topic6\", \"Topic6\", \"Topic6\", \"Topic6\", \"Topic6\", \"Topic6\", \"Topic6\", \"Topic6\", \"Topic6\", \"Topic6\", \"Topic7\", \"Topic7\", \"Topic7\", \"Topic7\", \"Topic7\", \"Topic7\", \"Topic7\", \"Topic7\", \"Topic7\", \"Topic7\", \"Topic7\", \"Topic7\", \"Topic7\", \"Topic7\", \"Topic7\", \"Topic7\", \"Topic7\", \"Topic7\", \"Topic7\", \"Topic7\", \"Topic7\", \"Topic7\", \"Topic7\", \"Topic7\", \"Topic7\", \"Topic7\", \"Topic7\", \"Topic7\", \"Topic7\", \"Topic7\", \"Topic7\", \"Topic7\", \"Topic7\", \"Topic7\", \"Topic7\", \"Topic7\", \"Topic7\", \"Topic7\", \"Topic7\", \"Topic7\", \"Topic7\", \"Topic7\", \"Topic7\", \"Topic7\", \"Topic7\", \"Topic7\", \"Topic7\", \"Topic7\", \"Topic7\", \"Topic7\", \"Topic7\", \"Topic7\", \"Topic7\", \"Topic7\", \"Topic7\", \"Topic7\", \"Topic7\", \"Topic8\", \"Topic8\", \"Topic8\", \"Topic8\", \"Topic8\", \"Topic8\", \"Topic8\", \"Topic8\", \"Topic8\", \"Topic8\", \"Topic8\", \"Topic8\", \"Topic8\", \"Topic8\", \"Topic8\", \"Topic8\", \"Topic8\", \"Topic8\", \"Topic8\", \"Topic8\", \"Topic8\", \"Topic8\", \"Topic8\", \"Topic8\", \"Topic8\", \"Topic8\", \"Topic8\", \"Topic8\", \"Topic8\", \"Topic8\", \"Topic8\", \"Topic8\", \"Topic8\", \"Topic8\", \"Topic8\", \"Topic8\", \"Topic8\", \"Topic8\", \"Topic8\", \"Topic8\", \"Topic8\", \"Topic8\", \"Topic8\", \"Topic8\", \"Topic8\", \"Topic8\", \"Topic8\", \"Topic8\", \"Topic8\", \"Topic8\", \"Topic8\", \"Topic8\", \"Topic8\", \"Topic8\", \"Topic8\", \"Topic8\", \"Topic8\", \"Topic8\", \"Topic8\", \"Topic8\", \"Topic8\", \"Topic9\", \"Topic9\", \"Topic9\", \"Topic9\", \"Topic9\", \"Topic9\", \"Topic9\", \"Topic9\", \"Topic9\", \"Topic9\", \"Topic9\", \"Topic9\", \"Topic9\", \"Topic9\", \"Topic9\", \"Topic9\", \"Topic9\", \"Topic9\", \"Topic9\", \"Topic9\", \"Topic9\", \"Topic9\", \"Topic9\", \"Topic9\", \"Topic9\", \"Topic9\", \"Topic9\", \"Topic9\", \"Topic9\", \"Topic9\", \"Topic9\", \"Topic9\", \"Topic9\", \"Topic9\", \"Topic9\", \"Topic9\", \"Topic9\", \"Topic9\", \"Topic9\", \"Topic9\", \"Topic9\", \"Topic9\", \"Topic10\", \"Topic10\", \"Topic10\", \"Topic10\", \"Topic10\", \"Topic10\", \"Topic10\", \"Topic10\", \"Topic10\", \"Topic10\", \"Topic10\", \"Topic10\", \"Topic10\", \"Topic10\", \"Topic10\", \"Topic10\", \"Topic10\", \"Topic10\", \"Topic10\", \"Topic10\", \"Topic10\", \"Topic10\", \"Topic10\", \"Topic10\", \"Topic10\", \"Topic10\", \"Topic10\", \"Topic10\", \"Topic10\", \"Topic10\", \"Topic10\", \"Topic10\", \"Topic10\", \"Topic10\", \"Topic10\", \"Topic10\", \"Topic10\", \"Topic10\", \"Topic10\", \"Topic10\", \"Topic10\", \"Topic10\", \"Topic10\", \"Topic10\", \"Topic10\", \"Topic10\", \"Topic10\", \"Topic10\", \"Topic10\", \"Topic10\"], \"logprob\": [30.0, 29.0, 28.0, 27.0, 26.0, 25.0, 24.0, 23.0, 22.0, 21.0, 20.0, 19.0, 18.0, 17.0, 16.0, 15.0, 14.0, 13.0, 12.0, 11.0, 10.0, 9.0, 8.0, 7.0, 6.0, 5.0, 4.0, 3.0, 2.0, 1.0, -4.7442, -4.8499, -5.091, -3.8867, -5.1213, -6.1438, -6.4798, -6.4858, -6.5024, -6.5218, -6.5545, -6.5607, -6.5663, -6.5893, -6.5916, -6.6181, -6.7688, -6.7845, -6.8192, -6.821, -6.8712, -6.872, -5.6818, -6.9176, -6.946, -6.9506, -7.0253, -7.031, -7.0481, -7.106, -5.7913, -3.9638, -5.8987, -5.2263, -3.9281, -5.6672, -4.1645, -5.0721, -4.6498, -5.609, -5.3249, -4.2976, -4.514, -5.2717, -4.2234, -4.5331, -5.086, -5.9186, -5.802, -5.3131, -4.3002, -4.4435, -5.6829, -4.1979, -3.8627, -4.4185, -4.4015, -4.7064, -4.8826, -4.9038, -4.4258, -4.5787, -4.9456, -4.9588, -4.7585, -4.8632, -4.8766, -5.0405, -4.7159, -5.1013, -6.1031, -6.3814, -6.3856, -6.5097, -6.5665, -6.6241, -6.7292, -6.7567, -6.7563, -6.848, -6.8499, -6.9802, -6.992, -7.0317, -7.0328, -6.3354, -7.0913, -7.1093, -7.1194, -7.1277, -6.0286, -7.2022, -7.2295, -7.2524, -7.2879, -7.3081, -7.3172, -7.3194, -6.1729, -6.1035, -4.1476, -6.3328, -3.9251, -3.5191, -5.7052, -5.919, -4.2798, -4.124, -5.1795, -6.1258, -5.2542, -4.8796, -6.778, -3.8393, -5.289, -4.3268, -4.3615, -4.5551, -4.3416, -5.1627, -5.0479, -5.2876, -4.7204, -3.948, -4.2793, -3.9893, -4.1889, -3.8018, -4.9644, -5.1349, -4.6283, -5.0421, -5.0114, -4.7698, -4.7629, -4.8159, -4.8377, -4.9353, -4.9662, -4.9815, -5.2457, -5.4422, -5.6012, -5.6117, -5.8883, -6.058, -6.0713, -6.0752, -6.0888, -6.2276, -6.2993, -6.339, -6.3631, -6.4459, -6.52, -6.5347, -6.5383, -6.6754, -6.696, -5.3085, -6.7517, -6.7539, -6.7918, -6.7949, -6.81, -6.853, -6.8547, -6.8549, -6.8795, -6.8965, -5.0624, -5.6391, -4.2037, -3.0739, -2.6843, -4.2471, -3.0743, -5.1705, -5.2356, -5.1067, -5.108, -3.7485, -4.0107, -5.1943, -5.5595, -5.753, -5.447, -4.1341, -5.3776, -4.1823, -4.4275, -4.9491, -5.1048, -4.0357, -5.0148, -4.6582, -5.088, -5.2419, -4.9413, -4.7575, -4.8063, -5.2643, -5.0085, -4.9543, -5.0799, -5.1361, -5.2174, -5.2216, -3.4261, -3.5055, -4.9096, -5.5569, -5.3052, -5.853, -5.9014, -5.9225, -5.8973, -6.089, -6.1878, -6.2316, -6.2349, -6.2413, -6.3112, -6.3165, -6.4184, -6.4858, -6.5227, -6.5514, -6.6255, -5.8841, -6.6633, -6.6727, -6.6762, -6.6951, -6.7082, -6.7139, -6.7254, -6.7958, -5.7013, -4.4819, -5.1114, -5.5408, -4.2994, -5.4412, -3.8515, -5.4565, -4.0034, -6.0394, -3.1087, -6.0079, -3.8122, -5.2331, -4.5514, -4.9014, -4.8125, -3.9465, -5.6852, -4.0666, -4.4742, -5.2251, -4.5104, -5.061, -5.2355, -4.6049, -5.4975, -4.367, -4.5202, -4.6922, -4.79, -4.9878, -4.8447, -5.0803, -5.0935, -5.0142, -5.0576, -5.1737, -2.4802, -3.6921, -3.6921, -3.8743, -3.9192, -4.0971, -4.0971, -4.0971, -4.2754, -4.4038, -4.5415, -4.7601, -4.764, -4.7887, -4.7887, -4.7887, -4.7887, -4.7887, -4.7887, -4.7887, -4.7887, -4.7887, -4.7887, -4.7887, -4.7887, -4.7887, -4.7887, -4.7887, -4.8182, -4.9012, -4.026, -4.0363, -3.5935, -4.7497, -3.9221, -4.3806, -4.5117, -4.8043, -4.8478, -5.0309, -5.3472, -5.5314, -5.5903, -5.6243, -4.897, -5.7292, -5.7905, -5.7959, -5.8005, -5.8015, -5.9134, -5.9404, -6.0111, -6.0175, -6.0702, -6.097, -6.1122, -6.1173, -6.1544, -6.2726, -6.2793, -4.9366, -5.4181, -6.3634, -4.1988, -5.7616, -5.2989, -4.7212, -4.1028, -5.745, -4.825, -4.1514, -5.6023, -5.3024, -5.0411, -5.1852, -4.4742, -5.1766, -4.2444, -5.0214, -4.265, -3.4654, -4.8172, -4.3807, -4.3697, -4.9195, -4.4746, -4.7255, -4.6846, -5.1017, -4.9587, -5.1051, -5.1181, -2.392, -3.7835, -3.9411, -4.0629, -4.3874, -5.0125, -5.2003, -5.2907, -5.3586, -5.5365, -5.5405, -5.5465, -5.595, -5.6748, -6.1233, -6.2249, -6.2249, -6.2289, -6.2405, -6.2924, -6.3448, -6.3936, -6.5319, -6.6278, -6.6444, -6.6485, -6.6746, -4.0554, -6.6954, -6.7677, -3.6347, -3.9643, -5.4811, -3.6885, -3.9836, -5.0406, -3.1219, -4.8913, -4.1722, -3.9469, -4.7619, -4.757, -5.5114, -5.3436, -4.1234, -5.0227, -4.924, -4.5963, -4.7585, -4.3165, -5.0842, -4.6096, -5.0137, -4.7416, -5.0149, -5.0154, -5.0643, -4.7216, -5.2227, -5.2718, -4.7499, -5.357, -5.4722, -5.5175, -5.5418, -5.5512, -5.5563, -5.6773, -5.6905, -5.8584, -5.8652, -5.9479, -5.9592, -5.9859, -6.0331, -6.0367, -6.1101, -6.1942, -6.2395, -6.2647, -6.2695, -6.3094, -5.7755, -6.4016, -6.402, -6.4417, -6.4461, -3.5248, -4.3825, -5.1318, -4.3838, -3.4793, -4.3766, -4.9494, -3.457, -5.3632, -5.4231, -3.5649, -4.1233, -5.4021, -4.7942, -4.4607, -3.8258, -4.4131, -4.8747, -3.7394, -4.2077, -4.0894, -4.6201, -4.4028, -4.789, -4.9284, -4.8235, -4.8221, -4.8247, -4.941, -5.0296, -5.1162, -3.4119, -3.4891, -4.0786, -4.4579, -4.5658, -4.6012, -4.6144, -4.6506, -4.6565, -4.682, -4.7824, -4.7956, -4.8415, -4.8595, -4.8694, -4.9228, -4.9537, -5.311, -5.3342, -5.3805, -5.5022, -5.5199, -5.6051, -5.616, -5.6224, -5.6905, -5.6952, -5.7587, -5.7653, -5.7867, -5.2253, -5.5032, -4.6738, -4.4814, -4.9362, -4.3964, -5.0409, -5.2942, -4.5672, -5.2329, -4.9105, -5.2919, -4.1033, -4.3422, -4.4731, -4.4906, -4.6435, -4.7852, -4.8565, -4.9361, -4.9931, -5.0536, -5.1906, -5.3136, -5.3864, -5.4777, -5.5302, -5.6047, -5.6465, -5.7633, -5.7736, -5.9286, -5.9938, -5.9991, -6.0626, -6.1124, -6.2061, -6.2069, -6.2529, -6.2548, -6.2962, -6.296, -3.0306, -5.5476, -3.9599, -4.4168, -4.9394, -3.9795, -3.7623, -4.18, -4.4267, -4.8918, -4.6454, -3.0371, -4.2725, -4.3932, -4.4171, -5.1963, -5.124, -5.0341, -5.1857, -5.1912], \"loglift\": [30.0, 29.0, 28.0, 27.0, 26.0, 25.0, 24.0, 23.0, 22.0, 21.0, 20.0, 19.0, 18.0, 17.0, 16.0, 15.0, 14.0, 13.0, 12.0, 11.0, 10.0, 9.0, 8.0, 7.0, 6.0, 5.0, 4.0, 3.0, 2.0, 1.0, 0.8564, 0.8562, 0.8555, 0.8555, 0.8553, 0.8492, 0.8454, 0.8453, 0.8451, 0.8448, 0.8443, 0.8443, 0.8442, 0.8438, 0.8438, 0.8434, 0.8409, 0.8406, 0.84, 0.84, 0.839, 0.839, 0.8388, 0.8381, 0.8375, 0.8374, 0.8357, 0.8356, 0.8351, 0.8338, 0.8152, 0.7419, 0.7963, 0.7665, 0.7026, 0.7778, 0.6885, 0.7165, 0.6827, 0.7508, 0.7201, 0.6269, 0.6293, 0.6692, 0.5145, 0.5436, 0.6119, 0.744, 0.7232, 0.6249, 0.4071, 0.421, 0.6669, 0.2833, 0.181, 0.32, 0.2845, 0.3728, 0.3841, 0.3924, 0.1294, 0.1973, 0.2976, 0.2908, 0.0377, 0.1144, -0.2414, 0.0107, 1.4497, 1.4477, 1.4372, 1.4319, 1.4318, 1.429, 1.4275, 1.426, 1.423, 1.4221, 1.4221, 1.4191, 1.4191, 1.4143, 1.4138, 1.4123, 1.4122, 1.4118, 1.4098, 1.409, 1.4085, 1.4082, 1.4049, 1.4047, 1.4034, 1.4023, 1.4004, 1.3994, 1.3988, 1.3988, 1.3939, 1.393, 1.3559, 1.3835, 1.3154, 1.2681, 1.3528, 1.3611, 1.2683, 1.2514, 1.2836, 1.3382, 1.252, 1.2128, 1.3857, 0.9455, 1.1541, 0.9563, 0.8936, 0.9385, 0.8534, 1.0536, 1.0045, 1.066, 0.8832, 0.6073, 0.6982, 0.4919, 0.5495, 0.2418, 0.7975, 0.8362, 0.4508, 0.7205, 0.4635, 0.0265, 0.0131, -0.1299, -0.0998, 0.1414, 0.085, -0.2742, 2.2248, 2.2214, 2.2181, 2.2178, 2.2107, 2.2052, 2.2048, 2.2046, 2.2042, 2.1988, 2.1958, 2.194, 2.1929, 2.1889, 2.185, 2.1842, 2.184, 2.176, 2.1747, 2.1735, 2.171, 2.1709, 2.1683, 2.1681, 2.167, 2.1639, 2.1638, 2.1637, 2.1619, 2.1606, 2.0747, 2.1038, 1.9994, 1.8425, 1.7009, 1.7607, 1.5608, 1.8713, 1.7937, 1.7251, 1.7125, 1.2885, 1.2374, 1.6546, 1.7544, 1.8167, 1.6022, 0.6622, 1.486, 0.525, 0.6237, 1.0919, 1.2018, 0.008, 1.0502, 0.585, 1.1248, 1.2736, 0.6, -0.0518, -0.0302, 1.1825, 0.3634, -0.2683, 0.1696, 0.1963, 0.4372, 0.2257, 2.7724, 2.772, 2.7575, 2.7403, 2.7299, 2.7281, 2.7257, 2.7247, 2.718, 2.7155, 2.7094, 2.7065, 2.7062, 2.7051, 2.7009, 2.7005, 2.6926, 2.687, 2.6838, 2.6812, 2.6742, 2.6724, 2.6705, 2.6695, 2.6692, 2.6672, 2.6659, 2.6653, 2.664, 2.6563, 2.6054, 2.5085, 2.545, 2.5586, 2.4309, 2.5301, 2.2801, 2.4881, 2.1384, 2.5456, 1.676, 2.5062, 1.5597, 2.1398, 1.6021, 1.75, 1.6487, 0.918, 2.2836, 0.6194, 1.0023, 1.7248, 0.7328, 1.3475, 1.6151, 0.4321, 1.9732, -0.3234, -0.1349, 0.0839, 0.2613, 0.8185, 0.0716, 0.4679, 0.4478, -0.379, -0.3197, 0.3011, 3.1304, 3.1248, 3.1248, 3.1231, 3.1227, 3.1207, 3.1207, 3.1207, 3.1184, 3.1164, 3.114, 3.1094, 3.1094, 3.1088, 3.1088, 3.1088, 3.1088, 3.1088, 3.1088, 3.1088, 3.1088, 3.1088, 3.1088, 3.1088, 3.1088, 3.1088, 3.1088, 3.1088, 3.1081, 3.1059, 3.0946, 2.8515, 1.8943, 2.2813, 3.2634, 3.2565, 3.2539, 3.2467, 3.2455, 3.2396, 3.2266, 3.217, 3.2136, 3.2115, 3.2053, 3.2047, 3.2004, 3.2, 3.1997, 3.1996, 3.191, 3.1888, 3.1827, 3.1822, 3.1774, 3.1749, 3.1734, 3.1729, 3.1692, 3.1567, 3.1559, 3.152, 3.1466, 3.1461, 3.1435, 3.1401, 3.0934, 3.0122, 2.8979, 3.1047, 2.8544, 2.4008, 2.9887, 2.8408, 2.6818, 2.7351, 2.2139, 2.6874, 1.933, 2.4948, 1.776, 0.9199, 2.2546, 1.4071, 1.3282, 2.0982, 1.0133, 1.4163, 0.8567, 2.1284, 0.2845, 1.2411, 0.3584, 3.3171, 3.3088, 3.3069, 3.3053, 3.2997, 3.2826, 3.2751, 3.2709, 3.2676, 3.2577, 3.2575, 3.2571, 3.2541, 3.2488, 3.2107, 3.1997, 3.1997, 3.1993, 3.1979, 3.1918, 3.1854, 3.1791, 3.1598, 3.1451, 3.1424, 3.1417, 3.1374, 3.1357, 3.1339, 3.1212, 3.0195, 2.8604, 2.9672, 2.5252, 2.4271, 2.6874, 2.0731, 2.4815, 1.9696, 1.6815, 1.9784, 1.9733, 2.585, 2.3822, 1.1597, 1.9952, 1.872, 1.3689, 1.5214, 0.5365, 1.7333, 0.0255, 1.38, -0.0556, 1.1184, 0.9347, 1.4494, 3.4971, 3.4756, 3.4729, 3.4688, 3.4679, 3.4605, 3.4573, 3.4556, 3.4549, 3.4545, 3.4451, 3.444, 3.4288, 3.4282, 3.4198, 3.4186, 3.4157, 3.4104, 3.41, 3.4014, 3.3908, 3.3847, 3.3813, 3.3806, 3.3749, 3.3612, 3.361, 3.361, 3.3547, 3.3539, 3.2927, 3.3102, 3.2875, 3.1725, 2.8341, 2.6951, 2.877, 2.1976, 2.9959, 2.9868, 1.807, 1.8845, 2.8762, 2.2789, 1.7168, 0.9503, 1.4446, 2.027, 0.3042, 0.8293, 0.5458, 1.4449, 0.3934, 1.4238, 1.4447, 0.7178, 0.6252, -0.0868, -0.3858, 0.1654, 0.6715, 4.1695, 4.168, 4.1527, 4.1371, 4.1316, 4.1296, 4.1288, 4.1268, 4.1264, 4.1249, 4.1185, 4.1176, 4.1144, 4.1132, 4.1124, 4.1085, 4.1061, 4.0731, 4.0706, 4.0654, 4.0505, 4.0483, 4.0368, 4.0353, 4.0344, 4.0245, 4.0238, 4.0139, 4.0129, 4.0094, 3.9374, 3.9308, 3.6059, 3.5222, 3.5093, 2.8471, 3.4491, 3.5283, 2.2288, 3.3059, 1.5838, 1.7807, 4.3758, 4.364, 4.3563, 4.3552, 4.3448, 4.3337, 4.3275, 4.3202, 4.3146, 4.3083, 4.2928, 4.2772, 4.2672, 4.2537, 4.2454, 4.233, 4.2258, 4.204, 4.202, 4.1696, 4.1548, 4.1535, 4.1383, 4.1258, 4.101, 4.1008, 4.088, 4.0874, 4.0755, 4.0755, 4.0508, 3.9684, 3.5434, 3.6519, 3.729, 3.2529, 3.0883, 3.2484, 3.3485, 3.5406, 3.1675, 1.7592, 2.718, 2.295, 2.3136, 3.4449, 3.2759, 2.5123, 2.6783, 1.8819]}, \"token.table\": {\"Topic\": [10, 2, 4, 7, 9, 3, 4, 4, 10, 8, 6, 9, 4, 7, 7, 7, 7, 8, 10, 4, 5, 8, 2, 3, 8, 2, 4, 9, 2, 4, 1, 6, 8, 10, 4, 6, 1, 2, 4, 2, 7, 7, 9, 1, 4, 6, 2, 2, 1, 2, 1, 2, 6, 4, 6, 9, 1, 2, 3, 4, 7, 8, 7, 3, 8, 8, 4, 6, 4, 8, 9, 1, 2, 3, 4, 6, 8, 2, 4, 8, 9, 1, 4, 6, 2, 1, 2, 3, 1, 2, 4, 6, 10, 1, 1, 2, 4, 6, 8, 1, 2, 3, 7, 8, 4, 8, 10, 1, 2, 3, 8, 8, 8, 5, 5, 5, 2, 4, 9, 10, 1, 2, 3, 4, 5, 6, 7, 8, 1, 2, 3, 8, 10, 9, 2, 6, 1, 5, 10, 3, 4, 4, 1, 3, 7, 3, 1, 4, 6, 7, 4, 9, 4, 6, 7, 7, 9, 10, 1, 2, 4, 6, 5, 5, 1, 2, 3, 8, 7, 1, 6, 1, 2, 6, 9, 7, 6, 9, 3, 8, 8, 9, 6, 1, 3, 4, 8, 1, 2, 2, 3, 10, 6, 7, 2, 1, 2, 3, 3, 1, 10, 6, 9, 7, 7, 4, 10, 5, 1, 2, 3, 10, 9, 2, 3, 10, 10, 8, 1, 2, 2, 5, 2, 10, 10, 1, 8, 2, 5, 5, 5, 1, 4, 1, 4, 7, 3, 1, 4, 6, 7, 9, 2, 6, 5, 3, 10, 4, 1, 2, 3, 4, 7, 3, 2, 7, 8, 1, 2, 3, 4, 6, 7, 8, 3, 1, 1, 2, 8, 4, 1, 8, 1, 10, 1, 2, 7, 10, 2, 9, 1, 7, 1, 1, 2, 3, 4, 6, 7, 2, 7, 8, 10, 1, 3, 4, 7, 4, 9, 6, 6, 10, 3, 3, 1, 2, 3, 4, 6, 10, 1, 2, 3, 4, 6, 10, 1, 2, 3, 4, 7, 8, 1, 3, 4, 1, 10, 9, 10, 1, 2, 3, 4, 6, 8, 1, 2, 4, 4, 2, 3, 10, 4, 8, 1, 2, 4, 1, 3, 1, 2, 7, 9, 4, 1, 2, 5, 3, 9, 5, 3, 8, 1, 4, 9, 7, 9, 7, 1, 2, 4, 1, 1, 2, 1, 3, 6, 6, 9, 3, 4, 6, 5, 1, 2, 4, 8, 3, 6, 8, 9, 10, 5, 1, 2, 3, 6, 7, 8, 7, 1, 2, 3, 4, 6, 8, 4, 6, 9, 2, 1, 1, 2, 3, 6, 8, 7, 1, 2, 4, 1, 3, 4, 2, 1, 2, 7, 6, 1, 7, 9, 10, 4, 7, 1, 2, 3, 6, 7, 9, 1, 2, 3, 4, 7, 10, 1, 2, 3, 4, 6, 7, 8, 1, 2, 3, 4, 6, 8, 3, 4, 1, 1, 2, 3, 4, 7, 1, 2, 4, 8, 7, 1, 3, 4, 5, 7, 1, 1, 2, 3, 5, 1, 2, 5, 10, 7, 2, 3, 6, 7, 8, 9, 1, 2, 3, 2, 10, 9, 3, 2, 1, 8, 4, 10, 2, 3, 4, 10, 1, 2, 3, 4, 6, 8, 3, 9, 1, 2, 3, 6, 8, 2, 6, 3, 9, 1, 3, 4, 7, 1, 3, 6, 8, 1, 3, 6, 8, 4, 10, 1, 2, 3, 9, 2, 8, 6, 1, 3, 6, 1, 3, 6, 7, 10, 3, 4, 6, 7, 1, 2, 3, 4, 7, 8, 2, 3, 10, 7, 2, 5, 8, 1, 2, 4, 6, 7, 8, 4, 7, 3, 1, 1, 2, 3, 4, 6, 8, 1, 2, 2, 6, 10, 1, 2, 5, 7, 2, 3, 1, 4, 6, 7, 5, 5, 5, 9, 3, 3, 6, 9, 8, 2, 4, 10, 1, 3, 8, 1, 4, 6, 1, 5, 1, 2, 3, 4, 6, 5, 6, 8, 6, 7, 1, 2, 10, 1, 2, 6, 1, 2, 4, 2, 1, 2, 3, 4, 6, 10, 3, 6, 7, 10, 1, 3, 6, 3, 1, 4, 7, 8, 1, 6, 1, 2, 3, 7, 5, 6, 1, 2, 3, 4, 7, 2, 8, 9, 9, 1, 2, 10, 9, 6, 10, 6, 9, 8, 2, 4, 6, 1, 2, 4, 5, 6, 6, 1, 2, 3, 8, 3, 8, 9, 3, 2, 3, 3, 1, 3, 6, 7, 6, 10, 2, 2, 3, 2, 10, 5, 7, 4, 2, 5, 3, 4, 6, 1, 6, 8, 3, 6, 5, 10, 3, 4, 1, 2, 3, 6, 8, 1, 2, 1, 3, 6, 2, 1, 3, 4, 4, 6, 8, 1, 2, 6, 1, 3, 4, 6, 7, 7, 8, 1, 8, 1, 3, 8, 9, 4, 5, 8, 8, 8, 4, 1, 3, 6, 1, 2, 3, 4, 1, 2, 4, 7, 1, 3, 1, 4, 6, 7, 9, 1, 1, 2, 3, 4, 7, 1, 2, 7, 1, 1, 10, 1, 2, 3, 4, 9, 4, 1, 9, 7, 2, 4, 8, 6, 1, 2, 3, 10, 4, 5, 10, 1, 2, 3, 4, 5, 1, 8, 10, 1, 1, 2, 4, 5, 1, 2, 3, 1, 6, 7, 9, 6, 1, 7, 1, 2, 3, 4, 9, 1, 2, 3, 4, 6, 7, 7, 1, 2, 3, 10, 1, 2, 3, 5, 6, 8, 10, 8, 2, 5, 1, 2, 3, 6, 2, 10, 9, 3, 1, 1, 1, 2, 5, 1, 2, 3, 4, 8, 1, 1, 9, 2, 5, 9, 3, 10, 1, 2, 4, 8, 2, 7, 6, 10, 3, 1, 2, 3, 4, 8, 9, 1, 3, 10, 3, 4, 1, 3, 9, 3, 8, 9, 1, 4, 5, 6, 5, 5, 5, 5, 1, 2, 3, 4, 6, 7, 8, 10, 1, 2, 8, 1, 2, 8, 1, 2, 7, 8, 7, 1, 2, 3, 4, 7, 8, 1, 2, 1, 7, 9, 5, 6, 9, 1, 2, 3, 7, 9, 2, 1, 2, 3, 4, 8, 1, 2, 3, 1, 2, 3, 7, 8, 9, 3, 7, 3, 4, 6, 3, 1, 2, 3, 4, 8, 4, 1], \"Freq\": [0.6005897188319157, 0.03421167893218685, 0.5302810234488963, 0.42764598665233566, 0.9403995680086962, 0.18172638237340744, 0.7950529228836576, 0.2939732809614771, 0.690198137909555, 0.9634381818446743, 0.8679474255789442, 0.07890431141626765, 0.939836959757307, 0.9731973200089871, 0.9212846580944528, 0.9874693059980633, 0.19483720615717437, 0.7793488246286975, 0.867892947350875, 0.9734785733092496, 0.09981141086141357, 0.7984912868913085, 0.529835090185487, 0.37741677657048395, 0.08709617920857321, 0.5410868745940446, 0.19539248249229388, 0.2555132463360766, 0.9304143712989186, 0.9937868372357489, 0.41623011515967956, 0.14865361255702841, 0.11892289004562273, 0.31217258636975964, 0.07491144818309851, 0.8240259300140836, 0.19050145804712543, 0.4482387248167657, 0.3473850117329934, 0.9679854448734346, 0.981410351915196, 0.9546891850782072, 0.8349318428761128, 0.9831708829626401, 0.8608043058897202, 0.9489565025723387, 0.9909695483213035, 0.9495747069497329, 0.2565528587027961, 0.7426530120344098, 0.04823332865462191, 0.9405499087651272, 0.9266620801235677, 0.38842044467769343, 0.5583543892241842, 0.04855255558471168, 0.33999778658692653, 0.011564550564181176, 0.1526520674471915, 0.2960524944430381, 0.020816191015526116, 0.1780940786883901, 0.9584495135189268, 0.465367487265078, 0.5076736224709941, 0.880217340717595, 0.38446578772250073, 0.5914858272653857, 0.9872786335100068, 0.7750526003090531, 0.7540434626597862, 0.48220666297555137, 0.07397488579738573, 0.19452655154127357, 0.09863318106318096, 0.09041374930791589, 0.06027583287194392, 0.5470530056900388, 0.45273352195037686, 0.9496041473925573, 0.8897847676836638, 0.9833709448001444, 0.9619458993955438, 0.03317054825501875, 0.9570436241720085, 0.20966289103388347, 0.16127914694914114, 0.6128607584067364, 0.39127475236423076, 0.24128609729127562, 0.24128609729127562, 0.12390367158200641, 0.8237044492191353, 0.9972361369232147, 0.03310335217073111, 0.830342416949172, 0.09931005651219334, 0.011034450723577036, 0.024827514128048334, 0.14851372423999318, 0.2103944426733237, 0.5321741785266423, 0.04950457474666439, 0.04950457474666439, 0.7702059301614801, 0.04667914728251395, 0.1867165891300558, 0.22706160959882699, 0.3436608145279544, 0.16569360700454944, 0.2638824111553935, 0.9525905508222369, 0.9105832030343846, 0.9828318601018836, 0.9871276743787445, 0.9828318601018836, 0.9574315828500668, 0.9481181807592718, 0.9755137637052956, 0.833085331561836, 0.5714028770318034, 0.028468470741798032, 0.19114544640921535, 0.13014158053393385, 0.004066924391685433, 0.05083655489606791, 0.004066924391685433, 0.02236808415426988, 0.43961428459401547, 0.23931665196833976, 0.20680080251611968, 0.0429209212769305, 0.07023423481679537, 0.9904226806768888, 0.23134799752101695, 0.751880991943305, 0.3749136649797798, 0.0624856108299633, 0.4998848866397064, 0.8869758610416696, 0.9076810259372321, 0.8508324660113706, 0.10580086638090677, 0.3879365100633248, 0.49373737644423155, 0.8867896096928284, 0.9812078825869229, 0.7107257850366127, 0.02698958677354225, 0.26089933881090843, 0.10243876566024132, 0.8195101252819306, 0.36600608388872313, 0.09760162237032617, 0.536808923036794, 0.4236227340253681, 0.5507095542329785, 0.9699981531187265, 0.9968138204516557, 0.0024643110517964294, 0.10498046505754069, 0.874837208812839, 0.9828318601018836, 0.9676639568121358, 0.44747577136491834, 0.5192085286066228, 0.010247536748814923, 0.023910919080568156, 0.9788679783739183, 0.33261400258215174, 0.6652280051643035, 0.18103429924503678, 0.816975299157089, 0.965422292331084, 0.9135377773419238, 0.8510921183683999, 0.47052239073204943, 0.47052239073204943, 0.866780955573279, 0.09906068063694617, 0.9565493524142904, 0.0398562230172621, 0.9773802985597854, 0.866618834355913, 0.05964583070465798, 0.0561372524279134, 0.01403431310697835, 0.855252119841098, 0.14437890167420597, 0.9175371915230077, 0.9348753873424228, 0.057237268612801394, 0.9663733925551214, 0.9261628485259783, 0.9611724672052049, 0.8912158430492554, 0.10089235959048173, 0.9546891252963442, 0.9723071945955014, 0.9892372759463202, 0.6862375112686708, 0.9140403155584397, 0.9220514894362765, 0.7843562803594201, 0.7981135765035748, 0.8996201942823664, 0.6655196055010582, 0.9876038271125752, 0.6366055685589922, 0.17729762563605578, 0.1796774595372109, 0.004759667802310222, 0.7719700790638194, 0.4092846677495322, 0.23022262560911189, 0.33254379254649497, 0.6434358293637399, 0.9339205248010292, 0.20917537581725165, 0.7844076593146937, 0.9561805513409987, 0.9828318601018836, 0.9503352950135987, 0.7563271688460945, 0.8367973685776365, 0.980076797713951, 0.9332783091988279, 0.026584544846841928, 0.9570436144863094, 0.9828318601018836, 0.9828318601018836, 0.24240837637119983, 0.7575261761599995, 0.5157637515912288, 0.20390659946629977, 0.2638791287210938, 0.9004474269271096, 0.6270502851009447, 0.08178916762186236, 0.027263055873954122, 0.2635428734482232, 0.8982557013112463, 0.30653560581603784, 0.6838101975896229, 0.9983973917854004, 0.9202196324877013, 0.8824353392349855, 0.8858873373368505, 0.5628218522437972, 0.38249107327866827, 0.012338421718666719, 0.029422390252205253, 0.012338421718666719, 0.9807012692029933, 0.924499615759821, 0.8477675479132417, 0.9337886229879796, 0.6461199707557306, 0.12393249439064659, 0.023672498928550473, 0.1559599929410384, 0.0292424986764447, 0.01670999924368269, 0.004177499810920672, 0.9669633470388492, 0.9944568398380484, 0.6144067951401845, 0.36760856001364967, 0.017258617841016417, 0.8788853124111745, 0.7688256841683053, 0.22424082454908903, 0.9785756100050693, 0.9308137281684741, 0.4082485704118045, 0.565715876142072, 0.023328489737817402, 0.6664113996933934, 0.9485807167046817, 0.9330152259373464, 0.912307188056818, 0.08606671585441679, 0.9906911337506488, 0.19607322774746677, 0.4044010322291502, 0.055145595303975024, 0.15318220917770842, 0.12867305570927506, 0.055145595303975024, 0.053846101542129265, 0.3499996600238402, 0.511537964650228, 0.053846101542129265, 0.18707207948506413, 0.590753935215992, 0.1181507870431984, 0.09845898920266533, 0.13437194659574017, 0.806231679574441, 0.9664266448503264, 0.2917114368446733, 0.5834228736893466, 0.9690048667896857, 0.9217128231546524, 0.6282645486354004, 0.2916176744519265, 0.055750437762868296, 0.015009733243849157, 0.010721238031320825, 0.8999099578501176, 0.3827768081127856, 0.5700493325120516, 0.016463518628506906, 0.01234763897138018, 0.016463518628506906, 0.6438192373731388, 0.33323360340524183, 0.029891386351965216, 0.5070464796000026, 0.04206935856943252, 0.03764100503580805, 0.05092606563668148, 0.2610602532711499, 0.6717168314504869, 0.06746500927231965, 0.9769380261967546, 0.6863994884851278, 0.9078304189384242, 0.847079722445505, 0.3860938492903853, 0.09116104774911875, 0.327107288982132, 0.02681207286738787, 0.04289931658782059, 0.12333553518998419, 0.9005822220130968, 0.024843647503809567, 0.0745309425114287, 0.9313553555949572, 0.3821837044587217, 0.23886481528670106, 0.3344107414013815, 0.7496974143280728, 0.21419926123659222, 0.12777521808010223, 0.8700883897835533, 0.8755313372308121, 0.8705621857356404, 0.12695698541978087, 0.510101982715144, 0.36648103612544325, 0.10895382155080746, 0.009904892868255223, 0.9692268481678822, 0.09233726505812584, 0.9075434051427226, 0.9782191348534582, 0.989103848077244, 0.931154052616154, 0.975872031241753, 0.9584919418821137, 0.9335849715201544, 0.13056108568064725, 0.8268868759774327, 0.8933774255763238, 0.7020200552803543, 0.25072144831441223, 0.9678144391884728, 0.7950068035433785, 0.19139052677896148, 0.012882054687045485, 0.9860122831212013, 0.824023379584527, 0.172183989763931, 0.9775053758470063, 0.014589632475328452, 0.9309233122543602, 0.9802894676673303, 0.9578662350378708, 0.21716139121011974, 0.31587111448744687, 0.4540647270757049, 0.9815187937476784, 0.5856602193780921, 0.27140351629716464, 0.14284395594587612, 0.9657934143861641, 0.38027065111433395, 0.2281623906686004, 0.2915408325209894, 0.025351376740955597, 0.07605413022286679, 0.9817670917555035, 0.29323123979936316, 0.3571406125761475, 0.13157812042279118, 0.04887187329989386, 0.04135312356144866, 0.12405937068434596, 0.9351552331394457, 0.43326806860767925, 0.37173887543262424, 0.05896547679276108, 0.08460264061570068, 0.02050973105835168, 0.02820088020523356, 0.9308437776230004, 0.9417064143584633, 0.9163412283595619, 0.940210920423126, 0.9982361415448032, 0.21011252963486424, 0.6394729162800217, 0.11875925588057544, 0.022838318438572203, 0.009135327375428881, 0.9464168568328489, 0.5830779125971872, 0.4050857076990985, 0.011047792028157232, 0.33326188526210215, 0.6456949026953229, 0.9029235354026642, 0.997426198689531, 0.23676587573256286, 0.67263032878569, 0.09147772471485384, 0.869453698967319, 0.7650108567032924, 0.0630008940814476, 0.03600051090368435, 0.1260017881628952, 0.978828234495465, 0.9980531635221408, 0.5668862817770844, 0.24353598386813374, 0.12688429411617053, 0.01432564610989022, 0.04297693832967066, 0.0061395626185243805, 0.42277606527831724, 0.242782294912301, 0.0962757376376366, 0.07953213109196067, 0.14232065563824542, 0.012557704909256949, 0.5012915028144407, 0.08062730464847648, 0.09114390960262557, 0.10166051455677468, 0.15424353932752022, 0.014022139938865473, 0.05608855975546189, 0.27962684264859033, 0.16049588010007848, 0.3855210315806009, 0.09596660871963456, 0.009927580212375988, 0.06783846478456926, 0.9812006123015872, 0.8209233197810916, 0.9794676816989839, 0.5626164273010017, 0.20501136895440225, 0.08153861265231908, 0.11531889503685126, 0.03378028238453219, 0.3574504948270461, 0.29558406303005735, 0.32308025493983017, 0.020622143932329584, 0.847147535442715, 0.6193080418391095, 0.07454633836952243, 0.13762400929757987, 0.005734333720732495, 0.16629567790124236, 0.9755136336773826, 0.7924889077622701, 0.1582020767361248, 0.045834246531026815, 0.0014785240816460263, 0.31482182850269125, 0.6790274732410988, 0.9828318601018836, 0.94180373807085, 0.8875927055077593, 0.4004771005442616, 0.35336214753905437, 0.08834053688476359, 0.0824511677591127, 0.05889369125650906, 0.011778738251301813, 0.3073780438753452, 0.5389642413156738, 0.15158369287003323, 0.6081491933520544, 0.36488951601123265, 0.929062932812012, 0.9232672338175976, 0.9872794376689608, 0.9811438869145098, 0.9680825895331482, 0.9484406752141006, 0.9542727280046546, 0.07102982756101575, 0.3450020195820765, 0.3145606649130697, 0.2638250737980585, 0.4279703257966437, 0.2551038804748621, 0.19804117036864297, 0.08055912014995646, 0.020139780037489115, 0.01678315003124093, 0.9494090763056529, 0.7582856790807757, 0.3965539439203393, 0.1636571832052194, 0.2517802818541837, 0.06294507046354593, 0.12589014092709186, 0.990723317116373, 0.9476879066343982, 0.9458549100495193, 0.9318122292650325, 0.291700984031537, 0.06427309817644036, 0.608122390438628, 0.034608591325775574, 0.7818303654303896, 0.07369712461024164, 0.14419002641134235, 0.8962743506282429, 0.41407362203236486, 0.16045352853754138, 0.25879601377022804, 0.16045352853754138, 0.9953716283994356, 0.9161856004791917, 0.5828012455200728, 0.06334796146957314, 0.25339184587829255, 0.0886871460574024, 0.9765178287922972, 0.833871690943052, 0.8422760691961505, 0.30869499420482527, 0.26352011700411915, 0.41410304100647294, 0.11212898893183476, 0.37088819415914576, 0.3450122736364146, 0.051751841045462196, 0.12075429577274512, 0.5571804713280906, 0.1722194184105007, 0.16208886438635361, 0.11143609426561811, 0.02325327665097278, 0.548389774352108, 0.05231987246468875, 0.05231987246468875, 0.28679041202866423, 0.03487991497645917, 0.5424875414342757, 0.12658042633466432, 0.3074096068127562, 0.9949897988473771, 0.9345023812039736, 0.041533439164621044, 0.8711707389949765, 0.5650745561956899, 0.166624548621806, 0.08693454710702922, 0.02897818236900974, 0.15213545743730114, 0.7721826827792964, 0.8854394865466231, 0.9318400525953587, 0.9723031873541267, 0.9843819158095028, 0.43018663403678, 0.00462566273157828, 0.30529374028416645, 0.06475927824209592, 0.06938494097367419, 0.12489289375261355, 0.1688492271311141, 0.8300679562781487, 0.220794792966455, 0.7605153979955671, 0.6928381865247605, 0.6247579462505537, 0.17636707573580224, 0.002989272470098343, 0.19430271055639228, 0.9695655188574769, 0.9668211486479481, 0.05494432577447757, 0.529463502917693, 0.15484309990989134, 0.2597368127520758, 0.9951924534274519, 0.9908837713624362, 0.9828318601018836, 0.8395240893745974, 0.935829888977919, 0.9444645762483094, 0.8921219300284955, 0.9460907718742567, 0.9375686721800196, 0.9194559625918237, 0.9000904415288425, 0.8270250827552101, 0.18783832198037195, 0.6203032958421585, 0.19220665504968293, 0.6569367229314732, 0.3082549238370759, 0.030320156442991072, 0.9839277110209764, 0.9828318601018836, 0.20264374962392118, 0.0646735371140174, 0.5829241478543434, 0.05432577117577461, 0.09485452110055885, 0.9828318601018836, 0.8915662053988826, 0.8629337460467932, 0.8963597640846233, 0.9246762799011008, 0.11693346611338533, 0.44824495343464377, 0.40926713139684867, 0.03745533595450474, 0.8989280629081137, 0.049940447939339654, 0.7903387765101922, 0.16295644876498808, 0.04073911219124702, 0.9649076856825017, 0.33867866291937987, 0.0857985946062429, 0.3161000853914212, 0.03161000853914212, 0.22127005977399486, 0.9473725917838897, 0.16772267325083468, 0.5590755775027823, 0.08386133662541734, 0.16772267325083468, 0.19119344054845464, 0.7860174778103135, 0.02124371561649496, 0.9201879763360299, 0.17247217844974416, 0.8048701660988061, 0.9299639306426436, 0.9499696074129204, 0.9844873715309018, 0.9928488724003136, 0.37803314578966113, 0.25338437879955666, 0.36577261133161804, 0.7674506802814439, 0.9815187937476784, 0.9844399022590942, 0.4656164489630452, 0.06651663556614931, 0.05820205612038065, 0.35752691616805254, 0.041572897228843324, 0.9746681686032534, 0.45000136676649377, 0.5000015186294375, 0.9242521320173122, 0.7299555798640162, 0.2685685624027984, 0.943143401051109, 0.910885122627907, 0.8533923962229778, 0.14223206603716296, 0.4373918597319085, 0.51029050302056, 0.8855040031960341, 0.9869079636373194, 0.11613940593955063, 0.8793412163994548, 0.4441117073243765, 0.14544009128751512, 0.012985722436385278, 0.29088018257503023, 0.10388577949108223, 0.957840389006965, 0.03871598115499673, 0.9485415382974198, 0.8853960607987694, 0.9281881932389882, 0.13759169112200942, 0.5962306615287075, 0.22931948520334905, 0.9744893419675694, 0.351817458719135, 0.6429767349004881, 0.9073796003436777, 0.2981241124643959, 0.4728865232193866, 0.0719609926638197, 0.15420212713675652, 0.9013530134826628, 0.05633456334266643, 0.9639074540500367, 0.9431167874509588, 0.037724671498038355, 0.9831762231133578, 0.9464356589589237, 0.9828318601018836, 0.9447953809892032, 0.8755217071502172, 0.9701293251349337, 0.024875110900895735, 0.2556587005251073, 0.0929668001909481, 0.6507676013366368, 0.12329974473313997, 0.16439965964418662, 0.6986985534877932, 0.035476725069851486, 0.9223948518161386, 0.9828318601018836, 0.9045424688828905, 0.055872091871917266, 0.8939534699506763, 0.8720409236689977, 0.02198422496644532, 0.10259304984341149, 0.9587094626478455, 0.956612954393458, 0.09369090850469323, 0.8994327216450549, 0.919877008630081, 0.07440181687449185, 0.9537441710838497, 0.9639241144909687, 0.889843930958818, 0.10098362367356413, 0.00831629842017587, 0.20253707732337184, 0.3544398853159007, 0.43039128931216514, 0.03634787306079862, 0.945044699580764, 0.9302437469292517, 0.8438787864482908, 0.07020851241250055, 0.006883187491421622, 0.016519649979411893, 0.0619486874227946, 0.2061464992963993, 0.7853199973196163, 0.18842676777882983, 0.8008137630600267, 0.8382268278173256, 0.1289579735103578, 0.031127786709396706, 0.9518110841441259, 0.8581248811025756, 0.9838380071680102, 0.8891519180811405, 0.8126274789922041, 0.8304560481077615, 0.9594393547841804, 0.3357996640989035, 0.3477925092452929, 0.3118139738061247, 0.43412846867086846, 0.4819851502566335, 0.03760167838881538, 0.044438347186781815, 0.4400949390724185, 0.08587218323364262, 0.021468045808410656, 0.4508289619766238, 0.9983076475764207, 0.9708585669116415, 0.41172749555773597, 0.15031321266393535, 0.02614142828938006, 0.41172749555773597, 0.968686561774395, 0.9809636584993608, 0.18426191739784806, 0.07370476695913923, 0.6879111582852995, 0.04913651130609282, 0.7648124401379414, 0.9379718705892276, 0.052109548366068195, 0.9318125556647261, 0.9650180082292419, 0.9951070293586124, 0.8048027841998245, 0.08527068945063586, 0.4832005735536032, 0.16343548811371872, 0.19185905126393066, 0.07105890787552988, 0.9632517559519855, 0.5488785070189787, 0.4391028056151829, 0.7543214678744561, 0.977439493204916, 0.9426398598892277, 0.9550975835929817, 0.9880049184056919, 0.47553960486116176, 0.46930301987937606, 0.05457011859062512, 0.8751496233637058, 0.8136177126791003, 0.03537468315996089, 0.14149873263984356, 0.03342899851016721, 0.6017219731830098, 0.030857537086308194, 0.3330042543897426, 0.001285730711929508, 0.44415753262776536, 0.09870167391728119, 0.39480669566912474, 0.9688858257664468, 0.31596635823458646, 0.15798317911729323, 0.08506786567854252, 0.4253393283927126, 0.15933247626280791, 0.23899871439421186, 0.5974967859855297, 0.5860994112633644, 0.028824561209673655, 0.23059648967738924, 0.14412280604836827, 0.9604204094176174, 0.25013735297421386, 0.7420741471568344, 0.31607594901094704, 0.5981933249876601, 0.06530494814275765, 0.01306098962855153, 0.007836593777130918, 0.6224470040441223, 0.2144215431991458, 0.04579877621729328, 0.0645346392152769, 0.02289938810864664, 0.02914467577464118, 0.9837575552785834, 0.16278271076571274, 0.42730461575999595, 0.22382622730285504, 0.14243487191999865, 0.4824094967377621, 0.4292626877751273, 0.012264648222146495, 0.03168367457387845, 0.02044108037024416, 0.019419026351731948, 0.003066162055536624, 0.8952763739286512, 0.951480724289581, 0.9911457314964106, 0.071904693306111, 0.8197135036896654, 0.10066657062855541, 0.9510871190652972, 0.5145698805652985, 0.4802652218609453, 0.8948340698492286, 0.98375127535547, 0.990656674314038, 0.9782922883557861, 0.05265452965712609, 0.1895563067656539, 0.7582252270626156, 0.7091692654918098, 0.21103306862386037, 0.007361618672925362, 0.04539664848303973, 0.026992601800726327, 0.98276138598378, 0.9755318365264357, 0.8270972871887429, 0.44998999791451477, 0.032142142708179625, 0.514274283330874, 0.9179895391869635, 0.7832405990653339, 0.8252692886868502, 0.118479254316429, 0.03268393222522179, 0.020427457640763622, 0.36586495421183995, 0.6328474883664259, 0.936129931230339, 0.973426191779526, 0.9228390604162415, 0.5079914394729972, 0.2978092154208403, 0.1072358285980392, 0.045345436092885154, 0.03983045062212885, 0.0024511046536694675, 0.1062482754771825, 0.5843655151245037, 0.29218275756225187, 0.3725081576557004, 0.6208469294261674, 0.9539224365091643, 0.03974676818788185, 0.9648653658608105, 0.8513241398182458, 0.1486438974285826, 0.9428239208172727, 0.103809193808974, 0.2521080421075083, 0.311427581426922, 0.311427581426922, 0.9815187937476784, 0.9828318601018836, 0.9828318601018836, 0.9908837713624362, 0.3492252021324437, 0.3363860402893391, 0.04365315026655546, 0.16947693632898, 0.053924479741039096, 0.028246156054830003, 0.015406994211725457, 0.005135664737241819, 0.16010980388152793, 0.3380095859721145, 0.4981193898536424, 0.19302224254798353, 0.19302224254798353, 0.5790667276439506, 0.24761174520220064, 0.6073894946412955, 0.11428234393947721, 0.027512416133577848, 0.8693698348892958, 0.5402065713074559, 0.08247428569579479, 0.14845371425243062, 0.13195885711327165, 0.09072171426537427, 0.9442346372802937, 0.07795340979816662, 0.9042595536587328, 0.5356446387313873, 0.3895597372591908, 0.04869496715739885, 0.9828318601018836, 0.9566551155657291, 0.9774009444709697, 0.3320337545392436, 0.14907637958904815, 0.3455861526837025, 0.1219715833001303, 0.040657194433376766, 0.9621616090968313, 0.5162178235091905, 0.23707781524125787, 0.10324356470183811, 0.0675544312246595, 0.07520210268405492, 0.05510103336185719, 0.8402907587683222, 0.10331443755348223, 0.2570089426307039, 0.3405368489856827, 0.16705581270995756, 0.14135491844688716, 0.06425223565767597, 0.025700894263070394, 0.15688558579055908, 0.8272149068956751, 0.09337145604032009, 0.7780954670026673, 0.12449527472042678, 0.927768205163442, 0.4713795285150466, 0.32422930532780986, 0.13218579371056863, 0.014964429476668147, 0.05486957474778321, 0.890382426951361, 0.9835551017652807], \"Term\": [\"abit\", \"absorb\", \"absorb\", \"absorb\", \"absorbant\", \"absorbency\", \"absorbency\", \"absorbent\", \"absorbent\", \"absorption\", \"accord\", \"accord\", \"additional\", \"adhere\", \"adhesion\", \"adhesive\", \"advertise\", \"advertise\", \"align\", \"allergic\", \"allergy\", \"allergy\", \"amazing\", \"amazing\", \"amazing\", \"amount\", \"amount\", \"amount\", \"angle\", \"applicator\", \"arrive\", \"arrive\", \"arrive\", \"arrive\", \"ask\", \"ask\", \"back\", \"back\", \"back\", \"backing\", \"bag\", \"bamboo\", \"band\", \"beginner\", \"bin\", \"bleach\", \"bleed\", \"bleeding\", \"blood\", \"blood\", \"boil\", \"boil\", \"boot\", \"box\", \"box\", \"box\", \"brand\", \"brand\", \"brand\", \"brand\", \"brand\", \"brand\", \"breathable\", \"brilliant\", \"brilliant\", \"buck\", \"bulky\", \"bulky\", \"bunch\", \"bunching\", \"bust\", \"buy\", \"buy\", \"buy\", \"buy\", \"buy\", \"buy\", \"buying\", \"buying\", \"calm\", \"canvas\", \"capacity\", \"cardboard\", \"cardboard\", \"carefree\", \"carry\", \"carry\", \"carry\", \"cause\", \"cause\", \"cause\", \"cause\", \"certify\", \"cervix\", \"change\", \"change\", \"change\", \"change\", \"change\", \"cheap\", \"cheap\", \"cheap\", \"cheap\", \"cheap\", \"chemical\", \"chemical\", \"chemical\", \"clean\", \"clean\", \"clean\", \"clean\", \"cleaner\", \"cleanser\", \"clickstream\", \"clientid\", \"clientprefix\", \"clothe\", \"collapse\", \"collection\", \"combine\", \"come\", \"come\", \"come\", \"come\", \"come\", \"come\", \"come\", \"come\", \"comfortable\", \"comfortable\", \"comfortable\", \"comfortable\", \"comfortable\", \"comfy\", \"complain\", \"complain\", \"complete\", \"complete\", \"complete\", \"confidence\", \"confortable\", \"constant\", \"contain\", \"contain\", \"contain\", \"cord\", \"correct\", \"cotton\", \"cotton\", \"cotton\", \"country\", \"country\", \"cover\", \"cover\", \"cover\", \"coverage\", \"coverage\", \"crush\", \"cup\", \"cup\", \"customer\", \"customer\", \"customerevent\", \"customerid\", \"cycle\", \"cycle\", \"cycle\", \"cycle\", \"daily\", \"damage\", \"damage\", \"day\", \"day\", \"decent\", \"decrease\", \"delicate\", \"deliver\", \"deliver\", \"delivery\", \"delivery\", \"describe\", \"describe\", \"description\", \"different\", \"different\", \"different\", \"different\", \"disc\", \"disc\", \"discharge\", \"discreet\", \"discreet\", \"discrete\", \"disgusting\", \"disintegrate\", \"disk\", \"disk\", \"disposal\", \"dispose\", \"diva\", \"done\", \"door\", \"drawback\", \"drawer\", \"dress\", \"dryness\", \"durability\", \"d\\u00e9sactiv\\u00e9\", \"easy\", \"easy\", \"easy\", \"easy\", \"economical\", \"effective\", \"effective\", \"effective\", \"elderly\", \"embarrassing\", \"empty\", \"empty\", \"endometriosis\", \"endpoint\", \"enjoy\", \"envelope\", \"equivalent\", \"error\", \"ethical\", \"event\", \"event\", \"eventowner\", \"eventtype\", \"expand\", \"expand\", \"extra\", \"extra\", \"extra\", \"fabric\", \"fact\", \"fact\", \"fact\", \"fact\", \"fair\", \"fall\", \"fall\", \"false\", \"family\", \"fast\", \"faulty\", \"feel\", \"feel\", \"feel\", \"feel\", \"feel\", \"feminine\", \"fence\", \"fiber\", \"fiddly\", \"find\", \"find\", \"find\", \"find\", \"find\", \"find\", \"find\", \"finish\", \"firm\", \"first\", \"first\", \"first\", \"fishing\", \"fit\", \"fit\", \"flexible\", \"flimsy\", \"flow\", \"flow\", \"flow\", \"flower\", \"fluid\", \"foam\", \"fold\", \"fold\", \"follow\", \"free\", \"free\", \"free\", \"free\", \"free\", \"free\", \"fresh\", \"fresh\", \"fresh\", \"fresh\", \"friendly\", \"friendly\", \"friendly\", \"friendly\", \"frustration\", \"frustration\", \"garbage\", \"generation\", \"generation\", \"gentle\", \"gift\", \"give\", \"give\", \"give\", \"give\", \"give\", \"glue\", \"go\", \"go\", \"go\", \"go\", \"go\", \"going\", \"good\", \"good\", \"good\", \"good\", \"good\", \"good\", \"great\", \"great\", \"great\", \"grip\", \"gripe\", \"grow\", \"gusset\", \"happy\", \"happy\", \"happy\", \"happy\", \"happy\", \"happy\", \"hard\", \"hard\", \"hard\", \"harsh\", \"health\", \"health\", \"health\", \"healthy\", \"healthy\", \"heavy\", \"heavy\", \"hide\", \"high\", \"high\", \"hold\", \"hold\", \"hold\", \"hold\", \"holiday\", \"hour\", \"hour\", \"https\", \"hygiene\", \"hygienic\", \"image\", \"impressed\", \"impression\", \"inch\", \"inch\", \"incredible\", \"individual\", \"individual\", \"ingredient\", \"insert\", \"insert\", \"insert\", \"inserting\", \"insertion\", \"insertion\", \"instruction\", \"instruction\", \"internet\", \"irritate\", \"irritated\", \"irritation\", \"irritation\", \"irritation\", \"isinternal\", \"issue\", \"issue\", \"issue\", \"itch\", \"item\", \"item\", \"item\", \"item\", \"item\", \"ivevideoview\", \"keep\", \"keep\", \"keep\", \"keep\", \"keep\", \"keep\", \"knicker\", \"know\", \"know\", \"know\", \"know\", \"know\", \"know\", \"kotex\", \"label\", \"lack\", \"landfill\", \"large\", \"last\", \"last\", \"last\", \"last\", \"last\", \"layer\", \"leak\", \"leak\", \"leak\", \"length\", \"length\", \"let\", \"life\", \"light\", \"light\", \"light\", \"lightweight\", \"like\", \"like\", \"like\", \"like\", \"lily\", \"liner\", \"little\", \"little\", \"little\", \"little\", \"little\", \"little\", \"long\", \"long\", \"long\", \"long\", \"long\", \"long\", \"look\", \"look\", \"look\", \"look\", \"look\", \"look\", \"look\", \"love\", \"love\", \"love\", \"love\", \"love\", \"love\", \"lovely\", \"lubrication\", \"lumma\", \"make\", \"make\", \"make\", \"make\", \"make\", \"many\", \"many\", \"many\", \"many\", \"massive\", \"material\", \"material\", \"material\", \"material\", \"material\", \"medical\", \"menstrual\", \"menstrual\", \"menstrual\", \"menstrual\", \"mess\", \"mess\", \"metric\", \"mistake\", \"moisture\", \"money\", \"money\", \"money\", \"money\", \"money\", \"money\", \"month\", \"month\", \"month\", \"monthly\", \"monthly\", \"moon\", \"mooncup\", \"morning\", \"muscle\", \"napkin\", \"narrow\", \"natracare\", \"natural\", \"natural\", \"natural\", \"natural\", \"need\", \"need\", \"need\", \"need\", \"need\", \"need\", \"negative\", \"nerve\", \"nice\", \"nice\", \"nice\", \"nice\", \"nice\", \"night\", \"nixit\", \"odor\", \"okay\", \"one\", \"one\", \"one\", \"one\", \"open\", \"open\", \"open\", \"opt\", \"order\", \"order\", \"order\", \"order\", \"organic\", \"organyc\", \"overall\", \"overall\", \"overall\", \"overall\", \"overnight\", \"overpower\", \"ovio\", \"pack\", \"pack\", \"pack\", \"package\", \"package\", \"package\", \"package\", \"package\", \"packaging\", \"packaging\", \"packaging\", \"packaging\", \"pad\", \"pad\", \"pad\", \"pad\", \"pad\", \"pad\", \"pantie\", \"pantie\", \"pantie\", \"panty\", \"pantyliner\", \"pantyliner\", \"parfum\", \"part\", \"part\", \"part\", \"part\", \"part\", \"partum\", \"patient\", \"peel\", \"peesafe\", \"pelvic\", \"perfect\", \"perfect\", \"perfect\", \"perfect\", \"perfect\", \"perfect\", \"period\", \"period\", \"picture\", \"picture\", \"pill\", \"place\", \"place\", \"place\", \"place\", \"plan\", \"planet\", \"plastic\", \"plastic\", \"plastic\", \"plastic\", \"player\", \"playercard\", \"playertsmmetricsschemaid\", \"playtex\", \"plenty\", \"pocket\", \"postpartum\", \"practical\", \"preferred\", \"pregnant\", \"prepare\", \"prevail\", \"price\", \"price\", \"price\", \"problem\", \"problem\", \"problem\", \"process\", \"prod\", \"product\", \"product\", \"product\", \"product\", \"product\", \"productid\", \"prolapse\", \"prompt\", \"proof\", \"protect\", \"protection\", \"protection\", \"protection\", \"public\", \"public\", \"public\", \"pull\", \"pull\", \"pull\", \"pump\", \"purchase\", \"purchase\", \"purchase\", \"purchase\", \"purchase\", \"purchasing\", \"purpose\", \"purpose\", \"purpose\", \"purpose\", \"quality\", \"quality\", \"quality\", \"quantity\", \"rash\", \"rash\", \"rashe\", \"reaction\", \"realize\", \"receive\", \"recommend\", \"recommend\", \"recommend\", \"refill\", \"refmarker\", \"refund\", \"regular\", \"regular\", \"regular\", \"regular\", \"regular\", \"relaxed\", \"reliable\", \"reliable\", \"relief\", \"remove\", \"remove\", \"reorder\", \"repeat\", \"replace\", \"replace\", \"request\", \"request\", \"residue\", \"restroom\", \"return\", \"return\", \"review\", \"review\", \"review\", \"review\", \"review\", \"reviewer\", \"rinse\", \"rinse\", \"roll\", \"rough\", \"round\", \"round\", \"round\", \"rubber\", \"safe\", \"safe\", \"safety\", \"sanitary\", \"sanitary\", \"sanitary\", \"sanitary\", \"satisfied\", \"satisfied\", \"saver\", \"scare\", \"scare\", \"scent\", \"scented\", \"schemaid\", \"scrunch\", \"section\", \"self\", \"self\", \"send\", \"send\", \"send\", \"sensitive\", \"sensitive\", \"sensitive\", \"service\", \"service\", \"sessiontype\", \"seventh\", \"shame\", \"shame\", \"shape\", \"shape\", \"shape\", \"ship\", \"shop\", \"shower\", \"shower\", \"silicone\", \"silicone\", \"silky\", \"sink\", \"size\", \"size\", \"size\", \"skin\", \"skin\", \"skin\", \"sleep\", \"sleep\", \"slim\", \"small\", \"small\", \"small\", \"small\", \"small\", \"smell\", \"smell\", \"soap\", \"soap\", \"soft\", \"soft\", \"soft\", \"softcup\", \"soooo\", \"sous\", \"special\", \"sport\", \"stage\", \"standard\", \"star\", \"star\", \"star\", \"start\", \"start\", \"start\", \"start\", \"stay\", \"stay\", \"stay\", \"stay\", \"stem\", \"sterilizer\", \"stick\", \"stick\", \"stick\", \"stick\", \"sticky\", \"stiff\", \"store\", \"store\", \"store\", \"store\", \"straight\", \"string\", \"string\", \"strip\", \"style\", \"suction\", \"sufficient\", \"super\", \"super\", \"super\", \"super\", \"super\", \"supermarket\", \"support\", \"support\", \"surface\", \"swim\", \"synthetic\", \"system\", \"tail\", \"take\", \"take\", \"take\", \"taking\", \"tampax\", \"tampax\", \"tampax\", \"tampon\", \"tampon\", \"tampon\", \"tampon\", \"tampon\", \"tear\", \"tear\", \"tear\", \"teen\", \"test\", \"test\", \"test\", \"test\", \"thank\", \"thank\", \"thank\", \"thick\", \"thick\", \"thick\", \"thick\", \"thickness\", \"thin\", \"thin\", \"thing\", \"thing\", \"thing\", \"thing\", \"thing\", \"think\", \"think\", \"think\", \"think\", \"think\", \"think\", \"thong\", \"throw\", \"throw\", \"throw\", \"throw\", \"time\", \"time\", \"time\", \"time\", \"time\", \"time\", \"time\", \"timer\", \"tired\", \"titre\", \"toilet\", \"toilet\", \"toilet\", \"toss\", \"towel\", \"towel\", \"toy\", \"trash\", \"trim\", \"trouble\", \"true\", \"true\", \"true\", \"try\", \"try\", \"try\", \"try\", \"try\", \"tuck\", \"turn\", \"twisting\", \"ultra\", \"ultra\", \"ultra\", \"unable\", \"unacceptable\", \"uncomfortable\", \"uncomfortable\", \"uncomfortable\", \"uncomfortable\", \"underwear\", \"underwear\", \"unhappy\", \"unscented\", \"urine\", \"use\", \"use\", \"use\", \"use\", \"use\", \"use\", \"useful\", \"useful\", \"useful\", \"useless\", \"useless\", \"user\", \"user\", \"usual\", \"value\", \"value\", \"variety\", \"version\", \"version\", \"version\", \"version\", \"videoasinlist\", \"vsecardsevent\", \"vsecardsplayerevent\", \"vsemetric\", \"want\", \"want\", \"want\", \"want\", \"want\", \"want\", \"want\", \"want\", \"wash\", \"wash\", \"wash\", \"washing\", \"washing\", \"washing\", \"wear\", \"wear\", \"wear\", \"wear\", \"weight\", \"well\", \"well\", \"well\", \"well\", \"well\", \"white\", \"whole\", \"whole\", \"wide\", \"wide\", \"wide\", \"widgetmetricsschemaid\", \"width\", \"wing\", \"wish\", \"wish\", \"wish\", \"wish\", \"wish\", \"wonder\", \"work\", \"work\", \"work\", \"work\", \"work\", \"worry\", \"worry\", \"worry\", \"worth\", \"worth\", \"worth\", \"worth\", \"worth\", \"worth\", \"wrap\", \"wrap\", \"wrapper\", \"wrapper\", \"wrapper\", \"wrapping\", \"year\", \"year\", \"year\", \"year\", \"year\", \"yeast\", \"youtube\"]}, \"R\": 30, \"lambda.step\": 0.01, \"plot.opts\": {\"xlab\": \"PC1\", \"ylab\": \"PC2\"}, \"topic.order\": [7, 10, 4, 6, 2, 1, 3, 8, 9, 5]};\n",
       "\n",
       "function LDAvis_load_lib(url, callback){\n",
       "  var s = document.createElement('script');\n",
       "  s.src = url;\n",
       "  s.async = true;\n",
       "  s.onreadystatechange = s.onload = callback;\n",
       "  s.onerror = function(){console.warn(\"failed to load library \" + url);};\n",
       "  document.getElementsByTagName(\"head\")[0].appendChild(s);\n",
       "}\n",
       "\n",
       "if(typeof(LDAvis) !== \"undefined\"){\n",
       "   // already loaded: just create the visualization\n",
       "   !function(LDAvis){\n",
       "       new LDAvis(\"#\" + \"ldavis_el4562112973148963526212485\", ldavis_el4562112973148963526212485_data);\n",
       "   }(LDAvis);\n",
       "}else if(typeof define === \"function\" && define.amd){\n",
       "   // require.js is available: use it to load d3/LDAvis\n",
       "   require.config({paths: {d3: \"https://d3js.org/d3.v5\"}});\n",
       "   require([\"d3\"], function(d3){\n",
       "      window.d3 = d3;\n",
       "      LDAvis_load_lib(\"https://cdn.jsdelivr.net/gh/bmabey/pyLDAvis@3.4.0/pyLDAvis/js/ldavis.v3.0.0.js\", function(){\n",
       "        new LDAvis(\"#\" + \"ldavis_el4562112973148963526212485\", ldavis_el4562112973148963526212485_data);\n",
       "      });\n",
       "    });\n",
       "}else{\n",
       "    // require.js not available: dynamically load d3 & LDAvis\n",
       "    LDAvis_load_lib(\"https://d3js.org/d3.v5.js\", function(){\n",
       "         LDAvis_load_lib(\"https://cdn.jsdelivr.net/gh/bmabey/pyLDAvis@3.4.0/pyLDAvis/js/ldavis.v3.0.0.js\", function(){\n",
       "                 new LDAvis(\"#\" + \"ldavis_el4562112973148963526212485\", ldavis_el4562112973148963526212485_data);\n",
       "            })\n",
       "         });\n",
       "}\n",
       "</script>"
      ],
      "text/plain": [
       "PreparedData(topic_coordinates=              x         y  topics  cluster       Freq\n",
       "topic                                                \n",
       "6     -0.221910  0.089536       1        1  42.366210\n",
       "9     -0.202600  0.115153       2        1  23.366789\n",
       "3     -0.160288 -0.015835       3        1  10.639134\n",
       "5     -0.108230  0.001590       4        1   6.223975\n",
       "1      0.297927  0.285474       5        1   4.359263\n",
       "0      0.043695 -0.076998       6        1   3.780520\n",
       "2      0.014883 -0.120945       7        1   3.615846\n",
       "7     -0.019981 -0.054740       8        1   2.927269\n",
       "8      0.191824 -0.124679       9        1   1.518507\n",
       "4      0.164680 -0.098557      10        1   1.202485, topic_info=            Term         Freq        Total Category  logprob  loglift\n",
       "157      product  1159.000000  1159.000000  Default  30.0000  30.0000\n",
       "137  comfortable   768.000000   768.000000  Default  29.0000  29.0000\n",
       "101       tampon   777.000000   777.000000  Default  28.0000  28.0000\n",
       "48         false   340.000000   340.000000  Default  27.0000  27.0000\n",
       "291        great   681.000000   681.000000  Default  26.0000  26.0000\n",
       "..           ...          ...          ...      ...      ...      ...\n",
       "145      monthly     6.196878    16.443333  Topic10  -5.1963   3.4449\n",
       "588       health     6.661761    20.932342  Topic10  -5.1240   3.2759\n",
       "626        throw     7.288215    49.145268  Topic10  -5.0341   2.5123\n",
       "427      purpose     6.263365    35.773339  Topic10  -5.1857   2.6783\n",
       "574         item     6.228796    78.891179  Topic10  -5.1912   1.8819\n",
       "\n",
       "[609 rows x 6 columns], token_table=      Topic      Freq       Term\n",
       "term                            \n",
       "936      10  0.600590       abit\n",
       "321       2  0.034212     absorb\n",
       "321       4  0.530281     absorb\n",
       "321       7  0.427646     absorb\n",
       "136       9  0.940400  absorbant\n",
       "...     ...       ...        ...\n",
       "12        3  0.132186       year\n",
       "12        4  0.014964       year\n",
       "12        8  0.054870       year\n",
       "2613      4  0.890382      yeast\n",
       "1235      1  0.983555    youtube\n",
       "\n",
       "[999 rows x 3 columns], R=30, lambda_step=0.01, plot_opts={'xlab': 'PC1', 'ylab': 'PC2'}, topic_order=[7, 10, 4, 6, 2, 1, 3, 8, 9, 5])"
      ]
     },
     "execution_count": 39,
     "metadata": {},
     "output_type": "execute_result"
    }
   ],
   "source": [
    "import pyLDAvis\n",
    "import pyLDAvis.gensim_models\n",
    "\n",
    "pyLDAvis.enable_notebook()\n",
    "pyLDAvis.gensim_models.prepare(\n",
    "    topic_model=LDA_result[\"model\"],\n",
    "    corpus=LDA_result[\"doc_term_matrix\"],\n",
    "    dictionary=LDA_result[\"dictionary\"],\n",
    ")\n"
   ]
  }
 ],
 "metadata": {
  "kernelspec": {
   "display_name": ".venv",
   "language": "python",
   "name": "python3"
  },
  "language_info": {
   "codemirror_mode": {
    "name": "ipython",
    "version": 3
   },
   "file_extension": ".py",
   "mimetype": "text/x-python",
   "name": "python",
   "nbconvert_exporter": "python",
   "pygments_lexer": "ipython3",
   "version": "3.11.6"
  }
 },
 "nbformat": 4,
 "nbformat_minor": 2
}
