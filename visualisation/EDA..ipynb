{
 "cells": [
  {
   "cell_type": "code",
   "execution_count": 1,
   "metadata": {},
   "outputs": [],
   "source": [
    "import pandas as pd\n",
    "import seaborn as sns\n",
    "import numpy as np\n",
    "import matplotlib.pyplot as plt\n",
    "import plotly.express as px\n"
   ]
  },
  {
   "cell_type": "code",
   "execution_count": 2,
   "metadata": {},
   "outputs": [],
   "source": [
    "products_df = pd.read_csv(\"../data/products.csv\")\n",
    "reviews_df = pd.read_csv(\"../data/reviews_en.csv\")\n"
   ]
  },
  {
   "cell_type": "code",
   "execution_count": 3,
   "metadata": {},
   "outputs": [],
   "source": [
    "# Set option to display all columns (None means no limit)\n",
    "# pd.set_option('display.max_columns', None)\n",
    "\n",
    "# Set option to display all rows (None means no limit)\n",
    "# pd.set_option('display.max_rows', None)\n",
    "\n",
    "# Increase the width of columns to prevent wrapping\n",
    "# pd.set_option('display.max_colwidth', None)\n"
   ]
  },
  {
   "cell_type": "markdown",
   "metadata": {},
   "source": [
    "### 1. Data cleaning\n"
   ]
  },
  {
   "cell_type": "code",
   "execution_count": 4,
   "metadata": {},
   "outputs": [
    {
     "data": {
      "text/plain": [
       "Index(['Unnamed: 0', 'asin', 'thumbnail', 'title', 'avg_rating', 'brand',\n",
       "       'category', 'feature_bullets', 'num_reviews', 'price', 'unities'],\n",
       "      dtype='object')"
      ]
     },
     "execution_count": 4,
     "metadata": {},
     "output_type": "execute_result"
    }
   ],
   "source": [
    "products_df.columns\n"
   ]
  },
  {
   "cell_type": "code",
   "execution_count": 5,
   "metadata": {},
   "outputs": [
    {
     "data": {
      "text/html": [
       "<div>\n",
       "<style scoped>\n",
       "    .dataframe tbody tr th:only-of-type {\n",
       "        vertical-align: middle;\n",
       "    }\n",
       "\n",
       "    .dataframe tbody tr th {\n",
       "        vertical-align: top;\n",
       "    }\n",
       "\n",
       "    .dataframe thead th {\n",
       "        text-align: right;\n",
       "    }\n",
       "</style>\n",
       "<table border=\"1\" class=\"dataframe\">\n",
       "  <thead>\n",
       "    <tr style=\"text-align: right;\">\n",
       "      <th></th>\n",
       "      <th>Unnamed: 0</th>\n",
       "      <th>asin</th>\n",
       "      <th>thumbnail</th>\n",
       "      <th>title</th>\n",
       "      <th>avg_rating</th>\n",
       "      <th>brand</th>\n",
       "      <th>category</th>\n",
       "      <th>feature_bullets</th>\n",
       "      <th>num_reviews</th>\n",
       "      <th>price</th>\n",
       "      <th>unities</th>\n",
       "    </tr>\n",
       "  </thead>\n",
       "  <tbody>\n",
       "    <tr>\n",
       "      <th>0</th>\n",
       "      <td>0</td>\n",
       "      <td>B07BFMNKBJ</td>\n",
       "      <td>https://m.media-amazon.com/images/I/71MyAkpL3P...</td>\n",
       "      <td>Nett Original Tampon sans Applicateur, Super P...</td>\n",
       "      <td>4.7</td>\n",
       "      <td>Nett</td>\n",
       "      <td>Tampons</td>\n",
       "      <td>['Son ouverture en corolle permet une adaptati...</td>\n",
       "      <td>223.0</td>\n",
       "      <td>2.66</td>\n",
       "      <td>32.0</td>\n",
       "    </tr>\n",
       "    <tr>\n",
       "      <th>1</th>\n",
       "      <td>1</td>\n",
       "      <td>B07YQG6J8C</td>\n",
       "      <td>https://m.media-amazon.com/images/I/71z+FTDoel...</td>\n",
       "      <td>Nett® ProComfort® Normal, Tampon Sans Applicat...</td>\n",
       "      <td>4.6</td>\n",
       "      <td>Nett</td>\n",
       "      <td>Tampons</td>\n",
       "      <td>[\"Les tampons Nett ProComfort sont ultra confo...</td>\n",
       "      <td>303.0</td>\n",
       "      <td>3.79</td>\n",
       "      <td>24.0</td>\n",
       "    </tr>\n",
       "    <tr>\n",
       "      <th>2</th>\n",
       "      <td>2</td>\n",
       "      <td>B07DX91LR6</td>\n",
       "      <td>https://m.media-amazon.com/images/I/81aKn18Bqs...</td>\n",
       "      <td>Tampax Compak Pearl, Super, 18 Tampons Avec Ap...</td>\n",
       "      <td>4.7</td>\n",
       "      <td>Always</td>\n",
       "      <td>Tampons</td>\n",
       "      <td>['La combinaison n°\\xa01 de confort, protectio...</td>\n",
       "      <td>859.0</td>\n",
       "      <td>3.10</td>\n",
       "      <td>18.0</td>\n",
       "    </tr>\n",
       "    <tr>\n",
       "      <th>3</th>\n",
       "      <td>3</td>\n",
       "      <td>B082VVC4ZB</td>\n",
       "      <td>https://m.media-amazon.com/images/I/71IHCEr+Kr...</td>\n",
       "      <td>Nett Original Tampon sans Applicateur, Super, ...</td>\n",
       "      <td>4.7</td>\n",
       "      <td>Nett</td>\n",
       "      <td>Tampons</td>\n",
       "      <td>['Son ouverture en corolle permet une adaptati...</td>\n",
       "      <td>144.0</td>\n",
       "      <td>2.81</td>\n",
       "      <td>32.0</td>\n",
       "    </tr>\n",
       "    <tr>\n",
       "      <th>4</th>\n",
       "      <td>4</td>\n",
       "      <td>B0BQJQW12P</td>\n",
       "      <td>https://m.media-amazon.com/images/I/61omM04gC2...</td>\n",
       "      <td>Tampax Cotton Protection, Super Plus, 18 Tampo...</td>\n",
       "      <td>4.7</td>\n",
       "      <td>Always</td>\n",
       "      <td>Tampons</td>\n",
       "      <td>['Tampax offre une protection longue durée ave...</td>\n",
       "      <td>30.0</td>\n",
       "      <td>4.50</td>\n",
       "      <td>18.0</td>\n",
       "    </tr>\n",
       "  </tbody>\n",
       "</table>\n",
       "</div>"
      ],
      "text/plain": [
       "   Unnamed: 0        asin                                          thumbnail  \\\n",
       "0           0  B07BFMNKBJ  https://m.media-amazon.com/images/I/71MyAkpL3P...   \n",
       "1           1  B07YQG6J8C  https://m.media-amazon.com/images/I/71z+FTDoel...   \n",
       "2           2  B07DX91LR6  https://m.media-amazon.com/images/I/81aKn18Bqs...   \n",
       "3           3  B082VVC4ZB  https://m.media-amazon.com/images/I/71IHCEr+Kr...   \n",
       "4           4  B0BQJQW12P  https://m.media-amazon.com/images/I/61omM04gC2...   \n",
       "\n",
       "                                               title  avg_rating   brand  \\\n",
       "0  Nett Original Tampon sans Applicateur, Super P...         4.7    Nett   \n",
       "1  Nett® ProComfort® Normal, Tampon Sans Applicat...         4.6    Nett   \n",
       "2  Tampax Compak Pearl, Super, 18 Tampons Avec Ap...         4.7  Always   \n",
       "3  Nett Original Tampon sans Applicateur, Super, ...         4.7    Nett   \n",
       "4  Tampax Cotton Protection, Super Plus, 18 Tampo...         4.7  Always   \n",
       "\n",
       "  category                                    feature_bullets  num_reviews  \\\n",
       "0  Tampons  ['Son ouverture en corolle permet une adaptati...        223.0   \n",
       "1  Tampons  [\"Les tampons Nett ProComfort sont ultra confo...        303.0   \n",
       "2  Tampons  ['La combinaison n°\\xa01 de confort, protectio...        859.0   \n",
       "3  Tampons  ['Son ouverture en corolle permet une adaptati...        144.0   \n",
       "4  Tampons  ['Tampax offre une protection longue durée ave...         30.0   \n",
       "\n",
       "   price  unities  \n",
       "0   2.66     32.0  \n",
       "1   3.79     24.0  \n",
       "2   3.10     18.0  \n",
       "3   2.81     32.0  \n",
       "4   4.50     18.0  "
      ]
     },
     "execution_count": 5,
     "metadata": {},
     "output_type": "execute_result"
    }
   ],
   "source": [
    "products_df.head()\n"
   ]
  },
  {
   "cell_type": "code",
   "execution_count": 6,
   "metadata": {},
   "outputs": [],
   "source": [
    "products_df.drop(columns=[\"Unnamed: 0\"], inplace=True)\n"
   ]
  },
  {
   "cell_type": "code",
   "execution_count": 7,
   "metadata": {},
   "outputs": [
    {
     "data": {
      "text/plain": [
       "asin                 0\n",
       "thumbnail            0\n",
       "title                0\n",
       "avg_rating         179\n",
       "brand                2\n",
       "category             3\n",
       "feature_bullets     66\n",
       "num_reviews        179\n",
       "price               44\n",
       "unities            703\n",
       "dtype: int64"
      ]
     },
     "execution_count": 7,
     "metadata": {},
     "output_type": "execute_result"
    }
   ],
   "source": [
    "products_df.isna().sum()\n"
   ]
  },
  {
   "cell_type": "code",
   "execution_count": 8,
   "metadata": {},
   "outputs": [
    {
     "data": {
      "text/plain": [
       "asin                object\n",
       "thumbnail           object\n",
       "title               object\n",
       "avg_rating         float64\n",
       "brand               object\n",
       "category            object\n",
       "feature_bullets     object\n",
       "num_reviews        float64\n",
       "price              float64\n",
       "unities            float64\n",
       "dtype: object"
      ]
     },
     "execution_count": 8,
     "metadata": {},
     "output_type": "execute_result"
    }
   ],
   "source": [
    "products_df.dtypes\n"
   ]
  },
  {
   "cell_type": "code",
   "execution_count": 9,
   "metadata": {},
   "outputs": [],
   "source": [
    "products_df[\"category\"] = products_df[\"category\"].astype(str).fillna(\"Unknown\")\n"
   ]
  },
  {
   "cell_type": "code",
   "execution_count": 10,
   "metadata": {},
   "outputs": [
    {
     "data": {
      "text/plain": [
       "array(['Tampons', 'nan', 'Serviettes hygièniques', 'Lames', 'Shorties',\n",
       "       'Déodorant', 'Culottes', 'Culottes et slips',\n",
       "       'Culottes et sous-vêtements de protection', 'Femme',\n",
       "       'Hygiène et soins intimes', 'Coupes menstruelles',\n",
       "       'Hygiène et épilation', 'Vitamines, minéraux et compléments',\n",
       "       'Protège-slips',\n",
       "       'Protections, serviettes hygiéniques, couches pour adultes, protège-slips',\n",
       "       'Vêtements de contention médicaux', 'Incontinence', 'Visage',\n",
       "       'Coussinets pour chaussures', 'Beauté et soins',\n",
       "       \"Produits d'hygiène féminine\", 'Épilation à la cire', 'Bannetons',\n",
       "       'Bien-être', \"Diffuseurs d'huiles essentielles\"], dtype=object)"
      ]
     },
     "execution_count": 10,
     "metadata": {},
     "output_type": "execute_result"
    }
   ],
   "source": [
    "products_df[\"category\"].unique()\n"
   ]
  },
  {
   "cell_type": "code",
   "execution_count": 11,
   "metadata": {},
   "outputs": [],
   "source": [
    "cats_to_keep = [\n",
    "    \"Tampons\",\n",
    "    \"Serviettes hygièniques\",\n",
    "    \"Culottes et sous-vêtements de protection\",\n",
    "    \"Coupes menstruelles\",\n",
    "    \"Protections, serviettes hygiéniques, couches pour adultes, protège-slips\",\n",
    "]\n"
   ]
  },
  {
   "cell_type": "code",
   "execution_count": 12,
   "metadata": {},
   "outputs": [
    {
     "data": {
      "text/html": [
       "<div>\n",
       "<style scoped>\n",
       "    .dataframe tbody tr th:only-of-type {\n",
       "        vertical-align: middle;\n",
       "    }\n",
       "\n",
       "    .dataframe tbody tr th {\n",
       "        vertical-align: top;\n",
       "    }\n",
       "\n",
       "    .dataframe thead th {\n",
       "        text-align: right;\n",
       "    }\n",
       "</style>\n",
       "<table border=\"1\" class=\"dataframe\">\n",
       "  <thead>\n",
       "    <tr style=\"text-align: right;\">\n",
       "      <th></th>\n",
       "      <th>asin</th>\n",
       "      <th>thumbnail</th>\n",
       "      <th>title</th>\n",
       "      <th>avg_rating</th>\n",
       "      <th>brand</th>\n",
       "      <th>category</th>\n",
       "      <th>feature_bullets</th>\n",
       "      <th>num_reviews</th>\n",
       "      <th>price</th>\n",
       "      <th>unities</th>\n",
       "    </tr>\n",
       "  </thead>\n",
       "  <tbody>\n",
       "    <tr>\n",
       "      <th>0</th>\n",
       "      <td>B07BFMNKBJ</td>\n",
       "      <td>https://m.media-amazon.com/images/I/71MyAkpL3P...</td>\n",
       "      <td>Nett Original Tampon sans Applicateur, Super P...</td>\n",
       "      <td>4.7</td>\n",
       "      <td>Nett</td>\n",
       "      <td>Tampons</td>\n",
       "      <td>['Son ouverture en corolle permet une adaptati...</td>\n",
       "      <td>223.0</td>\n",
       "      <td>2.66</td>\n",
       "      <td>32.0</td>\n",
       "    </tr>\n",
       "    <tr>\n",
       "      <th>1</th>\n",
       "      <td>B07YQG6J8C</td>\n",
       "      <td>https://m.media-amazon.com/images/I/71z+FTDoel...</td>\n",
       "      <td>Nett® ProComfort® Normal, Tampon Sans Applicat...</td>\n",
       "      <td>4.6</td>\n",
       "      <td>Nett</td>\n",
       "      <td>Tampons</td>\n",
       "      <td>[\"Les tampons Nett ProComfort sont ultra confo...</td>\n",
       "      <td>303.0</td>\n",
       "      <td>3.79</td>\n",
       "      <td>24.0</td>\n",
       "    </tr>\n",
       "    <tr>\n",
       "      <th>2</th>\n",
       "      <td>B07DX91LR6</td>\n",
       "      <td>https://m.media-amazon.com/images/I/81aKn18Bqs...</td>\n",
       "      <td>Tampax Compak Pearl, Super, 18 Tampons Avec Ap...</td>\n",
       "      <td>4.7</td>\n",
       "      <td>Always</td>\n",
       "      <td>Tampons</td>\n",
       "      <td>['La combinaison n°\\xa01 de confort, protectio...</td>\n",
       "      <td>859.0</td>\n",
       "      <td>3.10</td>\n",
       "      <td>18.0</td>\n",
       "    </tr>\n",
       "    <tr>\n",
       "      <th>3</th>\n",
       "      <td>B082VVC4ZB</td>\n",
       "      <td>https://m.media-amazon.com/images/I/71IHCEr+Kr...</td>\n",
       "      <td>Nett Original Tampon sans Applicateur, Super, ...</td>\n",
       "      <td>4.7</td>\n",
       "      <td>Nett</td>\n",
       "      <td>Tampons</td>\n",
       "      <td>['Son ouverture en corolle permet une adaptati...</td>\n",
       "      <td>144.0</td>\n",
       "      <td>2.81</td>\n",
       "      <td>32.0</td>\n",
       "    </tr>\n",
       "    <tr>\n",
       "      <th>4</th>\n",
       "      <td>B0BQJQW12P</td>\n",
       "      <td>https://m.media-amazon.com/images/I/61omM04gC2...</td>\n",
       "      <td>Tampax Cotton Protection, Super Plus, 18 Tampo...</td>\n",
       "      <td>4.7</td>\n",
       "      <td>Always</td>\n",
       "      <td>Tampons</td>\n",
       "      <td>['Tampax offre une protection longue durée ave...</td>\n",
       "      <td>30.0</td>\n",
       "      <td>4.50</td>\n",
       "      <td>18.0</td>\n",
       "    </tr>\n",
       "  </tbody>\n",
       "</table>\n",
       "</div>"
      ],
      "text/plain": [
       "         asin                                          thumbnail  \\\n",
       "0  B07BFMNKBJ  https://m.media-amazon.com/images/I/71MyAkpL3P...   \n",
       "1  B07YQG6J8C  https://m.media-amazon.com/images/I/71z+FTDoel...   \n",
       "2  B07DX91LR6  https://m.media-amazon.com/images/I/81aKn18Bqs...   \n",
       "3  B082VVC4ZB  https://m.media-amazon.com/images/I/71IHCEr+Kr...   \n",
       "4  B0BQJQW12P  https://m.media-amazon.com/images/I/61omM04gC2...   \n",
       "\n",
       "                                               title  avg_rating   brand  \\\n",
       "0  Nett Original Tampon sans Applicateur, Super P...         4.7    Nett   \n",
       "1  Nett® ProComfort® Normal, Tampon Sans Applicat...         4.6    Nett   \n",
       "2  Tampax Compak Pearl, Super, 18 Tampons Avec Ap...         4.7  Always   \n",
       "3  Nett Original Tampon sans Applicateur, Super, ...         4.7    Nett   \n",
       "4  Tampax Cotton Protection, Super Plus, 18 Tampo...         4.7  Always   \n",
       "\n",
       "  category                                    feature_bullets  num_reviews  \\\n",
       "0  Tampons  ['Son ouverture en corolle permet une adaptati...        223.0   \n",
       "1  Tampons  [\"Les tampons Nett ProComfort sont ultra confo...        303.0   \n",
       "2  Tampons  ['La combinaison n°\\xa01 de confort, protectio...        859.0   \n",
       "3  Tampons  ['Son ouverture en corolle permet une adaptati...        144.0   \n",
       "4  Tampons  ['Tampax offre une protection longue durée ave...         30.0   \n",
       "\n",
       "   price  unities  \n",
       "0   2.66     32.0  \n",
       "1   3.79     24.0  \n",
       "2   3.10     18.0  \n",
       "3   2.81     32.0  \n",
       "4   4.50     18.0  "
      ]
     },
     "execution_count": 12,
     "metadata": {},
     "output_type": "execute_result"
    }
   ],
   "source": [
    "products_right_cats = products_df[products_df[\"category\"].isin(cats_to_keep)]\n",
    "products_right_cats.head()\n"
   ]
  },
  {
   "cell_type": "code",
   "execution_count": 13,
   "metadata": {},
   "outputs": [
    {
     "data": {
      "text/html": [
       "<div>\n",
       "<style scoped>\n",
       "    .dataframe tbody tr th:only-of-type {\n",
       "        vertical-align: middle;\n",
       "    }\n",
       "\n",
       "    .dataframe tbody tr th {\n",
       "        vertical-align: top;\n",
       "    }\n",
       "\n",
       "    .dataframe thead th {\n",
       "        text-align: right;\n",
       "    }\n",
       "</style>\n",
       "<table border=\"1\" class=\"dataframe\">\n",
       "  <thead>\n",
       "    <tr style=\"text-align: right;\">\n",
       "      <th></th>\n",
       "      <th>Unnamed: 0</th>\n",
       "      <th>asin</th>\n",
       "      <th>rating</th>\n",
       "      <th>title</th>\n",
       "      <th>country</th>\n",
       "      <th>date</th>\n",
       "      <th>body</th>\n",
       "      <th>body_en</th>\n",
       "    </tr>\n",
       "  </thead>\n",
       "  <tbody>\n",
       "    <tr>\n",
       "      <th>0</th>\n",
       "      <td>0</td>\n",
       "      <td>B07BFMNKBJ</td>\n",
       "      <td>1</td>\n",
       "      <td>Pas reçue</td>\n",
       "      <td>France</td>\n",
       "      <td>2020-12-02</td>\n",
       "      <td>Ont me dis que je les reçue alors que non !</td>\n",
       "      <td>I was told that I received them when I didn&amp;#3...</td>\n",
       "    </tr>\n",
       "    <tr>\n",
       "      <th>1</th>\n",
       "      <td>1</td>\n",
       "      <td>B07BFMNKBJ</td>\n",
       "      <td>1</td>\n",
       "      <td>Sans commentaire</td>\n",
       "      <td>France</td>\n",
       "      <td>2018-10-11</td>\n",
       "      <td>Sans commentaire</td>\n",
       "      <td>No comment</td>\n",
       "    </tr>\n",
       "    <tr>\n",
       "      <th>2</th>\n",
       "      <td>2</td>\n",
       "      <td>B07BFMNKBJ</td>\n",
       "      <td>5</td>\n",
       "      <td>Parfait 👌</td>\n",
       "      <td>France</td>\n",
       "      <td>2022-01-27</td>\n",
       "      <td>J'utilise ce modèle depuis des années, je ne c...</td>\n",
       "      <td>I have been using this model for years, I no l...</td>\n",
       "    </tr>\n",
       "    <tr>\n",
       "      <th>3</th>\n",
       "      <td>3</td>\n",
       "      <td>B07BFMNKBJ</td>\n",
       "      <td>4</td>\n",
       "      <td>Bien mais</td>\n",
       "      <td>France</td>\n",
       "      <td>2021-11-21</td>\n",
       "      <td>Légèrement moins cher qu’en grande surface mai...</td>\n",
       "      <td>Slightly cheaper than supermarkets but Pro Con...</td>\n",
       "    </tr>\n",
       "    <tr>\n",
       "      <th>4</th>\n",
       "      <td>4</td>\n",
       "      <td>B07BFMNKBJ</td>\n",
       "      <td>4</td>\n",
       "      <td>Bons tampons</td>\n",
       "      <td>France</td>\n",
       "      <td>2022-01-29</td>\n",
       "      <td>Rien de particulier à signaler.</td>\n",
       "      <td>Nothing special to report.</td>\n",
       "    </tr>\n",
       "  </tbody>\n",
       "</table>\n",
       "</div>"
      ],
      "text/plain": [
       "   Unnamed: 0        asin  rating             title country        date  \\\n",
       "0           0  B07BFMNKBJ       1         Pas reçue  France  2020-12-02   \n",
       "1           1  B07BFMNKBJ       1  Sans commentaire  France  2018-10-11   \n",
       "2           2  B07BFMNKBJ       5         Parfait 👌  France  2022-01-27   \n",
       "3           3  B07BFMNKBJ       4         Bien mais  France  2021-11-21   \n",
       "4           4  B07BFMNKBJ       4      Bons tampons  France  2022-01-29   \n",
       "\n",
       "                                                body  \\\n",
       "0        Ont me dis que je les reçue alors que non !   \n",
       "1                                   Sans commentaire   \n",
       "2  J'utilise ce modèle depuis des années, je ne c...   \n",
       "3  Légèrement moins cher qu’en grande surface mai...   \n",
       "4                    Rien de particulier à signaler.   \n",
       "\n",
       "                                             body_en  \n",
       "0  I was told that I received them when I didn&#3...  \n",
       "1                                         No comment  \n",
       "2  I have been using this model for years, I no l...  \n",
       "3  Slightly cheaper than supermarkets but Pro Con...  \n",
       "4                         Nothing special to report.  "
      ]
     },
     "execution_count": 13,
     "metadata": {},
     "output_type": "execute_result"
    }
   ],
   "source": [
    "reviews_df.head()\n"
   ]
  },
  {
   "cell_type": "code",
   "execution_count": 14,
   "metadata": {},
   "outputs": [],
   "source": [
    "reviews_df.drop(columns=\"Unnamed: 0\", inplace=True)\n"
   ]
  },
  {
   "cell_type": "code",
   "execution_count": 15,
   "metadata": {},
   "outputs": [
    {
     "data": {
      "text/html": [
       "<div>\n",
       "<style scoped>\n",
       "    .dataframe tbody tr th:only-of-type {\n",
       "        vertical-align: middle;\n",
       "    }\n",
       "\n",
       "    .dataframe tbody tr th {\n",
       "        vertical-align: top;\n",
       "    }\n",
       "\n",
       "    .dataframe thead th {\n",
       "        text-align: right;\n",
       "    }\n",
       "</style>\n",
       "<table border=\"1\" class=\"dataframe\">\n",
       "  <thead>\n",
       "    <tr style=\"text-align: right;\">\n",
       "      <th></th>\n",
       "      <th>rating</th>\n",
       "    </tr>\n",
       "  </thead>\n",
       "  <tbody>\n",
       "    <tr>\n",
       "      <th>count</th>\n",
       "      <td>12634.000000</td>\n",
       "    </tr>\n",
       "    <tr>\n",
       "      <th>mean</th>\n",
       "      <td>4.218300</td>\n",
       "    </tr>\n",
       "    <tr>\n",
       "      <th>std</th>\n",
       "      <td>1.233517</td>\n",
       "    </tr>\n",
       "    <tr>\n",
       "      <th>min</th>\n",
       "      <td>1.000000</td>\n",
       "    </tr>\n",
       "    <tr>\n",
       "      <th>25%</th>\n",
       "      <td>4.000000</td>\n",
       "    </tr>\n",
       "    <tr>\n",
       "      <th>50%</th>\n",
       "      <td>5.000000</td>\n",
       "    </tr>\n",
       "    <tr>\n",
       "      <th>75%</th>\n",
       "      <td>5.000000</td>\n",
       "    </tr>\n",
       "    <tr>\n",
       "      <th>max</th>\n",
       "      <td>5.000000</td>\n",
       "    </tr>\n",
       "  </tbody>\n",
       "</table>\n",
       "</div>"
      ],
      "text/plain": [
       "             rating\n",
       "count  12634.000000\n",
       "mean       4.218300\n",
       "std        1.233517\n",
       "min        1.000000\n",
       "25%        4.000000\n",
       "50%        5.000000\n",
       "75%        5.000000\n",
       "max        5.000000"
      ]
     },
     "execution_count": 15,
     "metadata": {},
     "output_type": "execute_result"
    }
   ],
   "source": [
    "reviews_df.describe()\n"
   ]
  },
  {
   "cell_type": "code",
   "execution_count": 16,
   "metadata": {},
   "outputs": [
    {
     "data": {
      "text/plain": [
       "asin        0\n",
       "rating      0\n",
       "title      19\n",
       "country     0\n",
       "date        0\n",
       "body        0\n",
       "body_en     0\n",
       "dtype: int64"
      ]
     },
     "execution_count": 16,
     "metadata": {},
     "output_type": "execute_result"
    }
   ],
   "source": [
    "reviews_df.isna().sum()\n"
   ]
  },
  {
   "cell_type": "code",
   "execution_count": 17,
   "metadata": {},
   "outputs": [],
   "source": [
    "reviews_df[\"date\"] = pd.to_datetime(reviews_df[\"date\"], format=\"%Y-%m-%d\")\n"
   ]
  },
  {
   "cell_type": "code",
   "execution_count": 18,
   "metadata": {},
   "outputs": [
    {
     "data": {
      "text/plain": [
       "asin               object\n",
       "rating              int64\n",
       "title              object\n",
       "country            object\n",
       "date       datetime64[ns]\n",
       "body               object\n",
       "body_en            object\n",
       "dtype: object"
      ]
     },
     "execution_count": 18,
     "metadata": {},
     "output_type": "execute_result"
    }
   ],
   "source": [
    "reviews_df.dtypes\n"
   ]
  },
  {
   "cell_type": "code",
   "execution_count": 19,
   "metadata": {},
   "outputs": [
    {
     "name": "stderr",
     "output_type": "stream",
     "text": [
      "/var/folders/yc/gvcsnq3x7x7f83l1krvqg44c0000gp/T/ipykernel_1936/117194369.py:1: SettingWithCopyWarning: \n",
      "A value is trying to be set on a copy of a slice from a DataFrame.\n",
      "Try using .loc[row_indexer,col_indexer] = value instead\n",
      "\n",
      "See the caveats in the documentation: https://pandas.pydata.org/pandas-docs/stable/user_guide/indexing.html#returning-a-view-versus-a-copy\n",
      "  products_right_cats['asin'] = products_right_cats['asin'].str.strip().str.upper()\n"
     ]
    }
   ],
   "source": [
    "products_right_cats[\"asin\"] = products_right_cats[\"asin\"].str.strip().str.upper()\n",
    "reviews_df[\"asin\"] = reviews_df[\"asin\"].str.strip().str.upper()\n"
   ]
  },
  {
   "cell_type": "markdown",
   "metadata": {},
   "source": [
    "Our analysis being reviews-centric, I decided to remove products without reviews.\n"
   ]
  },
  {
   "cell_type": "code",
   "execution_count": 20,
   "metadata": {},
   "outputs": [
    {
     "name": "stdout",
     "output_type": "stream",
     "text": [
      "ASINs in reviews not in products: {'B0B5HMR5MW', 'B07XM84QGQ', 'B07QBCGYXQ', 'B01LW2OYC1', 'B09VMHGQFG', 'B08ZHFYP3T', 'B0BSV7TVJR', 'B07TFHKHM4', 'B07WYYXGL5', 'B07FCCFV15', 'B07CG98SVR', 'B084WWBCNG', 'B00B3S2QHS', 'B08KWR5R95', 'B00CP4FKVS', 'B00XAEXV1I', 'B01IDA4MFM', 'B0BV2WJZ3N', 'B073ZGL2NC', 'B07DX95FCL', 'B086N95H6B', 'B00TYY31U4', 'B00OPX2RMW', 'B08L5SWSQM', 'B0853BWTSN', 'B00I83ZD2Q', 'B00NJNJ6O6', 'B07SC8SH6W', 'B07JGTJ56P', 'B09WN36G4G', 'B09VT936MM', 'B0983JCQS9', 'B001NZHAZY', 'B00T4GNI1O', 'B07YQDXWG1', 'B00XAH04X8', 'B0052ED6T6', 'B00ET7PFFA', 'B09KHDQJWK', 'B08YLH3MB2', 'B01FUURB2O', 'B08LM4H7CP', 'B07XTKX2M2', 'B07NCRTG3L', 'B01IDA4FOU', 'B06ZY7BR3V', 'B0BW8V2HSN', 'B07XYGBR28', 'B0B77XZR88', 'B00C4UE9TC', 'B000W6KKMK', 'B07V1G729W', 'B07DXGFW54', 'B097B1NFH5', 'B01BV4XLN6', 'B00DBWR7RS', 'B07Q1C27K2', 'B00LN3RDDA', 'B09D3L71W6', 'B09NTPXH26', 'B07SB4NBKY', 'B07C94P79Q', 'B086X2MBZF', 'B07BPXDNDC', 'B07Q758P4F', 'B00BN7Y0T6', 'B084DW23M5', 'B00BSXSQP4', 'B00KH7CLA8', 'B07BHM7B54', 'B089PR8GSX', 'B097B1YJ1B', 'B0013CFQVC', 'B07VYVBVQS', 'B08XKLPQDT', 'B0727P5W6L', 'B00VIP6IQG', 'B0BCWGYJQF', 'B08ZMSXLPN', 'B07VVCCXHK', 'B074L5CZDP', 'B082J6FMKW', 'B0BS735M1G', 'B0788LW7QD', 'B0BS72JJK7', 'B09F9Z1NFL', 'B09WN186LK', 'B009M3P77W', 'B07BPN9MM9', 'B0BRQRG69J', 'B002LME6NM', 'B08KFF4MSX', 'B09MJ5PYQ5', 'B07HNFG5KW', 'B09WN1GDD2', 'B001INZGXY', 'B0C668XCZQ', 'B098BRY6TD', 'B074G1PNCV', 'B08PBV8BHL', 'B079QFXG19', 'B098P53NDB', 'B07TRNMPGT', 'B0B87P8967', 'B00XA48EWO', 'B009HL68DG', 'B01FV6OZEE', 'B07MTMGQ1P', 'B07TQMQN2P', 'B0BV2ZD1MW', 'B000ZNAFC0', 'B09WYHCCSM', 'B091BVF2K2', 'B00CSBLPBW', 'B0BNQLW3X9', 'B07NL923F6', 'B07TDMGPYG', 'B088WCR7GC', 'B00ZB1KAT4', 'B00F2LNMPW', 'B00GEUIP34', 'B0052ED72C', 'B000X29GY6', 'B097B25TYH', 'B00E4KZQC4', 'B0BS73RHWX', 'B004DGFFA2', 'B00POBIWAA', 'B075DJJ96Q', 'B07BPZYLBL', 'B09NSZBRRP', 'B016AGSNHY', 'B079Q1FLZ9', 'B07Q46DSW5', 'B085WDK4Y4', 'B0865LR99T', 'B0B9SCTQ64', 'B07258JQ9M', 'B07DX94RVK', 'B00I98F68G', 'B079QDMMM9', 'B07G9KLJKC', 'B0BRQHRMCT', 'B00BNSX67C', 'B075LMJBWV', 'B08KWP7T9K', 'B094XXX5HW', 'B002LM5UXW', 'B07BRTDFS2', 'B01BV4XLOU', 'B07FDG7TLK', 'B07YQFYH3V', 'B085WDWJ9N', 'B09ZPGC5Z9', 'B0BBDHC2MD', 'B086N6FBH9', 'B01IR2AISQ', 'B0BS73GH5D', 'B0BS72CCY3', 'B0BJ1423G9', 'B07HK894F8', 'B07WJJCN8T', 'B00DZ00ET4', 'B0BW8SW3SD', 'B009HR53DG', 'B07Y5JZ1RG', 'B07JLTBBXL', 'B082VVDS19', 'B07YQFV3GB', 'B0BRQTPTK5', 'B09WN4F8NG', 'B095XD38J5', 'B0BNQZMV4Y', 'B00J9FVKVK', 'B0069S90XK', 'B07TSXV94W', 'B014KORVYE', 'B0BS72FRX7', 'B097B2YRYV', 'B09W8VQ7QP', 'B08FN42SS8', 'B00VU2VQF0', 'B0861KCCKX', 'B0BRQRKW5K', 'B009P5I3R8', 'B07NDYQZZ7', 'B00F2GZSUY', 'B07Y53L5NM', 'B074P5PQ7M', 'B08DDTTMZY', 'B08FTHY5HJ', 'B07VXHXFNL', 'B097B1ZWRX', 'B00B0FS74U', 'B0CJHJ6D74', 'B08BX8TTVS', 'B001E12YNA', 'B09M7FH2FG', 'B003ART1KU', 'B00SG3PHUQ', 'B09DTRB4CB', 'B00XA48B86', 'B07TM4CG62', 'B08GCYDBSJ', 'B08KWNCSFB', 'B0BY33VD9P', 'B06XYG8NVQ', 'B000W6KKLQ', 'B09F9ZJG2X', 'B00QNPEWZA', 'B0BXC1JKMG', 'B09KW8T7LQ'}\n",
      "ASINs in products not in reviews: {'B0CJXTCYD8', 'B09L1B3TXL', 'B01LFBZKD4', 'B09TDM8GDR', 'B09J7VZR6S', 'B0CBG1N1ZQ', 'B09HR81X76', 'B076PRTP1W', 'B0CKYLSHQB', 'B09YM78JTZ', 'B096W96YYL', 'B00FUY8DW8', 'B09QT4GH6M', 'B0CBFYMVYZ', 'B0CHYZ5NW8', 'B0CHJZKK1N', 'B09H3CDFD5', 'B0958YKW8D', 'B00SPI6H88', 'B09H3CL25Y', 'B0CNXGLRFW', 'B0C88JKXLJ', 'B0BWZ2DYKJ', 'B0CBSP1DJV', 'B0CJXGCKT7', 'B0CNXCWKCR', 'B0CBG1MX61', 'B0CKYSKDX7', 'B0CLVBQSP7', 'B0CBSQ31Q1', 'B0BL41PYPR', 'B00GEU1XZG', 'B09X345FKL', 'B0B1JBJL6C', 'B0BTM3V265', 'B0CBFXVQZM', 'B08Z7PVGJ2', 'B0CL7QR28J', 'B0CH8DF79L', 'B08SSCDQKC', 'B07QJ6FC47', 'B0CBSPYM4L', 'B0CMX9BFHJ', 'B0BTNBSTS6', 'B097SZ1YDS', 'B08NZ26Y9D', 'B0CPPBDJCH', 'B07X9F5LM6', 'B0B285525F', 'B0CJC3P8MS', 'B09D3WBR69', 'B0CLB12TCD', 'B0C88JTLNZ', 'B08NZ2V6KB', 'B0CLS2XWK1', 'B09KLK4X3N', 'B07DXBMTCR', 'B0C88FR83J', 'B0CJBZWYYP', 'B09K5BFTS9', 'B0CBFYPLQY', 'B09W1NH5FQ', 'B0CKMXTRYH', 'B0C8TRKS32', 'B0CLLBBYQ5', 'B09HQ21XQN', 'B0CLR6BC7S', 'B0CMX83WXS', 'B09N7GMKFT', 'B09F668NY1', 'B0CMX99854', 'B0CL58MHY4', 'B0BV2DTJ39', 'B07YBFRM6D', 'B0CBSQ6C63', 'B0CL7RYQGT', 'B09Q133F41', 'B0B7R3C2ML', 'B0CG9QDGS1', 'B0CL56R5M4', 'B0BD7S8CCN', 'B0BKB13D9G', 'B0CKYDN51S', 'B094X89ZCV', 'B0B2S8C8FR', 'B0CJ9DDX8T', 'B0BXBKWQCG', 'B09VKYCY6L', 'B0CBFY1X22', 'B09H3H37QC', 'B0BWR1Z8WD', 'B0CMXBX2DB', 'B07W846D7G', 'B002MA4SI6', 'B0CMX9P6R7', 'B09J94M6HK', 'B09P5RWWGL', 'B07DX8XXVZ', 'B0CMXB2R7Z', 'B09G2YYJ1J', 'B0BZY64R31', 'B0CJXXJS59', 'B0CHK142D4', 'B0CMX9B3YB', 'B0CLG43TJ3', 'B09MTWQPJT', 'B0C4H3PHTK', 'B09F65JBFM', 'B0CL583N8D', 'B0CPPBZG1Q', 'B0CHB2JD8Z', 'B0C2QLHZ88', 'B09MTFMH32', 'B0CMX9P5ZM', 'B07DX94LFM', 'B0BYXSJMGM', 'B09VFYFGFQ', 'B0BWR3VZB9', 'B0CCN2S547', 'B0CGVTYX3C', 'B08RC7WFG4', 'B0CH7CX28G', 'B07DXGK3TJ', 'B0CMX9MHTY', 'B0CMX9MHKK', 'B093BR1KKJ', 'B0BWVP6N7K', 'B0BWR33ZPT', 'B00IXH1DFS', 'B0CL1T18SW', 'B079QDVF8R', 'B0C3R8H7QJ', 'B0CQZQB3M1', 'B0CDNWF9XH', 'B0BFC16W6Q', 'B0BVN2XD1X', 'B0BS3RHYW6', 'B07DX6T934', 'B09J84ZNZN', 'B0CQZQJLTR', 'B0BK7YC6ZZ', 'B0CMX95V41', 'B0CBSPDCPM', 'B0CNRVN9GR', 'B0CMX8T7C7', 'B09HSNSHV4', 'B095WRBCWH', 'B0CGM31QT8', 'B0B1QS5FSV', 'B091397H2V', 'B00GEU8HX2', 'B0C7WMH3VD', 'B0CL7S3HWJ', 'B07JLV25KJ', 'B09ZJ65SCQ', 'B0CBFZMSD3', 'B0BNG8Y91T'}\n"
     ]
    }
   ],
   "source": [
    "# Checking if all asins of product are in reviews and vice versa\n",
    "asin_in_reviews_not_in_products = set(reviews_df[\"asin\"]) - set(\n",
    "    products_right_cats[\"asin\"]\n",
    ")\n",
    "\n",
    "asin_in_products_not_in_reviews = set(products_right_cats[\"asin\"]) - set(\n",
    "    reviews_df[\"asin\"]\n",
    ")\n",
    "\n",
    "print(f\"ASINs in reviews not in products: {asin_in_reviews_not_in_products}\")\n",
    "print(f\"ASINs in products not in reviews: {asin_in_products_not_in_reviews}\")\n"
   ]
  },
  {
   "cell_type": "code",
   "execution_count": 21,
   "metadata": {},
   "outputs": [],
   "source": [
    "products = products_right_cats[products_right_cats[\"asin\"].isin(reviews_df[\"asin\"])]\n",
    "reviews = reviews_df[reviews_df[\"asin\"].isin(products_right_cats[\"asin\"])]\n"
   ]
  },
  {
   "cell_type": "code",
   "execution_count": 22,
   "metadata": {},
   "outputs": [
    {
     "name": "stdout",
     "output_type": "stream",
     "text": [
      "ASINs in reviews not in products: set()\n",
      "ASINs in products not in reviews: set()\n"
     ]
    }
   ],
   "source": [
    "asin_in_reviews_not_in_products = set(reviews[\"asin\"]) - set(products[\"asin\"])\n",
    "\n",
    "asin_in_products_not_in_reviews = set(products[\"asin\"]) - set(reviews[\"asin\"])\n",
    "\n",
    "print(f\"ASINs in reviews not in products: {asin_in_reviews_not_in_products}\")\n",
    "print(f\"ASINs in products not in reviews: {asin_in_products_not_in_reviews}\")\n"
   ]
  },
  {
   "cell_type": "markdown",
   "metadata": {},
   "source": [
    "### 2. Summary Statistics\n"
   ]
  },
  {
   "cell_type": "code",
   "execution_count": 23,
   "metadata": {},
   "outputs": [
    {
     "data": {
      "text/html": [
       "<div>\n",
       "<style scoped>\n",
       "    .dataframe tbody tr th:only-of-type {\n",
       "        vertical-align: middle;\n",
       "    }\n",
       "\n",
       "    .dataframe tbody tr th {\n",
       "        vertical-align: top;\n",
       "    }\n",
       "\n",
       "    .dataframe thead th {\n",
       "        text-align: right;\n",
       "    }\n",
       "</style>\n",
       "<table border=\"1\" class=\"dataframe\">\n",
       "  <thead>\n",
       "    <tr style=\"text-align: right;\">\n",
       "      <th></th>\n",
       "      <th>avg_rating</th>\n",
       "      <th>num_reviews</th>\n",
       "      <th>price</th>\n",
       "      <th>unities</th>\n",
       "    </tr>\n",
       "  </thead>\n",
       "  <tbody>\n",
       "    <tr>\n",
       "      <th>count</th>\n",
       "      <td>405.000000</td>\n",
       "      <td>405.000000</td>\n",
       "      <td>387.000000</td>\n",
       "      <td>112.000000</td>\n",
       "    </tr>\n",
       "    <tr>\n",
       "      <th>mean</th>\n",
       "      <td>4.300741</td>\n",
       "      <td>601.580247</td>\n",
       "      <td>16.980155</td>\n",
       "      <td>15.794643</td>\n",
       "    </tr>\n",
       "    <tr>\n",
       "      <th>std</th>\n",
       "      <td>0.452905</td>\n",
       "      <td>1384.832038</td>\n",
       "      <td>11.014215</td>\n",
       "      <td>26.715430</td>\n",
       "    </tr>\n",
       "    <tr>\n",
       "      <th>min</th>\n",
       "      <td>1.000000</td>\n",
       "      <td>1.000000</td>\n",
       "      <td>1.550000</td>\n",
       "      <td>1.000000</td>\n",
       "    </tr>\n",
       "    <tr>\n",
       "      <th>25%</th>\n",
       "      <td>4.200000</td>\n",
       "      <td>31.000000</td>\n",
       "      <td>8.485000</td>\n",
       "      <td>1.000000</td>\n",
       "    </tr>\n",
       "    <tr>\n",
       "      <th>50%</th>\n",
       "      <td>4.400000</td>\n",
       "      <td>122.000000</td>\n",
       "      <td>14.990000</td>\n",
       "      <td>2.000000</td>\n",
       "    </tr>\n",
       "    <tr>\n",
       "      <th>75%</th>\n",
       "      <td>4.600000</td>\n",
       "      <td>575.000000</td>\n",
       "      <td>23.295000</td>\n",
       "      <td>20.000000</td>\n",
       "    </tr>\n",
       "    <tr>\n",
       "      <th>max</th>\n",
       "      <td>5.000000</td>\n",
       "      <td>14694.000000</td>\n",
       "      <td>59.970000</td>\n",
       "      <td>200.000000</td>\n",
       "    </tr>\n",
       "  </tbody>\n",
       "</table>\n",
       "</div>"
      ],
      "text/plain": [
       "       avg_rating   num_reviews       price     unities\n",
       "count  405.000000    405.000000  387.000000  112.000000\n",
       "mean     4.300741    601.580247   16.980155   15.794643\n",
       "std      0.452905   1384.832038   11.014215   26.715430\n",
       "min      1.000000      1.000000    1.550000    1.000000\n",
       "25%      4.200000     31.000000    8.485000    1.000000\n",
       "50%      4.400000    122.000000   14.990000    2.000000\n",
       "75%      4.600000    575.000000   23.295000   20.000000\n",
       "max      5.000000  14694.000000   59.970000  200.000000"
      ]
     },
     "execution_count": 23,
     "metadata": {},
     "output_type": "execute_result"
    }
   ],
   "source": [
    "products.describe()\n"
   ]
  },
  {
   "cell_type": "code",
   "execution_count": 24,
   "metadata": {},
   "outputs": [
    {
     "data": {
      "text/html": [
       "<div>\n",
       "<style scoped>\n",
       "    .dataframe tbody tr th:only-of-type {\n",
       "        vertical-align: middle;\n",
       "    }\n",
       "\n",
       "    .dataframe tbody tr th {\n",
       "        vertical-align: top;\n",
       "    }\n",
       "\n",
       "    .dataframe thead th {\n",
       "        text-align: right;\n",
       "    }\n",
       "</style>\n",
       "<table border=\"1\" class=\"dataframe\">\n",
       "  <thead>\n",
       "    <tr style=\"text-align: right;\">\n",
       "      <th></th>\n",
       "      <th>avg_rating</th>\n",
       "      <th>num_reviews</th>\n",
       "      <th>price</th>\n",
       "      <th>unities</th>\n",
       "    </tr>\n",
       "  </thead>\n",
       "  <tbody>\n",
       "    <tr>\n",
       "      <th>count</th>\n",
       "      <td>690.000000</td>\n",
       "      <td>690.000000</td>\n",
       "      <td>825.000000</td>\n",
       "      <td>166.000000</td>\n",
       "    </tr>\n",
       "    <tr>\n",
       "      <th>mean</th>\n",
       "      <td>4.302174</td>\n",
       "      <td>553.118841</td>\n",
       "      <td>15.805515</td>\n",
       "      <td>11.975904</td>\n",
       "    </tr>\n",
       "    <tr>\n",
       "      <th>std</th>\n",
       "      <td>0.520002</td>\n",
       "      <td>1576.638048</td>\n",
       "      <td>11.428267</td>\n",
       "      <td>23.191940</td>\n",
       "    </tr>\n",
       "    <tr>\n",
       "      <th>min</th>\n",
       "      <td>1.000000</td>\n",
       "      <td>1.000000</td>\n",
       "      <td>1.130000</td>\n",
       "      <td>1.000000</td>\n",
       "    </tr>\n",
       "    <tr>\n",
       "      <th>25%</th>\n",
       "      <td>4.100000</td>\n",
       "      <td>15.000000</td>\n",
       "      <td>7.640000</td>\n",
       "      <td>1.000000</td>\n",
       "    </tr>\n",
       "    <tr>\n",
       "      <th>50%</th>\n",
       "      <td>4.400000</td>\n",
       "      <td>82.500000</td>\n",
       "      <td>12.500000</td>\n",
       "      <td>1.000000</td>\n",
       "    </tr>\n",
       "    <tr>\n",
       "      <th>75%</th>\n",
       "      <td>4.600000</td>\n",
       "      <td>382.750000</td>\n",
       "      <td>20.870000</td>\n",
       "      <td>16.000000</td>\n",
       "    </tr>\n",
       "    <tr>\n",
       "      <th>max</th>\n",
       "      <td>5.000000</td>\n",
       "      <td>18631.000000</td>\n",
       "      <td>69.900000</td>\n",
       "      <td>200.000000</td>\n",
       "    </tr>\n",
       "  </tbody>\n",
       "</table>\n",
       "</div>"
      ],
      "text/plain": [
       "       avg_rating   num_reviews       price     unities\n",
       "count  690.000000    690.000000  825.000000  166.000000\n",
       "mean     4.302174    553.118841   15.805515   11.975904\n",
       "std      0.520002   1576.638048   11.428267   23.191940\n",
       "min      1.000000      1.000000    1.130000    1.000000\n",
       "25%      4.100000     15.000000    7.640000    1.000000\n",
       "50%      4.400000     82.500000   12.500000    1.000000\n",
       "75%      4.600000    382.750000   20.870000   16.000000\n",
       "max      5.000000  18631.000000   69.900000  200.000000"
      ]
     },
     "execution_count": 24,
     "metadata": {},
     "output_type": "execute_result"
    }
   ],
   "source": [
    "products_df.describe()\n"
   ]
  },
  {
   "cell_type": "markdown",
   "metadata": {},
   "source": [
    "The removal of products without reviews does not significantly impact the average rating and price of the products but does affect the average number of reviews and quantities (unities). The datasets are largely consistent in terms of spread and maximum values, with slight variations in the mean and quartiles for number of reviews and unities, reflecting the broader range of products included in the unfiltered dataset.\n"
   ]
  },
  {
   "cell_type": "markdown",
   "metadata": {},
   "source": [
    "### 3. Data Visualization\n"
   ]
  },
  {
   "cell_type": "markdown",
   "metadata": {},
   "source": [
    "##### **A. Average ratings Analysis**\n"
   ]
  },
  {
   "cell_type": "code",
   "execution_count": 25,
   "metadata": {},
   "outputs": [
    {
     "data": {
      "application/vnd.plotly.v1+json": {
       "config": {
        "plotlyServerURL": "https://plot.ly"
       },
       "data": [
        {
         "alignmentgroup": "True",
         "bingroup": "x",
         "hovertemplate": "category=Tampons<br>Average Rating=%{x}<br>count=%{y}<extra></extra>",
         "legendgroup": "Tampons",
         "marker": {
          "color": "#636EFA",
          "pattern": {
           "shape": ""
          }
         },
         "name": "Tampons",
         "offsetgroup": "Tampons",
         "orientation": "v",
         "showlegend": true,
         "type": "histogram",
         "x": [
          4.7,
          4.6,
          4.7,
          4.7,
          4.7,
          4.7,
          4.4,
          4.8,
          4.2,
          4.6,
          4.6,
          4.3,
          4.6,
          4.7,
          4.7,
          4.6,
          4.3,
          4.6,
          4.6,
          4.2,
          4.7,
          4.6,
          4,
          4.3,
          4.5,
          4.1,
          4,
          4.4,
          4.5,
          4.8,
          4.7,
          5,
          3.9,
          4.8,
          4.7,
          4.6,
          4.3,
          5,
          4.4,
          4.3,
          4.4,
          4.4,
          3.2,
          3.7,
          4.7,
          4.2,
          null,
          3.8,
          4.3,
          4.5,
          3.7,
          null,
          4.7,
          3.9,
          4.7,
          4.6,
          4.5,
          4,
          4.8,
          4.5,
          3,
          null,
          4.5,
          4.6,
          4.2,
          3.5,
          null,
          4.5,
          4.8,
          null,
          4.6,
          5,
          4,
          null,
          5,
          null,
          3,
          4.5,
          null,
          null,
          null,
          null,
          4.5,
          4.5,
          null,
          4.7,
          null,
          null,
          4.2,
          null,
          null,
          null,
          null,
          null,
          null,
          null,
          null,
          null,
          null,
          null,
          null,
          null,
          null,
          null,
          null,
          null,
          null,
          null,
          null,
          null,
          null,
          null,
          null,
          null,
          null,
          null,
          null,
          null,
          null,
          null,
          null,
          null,
          null,
          null,
          null,
          null,
          null,
          null,
          null,
          4.7,
          3.9,
          4.7,
          4.5,
          null,
          4.7,
          4.4,
          3.6,
          4.2,
          4.3,
          4.4,
          4.2,
          3.4,
          4.3,
          2.8,
          4.2,
          3.9,
          4.5,
          4.2,
          4.2,
          3.8,
          4.1,
          null,
          3,
          4.4,
          4.6,
          3.8,
          4.5,
          3.8,
          4.5,
          4,
          4,
          4.5,
          4.4,
          null,
          4.2,
          4.2,
          4.3,
          4.5,
          4.2,
          4.4,
          4.4,
          4.1,
          4.4,
          4.5,
          null,
          4.4,
          4.1,
          4.3,
          4.3,
          4.3,
          4.2,
          4.2,
          null,
          3.7,
          4.3,
          4.2,
          3.5,
          4.3,
          4.3,
          4.3,
          4.2,
          3.7,
          4.2,
          4.4,
          4.8,
          4.6,
          4.2,
          4,
          4.1,
          4.4,
          4.4,
          4.2,
          3.3,
          4.3,
          4.1,
          4.1,
          4.4,
          4.4,
          5,
          4.4,
          3.7,
          4.1,
          4.3,
          4.8,
          4.1,
          null,
          null,
          null,
          4.3,
          null,
          3.7,
          null,
          4.4,
          4.4,
          4.6,
          3.5,
          null,
          3.9,
          5,
          4,
          null,
          4.5,
          4,
          4.3,
          4.1,
          4.2,
          4.5,
          4.5,
          4.1,
          null,
          null,
          4.9,
          4.4,
          4.2,
          4,
          4.3,
          3.7,
          3.8,
          4.3,
          2.8,
          5,
          null,
          null,
          null,
          4.2,
          4.8,
          4.5,
          null,
          4.4,
          2.5,
          4.4,
          null,
          4.4,
          null,
          3.7,
          4.2,
          null,
          4,
          null,
          2.5,
          3.8,
          3.9,
          2,
          5,
          4.3,
          3.9,
          5,
          4.1,
          5,
          null,
          null,
          3.9,
          null,
          null,
          null,
          null,
          null,
          null,
          3.6,
          4.5,
          4.4,
          5,
          4.3,
          4.3,
          4.1,
          5,
          4.5,
          4.2,
          null,
          4.2,
          null,
          null,
          null,
          4.1,
          null,
          4.1,
          4.4,
          3.9,
          3.3,
          3.7,
          4.2,
          3.6,
          1,
          null,
          4.4,
          3.2,
          null,
          4.5,
          3.8,
          4.1,
          4.2,
          4.2,
          3.3,
          4.5,
          4.6,
          4.7,
          4.2,
          3.7,
          4.4,
          4.6
         ],
         "xaxis": "x",
         "yaxis": "y"
        },
        {
         "alignmentgroup": "True",
         "bingroup": "x",
         "hovertemplate": "category=Serviettes hygièniques<br>Average Rating=%{x}<br>count=%{y}<extra></extra>",
         "legendgroup": "Serviettes hygièniques",
         "marker": {
          "color": "#EF553B",
          "pattern": {
           "shape": ""
          }
         },
         "name": "Serviettes hygièniques",
         "offsetgroup": "Serviettes hygièniques",
         "orientation": "v",
         "showlegend": true,
         "type": "histogram",
         "x": [
          3.8,
          4.7,
          4.5,
          4.2,
          3.9,
          4.7,
          4.4,
          4.4,
          4.6,
          4.7,
          4.6,
          4.6,
          4.4,
          4.9,
          4.6,
          4.5,
          4.8,
          4.2,
          4.7,
          4.7,
          4.4,
          4.7,
          5,
          4.6,
          4.5,
          4.8,
          4.3,
          4.5,
          4.6,
          4.5,
          4.3,
          4.7,
          4.5,
          4.5,
          4.6,
          4.5,
          4.7,
          4.7,
          4.3,
          4.6,
          4.7,
          4,
          4.6,
          4.1,
          4.2,
          4.7,
          1,
          4.3,
          4.4,
          4.3,
          4.4,
          4.7,
          4.7,
          4,
          4.3,
          4,
          null,
          4.2,
          4.8,
          4.4,
          4.5,
          4.6,
          null,
          4.6,
          null,
          4.1,
          4.4,
          4.4,
          4.1,
          3.9,
          4.2,
          4.4,
          4.7,
          4.5,
          4.3,
          5,
          4.6,
          4.5,
          5,
          4.6,
          4.4,
          4.7,
          4.2,
          4.7,
          3.9,
          4.7,
          4,
          3.5,
          4.6,
          null,
          4.7,
          4.1,
          4.2,
          4.6,
          4.2,
          4.8,
          3.6,
          4.4,
          4.7,
          4.6,
          4.1,
          4.5,
          null,
          3.8,
          4.4,
          4.5,
          4.6,
          null,
          4.7,
          4.6,
          3.9,
          null,
          4.6,
          4.6,
          4.5,
          4.1,
          4.6,
          4.6,
          4.3,
          4.5,
          4.4,
          4.7,
          4.3,
          3.9,
          4.4,
          4.6,
          null,
          4.5,
          5,
          4.6,
          5,
          3.8,
          4.7,
          4.6,
          4.4,
          4.5,
          4.6,
          4.5,
          5,
          4.5,
          4.2,
          3.6,
          4.7,
          3.7,
          3.5,
          4.1,
          2.9,
          5,
          3.5,
          null,
          4.1,
          4.5,
          4.6,
          3.9,
          5,
          null,
          4.5,
          5,
          5,
          5,
          4.5,
          4.4,
          3.9,
          4,
          4.2,
          4.7,
          4.5,
          4.5,
          4,
          null,
          4.5,
          null,
          null,
          5,
          4.7,
          null,
          null,
          4.8,
          4.3,
          4.8,
          4.9,
          5,
          4.4,
          5,
          4.6,
          null,
          4.2,
          3.7,
          5,
          4.2,
          4.5,
          4.2,
          4.6,
          4.2,
          4.7,
          4.6,
          null,
          4.4,
          4.1,
          4.6,
          4.6
         ],
         "xaxis": "x",
         "yaxis": "y"
        },
        {
         "alignmentgroup": "True",
         "bingroup": "x",
         "hovertemplate": "category=Culottes et sous-vêtements de protection<br>Average Rating=%{x}<br>count=%{y}<extra></extra>",
         "legendgroup": "Culottes et sous-vêtements de protection",
         "marker": {
          "color": "#00CC96",
          "pattern": {
           "shape": ""
          }
         },
         "name": "Culottes et sous-vêtements de protection",
         "offsetgroup": "Culottes et sous-vêtements de protection",
         "orientation": "v",
         "showlegend": true,
         "type": "histogram",
         "x": [
          null,
          null,
          null,
          4.3,
          4.3,
          4.3,
          4.4,
          4.1,
          4.3,
          4.3,
          4.3,
          null,
          null,
          4.1
         ],
         "xaxis": "x",
         "yaxis": "y"
        },
        {
         "alignmentgroup": "True",
         "bingroup": "x",
         "hovertemplate": "category=Coupes menstruelles<br>Average Rating=%{x}<br>count=%{y}<extra></extra>",
         "legendgroup": "Coupes menstruelles",
         "marker": {
          "color": "#AB63FA",
          "pattern": {
           "shape": ""
          }
         },
         "name": "Coupes menstruelles",
         "offsetgroup": "Coupes menstruelles",
         "orientation": "v",
         "showlegend": true,
         "type": "histogram",
         "x": [
          3.9,
          4.5,
          1,
          null,
          4.5,
          null,
          4.5,
          4.3,
          null,
          null,
          null
         ],
         "xaxis": "x",
         "yaxis": "y"
        },
        {
         "alignmentgroup": "True",
         "bingroup": "x",
         "hovertemplate": "category=Protections, serviettes hygiéniques, couches pour adultes, protège-slips<br>Average Rating=%{x}<br>count=%{y}<extra></extra>",
         "legendgroup": "Protections, serviettes hygiéniques, couches pour adultes, protège-slips",
         "marker": {
          "color": "#FFA15A",
          "pattern": {
           "shape": ""
          }
         },
         "name": "Protections, serviettes hygiéniques, couches pour adultes, protège-slips",
         "offsetgroup": "Protections, serviettes hygiéniques, couches pour adultes, protège-slips",
         "orientation": "v",
         "showlegend": true,
         "type": "histogram",
         "x": [
          4.6,
          4.6,
          4.6,
          4.5,
          4.7,
          4.4
         ],
         "xaxis": "x",
         "yaxis": "y"
        }
       ],
       "layout": {
        "bargap": 0.2,
        "barmode": "relative",
        "legend": {
         "title": {
          "text": "category"
         },
         "tracegroupgap": 0
        },
        "template": {
         "data": {
          "bar": [
           {
            "error_x": {
             "color": "#2a3f5f"
            },
            "error_y": {
             "color": "#2a3f5f"
            },
            "marker": {
             "line": {
              "color": "#E5ECF6",
              "width": 0.5
             },
             "pattern": {
              "fillmode": "overlay",
              "size": 10,
              "solidity": 0.2
             }
            },
            "type": "bar"
           }
          ],
          "barpolar": [
           {
            "marker": {
             "line": {
              "color": "#E5ECF6",
              "width": 0.5
             },
             "pattern": {
              "fillmode": "overlay",
              "size": 10,
              "solidity": 0.2
             }
            },
            "type": "barpolar"
           }
          ],
          "carpet": [
           {
            "aaxis": {
             "endlinecolor": "#2a3f5f",
             "gridcolor": "white",
             "linecolor": "white",
             "minorgridcolor": "white",
             "startlinecolor": "#2a3f5f"
            },
            "baxis": {
             "endlinecolor": "#2a3f5f",
             "gridcolor": "white",
             "linecolor": "white",
             "minorgridcolor": "white",
             "startlinecolor": "#2a3f5f"
            },
            "type": "carpet"
           }
          ],
          "choropleth": [
           {
            "colorbar": {
             "outlinewidth": 0,
             "ticks": ""
            },
            "type": "choropleth"
           }
          ],
          "contour": [
           {
            "colorbar": {
             "outlinewidth": 0,
             "ticks": ""
            },
            "colorscale": [
             [
              0,
              "#0d0887"
             ],
             [
              0.1111111111111111,
              "#46039f"
             ],
             [
              0.2222222222222222,
              "#7201a8"
             ],
             [
              0.3333333333333333,
              "#9c179e"
             ],
             [
              0.4444444444444444,
              "#bd3786"
             ],
             [
              0.5555555555555556,
              "#d8576b"
             ],
             [
              0.6666666666666666,
              "#ed7953"
             ],
             [
              0.7777777777777778,
              "#fb9f3a"
             ],
             [
              0.8888888888888888,
              "#fdca26"
             ],
             [
              1,
              "#f0f921"
             ]
            ],
            "type": "contour"
           }
          ],
          "contourcarpet": [
           {
            "colorbar": {
             "outlinewidth": 0,
             "ticks": ""
            },
            "type": "contourcarpet"
           }
          ],
          "heatmap": [
           {
            "colorbar": {
             "outlinewidth": 0,
             "ticks": ""
            },
            "colorscale": [
             [
              0,
              "#0d0887"
             ],
             [
              0.1111111111111111,
              "#46039f"
             ],
             [
              0.2222222222222222,
              "#7201a8"
             ],
             [
              0.3333333333333333,
              "#9c179e"
             ],
             [
              0.4444444444444444,
              "#bd3786"
             ],
             [
              0.5555555555555556,
              "#d8576b"
             ],
             [
              0.6666666666666666,
              "#ed7953"
             ],
             [
              0.7777777777777778,
              "#fb9f3a"
             ],
             [
              0.8888888888888888,
              "#fdca26"
             ],
             [
              1,
              "#f0f921"
             ]
            ],
            "type": "heatmap"
           }
          ],
          "heatmapgl": [
           {
            "colorbar": {
             "outlinewidth": 0,
             "ticks": ""
            },
            "colorscale": [
             [
              0,
              "#0d0887"
             ],
             [
              0.1111111111111111,
              "#46039f"
             ],
             [
              0.2222222222222222,
              "#7201a8"
             ],
             [
              0.3333333333333333,
              "#9c179e"
             ],
             [
              0.4444444444444444,
              "#bd3786"
             ],
             [
              0.5555555555555556,
              "#d8576b"
             ],
             [
              0.6666666666666666,
              "#ed7953"
             ],
             [
              0.7777777777777778,
              "#fb9f3a"
             ],
             [
              0.8888888888888888,
              "#fdca26"
             ],
             [
              1,
              "#f0f921"
             ]
            ],
            "type": "heatmapgl"
           }
          ],
          "histogram": [
           {
            "marker": {
             "pattern": {
              "fillmode": "overlay",
              "size": 10,
              "solidity": 0.2
             }
            },
            "type": "histogram"
           }
          ],
          "histogram2d": [
           {
            "colorbar": {
             "outlinewidth": 0,
             "ticks": ""
            },
            "colorscale": [
             [
              0,
              "#0d0887"
             ],
             [
              0.1111111111111111,
              "#46039f"
             ],
             [
              0.2222222222222222,
              "#7201a8"
             ],
             [
              0.3333333333333333,
              "#9c179e"
             ],
             [
              0.4444444444444444,
              "#bd3786"
             ],
             [
              0.5555555555555556,
              "#d8576b"
             ],
             [
              0.6666666666666666,
              "#ed7953"
             ],
             [
              0.7777777777777778,
              "#fb9f3a"
             ],
             [
              0.8888888888888888,
              "#fdca26"
             ],
             [
              1,
              "#f0f921"
             ]
            ],
            "type": "histogram2d"
           }
          ],
          "histogram2dcontour": [
           {
            "colorbar": {
             "outlinewidth": 0,
             "ticks": ""
            },
            "colorscale": [
             [
              0,
              "#0d0887"
             ],
             [
              0.1111111111111111,
              "#46039f"
             ],
             [
              0.2222222222222222,
              "#7201a8"
             ],
             [
              0.3333333333333333,
              "#9c179e"
             ],
             [
              0.4444444444444444,
              "#bd3786"
             ],
             [
              0.5555555555555556,
              "#d8576b"
             ],
             [
              0.6666666666666666,
              "#ed7953"
             ],
             [
              0.7777777777777778,
              "#fb9f3a"
             ],
             [
              0.8888888888888888,
              "#fdca26"
             ],
             [
              1,
              "#f0f921"
             ]
            ],
            "type": "histogram2dcontour"
           }
          ],
          "mesh3d": [
           {
            "colorbar": {
             "outlinewidth": 0,
             "ticks": ""
            },
            "type": "mesh3d"
           }
          ],
          "parcoords": [
           {
            "line": {
             "colorbar": {
              "outlinewidth": 0,
              "ticks": ""
             }
            },
            "type": "parcoords"
           }
          ],
          "pie": [
           {
            "automargin": true,
            "type": "pie"
           }
          ],
          "scatter": [
           {
            "fillpattern": {
             "fillmode": "overlay",
             "size": 10,
             "solidity": 0.2
            },
            "type": "scatter"
           }
          ],
          "scatter3d": [
           {
            "line": {
             "colorbar": {
              "outlinewidth": 0,
              "ticks": ""
             }
            },
            "marker": {
             "colorbar": {
              "outlinewidth": 0,
              "ticks": ""
             }
            },
            "type": "scatter3d"
           }
          ],
          "scattercarpet": [
           {
            "marker": {
             "colorbar": {
              "outlinewidth": 0,
              "ticks": ""
             }
            },
            "type": "scattercarpet"
           }
          ],
          "scattergeo": [
           {
            "marker": {
             "colorbar": {
              "outlinewidth": 0,
              "ticks": ""
             }
            },
            "type": "scattergeo"
           }
          ],
          "scattergl": [
           {
            "marker": {
             "colorbar": {
              "outlinewidth": 0,
              "ticks": ""
             }
            },
            "type": "scattergl"
           }
          ],
          "scattermapbox": [
           {
            "marker": {
             "colorbar": {
              "outlinewidth": 0,
              "ticks": ""
             }
            },
            "type": "scattermapbox"
           }
          ],
          "scatterpolar": [
           {
            "marker": {
             "colorbar": {
              "outlinewidth": 0,
              "ticks": ""
             }
            },
            "type": "scatterpolar"
           }
          ],
          "scatterpolargl": [
           {
            "marker": {
             "colorbar": {
              "outlinewidth": 0,
              "ticks": ""
             }
            },
            "type": "scatterpolargl"
           }
          ],
          "scatterternary": [
           {
            "marker": {
             "colorbar": {
              "outlinewidth": 0,
              "ticks": ""
             }
            },
            "type": "scatterternary"
           }
          ],
          "surface": [
           {
            "colorbar": {
             "outlinewidth": 0,
             "ticks": ""
            },
            "colorscale": [
             [
              0,
              "#0d0887"
             ],
             [
              0.1111111111111111,
              "#46039f"
             ],
             [
              0.2222222222222222,
              "#7201a8"
             ],
             [
              0.3333333333333333,
              "#9c179e"
             ],
             [
              0.4444444444444444,
              "#bd3786"
             ],
             [
              0.5555555555555556,
              "#d8576b"
             ],
             [
              0.6666666666666666,
              "#ed7953"
             ],
             [
              0.7777777777777778,
              "#fb9f3a"
             ],
             [
              0.8888888888888888,
              "#fdca26"
             ],
             [
              1,
              "#f0f921"
             ]
            ],
            "type": "surface"
           }
          ],
          "table": [
           {
            "cells": {
             "fill": {
              "color": "#EBF0F8"
             },
             "line": {
              "color": "white"
             }
            },
            "header": {
             "fill": {
              "color": "#C8D4E3"
             },
             "line": {
              "color": "white"
             }
            },
            "type": "table"
           }
          ]
         },
         "layout": {
          "annotationdefaults": {
           "arrowcolor": "#2a3f5f",
           "arrowhead": 0,
           "arrowwidth": 1
          },
          "autotypenumbers": "strict",
          "coloraxis": {
           "colorbar": {
            "outlinewidth": 0,
            "ticks": ""
           }
          },
          "colorscale": {
           "diverging": [
            [
             0,
             "#8e0152"
            ],
            [
             0.1,
             "#c51b7d"
            ],
            [
             0.2,
             "#de77ae"
            ],
            [
             0.3,
             "#f1b6da"
            ],
            [
             0.4,
             "#fde0ef"
            ],
            [
             0.5,
             "#f7f7f7"
            ],
            [
             0.6,
             "#e6f5d0"
            ],
            [
             0.7,
             "#b8e186"
            ],
            [
             0.8,
             "#7fbc41"
            ],
            [
             0.9,
             "#4d9221"
            ],
            [
             1,
             "#276419"
            ]
           ],
           "sequential": [
            [
             0,
             "#0d0887"
            ],
            [
             0.1111111111111111,
             "#46039f"
            ],
            [
             0.2222222222222222,
             "#7201a8"
            ],
            [
             0.3333333333333333,
             "#9c179e"
            ],
            [
             0.4444444444444444,
             "#bd3786"
            ],
            [
             0.5555555555555556,
             "#d8576b"
            ],
            [
             0.6666666666666666,
             "#ed7953"
            ],
            [
             0.7777777777777778,
             "#fb9f3a"
            ],
            [
             0.8888888888888888,
             "#fdca26"
            ],
            [
             1,
             "#f0f921"
            ]
           ],
           "sequentialminus": [
            [
             0,
             "#0d0887"
            ],
            [
             0.1111111111111111,
             "#46039f"
            ],
            [
             0.2222222222222222,
             "#7201a8"
            ],
            [
             0.3333333333333333,
             "#9c179e"
            ],
            [
             0.4444444444444444,
             "#bd3786"
            ],
            [
             0.5555555555555556,
             "#d8576b"
            ],
            [
             0.6666666666666666,
             "#ed7953"
            ],
            [
             0.7777777777777778,
             "#fb9f3a"
            ],
            [
             0.8888888888888888,
             "#fdca26"
            ],
            [
             1,
             "#f0f921"
            ]
           ]
          },
          "colorway": [
           "#636efa",
           "#EF553B",
           "#00cc96",
           "#ab63fa",
           "#FFA15A",
           "#19d3f3",
           "#FF6692",
           "#B6E880",
           "#FF97FF",
           "#FECB52"
          ],
          "font": {
           "color": "#2a3f5f"
          },
          "geo": {
           "bgcolor": "white",
           "lakecolor": "white",
           "landcolor": "#E5ECF6",
           "showlakes": true,
           "showland": true,
           "subunitcolor": "white"
          },
          "hoverlabel": {
           "align": "left"
          },
          "hovermode": "closest",
          "mapbox": {
           "style": "light"
          },
          "paper_bgcolor": "white",
          "plot_bgcolor": "#E5ECF6",
          "polar": {
           "angularaxis": {
            "gridcolor": "white",
            "linecolor": "white",
            "ticks": ""
           },
           "bgcolor": "#E5ECF6",
           "radialaxis": {
            "gridcolor": "white",
            "linecolor": "white",
            "ticks": ""
           }
          },
          "scene": {
           "xaxis": {
            "backgroundcolor": "#E5ECF6",
            "gridcolor": "white",
            "gridwidth": 2,
            "linecolor": "white",
            "showbackground": true,
            "ticks": "",
            "zerolinecolor": "white"
           },
           "yaxis": {
            "backgroundcolor": "#E5ECF6",
            "gridcolor": "white",
            "gridwidth": 2,
            "linecolor": "white",
            "showbackground": true,
            "ticks": "",
            "zerolinecolor": "white"
           },
           "zaxis": {
            "backgroundcolor": "#E5ECF6",
            "gridcolor": "white",
            "gridwidth": 2,
            "linecolor": "white",
            "showbackground": true,
            "ticks": "",
            "zerolinecolor": "white"
           }
          },
          "shapedefaults": {
           "line": {
            "color": "#2a3f5f"
           }
          },
          "ternary": {
           "aaxis": {
            "gridcolor": "white",
            "linecolor": "white",
            "ticks": ""
           },
           "baxis": {
            "gridcolor": "white",
            "linecolor": "white",
            "ticks": ""
           },
           "bgcolor": "#E5ECF6",
           "caxis": {
            "gridcolor": "white",
            "linecolor": "white",
            "ticks": ""
           }
          },
          "title": {
           "x": 0.05
          },
          "xaxis": {
           "automargin": true,
           "gridcolor": "white",
           "linecolor": "white",
           "ticks": "",
           "title": {
            "standoff": 15
           },
           "zerolinecolor": "white",
           "zerolinewidth": 2
          },
          "yaxis": {
           "automargin": true,
           "gridcolor": "white",
           "linecolor": "white",
           "ticks": "",
           "title": {
            "standoff": 15
           },
           "zerolinecolor": "white",
           "zerolinewidth": 2
          }
         }
        },
        "title": {
         "text": "Distribution of Average Ratings by Category"
        },
        "xaxis": {
         "anchor": "y",
         "domain": [
          0,
          1
         ],
         "title": {
          "text": "Average Rating"
         }
        },
        "yaxis": {
         "anchor": "x",
         "domain": [
          0,
          1
         ],
         "title": {
          "text": "count"
         }
        }
       }
      }
     },
     "metadata": {},
     "output_type": "display_data"
    }
   ],
   "source": [
    "fig = px.histogram(\n",
    "    products_right_cats,\n",
    "    x=\"avg_rating\",\n",
    "    color=\"category\",\n",
    "    title=\"Distribution of Average Ratings by Category\",\n",
    "    labels={\"avg_rating\": \"Average Rating\"},\n",
    "    color_discrete_sequence=px.colors.qualitative.Plotly,\n",
    ")\n",
    "\n",
    "fig.update_layout(bargap=0.2)  # Adjust the gap between bars\n",
    "fig.show()\n"
   ]
  },
  {
   "cell_type": "markdown",
   "metadata": {},
   "source": [
    "ps: just click on the legend to filter its awesome!\n"
   ]
  },
  {
   "cell_type": "code",
   "execution_count": 26,
   "metadata": {},
   "outputs": [
    {
     "data": {
      "text/plain": [
       "category\n",
       "Coupes menstruelles                                                         3.783333\n",
       "Culottes et sous-vêtements de protection                                    4.266667\n",
       "Protections, serviettes hygiéniques, couches pour adultes, protège-slips    4.566667\n",
       "Serviettes hygièniques                                                      4.423913\n",
       "Tampons                                                                     4.232636\n",
       "Name: avg_rating, dtype: float64"
      ]
     },
     "execution_count": 26,
     "metadata": {},
     "output_type": "execute_result"
    }
   ],
   "source": [
    "products_right_cats.groupby(\"category\")[\"avg_rating\"].mean()\n"
   ]
  },
  {
   "cell_type": "markdown",
   "metadata": {},
   "source": [
    "Across the categories, menstrual products on Amazon generally receive high average ratings, ranging between 4.23 and 4.57. Notably, \"Serviettes hygiéniques\" (sanitary pads) and the broader category of \"Protections, serviettes hygiéniques, couches pour adultes, protège-slips\" emerge as the top-rated categories. This suggests that customers are particularly satisfied with these products, reflecting their quality, effectiveness, and possibly the value they provide to users. The high ratings across all categories highlight a general customer satisfaction with menstrual products available on the platform, with sanitary pads and related protective products standing out for their exceptional reviews.\n"
   ]
  },
  {
   "cell_type": "code",
   "execution_count": 27,
   "metadata": {},
   "outputs": [],
   "source": [
    "# Sort products within each category by average rating in descending order\n",
    "sorted_products = products_right_cats.sort_values(\n",
    "    [\"category\", \"avg_rating\"], ascending=[True, False]\n",
    ")\n",
    "\n",
    "# Group by category and take the top 10 products from each category\n",
    "top_products_per_category = sorted_products.groupby(\"category\").head(10)\n"
   ]
  },
  {
   "cell_type": "code",
   "execution_count": 28,
   "metadata": {},
   "outputs": [
    {
     "name": "stderr",
     "output_type": "stream",
     "text": [
      "/var/folders/yc/gvcsnq3x7x7f83l1krvqg44c0000gp/T/ipykernel_1936/3222186631.py:1: SettingWithCopyWarning:\n",
      "\n",
      "\n",
      "A value is trying to be set on a copy of a slice from a DataFrame.\n",
      "Try using .loc[row_indexer,col_indexer] = value instead\n",
      "\n",
      "See the caveats in the documentation: https://pandas.pydata.org/pandas-docs/stable/user_guide/indexing.html#returning-a-view-versus-a-copy\n",
      "\n"
     ]
    }
   ],
   "source": [
    "top_products_per_category[\"product\"] = (\n",
    "    top_products_per_category[\"brand\"] + \"-\" + top_products_per_category[\"asin\"]\n",
    ")\n"
   ]
  },
  {
   "cell_type": "code",
   "execution_count": 29,
   "metadata": {},
   "outputs": [
    {
     "data": {
      "application/vnd.plotly.v1+json": {
       "config": {
        "plotlyServerURL": "https://plot.ly"
       },
       "data": [
        {
         "alignmentgroup": "True",
         "hovertemplate": "category=Coupes menstruelles<br>Average Rating=%{x}<br>Product=%{y}<extra></extra>",
         "legendgroup": "Coupes menstruelles",
         "marker": {
          "color": "#FFC0CB",
          "pattern": {
           "shape": ""
          }
         },
         "name": "Coupes menstruelles",
         "offsetgroup": "Coupes menstruelles",
         "orientation": "h",
         "showlegend": true,
         "textposition": "auto",
         "type": "bar",
         "x": [
          4.5,
          4.5,
          4.5,
          4.3,
          3.9,
          1,
          null,
          null,
          null,
          null
         ],
         "xaxis": "x",
         "y": [
          "enna-B01N63E1OD",
          "DivaCup-B000FAG6X0",
          "Omnitex-B0C9QT2QX6",
          "riijk-B07QJ6FC47",
          "INTIMINA-B00BL1137Q",
          "FENYW-B0CKYLSHQB",
          "LOKBY-B0CNXCWKCR",
          "XPJBKC-B0CL1T18SW",
          "LOKBY-B0CNXGLRFW",
          "Leikurvo-B0CLVBQSP7"
         ],
         "yaxis": "y"
        },
        {
         "alignmentgroup": "True",
         "hovertemplate": "category=Culottes et sous-vêtements de protection<br>Average Rating=%{x}<br>Product=%{y}<extra></extra>",
         "legendgroup": "Culottes et sous-vêtements de protection",
         "marker": {
          "color": "#FFB6C1",
          "pattern": {
           "shape": ""
          }
         },
         "name": "Culottes et sous-vêtements de protection",
         "offsetgroup": "Culottes et sous-vêtements de protection",
         "orientation": "h",
         "showlegend": true,
         "textposition": "auto",
         "type": "bar",
         "x": [
          4.4,
          4.3,
          4.3,
          4.3,
          4.3,
          4.3,
          4.3,
          4.1,
          4.1,
          null
         ],
         "xaxis": "x",
         "y": [
          "TENA-B06XYJC7DT",
          "Neione-B0BKL9CGL8",
          "Rovtop-B095HRKBDT",
          "NANASPHERE-B0BM54M3TS",
          "MALVON-B09CNSW4B1",
          "Oséclore-B0B71WTTC4",
          "Oséclore-B0B723C8J5",
          "INNERSY-B09BTQ5434",
          "INNERSY-B09BTBF7RH",
          "Fulidngzg-B0CBSQ6C63"
         ],
         "yaxis": "y"
        },
        {
         "alignmentgroup": "True",
         "hovertemplate": "category=Protections, serviettes hygiéniques, couches pour adultes, protège-slips<br>Average Rating=%{x}<br>Product=%{y}<extra></extra>",
         "legendgroup": "Protections, serviettes hygiéniques, couches pour adultes, protège-slips",
         "marker": {
          "color": "#FF69B4",
          "pattern": {
           "shape": ""
          }
         },
         "name": "Protections, serviettes hygiéniques, couches pour adultes, protège-slips",
         "offsetgroup": "Protections, serviettes hygiéniques, couches pour adultes, protège-slips",
         "orientation": "h",
         "showlegend": true,
         "textposition": "auto",
         "type": "bar",
         "x": [
          4.7,
          4.6,
          4.6,
          4.6,
          4.5,
          4.4
         ],
         "xaxis": "x",
         "y": [
          "TENA-B06XYHT94X",
          "Always-B07JHCVT2R",
          "TENA-B06XYKCVWP",
          "TENA-B06XYJGQ1Z",
          "TENA-B06XYDHPRC",
          "TENA-B06XYDRJDN"
         ],
         "yaxis": "y"
        },
        {
         "alignmentgroup": "True",
         "hovertemplate": "category=Serviettes hygièniques<br>Average Rating=%{x}<br>Product=%{y}<extra></extra>",
         "legendgroup": "Serviettes hygièniques",
         "marker": {
          "color": "#FF1493",
          "pattern": {
           "shape": ""
          }
         },
         "name": "Serviettes hygièniques",
         "offsetgroup": "Serviettes hygièniques",
         "orientation": "h",
         "showlegend": true,
         "textposition": "auto",
         "type": "bar",
         "x": [
          5,
          5,
          5,
          5,
          5,
          5,
          5,
          5,
          5,
          5
         ],
         "xaxis": "x",
         "y": [
          "Always-B0BWR1Z8WD",
          "Always-B0CLB12TCD",
          "Nana-B00GEU8HX2",
          "Monoprix-B07DXBMTCR",
          "Always-B09G2YYJ1J",
          "Always-B0BWR3VZB9",
          "JHO.-B0C4TH74KS",
          "volumoon-B0CJ9DDX8T",
          "Bella-B091397H2V",
          "Organyc-B00SPI6H88"
         ],
         "yaxis": "y"
        },
        {
         "alignmentgroup": "True",
         "hovertemplate": "category=Tampons<br>Average Rating=%{x}<br>Product=%{y}<extra></extra>",
         "legendgroup": "Tampons",
         "marker": {
          "color": "#DB7093",
          "pattern": {
           "shape": ""
          }
         },
         "name": "Tampons",
         "offsetgroup": "Tampons",
         "orientation": "h",
         "showlegend": true,
         "textposition": "auto",
         "type": "bar",
         "x": [
          5,
          5,
          5,
          5,
          5,
          5,
          5,
          5,
          5,
          5
         ],
         "xaxis": "x",
         "y": [
          "Beauté-B08NZ2V6KB",
          "Saforelle-B07JLV25KJ",
          "o.b.-B0958YKW8D",
          "Tampax-B09MTWQPJT",
          "Acboor-B0CG9QDGS1",
          "FENYW-B0CL3VMWJR",
          "Lamazuna-B00UDFHFEQ",
          "GJGJZD-B0CL3GQ5VP",
          "FENYW-B0CKYD431D",
          "CUP-B09MTFMH32"
         ],
         "yaxis": "y"
        }
       ],
       "layout": {
        "barmode": "relative",
        "coloraxis": {
         "colorbar": {
          "title": {
           "text": "Category"
          }
         }
        },
        "legend": {
         "title": {
          "text": "category"
         },
         "tracegroupgap": 0
        },
        "template": {
         "data": {
          "bar": [
           {
            "error_x": {
             "color": "#2a3f5f"
            },
            "error_y": {
             "color": "#2a3f5f"
            },
            "marker": {
             "line": {
              "color": "#E5ECF6",
              "width": 0.5
             },
             "pattern": {
              "fillmode": "overlay",
              "size": 10,
              "solidity": 0.2
             }
            },
            "type": "bar"
           }
          ],
          "barpolar": [
           {
            "marker": {
             "line": {
              "color": "#E5ECF6",
              "width": 0.5
             },
             "pattern": {
              "fillmode": "overlay",
              "size": 10,
              "solidity": 0.2
             }
            },
            "type": "barpolar"
           }
          ],
          "carpet": [
           {
            "aaxis": {
             "endlinecolor": "#2a3f5f",
             "gridcolor": "white",
             "linecolor": "white",
             "minorgridcolor": "white",
             "startlinecolor": "#2a3f5f"
            },
            "baxis": {
             "endlinecolor": "#2a3f5f",
             "gridcolor": "white",
             "linecolor": "white",
             "minorgridcolor": "white",
             "startlinecolor": "#2a3f5f"
            },
            "type": "carpet"
           }
          ],
          "choropleth": [
           {
            "colorbar": {
             "outlinewidth": 0,
             "ticks": ""
            },
            "type": "choropleth"
           }
          ],
          "contour": [
           {
            "colorbar": {
             "outlinewidth": 0,
             "ticks": ""
            },
            "colorscale": [
             [
              0,
              "#0d0887"
             ],
             [
              0.1111111111111111,
              "#46039f"
             ],
             [
              0.2222222222222222,
              "#7201a8"
             ],
             [
              0.3333333333333333,
              "#9c179e"
             ],
             [
              0.4444444444444444,
              "#bd3786"
             ],
             [
              0.5555555555555556,
              "#d8576b"
             ],
             [
              0.6666666666666666,
              "#ed7953"
             ],
             [
              0.7777777777777778,
              "#fb9f3a"
             ],
             [
              0.8888888888888888,
              "#fdca26"
             ],
             [
              1,
              "#f0f921"
             ]
            ],
            "type": "contour"
           }
          ],
          "contourcarpet": [
           {
            "colorbar": {
             "outlinewidth": 0,
             "ticks": ""
            },
            "type": "contourcarpet"
           }
          ],
          "heatmap": [
           {
            "colorbar": {
             "outlinewidth": 0,
             "ticks": ""
            },
            "colorscale": [
             [
              0,
              "#0d0887"
             ],
             [
              0.1111111111111111,
              "#46039f"
             ],
             [
              0.2222222222222222,
              "#7201a8"
             ],
             [
              0.3333333333333333,
              "#9c179e"
             ],
             [
              0.4444444444444444,
              "#bd3786"
             ],
             [
              0.5555555555555556,
              "#d8576b"
             ],
             [
              0.6666666666666666,
              "#ed7953"
             ],
             [
              0.7777777777777778,
              "#fb9f3a"
             ],
             [
              0.8888888888888888,
              "#fdca26"
             ],
             [
              1,
              "#f0f921"
             ]
            ],
            "type": "heatmap"
           }
          ],
          "heatmapgl": [
           {
            "colorbar": {
             "outlinewidth": 0,
             "ticks": ""
            },
            "colorscale": [
             [
              0,
              "#0d0887"
             ],
             [
              0.1111111111111111,
              "#46039f"
             ],
             [
              0.2222222222222222,
              "#7201a8"
             ],
             [
              0.3333333333333333,
              "#9c179e"
             ],
             [
              0.4444444444444444,
              "#bd3786"
             ],
             [
              0.5555555555555556,
              "#d8576b"
             ],
             [
              0.6666666666666666,
              "#ed7953"
             ],
             [
              0.7777777777777778,
              "#fb9f3a"
             ],
             [
              0.8888888888888888,
              "#fdca26"
             ],
             [
              1,
              "#f0f921"
             ]
            ],
            "type": "heatmapgl"
           }
          ],
          "histogram": [
           {
            "marker": {
             "pattern": {
              "fillmode": "overlay",
              "size": 10,
              "solidity": 0.2
             }
            },
            "type": "histogram"
           }
          ],
          "histogram2d": [
           {
            "colorbar": {
             "outlinewidth": 0,
             "ticks": ""
            },
            "colorscale": [
             [
              0,
              "#0d0887"
             ],
             [
              0.1111111111111111,
              "#46039f"
             ],
             [
              0.2222222222222222,
              "#7201a8"
             ],
             [
              0.3333333333333333,
              "#9c179e"
             ],
             [
              0.4444444444444444,
              "#bd3786"
             ],
             [
              0.5555555555555556,
              "#d8576b"
             ],
             [
              0.6666666666666666,
              "#ed7953"
             ],
             [
              0.7777777777777778,
              "#fb9f3a"
             ],
             [
              0.8888888888888888,
              "#fdca26"
             ],
             [
              1,
              "#f0f921"
             ]
            ],
            "type": "histogram2d"
           }
          ],
          "histogram2dcontour": [
           {
            "colorbar": {
             "outlinewidth": 0,
             "ticks": ""
            },
            "colorscale": [
             [
              0,
              "#0d0887"
             ],
             [
              0.1111111111111111,
              "#46039f"
             ],
             [
              0.2222222222222222,
              "#7201a8"
             ],
             [
              0.3333333333333333,
              "#9c179e"
             ],
             [
              0.4444444444444444,
              "#bd3786"
             ],
             [
              0.5555555555555556,
              "#d8576b"
             ],
             [
              0.6666666666666666,
              "#ed7953"
             ],
             [
              0.7777777777777778,
              "#fb9f3a"
             ],
             [
              0.8888888888888888,
              "#fdca26"
             ],
             [
              1,
              "#f0f921"
             ]
            ],
            "type": "histogram2dcontour"
           }
          ],
          "mesh3d": [
           {
            "colorbar": {
             "outlinewidth": 0,
             "ticks": ""
            },
            "type": "mesh3d"
           }
          ],
          "parcoords": [
           {
            "line": {
             "colorbar": {
              "outlinewidth": 0,
              "ticks": ""
             }
            },
            "type": "parcoords"
           }
          ],
          "pie": [
           {
            "automargin": true,
            "type": "pie"
           }
          ],
          "scatter": [
           {
            "fillpattern": {
             "fillmode": "overlay",
             "size": 10,
             "solidity": 0.2
            },
            "type": "scatter"
           }
          ],
          "scatter3d": [
           {
            "line": {
             "colorbar": {
              "outlinewidth": 0,
              "ticks": ""
             }
            },
            "marker": {
             "colorbar": {
              "outlinewidth": 0,
              "ticks": ""
             }
            },
            "type": "scatter3d"
           }
          ],
          "scattercarpet": [
           {
            "marker": {
             "colorbar": {
              "outlinewidth": 0,
              "ticks": ""
             }
            },
            "type": "scattercarpet"
           }
          ],
          "scattergeo": [
           {
            "marker": {
             "colorbar": {
              "outlinewidth": 0,
              "ticks": ""
             }
            },
            "type": "scattergeo"
           }
          ],
          "scattergl": [
           {
            "marker": {
             "colorbar": {
              "outlinewidth": 0,
              "ticks": ""
             }
            },
            "type": "scattergl"
           }
          ],
          "scattermapbox": [
           {
            "marker": {
             "colorbar": {
              "outlinewidth": 0,
              "ticks": ""
             }
            },
            "type": "scattermapbox"
           }
          ],
          "scatterpolar": [
           {
            "marker": {
             "colorbar": {
              "outlinewidth": 0,
              "ticks": ""
             }
            },
            "type": "scatterpolar"
           }
          ],
          "scatterpolargl": [
           {
            "marker": {
             "colorbar": {
              "outlinewidth": 0,
              "ticks": ""
             }
            },
            "type": "scatterpolargl"
           }
          ],
          "scatterternary": [
           {
            "marker": {
             "colorbar": {
              "outlinewidth": 0,
              "ticks": ""
             }
            },
            "type": "scatterternary"
           }
          ],
          "surface": [
           {
            "colorbar": {
             "outlinewidth": 0,
             "ticks": ""
            },
            "colorscale": [
             [
              0,
              "#0d0887"
             ],
             [
              0.1111111111111111,
              "#46039f"
             ],
             [
              0.2222222222222222,
              "#7201a8"
             ],
             [
              0.3333333333333333,
              "#9c179e"
             ],
             [
              0.4444444444444444,
              "#bd3786"
             ],
             [
              0.5555555555555556,
              "#d8576b"
             ],
             [
              0.6666666666666666,
              "#ed7953"
             ],
             [
              0.7777777777777778,
              "#fb9f3a"
             ],
             [
              0.8888888888888888,
              "#fdca26"
             ],
             [
              1,
              "#f0f921"
             ]
            ],
            "type": "surface"
           }
          ],
          "table": [
           {
            "cells": {
             "fill": {
              "color": "#EBF0F8"
             },
             "line": {
              "color": "white"
             }
            },
            "header": {
             "fill": {
              "color": "#C8D4E3"
             },
             "line": {
              "color": "white"
             }
            },
            "type": "table"
           }
          ]
         },
         "layout": {
          "annotationdefaults": {
           "arrowcolor": "#2a3f5f",
           "arrowhead": 0,
           "arrowwidth": 1
          },
          "autotypenumbers": "strict",
          "coloraxis": {
           "colorbar": {
            "outlinewidth": 0,
            "ticks": ""
           }
          },
          "colorscale": {
           "diverging": [
            [
             0,
             "#8e0152"
            ],
            [
             0.1,
             "#c51b7d"
            ],
            [
             0.2,
             "#de77ae"
            ],
            [
             0.3,
             "#f1b6da"
            ],
            [
             0.4,
             "#fde0ef"
            ],
            [
             0.5,
             "#f7f7f7"
            ],
            [
             0.6,
             "#e6f5d0"
            ],
            [
             0.7,
             "#b8e186"
            ],
            [
             0.8,
             "#7fbc41"
            ],
            [
             0.9,
             "#4d9221"
            ],
            [
             1,
             "#276419"
            ]
           ],
           "sequential": [
            [
             0,
             "#0d0887"
            ],
            [
             0.1111111111111111,
             "#46039f"
            ],
            [
             0.2222222222222222,
             "#7201a8"
            ],
            [
             0.3333333333333333,
             "#9c179e"
            ],
            [
             0.4444444444444444,
             "#bd3786"
            ],
            [
             0.5555555555555556,
             "#d8576b"
            ],
            [
             0.6666666666666666,
             "#ed7953"
            ],
            [
             0.7777777777777778,
             "#fb9f3a"
            ],
            [
             0.8888888888888888,
             "#fdca26"
            ],
            [
             1,
             "#f0f921"
            ]
           ],
           "sequentialminus": [
            [
             0,
             "#0d0887"
            ],
            [
             0.1111111111111111,
             "#46039f"
            ],
            [
             0.2222222222222222,
             "#7201a8"
            ],
            [
             0.3333333333333333,
             "#9c179e"
            ],
            [
             0.4444444444444444,
             "#bd3786"
            ],
            [
             0.5555555555555556,
             "#d8576b"
            ],
            [
             0.6666666666666666,
             "#ed7953"
            ],
            [
             0.7777777777777778,
             "#fb9f3a"
            ],
            [
             0.8888888888888888,
             "#fdca26"
            ],
            [
             1,
             "#f0f921"
            ]
           ]
          },
          "colorway": [
           "#636efa",
           "#EF553B",
           "#00cc96",
           "#ab63fa",
           "#FFA15A",
           "#19d3f3",
           "#FF6692",
           "#B6E880",
           "#FF97FF",
           "#FECB52"
          ],
          "font": {
           "color": "#2a3f5f"
          },
          "geo": {
           "bgcolor": "white",
           "lakecolor": "white",
           "landcolor": "#E5ECF6",
           "showlakes": true,
           "showland": true,
           "subunitcolor": "white"
          },
          "hoverlabel": {
           "align": "left"
          },
          "hovermode": "closest",
          "mapbox": {
           "style": "light"
          },
          "paper_bgcolor": "white",
          "plot_bgcolor": "#E5ECF6",
          "polar": {
           "angularaxis": {
            "gridcolor": "white",
            "linecolor": "white",
            "ticks": ""
           },
           "bgcolor": "#E5ECF6",
           "radialaxis": {
            "gridcolor": "white",
            "linecolor": "white",
            "ticks": ""
           }
          },
          "scene": {
           "xaxis": {
            "backgroundcolor": "#E5ECF6",
            "gridcolor": "white",
            "gridwidth": 2,
            "linecolor": "white",
            "showbackground": true,
            "ticks": "",
            "zerolinecolor": "white"
           },
           "yaxis": {
            "backgroundcolor": "#E5ECF6",
            "gridcolor": "white",
            "gridwidth": 2,
            "linecolor": "white",
            "showbackground": true,
            "ticks": "",
            "zerolinecolor": "white"
           },
           "zaxis": {
            "backgroundcolor": "#E5ECF6",
            "gridcolor": "white",
            "gridwidth": 2,
            "linecolor": "white",
            "showbackground": true,
            "ticks": "",
            "zerolinecolor": "white"
           }
          },
          "shapedefaults": {
           "line": {
            "color": "#2a3f5f"
           }
          },
          "ternary": {
           "aaxis": {
            "gridcolor": "white",
            "linecolor": "white",
            "ticks": ""
           },
           "baxis": {
            "gridcolor": "white",
            "linecolor": "white",
            "ticks": ""
           },
           "bgcolor": "#E5ECF6",
           "caxis": {
            "gridcolor": "white",
            "linecolor": "white",
            "ticks": ""
           }
          },
          "title": {
           "x": 0.05
          },
          "xaxis": {
           "automargin": true,
           "gridcolor": "white",
           "linecolor": "white",
           "ticks": "",
           "title": {
            "standoff": 15
           },
           "zerolinecolor": "white",
           "zerolinewidth": 2
          },
          "yaxis": {
           "automargin": true,
           "gridcolor": "white",
           "linecolor": "white",
           "ticks": "",
           "title": {
            "standoff": 15
           },
           "zerolinecolor": "white",
           "zerolinewidth": 2
          }
         }
        },
        "title": {
         "text": "Top 10 Products with Highest Average Rating per Category"
        },
        "xaxis": {
         "anchor": "y",
         "domain": [
          0,
          1
         ],
         "range": [
          3.5,
          5
         ],
         "title": {
          "text": "Average Rating"
         }
        },
        "yaxis": {
         "anchor": "x",
         "categoryorder": "total ascending",
         "domain": [
          0,
          1
         ],
         "title": {
          "text": "Product Title"
         }
        }
       }
      }
     },
     "metadata": {},
     "output_type": "display_data"
    }
   ],
   "source": [
    "shades_of_pink = [\n",
    "    \"#FFC0CB\",\n",
    "    \"#FFB6C1\",\n",
    "    \"#FF69B4\",\n",
    "    \"#FF1493\",\n",
    "    \"#DB7093\",\n",
    "    \"#C71585\",\n",
    "    \"#FFAEB9\",\n",
    "    \"#FF82AB\",\n",
    "    \"#FF34B3\",\n",
    "    \"#FF3E96\",\n",
    "]\n",
    "\n",
    "fig8 = px.bar(\n",
    "    top_products_per_category,\n",
    "    x=\"avg_rating\",\n",
    "    y=\"product\",\n",
    "    color=\"category\",\n",
    "    title=\"Top 10 Products with Highest Average Rating per Category\",\n",
    "    labels={\"avg_rating\": \"Average Rating\", \"product\": \"Product\"},\n",
    "    orientation=\"h\",\n",
    "    color_discrete_sequence=shades_of_pink,\n",
    ")\n",
    "\n",
    "fig8.update_xaxes(range=[3.5, 5])\n",
    "\n",
    "fig8.update_layout(\n",
    "    yaxis={\"categoryorder\": \"total ascending\"},\n",
    "    xaxis_title=\"Average Rating\",\n",
    "    yaxis_title=\"Product Title\",\n",
    "    coloraxis_colorbar={\"title\": \"Category\"},\n",
    ")\n",
    "\n",
    "\n",
    "fig8.show()\n"
   ]
  },
  {
   "cell_type": "markdown",
   "metadata": {},
   "source": [
    "##### **B. Number of reviews Analysis**\n"
   ]
  },
  {
   "cell_type": "code",
   "execution_count": 30,
   "metadata": {},
   "outputs": [],
   "source": [
    "nreviews_per_cat = (\n",
    "    products_right_cats.groupby(\"category\")[\"num_reviews\"].sum().reset_index()\n",
    ")\n",
    "nreviews_per_cat.sort_values(\"num_reviews\", ascending=False, inplace=True)\n"
   ]
  },
  {
   "cell_type": "code",
   "execution_count": 31,
   "metadata": {},
   "outputs": [
    {
     "data": {
      "application/vnd.plotly.v1+json": {
       "config": {
        "plotlyServerURL": "https://plot.ly"
       },
       "data": [
        {
         "alignmentgroup": "True",
         "hovertemplate": "category=%{x}<br>Number of Reviews=%{y}<extra></extra>",
         "legendgroup": "",
         "marker": {
          "color": "#FFC0CB",
          "pattern": {
           "shape": ""
          }
         },
         "name": "",
         "offsetgroup": "",
         "orientation": "v",
         "showlegend": false,
         "textposition": "auto",
         "type": "bar",
         "x": [
          "Serviettes hygièniques",
          "Tampons",
          "Coupes menstruelles",
          "Culottes et sous-vêtements de protection",
          "Protections, serviettes hygiéniques, couches pour adultes, protège-slips"
         ],
         "xaxis": "x",
         "y": [
          109103,
          94551,
          19482,
          13722,
          8759
         ],
         "yaxis": "y"
        }
       ],
       "layout": {
        "barmode": "relative",
        "height": 600,
        "legend": {
         "tracegroupgap": 0
        },
        "template": {
         "data": {
          "bar": [
           {
            "error_x": {
             "color": "#2a3f5f"
            },
            "error_y": {
             "color": "#2a3f5f"
            },
            "marker": {
             "line": {
              "color": "#E5ECF6",
              "width": 0.5
             },
             "pattern": {
              "fillmode": "overlay",
              "size": 10,
              "solidity": 0.2
             }
            },
            "type": "bar"
           }
          ],
          "barpolar": [
           {
            "marker": {
             "line": {
              "color": "#E5ECF6",
              "width": 0.5
             },
             "pattern": {
              "fillmode": "overlay",
              "size": 10,
              "solidity": 0.2
             }
            },
            "type": "barpolar"
           }
          ],
          "carpet": [
           {
            "aaxis": {
             "endlinecolor": "#2a3f5f",
             "gridcolor": "white",
             "linecolor": "white",
             "minorgridcolor": "white",
             "startlinecolor": "#2a3f5f"
            },
            "baxis": {
             "endlinecolor": "#2a3f5f",
             "gridcolor": "white",
             "linecolor": "white",
             "minorgridcolor": "white",
             "startlinecolor": "#2a3f5f"
            },
            "type": "carpet"
           }
          ],
          "choropleth": [
           {
            "colorbar": {
             "outlinewidth": 0,
             "ticks": ""
            },
            "type": "choropleth"
           }
          ],
          "contour": [
           {
            "colorbar": {
             "outlinewidth": 0,
             "ticks": ""
            },
            "colorscale": [
             [
              0,
              "#0d0887"
             ],
             [
              0.1111111111111111,
              "#46039f"
             ],
             [
              0.2222222222222222,
              "#7201a8"
             ],
             [
              0.3333333333333333,
              "#9c179e"
             ],
             [
              0.4444444444444444,
              "#bd3786"
             ],
             [
              0.5555555555555556,
              "#d8576b"
             ],
             [
              0.6666666666666666,
              "#ed7953"
             ],
             [
              0.7777777777777778,
              "#fb9f3a"
             ],
             [
              0.8888888888888888,
              "#fdca26"
             ],
             [
              1,
              "#f0f921"
             ]
            ],
            "type": "contour"
           }
          ],
          "contourcarpet": [
           {
            "colorbar": {
             "outlinewidth": 0,
             "ticks": ""
            },
            "type": "contourcarpet"
           }
          ],
          "heatmap": [
           {
            "colorbar": {
             "outlinewidth": 0,
             "ticks": ""
            },
            "colorscale": [
             [
              0,
              "#0d0887"
             ],
             [
              0.1111111111111111,
              "#46039f"
             ],
             [
              0.2222222222222222,
              "#7201a8"
             ],
             [
              0.3333333333333333,
              "#9c179e"
             ],
             [
              0.4444444444444444,
              "#bd3786"
             ],
             [
              0.5555555555555556,
              "#d8576b"
             ],
             [
              0.6666666666666666,
              "#ed7953"
             ],
             [
              0.7777777777777778,
              "#fb9f3a"
             ],
             [
              0.8888888888888888,
              "#fdca26"
             ],
             [
              1,
              "#f0f921"
             ]
            ],
            "type": "heatmap"
           }
          ],
          "heatmapgl": [
           {
            "colorbar": {
             "outlinewidth": 0,
             "ticks": ""
            },
            "colorscale": [
             [
              0,
              "#0d0887"
             ],
             [
              0.1111111111111111,
              "#46039f"
             ],
             [
              0.2222222222222222,
              "#7201a8"
             ],
             [
              0.3333333333333333,
              "#9c179e"
             ],
             [
              0.4444444444444444,
              "#bd3786"
             ],
             [
              0.5555555555555556,
              "#d8576b"
             ],
             [
              0.6666666666666666,
              "#ed7953"
             ],
             [
              0.7777777777777778,
              "#fb9f3a"
             ],
             [
              0.8888888888888888,
              "#fdca26"
             ],
             [
              1,
              "#f0f921"
             ]
            ],
            "type": "heatmapgl"
           }
          ],
          "histogram": [
           {
            "marker": {
             "pattern": {
              "fillmode": "overlay",
              "size": 10,
              "solidity": 0.2
             }
            },
            "type": "histogram"
           }
          ],
          "histogram2d": [
           {
            "colorbar": {
             "outlinewidth": 0,
             "ticks": ""
            },
            "colorscale": [
             [
              0,
              "#0d0887"
             ],
             [
              0.1111111111111111,
              "#46039f"
             ],
             [
              0.2222222222222222,
              "#7201a8"
             ],
             [
              0.3333333333333333,
              "#9c179e"
             ],
             [
              0.4444444444444444,
              "#bd3786"
             ],
             [
              0.5555555555555556,
              "#d8576b"
             ],
             [
              0.6666666666666666,
              "#ed7953"
             ],
             [
              0.7777777777777778,
              "#fb9f3a"
             ],
             [
              0.8888888888888888,
              "#fdca26"
             ],
             [
              1,
              "#f0f921"
             ]
            ],
            "type": "histogram2d"
           }
          ],
          "histogram2dcontour": [
           {
            "colorbar": {
             "outlinewidth": 0,
             "ticks": ""
            },
            "colorscale": [
             [
              0,
              "#0d0887"
             ],
             [
              0.1111111111111111,
              "#46039f"
             ],
             [
              0.2222222222222222,
              "#7201a8"
             ],
             [
              0.3333333333333333,
              "#9c179e"
             ],
             [
              0.4444444444444444,
              "#bd3786"
             ],
             [
              0.5555555555555556,
              "#d8576b"
             ],
             [
              0.6666666666666666,
              "#ed7953"
             ],
             [
              0.7777777777777778,
              "#fb9f3a"
             ],
             [
              0.8888888888888888,
              "#fdca26"
             ],
             [
              1,
              "#f0f921"
             ]
            ],
            "type": "histogram2dcontour"
           }
          ],
          "mesh3d": [
           {
            "colorbar": {
             "outlinewidth": 0,
             "ticks": ""
            },
            "type": "mesh3d"
           }
          ],
          "parcoords": [
           {
            "line": {
             "colorbar": {
              "outlinewidth": 0,
              "ticks": ""
             }
            },
            "type": "parcoords"
           }
          ],
          "pie": [
           {
            "automargin": true,
            "type": "pie"
           }
          ],
          "scatter": [
           {
            "fillpattern": {
             "fillmode": "overlay",
             "size": 10,
             "solidity": 0.2
            },
            "type": "scatter"
           }
          ],
          "scatter3d": [
           {
            "line": {
             "colorbar": {
              "outlinewidth": 0,
              "ticks": ""
             }
            },
            "marker": {
             "colorbar": {
              "outlinewidth": 0,
              "ticks": ""
             }
            },
            "type": "scatter3d"
           }
          ],
          "scattercarpet": [
           {
            "marker": {
             "colorbar": {
              "outlinewidth": 0,
              "ticks": ""
             }
            },
            "type": "scattercarpet"
           }
          ],
          "scattergeo": [
           {
            "marker": {
             "colorbar": {
              "outlinewidth": 0,
              "ticks": ""
             }
            },
            "type": "scattergeo"
           }
          ],
          "scattergl": [
           {
            "marker": {
             "colorbar": {
              "outlinewidth": 0,
              "ticks": ""
             }
            },
            "type": "scattergl"
           }
          ],
          "scattermapbox": [
           {
            "marker": {
             "colorbar": {
              "outlinewidth": 0,
              "ticks": ""
             }
            },
            "type": "scattermapbox"
           }
          ],
          "scatterpolar": [
           {
            "marker": {
             "colorbar": {
              "outlinewidth": 0,
              "ticks": ""
             }
            },
            "type": "scatterpolar"
           }
          ],
          "scatterpolargl": [
           {
            "marker": {
             "colorbar": {
              "outlinewidth": 0,
              "ticks": ""
             }
            },
            "type": "scatterpolargl"
           }
          ],
          "scatterternary": [
           {
            "marker": {
             "colorbar": {
              "outlinewidth": 0,
              "ticks": ""
             }
            },
            "type": "scatterternary"
           }
          ],
          "surface": [
           {
            "colorbar": {
             "outlinewidth": 0,
             "ticks": ""
            },
            "colorscale": [
             [
              0,
              "#0d0887"
             ],
             [
              0.1111111111111111,
              "#46039f"
             ],
             [
              0.2222222222222222,
              "#7201a8"
             ],
             [
              0.3333333333333333,
              "#9c179e"
             ],
             [
              0.4444444444444444,
              "#bd3786"
             ],
             [
              0.5555555555555556,
              "#d8576b"
             ],
             [
              0.6666666666666666,
              "#ed7953"
             ],
             [
              0.7777777777777778,
              "#fb9f3a"
             ],
             [
              0.8888888888888888,
              "#fdca26"
             ],
             [
              1,
              "#f0f921"
             ]
            ],
            "type": "surface"
           }
          ],
          "table": [
           {
            "cells": {
             "fill": {
              "color": "#EBF0F8"
             },
             "line": {
              "color": "white"
             }
            },
            "header": {
             "fill": {
              "color": "#C8D4E3"
             },
             "line": {
              "color": "white"
             }
            },
            "type": "table"
           }
          ]
         },
         "layout": {
          "annotationdefaults": {
           "arrowcolor": "#2a3f5f",
           "arrowhead": 0,
           "arrowwidth": 1
          },
          "autotypenumbers": "strict",
          "coloraxis": {
           "colorbar": {
            "outlinewidth": 0,
            "ticks": ""
           }
          },
          "colorscale": {
           "diverging": [
            [
             0,
             "#8e0152"
            ],
            [
             0.1,
             "#c51b7d"
            ],
            [
             0.2,
             "#de77ae"
            ],
            [
             0.3,
             "#f1b6da"
            ],
            [
             0.4,
             "#fde0ef"
            ],
            [
             0.5,
             "#f7f7f7"
            ],
            [
             0.6,
             "#e6f5d0"
            ],
            [
             0.7,
             "#b8e186"
            ],
            [
             0.8,
             "#7fbc41"
            ],
            [
             0.9,
             "#4d9221"
            ],
            [
             1,
             "#276419"
            ]
           ],
           "sequential": [
            [
             0,
             "#0d0887"
            ],
            [
             0.1111111111111111,
             "#46039f"
            ],
            [
             0.2222222222222222,
             "#7201a8"
            ],
            [
             0.3333333333333333,
             "#9c179e"
            ],
            [
             0.4444444444444444,
             "#bd3786"
            ],
            [
             0.5555555555555556,
             "#d8576b"
            ],
            [
             0.6666666666666666,
             "#ed7953"
            ],
            [
             0.7777777777777778,
             "#fb9f3a"
            ],
            [
             0.8888888888888888,
             "#fdca26"
            ],
            [
             1,
             "#f0f921"
            ]
           ],
           "sequentialminus": [
            [
             0,
             "#0d0887"
            ],
            [
             0.1111111111111111,
             "#46039f"
            ],
            [
             0.2222222222222222,
             "#7201a8"
            ],
            [
             0.3333333333333333,
             "#9c179e"
            ],
            [
             0.4444444444444444,
             "#bd3786"
            ],
            [
             0.5555555555555556,
             "#d8576b"
            ],
            [
             0.6666666666666666,
             "#ed7953"
            ],
            [
             0.7777777777777778,
             "#fb9f3a"
            ],
            [
             0.8888888888888888,
             "#fdca26"
            ],
            [
             1,
             "#f0f921"
            ]
           ]
          },
          "colorway": [
           "#636efa",
           "#EF553B",
           "#00cc96",
           "#ab63fa",
           "#FFA15A",
           "#19d3f3",
           "#FF6692",
           "#B6E880",
           "#FF97FF",
           "#FECB52"
          ],
          "font": {
           "color": "#2a3f5f"
          },
          "geo": {
           "bgcolor": "white",
           "lakecolor": "white",
           "landcolor": "#E5ECF6",
           "showlakes": true,
           "showland": true,
           "subunitcolor": "white"
          },
          "hoverlabel": {
           "align": "left"
          },
          "hovermode": "closest",
          "mapbox": {
           "style": "light"
          },
          "paper_bgcolor": "white",
          "plot_bgcolor": "#E5ECF6",
          "polar": {
           "angularaxis": {
            "gridcolor": "white",
            "linecolor": "white",
            "ticks": ""
           },
           "bgcolor": "#E5ECF6",
           "radialaxis": {
            "gridcolor": "white",
            "linecolor": "white",
            "ticks": ""
           }
          },
          "scene": {
           "xaxis": {
            "backgroundcolor": "#E5ECF6",
            "gridcolor": "white",
            "gridwidth": 2,
            "linecolor": "white",
            "showbackground": true,
            "ticks": "",
            "zerolinecolor": "white"
           },
           "yaxis": {
            "backgroundcolor": "#E5ECF6",
            "gridcolor": "white",
            "gridwidth": 2,
            "linecolor": "white",
            "showbackground": true,
            "ticks": "",
            "zerolinecolor": "white"
           },
           "zaxis": {
            "backgroundcolor": "#E5ECF6",
            "gridcolor": "white",
            "gridwidth": 2,
            "linecolor": "white",
            "showbackground": true,
            "ticks": "",
            "zerolinecolor": "white"
           }
          },
          "shapedefaults": {
           "line": {
            "color": "#2a3f5f"
           }
          },
          "ternary": {
           "aaxis": {
            "gridcolor": "white",
            "linecolor": "white",
            "ticks": ""
           },
           "baxis": {
            "gridcolor": "white",
            "linecolor": "white",
            "ticks": ""
           },
           "bgcolor": "#E5ECF6",
           "caxis": {
            "gridcolor": "white",
            "linecolor": "white",
            "ticks": ""
           }
          },
          "title": {
           "x": 0.05
          },
          "xaxis": {
           "automargin": true,
           "gridcolor": "white",
           "linecolor": "white",
           "ticks": "",
           "title": {
            "standoff": 15
           },
           "zerolinecolor": "white",
           "zerolinewidth": 2
          },
          "yaxis": {
           "automargin": true,
           "gridcolor": "white",
           "linecolor": "white",
           "ticks": "",
           "title": {
            "standoff": 15
           },
           "zerolinecolor": "white",
           "zerolinewidth": 2
          }
         }
        },
        "title": {
         "text": "Number of reviews per category"
        },
        "width": 800,
        "xaxis": {
         "anchor": "y",
         "domain": [
          0,
          1
         ],
         "title": {
          "text": "category"
         }
        },
        "yaxis": {
         "anchor": "x",
         "domain": [
          0,
          1
         ],
         "title": {
          "text": "Number of Reviews"
         }
        }
       }
      }
     },
     "metadata": {},
     "output_type": "display_data"
    }
   ],
   "source": [
    "fig2 = px.bar(\n",
    "    nreviews_per_cat,\n",
    "    y=\"num_reviews\",\n",
    "    x=\"category\",\n",
    "    title=\"Number of reviews per category\",\n",
    "    labels={\"num_reviews\": \"Number of Reviews\"},\n",
    "    color_discrete_sequence=shades_of_pink,\n",
    ")\n",
    "\n",
    "fig2.update_layout(\n",
    "    width=800, height=600\n",
    ")  # Example: Set width to 800 pixels and height to 600 pixels\n",
    "\n",
    "fig2.show()\n"
   ]
  },
  {
   "cell_type": "markdown",
   "metadata": {},
   "source": [
    "When plotting the number of reviews per product to identify popular products, it's observed that \"Serviettes hygiéniques\" (sanitary pads) and \"Tampons\" dominate in terms of review volume, significantly outnumbering the reviews received by products in other categories. This disparity suggests that sanitary pads and tampons are the most engaged-with and possibly the most purchased or used menstrual products among the range available on Amazon.\n"
   ]
  },
  {
   "cell_type": "code",
   "execution_count": 32,
   "metadata": {},
   "outputs": [
    {
     "data": {
      "text/html": [
       "<div>\n",
       "<style scoped>\n",
       "    .dataframe tbody tr th:only-of-type {\n",
       "        vertical-align: middle;\n",
       "    }\n",
       "\n",
       "    .dataframe tbody tr th {\n",
       "        vertical-align: top;\n",
       "    }\n",
       "\n",
       "    .dataframe thead th {\n",
       "        text-align: right;\n",
       "    }\n",
       "</style>\n",
       "<table border=\"1\" class=\"dataframe\">\n",
       "  <thead>\n",
       "    <tr style=\"text-align: right;\">\n",
       "      <th></th>\n",
       "      <th>asin</th>\n",
       "      <th>rating</th>\n",
       "      <th>title</th>\n",
       "      <th>country</th>\n",
       "      <th>date</th>\n",
       "      <th>body</th>\n",
       "      <th>body_en</th>\n",
       "    </tr>\n",
       "  </thead>\n",
       "  <tbody>\n",
       "    <tr>\n",
       "      <th>0</th>\n",
       "      <td>B07BFMNKBJ</td>\n",
       "      <td>1</td>\n",
       "      <td>Pas reçue</td>\n",
       "      <td>France</td>\n",
       "      <td>2020-12-02</td>\n",
       "      <td>Ont me dis que je les reçue alors que non !</td>\n",
       "      <td>I was told that I received them when I didn&amp;#3...</td>\n",
       "    </tr>\n",
       "    <tr>\n",
       "      <th>1</th>\n",
       "      <td>B07BFMNKBJ</td>\n",
       "      <td>1</td>\n",
       "      <td>Sans commentaire</td>\n",
       "      <td>France</td>\n",
       "      <td>2018-10-11</td>\n",
       "      <td>Sans commentaire</td>\n",
       "      <td>No comment</td>\n",
       "    </tr>\n",
       "    <tr>\n",
       "      <th>2</th>\n",
       "      <td>B07BFMNKBJ</td>\n",
       "      <td>5</td>\n",
       "      <td>Parfait 👌</td>\n",
       "      <td>France</td>\n",
       "      <td>2022-01-27</td>\n",
       "      <td>J'utilise ce modèle depuis des années, je ne c...</td>\n",
       "      <td>I have been using this model for years, I no l...</td>\n",
       "    </tr>\n",
       "    <tr>\n",
       "      <th>3</th>\n",
       "      <td>B07BFMNKBJ</td>\n",
       "      <td>4</td>\n",
       "      <td>Bien mais</td>\n",
       "      <td>France</td>\n",
       "      <td>2021-11-21</td>\n",
       "      <td>Légèrement moins cher qu’en grande surface mai...</td>\n",
       "      <td>Slightly cheaper than supermarkets but Pro Con...</td>\n",
       "    </tr>\n",
       "    <tr>\n",
       "      <th>4</th>\n",
       "      <td>B07BFMNKBJ</td>\n",
       "      <td>4</td>\n",
       "      <td>Bons tampons</td>\n",
       "      <td>France</td>\n",
       "      <td>2022-01-29</td>\n",
       "      <td>Rien de particulier à signaler.</td>\n",
       "      <td>Nothing special to report.</td>\n",
       "    </tr>\n",
       "  </tbody>\n",
       "</table>\n",
       "</div>"
      ],
      "text/plain": [
       "         asin  rating             title country       date  \\\n",
       "0  B07BFMNKBJ       1         Pas reçue  France 2020-12-02   \n",
       "1  B07BFMNKBJ       1  Sans commentaire  France 2018-10-11   \n",
       "2  B07BFMNKBJ       5         Parfait 👌  France 2022-01-27   \n",
       "3  B07BFMNKBJ       4         Bien mais  France 2021-11-21   \n",
       "4  B07BFMNKBJ       4      Bons tampons  France 2022-01-29   \n",
       "\n",
       "                                                body  \\\n",
       "0        Ont me dis que je les reçue alors que non !   \n",
       "1                                   Sans commentaire   \n",
       "2  J'utilise ce modèle depuis des années, je ne c...   \n",
       "3  Légèrement moins cher qu’en grande surface mai...   \n",
       "4                    Rien de particulier à signaler.   \n",
       "\n",
       "                                             body_en  \n",
       "0  I was told that I received them when I didn&#3...  \n",
       "1                                         No comment  \n",
       "2  I have been using this model for years, I no l...  \n",
       "3  Slightly cheaper than supermarkets but Pro Con...  \n",
       "4                         Nothing special to report.  "
      ]
     },
     "execution_count": 32,
     "metadata": {},
     "output_type": "execute_result"
    }
   ],
   "source": [
    "reviews.head()\n"
   ]
  },
  {
   "cell_type": "code",
   "execution_count": 33,
   "metadata": {},
   "outputs": [
    {
     "data": {
      "text/html": [
       "<div>\n",
       "<style scoped>\n",
       "    .dataframe tbody tr th:only-of-type {\n",
       "        vertical-align: middle;\n",
       "    }\n",
       "\n",
       "    .dataframe tbody tr th {\n",
       "        vertical-align: top;\n",
       "    }\n",
       "\n",
       "    .dataframe thead th {\n",
       "        text-align: right;\n",
       "    }\n",
       "</style>\n",
       "<table border=\"1\" class=\"dataframe\">\n",
       "  <thead>\n",
       "    <tr style=\"text-align: right;\">\n",
       "      <th></th>\n",
       "      <th>category</th>\n",
       "      <th>num_reviews</th>\n",
       "    </tr>\n",
       "  </thead>\n",
       "  <tbody>\n",
       "    <tr>\n",
       "      <th>0</th>\n",
       "      <td>Coupes menstruelles</td>\n",
       "      <td>3247.000000</td>\n",
       "    </tr>\n",
       "    <tr>\n",
       "      <th>1</th>\n",
       "      <td>Culottes et sous-vêtements de protection</td>\n",
       "      <td>1524.666667</td>\n",
       "    </tr>\n",
       "    <tr>\n",
       "      <th>2</th>\n",
       "      <td>Protections, serviettes hygiéniques, couches p...</td>\n",
       "      <td>1459.833333</td>\n",
       "    </tr>\n",
       "    <tr>\n",
       "      <th>3</th>\n",
       "      <td>Serviettes hygièniques</td>\n",
       "      <td>592.951087</td>\n",
       "    </tr>\n",
       "    <tr>\n",
       "      <th>4</th>\n",
       "      <td>Tampons</td>\n",
       "      <td>395.610879</td>\n",
       "    </tr>\n",
       "  </tbody>\n",
       "</table>\n",
       "</div>"
      ],
      "text/plain": [
       "                                            category  num_reviews\n",
       "0                                Coupes menstruelles  3247.000000\n",
       "1           Culottes et sous-vêtements de protection  1524.666667\n",
       "2  Protections, serviettes hygiéniques, couches p...  1459.833333\n",
       "3                             Serviettes hygièniques   592.951087\n",
       "4                                            Tampons   395.610879"
      ]
     },
     "execution_count": 33,
     "metadata": {},
     "output_type": "execute_result"
    }
   ],
   "source": [
    "avg_nreviews = (\n",
    "    products_right_cats.groupby(\"category\")[\"num_reviews\"].mean().reset_index()\n",
    ")\n",
    "avg_nreviews\n"
   ]
  },
  {
   "cell_type": "code",
   "execution_count": 34,
   "metadata": {},
   "outputs": [
    {
     "data": {
      "application/vnd.plotly.v1+json": {
       "config": {
        "plotlyServerURL": "https://plot.ly"
       },
       "data": [
        {
         "alignmentgroup": "True",
         "hovertemplate": "category=%{x}<br>Average Number of Reviews=%{text}<extra></extra>",
         "legendgroup": "Coupes menstruelles",
         "marker": {
          "color": "#FFC0CB",
          "pattern": {
           "shape": ""
          }
         },
         "name": "Coupes menstruelles",
         "offsetgroup": "Coupes menstruelles",
         "orientation": "v",
         "showlegend": true,
         "text": [
          3247
         ],
         "textposition": "outside",
         "texttemplate": "%{text:.2s}",
         "type": "bar",
         "x": [
          "Coupes menstruelles"
         ],
         "xaxis": "x",
         "y": [
          3247
         ],
         "yaxis": "y"
        },
        {
         "alignmentgroup": "True",
         "hovertemplate": "category=%{x}<br>Average Number of Reviews=%{text}<extra></extra>",
         "legendgroup": "Culottes et sous-vêtements de protection",
         "marker": {
          "color": "#FFB6C1",
          "pattern": {
           "shape": ""
          }
         },
         "name": "Culottes et sous-vêtements de protection",
         "offsetgroup": "Culottes et sous-vêtements de protection",
         "orientation": "v",
         "showlegend": true,
         "text": [
          1524.6666666666667
         ],
         "textposition": "outside",
         "texttemplate": "%{text:.2s}",
         "type": "bar",
         "x": [
          "Culottes et sous-vêtements de protection"
         ],
         "xaxis": "x",
         "y": [
          1524.6666666666667
         ],
         "yaxis": "y"
        },
        {
         "alignmentgroup": "True",
         "hovertemplate": "category=%{x}<br>Average Number of Reviews=%{text}<extra></extra>",
         "legendgroup": "Protections, serviettes hygiéniques, couches pour adultes, protège-slips",
         "marker": {
          "color": "#FF69B4",
          "pattern": {
           "shape": ""
          }
         },
         "name": "Protections, serviettes hygiéniques, couches pour adultes, protège-slips",
         "offsetgroup": "Protections, serviettes hygiéniques, couches pour adultes, protège-slips",
         "orientation": "v",
         "showlegend": true,
         "text": [
          1459.8333333333333
         ],
         "textposition": "outside",
         "texttemplate": "%{text:.2s}",
         "type": "bar",
         "x": [
          "Protections, serviettes hygiéniques, couches pour adultes, protège-slips"
         ],
         "xaxis": "x",
         "y": [
          1459.8333333333333
         ],
         "yaxis": "y"
        },
        {
         "alignmentgroup": "True",
         "hovertemplate": "category=%{x}<br>Average Number of Reviews=%{text}<extra></extra>",
         "legendgroup": "Serviettes hygièniques",
         "marker": {
          "color": "#FF1493",
          "pattern": {
           "shape": ""
          }
         },
         "name": "Serviettes hygièniques",
         "offsetgroup": "Serviettes hygièniques",
         "orientation": "v",
         "showlegend": true,
         "text": [
          592.9510869565217
         ],
         "textposition": "outside",
         "texttemplate": "%{text:.2s}",
         "type": "bar",
         "x": [
          "Serviettes hygièniques"
         ],
         "xaxis": "x",
         "y": [
          592.9510869565217
         ],
         "yaxis": "y"
        },
        {
         "alignmentgroup": "True",
         "hovertemplate": "category=%{x}<br>Average Number of Reviews=%{text}<extra></extra>",
         "legendgroup": "Tampons",
         "marker": {
          "color": "#DB7093",
          "pattern": {
           "shape": ""
          }
         },
         "name": "Tampons",
         "offsetgroup": "Tampons",
         "orientation": "v",
         "showlegend": true,
         "text": [
          395.61087866108784
         ],
         "textposition": "outside",
         "texttemplate": "%{text:.2s}",
         "type": "bar",
         "x": [
          "Tampons"
         ],
         "xaxis": "x",
         "y": [
          395.61087866108784
         ],
         "yaxis": "y"
        }
       ],
       "layout": {
        "barmode": "relative",
        "height": 600,
        "legend": {
         "title": {
          "text": "category"
         },
         "tracegroupgap": 0
        },
        "margin": {
         "b": 20,
         "l": 20,
         "r": 20,
         "t": 30
        },
        "template": {
         "data": {
          "bar": [
           {
            "error_x": {
             "color": "#2a3f5f"
            },
            "error_y": {
             "color": "#2a3f5f"
            },
            "marker": {
             "line": {
              "color": "#E5ECF6",
              "width": 0.5
             },
             "pattern": {
              "fillmode": "overlay",
              "size": 10,
              "solidity": 0.2
             }
            },
            "type": "bar"
           }
          ],
          "barpolar": [
           {
            "marker": {
             "line": {
              "color": "#E5ECF6",
              "width": 0.5
             },
             "pattern": {
              "fillmode": "overlay",
              "size": 10,
              "solidity": 0.2
             }
            },
            "type": "barpolar"
           }
          ],
          "carpet": [
           {
            "aaxis": {
             "endlinecolor": "#2a3f5f",
             "gridcolor": "white",
             "linecolor": "white",
             "minorgridcolor": "white",
             "startlinecolor": "#2a3f5f"
            },
            "baxis": {
             "endlinecolor": "#2a3f5f",
             "gridcolor": "white",
             "linecolor": "white",
             "minorgridcolor": "white",
             "startlinecolor": "#2a3f5f"
            },
            "type": "carpet"
           }
          ],
          "choropleth": [
           {
            "colorbar": {
             "outlinewidth": 0,
             "ticks": ""
            },
            "type": "choropleth"
           }
          ],
          "contour": [
           {
            "colorbar": {
             "outlinewidth": 0,
             "ticks": ""
            },
            "colorscale": [
             [
              0,
              "#0d0887"
             ],
             [
              0.1111111111111111,
              "#46039f"
             ],
             [
              0.2222222222222222,
              "#7201a8"
             ],
             [
              0.3333333333333333,
              "#9c179e"
             ],
             [
              0.4444444444444444,
              "#bd3786"
             ],
             [
              0.5555555555555556,
              "#d8576b"
             ],
             [
              0.6666666666666666,
              "#ed7953"
             ],
             [
              0.7777777777777778,
              "#fb9f3a"
             ],
             [
              0.8888888888888888,
              "#fdca26"
             ],
             [
              1,
              "#f0f921"
             ]
            ],
            "type": "contour"
           }
          ],
          "contourcarpet": [
           {
            "colorbar": {
             "outlinewidth": 0,
             "ticks": ""
            },
            "type": "contourcarpet"
           }
          ],
          "heatmap": [
           {
            "colorbar": {
             "outlinewidth": 0,
             "ticks": ""
            },
            "colorscale": [
             [
              0,
              "#0d0887"
             ],
             [
              0.1111111111111111,
              "#46039f"
             ],
             [
              0.2222222222222222,
              "#7201a8"
             ],
             [
              0.3333333333333333,
              "#9c179e"
             ],
             [
              0.4444444444444444,
              "#bd3786"
             ],
             [
              0.5555555555555556,
              "#d8576b"
             ],
             [
              0.6666666666666666,
              "#ed7953"
             ],
             [
              0.7777777777777778,
              "#fb9f3a"
             ],
             [
              0.8888888888888888,
              "#fdca26"
             ],
             [
              1,
              "#f0f921"
             ]
            ],
            "type": "heatmap"
           }
          ],
          "heatmapgl": [
           {
            "colorbar": {
             "outlinewidth": 0,
             "ticks": ""
            },
            "colorscale": [
             [
              0,
              "#0d0887"
             ],
             [
              0.1111111111111111,
              "#46039f"
             ],
             [
              0.2222222222222222,
              "#7201a8"
             ],
             [
              0.3333333333333333,
              "#9c179e"
             ],
             [
              0.4444444444444444,
              "#bd3786"
             ],
             [
              0.5555555555555556,
              "#d8576b"
             ],
             [
              0.6666666666666666,
              "#ed7953"
             ],
             [
              0.7777777777777778,
              "#fb9f3a"
             ],
             [
              0.8888888888888888,
              "#fdca26"
             ],
             [
              1,
              "#f0f921"
             ]
            ],
            "type": "heatmapgl"
           }
          ],
          "histogram": [
           {
            "marker": {
             "pattern": {
              "fillmode": "overlay",
              "size": 10,
              "solidity": 0.2
             }
            },
            "type": "histogram"
           }
          ],
          "histogram2d": [
           {
            "colorbar": {
             "outlinewidth": 0,
             "ticks": ""
            },
            "colorscale": [
             [
              0,
              "#0d0887"
             ],
             [
              0.1111111111111111,
              "#46039f"
             ],
             [
              0.2222222222222222,
              "#7201a8"
             ],
             [
              0.3333333333333333,
              "#9c179e"
             ],
             [
              0.4444444444444444,
              "#bd3786"
             ],
             [
              0.5555555555555556,
              "#d8576b"
             ],
             [
              0.6666666666666666,
              "#ed7953"
             ],
             [
              0.7777777777777778,
              "#fb9f3a"
             ],
             [
              0.8888888888888888,
              "#fdca26"
             ],
             [
              1,
              "#f0f921"
             ]
            ],
            "type": "histogram2d"
           }
          ],
          "histogram2dcontour": [
           {
            "colorbar": {
             "outlinewidth": 0,
             "ticks": ""
            },
            "colorscale": [
             [
              0,
              "#0d0887"
             ],
             [
              0.1111111111111111,
              "#46039f"
             ],
             [
              0.2222222222222222,
              "#7201a8"
             ],
             [
              0.3333333333333333,
              "#9c179e"
             ],
             [
              0.4444444444444444,
              "#bd3786"
             ],
             [
              0.5555555555555556,
              "#d8576b"
             ],
             [
              0.6666666666666666,
              "#ed7953"
             ],
             [
              0.7777777777777778,
              "#fb9f3a"
             ],
             [
              0.8888888888888888,
              "#fdca26"
             ],
             [
              1,
              "#f0f921"
             ]
            ],
            "type": "histogram2dcontour"
           }
          ],
          "mesh3d": [
           {
            "colorbar": {
             "outlinewidth": 0,
             "ticks": ""
            },
            "type": "mesh3d"
           }
          ],
          "parcoords": [
           {
            "line": {
             "colorbar": {
              "outlinewidth": 0,
              "ticks": ""
             }
            },
            "type": "parcoords"
           }
          ],
          "pie": [
           {
            "automargin": true,
            "type": "pie"
           }
          ],
          "scatter": [
           {
            "fillpattern": {
             "fillmode": "overlay",
             "size": 10,
             "solidity": 0.2
            },
            "type": "scatter"
           }
          ],
          "scatter3d": [
           {
            "line": {
             "colorbar": {
              "outlinewidth": 0,
              "ticks": ""
             }
            },
            "marker": {
             "colorbar": {
              "outlinewidth": 0,
              "ticks": ""
             }
            },
            "type": "scatter3d"
           }
          ],
          "scattercarpet": [
           {
            "marker": {
             "colorbar": {
              "outlinewidth": 0,
              "ticks": ""
             }
            },
            "type": "scattercarpet"
           }
          ],
          "scattergeo": [
           {
            "marker": {
             "colorbar": {
              "outlinewidth": 0,
              "ticks": ""
             }
            },
            "type": "scattergeo"
           }
          ],
          "scattergl": [
           {
            "marker": {
             "colorbar": {
              "outlinewidth": 0,
              "ticks": ""
             }
            },
            "type": "scattergl"
           }
          ],
          "scattermapbox": [
           {
            "marker": {
             "colorbar": {
              "outlinewidth": 0,
              "ticks": ""
             }
            },
            "type": "scattermapbox"
           }
          ],
          "scatterpolar": [
           {
            "marker": {
             "colorbar": {
              "outlinewidth": 0,
              "ticks": ""
             }
            },
            "type": "scatterpolar"
           }
          ],
          "scatterpolargl": [
           {
            "marker": {
             "colorbar": {
              "outlinewidth": 0,
              "ticks": ""
             }
            },
            "type": "scatterpolargl"
           }
          ],
          "scatterternary": [
           {
            "marker": {
             "colorbar": {
              "outlinewidth": 0,
              "ticks": ""
             }
            },
            "type": "scatterternary"
           }
          ],
          "surface": [
           {
            "colorbar": {
             "outlinewidth": 0,
             "ticks": ""
            },
            "colorscale": [
             [
              0,
              "#0d0887"
             ],
             [
              0.1111111111111111,
              "#46039f"
             ],
             [
              0.2222222222222222,
              "#7201a8"
             ],
             [
              0.3333333333333333,
              "#9c179e"
             ],
             [
              0.4444444444444444,
              "#bd3786"
             ],
             [
              0.5555555555555556,
              "#d8576b"
             ],
             [
              0.6666666666666666,
              "#ed7953"
             ],
             [
              0.7777777777777778,
              "#fb9f3a"
             ],
             [
              0.8888888888888888,
              "#fdca26"
             ],
             [
              1,
              "#f0f921"
             ]
            ],
            "type": "surface"
           }
          ],
          "table": [
           {
            "cells": {
             "fill": {
              "color": "#EBF0F8"
             },
             "line": {
              "color": "white"
             }
            },
            "header": {
             "fill": {
              "color": "#C8D4E3"
             },
             "line": {
              "color": "white"
             }
            },
            "type": "table"
           }
          ]
         },
         "layout": {
          "annotationdefaults": {
           "arrowcolor": "#2a3f5f",
           "arrowhead": 0,
           "arrowwidth": 1
          },
          "autotypenumbers": "strict",
          "coloraxis": {
           "colorbar": {
            "outlinewidth": 0,
            "ticks": ""
           }
          },
          "colorscale": {
           "diverging": [
            [
             0,
             "#8e0152"
            ],
            [
             0.1,
             "#c51b7d"
            ],
            [
             0.2,
             "#de77ae"
            ],
            [
             0.3,
             "#f1b6da"
            ],
            [
             0.4,
             "#fde0ef"
            ],
            [
             0.5,
             "#f7f7f7"
            ],
            [
             0.6,
             "#e6f5d0"
            ],
            [
             0.7,
             "#b8e186"
            ],
            [
             0.8,
             "#7fbc41"
            ],
            [
             0.9,
             "#4d9221"
            ],
            [
             1,
             "#276419"
            ]
           ],
           "sequential": [
            [
             0,
             "#0d0887"
            ],
            [
             0.1111111111111111,
             "#46039f"
            ],
            [
             0.2222222222222222,
             "#7201a8"
            ],
            [
             0.3333333333333333,
             "#9c179e"
            ],
            [
             0.4444444444444444,
             "#bd3786"
            ],
            [
             0.5555555555555556,
             "#d8576b"
            ],
            [
             0.6666666666666666,
             "#ed7953"
            ],
            [
             0.7777777777777778,
             "#fb9f3a"
            ],
            [
             0.8888888888888888,
             "#fdca26"
            ],
            [
             1,
             "#f0f921"
            ]
           ],
           "sequentialminus": [
            [
             0,
             "#0d0887"
            ],
            [
             0.1111111111111111,
             "#46039f"
            ],
            [
             0.2222222222222222,
             "#7201a8"
            ],
            [
             0.3333333333333333,
             "#9c179e"
            ],
            [
             0.4444444444444444,
             "#bd3786"
            ],
            [
             0.5555555555555556,
             "#d8576b"
            ],
            [
             0.6666666666666666,
             "#ed7953"
            ],
            [
             0.7777777777777778,
             "#fb9f3a"
            ],
            [
             0.8888888888888888,
             "#fdca26"
            ],
            [
             1,
             "#f0f921"
            ]
           ]
          },
          "colorway": [
           "#636efa",
           "#EF553B",
           "#00cc96",
           "#ab63fa",
           "#FFA15A",
           "#19d3f3",
           "#FF6692",
           "#B6E880",
           "#FF97FF",
           "#FECB52"
          ],
          "font": {
           "color": "#2a3f5f"
          },
          "geo": {
           "bgcolor": "white",
           "lakecolor": "white",
           "landcolor": "#E5ECF6",
           "showlakes": true,
           "showland": true,
           "subunitcolor": "white"
          },
          "hoverlabel": {
           "align": "left"
          },
          "hovermode": "closest",
          "mapbox": {
           "style": "light"
          },
          "paper_bgcolor": "white",
          "plot_bgcolor": "#E5ECF6",
          "polar": {
           "angularaxis": {
            "gridcolor": "white",
            "linecolor": "white",
            "ticks": ""
           },
           "bgcolor": "#E5ECF6",
           "radialaxis": {
            "gridcolor": "white",
            "linecolor": "white",
            "ticks": ""
           }
          },
          "scene": {
           "xaxis": {
            "backgroundcolor": "#E5ECF6",
            "gridcolor": "white",
            "gridwidth": 2,
            "linecolor": "white",
            "showbackground": true,
            "ticks": "",
            "zerolinecolor": "white"
           },
           "yaxis": {
            "backgroundcolor": "#E5ECF6",
            "gridcolor": "white",
            "gridwidth": 2,
            "linecolor": "white",
            "showbackground": true,
            "ticks": "",
            "zerolinecolor": "white"
           },
           "zaxis": {
            "backgroundcolor": "#E5ECF6",
            "gridcolor": "white",
            "gridwidth": 2,
            "linecolor": "white",
            "showbackground": true,
            "ticks": "",
            "zerolinecolor": "white"
           }
          },
          "shapedefaults": {
           "line": {
            "color": "#2a3f5f"
           }
          },
          "ternary": {
           "aaxis": {
            "gridcolor": "white",
            "linecolor": "white",
            "ticks": ""
           },
           "baxis": {
            "gridcolor": "white",
            "linecolor": "white",
            "ticks": ""
           },
           "bgcolor": "#E5ECF6",
           "caxis": {
            "gridcolor": "white",
            "linecolor": "white",
            "ticks": ""
           }
          },
          "title": {
           "x": 0.05
          },
          "xaxis": {
           "automargin": true,
           "gridcolor": "white",
           "linecolor": "white",
           "ticks": "",
           "title": {
            "standoff": 15
           },
           "zerolinecolor": "white",
           "zerolinewidth": 2
          },
          "yaxis": {
           "automargin": true,
           "gridcolor": "white",
           "linecolor": "white",
           "ticks": "",
           "title": {
            "standoff": 15
           },
           "zerolinecolor": "white",
           "zerolinewidth": 2
          }
         }
        },
        "title": {
         "text": "Average number of reviews per category"
        },
        "width": 800,
        "xaxis": {
         "anchor": "y",
         "categoryarray": [
          "Coupes menstruelles",
          "Culottes et sous-vêtements de protection",
          "Protections, serviettes hygiéniques, couches pour adultes, protège-slips",
          "Serviettes hygièniques",
          "Tampons"
         ],
         "categoryorder": "array",
         "domain": [
          0,
          1
         ],
         "title": {
          "text": "category"
         }
        },
        "yaxis": {
         "anchor": "x",
         "domain": [
          0,
          1
         ],
         "title": {
          "text": "Average Number of Reviews"
         }
        }
       }
      }
     },
     "metadata": {},
     "output_type": "display_data"
    }
   ],
   "source": [
    "fig8 = px.bar(\n",
    "    avg_nreviews,\n",
    "    x=\"category\",\n",
    "    y=\"num_reviews\",\n",
    "    orientation=\"v\",\n",
    "    labels={\"num_reviews\": \"Average Number of Reviews\"},\n",
    "    title=\"Average number of reviews per category\",\n",
    "    color=\"category\",\n",
    "    color_discrete_sequence=shades_of_pink,\n",
    "    text=\"num_reviews\",\n",
    ")\n",
    "\n",
    "# Customize text by updating traces\n",
    "fig8.update_traces(\n",
    "    texttemplate=\"%{text:.2s}\",  # This template shows the text. '.2s' formats numbers with 2 significant digits\n",
    "    textposition=\"outside\",\n",
    ")\n",
    "\n",
    "# Adjust bar width (value between 0 and 1; lower values make bars thinner)\n",
    "fig8.update_layout(\n",
    "    margin=dict(l=20, r=20, t=30, b=20)\n",
    ")  # Adjust left, right, top, bottom margins\n",
    "fig8.update_layout(width=800, height=600)  # Adjust the figure size\n",
    "\n",
    "fig8.show()\n"
   ]
  },
  {
   "cell_type": "markdown",
   "metadata": {},
   "source": [
    "- **High Engagement with Menstrual Cups:** The \"Coupes menstruelles\" category significantly outpaces others in average review count, suggesting a high level of user interaction and possibly a strong community of users who share their experiences. This could indicate high satisfaction or interest in menstrual cups as a sustainable alternative to traditional menstrual products.\n",
    "\n",
    "- **Protective Underwear and Broad Protection Category:** \"Culottes et sous-vêtements de protection\" and the broader category of protection products, including sanitary pads and incontinence products, also show relatively high engagement. This could reflect the growing market demand for comfortable and reliable protection, especially in categories that offer innovative solutions or cater to specific needs.\n",
    "\n",
    "- **Lower Engagement with Sanitary Pads and Tampons:** The comparatively lower average review counts for \"Serviettes hygiéniques\" and \"Tampons\" might suggest a mature market with established products, where customers feel less compelled to leave reviews. Alternatively, this could indicate a wider acceptance and usage of these products, making individual reviews less common as the products are considered standard and users feel less need to share experiences.\n",
    "\n",
    "Overall Implications:\n",
    "\n",
    "- **Product Innovation and Sustainability:** The high engagement in the menstrual cups category might reflect a consumer trend towards sustainable and reusable menstrual products. It could also point to a community that actively discusses and promotes these alternatives.\n",
    "\n",
    "- **Market Maturity and Consumer Habits:** The lower engagement in traditional categories like sanitary pads and tampons may highlight market saturation or stable consumer habits, where the incentive to review is lower unless the product stands out significantly in terms of innovation or quality.\n",
    "\n",
    "- **Opportunities for Growth:** The varied levels of engagement across categories indicate opportunities for brands to innovate and engage customers, particularly in categories with lower average review counts. Highlighting benefits, engaging in community building, and encouraging reviews could be effective strategies.\n"
   ]
  },
  {
   "cell_type": "markdown",
   "metadata": {},
   "source": [
    "##### **C. Price Analysis**\n"
   ]
  },
  {
   "cell_type": "code",
   "execution_count": 35,
   "metadata": {},
   "outputs": [],
   "source": [
    "price_v_cat = products.groupby(\"category\")[\"price\"].mean().reset_index()\n"
   ]
  },
  {
   "cell_type": "code",
   "execution_count": 36,
   "metadata": {},
   "outputs": [
    {
     "data": {
      "application/vnd.plotly.v1+json": {
       "config": {
        "plotlyServerURL": "https://plot.ly"
       },
       "data": [
        {
         "alignmentgroup": "True",
         "bingroup": "x",
         "hovertemplate": "category=Tampons<br>price=%{x}<br>count=%{y}<extra></extra>",
         "legendgroup": "Tampons",
         "marker": {
          "color": "#636efa",
          "pattern": {
           "shape": ""
          }
         },
         "name": "Tampons",
         "offsetgroup": "Tampons",
         "orientation": "v",
         "showlegend": true,
         "type": "histogram",
         "x": [
          2.66,
          3.79,
          3.1,
          2.81,
          4.5,
          3.75,
          4.5,
          3.8,
          4.53,
          6.9,
          11.96,
          14.95,
          7.29,
          4.99,
          4.99,
          5.19,
          5.5,
          9.4,
          25.16,
          7.9,
          9.96,
          null,
          14.94,
          null,
          14.99,
          6.32,
          5.99,
          4.99,
          4.72,
          9.74,
          11.57,
          34.99,
          27.58,
          10.09,
          13.9,
          6.9,
          12.19,
          14.09,
          9.95,
          null,
          8.92,
          49.95,
          5.99,
          10.2,
          7.99,
          11.99,
          8.99,
          7.99,
          25.9,
          null,
          19.96,
          54.99,
          19.98,
          51.87,
          12.36,
          13.99,
          28.81,
          19.44,
          11.87,
          6.98,
          59.9,
          26.94,
          23.36,
          10.28,
          23.24,
          12.23,
          14.99,
          15.99,
          9.2,
          20.41,
          8.32,
          11.93,
          12.49,
          17.69,
          6.89,
          15.92,
          11.45,
          null,
          15.29,
          15.11,
          14.44,
          13.92,
          8.13,
          null,
          12.5,
          7.99,
          12.09,
          12.09,
          null,
          10.88,
          10.88,
          10.65,
          10.88,
          10.88,
          10.88,
          10.88,
          10.37,
          10.29,
          9.89,
          9.94,
          9.49,
          9.98,
          8.87,
          8.09,
          8.13,
          7.64,
          7.23,
          6.77,
          6.99,
          6.96,
          6.62,
          7.24,
          7.32,
          6.76,
          6.69,
          6.89,
          5.98,
          5.7,
          5.76,
          4.99,
          4.99,
          4.18,
          3.79,
          10.37,
          10.88,
          10.88,
          10.88,
          10.88,
          10.88,
          7.72,
          9.23,
          null,
          8.57,
          12.09,
          6.39,
          null,
          5.13,
          11.9,
          15.04,
          11.99,
          15.6,
          18.84,
          14.99,
          10.99,
          7.99,
          7.99,
          25.99,
          14.99,
          27.57,
          14.49,
          7.99,
          7.99,
          9.99,
          22.64,
          19.99,
          26,
          42.9,
          7.99,
          21.29,
          14.99,
          37.88,
          42.08,
          49.95,
          9.99,
          42.9,
          26.88,
          14.99,
          15.99,
          23.35,
          33.31,
          25.89,
          11.36,
          39.04,
          25.64,
          14.99,
          17.27,
          20.68,
          24.47,
          19.95,
          25.63,
          10.79,
          17.99,
          15.99,
          10.86,
          44.19,
          15.99,
          26.95,
          17.27,
          25,
          15.16,
          20.28,
          24.99,
          18.99,
          15.22,
          19.24,
          21.24,
          21.75,
          12.42,
          15.57,
          44.19,
          21.81,
          11.35,
          12.99,
          19.9,
          20.87,
          18.99,
          33.6,
          19.11,
          14.99,
          18.53,
          42.93,
          11.9,
          16.54,
          13.72,
          12.9,
          6.99,
          11.99,
          17.14,
          12.5,
          10.99,
          14.99,
          15.1,
          41,
          16.99,
          11.95,
          14.32,
          11.42,
          7.21,
          12.99,
          8.99,
          10.99,
          8.99,
          12.04,
          11.06,
          40.3,
          32.57,
          11.13,
          28.03,
          29.89,
          10.32,
          11.67,
          11.72,
          25,
          30.49,
          null,
          27.94,
          9.99,
          27.94,
          14.99,
          18.77,
          13.99,
          9.04,
          20.99,
          20.65,
          19.99,
          24.74,
          15.99,
          8,
          25,
          6.99,
          16.54,
          12.49,
          21,
          11.66,
          14.9,
          19.9,
          12.99,
          19.95,
          16.42,
          15.99,
          14.11,
          11.01,
          13.99,
          15.99,
          15.22,
          11.34,
          12.99,
          12.99,
          12.99,
          11.99,
          9.99,
          9.99,
          8.77,
          9.49,
          3.49,
          6.83,
          6.9,
          6.85,
          13.99,
          19.5,
          36.9,
          18.89,
          20.87,
          14.9,
          29.76,
          21.22,
          15.15,
          18.28,
          9.99,
          14.9,
          19.9,
          19.9,
          19.9,
          13.06,
          20.59,
          16.36,
          28.2,
          35.99,
          10.64,
          22,
          24.9,
          22,
          13.99,
          62.5,
          28.2,
          26.43,
          27.94,
          27.68,
          25.94,
          12.99,
          11.99,
          19.56,
          18.23,
          15.16,
          24.15,
          3.6,
          7.9,
          23.39,
          10.04,
          6.9
         ],
         "xaxis": "x",
         "yaxis": "y"
        },
        {
         "alignmentgroup": "True",
         "bingroup": "x",
         "hovertemplate": "category=Serviettes hygièniques<br>price=%{x}<br>count=%{y}<extra></extra>",
         "legendgroup": "Serviettes hygièniques",
         "marker": {
          "color": "#EF553B",
          "pattern": {
           "shape": ""
          }
         },
         "name": "Serviettes hygièniques",
         "offsetgroup": "Serviettes hygièniques",
         "orientation": "v",
         "showlegend": true,
         "type": "histogram",
         "x": [
          19.99,
          2.06,
          2.45,
          9.99,
          24.99,
          1.98,
          1.79,
          2.4,
          1.99,
          3.49,
          1.55,
          2.36,
          2.99,
          3.75,
          2.17,
          2.02,
          3.98,
          4.58,
          22.53,
          23.6,
          2.91,
          22.39,
          2.5,
          14.5,
          35.56,
          25.74,
          2.95,
          2.95,
          39,
          33.52,
          19.03,
          3.98,
          28.09,
          23.99,
          null,
          34.97,
          55.65,
          30.09,
          59.97,
          18.5,
          null,
          34.9,
          null,
          28,
          39.45,
          2.79,
          32.12,
          28.99,
          29.99,
          3.5,
          29.9,
          25,
          9.98,
          25.99,
          31.5,
          29.9,
          31.11,
          26.9,
          16.5,
          5.64,
          24.99,
          21.45,
          26.4,
          19.99,
          26.11,
          19.25,
          22.99,
          15.4,
          23,
          24.99,
          26.12,
          20.99,
          14.99,
          14.24,
          20.99,
          3.58,
          14.99,
          20.69,
          null,
          2.79,
          19.82,
          10.99,
          32.55,
          30.8,
          19.99,
          17.3,
          1.69,
          20.08,
          14.99,
          16.99,
          34.67,
          3.99,
          19.29,
          16.99,
          36.35,
          31.09,
          16.99,
          15.24,
          14.99,
          10.8,
          1.69,
          30,
          18.39,
          14.9,
          12.6,
          2.99,
          15.24,
          12.99,
          2.79,
          1.45,
          1.79,
          14.16,
          6.29,
          5.5,
          15.88,
          5.54,
          12.22,
          5.35,
          14.99,
          9.88,
          8.18,
          1.69,
          11.89,
          10.33,
          8.99,
          7.99,
          7.5,
          19.49,
          3.19,
          6.89,
          4.19,
          15.99,
          6.82,
          9.49,
          7.63,
          19.99,
          9,
          13.9,
          3.39,
          9.06,
          9.69,
          7.3,
          6.79,
          9.07,
          4.56,
          8.4,
          7.49,
          null,
          14.9,
          7.59,
          16.78,
          5.99,
          4.85,
          4.49,
          5.49,
          10.99,
          5.88,
          7.86,
          5.5,
          3.7,
          9.22,
          6.99,
          3,
          36,
          39.97,
          null,
          6.05,
          6.05,
          19.99,
          33.99,
          3.18,
          35.99,
          17.68,
          19.22,
          null,
          null,
          null,
          21.8,
          3.69,
          29.45,
          25.95,
          13.79,
          4.98,
          15.86,
          5.36,
          null,
          5.99,
          12,
          18.9,
          19.99,
          3.59,
          25.78,
          7.96,
          26.9,
          7.44,
          2.99,
          14.72,
          4.98,
          20.99,
          10,
          null
         ],
         "xaxis": "x",
         "yaxis": "y"
        },
        {
         "alignmentgroup": "True",
         "bingroup": "x",
         "hovertemplate": "category=Culottes et sous-vêtements de protection<br>price=%{x}<br>count=%{y}<extra></extra>",
         "legendgroup": "Culottes et sous-vêtements de protection",
         "marker": {
          "color": "#00cc96",
          "pattern": {
           "shape": ""
          }
         },
         "name": "Culottes et sous-vêtements de protection",
         "offsetgroup": "Culottes et sous-vêtements de protection",
         "orientation": "v",
         "showlegend": true,
         "type": "histogram",
         "x": [
          5.98,
          3.98,
          2.98,
          27.99,
          19.99,
          32.99,
          30.9,
          22.99,
          49.99,
          16.9,
          29.9,
          3.98,
          19.9,
          22.99
         ],
         "xaxis": "x",
         "yaxis": "y"
        },
        {
         "alignmentgroup": "True",
         "bingroup": "x",
         "hovertemplate": "category=Coupes menstruelles<br>price=%{x}<br>count=%{y}<extra></extra>",
         "legendgroup": "Coupes menstruelles",
         "marker": {
          "color": "#ab63fa",
          "pattern": {
           "shape": ""
          }
         },
         "name": "Coupes menstruelles",
         "offsetgroup": "Coupes menstruelles",
         "orientation": "v",
         "showlegend": true,
         "type": "histogram",
         "x": [
          17.9,
          37.45,
          7.99,
          14.59,
          27.18,
          10.99,
          17.39,
          17.99,
          15.59,
          11.99,
          9.99
         ],
         "xaxis": "x",
         "yaxis": "y"
        },
        {
         "alignmentgroup": "True",
         "bingroup": "x",
         "hovertemplate": "category=Protections, serviettes hygiéniques, couches pour adultes, protège-slips<br>price=%{x}<br>count=%{y}<extra></extra>",
         "legendgroup": "Protections, serviettes hygiéniques, couches pour adultes, protège-slips",
         "marker": {
          "color": "#FFA15A",
          "pattern": {
           "shape": ""
          }
         },
         "name": "Protections, serviettes hygiéniques, couches pour adultes, protège-slips",
         "offsetgroup": "Protections, serviettes hygiéniques, couches pour adultes, protège-slips",
         "orientation": "v",
         "showlegend": true,
         "type": "histogram",
         "x": [
          9.19,
          37.35,
          28.14,
          null,
          16.14,
          14.87
         ],
         "xaxis": "x",
         "yaxis": "y"
        }
       ],
       "layout": {
        "barmode": "relative",
        "legend": {
         "title": {
          "text": "category"
         },
         "tracegroupgap": 0
        },
        "template": {
         "data": {
          "bar": [
           {
            "error_x": {
             "color": "#2a3f5f"
            },
            "error_y": {
             "color": "#2a3f5f"
            },
            "marker": {
             "line": {
              "color": "#E5ECF6",
              "width": 0.5
             },
             "pattern": {
              "fillmode": "overlay",
              "size": 10,
              "solidity": 0.2
             }
            },
            "type": "bar"
           }
          ],
          "barpolar": [
           {
            "marker": {
             "line": {
              "color": "#E5ECF6",
              "width": 0.5
             },
             "pattern": {
              "fillmode": "overlay",
              "size": 10,
              "solidity": 0.2
             }
            },
            "type": "barpolar"
           }
          ],
          "carpet": [
           {
            "aaxis": {
             "endlinecolor": "#2a3f5f",
             "gridcolor": "white",
             "linecolor": "white",
             "minorgridcolor": "white",
             "startlinecolor": "#2a3f5f"
            },
            "baxis": {
             "endlinecolor": "#2a3f5f",
             "gridcolor": "white",
             "linecolor": "white",
             "minorgridcolor": "white",
             "startlinecolor": "#2a3f5f"
            },
            "type": "carpet"
           }
          ],
          "choropleth": [
           {
            "colorbar": {
             "outlinewidth": 0,
             "ticks": ""
            },
            "type": "choropleth"
           }
          ],
          "contour": [
           {
            "colorbar": {
             "outlinewidth": 0,
             "ticks": ""
            },
            "colorscale": [
             [
              0,
              "#0d0887"
             ],
             [
              0.1111111111111111,
              "#46039f"
             ],
             [
              0.2222222222222222,
              "#7201a8"
             ],
             [
              0.3333333333333333,
              "#9c179e"
             ],
             [
              0.4444444444444444,
              "#bd3786"
             ],
             [
              0.5555555555555556,
              "#d8576b"
             ],
             [
              0.6666666666666666,
              "#ed7953"
             ],
             [
              0.7777777777777778,
              "#fb9f3a"
             ],
             [
              0.8888888888888888,
              "#fdca26"
             ],
             [
              1,
              "#f0f921"
             ]
            ],
            "type": "contour"
           }
          ],
          "contourcarpet": [
           {
            "colorbar": {
             "outlinewidth": 0,
             "ticks": ""
            },
            "type": "contourcarpet"
           }
          ],
          "heatmap": [
           {
            "colorbar": {
             "outlinewidth": 0,
             "ticks": ""
            },
            "colorscale": [
             [
              0,
              "#0d0887"
             ],
             [
              0.1111111111111111,
              "#46039f"
             ],
             [
              0.2222222222222222,
              "#7201a8"
             ],
             [
              0.3333333333333333,
              "#9c179e"
             ],
             [
              0.4444444444444444,
              "#bd3786"
             ],
             [
              0.5555555555555556,
              "#d8576b"
             ],
             [
              0.6666666666666666,
              "#ed7953"
             ],
             [
              0.7777777777777778,
              "#fb9f3a"
             ],
             [
              0.8888888888888888,
              "#fdca26"
             ],
             [
              1,
              "#f0f921"
             ]
            ],
            "type": "heatmap"
           }
          ],
          "heatmapgl": [
           {
            "colorbar": {
             "outlinewidth": 0,
             "ticks": ""
            },
            "colorscale": [
             [
              0,
              "#0d0887"
             ],
             [
              0.1111111111111111,
              "#46039f"
             ],
             [
              0.2222222222222222,
              "#7201a8"
             ],
             [
              0.3333333333333333,
              "#9c179e"
             ],
             [
              0.4444444444444444,
              "#bd3786"
             ],
             [
              0.5555555555555556,
              "#d8576b"
             ],
             [
              0.6666666666666666,
              "#ed7953"
             ],
             [
              0.7777777777777778,
              "#fb9f3a"
             ],
             [
              0.8888888888888888,
              "#fdca26"
             ],
             [
              1,
              "#f0f921"
             ]
            ],
            "type": "heatmapgl"
           }
          ],
          "histogram": [
           {
            "marker": {
             "pattern": {
              "fillmode": "overlay",
              "size": 10,
              "solidity": 0.2
             }
            },
            "type": "histogram"
           }
          ],
          "histogram2d": [
           {
            "colorbar": {
             "outlinewidth": 0,
             "ticks": ""
            },
            "colorscale": [
             [
              0,
              "#0d0887"
             ],
             [
              0.1111111111111111,
              "#46039f"
             ],
             [
              0.2222222222222222,
              "#7201a8"
             ],
             [
              0.3333333333333333,
              "#9c179e"
             ],
             [
              0.4444444444444444,
              "#bd3786"
             ],
             [
              0.5555555555555556,
              "#d8576b"
             ],
             [
              0.6666666666666666,
              "#ed7953"
             ],
             [
              0.7777777777777778,
              "#fb9f3a"
             ],
             [
              0.8888888888888888,
              "#fdca26"
             ],
             [
              1,
              "#f0f921"
             ]
            ],
            "type": "histogram2d"
           }
          ],
          "histogram2dcontour": [
           {
            "colorbar": {
             "outlinewidth": 0,
             "ticks": ""
            },
            "colorscale": [
             [
              0,
              "#0d0887"
             ],
             [
              0.1111111111111111,
              "#46039f"
             ],
             [
              0.2222222222222222,
              "#7201a8"
             ],
             [
              0.3333333333333333,
              "#9c179e"
             ],
             [
              0.4444444444444444,
              "#bd3786"
             ],
             [
              0.5555555555555556,
              "#d8576b"
             ],
             [
              0.6666666666666666,
              "#ed7953"
             ],
             [
              0.7777777777777778,
              "#fb9f3a"
             ],
             [
              0.8888888888888888,
              "#fdca26"
             ],
             [
              1,
              "#f0f921"
             ]
            ],
            "type": "histogram2dcontour"
           }
          ],
          "mesh3d": [
           {
            "colorbar": {
             "outlinewidth": 0,
             "ticks": ""
            },
            "type": "mesh3d"
           }
          ],
          "parcoords": [
           {
            "line": {
             "colorbar": {
              "outlinewidth": 0,
              "ticks": ""
             }
            },
            "type": "parcoords"
           }
          ],
          "pie": [
           {
            "automargin": true,
            "type": "pie"
           }
          ],
          "scatter": [
           {
            "fillpattern": {
             "fillmode": "overlay",
             "size": 10,
             "solidity": 0.2
            },
            "type": "scatter"
           }
          ],
          "scatter3d": [
           {
            "line": {
             "colorbar": {
              "outlinewidth": 0,
              "ticks": ""
             }
            },
            "marker": {
             "colorbar": {
              "outlinewidth": 0,
              "ticks": ""
             }
            },
            "type": "scatter3d"
           }
          ],
          "scattercarpet": [
           {
            "marker": {
             "colorbar": {
              "outlinewidth": 0,
              "ticks": ""
             }
            },
            "type": "scattercarpet"
           }
          ],
          "scattergeo": [
           {
            "marker": {
             "colorbar": {
              "outlinewidth": 0,
              "ticks": ""
             }
            },
            "type": "scattergeo"
           }
          ],
          "scattergl": [
           {
            "marker": {
             "colorbar": {
              "outlinewidth": 0,
              "ticks": ""
             }
            },
            "type": "scattergl"
           }
          ],
          "scattermapbox": [
           {
            "marker": {
             "colorbar": {
              "outlinewidth": 0,
              "ticks": ""
             }
            },
            "type": "scattermapbox"
           }
          ],
          "scatterpolar": [
           {
            "marker": {
             "colorbar": {
              "outlinewidth": 0,
              "ticks": ""
             }
            },
            "type": "scatterpolar"
           }
          ],
          "scatterpolargl": [
           {
            "marker": {
             "colorbar": {
              "outlinewidth": 0,
              "ticks": ""
             }
            },
            "type": "scatterpolargl"
           }
          ],
          "scatterternary": [
           {
            "marker": {
             "colorbar": {
              "outlinewidth": 0,
              "ticks": ""
             }
            },
            "type": "scatterternary"
           }
          ],
          "surface": [
           {
            "colorbar": {
             "outlinewidth": 0,
             "ticks": ""
            },
            "colorscale": [
             [
              0,
              "#0d0887"
             ],
             [
              0.1111111111111111,
              "#46039f"
             ],
             [
              0.2222222222222222,
              "#7201a8"
             ],
             [
              0.3333333333333333,
              "#9c179e"
             ],
             [
              0.4444444444444444,
              "#bd3786"
             ],
             [
              0.5555555555555556,
              "#d8576b"
             ],
             [
              0.6666666666666666,
              "#ed7953"
             ],
             [
              0.7777777777777778,
              "#fb9f3a"
             ],
             [
              0.8888888888888888,
              "#fdca26"
             ],
             [
              1,
              "#f0f921"
             ]
            ],
            "type": "surface"
           }
          ],
          "table": [
           {
            "cells": {
             "fill": {
              "color": "#EBF0F8"
             },
             "line": {
              "color": "white"
             }
            },
            "header": {
             "fill": {
              "color": "#C8D4E3"
             },
             "line": {
              "color": "white"
             }
            },
            "type": "table"
           }
          ]
         },
         "layout": {
          "annotationdefaults": {
           "arrowcolor": "#2a3f5f",
           "arrowhead": 0,
           "arrowwidth": 1
          },
          "autotypenumbers": "strict",
          "coloraxis": {
           "colorbar": {
            "outlinewidth": 0,
            "ticks": ""
           }
          },
          "colorscale": {
           "diverging": [
            [
             0,
             "#8e0152"
            ],
            [
             0.1,
             "#c51b7d"
            ],
            [
             0.2,
             "#de77ae"
            ],
            [
             0.3,
             "#f1b6da"
            ],
            [
             0.4,
             "#fde0ef"
            ],
            [
             0.5,
             "#f7f7f7"
            ],
            [
             0.6,
             "#e6f5d0"
            ],
            [
             0.7,
             "#b8e186"
            ],
            [
             0.8,
             "#7fbc41"
            ],
            [
             0.9,
             "#4d9221"
            ],
            [
             1,
             "#276419"
            ]
           ],
           "sequential": [
            [
             0,
             "#0d0887"
            ],
            [
             0.1111111111111111,
             "#46039f"
            ],
            [
             0.2222222222222222,
             "#7201a8"
            ],
            [
             0.3333333333333333,
             "#9c179e"
            ],
            [
             0.4444444444444444,
             "#bd3786"
            ],
            [
             0.5555555555555556,
             "#d8576b"
            ],
            [
             0.6666666666666666,
             "#ed7953"
            ],
            [
             0.7777777777777778,
             "#fb9f3a"
            ],
            [
             0.8888888888888888,
             "#fdca26"
            ],
            [
             1,
             "#f0f921"
            ]
           ],
           "sequentialminus": [
            [
             0,
             "#0d0887"
            ],
            [
             0.1111111111111111,
             "#46039f"
            ],
            [
             0.2222222222222222,
             "#7201a8"
            ],
            [
             0.3333333333333333,
             "#9c179e"
            ],
            [
             0.4444444444444444,
             "#bd3786"
            ],
            [
             0.5555555555555556,
             "#d8576b"
            ],
            [
             0.6666666666666666,
             "#ed7953"
            ],
            [
             0.7777777777777778,
             "#fb9f3a"
            ],
            [
             0.8888888888888888,
             "#fdca26"
            ],
            [
             1,
             "#f0f921"
            ]
           ]
          },
          "colorway": [
           "#636efa",
           "#EF553B",
           "#00cc96",
           "#ab63fa",
           "#FFA15A",
           "#19d3f3",
           "#FF6692",
           "#B6E880",
           "#FF97FF",
           "#FECB52"
          ],
          "font": {
           "color": "#2a3f5f"
          },
          "geo": {
           "bgcolor": "white",
           "lakecolor": "white",
           "landcolor": "#E5ECF6",
           "showlakes": true,
           "showland": true,
           "subunitcolor": "white"
          },
          "hoverlabel": {
           "align": "left"
          },
          "hovermode": "closest",
          "mapbox": {
           "style": "light"
          },
          "paper_bgcolor": "white",
          "plot_bgcolor": "#E5ECF6",
          "polar": {
           "angularaxis": {
            "gridcolor": "white",
            "linecolor": "white",
            "ticks": ""
           },
           "bgcolor": "#E5ECF6",
           "radialaxis": {
            "gridcolor": "white",
            "linecolor": "white",
            "ticks": ""
           }
          },
          "scene": {
           "xaxis": {
            "backgroundcolor": "#E5ECF6",
            "gridcolor": "white",
            "gridwidth": 2,
            "linecolor": "white",
            "showbackground": true,
            "ticks": "",
            "zerolinecolor": "white"
           },
           "yaxis": {
            "backgroundcolor": "#E5ECF6",
            "gridcolor": "white",
            "gridwidth": 2,
            "linecolor": "white",
            "showbackground": true,
            "ticks": "",
            "zerolinecolor": "white"
           },
           "zaxis": {
            "backgroundcolor": "#E5ECF6",
            "gridcolor": "white",
            "gridwidth": 2,
            "linecolor": "white",
            "showbackground": true,
            "ticks": "",
            "zerolinecolor": "white"
           }
          },
          "shapedefaults": {
           "line": {
            "color": "#2a3f5f"
           }
          },
          "ternary": {
           "aaxis": {
            "gridcolor": "white",
            "linecolor": "white",
            "ticks": ""
           },
           "baxis": {
            "gridcolor": "white",
            "linecolor": "white",
            "ticks": ""
           },
           "bgcolor": "#E5ECF6",
           "caxis": {
            "gridcolor": "white",
            "linecolor": "white",
            "ticks": ""
           }
          },
          "title": {
           "x": 0.05
          },
          "xaxis": {
           "automargin": true,
           "gridcolor": "white",
           "linecolor": "white",
           "ticks": "",
           "title": {
            "standoff": 15
           },
           "zerolinecolor": "white",
           "zerolinewidth": 2
          },
          "yaxis": {
           "automargin": true,
           "gridcolor": "white",
           "linecolor": "white",
           "ticks": "",
           "title": {
            "standoff": 15
           },
           "zerolinecolor": "white",
           "zerolinewidth": 2
          }
         }
        },
        "title": {
         "text": "Price distribution per Category"
        },
        "xaxis": {
         "anchor": "y",
         "domain": [
          0,
          1
         ],
         "title": {
          "text": "price"
         }
        },
        "yaxis": {
         "anchor": "x",
         "domain": [
          0,
          1
         ],
         "title": {
          "text": "count"
         }
        }
       }
      }
     },
     "metadata": {},
     "output_type": "display_data"
    }
   ],
   "source": [
    "fig3 = px.histogram(\n",
    "    products_right_cats,\n",
    "    x=\"price\",\n",
    "    color=\"category\",\n",
    "    title=\"Price distribution per Category\",\n",
    "    hover_data=[\"unities\"],\n",
    ")\n",
    "fig3.show()\n"
   ]
  },
  {
   "cell_type": "code",
   "execution_count": 37,
   "metadata": {},
   "outputs": [
    {
     "data": {
      "application/vnd.plotly.v1+json": {
       "config": {
        "plotlyServerURL": "https://plot.ly"
       },
       "data": [
        {
         "customdata": [
          [
           32
          ],
          [
           24
          ],
          [
           18
          ],
          [
           32
          ],
          [
           18
          ],
          [
           16
          ],
          [
           18
          ],
          [
           28
          ],
          [
           16
          ],
          [
           16
          ],
          [
           72
          ],
          [
           1
          ],
          [
           16
          ],
          [
           22
          ],
          [
           24
          ],
          [
           24
          ],
          [
           1
          ],
          [
           30
          ],
          [
           56
          ],
          [
           16
          ],
          [
           20
          ],
          [
           null
          ],
          [
           64
          ],
          [
           16
          ],
          [
           null
          ],
          [
           null
          ],
          [
           16
          ],
          [
           16
          ],
          [
           16
          ],
          [
           64
          ],
          [
           18
          ],
          [
           4
          ],
          [
           null
          ],
          [
           42
          ],
          [
           null
          ],
          [
           16
          ],
          [
           64
          ],
          [
           null
          ],
          [
           4
          ],
          [
           22
          ],
          [
           null
          ],
          [
           1
          ],
          [
           14
          ],
          [
           32
          ],
          [
           20
          ],
          [
           1
          ],
          [
           null
          ],
          [
           1
          ],
          [
           1
          ],
          [
           12
          ],
          [
           30
          ],
          [
           6
          ],
          [
           200
          ],
          [
           2
          ],
          [
           22
          ],
          [
           null
          ],
          [
           1
          ],
          [
           1
          ],
          [
           64
          ],
          [
           null
          ],
          [
           null
          ],
          [
           null
          ],
          [
           1
          ],
          [
           30
          ],
          [
           1
          ],
          [
           null
          ],
          [
           48
          ],
          [
           1
          ],
          [
           54
          ],
          [
           1
          ],
          [
           9
          ],
          [
           null
          ],
          [
           null
          ],
          [
           1
          ],
          [
           14
          ],
          [
           1
          ],
          [
           null
          ],
          [
           20
          ],
          [
           1
          ],
          [
           1
          ],
          [
           1
          ],
          [
           1
          ],
          [
           null
          ],
          [
           16
          ],
          [
           1
          ],
          [
           22
          ],
          [
           null
          ],
          [
           null
          ],
          [
           1
          ],
          [
           null
          ],
          [
           null
          ],
          [
           1
          ],
          [
           null
          ],
          [
           null
          ],
          [
           null
          ],
          [
           null
          ],
          [
           null
          ],
          [
           1
          ],
          [
           1
          ],
          [
           1
          ],
          [
           1
          ],
          [
           null
          ],
          [
           null
          ],
          [
           1
          ],
          [
           1
          ],
          [
           1
          ],
          [
           1
          ],
          [
           1
          ],
          [
           1
          ],
          [
           1
          ],
          [
           1
          ],
          [
           1
          ],
          [
           1
          ],
          [
           1
          ],
          [
           1
          ],
          [
           1
          ],
          [
           1
          ],
          [
           1
          ],
          [
           1
          ],
          [
           null
          ],
          [
           30
          ],
          [
           1
          ],
          [
           1
          ],
          [
           null
          ],
          [
           null
          ],
          [
           null
          ],
          [
           null
          ],
          [
           null
          ],
          [
           null
          ],
          [
           18
          ],
          [
           1
          ],
          [
           16
          ],
          [
           null
          ],
          [
           null
          ],
          [
           30
          ],
          [
           16
          ],
          [
           null
          ],
          [
           1
          ],
          [
           1
          ],
          [
           1
          ],
          [
           1
          ],
          [
           2
          ],
          [
           1
          ],
          [
           1
          ],
          [
           2
          ],
          [
           2
          ],
          [
           3
          ],
          [
           1
          ],
          [
           1
          ],
          [
           1
          ],
          [
           2
          ],
          [
           1
          ],
          [
           1
          ],
          [
           1
          ],
          [
           1
          ],
          [
           1
          ],
          [
           1
          ],
          [
           1
          ],
          [
           1
          ],
          [
           2
          ],
          [
           1
          ],
          [
           2
          ],
          [
           1
          ],
          [
           1
          ],
          [
           1
          ],
          [
           1
          ],
          [
           1
          ],
          [
           1
          ],
          [
           1
          ],
          [
           1
          ],
          [
           1
          ],
          [
           1
          ],
          [
           1
          ],
          [
           1
          ],
          [
           1
          ],
          [
           1
          ],
          [
           1
          ],
          [
           2
          ],
          [
           1
          ],
          [
           null
          ],
          [
           1
          ],
          [
           null
          ],
          [
           null
          ],
          [
           null
          ],
          [
           1
          ],
          [
           2
          ],
          [
           null
          ],
          [
           null
          ],
          [
           null
          ],
          [
           null
          ],
          [
           null
          ],
          [
           null
          ],
          [
           1
          ],
          [
           null
          ],
          [
           null
          ],
          [
           null
          ],
          [
           null
          ],
          [
           null
          ],
          [
           null
          ],
          [
           null
          ],
          [
           null
          ],
          [
           null
          ],
          [
           null
          ],
          [
           null
          ],
          [
           null
          ],
          [
           null
          ],
          [
           null
          ],
          [
           null
          ],
          [
           null
          ],
          [
           null
          ],
          [
           null
          ],
          [
           null
          ],
          [
           null
          ],
          [
           null
          ],
          [
           null
          ],
          [
           null
          ],
          [
           null
          ],
          [
           null
          ],
          [
           null
          ],
          [
           null
          ],
          [
           null
          ],
          [
           null
          ],
          [
           null
          ],
          [
           null
          ],
          [
           null
          ],
          [
           null
          ],
          [
           null
          ],
          [
           null
          ],
          [
           null
          ],
          [
           null
          ],
          [
           null
          ],
          [
           null
          ],
          [
           null
          ],
          [
           null
          ],
          [
           null
          ],
          [
           null
          ],
          [
           null
          ],
          [
           null
          ],
          [
           null
          ],
          [
           null
          ],
          [
           null
          ],
          [
           null
          ],
          [
           null
          ],
          [
           null
          ],
          [
           null
          ],
          [
           null
          ],
          [
           null
          ],
          [
           null
          ],
          [
           null
          ],
          [
           null
          ],
          [
           null
          ],
          [
           null
          ],
          [
           null
          ],
          [
           null
          ],
          [
           null
          ],
          [
           null
          ],
          [
           null
          ],
          [
           null
          ],
          [
           null
          ],
          [
           null
          ],
          [
           null
          ],
          [
           null
          ],
          [
           null
          ],
          [
           null
          ],
          [
           null
          ],
          [
           null
          ],
          [
           null
          ],
          [
           null
          ],
          [
           null
          ],
          [
           null
          ],
          [
           null
          ],
          [
           null
          ],
          [
           null
          ],
          [
           null
          ],
          [
           null
          ],
          [
           null
          ],
          [
           null
          ],
          [
           null
          ],
          [
           null
          ],
          [
           null
          ],
          [
           null
          ],
          [
           null
          ],
          [
           null
          ],
          [
           null
          ],
          [
           null
          ],
          [
           null
          ],
          [
           null
          ],
          [
           null
          ],
          [
           null
          ],
          [
           null
          ],
          [
           null
          ],
          [
           null
          ],
          [
           null
          ],
          [
           null
          ],
          [
           null
          ],
          [
           null
          ],
          [
           null
          ],
          [
           null
          ],
          [
           null
          ],
          [
           null
          ],
          [
           null
          ],
          [
           null
          ],
          [
           null
          ],
          [
           null
          ],
          [
           null
          ],
          [
           null
          ],
          [
           null
          ],
          [
           null
          ],
          [
           null
          ],
          [
           null
          ],
          [
           null
          ],
          [
           null
          ],
          [
           null
          ],
          [
           null
          ],
          [
           null
          ],
          [
           null
          ],
          [
           null
          ],
          [
           null
          ],
          [
           null
          ],
          [
           null
          ],
          [
           null
          ],
          [
           null
          ],
          [
           null
          ],
          [
           128
          ],
          [
           56
          ],
          [
           null
          ],
          [
           null
          ],
          [
           null
          ],
          [
           null
          ],
          [
           null
          ]
         ],
         "hovertemplate": "category=Tampons<br>Price=%{x}<br>Number of Reviews=%{y}<br>unities=%{customdata[0]}<extra></extra>",
         "legendgroup": "Tampons",
         "marker": {
          "color": "#636efa",
          "symbol": "circle"
         },
         "mode": "markers",
         "name": "Tampons",
         "orientation": "v",
         "showlegend": true,
         "type": "scatter",
         "x": [
          2.66,
          3.79,
          3.1,
          2.81,
          4.5,
          3.75,
          4.5,
          3.8,
          4.53,
          6.9,
          11.96,
          14.95,
          7.29,
          4.99,
          4.99,
          5.19,
          5.5,
          9.4,
          25.16,
          7.9,
          9.96,
          null,
          14.94,
          null,
          14.99,
          6.32,
          5.99,
          4.99,
          4.72,
          9.74,
          11.57,
          34.99,
          27.58,
          10.09,
          13.9,
          6.9,
          12.19,
          14.09,
          9.95,
          null,
          8.92,
          49.95,
          5.99,
          10.2,
          7.99,
          11.99,
          8.99,
          7.99,
          25.9,
          null,
          19.96,
          54.99,
          19.98,
          51.87,
          12.36,
          13.99,
          28.81,
          19.44,
          11.87,
          6.98,
          59.9,
          26.94,
          23.36,
          10.28,
          23.24,
          12.23,
          14.99,
          15.99,
          9.2,
          20.41,
          8.32,
          11.93,
          12.49,
          17.69,
          6.89,
          15.92,
          11.45,
          null,
          15.29,
          15.11,
          14.44,
          13.92,
          8.13,
          null,
          12.5,
          7.99,
          12.09,
          12.09,
          null,
          10.88,
          10.88,
          10.65,
          10.88,
          10.88,
          10.88,
          10.88,
          10.37,
          10.29,
          9.89,
          9.94,
          9.49,
          9.98,
          8.87,
          8.09,
          8.13,
          7.64,
          7.23,
          6.77,
          6.99,
          6.96,
          6.62,
          7.24,
          7.32,
          6.76,
          6.69,
          6.89,
          5.98,
          5.7,
          5.76,
          4.99,
          4.99,
          4.18,
          3.79,
          10.37,
          10.88,
          10.88,
          10.88,
          10.88,
          10.88,
          7.72,
          9.23,
          null,
          8.57,
          12.09,
          6.39,
          null,
          5.13,
          11.9,
          15.04,
          11.99,
          15.6,
          18.84,
          14.99,
          10.99,
          7.99,
          7.99,
          25.99,
          14.99,
          27.57,
          14.49,
          7.99,
          7.99,
          9.99,
          22.64,
          19.99,
          26,
          42.9,
          7.99,
          21.29,
          14.99,
          37.88,
          42.08,
          49.95,
          9.99,
          42.9,
          26.88,
          14.99,
          15.99,
          23.35,
          33.31,
          25.89,
          11.36,
          39.04,
          25.64,
          14.99,
          17.27,
          20.68,
          24.47,
          19.95,
          25.63,
          10.79,
          17.99,
          15.99,
          10.86,
          44.19,
          15.99,
          26.95,
          17.27,
          25,
          15.16,
          20.28,
          24.99,
          18.99,
          15.22,
          19.24,
          21.24,
          21.75,
          12.42,
          15.57,
          44.19,
          21.81,
          11.35,
          12.99,
          19.9,
          20.87,
          18.99,
          33.6,
          19.11,
          14.99,
          18.53,
          42.93,
          11.9,
          16.54,
          13.72,
          12.9,
          6.99,
          11.99,
          17.14,
          12.5,
          10.99,
          14.99,
          15.1,
          41,
          16.99,
          11.95,
          14.32,
          11.42,
          7.21,
          12.99,
          8.99,
          10.99,
          8.99,
          12.04,
          11.06,
          40.3,
          32.57,
          11.13,
          28.03,
          29.89,
          10.32,
          11.67,
          11.72,
          25,
          30.49,
          null,
          27.94,
          9.99,
          27.94,
          14.99,
          18.77,
          13.99,
          9.04,
          20.99,
          20.65,
          19.99,
          24.74,
          15.99,
          8,
          25,
          6.99,
          16.54,
          12.49,
          21,
          11.66,
          14.9,
          19.9,
          12.99,
          19.95,
          16.42,
          15.99,
          14.11,
          11.01,
          13.99,
          15.99,
          15.22,
          11.34,
          12.99,
          12.99,
          12.99,
          11.99,
          9.99,
          9.99,
          8.77,
          9.49,
          3.49,
          6.83,
          6.9,
          6.85,
          13.99,
          19.5,
          36.9,
          18.89,
          20.87,
          14.9,
          29.76,
          21.22,
          15.15,
          18.28,
          9.99,
          14.9,
          19.9,
          19.9,
          19.9,
          13.06,
          20.59,
          16.36,
          28.2,
          35.99,
          10.64,
          22,
          24.9,
          22,
          13.99,
          62.5,
          28.2,
          26.43,
          27.94,
          27.68,
          25.94,
          12.99,
          11.99,
          19.56,
          18.23,
          15.16,
          24.15,
          3.6,
          7.9,
          23.39,
          10.04,
          6.9
         ],
         "xaxis": "x",
         "y": [
          223,
          303,
          859,
          144,
          30,
          171,
          25,
          81,
          166,
          328,
          469,
          576,
          285,
          180,
          25,
          54,
          50,
          390,
          362,
          15,
          963,
          40,
          42,
          27,
          22,
          322,
          43,
          160,
          423,
          643,
          390,
          1,
          5,
          1179,
          149,
          8,
          60,
          5,
          184,
          115,
          142,
          95,
          56,
          53,
          600,
          346,
          null,
          40,
          103,
          590,
          40,
          null,
          18,
          1789,
          354,
          86,
          432,
          334,
          693,
          60,
          1,
          null,
          803,
          75,
          452,
          91,
          null,
          1129,
          238,
          null,
          44,
          1,
          1,
          null,
          2,
          null,
          1,
          623,
          null,
          null,
          null,
          null,
          122,
          2731,
          null,
          4,
          null,
          null,
          853,
          null,
          null,
          null,
          null,
          null,
          null,
          null,
          null,
          null,
          null,
          null,
          null,
          null,
          null,
          null,
          null,
          null,
          null,
          null,
          null,
          null,
          null,
          null,
          null,
          null,
          null,
          null,
          null,
          null,
          null,
          null,
          null,
          null,
          null,
          null,
          null,
          null,
          null,
          null,
          null,
          83,
          32,
          84,
          178,
          null,
          185,
          184,
          7,
          859,
          80,
          146,
          3131,
          12,
          8149,
          11,
          200,
          147,
          454,
          4141,
          1626,
          34,
          526,
          null,
          4,
          487,
          43,
          447,
          3244,
          40,
          2721,
          558,
          2866,
          1430,
          95,
          null,
          45,
          68,
          2025,
          1129,
          300,
          237,
          71,
          91,
          52,
          68,
          null,
          92,
          45,
          4,
          127,
          110,
          77,
          121,
          null,
          3,
          148,
          346,
          59,
          169,
          1086,
          30,
          8,
          13,
          35,
          54,
          1552,
          53,
          7,
          70,
          10,
          77,
          23,
          52,
          8,
          105,
          27,
          22,
          710,
          2129,
          2,
          12,
          7068,
          29,
          81,
          1836,
          16,
          null,
          null,
          null,
          32,
          null,
          50,
          null,
          1580,
          11,
          8,
          72,
          null,
          290,
          1,
          2,
          null,
          2,
          33,
          38,
          157,
          549,
          14,
          2186,
          12,
          null,
          null,
          10,
          4483,
          1303,
          4,
          42,
          65,
          18,
          86,
          6,
          7,
          null,
          null,
          null,
          48,
          15,
          8,
          null,
          1462,
          2,
          595,
          null,
          188,
          null,
          49,
          93,
          null,
          1,
          null,
          2,
          34,
          22,
          2,
          1,
          26,
          21,
          2,
          14,
          2,
          null,
          null,
          3,
          null,
          null,
          null,
          null,
          null,
          null,
          11,
          17,
          79,
          4,
          54,
          147,
          2,
          4,
          2,
          191,
          null,
          157,
          null,
          null,
          null,
          184,
          null,
          5,
          670,
          1789,
          9,
          2,
          488,
          3,
          1,
          null,
          153,
          4,
          null,
          32,
          263,
          192,
          127,
          99,
          5,
          108,
          328,
          298,
          15,
          99,
          125,
          8
         ],
         "yaxis": "y"
        },
        {
         "customdata": [
          [
           8
          ],
          [
           12
          ],
          [
           16
          ],
          [
           null
          ],
          [
           null
          ],
          [
           null
          ],
          [
           null
          ],
          [
           null
          ],
          [
           null
          ],
          [
           null
          ],
          [
           null
          ],
          [
           null
          ],
          [
           null
          ],
          [
           null
          ],
          [
           null
          ],
          [
           null
          ],
          [
           null
          ],
          [
           null
          ],
          [
           null
          ],
          [
           null
          ],
          [
           null
          ],
          [
           null
          ],
          [
           null
          ],
          [
           null
          ],
          [
           null
          ],
          [
           null
          ],
          [
           null
          ],
          [
           null
          ],
          [
           null
          ],
          [
           null
          ],
          [
           null
          ],
          [
           null
          ],
          [
           null
          ],
          [
           null
          ],
          [
           null
          ],
          [
           null
          ],
          [
           null
          ],
          [
           null
          ],
          [
           null
          ],
          [
           null
          ],
          [
           null
          ],
          [
           null
          ],
          [
           null
          ],
          [
           null
          ],
          [
           null
          ],
          [
           null
          ],
          [
           null
          ],
          [
           null
          ],
          [
           null
          ],
          [
           null
          ],
          [
           null
          ],
          [
           null
          ],
          [
           null
          ],
          [
           null
          ],
          [
           null
          ],
          [
           null
          ],
          [
           null
          ],
          [
           null
          ],
          [
           null
          ],
          [
           null
          ],
          [
           null
          ],
          [
           null
          ],
          [
           null
          ],
          [
           null
          ],
          [
           null
          ],
          [
           null
          ],
          [
           null
          ],
          [
           null
          ],
          [
           null
          ],
          [
           null
          ],
          [
           null
          ],
          [
           null
          ],
          [
           null
          ],
          [
           null
          ],
          [
           null
          ],
          [
           null
          ],
          [
           null
          ],
          [
           null
          ],
          [
           null
          ],
          [
           null
          ],
          [
           null
          ],
          [
           null
          ],
          [
           null
          ],
          [
           null
          ],
          [
           null
          ],
          [
           null
          ],
          [
           null
          ],
          [
           null
          ],
          [
           null
          ],
          [
           null
          ],
          [
           null
          ],
          [
           null
          ],
          [
           null
          ],
          [
           null
          ],
          [
           null
          ],
          [
           null
          ],
          [
           null
          ],
          [
           null
          ],
          [
           null
          ],
          [
           null
          ],
          [
           null
          ],
          [
           null
          ],
          [
           null
          ],
          [
           null
          ],
          [
           null
          ],
          [
           null
          ],
          [
           null
          ],
          [
           null
          ],
          [
           null
          ],
          [
           null
          ],
          [
           null
          ],
          [
           null
          ],
          [
           null
          ],
          [
           null
          ],
          [
           null
          ],
          [
           null
          ],
          [
           null
          ],
          [
           null
          ],
          [
           null
          ],
          [
           null
          ],
          [
           null
          ],
          [
           null
          ],
          [
           null
          ],
          [
           null
          ],
          [
           null
          ],
          [
           null
          ],
          [
           null
          ],
          [
           null
          ],
          [
           null
          ],
          [
           null
          ],
          [
           null
          ],
          [
           null
          ],
          [
           null
          ],
          [
           null
          ],
          [
           null
          ],
          [
           null
          ],
          [
           null
          ],
          [
           null
          ],
          [
           null
          ],
          [
           null
          ],
          [
           null
          ],
          [
           null
          ],
          [
           null
          ],
          [
           null
          ],
          [
           null
          ],
          [
           null
          ],
          [
           null
          ],
          [
           null
          ],
          [
           null
          ],
          [
           null
          ],
          [
           null
          ],
          [
           null
          ],
          [
           null
          ],
          [
           null
          ],
          [
           null
          ],
          [
           null
          ],
          [
           null
          ],
          [
           null
          ],
          [
           null
          ],
          [
           null
          ],
          [
           null
          ],
          [
           null
          ],
          [
           null
          ],
          [
           null
          ],
          [
           null
          ],
          [
           null
          ],
          [
           null
          ],
          [
           null
          ],
          [
           null
          ],
          [
           null
          ],
          [
           null
          ],
          [
           null
          ],
          [
           null
          ],
          [
           null
          ],
          [
           null
          ],
          [
           null
          ],
          [
           null
          ],
          [
           null
          ],
          [
           null
          ],
          [
           null
          ],
          [
           null
          ],
          [
           null
          ],
          [
           null
          ],
          [
           null
          ],
          [
           null
          ],
          [
           null
          ],
          [
           null
          ],
          [
           null
          ],
          [
           null
          ],
          [
           null
          ],
          [
           null
          ],
          [
           null
          ],
          [
           null
          ],
          [
           null
          ],
          [
           null
          ],
          [
           null
          ],
          [
           null
          ],
          [
           null
          ],
          [
           null
          ],
          [
           null
          ],
          [
           null
          ]
         ],
         "hovertemplate": "category=Serviettes hygièniques<br>Price=%{x}<br>Number of Reviews=%{y}<br>unities=%{customdata[0]}<extra></extra>",
         "legendgroup": "Serviettes hygièniques",
         "marker": {
          "color": "#EF553B",
          "symbol": "circle"
         },
         "mode": "markers",
         "name": "Serviettes hygièniques",
         "orientation": "v",
         "showlegend": true,
         "type": "scatter",
         "x": [
          19.99,
          2.06,
          2.45,
          9.99,
          24.99,
          1.98,
          1.79,
          2.4,
          1.99,
          3.49,
          1.55,
          2.36,
          2.99,
          3.75,
          2.17,
          2.02,
          3.98,
          4.58,
          22.53,
          23.6,
          2.91,
          22.39,
          2.5,
          14.5,
          35.56,
          25.74,
          2.95,
          2.95,
          39,
          33.52,
          19.03,
          3.98,
          28.09,
          23.99,
          null,
          34.97,
          55.65,
          30.09,
          59.97,
          18.5,
          null,
          34.9,
          null,
          28,
          39.45,
          2.79,
          32.12,
          28.99,
          29.99,
          3.5,
          29.9,
          25,
          9.98,
          25.99,
          31.5,
          29.9,
          31.11,
          26.9,
          16.5,
          5.64,
          24.99,
          21.45,
          26.4,
          19.99,
          26.11,
          19.25,
          22.99,
          15.4,
          23,
          24.99,
          26.12,
          20.99,
          14.99,
          14.24,
          20.99,
          3.58,
          14.99,
          20.69,
          null,
          2.79,
          19.82,
          10.99,
          32.55,
          30.8,
          19.99,
          17.3,
          1.69,
          20.08,
          14.99,
          16.99,
          34.67,
          3.99,
          19.29,
          16.99,
          36.35,
          31.09,
          16.99,
          15.24,
          14.99,
          10.8,
          1.69,
          30,
          18.39,
          14.9,
          12.6,
          2.99,
          15.24,
          12.99,
          2.79,
          1.45,
          1.79,
          14.16,
          6.29,
          5.5,
          15.88,
          5.54,
          12.22,
          5.35,
          14.99,
          9.88,
          8.18,
          1.69,
          11.89,
          10.33,
          8.99,
          7.99,
          7.5,
          19.49,
          3.19,
          6.89,
          4.19,
          15.99,
          6.82,
          9.49,
          7.63,
          19.99,
          9,
          13.9,
          3.39,
          9.06,
          9.69,
          7.3,
          6.79,
          9.07,
          4.56,
          8.4,
          7.49,
          null,
          14.9,
          7.59,
          16.78,
          5.99,
          4.85,
          4.49,
          5.49,
          10.99,
          5.88,
          7.86,
          5.5,
          3.7,
          9.22,
          6.99,
          3,
          36,
          39.97,
          null,
          6.05,
          6.05,
          19.99,
          33.99,
          3.18,
          35.99,
          17.68,
          19.22,
          null,
          null,
          null,
          21.8,
          3.69,
          29.45,
          25.95,
          13.79,
          4.98,
          15.86,
          5.36,
          null,
          5.99,
          12,
          18.9,
          19.99,
          3.59,
          25.78,
          7.96,
          26.9,
          7.44,
          2.99,
          14.72,
          4.98,
          20.99,
          10,
          null
         ],
         "xaxis": "x",
         "y": [
          808,
          810,
          262,
          252,
          360,
          871,
          1037,
          105,
          115,
          423,
          681,
          1147,
          169,
          15,
          835,
          102,
          5,
          76,
          6085,
          959,
          496,
          283,
          1,
          352,
          1434,
          66,
          264,
          561,
          1347,
          184,
          2751,
          4,
          4,
          3110,
          682,
          337,
          8174,
          1127,
          2416,
          14694,
          291,
          11,
          224,
          2,
          488,
          860,
          1,
          208,
          2064,
          1839,
          21,
          366,
          845,
          66,
          49,
          1,
          null,
          331,
          778,
          61,
          219,
          34,
          null,
          771,
          null,
          86,
          1004,
          81,
          77,
          360,
          65,
          1972,
          7052,
          38,
          111,
          4,
          3093,
          10,
          5,
          231,
          36,
          156,
          1232,
          19,
          36,
          20,
          29,
          2,
          4100,
          null,
          413,
          11,
          51,
          341,
          13,
          923,
          17,
          38,
          814,
          429,
          19,
          909,
          null,
          41,
          534,
          18,
          21,
          null,
          10,
          14,
          16,
          null,
          6,
          784,
          138,
          26,
          1183,
          626,
          456,
          21,
          105,
          21,
          117,
          36,
          356,
          147,
          null,
          575,
          1,
          1934,
          3,
          808,
          288,
          16,
          17,
          235,
          835,
          2,
          2,
          15,
          74,
          16,
          1635,
          5,
          36,
          50,
          3,
          1,
          32,
          null,
          5,
          31,
          310,
          140,
          3,
          null,
          75,
          1,
          1,
          2,
          253,
          60,
          6,
          11,
          46,
          317,
          329,
          604,
          128,
          null,
          12,
          null,
          null,
          1,
          866,
          null,
          null,
          11,
          115,
          122,
          34,
          8,
          2,
          1,
          461,
          null,
          60,
          27,
          5,
          1338,
          70,
          1232,
          835,
          331,
          810,
          681,
          null,
          12,
          3,
          1118,
          636
         ],
         "yaxis": "y"
        },
        {
         "customdata": [
          [
           null
          ],
          [
           null
          ],
          [
           null
          ],
          [
           null
          ],
          [
           null
          ],
          [
           null
          ],
          [
           null
          ],
          [
           null
          ],
          [
           null
          ],
          [
           null
          ],
          [
           null
          ],
          [
           null
          ],
          [
           null
          ],
          [
           null
          ]
         ],
         "hovertemplate": "category=Culottes et sous-vêtements de protection<br>Price=%{x}<br>Number of Reviews=%{y}<br>unities=%{customdata[0]}<extra></extra>",
         "legendgroup": "Culottes et sous-vêtements de protection",
         "marker": {
          "color": "#00cc96",
          "symbol": "circle"
         },
         "mode": "markers",
         "name": "Culottes et sous-vêtements de protection",
         "orientation": "v",
         "showlegend": true,
         "type": "scatter",
         "x": [
          5.98,
          3.98,
          2.98,
          27.99,
          19.99,
          32.99,
          30.9,
          22.99,
          49.99,
          16.9,
          29.9,
          3.98,
          19.9,
          22.99
         ],
         "xaxis": "x",
         "y": [
          null,
          null,
          null,
          3191,
          2120,
          573,
          2396,
          2141,
          16,
          572,
          572,
          null,
          null,
          2141
         ],
         "yaxis": "y"
        },
        {
         "customdata": [
          [
           1
          ],
          [
           1
          ],
          [
           1
          ],
          [
           null
          ],
          [
           null
          ],
          [
           null
          ],
          [
           null
          ],
          [
           null
          ],
          [
           null
          ],
          [
           null
          ],
          [
           null
          ]
         ],
         "hovertemplate": "category=Coupes menstruelles<br>Price=%{x}<br>Number of Reviews=%{y}<br>unities=%{customdata[0]}<extra></extra>",
         "legendgroup": "Coupes menstruelles",
         "marker": {
          "color": "#ab63fa",
          "symbol": "circle"
         },
         "mode": "markers",
         "name": "Coupes menstruelles",
         "orientation": "v",
         "showlegend": true,
         "type": "scatter",
         "x": [
          17.9,
          37.45,
          7.99,
          14.59,
          27.18,
          10.99,
          17.39,
          17.99,
          15.59,
          11.99,
          9.99
         ],
         "xaxis": "x",
         "y": [
          4637,
          3515,
          1,
          null,
          10944,
          null,
          28,
          357,
          null,
          null,
          null
         ],
         "yaxis": "y"
        },
        {
         "customdata": [
          [
           null
          ],
          [
           null
          ],
          [
           null
          ],
          [
           null
          ],
          [
           null
          ],
          [
           null
          ]
         ],
         "hovertemplate": "category=Protections, serviettes hygiéniques, couches pour adultes, protège-slips<br>Price=%{x}<br>Number of Reviews=%{y}<br>unities=%{customdata[0]}<extra></extra>",
         "legendgroup": "Protections, serviettes hygiéniques, couches pour adultes, protège-slips",
         "marker": {
          "color": "#FFA15A",
          "symbol": "circle"
         },
         "mode": "markers",
         "name": "Protections, serviettes hygiéniques, couches pour adultes, protège-slips",
         "orientation": "v",
         "showlegend": true,
         "type": "scatter",
         "x": [
          9.19,
          37.35,
          28.14,
          null,
          16.14,
          14.87
         ],
         "xaxis": "x",
         "y": [
          636,
          1161,
          1268,
          2081,
          2192,
          1421
         ],
         "yaxis": "y"
        }
       ],
       "layout": {
        "legend": {
         "title": {
          "text": "category"
         },
         "tracegroupgap": 0
        },
        "template": {
         "data": {
          "bar": [
           {
            "error_x": {
             "color": "#2a3f5f"
            },
            "error_y": {
             "color": "#2a3f5f"
            },
            "marker": {
             "line": {
              "color": "#E5ECF6",
              "width": 0.5
             },
             "pattern": {
              "fillmode": "overlay",
              "size": 10,
              "solidity": 0.2
             }
            },
            "type": "bar"
           }
          ],
          "barpolar": [
           {
            "marker": {
             "line": {
              "color": "#E5ECF6",
              "width": 0.5
             },
             "pattern": {
              "fillmode": "overlay",
              "size": 10,
              "solidity": 0.2
             }
            },
            "type": "barpolar"
           }
          ],
          "carpet": [
           {
            "aaxis": {
             "endlinecolor": "#2a3f5f",
             "gridcolor": "white",
             "linecolor": "white",
             "minorgridcolor": "white",
             "startlinecolor": "#2a3f5f"
            },
            "baxis": {
             "endlinecolor": "#2a3f5f",
             "gridcolor": "white",
             "linecolor": "white",
             "minorgridcolor": "white",
             "startlinecolor": "#2a3f5f"
            },
            "type": "carpet"
           }
          ],
          "choropleth": [
           {
            "colorbar": {
             "outlinewidth": 0,
             "ticks": ""
            },
            "type": "choropleth"
           }
          ],
          "contour": [
           {
            "colorbar": {
             "outlinewidth": 0,
             "ticks": ""
            },
            "colorscale": [
             [
              0,
              "#0d0887"
             ],
             [
              0.1111111111111111,
              "#46039f"
             ],
             [
              0.2222222222222222,
              "#7201a8"
             ],
             [
              0.3333333333333333,
              "#9c179e"
             ],
             [
              0.4444444444444444,
              "#bd3786"
             ],
             [
              0.5555555555555556,
              "#d8576b"
             ],
             [
              0.6666666666666666,
              "#ed7953"
             ],
             [
              0.7777777777777778,
              "#fb9f3a"
             ],
             [
              0.8888888888888888,
              "#fdca26"
             ],
             [
              1,
              "#f0f921"
             ]
            ],
            "type": "contour"
           }
          ],
          "contourcarpet": [
           {
            "colorbar": {
             "outlinewidth": 0,
             "ticks": ""
            },
            "type": "contourcarpet"
           }
          ],
          "heatmap": [
           {
            "colorbar": {
             "outlinewidth": 0,
             "ticks": ""
            },
            "colorscale": [
             [
              0,
              "#0d0887"
             ],
             [
              0.1111111111111111,
              "#46039f"
             ],
             [
              0.2222222222222222,
              "#7201a8"
             ],
             [
              0.3333333333333333,
              "#9c179e"
             ],
             [
              0.4444444444444444,
              "#bd3786"
             ],
             [
              0.5555555555555556,
              "#d8576b"
             ],
             [
              0.6666666666666666,
              "#ed7953"
             ],
             [
              0.7777777777777778,
              "#fb9f3a"
             ],
             [
              0.8888888888888888,
              "#fdca26"
             ],
             [
              1,
              "#f0f921"
             ]
            ],
            "type": "heatmap"
           }
          ],
          "heatmapgl": [
           {
            "colorbar": {
             "outlinewidth": 0,
             "ticks": ""
            },
            "colorscale": [
             [
              0,
              "#0d0887"
             ],
             [
              0.1111111111111111,
              "#46039f"
             ],
             [
              0.2222222222222222,
              "#7201a8"
             ],
             [
              0.3333333333333333,
              "#9c179e"
             ],
             [
              0.4444444444444444,
              "#bd3786"
             ],
             [
              0.5555555555555556,
              "#d8576b"
             ],
             [
              0.6666666666666666,
              "#ed7953"
             ],
             [
              0.7777777777777778,
              "#fb9f3a"
             ],
             [
              0.8888888888888888,
              "#fdca26"
             ],
             [
              1,
              "#f0f921"
             ]
            ],
            "type": "heatmapgl"
           }
          ],
          "histogram": [
           {
            "marker": {
             "pattern": {
              "fillmode": "overlay",
              "size": 10,
              "solidity": 0.2
             }
            },
            "type": "histogram"
           }
          ],
          "histogram2d": [
           {
            "colorbar": {
             "outlinewidth": 0,
             "ticks": ""
            },
            "colorscale": [
             [
              0,
              "#0d0887"
             ],
             [
              0.1111111111111111,
              "#46039f"
             ],
             [
              0.2222222222222222,
              "#7201a8"
             ],
             [
              0.3333333333333333,
              "#9c179e"
             ],
             [
              0.4444444444444444,
              "#bd3786"
             ],
             [
              0.5555555555555556,
              "#d8576b"
             ],
             [
              0.6666666666666666,
              "#ed7953"
             ],
             [
              0.7777777777777778,
              "#fb9f3a"
             ],
             [
              0.8888888888888888,
              "#fdca26"
             ],
             [
              1,
              "#f0f921"
             ]
            ],
            "type": "histogram2d"
           }
          ],
          "histogram2dcontour": [
           {
            "colorbar": {
             "outlinewidth": 0,
             "ticks": ""
            },
            "colorscale": [
             [
              0,
              "#0d0887"
             ],
             [
              0.1111111111111111,
              "#46039f"
             ],
             [
              0.2222222222222222,
              "#7201a8"
             ],
             [
              0.3333333333333333,
              "#9c179e"
             ],
             [
              0.4444444444444444,
              "#bd3786"
             ],
             [
              0.5555555555555556,
              "#d8576b"
             ],
             [
              0.6666666666666666,
              "#ed7953"
             ],
             [
              0.7777777777777778,
              "#fb9f3a"
             ],
             [
              0.8888888888888888,
              "#fdca26"
             ],
             [
              1,
              "#f0f921"
             ]
            ],
            "type": "histogram2dcontour"
           }
          ],
          "mesh3d": [
           {
            "colorbar": {
             "outlinewidth": 0,
             "ticks": ""
            },
            "type": "mesh3d"
           }
          ],
          "parcoords": [
           {
            "line": {
             "colorbar": {
              "outlinewidth": 0,
              "ticks": ""
             }
            },
            "type": "parcoords"
           }
          ],
          "pie": [
           {
            "automargin": true,
            "type": "pie"
           }
          ],
          "scatter": [
           {
            "fillpattern": {
             "fillmode": "overlay",
             "size": 10,
             "solidity": 0.2
            },
            "type": "scatter"
           }
          ],
          "scatter3d": [
           {
            "line": {
             "colorbar": {
              "outlinewidth": 0,
              "ticks": ""
             }
            },
            "marker": {
             "colorbar": {
              "outlinewidth": 0,
              "ticks": ""
             }
            },
            "type": "scatter3d"
           }
          ],
          "scattercarpet": [
           {
            "marker": {
             "colorbar": {
              "outlinewidth": 0,
              "ticks": ""
             }
            },
            "type": "scattercarpet"
           }
          ],
          "scattergeo": [
           {
            "marker": {
             "colorbar": {
              "outlinewidth": 0,
              "ticks": ""
             }
            },
            "type": "scattergeo"
           }
          ],
          "scattergl": [
           {
            "marker": {
             "colorbar": {
              "outlinewidth": 0,
              "ticks": ""
             }
            },
            "type": "scattergl"
           }
          ],
          "scattermapbox": [
           {
            "marker": {
             "colorbar": {
              "outlinewidth": 0,
              "ticks": ""
             }
            },
            "type": "scattermapbox"
           }
          ],
          "scatterpolar": [
           {
            "marker": {
             "colorbar": {
              "outlinewidth": 0,
              "ticks": ""
             }
            },
            "type": "scatterpolar"
           }
          ],
          "scatterpolargl": [
           {
            "marker": {
             "colorbar": {
              "outlinewidth": 0,
              "ticks": ""
             }
            },
            "type": "scatterpolargl"
           }
          ],
          "scatterternary": [
           {
            "marker": {
             "colorbar": {
              "outlinewidth": 0,
              "ticks": ""
             }
            },
            "type": "scatterternary"
           }
          ],
          "surface": [
           {
            "colorbar": {
             "outlinewidth": 0,
             "ticks": ""
            },
            "colorscale": [
             [
              0,
              "#0d0887"
             ],
             [
              0.1111111111111111,
              "#46039f"
             ],
             [
              0.2222222222222222,
              "#7201a8"
             ],
             [
              0.3333333333333333,
              "#9c179e"
             ],
             [
              0.4444444444444444,
              "#bd3786"
             ],
             [
              0.5555555555555556,
              "#d8576b"
             ],
             [
              0.6666666666666666,
              "#ed7953"
             ],
             [
              0.7777777777777778,
              "#fb9f3a"
             ],
             [
              0.8888888888888888,
              "#fdca26"
             ],
             [
              1,
              "#f0f921"
             ]
            ],
            "type": "surface"
           }
          ],
          "table": [
           {
            "cells": {
             "fill": {
              "color": "#EBF0F8"
             },
             "line": {
              "color": "white"
             }
            },
            "header": {
             "fill": {
              "color": "#C8D4E3"
             },
             "line": {
              "color": "white"
             }
            },
            "type": "table"
           }
          ]
         },
         "layout": {
          "annotationdefaults": {
           "arrowcolor": "#2a3f5f",
           "arrowhead": 0,
           "arrowwidth": 1
          },
          "autotypenumbers": "strict",
          "coloraxis": {
           "colorbar": {
            "outlinewidth": 0,
            "ticks": ""
           }
          },
          "colorscale": {
           "diverging": [
            [
             0,
             "#8e0152"
            ],
            [
             0.1,
             "#c51b7d"
            ],
            [
             0.2,
             "#de77ae"
            ],
            [
             0.3,
             "#f1b6da"
            ],
            [
             0.4,
             "#fde0ef"
            ],
            [
             0.5,
             "#f7f7f7"
            ],
            [
             0.6,
             "#e6f5d0"
            ],
            [
             0.7,
             "#b8e186"
            ],
            [
             0.8,
             "#7fbc41"
            ],
            [
             0.9,
             "#4d9221"
            ],
            [
             1,
             "#276419"
            ]
           ],
           "sequential": [
            [
             0,
             "#0d0887"
            ],
            [
             0.1111111111111111,
             "#46039f"
            ],
            [
             0.2222222222222222,
             "#7201a8"
            ],
            [
             0.3333333333333333,
             "#9c179e"
            ],
            [
             0.4444444444444444,
             "#bd3786"
            ],
            [
             0.5555555555555556,
             "#d8576b"
            ],
            [
             0.6666666666666666,
             "#ed7953"
            ],
            [
             0.7777777777777778,
             "#fb9f3a"
            ],
            [
             0.8888888888888888,
             "#fdca26"
            ],
            [
             1,
             "#f0f921"
            ]
           ],
           "sequentialminus": [
            [
             0,
             "#0d0887"
            ],
            [
             0.1111111111111111,
             "#46039f"
            ],
            [
             0.2222222222222222,
             "#7201a8"
            ],
            [
             0.3333333333333333,
             "#9c179e"
            ],
            [
             0.4444444444444444,
             "#bd3786"
            ],
            [
             0.5555555555555556,
             "#d8576b"
            ],
            [
             0.6666666666666666,
             "#ed7953"
            ],
            [
             0.7777777777777778,
             "#fb9f3a"
            ],
            [
             0.8888888888888888,
             "#fdca26"
            ],
            [
             1,
             "#f0f921"
            ]
           ]
          },
          "colorway": [
           "#636efa",
           "#EF553B",
           "#00cc96",
           "#ab63fa",
           "#FFA15A",
           "#19d3f3",
           "#FF6692",
           "#B6E880",
           "#FF97FF",
           "#FECB52"
          ],
          "font": {
           "color": "#2a3f5f"
          },
          "geo": {
           "bgcolor": "white",
           "lakecolor": "white",
           "landcolor": "#E5ECF6",
           "showlakes": true,
           "showland": true,
           "subunitcolor": "white"
          },
          "hoverlabel": {
           "align": "left"
          },
          "hovermode": "closest",
          "mapbox": {
           "style": "light"
          },
          "paper_bgcolor": "white",
          "plot_bgcolor": "#E5ECF6",
          "polar": {
           "angularaxis": {
            "gridcolor": "white",
            "linecolor": "white",
            "ticks": ""
           },
           "bgcolor": "#E5ECF6",
           "radialaxis": {
            "gridcolor": "white",
            "linecolor": "white",
            "ticks": ""
           }
          },
          "scene": {
           "xaxis": {
            "backgroundcolor": "#E5ECF6",
            "gridcolor": "white",
            "gridwidth": 2,
            "linecolor": "white",
            "showbackground": true,
            "ticks": "",
            "zerolinecolor": "white"
           },
           "yaxis": {
            "backgroundcolor": "#E5ECF6",
            "gridcolor": "white",
            "gridwidth": 2,
            "linecolor": "white",
            "showbackground": true,
            "ticks": "",
            "zerolinecolor": "white"
           },
           "zaxis": {
            "backgroundcolor": "#E5ECF6",
            "gridcolor": "white",
            "gridwidth": 2,
            "linecolor": "white",
            "showbackground": true,
            "ticks": "",
            "zerolinecolor": "white"
           }
          },
          "shapedefaults": {
           "line": {
            "color": "#2a3f5f"
           }
          },
          "ternary": {
           "aaxis": {
            "gridcolor": "white",
            "linecolor": "white",
            "ticks": ""
           },
           "baxis": {
            "gridcolor": "white",
            "linecolor": "white",
            "ticks": ""
           },
           "bgcolor": "#E5ECF6",
           "caxis": {
            "gridcolor": "white",
            "linecolor": "white",
            "ticks": ""
           }
          },
          "title": {
           "x": 0.05
          },
          "xaxis": {
           "automargin": true,
           "gridcolor": "white",
           "linecolor": "white",
           "ticks": "",
           "title": {
            "standoff": 15
           },
           "zerolinecolor": "white",
           "zerolinewidth": 2
          },
          "yaxis": {
           "automargin": true,
           "gridcolor": "white",
           "linecolor": "white",
           "ticks": "",
           "title": {
            "standoff": 15
           },
           "zerolinecolor": "white",
           "zerolinewidth": 2
          }
         }
        },
        "title": {
         "text": "Price distribution per Category"
        },
        "xaxis": {
         "anchor": "y",
         "domain": [
          0,
          1
         ],
         "title": {
          "text": "Price"
         }
        },
        "yaxis": {
         "anchor": "x",
         "domain": [
          0,
          1
         ],
         "title": {
          "text": "Number of Reviews"
         }
        }
       }
      }
     },
     "metadata": {},
     "output_type": "display_data"
    }
   ],
   "source": [
    "fig4 = px.scatter(\n",
    "    products_right_cats,\n",
    "    x=\"price\",\n",
    "    y=\"num_reviews\",\n",
    "    color=\"category\",\n",
    "    title=\"Price distribution per Category\",\n",
    "    labels={\"num_reviews\": \"Number of Reviews\", \"price\": \"Price\"},\n",
    "    hover_data=[\"unities\"],\n",
    ")\n",
    "fig4.show()\n"
   ]
  },
  {
   "cell_type": "code",
   "execution_count": 38,
   "metadata": {},
   "outputs": [
    {
     "name": "stderr",
     "output_type": "stream",
     "text": [
      "/var/folders/yc/gvcsnq3x7x7f83l1krvqg44c0000gp/T/ipykernel_1936/3026187644.py:2: SettingWithCopyWarning:\n",
      "\n",
      "\n",
      "A value is trying to be set on a copy of a slice from a DataFrame.\n",
      "Try using .loc[row_indexer,col_indexer] = value instead\n",
      "\n",
      "See the caveats in the documentation: https://pandas.pydata.org/pandas-docs/stable/user_guide/indexing.html#returning-a-view-versus-a-copy\n",
      "\n"
     ]
    },
    {
     "data": {
      "text/plain": [
       "category\n",
       "Coupes menstruelles                                                          1.000000\n",
       "Culottes et sous-vêtements de protection                                          NaN\n",
       "Protections, serviettes hygiéniques, couches pour adultes, protège-slips          NaN\n",
       "Serviettes hygièniques                                                      12.000000\n",
       "Tampons                                                                     14.651376\n",
       "Name: unities, dtype: float64"
      ]
     },
     "execution_count": 38,
     "metadata": {},
     "output_type": "execute_result"
    }
   ],
   "source": [
    "avg_unit = products_right_cats[products_right_cats[\"price\"] <= 20]\n",
    "avg_unit[\"unities\"] = avg_unit[\"unities\"].astype(float)\n",
    "avg_unit = avg_unit.groupby(\"category\")[\"unities\"].mean()\n",
    "avg_unit\n"
   ]
  },
  {
   "cell_type": "code",
   "execution_count": 42,
   "metadata": {},
   "outputs": [
    {
     "data": {
      "application/vnd.plotly.v1+json": {
       "config": {
        "plotlyServerURL": "https://plot.ly"
       },
       "data": [
        {
         "alignmentgroup": "True",
         "hovertemplate": "category=%{x}<br>price=%{y}<extra></extra>",
         "legendgroup": "",
         "marker": {
          "color": "#C71585"
         },
         "name": "",
         "notched": false,
         "offsetgroup": "",
         "orientation": "v",
         "showlegend": false,
         "type": "box",
         "x": [
          "Tampons",
          "Tampons",
          "Tampons",
          "Tampons",
          "Tampons",
          "Tampons",
          "Tampons",
          "Tampons",
          "Tampons",
          "Tampons",
          "Tampons",
          "Tampons",
          "Tampons",
          "Tampons",
          "Tampons",
          "Tampons",
          "Tampons",
          "Tampons",
          "Tampons",
          "Tampons",
          "Tampons",
          "Tampons",
          "Tampons",
          "Tampons",
          "Tampons",
          "Tampons",
          "Tampons",
          "Tampons",
          "Tampons",
          "Tampons",
          "Tampons",
          "Tampons",
          "Tampons",
          "Tampons",
          "Tampons",
          "Tampons",
          "Tampons",
          "Tampons",
          "Tampons",
          "Tampons",
          "Tampons",
          "Tampons",
          "Tampons",
          "Tampons",
          "Serviettes hygièniques",
          "Tampons",
          "Tampons",
          "Tampons",
          "Tampons",
          "Tampons",
          "Tampons",
          "Tampons",
          "Tampons",
          "Serviettes hygièniques",
          "Tampons",
          "Tampons",
          "Tampons",
          "Serviettes hygièniques",
          "Tampons",
          "Tampons",
          "Tampons",
          "Tampons",
          "Tampons",
          "Tampons",
          "Tampons",
          "Tampons",
          "Tampons",
          "Tampons",
          "Tampons",
          "Tampons",
          "Tampons",
          "Tampons",
          "Tampons",
          "Tampons",
          "Tampons",
          "Tampons",
          "Tampons",
          "Tampons",
          "Tampons",
          "Tampons",
          "Tampons",
          "Tampons",
          "Tampons",
          "Tampons",
          "Tampons",
          "Tampons",
          "Tampons",
          "Tampons",
          "Tampons",
          "Tampons",
          "Tampons",
          "Tampons",
          "Tampons",
          "Tampons",
          "Tampons",
          "Tampons",
          "Tampons",
          "Tampons",
          "Tampons",
          "Tampons",
          "Tampons",
          "Tampons",
          "Tampons",
          "Tampons",
          "Tampons",
          "Tampons",
          "Tampons",
          "Tampons",
          "Tampons",
          "Tampons",
          "Tampons",
          "Tampons",
          "Tampons",
          "Tampons",
          "Tampons",
          "Tampons",
          "Tampons",
          "Tampons",
          "Tampons",
          "Tampons",
          "Tampons",
          "Culottes et sous-vêtements de protection",
          "Tampons",
          "Tampons",
          "Tampons",
          "Tampons",
          "Culottes et sous-vêtements de protection",
          "Tampons",
          "Culottes et sous-vêtements de protection",
          "Tampons",
          "Tampons",
          "Tampons",
          "Tampons",
          "Tampons",
          "Tampons",
          "Tampons",
          "Tampons",
          "Tampons",
          "Tampons",
          "Tampons",
          "Tampons",
          "Tampons",
          "Tampons",
          "Tampons",
          "Tampons",
          "Tampons",
          "Tampons",
          "Tampons",
          "Tampons",
          "Tampons",
          "Tampons",
          "Coupes menstruelles",
          "Tampons",
          "Tampons",
          "Tampons",
          "Tampons",
          "Tampons",
          "Tampons",
          "Tampons",
          "Tampons",
          "Tampons",
          "Tampons",
          "Tampons",
          "Tampons",
          "Tampons",
          "Tampons",
          "Tampons",
          "Tampons",
          "Tampons",
          "Tampons",
          "Tampons",
          "Tampons",
          "Tampons",
          "Coupes menstruelles",
          "Tampons",
          "Tampons",
          "Tampons",
          "Tampons",
          "Tampons",
          "Tampons",
          "Tampons",
          "Tampons",
          "Culottes et sous-vêtements de protection",
          "Tampons",
          "Tampons",
          "Tampons",
          "Tampons",
          "Tampons",
          "Tampons",
          "Tampons",
          "Tampons",
          "Tampons",
          "Tampons",
          "Coupes menstruelles",
          "Tampons",
          "Tampons",
          "Tampons",
          "Tampons",
          "Tampons",
          "Tampons",
          "Tampons",
          "Tampons",
          "Tampons",
          "Tampons",
          "Tampons",
          "Tampons",
          "Tampons",
          "Tampons",
          "Tampons",
          "Tampons",
          "Tampons",
          "Tampons",
          "Tampons",
          "Tampons",
          "Tampons",
          "Tampons",
          "Tampons",
          "Tampons",
          "Tampons",
          "Culottes et sous-vêtements de protection",
          "Tampons",
          "Tampons",
          "Tampons",
          "Tampons",
          "Coupes menstruelles",
          "Tampons",
          "Tampons",
          "Tampons",
          "Tampons",
          "Tampons",
          "Tampons",
          "Tampons",
          "Coupes menstruelles",
          "Tampons",
          "Tampons",
          "Tampons",
          "Tampons",
          "Tampons",
          "Tampons",
          "Tampons",
          "Tampons",
          "Tampons",
          "Tampons",
          "Tampons",
          "Tampons",
          "Tampons",
          "Tampons",
          "Tampons",
          "Tampons",
          "Tampons",
          "Tampons",
          "Tampons",
          "Tampons",
          "Tampons",
          "Tampons",
          "Tampons",
          "Tampons",
          "Tampons",
          "Tampons",
          "Tampons",
          "Coupes menstruelles",
          "Tampons",
          "Tampons",
          "Tampons",
          "Tampons",
          "Tampons",
          "Serviettes hygièniques",
          "Tampons",
          "Tampons",
          "Tampons",
          "Tampons",
          "Tampons",
          "Coupes menstruelles",
          "Tampons",
          "Tampons",
          "Tampons",
          "Tampons",
          "Tampons",
          "Coupes menstruelles",
          "Tampons",
          "Tampons",
          "Tampons",
          "Tampons",
          "Tampons",
          "Tampons",
          "Tampons",
          "Coupes menstruelles",
          "Tampons",
          "Tampons",
          "Tampons",
          "Tampons",
          "Tampons",
          "Tampons",
          "Tampons",
          "Tampons",
          "Tampons",
          "Tampons",
          "Tampons",
          "Tampons",
          "Tampons",
          "Tampons",
          "Tampons",
          "Tampons",
          "Tampons",
          "Tampons",
          "Tampons",
          "Tampons",
          "Tampons",
          "Tampons",
          "Tampons",
          "Tampons",
          "Tampons",
          "Serviettes hygièniques",
          "Tampons",
          "Tampons",
          "Tampons",
          "Tampons",
          "Coupes menstruelles",
          "Tampons",
          "Tampons",
          "Tampons",
          "Tampons",
          "Tampons",
          "Tampons",
          "Tampons",
          "Tampons",
          "Tampons",
          "Tampons",
          "Tampons",
          "Tampons",
          "Tampons",
          "Tampons",
          "Coupes menstruelles",
          "Tampons",
          "Tampons",
          "Tampons",
          "Tampons",
          "Tampons",
          "Tampons",
          "Tampons",
          "Serviettes hygièniques",
          "Serviettes hygièniques",
          "Serviettes hygièniques",
          "Serviettes hygièniques",
          "Serviettes hygièniques",
          "Serviettes hygièniques",
          "Serviettes hygièniques",
          "Serviettes hygièniques",
          "Serviettes hygièniques",
          "Serviettes hygièniques",
          "Serviettes hygièniques",
          "Serviettes hygièniques",
          "Serviettes hygièniques",
          "Serviettes hygièniques",
          "Serviettes hygièniques",
          "Serviettes hygièniques",
          "Serviettes hygièniques",
          "Serviettes hygièniques",
          "Serviettes hygièniques",
          "Serviettes hygièniques",
          "Serviettes hygièniques",
          "Serviettes hygièniques",
          "Serviettes hygièniques",
          "Serviettes hygièniques",
          "Serviettes hygièniques",
          "Serviettes hygièniques",
          "Serviettes hygièniques",
          "Serviettes hygièniques",
          "Serviettes hygièniques",
          "Protections, serviettes hygiéniques, couches pour adultes, protège-slips",
          "Serviettes hygièniques",
          "Serviettes hygièniques",
          "Serviettes hygièniques",
          "Protections, serviettes hygiéniques, couches pour adultes, protège-slips",
          "Serviettes hygièniques",
          "Serviettes hygièniques",
          "Serviettes hygièniques",
          "Serviettes hygièniques",
          "Protections, serviettes hygiéniques, couches pour adultes, protège-slips",
          "Serviettes hygièniques",
          "Serviettes hygièniques",
          "Serviettes hygièniques",
          "Serviettes hygièniques",
          "Serviettes hygièniques",
          "Serviettes hygièniques",
          "Culottes et sous-vêtements de protection",
          "Serviettes hygièniques",
          "Serviettes hygièniques",
          "Serviettes hygièniques",
          "Serviettes hygièniques",
          "Serviettes hygièniques",
          "Serviettes hygièniques",
          "Serviettes hygièniques",
          "Serviettes hygièniques",
          "Serviettes hygièniques",
          "Serviettes hygièniques",
          "Serviettes hygièniques",
          "Serviettes hygièniques",
          "Serviettes hygièniques",
          "Serviettes hygièniques",
          "Serviettes hygièniques",
          "Serviettes hygièniques",
          "Serviettes hygièniques",
          "Serviettes hygièniques",
          "Serviettes hygièniques",
          "Serviettes hygièniques",
          "Serviettes hygièniques",
          "Serviettes hygièniques",
          "Serviettes hygièniques",
          "Serviettes hygièniques",
          "Serviettes hygièniques",
          "Serviettes hygièniques",
          "Serviettes hygièniques",
          "Serviettes hygièniques",
          "Protections, serviettes hygiéniques, couches pour adultes, protège-slips",
          "Serviettes hygièniques",
          "Protections, serviettes hygiéniques, couches pour adultes, protège-slips",
          "Serviettes hygièniques",
          "Serviettes hygièniques",
          "Serviettes hygièniques",
          "Serviettes hygièniques",
          "Serviettes hygièniques",
          "Serviettes hygièniques",
          "Serviettes hygièniques",
          "Serviettes hygièniques",
          "Serviettes hygièniques",
          "Serviettes hygièniques",
          "Serviettes hygièniques",
          "Serviettes hygièniques",
          "Serviettes hygièniques",
          "Serviettes hygièniques",
          "Serviettes hygièniques",
          "Serviettes hygièniques",
          "Serviettes hygièniques",
          "Serviettes hygièniques",
          "Serviettes hygièniques",
          "Serviettes hygièniques",
          "Serviettes hygièniques",
          "Serviettes hygièniques",
          "Serviettes hygièniques",
          "Serviettes hygièniques",
          "Serviettes hygièniques",
          "Serviettes hygièniques",
          "Serviettes hygièniques",
          "Serviettes hygièniques",
          "Serviettes hygièniques",
          "Serviettes hygièniques",
          "Protections, serviettes hygiéniques, couches pour adultes, protège-slips",
          "Serviettes hygièniques",
          "Serviettes hygièniques",
          "Serviettes hygièniques",
          "Serviettes hygièniques",
          "Serviettes hygièniques",
          "Serviettes hygièniques",
          "Serviettes hygièniques",
          "Serviettes hygièniques",
          "Serviettes hygièniques",
          "Serviettes hygièniques",
          "Serviettes hygièniques",
          "Serviettes hygièniques",
          "Tampons",
          "Serviettes hygièniques",
          "Serviettes hygièniques",
          "Serviettes hygièniques",
          "Serviettes hygièniques",
          "Serviettes hygièniques",
          "Serviettes hygièniques",
          "Serviettes hygièniques",
          "Serviettes hygièniques",
          "Serviettes hygièniques",
          "Serviettes hygièniques",
          "Serviettes hygièniques",
          "Serviettes hygièniques",
          "Serviettes hygièniques",
          "Serviettes hygièniques",
          "Serviettes hygièniques",
          "Serviettes hygièniques",
          "Serviettes hygièniques",
          "Serviettes hygièniques",
          "Serviettes hygièniques",
          "Serviettes hygièniques",
          "Serviettes hygièniques",
          "Serviettes hygièniques",
          "Serviettes hygièniques",
          "Serviettes hygièniques",
          "Serviettes hygièniques",
          "Serviettes hygièniques",
          "Serviettes hygièniques",
          "Serviettes hygièniques",
          "Serviettes hygièniques",
          "Serviettes hygièniques",
          "Serviettes hygièniques",
          "Serviettes hygièniques",
          "Serviettes hygièniques",
          "Serviettes hygièniques",
          "Serviettes hygièniques",
          "Serviettes hygièniques",
          "Serviettes hygièniques",
          "Serviettes hygièniques",
          "Serviettes hygièniques",
          "Serviettes hygièniques",
          "Serviettes hygièniques",
          "Serviettes hygièniques",
          "Serviettes hygièniques",
          "Serviettes hygièniques",
          "Serviettes hygièniques",
          "Serviettes hygièniques",
          "Serviettes hygièniques",
          "Serviettes hygièniques",
          "Serviettes hygièniques",
          "Serviettes hygièniques",
          "Serviettes hygièniques",
          "Serviettes hygièniques",
          "Serviettes hygièniques",
          "Serviettes hygièniques",
          "Serviettes hygièniques",
          "Serviettes hygièniques",
          "Serviettes hygièniques",
          "Serviettes hygièniques",
          "Serviettes hygièniques",
          "Serviettes hygièniques",
          "Serviettes hygièniques",
          "Serviettes hygièniques",
          "Serviettes hygièniques",
          "Serviettes hygièniques",
          "Serviettes hygièniques",
          "Serviettes hygièniques",
          "Serviettes hygièniques",
          "Serviettes hygièniques",
          "Serviettes hygièniques",
          "Serviettes hygièniques",
          "Serviettes hygièniques",
          "Culottes et sous-vêtements de protection",
          "Serviettes hygièniques",
          "Serviettes hygièniques",
          "Culottes et sous-vêtements de protection",
          "Serviettes hygièniques",
          "Serviettes hygièniques",
          "Serviettes hygièniques",
          "Serviettes hygièniques",
          "Serviettes hygièniques",
          "Serviettes hygièniques",
          "Serviettes hygièniques",
          "Serviettes hygièniques",
          "Culottes et sous-vêtements de protection",
          "Tampons",
          "Tampons",
          "Tampons",
          "Tampons",
          "Tampons",
          "Tampons",
          "Serviettes hygièniques",
          "Culottes et sous-vêtements de protection",
          "Tampons",
          "Tampons",
          "Culottes et sous-vêtements de protection",
          "Tampons",
          "Tampons",
          "Culottes et sous-vêtements de protection",
          "Culottes et sous-vêtements de protection",
          "Culottes et sous-vêtements de protection",
          "Serviettes hygièniques"
         ],
         "x0": " ",
         "xaxis": "x",
         "y": [
          2.66,
          3.79,
          3.1,
          2.81,
          4.5,
          3.75,
          4.5,
          3.8,
          4.53,
          6.9,
          11.96,
          14.95,
          7.29,
          4.99,
          4.99,
          5.19,
          5.5,
          9.4,
          25.16,
          7.9,
          9.96,
          null,
          14.94,
          null,
          14.99,
          6.32,
          5.99,
          4.99,
          4.72,
          9.74,
          11.57,
          34.99,
          27.58,
          10.09,
          13.9,
          6.9,
          12.19,
          14.09,
          9.95,
          null,
          8.92,
          49.95,
          5.99,
          10.2,
          19.99,
          7.99,
          11.99,
          8.99,
          7.99,
          25.9,
          null,
          19.96,
          54.99,
          2.06,
          19.98,
          51.87,
          12.36,
          2.45,
          13.99,
          28.81,
          19.44,
          11.87,
          6.98,
          59.9,
          26.94,
          23.36,
          10.28,
          23.24,
          12.23,
          14.99,
          15.99,
          9.2,
          20.41,
          8.32,
          11.93,
          12.49,
          17.69,
          6.89,
          15.92,
          11.45,
          null,
          15.29,
          15.11,
          14.44,
          13.92,
          8.13,
          null,
          12.5,
          7.99,
          12.09,
          12.09,
          null,
          10.88,
          10.88,
          10.65,
          10.88,
          10.88,
          10.88,
          10.88,
          10.37,
          10.29,
          9.89,
          9.94,
          9.49,
          9.98,
          8.87,
          8.09,
          8.13,
          7.64,
          7.23,
          6.77,
          6.99,
          6.96,
          6.62,
          7.24,
          7.32,
          6.76,
          6.69,
          6.89,
          5.98,
          5.7,
          5.98,
          5.76,
          4.99,
          4.99,
          4.18,
          3.98,
          3.79,
          2.98,
          10.37,
          10.88,
          10.88,
          10.88,
          10.88,
          10.88,
          7.72,
          9.23,
          null,
          8.57,
          12.09,
          6.39,
          null,
          5.13,
          11.9,
          15.04,
          11.99,
          15.6,
          18.84,
          14.99,
          10.99,
          7.99,
          17.9,
          7.99,
          25.99,
          14.99,
          27.57,
          14.49,
          7.99,
          7.99,
          9.99,
          22.64,
          19.99,
          26,
          42.9,
          7.99,
          21.29,
          14.99,
          37.88,
          42.08,
          49.95,
          9.99,
          42.9,
          26.88,
          37.45,
          14.99,
          15.99,
          23.35,
          33.31,
          25.89,
          11.36,
          39.04,
          25.64,
          27.99,
          14.99,
          17.27,
          20.68,
          24.47,
          19.95,
          25.63,
          10.79,
          17.99,
          15.99,
          10.86,
          7.99,
          44.19,
          15.99,
          26.95,
          17.27,
          25,
          15.16,
          20.28,
          24.99,
          18.99,
          15.22,
          19.24,
          21.24,
          21.75,
          12.42,
          15.57,
          44.19,
          21.81,
          11.35,
          12.99,
          19.9,
          20.87,
          18.99,
          33.6,
          19.11,
          14.99,
          19.99,
          18.53,
          42.93,
          11.9,
          16.54,
          14.59,
          13.72,
          12.9,
          6.99,
          11.99,
          17.14,
          12.5,
          10.99,
          27.18,
          14.99,
          15.1,
          41,
          16.99,
          11.95,
          14.32,
          11.42,
          7.21,
          12.99,
          8.99,
          10.99,
          8.99,
          12.04,
          11.06,
          40.3,
          32.57,
          11.13,
          28.03,
          29.89,
          10.32,
          11.67,
          11.72,
          25,
          30.49,
          null,
          27.94,
          9.99,
          10.99,
          27.94,
          14.99,
          18.77,
          13.99,
          9.04,
          9.99,
          20.99,
          20.65,
          19.99,
          24.74,
          15.99,
          17.39,
          8,
          25,
          6.99,
          16.54,
          12.49,
          17.99,
          21,
          11.66,
          14.9,
          19.9,
          12.99,
          19.95,
          16.42,
          15.59,
          15.99,
          14.11,
          11.01,
          13.99,
          15.99,
          15.22,
          11.34,
          12.99,
          12.99,
          12.99,
          11.99,
          9.99,
          9.99,
          8.77,
          9.49,
          3.49,
          6.83,
          6.9,
          6.85,
          13.99,
          19.5,
          36.9,
          18.89,
          20.87,
          14.9,
          24.99,
          29.76,
          21.22,
          15.15,
          18.28,
          11.99,
          9.99,
          14.9,
          19.9,
          19.9,
          19.9,
          13.06,
          20.59,
          16.36,
          28.2,
          35.99,
          10.64,
          22,
          24.9,
          22,
          9.99,
          13.99,
          62.5,
          28.2,
          26.43,
          27.94,
          27.68,
          25.94,
          1.98,
          1.79,
          2.4,
          1.99,
          3.49,
          1.55,
          2.36,
          2.99,
          3.75,
          2.17,
          2.02,
          3.98,
          4.58,
          22.53,
          23.6,
          2.91,
          22.39,
          2.5,
          14.5,
          35.56,
          25.74,
          2.95,
          2.95,
          39,
          33.52,
          19.03,
          3.98,
          28.09,
          23.99,
          9.19,
          null,
          34.97,
          55.65,
          37.35,
          30.09,
          59.97,
          18.5,
          null,
          28.14,
          34.9,
          null,
          28,
          39.45,
          2.79,
          32.12,
          32.99,
          28.99,
          29.99,
          3.5,
          29.9,
          25,
          9.98,
          25.99,
          31.5,
          29.9,
          31.11,
          26.9,
          16.5,
          5.64,
          24.99,
          21.45,
          26.4,
          19.99,
          26.11,
          19.25,
          22.99,
          15.4,
          23,
          24.99,
          26.12,
          20.99,
          14.99,
          14.24,
          20.99,
          null,
          3.58,
          16.14,
          14.99,
          20.69,
          null,
          2.79,
          19.82,
          10.99,
          32.55,
          30.8,
          19.99,
          17.3,
          1.69,
          20.08,
          14.99,
          16.99,
          34.67,
          3.99,
          19.29,
          16.99,
          36.35,
          31.09,
          16.99,
          15.24,
          14.99,
          10.8,
          1.69,
          30,
          18.39,
          14.9,
          12.6,
          2.99,
          14.87,
          15.24,
          12.99,
          2.79,
          1.45,
          1.79,
          14.16,
          6.29,
          5.5,
          15.88,
          5.54,
          12.22,
          5.35,
          12.99,
          14.99,
          9.88,
          8.18,
          1.69,
          11.89,
          10.33,
          8.99,
          7.99,
          7.5,
          19.49,
          3.19,
          6.89,
          4.19,
          15.99,
          6.82,
          9.49,
          7.63,
          19.99,
          9,
          13.9,
          3.39,
          9.06,
          9.69,
          7.3,
          6.79,
          9.07,
          4.56,
          8.4,
          7.49,
          null,
          14.9,
          7.59,
          16.78,
          5.99,
          4.85,
          4.49,
          5.49,
          10.99,
          5.88,
          7.86,
          5.5,
          3.7,
          9.22,
          6.99,
          3,
          36,
          39.97,
          null,
          6.05,
          6.05,
          19.99,
          33.99,
          3.18,
          35.99,
          17.68,
          19.22,
          null,
          null,
          null,
          21.8,
          3.69,
          29.45,
          25.95,
          13.79,
          4.98,
          15.86,
          5.36,
          null,
          5.99,
          12,
          18.9,
          30.9,
          19.99,
          3.59,
          22.99,
          25.78,
          7.96,
          26.9,
          7.44,
          2.99,
          14.72,
          4.98,
          20.99,
          49.99,
          11.99,
          19.56,
          18.23,
          15.16,
          24.15,
          3.6,
          10,
          16.9,
          7.9,
          23.39,
          29.9,
          10.04,
          6.9,
          3.98,
          19.9,
          22.99,
          null
         ],
         "y0": " ",
         "yaxis": "y"
        }
       ],
       "layout": {
        "boxmode": "group",
        "height": 800,
        "legend": {
         "tracegroupgap": 0
        },
        "margin": {
         "t": 60
        },
        "template": {
         "data": {
          "bar": [
           {
            "error_x": {
             "color": "#2a3f5f"
            },
            "error_y": {
             "color": "#2a3f5f"
            },
            "marker": {
             "line": {
              "color": "#E5ECF6",
              "width": 0.5
             },
             "pattern": {
              "fillmode": "overlay",
              "size": 10,
              "solidity": 0.2
             }
            },
            "type": "bar"
           }
          ],
          "barpolar": [
           {
            "marker": {
             "line": {
              "color": "#E5ECF6",
              "width": 0.5
             },
             "pattern": {
              "fillmode": "overlay",
              "size": 10,
              "solidity": 0.2
             }
            },
            "type": "barpolar"
           }
          ],
          "carpet": [
           {
            "aaxis": {
             "endlinecolor": "#2a3f5f",
             "gridcolor": "white",
             "linecolor": "white",
             "minorgridcolor": "white",
             "startlinecolor": "#2a3f5f"
            },
            "baxis": {
             "endlinecolor": "#2a3f5f",
             "gridcolor": "white",
             "linecolor": "white",
             "minorgridcolor": "white",
             "startlinecolor": "#2a3f5f"
            },
            "type": "carpet"
           }
          ],
          "choropleth": [
           {
            "colorbar": {
             "outlinewidth": 0,
             "ticks": ""
            },
            "type": "choropleth"
           }
          ],
          "contour": [
           {
            "colorbar": {
             "outlinewidth": 0,
             "ticks": ""
            },
            "colorscale": [
             [
              0,
              "#0d0887"
             ],
             [
              0.1111111111111111,
              "#46039f"
             ],
             [
              0.2222222222222222,
              "#7201a8"
             ],
             [
              0.3333333333333333,
              "#9c179e"
             ],
             [
              0.4444444444444444,
              "#bd3786"
             ],
             [
              0.5555555555555556,
              "#d8576b"
             ],
             [
              0.6666666666666666,
              "#ed7953"
             ],
             [
              0.7777777777777778,
              "#fb9f3a"
             ],
             [
              0.8888888888888888,
              "#fdca26"
             ],
             [
              1,
              "#f0f921"
             ]
            ],
            "type": "contour"
           }
          ],
          "contourcarpet": [
           {
            "colorbar": {
             "outlinewidth": 0,
             "ticks": ""
            },
            "type": "contourcarpet"
           }
          ],
          "heatmap": [
           {
            "colorbar": {
             "outlinewidth": 0,
             "ticks": ""
            },
            "colorscale": [
             [
              0,
              "#0d0887"
             ],
             [
              0.1111111111111111,
              "#46039f"
             ],
             [
              0.2222222222222222,
              "#7201a8"
             ],
             [
              0.3333333333333333,
              "#9c179e"
             ],
             [
              0.4444444444444444,
              "#bd3786"
             ],
             [
              0.5555555555555556,
              "#d8576b"
             ],
             [
              0.6666666666666666,
              "#ed7953"
             ],
             [
              0.7777777777777778,
              "#fb9f3a"
             ],
             [
              0.8888888888888888,
              "#fdca26"
             ],
             [
              1,
              "#f0f921"
             ]
            ],
            "type": "heatmap"
           }
          ],
          "heatmapgl": [
           {
            "colorbar": {
             "outlinewidth": 0,
             "ticks": ""
            },
            "colorscale": [
             [
              0,
              "#0d0887"
             ],
             [
              0.1111111111111111,
              "#46039f"
             ],
             [
              0.2222222222222222,
              "#7201a8"
             ],
             [
              0.3333333333333333,
              "#9c179e"
             ],
             [
              0.4444444444444444,
              "#bd3786"
             ],
             [
              0.5555555555555556,
              "#d8576b"
             ],
             [
              0.6666666666666666,
              "#ed7953"
             ],
             [
              0.7777777777777778,
              "#fb9f3a"
             ],
             [
              0.8888888888888888,
              "#fdca26"
             ],
             [
              1,
              "#f0f921"
             ]
            ],
            "type": "heatmapgl"
           }
          ],
          "histogram": [
           {
            "marker": {
             "pattern": {
              "fillmode": "overlay",
              "size": 10,
              "solidity": 0.2
             }
            },
            "type": "histogram"
           }
          ],
          "histogram2d": [
           {
            "colorbar": {
             "outlinewidth": 0,
             "ticks": ""
            },
            "colorscale": [
             [
              0,
              "#0d0887"
             ],
             [
              0.1111111111111111,
              "#46039f"
             ],
             [
              0.2222222222222222,
              "#7201a8"
             ],
             [
              0.3333333333333333,
              "#9c179e"
             ],
             [
              0.4444444444444444,
              "#bd3786"
             ],
             [
              0.5555555555555556,
              "#d8576b"
             ],
             [
              0.6666666666666666,
              "#ed7953"
             ],
             [
              0.7777777777777778,
              "#fb9f3a"
             ],
             [
              0.8888888888888888,
              "#fdca26"
             ],
             [
              1,
              "#f0f921"
             ]
            ],
            "type": "histogram2d"
           }
          ],
          "histogram2dcontour": [
           {
            "colorbar": {
             "outlinewidth": 0,
             "ticks": ""
            },
            "colorscale": [
             [
              0,
              "#0d0887"
             ],
             [
              0.1111111111111111,
              "#46039f"
             ],
             [
              0.2222222222222222,
              "#7201a8"
             ],
             [
              0.3333333333333333,
              "#9c179e"
             ],
             [
              0.4444444444444444,
              "#bd3786"
             ],
             [
              0.5555555555555556,
              "#d8576b"
             ],
             [
              0.6666666666666666,
              "#ed7953"
             ],
             [
              0.7777777777777778,
              "#fb9f3a"
             ],
             [
              0.8888888888888888,
              "#fdca26"
             ],
             [
              1,
              "#f0f921"
             ]
            ],
            "type": "histogram2dcontour"
           }
          ],
          "mesh3d": [
           {
            "colorbar": {
             "outlinewidth": 0,
             "ticks": ""
            },
            "type": "mesh3d"
           }
          ],
          "parcoords": [
           {
            "line": {
             "colorbar": {
              "outlinewidth": 0,
              "ticks": ""
             }
            },
            "type": "parcoords"
           }
          ],
          "pie": [
           {
            "automargin": true,
            "type": "pie"
           }
          ],
          "scatter": [
           {
            "fillpattern": {
             "fillmode": "overlay",
             "size": 10,
             "solidity": 0.2
            },
            "type": "scatter"
           }
          ],
          "scatter3d": [
           {
            "line": {
             "colorbar": {
              "outlinewidth": 0,
              "ticks": ""
             }
            },
            "marker": {
             "colorbar": {
              "outlinewidth": 0,
              "ticks": ""
             }
            },
            "type": "scatter3d"
           }
          ],
          "scattercarpet": [
           {
            "marker": {
             "colorbar": {
              "outlinewidth": 0,
              "ticks": ""
             }
            },
            "type": "scattercarpet"
           }
          ],
          "scattergeo": [
           {
            "marker": {
             "colorbar": {
              "outlinewidth": 0,
              "ticks": ""
             }
            },
            "type": "scattergeo"
           }
          ],
          "scattergl": [
           {
            "marker": {
             "colorbar": {
              "outlinewidth": 0,
              "ticks": ""
             }
            },
            "type": "scattergl"
           }
          ],
          "scattermapbox": [
           {
            "marker": {
             "colorbar": {
              "outlinewidth": 0,
              "ticks": ""
             }
            },
            "type": "scattermapbox"
           }
          ],
          "scatterpolar": [
           {
            "marker": {
             "colorbar": {
              "outlinewidth": 0,
              "ticks": ""
             }
            },
            "type": "scatterpolar"
           }
          ],
          "scatterpolargl": [
           {
            "marker": {
             "colorbar": {
              "outlinewidth": 0,
              "ticks": ""
             }
            },
            "type": "scatterpolargl"
           }
          ],
          "scatterternary": [
           {
            "marker": {
             "colorbar": {
              "outlinewidth": 0,
              "ticks": ""
             }
            },
            "type": "scatterternary"
           }
          ],
          "surface": [
           {
            "colorbar": {
             "outlinewidth": 0,
             "ticks": ""
            },
            "colorscale": [
             [
              0,
              "#0d0887"
             ],
             [
              0.1111111111111111,
              "#46039f"
             ],
             [
              0.2222222222222222,
              "#7201a8"
             ],
             [
              0.3333333333333333,
              "#9c179e"
             ],
             [
              0.4444444444444444,
              "#bd3786"
             ],
             [
              0.5555555555555556,
              "#d8576b"
             ],
             [
              0.6666666666666666,
              "#ed7953"
             ],
             [
              0.7777777777777778,
              "#fb9f3a"
             ],
             [
              0.8888888888888888,
              "#fdca26"
             ],
             [
              1,
              "#f0f921"
             ]
            ],
            "type": "surface"
           }
          ],
          "table": [
           {
            "cells": {
             "fill": {
              "color": "#EBF0F8"
             },
             "line": {
              "color": "white"
             }
            },
            "header": {
             "fill": {
              "color": "#C8D4E3"
             },
             "line": {
              "color": "white"
             }
            },
            "type": "table"
           }
          ]
         },
         "layout": {
          "annotationdefaults": {
           "arrowcolor": "#2a3f5f",
           "arrowhead": 0,
           "arrowwidth": 1
          },
          "autotypenumbers": "strict",
          "coloraxis": {
           "colorbar": {
            "outlinewidth": 0,
            "ticks": ""
           }
          },
          "colorscale": {
           "diverging": [
            [
             0,
             "#8e0152"
            ],
            [
             0.1,
             "#c51b7d"
            ],
            [
             0.2,
             "#de77ae"
            ],
            [
             0.3,
             "#f1b6da"
            ],
            [
             0.4,
             "#fde0ef"
            ],
            [
             0.5,
             "#f7f7f7"
            ],
            [
             0.6,
             "#e6f5d0"
            ],
            [
             0.7,
             "#b8e186"
            ],
            [
             0.8,
             "#7fbc41"
            ],
            [
             0.9,
             "#4d9221"
            ],
            [
             1,
             "#276419"
            ]
           ],
           "sequential": [
            [
             0,
             "#0d0887"
            ],
            [
             0.1111111111111111,
             "#46039f"
            ],
            [
             0.2222222222222222,
             "#7201a8"
            ],
            [
             0.3333333333333333,
             "#9c179e"
            ],
            [
             0.4444444444444444,
             "#bd3786"
            ],
            [
             0.5555555555555556,
             "#d8576b"
            ],
            [
             0.6666666666666666,
             "#ed7953"
            ],
            [
             0.7777777777777778,
             "#fb9f3a"
            ],
            [
             0.8888888888888888,
             "#fdca26"
            ],
            [
             1,
             "#f0f921"
            ]
           ],
           "sequentialminus": [
            [
             0,
             "#0d0887"
            ],
            [
             0.1111111111111111,
             "#46039f"
            ],
            [
             0.2222222222222222,
             "#7201a8"
            ],
            [
             0.3333333333333333,
             "#9c179e"
            ],
            [
             0.4444444444444444,
             "#bd3786"
            ],
            [
             0.5555555555555556,
             "#d8576b"
            ],
            [
             0.6666666666666666,
             "#ed7953"
            ],
            [
             0.7777777777777778,
             "#fb9f3a"
            ],
            [
             0.8888888888888888,
             "#fdca26"
            ],
            [
             1,
             "#f0f921"
            ]
           ]
          },
          "colorway": [
           "#636efa",
           "#EF553B",
           "#00cc96",
           "#ab63fa",
           "#FFA15A",
           "#19d3f3",
           "#FF6692",
           "#B6E880",
           "#FF97FF",
           "#FECB52"
          ],
          "font": {
           "color": "#2a3f5f"
          },
          "geo": {
           "bgcolor": "white",
           "lakecolor": "white",
           "landcolor": "#E5ECF6",
           "showlakes": true,
           "showland": true,
           "subunitcolor": "white"
          },
          "hoverlabel": {
           "align": "left"
          },
          "hovermode": "closest",
          "mapbox": {
           "style": "light"
          },
          "paper_bgcolor": "white",
          "plot_bgcolor": "#E5ECF6",
          "polar": {
           "angularaxis": {
            "gridcolor": "white",
            "linecolor": "white",
            "ticks": ""
           },
           "bgcolor": "#E5ECF6",
           "radialaxis": {
            "gridcolor": "white",
            "linecolor": "white",
            "ticks": ""
           }
          },
          "scene": {
           "xaxis": {
            "backgroundcolor": "#E5ECF6",
            "gridcolor": "white",
            "gridwidth": 2,
            "linecolor": "white",
            "showbackground": true,
            "ticks": "",
            "zerolinecolor": "white"
           },
           "yaxis": {
            "backgroundcolor": "#E5ECF6",
            "gridcolor": "white",
            "gridwidth": 2,
            "linecolor": "white",
            "showbackground": true,
            "ticks": "",
            "zerolinecolor": "white"
           },
           "zaxis": {
            "backgroundcolor": "#E5ECF6",
            "gridcolor": "white",
            "gridwidth": 2,
            "linecolor": "white",
            "showbackground": true,
            "ticks": "",
            "zerolinecolor": "white"
           }
          },
          "shapedefaults": {
           "line": {
            "color": "#2a3f5f"
           }
          },
          "ternary": {
           "aaxis": {
            "gridcolor": "white",
            "linecolor": "white",
            "ticks": ""
           },
           "baxis": {
            "gridcolor": "white",
            "linecolor": "white",
            "ticks": ""
           },
           "bgcolor": "#E5ECF6",
           "caxis": {
            "gridcolor": "white",
            "linecolor": "white",
            "ticks": ""
           }
          },
          "title": {
           "x": 0.05
          },
          "xaxis": {
           "automargin": true,
           "gridcolor": "white",
           "linecolor": "white",
           "ticks": "",
           "title": {
            "standoff": 15
           },
           "zerolinecolor": "white",
           "zerolinewidth": 2
          },
          "yaxis": {
           "automargin": true,
           "gridcolor": "white",
           "linecolor": "white",
           "ticks": "",
           "title": {
            "standoff": 15
           },
           "zerolinecolor": "white",
           "zerolinewidth": 2
          }
         }
        },
        "width": 800,
        "xaxis": {
         "anchor": "y",
         "domain": [
          0,
          1
         ],
         "title": {
          "text": "category"
         }
        },
        "yaxis": {
         "anchor": "x",
         "domain": [
          0,
          1
         ],
         "title": {
          "text": "price"
         }
        }
       }
      }
     },
     "metadata": {},
     "output_type": "display_data"
    }
   ],
   "source": [
    "fig9 = px.box(\n",
    "    products_right_cats, x=\"category\", y=\"price\", color_discrete_sequence=[\"#C71585\"]\n",
    ")\n",
    "\n",
    "fig9.update_layout(width=800, height=800)\n",
    "\n",
    "fig9.show()\n"
   ]
  },
  {
   "cell_type": "markdown",
   "metadata": {},
   "source": [
    "**Tampons** broader price range extends up to 60 euros, 50% of tampon prices are concentrated between 2 and 20 euros. This indicates a significant portion of the tampon market is accessible and affordable, catering to the essential needs of consumers. The lower half of the price spectrum underscores the availability of cost-effective options, likely appealing to a wide demographic seeking reliable menstrual care without a high price tag. The extension of the price range up to 60 euros reveals the presence of premium offerings within the tampon category. These higher-priced options may include tampons made from organic materials, those boasting specialized applicators for enhanced comfort.\n",
    "\n",
    "**Serviettes hygiéniques** (sanitary pads) show a slightly broader price range, from 1.5 to 20 euros, with an average packaging size of 12 units for products within this interval. This implies that sanitary pads are generally available in smaller pack sizes compared to tampons, possibly reflecting distinct usage patterns, consumer preferences, or manufacturers' product positioning strategies.\n",
    "Additionally, the analysis brings attention to products such as:\n",
    "\n",
    "**Coupes menstruelles** (menstrual cups), which are highlighted for their higher price points ranging from 17 to 32 euros. However, it's important to note their reusable nature, which offers long-term value and sustainability benefits, potentially justifying the higher upfront cost.\n",
    "\n",
    "**Culottes et sous-vêtements de protection**(protective underwear) also feature higher prices, ranging from 22 to 31 euros. This category includes products offering innovative solutions for menstrual and incontinence protection, reflecting a growing consumer interest in comfort, reliability, and sustainability.\n",
    "\n",
    "**Protections, serviettes hygiéniques, couches pour adultes, protège-slips** (a broad category encompassing various sanitary and incontinence products) have price ranges from 16 to 30 euros, indicating a wide market offering catering to different needs and preferences.\n"
   ]
  },
  {
   "cell_type": "markdown",
   "metadata": {},
   "source": [
    "However, most variation in price could be explained by the number of units per package. The solve this bias, lets normalize the data with a price per unit column.\n"
   ]
  },
  {
   "cell_type": "code",
   "execution_count": 40,
   "metadata": {},
   "outputs": [
    {
     "name": "stderr",
     "output_type": "stream",
     "text": [
      "/var/folders/yc/gvcsnq3x7x7f83l1krvqg44c0000gp/T/ipykernel_1936/2467671391.py:1: SettingWithCopyWarning:\n",
      "\n",
      "\n",
      "A value is trying to be set on a copy of a slice from a DataFrame.\n",
      "Try using .loc[row_indexer,col_indexer] = value instead\n",
      "\n",
      "See the caveats in the documentation: https://pandas.pydata.org/pandas-docs/stable/user_guide/indexing.html#returning-a-view-versus-a-copy\n",
      "\n"
     ]
    },
    {
     "data": {
      "text/html": [
       "<div>\n",
       "<style scoped>\n",
       "    .dataframe tbody tr th:only-of-type {\n",
       "        vertical-align: middle;\n",
       "    }\n",
       "\n",
       "    .dataframe tbody tr th {\n",
       "        vertical-align: top;\n",
       "    }\n",
       "\n",
       "    .dataframe thead th {\n",
       "        text-align: right;\n",
       "    }\n",
       "</style>\n",
       "<table border=\"1\" class=\"dataframe\">\n",
       "  <thead>\n",
       "    <tr style=\"text-align: right;\">\n",
       "      <th></th>\n",
       "      <th>asin</th>\n",
       "      <th>thumbnail</th>\n",
       "      <th>title</th>\n",
       "      <th>avg_rating</th>\n",
       "      <th>brand</th>\n",
       "      <th>category</th>\n",
       "      <th>feature_bullets</th>\n",
       "      <th>num_reviews</th>\n",
       "      <th>price</th>\n",
       "      <th>unities</th>\n",
       "      <th>unit_price</th>\n",
       "    </tr>\n",
       "  </thead>\n",
       "  <tbody>\n",
       "    <tr>\n",
       "      <th>0</th>\n",
       "      <td>B07BFMNKBJ</td>\n",
       "      <td>https://m.media-amazon.com/images/I/71MyAkpL3P...</td>\n",
       "      <td>Nett Original Tampon sans Applicateur, Super P...</td>\n",
       "      <td>4.7</td>\n",
       "      <td>Nett</td>\n",
       "      <td>Tampons</td>\n",
       "      <td>['Son ouverture en corolle permet une adaptati...</td>\n",
       "      <td>223.0</td>\n",
       "      <td>2.66</td>\n",
       "      <td>32.0</td>\n",
       "      <td>0.083125</td>\n",
       "    </tr>\n",
       "    <tr>\n",
       "      <th>1</th>\n",
       "      <td>B07YQG6J8C</td>\n",
       "      <td>https://m.media-amazon.com/images/I/71z+FTDoel...</td>\n",
       "      <td>Nett® ProComfort® Normal, Tampon Sans Applicat...</td>\n",
       "      <td>4.6</td>\n",
       "      <td>Nett</td>\n",
       "      <td>Tampons</td>\n",
       "      <td>[\"Les tampons Nett ProComfort sont ultra confo...</td>\n",
       "      <td>303.0</td>\n",
       "      <td>3.79</td>\n",
       "      <td>24.0</td>\n",
       "      <td>0.157917</td>\n",
       "    </tr>\n",
       "    <tr>\n",
       "      <th>2</th>\n",
       "      <td>B07DX91LR6</td>\n",
       "      <td>https://m.media-amazon.com/images/I/81aKn18Bqs...</td>\n",
       "      <td>Tampax Compak Pearl, Super, 18 Tampons Avec Ap...</td>\n",
       "      <td>4.7</td>\n",
       "      <td>Always</td>\n",
       "      <td>Tampons</td>\n",
       "      <td>['La combinaison n°\\xa01 de confort, protectio...</td>\n",
       "      <td>859.0</td>\n",
       "      <td>3.10</td>\n",
       "      <td>18.0</td>\n",
       "      <td>0.172222</td>\n",
       "    </tr>\n",
       "    <tr>\n",
       "      <th>3</th>\n",
       "      <td>B082VVC4ZB</td>\n",
       "      <td>https://m.media-amazon.com/images/I/71IHCEr+Kr...</td>\n",
       "      <td>Nett Original Tampon sans Applicateur, Super, ...</td>\n",
       "      <td>4.7</td>\n",
       "      <td>Nett</td>\n",
       "      <td>Tampons</td>\n",
       "      <td>['Son ouverture en corolle permet une adaptati...</td>\n",
       "      <td>144.0</td>\n",
       "      <td>2.81</td>\n",
       "      <td>32.0</td>\n",
       "      <td>0.087813</td>\n",
       "    </tr>\n",
       "    <tr>\n",
       "      <th>4</th>\n",
       "      <td>B0BQJQW12P</td>\n",
       "      <td>https://m.media-amazon.com/images/I/61omM04gC2...</td>\n",
       "      <td>Tampax Cotton Protection, Super Plus, 18 Tampo...</td>\n",
       "      <td>4.7</td>\n",
       "      <td>Always</td>\n",
       "      <td>Tampons</td>\n",
       "      <td>['Tampax offre une protection longue durée ave...</td>\n",
       "      <td>30.0</td>\n",
       "      <td>4.50</td>\n",
       "      <td>18.0</td>\n",
       "      <td>0.250000</td>\n",
       "    </tr>\n",
       "  </tbody>\n",
       "</table>\n",
       "</div>"
      ],
      "text/plain": [
       "         asin                                          thumbnail  \\\n",
       "0  B07BFMNKBJ  https://m.media-amazon.com/images/I/71MyAkpL3P...   \n",
       "1  B07YQG6J8C  https://m.media-amazon.com/images/I/71z+FTDoel...   \n",
       "2  B07DX91LR6  https://m.media-amazon.com/images/I/81aKn18Bqs...   \n",
       "3  B082VVC4ZB  https://m.media-amazon.com/images/I/71IHCEr+Kr...   \n",
       "4  B0BQJQW12P  https://m.media-amazon.com/images/I/61omM04gC2...   \n",
       "\n",
       "                                               title  avg_rating   brand  \\\n",
       "0  Nett Original Tampon sans Applicateur, Super P...         4.7    Nett   \n",
       "1  Nett® ProComfort® Normal, Tampon Sans Applicat...         4.6    Nett   \n",
       "2  Tampax Compak Pearl, Super, 18 Tampons Avec Ap...         4.7  Always   \n",
       "3  Nett Original Tampon sans Applicateur, Super, ...         4.7    Nett   \n",
       "4  Tampax Cotton Protection, Super Plus, 18 Tampo...         4.7  Always   \n",
       "\n",
       "  category                                    feature_bullets  num_reviews  \\\n",
       "0  Tampons  ['Son ouverture en corolle permet une adaptati...        223.0   \n",
       "1  Tampons  [\"Les tampons Nett ProComfort sont ultra confo...        303.0   \n",
       "2  Tampons  ['La combinaison n°\\xa01 de confort, protectio...        859.0   \n",
       "3  Tampons  ['Son ouverture en corolle permet une adaptati...        144.0   \n",
       "4  Tampons  ['Tampax offre une protection longue durée ave...         30.0   \n",
       "\n",
       "   price  unities  unit_price  \n",
       "0   2.66     32.0    0.083125  \n",
       "1   3.79     24.0    0.157917  \n",
       "2   3.10     18.0    0.172222  \n",
       "3   2.81     32.0    0.087813  \n",
       "4   4.50     18.0    0.250000  "
      ]
     },
     "execution_count": 40,
     "metadata": {},
     "output_type": "execute_result"
    }
   ],
   "source": [
    "products_right_cats[\"unit_price\"] = (\n",
    "    products_right_cats[\"price\"] / products_right_cats[\"unities\"]\n",
    ")\n",
    "products_right_cats.head()\n"
   ]
  },
  {
   "cell_type": "markdown",
   "metadata": {},
   "source": [
    "#### **D. Reviews Analysis**\n"
   ]
  },
  {
   "cell_type": "code",
   "execution_count": 43,
   "metadata": {},
   "outputs": [
    {
     "data": {
      "text/html": [
       "<div>\n",
       "<style scoped>\n",
       "    .dataframe tbody tr th:only-of-type {\n",
       "        vertical-align: middle;\n",
       "    }\n",
       "\n",
       "    .dataframe tbody tr th {\n",
       "        vertical-align: top;\n",
       "    }\n",
       "\n",
       "    .dataframe thead th {\n",
       "        text-align: right;\n",
       "    }\n",
       "</style>\n",
       "<table border=\"1\" class=\"dataframe\">\n",
       "  <thead>\n",
       "    <tr style=\"text-align: right;\">\n",
       "      <th></th>\n",
       "      <th>asin</th>\n",
       "      <th>rating</th>\n",
       "      <th>title</th>\n",
       "      <th>country</th>\n",
       "      <th>date</th>\n",
       "      <th>body</th>\n",
       "      <th>body_en</th>\n",
       "    </tr>\n",
       "  </thead>\n",
       "  <tbody>\n",
       "    <tr>\n",
       "      <th>0</th>\n",
       "      <td>B07BFMNKBJ</td>\n",
       "      <td>1</td>\n",
       "      <td>Pas reçue</td>\n",
       "      <td>France</td>\n",
       "      <td>2020-12-02</td>\n",
       "      <td>Ont me dis que je les reçue alors que non !</td>\n",
       "      <td>I was told that I received them when I didn&amp;#3...</td>\n",
       "    </tr>\n",
       "    <tr>\n",
       "      <th>1</th>\n",
       "      <td>B07BFMNKBJ</td>\n",
       "      <td>1</td>\n",
       "      <td>Sans commentaire</td>\n",
       "      <td>France</td>\n",
       "      <td>2018-10-11</td>\n",
       "      <td>Sans commentaire</td>\n",
       "      <td>No comment</td>\n",
       "    </tr>\n",
       "    <tr>\n",
       "      <th>2</th>\n",
       "      <td>B07BFMNKBJ</td>\n",
       "      <td>5</td>\n",
       "      <td>Parfait 👌</td>\n",
       "      <td>France</td>\n",
       "      <td>2022-01-27</td>\n",
       "      <td>J'utilise ce modèle depuis des années, je ne c...</td>\n",
       "      <td>I have been using this model for years, I no l...</td>\n",
       "    </tr>\n",
       "    <tr>\n",
       "      <th>3</th>\n",
       "      <td>B07BFMNKBJ</td>\n",
       "      <td>4</td>\n",
       "      <td>Bien mais</td>\n",
       "      <td>France</td>\n",
       "      <td>2021-11-21</td>\n",
       "      <td>Légèrement moins cher qu’en grande surface mai...</td>\n",
       "      <td>Slightly cheaper than supermarkets but Pro Con...</td>\n",
       "    </tr>\n",
       "    <tr>\n",
       "      <th>4</th>\n",
       "      <td>B07BFMNKBJ</td>\n",
       "      <td>4</td>\n",
       "      <td>Bons tampons</td>\n",
       "      <td>France</td>\n",
       "      <td>2022-01-29</td>\n",
       "      <td>Rien de particulier à signaler.</td>\n",
       "      <td>Nothing special to report.</td>\n",
       "    </tr>\n",
       "  </tbody>\n",
       "</table>\n",
       "</div>"
      ],
      "text/plain": [
       "         asin  rating             title country       date  \\\n",
       "0  B07BFMNKBJ       1         Pas reçue  France 2020-12-02   \n",
       "1  B07BFMNKBJ       1  Sans commentaire  France 2018-10-11   \n",
       "2  B07BFMNKBJ       5         Parfait 👌  France 2022-01-27   \n",
       "3  B07BFMNKBJ       4         Bien mais  France 2021-11-21   \n",
       "4  B07BFMNKBJ       4      Bons tampons  France 2022-01-29   \n",
       "\n",
       "                                                body  \\\n",
       "0        Ont me dis que je les reçue alors que non !   \n",
       "1                                   Sans commentaire   \n",
       "2  J'utilise ce modèle depuis des années, je ne c...   \n",
       "3  Légèrement moins cher qu’en grande surface mai...   \n",
       "4                    Rien de particulier à signaler.   \n",
       "\n",
       "                                             body_en  \n",
       "0  I was told that I received them when I didn&#3...  \n",
       "1                                         No comment  \n",
       "2  I have been using this model for years, I no l...  \n",
       "3  Slightly cheaper than supermarkets but Pro Con...  \n",
       "4                         Nothing special to report.  "
      ]
     },
     "execution_count": 43,
     "metadata": {},
     "output_type": "execute_result"
    }
   ],
   "source": [
    "reviews.head()\n"
   ]
  },
  {
   "cell_type": "code",
   "execution_count": 44,
   "metadata": {},
   "outputs": [
    {
     "data": {
      "text/html": [
       "<div>\n",
       "<style scoped>\n",
       "    .dataframe tbody tr th:only-of-type {\n",
       "        vertical-align: middle;\n",
       "    }\n",
       "\n",
       "    .dataframe tbody tr th {\n",
       "        vertical-align: top;\n",
       "    }\n",
       "\n",
       "    .dataframe thead th {\n",
       "        text-align: right;\n",
       "    }\n",
       "</style>\n",
       "<table border=\"1\" class=\"dataframe\">\n",
       "  <thead>\n",
       "    <tr style=\"text-align: right;\">\n",
       "      <th></th>\n",
       "      <th>avg_rating</th>\n",
       "      <th>num_review</th>\n",
       "    </tr>\n",
       "    <tr>\n",
       "      <th>asin</th>\n",
       "      <th></th>\n",
       "      <th></th>\n",
       "    </tr>\n",
       "  </thead>\n",
       "  <tbody>\n",
       "    <tr>\n",
       "      <th>B00028O5RY</th>\n",
       "      <td>3.977528</td>\n",
       "      <td>89</td>\n",
       "    </tr>\n",
       "    <tr>\n",
       "      <th>B000E3DXCA</th>\n",
       "      <td>3.862745</td>\n",
       "      <td>51</td>\n",
       "    </tr>\n",
       "    <tr>\n",
       "      <th>B000FAG6X0</th>\n",
       "      <td>4.500000</td>\n",
       "      <td>10</td>\n",
       "    </tr>\n",
       "    <tr>\n",
       "      <th>B0012ZNZF4</th>\n",
       "      <td>3.333333</td>\n",
       "      <td>15</td>\n",
       "    </tr>\n",
       "    <tr>\n",
       "      <th>B0013CA9KK</th>\n",
       "      <td>4.621622</td>\n",
       "      <td>37</td>\n",
       "    </tr>\n",
       "    <tr>\n",
       "      <th>...</th>\n",
       "      <td>...</td>\n",
       "      <td>...</td>\n",
       "    </tr>\n",
       "    <tr>\n",
       "      <th>B0CL3VMWJR</th>\n",
       "      <td>5.000000</td>\n",
       "      <td>1</td>\n",
       "    </tr>\n",
       "    <tr>\n",
       "      <th>B0CL56DM4L</th>\n",
       "      <td>5.000000</td>\n",
       "      <td>1</td>\n",
       "    </tr>\n",
       "    <tr>\n",
       "      <th>B0CL56VDZV</th>\n",
       "      <td>4.000000</td>\n",
       "      <td>2</td>\n",
       "    </tr>\n",
       "    <tr>\n",
       "      <th>B0CL9VMF6K</th>\n",
       "      <td>4.000000</td>\n",
       "      <td>1</td>\n",
       "    </tr>\n",
       "    <tr>\n",
       "      <th>B0CLY65M7V</th>\n",
       "      <td>3.000000</td>\n",
       "      <td>1</td>\n",
       "    </tr>\n",
       "  </tbody>\n",
       "</table>\n",
       "<p>405 rows × 2 columns</p>\n",
       "</div>"
      ],
      "text/plain": [
       "            avg_rating  num_review\n",
       "asin                              \n",
       "B00028O5RY    3.977528          89\n",
       "B000E3DXCA    3.862745          51\n",
       "B000FAG6X0    4.500000          10\n",
       "B0012ZNZF4    3.333333          15\n",
       "B0013CA9KK    4.621622          37\n",
       "...                ...         ...\n",
       "B0CL3VMWJR    5.000000           1\n",
       "B0CL56DM4L    5.000000           1\n",
       "B0CL56VDZV    4.000000           2\n",
       "B0CL9VMF6K    4.000000           1\n",
       "B0CLY65M7V    3.000000           1\n",
       "\n",
       "[405 rows x 2 columns]"
      ]
     },
     "execution_count": 44,
     "metadata": {},
     "output_type": "execute_result"
    }
   ],
   "source": [
    "avg_ratings = reviews.groupby(\"asin\").agg({\"rating\": \"mean\", \"body\": \"size\"})\n",
    "avg_ratings.rename(columns={\"rating\": \"avg_rating\", \"body\": \"num_review\"}, inplace=True)\n",
    "avg_ratings\n"
   ]
  },
  {
   "cell_type": "code",
   "execution_count": 45,
   "metadata": {},
   "outputs": [
    {
     "data": {
      "application/vnd.plotly.v1+json": {
       "config": {
        "plotlyServerURL": "https://plot.ly"
       },
       "data": [
        {
         "hovertemplate": "Average Rating=%{x}<br>Number of Reviews=%{y}<extra></extra>",
         "legendgroup": "",
         "marker": {
          "color": "#FF69B4",
          "symbol": "circle"
         },
         "mode": "markers",
         "name": "",
         "orientation": "v",
         "showlegend": false,
         "type": "scatter",
         "x": [
          3.9775280898876404,
          3.8627450980392157,
          4.5,
          3.3333333333333335,
          4.621621621621622,
          4.410256410256411,
          4.3,
          2,
          3.986111111111111,
          3.971014492753623,
          4.2444444444444445,
          3.8,
          4.7,
          3.857142857142857,
          4.09,
          4.3,
          4.2272727272727275,
          3,
          4.2,
          4,
          4.8,
          3.79,
          5,
          3.8333333333333335,
          2.5833333333333335,
          3.9,
          4.5,
          3.6470588235294117,
          3.9166666666666665,
          3.914285714285714,
          3,
          4.5,
          4.8,
          4.2,
          4.6,
          4.7,
          1,
          4.6,
          4.8,
          4.4,
          4.3,
          4.4,
          4.3,
          5,
          4.11,
          3.6,
          5,
          4.384615384615385,
          4.7,
          3.909090909090909,
          4.3,
          4.4,
          5,
          4.8,
          4.41,
          2.5,
          3.1,
          4.9,
          4.7,
          4.2,
          4.4,
          4,
          4.49,
          3.736842105263158,
          3.3404255319148937,
          4,
          4.285714285714286,
          4.2,
          4.6,
          4.56,
          4.7272727272727275,
          3.6666666666666665,
          4.73,
          4.7,
          4.56,
          4.62,
          4.7,
          4.7,
          4.5,
          4.2,
          4.8,
          4.4,
          4.2,
          4.2,
          4,
          4.9,
          4.2,
          4.6,
          1.8333333333333333,
          4,
          4.333333333333333,
          4.1,
          4.675675675675675,
          4.232323232323233,
          4.25,
          4.333333333333333,
          3.5,
          5,
          5,
          4.42,
          5,
          4.04,
          4.714285714285714,
          4.5,
          3.6666666666666665,
          4.5,
          4.6,
          4.6,
          4.64,
          3.11,
          1,
          4.9,
          4.4,
          4.07,
          3.6,
          4.7,
          4.6,
          3.6956521739130435,
          4.4,
          3.7777777777777777,
          4.666666666666667,
          4.142857142857143,
          4.3,
          4.2,
          4,
          4.8,
          4.5,
          4.230769230769231,
          4.125,
          3.5714285714285716,
          4.423076923076923,
          4.25,
          3.888888888888889,
          4.428571428571429,
          4.052631578947368,
          4.12,
          4.5,
          4.9,
          4.714285714285714,
          4.2592592592592595,
          4.5625,
          3.9,
          5,
          4.140350877192983,
          5,
          4.2,
          3.7,
          3,
          4,
          4.521739130434782,
          4.6,
          3.6,
          4.6,
          4.15,
          5,
          4.37,
          5,
          2.7142857142857144,
          4.344827586206897,
          4.688888888888889,
          4.6,
          2,
          4.209677419354839,
          4.5,
          5,
          4.2,
          4.4,
          4.5,
          3.8,
          4.21,
          4.24,
          4.366666666666666,
          4.1,
          4.7,
          5,
          4,
          4,
          4,
          4,
          4.2,
          3.909090909090909,
          4.7894736842105265,
          4.7,
          4.6,
          4.23,
          4.492753623188406,
          4.23,
          4.2,
          4.6,
          4.928571428571429,
          4.39,
          4.1,
          4.1,
          4.3,
          4.5,
          5,
          4.2,
          4.7,
          4.288888888888889,
          4,
          4.5,
          4.26,
          4.36,
          3.8,
          3.8,
          4.5,
          4.432098765432099,
          4.5,
          3.5,
          4.333333333333333,
          4.7,
          4.45,
          3.5,
          4.6,
          3.5714285714285716,
          4.41,
          4.5,
          4.3,
          5,
          4.6,
          4.6923076923076925,
          4.2727272727272725,
          4.7,
          4.111111111111111,
          4.2,
          4.2,
          3.6666666666666665,
          4.2,
          3.8,
          4.2592592592592595,
          4.15,
          3.5,
          4.2,
          4.6,
          4.42,
          4.5,
          4.7,
          5,
          4.8,
          3.8823529411764706,
          3,
          4.246376811594203,
          4.6,
          3.7,
          4.5,
          5,
          3.5428571428571427,
          4.1,
          2,
          3.4,
          4.9,
          4.9,
          4.115384615384615,
          3.1052631578947367,
          4.5,
          4.9,
          3.64,
          4.875,
          4.9,
          4.1,
          4.9,
          4.575757575757576,
          5,
          3.8,
          2.2222222222222223,
          5,
          4.5,
          5,
          1,
          4.5,
          2.7142857142857144,
          4.7,
          4.775862068965517,
          4.47887323943662,
          4.882352941176471,
          4.682926829268292,
          4.387096774193548,
          4.5,
          4.5,
          4.333333333333333,
          4.1,
          4.4,
          5,
          4.3,
          3.3043478260869565,
          5,
          3.8333333333333335,
          4.5,
          4.5,
          3,
          4.1,
          4.7,
          4.6,
          3.7,
          3.7,
          4.777777777777778,
          4.7,
          4.5,
          3.95,
          4.8,
          4.6,
          4.03,
          4,
          4.666666666666667,
          4.8,
          2.8,
          3.8,
          5,
          5,
          4.4,
          4.7,
          3,
          4.3,
          3,
          4.6,
          3.5,
          1,
          4,
          3.5,
          4.357142857142857,
          4.288888888888889,
          1,
          4.7,
          4.9,
          4.9,
          4.7,
          4,
          4.431818181818182,
          3.58,
          4.5,
          4.204081632653061,
          4.24,
          3,
          3,
          4.085714285714285,
          4.3,
          4.3,
          5,
          4.733333333333333,
          4.2,
          5,
          4.083333333333333,
          4.4,
          3.6,
          4.9,
          4.2,
          4.8,
          4.9,
          4.8,
          2,
          3.9782608695652173,
          4.191780821917808,
          3.923076923076923,
          4,
          4.111111111111111,
          4.375,
          4.7,
          4.3,
          4.9,
          5,
          4.1521739130434785,
          4.1521739130434785,
          1,
          4.8,
          3.6666666666666665,
          4.25,
          4.25,
          4.8,
          5,
          2.6666666666666665,
          4.3,
          4.444444444444445,
          3.5,
          3,
          3.74,
          4.6,
          4.5,
          4.739130434782608,
          4.9,
          4,
          5,
          4.666666666666667,
          5,
          4.777777777777778,
          4.7,
          4,
          3,
          5,
          3.9454545454545453,
          3.7037037037037037,
          3.7037037037037037,
          4.142857142857143,
          5,
          4.7,
          4.25,
          1.6666666666666667,
          4.2727272727272725,
          1,
          5,
          5,
          5,
          5,
          4,
          4,
          3
         ],
         "xaxis": "x",
         "y": [
          89,
          51,
          10,
          15,
          37,
          39,
          10,
          7,
          72,
          69,
          45,
          5,
          10,
          7,
          100,
          10,
          22,
          6,
          10,
          7,
          10,
          100,
          1,
          12,
          12,
          10,
          10,
          17,
          24,
          35,
          1,
          10,
          10,
          10,
          10,
          10,
          1,
          5,
          10,
          10,
          10,
          10,
          10,
          1,
          100,
          5,
          4,
          39,
          10,
          11,
          10,
          20,
          2,
          10,
          100,
          6,
          10,
          10,
          10,
          10,
          10,
          10,
          100,
          19,
          47,
          5,
          21,
          10,
          10,
          100,
          11,
          3,
          100,
          10,
          100,
          100,
          10,
          10,
          10,
          10,
          10,
          10,
          10,
          10,
          20,
          10,
          10,
          100,
          12,
          10,
          3,
          10,
          37,
          99,
          4,
          3,
          2,
          10,
          10,
          100,
          10,
          100,
          28,
          8,
          3,
          10,
          10,
          100,
          100,
          100,
          1,
          10,
          10,
          100,
          10,
          10,
          10,
          23,
          10,
          9,
          18,
          14,
          10,
          15,
          7,
          5,
          6,
          13,
          8,
          7,
          26,
          4,
          9,
          7,
          19,
          25,
          10,
          10,
          7,
          27,
          16,
          10,
          4,
          57,
          1,
          5,
          10,
          3,
          3,
          23,
          10,
          10,
          100,
          20,
          1,
          100,
          2,
          7,
          29,
          90,
          10,
          2,
          62,
          10,
          1,
          10,
          10,
          10,
          10,
          100,
          100,
          90,
          10,
          10,
          1,
          2,
          10,
          10,
          1,
          10,
          33,
          19,
          10,
          10,
          100,
          69,
          100,
          10,
          10,
          14,
          100,
          10,
          10,
          10,
          8,
          4,
          10,
          10,
          45,
          10,
          10,
          100,
          100,
          10,
          10,
          10,
          81,
          10,
          10,
          21,
          10,
          20,
          2,
          10,
          14,
          100,
          10,
          10,
          1,
          10,
          13,
          11,
          10,
          36,
          10,
          10,
          6,
          10,
          10,
          27,
          100,
          10,
          10,
          10,
          100,
          10,
          10,
          1,
          10,
          17,
          1,
          69,
          10,
          10,
          68,
          2,
          70,
          10,
          1,
          10,
          20,
          10,
          52,
          19,
          10,
          10,
          100,
          8,
          10,
          10,
          10,
          99,
          10,
          10,
          9,
          6,
          10,
          3,
          2,
          10,
          7,
          10,
          58,
          71,
          68,
          41,
          31,
          10,
          10,
          12,
          10,
          10,
          7,
          10,
          23,
          3,
          12,
          10,
          10,
          4,
          10,
          10,
          10,
          10,
          10,
          9,
          10,
          6,
          100,
          10,
          10,
          100,
          10,
          3,
          5,
          10,
          5,
          4,
          4,
          10,
          10,
          10,
          10,
          1,
          10,
          10,
          1,
          6,
          4,
          70,
          45,
          1,
          10,
          10,
          10,
          10,
          4,
          44,
          100,
          10,
          49,
          100,
          2,
          2,
          35,
          10,
          10,
          2,
          45,
          5,
          5,
          12,
          10,
          10,
          10,
          10,
          10,
          10,
          10,
          3,
          46,
          73,
          13,
          20,
          18,
          32,
          10,
          10,
          10,
          2,
          46,
          46,
          1,
          10,
          3,
          100,
          100,
          10,
          1,
          3,
          10,
          9,
          2,
          1,
          100,
          10,
          24,
          23,
          10,
          1,
          1,
          3,
          1,
          27,
          10,
          2,
          4,
          1,
          55,
          27,
          27,
          7,
          2,
          10,
          8,
          6,
          88,
          2,
          2,
          1,
          1,
          1,
          2,
          1,
          1
         ],
         "yaxis": "y"
        }
       ],
       "layout": {
        "legend": {
         "tracegroupgap": 0
        },
        "template": {
         "data": {
          "bar": [
           {
            "error_x": {
             "color": "#2a3f5f"
            },
            "error_y": {
             "color": "#2a3f5f"
            },
            "marker": {
             "line": {
              "color": "#E5ECF6",
              "width": 0.5
             },
             "pattern": {
              "fillmode": "overlay",
              "size": 10,
              "solidity": 0.2
             }
            },
            "type": "bar"
           }
          ],
          "barpolar": [
           {
            "marker": {
             "line": {
              "color": "#E5ECF6",
              "width": 0.5
             },
             "pattern": {
              "fillmode": "overlay",
              "size": 10,
              "solidity": 0.2
             }
            },
            "type": "barpolar"
           }
          ],
          "carpet": [
           {
            "aaxis": {
             "endlinecolor": "#2a3f5f",
             "gridcolor": "white",
             "linecolor": "white",
             "minorgridcolor": "white",
             "startlinecolor": "#2a3f5f"
            },
            "baxis": {
             "endlinecolor": "#2a3f5f",
             "gridcolor": "white",
             "linecolor": "white",
             "minorgridcolor": "white",
             "startlinecolor": "#2a3f5f"
            },
            "type": "carpet"
           }
          ],
          "choropleth": [
           {
            "colorbar": {
             "outlinewidth": 0,
             "ticks": ""
            },
            "type": "choropleth"
           }
          ],
          "contour": [
           {
            "colorbar": {
             "outlinewidth": 0,
             "ticks": ""
            },
            "colorscale": [
             [
              0,
              "#0d0887"
             ],
             [
              0.1111111111111111,
              "#46039f"
             ],
             [
              0.2222222222222222,
              "#7201a8"
             ],
             [
              0.3333333333333333,
              "#9c179e"
             ],
             [
              0.4444444444444444,
              "#bd3786"
             ],
             [
              0.5555555555555556,
              "#d8576b"
             ],
             [
              0.6666666666666666,
              "#ed7953"
             ],
             [
              0.7777777777777778,
              "#fb9f3a"
             ],
             [
              0.8888888888888888,
              "#fdca26"
             ],
             [
              1,
              "#f0f921"
             ]
            ],
            "type": "contour"
           }
          ],
          "contourcarpet": [
           {
            "colorbar": {
             "outlinewidth": 0,
             "ticks": ""
            },
            "type": "contourcarpet"
           }
          ],
          "heatmap": [
           {
            "colorbar": {
             "outlinewidth": 0,
             "ticks": ""
            },
            "colorscale": [
             [
              0,
              "#0d0887"
             ],
             [
              0.1111111111111111,
              "#46039f"
             ],
             [
              0.2222222222222222,
              "#7201a8"
             ],
             [
              0.3333333333333333,
              "#9c179e"
             ],
             [
              0.4444444444444444,
              "#bd3786"
             ],
             [
              0.5555555555555556,
              "#d8576b"
             ],
             [
              0.6666666666666666,
              "#ed7953"
             ],
             [
              0.7777777777777778,
              "#fb9f3a"
             ],
             [
              0.8888888888888888,
              "#fdca26"
             ],
             [
              1,
              "#f0f921"
             ]
            ],
            "type": "heatmap"
           }
          ],
          "heatmapgl": [
           {
            "colorbar": {
             "outlinewidth": 0,
             "ticks": ""
            },
            "colorscale": [
             [
              0,
              "#0d0887"
             ],
             [
              0.1111111111111111,
              "#46039f"
             ],
             [
              0.2222222222222222,
              "#7201a8"
             ],
             [
              0.3333333333333333,
              "#9c179e"
             ],
             [
              0.4444444444444444,
              "#bd3786"
             ],
             [
              0.5555555555555556,
              "#d8576b"
             ],
             [
              0.6666666666666666,
              "#ed7953"
             ],
             [
              0.7777777777777778,
              "#fb9f3a"
             ],
             [
              0.8888888888888888,
              "#fdca26"
             ],
             [
              1,
              "#f0f921"
             ]
            ],
            "type": "heatmapgl"
           }
          ],
          "histogram": [
           {
            "marker": {
             "pattern": {
              "fillmode": "overlay",
              "size": 10,
              "solidity": 0.2
             }
            },
            "type": "histogram"
           }
          ],
          "histogram2d": [
           {
            "colorbar": {
             "outlinewidth": 0,
             "ticks": ""
            },
            "colorscale": [
             [
              0,
              "#0d0887"
             ],
             [
              0.1111111111111111,
              "#46039f"
             ],
             [
              0.2222222222222222,
              "#7201a8"
             ],
             [
              0.3333333333333333,
              "#9c179e"
             ],
             [
              0.4444444444444444,
              "#bd3786"
             ],
             [
              0.5555555555555556,
              "#d8576b"
             ],
             [
              0.6666666666666666,
              "#ed7953"
             ],
             [
              0.7777777777777778,
              "#fb9f3a"
             ],
             [
              0.8888888888888888,
              "#fdca26"
             ],
             [
              1,
              "#f0f921"
             ]
            ],
            "type": "histogram2d"
           }
          ],
          "histogram2dcontour": [
           {
            "colorbar": {
             "outlinewidth": 0,
             "ticks": ""
            },
            "colorscale": [
             [
              0,
              "#0d0887"
             ],
             [
              0.1111111111111111,
              "#46039f"
             ],
             [
              0.2222222222222222,
              "#7201a8"
             ],
             [
              0.3333333333333333,
              "#9c179e"
             ],
             [
              0.4444444444444444,
              "#bd3786"
             ],
             [
              0.5555555555555556,
              "#d8576b"
             ],
             [
              0.6666666666666666,
              "#ed7953"
             ],
             [
              0.7777777777777778,
              "#fb9f3a"
             ],
             [
              0.8888888888888888,
              "#fdca26"
             ],
             [
              1,
              "#f0f921"
             ]
            ],
            "type": "histogram2dcontour"
           }
          ],
          "mesh3d": [
           {
            "colorbar": {
             "outlinewidth": 0,
             "ticks": ""
            },
            "type": "mesh3d"
           }
          ],
          "parcoords": [
           {
            "line": {
             "colorbar": {
              "outlinewidth": 0,
              "ticks": ""
             }
            },
            "type": "parcoords"
           }
          ],
          "pie": [
           {
            "automargin": true,
            "type": "pie"
           }
          ],
          "scatter": [
           {
            "fillpattern": {
             "fillmode": "overlay",
             "size": 10,
             "solidity": 0.2
            },
            "type": "scatter"
           }
          ],
          "scatter3d": [
           {
            "line": {
             "colorbar": {
              "outlinewidth": 0,
              "ticks": ""
             }
            },
            "marker": {
             "colorbar": {
              "outlinewidth": 0,
              "ticks": ""
             }
            },
            "type": "scatter3d"
           }
          ],
          "scattercarpet": [
           {
            "marker": {
             "colorbar": {
              "outlinewidth": 0,
              "ticks": ""
             }
            },
            "type": "scattercarpet"
           }
          ],
          "scattergeo": [
           {
            "marker": {
             "colorbar": {
              "outlinewidth": 0,
              "ticks": ""
             }
            },
            "type": "scattergeo"
           }
          ],
          "scattergl": [
           {
            "marker": {
             "colorbar": {
              "outlinewidth": 0,
              "ticks": ""
             }
            },
            "type": "scattergl"
           }
          ],
          "scattermapbox": [
           {
            "marker": {
             "colorbar": {
              "outlinewidth": 0,
              "ticks": ""
             }
            },
            "type": "scattermapbox"
           }
          ],
          "scatterpolar": [
           {
            "marker": {
             "colorbar": {
              "outlinewidth": 0,
              "ticks": ""
             }
            },
            "type": "scatterpolar"
           }
          ],
          "scatterpolargl": [
           {
            "marker": {
             "colorbar": {
              "outlinewidth": 0,
              "ticks": ""
             }
            },
            "type": "scatterpolargl"
           }
          ],
          "scatterternary": [
           {
            "marker": {
             "colorbar": {
              "outlinewidth": 0,
              "ticks": ""
             }
            },
            "type": "scatterternary"
           }
          ],
          "surface": [
           {
            "colorbar": {
             "outlinewidth": 0,
             "ticks": ""
            },
            "colorscale": [
             [
              0,
              "#0d0887"
             ],
             [
              0.1111111111111111,
              "#46039f"
             ],
             [
              0.2222222222222222,
              "#7201a8"
             ],
             [
              0.3333333333333333,
              "#9c179e"
             ],
             [
              0.4444444444444444,
              "#bd3786"
             ],
             [
              0.5555555555555556,
              "#d8576b"
             ],
             [
              0.6666666666666666,
              "#ed7953"
             ],
             [
              0.7777777777777778,
              "#fb9f3a"
             ],
             [
              0.8888888888888888,
              "#fdca26"
             ],
             [
              1,
              "#f0f921"
             ]
            ],
            "type": "surface"
           }
          ],
          "table": [
           {
            "cells": {
             "fill": {
              "color": "#EBF0F8"
             },
             "line": {
              "color": "white"
             }
            },
            "header": {
             "fill": {
              "color": "#C8D4E3"
             },
             "line": {
              "color": "white"
             }
            },
            "type": "table"
           }
          ]
         },
         "layout": {
          "annotationdefaults": {
           "arrowcolor": "#2a3f5f",
           "arrowhead": 0,
           "arrowwidth": 1
          },
          "autotypenumbers": "strict",
          "coloraxis": {
           "colorbar": {
            "outlinewidth": 0,
            "ticks": ""
           }
          },
          "colorscale": {
           "diverging": [
            [
             0,
             "#8e0152"
            ],
            [
             0.1,
             "#c51b7d"
            ],
            [
             0.2,
             "#de77ae"
            ],
            [
             0.3,
             "#f1b6da"
            ],
            [
             0.4,
             "#fde0ef"
            ],
            [
             0.5,
             "#f7f7f7"
            ],
            [
             0.6,
             "#e6f5d0"
            ],
            [
             0.7,
             "#b8e186"
            ],
            [
             0.8,
             "#7fbc41"
            ],
            [
             0.9,
             "#4d9221"
            ],
            [
             1,
             "#276419"
            ]
           ],
           "sequential": [
            [
             0,
             "#0d0887"
            ],
            [
             0.1111111111111111,
             "#46039f"
            ],
            [
             0.2222222222222222,
             "#7201a8"
            ],
            [
             0.3333333333333333,
             "#9c179e"
            ],
            [
             0.4444444444444444,
             "#bd3786"
            ],
            [
             0.5555555555555556,
             "#d8576b"
            ],
            [
             0.6666666666666666,
             "#ed7953"
            ],
            [
             0.7777777777777778,
             "#fb9f3a"
            ],
            [
             0.8888888888888888,
             "#fdca26"
            ],
            [
             1,
             "#f0f921"
            ]
           ],
           "sequentialminus": [
            [
             0,
             "#0d0887"
            ],
            [
             0.1111111111111111,
             "#46039f"
            ],
            [
             0.2222222222222222,
             "#7201a8"
            ],
            [
             0.3333333333333333,
             "#9c179e"
            ],
            [
             0.4444444444444444,
             "#bd3786"
            ],
            [
             0.5555555555555556,
             "#d8576b"
            ],
            [
             0.6666666666666666,
             "#ed7953"
            ],
            [
             0.7777777777777778,
             "#fb9f3a"
            ],
            [
             0.8888888888888888,
             "#fdca26"
            ],
            [
             1,
             "#f0f921"
            ]
           ]
          },
          "colorway": [
           "#636efa",
           "#EF553B",
           "#00cc96",
           "#ab63fa",
           "#FFA15A",
           "#19d3f3",
           "#FF6692",
           "#B6E880",
           "#FF97FF",
           "#FECB52"
          ],
          "font": {
           "color": "#2a3f5f"
          },
          "geo": {
           "bgcolor": "white",
           "lakecolor": "white",
           "landcolor": "#E5ECF6",
           "showlakes": true,
           "showland": true,
           "subunitcolor": "white"
          },
          "hoverlabel": {
           "align": "left"
          },
          "hovermode": "closest",
          "mapbox": {
           "style": "light"
          },
          "paper_bgcolor": "white",
          "plot_bgcolor": "#E5ECF6",
          "polar": {
           "angularaxis": {
            "gridcolor": "white",
            "linecolor": "white",
            "ticks": ""
           },
           "bgcolor": "#E5ECF6",
           "radialaxis": {
            "gridcolor": "white",
            "linecolor": "white",
            "ticks": ""
           }
          },
          "scene": {
           "xaxis": {
            "backgroundcolor": "#E5ECF6",
            "gridcolor": "white",
            "gridwidth": 2,
            "linecolor": "white",
            "showbackground": true,
            "ticks": "",
            "zerolinecolor": "white"
           },
           "yaxis": {
            "backgroundcolor": "#E5ECF6",
            "gridcolor": "white",
            "gridwidth": 2,
            "linecolor": "white",
            "showbackground": true,
            "ticks": "",
            "zerolinecolor": "white"
           },
           "zaxis": {
            "backgroundcolor": "#E5ECF6",
            "gridcolor": "white",
            "gridwidth": 2,
            "linecolor": "white",
            "showbackground": true,
            "ticks": "",
            "zerolinecolor": "white"
           }
          },
          "shapedefaults": {
           "line": {
            "color": "#2a3f5f"
           }
          },
          "ternary": {
           "aaxis": {
            "gridcolor": "white",
            "linecolor": "white",
            "ticks": ""
           },
           "baxis": {
            "gridcolor": "white",
            "linecolor": "white",
            "ticks": ""
           },
           "bgcolor": "#E5ECF6",
           "caxis": {
            "gridcolor": "white",
            "linecolor": "white",
            "ticks": ""
           }
          },
          "title": {
           "x": 0.05
          },
          "xaxis": {
           "automargin": true,
           "gridcolor": "white",
           "linecolor": "white",
           "ticks": "",
           "title": {
            "standoff": 15
           },
           "zerolinecolor": "white",
           "zerolinewidth": 2
          },
          "yaxis": {
           "automargin": true,
           "gridcolor": "white",
           "linecolor": "white",
           "ticks": "",
           "title": {
            "standoff": 15
           },
           "zerolinecolor": "white",
           "zerolinewidth": 2
          }
         }
        },
        "title": {
         "text": "Correlation between Average Rating and Number of Reviews"
        },
        "xaxis": {
         "anchor": "y",
         "domain": [
          0,
          1
         ],
         "title": {
          "text": "Average Rating"
         }
        },
        "yaxis": {
         "anchor": "x",
         "domain": [
          0,
          1
         ],
         "title": {
          "text": "Number of Reviews"
         }
        }
       }
      }
     },
     "metadata": {},
     "output_type": "display_data"
    }
   ],
   "source": [
    "fig6 = px.scatter(\n",
    "    avg_ratings,\n",
    "    x=\"avg_rating\",\n",
    "    y=\"num_review\",\n",
    "    title=\"Correlation between Average Rating and Number of Reviews\",\n",
    "    labels={\"avg_rating\": \"Average Rating\", \"num_review\": \"Number of Reviews\"},\n",
    ")\n",
    "\n",
    "# Set all markers to a specific shade of pink\n",
    "fig6.update_traces(marker=dict(color=\"#FF69B4\"))  # Example: Using Hot Pink\n",
    "\n",
    "fig6.show()\n"
   ]
  },
  {
   "cell_type": "code",
   "execution_count": 46,
   "metadata": {},
   "outputs": [
    {
     "name": "stdout",
     "output_type": "stream",
     "text": [
      "The Pearson correlation coefficient between average rating and number of reviews is: 0.059693198536587756\n"
     ]
    }
   ],
   "source": [
    "correlation = avg_ratings[\"avg_rating\"].corr(avg_ratings[\"num_review\"])\n",
    "print(\n",
    "    f\"The Pearson correlation coefficient between average rating and number of reviews is: {correlation}\"\n",
    ")\n"
   ]
  },
  {
   "cell_type": "markdown",
   "metadata": {},
   "source": [
    "The analysis of the correlation between the average rating of a product and the number of reviews it has reveals a Pearson correlation coefficient close to 0. This outcome indicates a no or weak linear relationship between these two variables. In practical terms, this suggests that the average rating a product receives on Amazon does not strongly influence how many reviews it gets. This could imply that customers are not necessarily more inclined to leave reviews for products with higher or lower ratings. Instead, factors other than the average rating—such as product visibility, marketing strategies, or consumer interest—might play a more significant role in determining the number of reviews a product receives. This finding highlights the complexity of consumer behavior on e-commerce platforms and suggests that encouraging customer reviews may require strategies beyond simply aiming for higher product ratings.\n"
   ]
  },
  {
   "cell_type": "code",
   "execution_count": 47,
   "metadata": {},
   "outputs": [
    {
     "name": "stdout",
     "output_type": "stream",
     "text": [
      "Spearman's rank correlation coefficient: -0.043851631375280115\n",
      "P-value: 0.3787548217055793\n"
     ]
    }
   ],
   "source": [
    "import scipy.stats as stats\n",
    "\n",
    "# Assuming avg_ratings is your DataFrame with 'avg_rating' and 'review_count' columns\n",
    "spearman_corr, spearman_pvalue = stats.spearmanr(\n",
    "    avg_ratings[\"avg_rating\"], avg_ratings[\"num_review\"]\n",
    ")\n",
    "\n",
    "print(f\"Spearman's rank correlation coefficient: {spearman_corr}\")\n",
    "print(f\"P-value: {spearman_pvalue}\")\n"
   ]
  },
  {
   "cell_type": "markdown",
   "metadata": {},
   "source": [
    "The results from Spearman's rank correlation analysis reveal a coefficient of -0.04385, suggesting a very weak inverse relationship between the average rating of a product and the number of reviews it receives. The near-zero value indicates that as the average rating slightly decreases, the number of reviews slightly increases, or vice versa, but this relationship is very weak and likely not meaningful in practice.\n",
    "\n",
    "Moreover, the p-value of 0.37875 exceeds common significance levels (e.g., 0.05), indicating that the observed correlation (or lack thereof) could very well be due to chance. In statistical terms, we fail to reject the null hypothesis of no correlation, meaning there isn't statistically significant evidence to suggest a meaningful non-linear relationship between these two variables based on Spearman's rank correlation analysis.\n",
    "\n",
    "Conclusion:\n",
    "Both linear (Pearson) and non-linear (Spearman) correlation analyses suggest that there is no strong or statistically significant relationship between the average rating of a product and the number of reviews it has.\n"
   ]
  },
  {
   "cell_type": "markdown",
   "metadata": {},
   "source": [
    "#### **E. Price Sensitivity Analysis**\n"
   ]
  },
  {
   "cell_type": "code",
   "execution_count": 48,
   "metadata": {},
   "outputs": [
    {
     "data": {
      "application/vnd.plotly.v1+json": {
       "config": {
        "plotlyServerURL": "https://plot.ly"
       },
       "data": [
        {
         "hovertemplate": "Average Rating=%{x}<br>Price=%{y}<extra></extra>",
         "legendgroup": "",
         "marker": {
          "color": "#FF69B4",
          "symbol": "circle"
         },
         "mode": "markers",
         "name": "",
         "orientation": "v",
         "showlegend": false,
         "type": "scatter",
         "x": [
          4.7,
          4.6,
          4.7,
          4.7,
          4.7,
          4.7,
          4.4,
          4.8,
          4.2,
          4.6,
          4.6,
          4.3,
          4.6,
          4.7,
          4.7,
          4.6,
          4.3,
          4.6,
          4.6,
          4.2,
          4.7,
          4.6,
          4,
          4.3,
          4.5,
          4.1,
          4,
          4.4,
          4.5,
          4.8,
          4.7,
          5,
          4.8,
          3.9,
          4.8,
          4.7,
          4.6,
          4.3,
          5,
          4.4,
          4.3,
          4.6,
          4.4,
          4.4,
          3.2,
          3.7,
          3.8,
          4.7,
          4.2,
          null,
          3.8,
          4.3,
          4.5,
          3.7,
          null,
          4.7,
          4.7,
          3.9,
          4.7,
          4.5,
          4.6,
          4.5,
          4,
          4.8,
          4.5,
          3,
          4,
          null,
          3,
          4.5,
          4.5,
          4.6,
          3.7,
          4.2,
          3.5,
          null,
          4.5,
          4.8,
          null,
          4.6,
          5,
          4,
          null,
          null,
          5,
          null,
          3,
          4.5,
          null,
          null,
          null,
          null,
          4.5,
          4.5,
          null,
          4.7,
          null,
          null,
          null,
          4.2,
          null,
          null,
          null,
          null,
          null,
          null,
          null,
          null,
          null,
          null,
          null,
          null,
          null,
          null,
          null,
          null,
          null,
          null,
          null,
          null,
          null,
          null,
          null,
          null,
          null,
          null,
          null,
          null,
          null,
          null,
          null,
          null,
          null,
          null,
          null,
          null,
          null,
          null,
          null,
          null,
          null,
          null,
          null,
          null,
          null,
          4.7,
          3.9,
          4.7,
          4.5,
          null,
          null,
          4.7,
          4.4,
          3.6,
          4.2,
          4.3,
          4.4,
          4.2,
          3.4,
          4.3,
          4.7,
          2.8,
          4.2,
          4.4,
          3.9,
          3.9,
          4.5,
          4.2,
          4.3,
          4.2,
          3.8,
          4.1,
          null,
          3,
          4.4,
          4.6,
          3.8,
          4.5,
          3.8,
          4.5,
          4,
          4,
          4.5,
          4.4,
          null,
          4.2,
          4.2,
          4.5,
          4.3,
          4.5,
          4.2,
          4.4,
          4.4,
          4.1,
          4.4,
          4.5,
          4.4,
          4.2,
          3.9,
          4.3,
          null,
          3.9,
          4.4,
          4.1,
          4.3,
          4.3,
          4.8,
          4.3,
          4.2,
          4.2,
          4.2,
          null,
          3.7,
          1,
          4.3,
          4.2,
          3.5,
          4.3,
          4.3,
          4.3,
          4.2,
          3.7,
          4.2,
          4.4,
          4.8,
          4.6,
          4.2,
          4,
          4.1,
          4.4,
          4.4,
          4.2,
          4.2,
          3.3,
          4.3,
          4.1,
          4.1,
          4.4,
          4.4,
          5,
          4.3,
          4.4,
          3.7,
          4.1,
          4.3,
          null,
          4.8,
          4.1,
          null,
          null,
          null,
          4.3,
          null,
          4.5,
          3.7,
          null,
          4.4,
          4.4,
          4.6,
          3.5,
          null,
          3.9,
          5,
          4,
          null,
          4.5,
          5,
          4,
          4.3,
          4.1,
          null,
          4.2,
          4.5,
          4.5,
          4.1,
          null,
          null,
          4.9,
          4.4,
          4.3,
          4.2,
          4,
          4.3,
          3.7,
          null,
          null,
          3.8,
          4.3,
          4.3,
          2.8,
          5,
          null,
          4.2,
          null,
          null,
          4.2,
          4.8,
          4.5,
          4.5,
          null,
          4.4,
          2.5,
          4.4,
          null,
          4.3,
          4.4,
          null,
          3.7,
          4.2,
          null,
          4,
          null,
          null,
          2.5,
          3.8,
          3.9,
          2,
          5,
          4.3,
          3.9,
          5,
          4.1,
          5,
          null,
          null,
          3.9,
          null,
          null,
          null,
          null,
          null,
          null,
          3.6,
          4.5,
          4.6,
          4.4,
          5,
          4.3,
          4.3,
          3.9,
          4.1,
          5,
          4.5,
          4.2,
          null,
          null,
          4.2,
          null,
          null,
          null,
          4.1,
          null,
          4.1,
          4.4,
          3.9,
          3.3,
          4.5,
          3.7,
          4.2,
          3.6,
          null,
          4.1,
          1,
          4.2,
          null,
          4.4,
          3.2,
          null,
          4.5,
          3.8,
          4.5,
          4.7,
          4.4,
          4.4,
          4.6,
          4.7,
          4.6,
          4.6,
          4.4,
          4.5,
          4.9,
          4.6,
          4.5,
          4.8,
          4.2,
          4.7,
          4.7,
          4.4,
          4.7,
          5,
          4.6,
          4.5,
          4.8,
          4.3,
          4.5,
          4.6,
          4.5,
          4.3,
          4.7,
          4.5,
          4.5,
          4.6,
          4.6,
          4.5,
          4.7,
          4.6,
          4.7,
          4.3,
          4.6,
          4.5,
          4.7,
          4.6,
          4,
          4.6,
          4.1,
          4.2,
          4.7,
          1,
          4.3,
          4.2,
          4.3,
          4.4,
          4.3,
          4.4,
          4.7,
          4.7,
          4,
          4.3,
          4,
          null,
          4.2,
          4.8,
          4.4,
          4.5,
          4.6,
          null,
          4.6,
          null,
          4.1,
          4.4,
          4.4,
          4.1,
          3.9,
          4.2,
          4.4,
          4.7,
          4.5,
          4.3,
          4.5,
          5,
          4.7,
          4.6,
          4.5,
          5,
          4.6,
          4.4,
          4.7,
          4.2,
          4.7,
          3.9,
          4.7,
          4,
          3.5,
          4.6,
          null,
          4.7,
          4.1,
          4.2,
          4.6,
          4.2,
          4.8,
          4.5,
          4.5,
          3.6,
          4.4,
          4.7,
          4.6,
          4.1,
          4.5,
          null,
          3.8,
          4.4,
          4.5,
          4.4,
          4.6,
          null,
          4.7,
          4.6,
          3.9,
          null,
          4.6,
          4.6,
          4.5,
          4.1,
          4.6,
          4.6,
          4.5,
          4.1,
          4.3,
          4.5,
          4.5,
          4.4,
          4.7,
          3.9,
          4.2,
          4.3,
          3.9,
          4.4,
          4.6,
          null,
          4.5,
          5,
          4.6,
          5,
          3.8,
          4.5,
          4.7,
          4.6,
          4.4,
          4.5,
          4.6,
          4.5,
          5,
          4.5,
          4.2,
          3.6,
          4.7,
          3.7,
          3.5,
          4.1,
          2.9,
          5,
          3.5,
          null,
          4.1,
          4.4,
          4.5,
          4.6,
          3.9,
          5,
          null,
          4.5,
          4.5,
          5,
          5,
          5,
          4.5,
          4.4,
          4.4,
          3.9,
          4,
          4.2,
          4.7,
          4.5,
          4.5,
          4,
          null,
          4.5,
          null,
          null,
          5,
          4.7,
          null,
          null,
          4.8,
          4.3,
          4.8,
          4.9,
          5,
          4.4,
          5,
          4.6,
          null,
          4.2,
          3.7,
          5,
          4.6,
          4.1,
          4.1,
          4.4,
          4.7,
          4.4,
          4.3,
          4.5,
          4,
          4.4,
          4.5,
          3.5,
          3.5,
          4.4,
          4.7,
          4.4,
          4.1,
          4.4,
          5,
          null,
          4.3,
          4.1,
          4.1,
          4.5,
          4.6,
          5,
          3.9,
          4.4,
          null,
          4.7,
          null,
          4.7,
          4.5,
          4.6,
          4.4,
          3.8,
          null,
          4.2,
          null,
          4.2,
          4.2,
          3.1,
          3.9,
          4.1,
          4.5,
          null,
          4.5,
          3.1,
          5,
          4.1,
          4.4,
          4.6,
          3.9,
          4,
          4.3,
          4.3,
          4.4,
          3.9,
          4.7,
          4.2,
          5,
          4.6,
          4.6,
          4.5,
          5,
          4.1,
          4.4,
          4.6,
          4.2,
          4,
          5,
          3.3,
          3.8,
          4.2,
          4.4,
          4.5,
          null,
          null,
          null,
          null,
          4.2,
          4.6,
          4.8,
          4.4,
          null,
          null,
          null,
          3.9,
          5,
          4.4,
          4.9,
          4.6,
          null,
          3.4,
          4.2,
          4.7,
          3.9,
          4.7,
          5,
          null,
          4.5,
          5,
          4.3,
          null,
          3.9,
          null,
          4.3,
          4.5,
          4.3,
          4.6,
          4.4,
          3,
          4.3,
          null,
          5,
          null,
          4,
          4.4,
          4.2,
          4.6,
          4.5,
          3,
          3.9,
          4.4,
          5,
          4.3,
          3.8,
          4.2,
          3,
          4.3,
          4.4,
          null,
          4.4,
          4.5,
          4.6,
          4,
          5,
          4.6,
          5,
          3.3,
          4,
          4.6,
          4.4,
          4.6,
          3.7,
          4.4,
          null,
          5,
          4.2,
          4.6,
          4.3,
          null,
          4.6,
          null,
          4.7,
          4.6,
          null,
          4.6,
          1,
          4.4,
          4.4,
          4.7,
          4.1,
          4.7,
          3.8,
          4.3,
          null,
          4.6,
          4.5,
          3.6,
          4.5,
          4.6,
          4.5,
          5,
          4.1,
          null,
          null,
          4,
          4.6,
          4.8,
          null,
          4.1,
          4.6,
          4.1,
          5,
          null,
          4,
          3.9,
          4.5,
          3.5,
          null,
          null,
          4.5,
          4.5,
          2.4,
          4.5,
          4.1,
          3.5,
          5,
          null,
          null,
          4.5,
          3.6,
          4.8,
          3.8,
          4.5,
          3.8,
          4.4,
          3,
          null,
          4.4,
          null,
          null,
          4.4,
          null,
          null,
          null,
          null,
          4.6,
          4.7,
          5,
          null,
          null,
          5,
          3.7,
          null,
          null,
          null,
          4.5,
          null,
          null,
          null,
          4.2,
          null,
          null,
          4.7,
          4.5,
          null,
          null,
          null,
          4,
          4.3,
          2.8,
          4.4,
          4.5,
          4.5,
          5,
          4.6,
          4,
          null,
          4.2,
          4.8,
          5,
          5,
          3.8,
          4.6,
          4.4,
          4.1,
          4.3,
          4.2,
          4.2,
          4.5,
          4.2,
          3.3,
          4.5,
          4.6,
          4.7,
          4.3,
          4.6,
          4.3,
          4.2,
          3.7,
          4.3,
          4.4,
          4.6,
          4.3,
          null,
          null,
          4.1,
          null,
          4.4,
          4.6,
          4,
          3.7,
          1,
          4.5,
          3.2,
          4.4,
          4.4,
          4,
          4,
          4.5,
          4.4
         ],
         "xaxis": "x",
         "y": [
          2.66,
          3.79,
          3.1,
          2.81,
          4.5,
          3.75,
          4.5,
          3.8,
          4.53,
          6.9,
          11.96,
          14.95,
          7.29,
          4.99,
          4.99,
          5.19,
          5.5,
          9.4,
          25.16,
          7.9,
          9.96,
          null,
          14.94,
          null,
          14.99,
          6.32,
          5.99,
          4.99,
          4.72,
          9.74,
          11.57,
          34.99,
          9.26,
          27.58,
          10.09,
          13.9,
          6.9,
          12.19,
          14.09,
          9.95,
          null,
          11.15,
          8.92,
          49.95,
          5.99,
          10.2,
          19.99,
          7.99,
          11.99,
          8.99,
          7.99,
          25.9,
          null,
          19.96,
          54.99,
          2.06,
          19.98,
          51.87,
          12.36,
          2.45,
          13.99,
          28.81,
          19.44,
          11.87,
          6.98,
          59.9,
          26.52,
          26.94,
          24.76,
          23.36,
          25.19,
          10.28,
          24.99,
          23.24,
          12.23,
          14.99,
          15.99,
          9.2,
          20.41,
          8.32,
          11.93,
          12.49,
          17.69,
          13.76,
          6.89,
          15.92,
          11.45,
          null,
          15.29,
          15.11,
          14.44,
          13.92,
          8.13,
          null,
          12.5,
          7.99,
          12.09,
          11.98,
          12.09,
          null,
          10.88,
          10.88,
          10.65,
          10.88,
          10.88,
          10.88,
          10.88,
          10.37,
          10.29,
          9.89,
          9.94,
          9.49,
          9.98,
          8.87,
          8.09,
          8.13,
          7.64,
          7.23,
          6.77,
          6.99,
          6.96,
          6.62,
          7.24,
          7.32,
          6.76,
          6.69,
          6.89,
          5.98,
          6.98,
          5.7,
          5.98,
          5.76,
          4.99,
          4.99,
          4.18,
          3.98,
          3.98,
          3.79,
          2.98,
          10.37,
          10.88,
          10.88,
          10.88,
          10.88,
          10.88,
          7.72,
          9.23,
          null,
          8.57,
          12.09,
          5.18,
          6.39,
          null,
          5.13,
          11.9,
          15.04,
          11.99,
          15.6,
          18.84,
          14.99,
          27.96,
          10.99,
          7.99,
          10.16,
          17.9,
          7.99,
          25.99,
          14.99,
          15.9,
          27.57,
          14.49,
          7.99,
          7.99,
          9.99,
          22.64,
          19.99,
          26,
          42.9,
          7.99,
          21.29,
          14.99,
          37.88,
          42.08,
          49.95,
          9.99,
          42.9,
          26.88,
          37.45,
          14.99,
          15.99,
          23.35,
          33.31,
          25.89,
          11.36,
          39.04,
          25.64,
          35.93,
          39.99,
          29.95,
          27.99,
          14.99,
          29.95,
          17.27,
          20.68,
          24.47,
          19.95,
          13.21,
          25.63,
          20.71,
          10.79,
          17.99,
          15.99,
          10.86,
          7.99,
          44.19,
          15.99,
          26.95,
          17.27,
          25,
          15.16,
          20.28,
          24.99,
          18.99,
          15.22,
          19.24,
          21.24,
          21.75,
          12.42,
          15.57,
          44.19,
          21.81,
          11.35,
          29.95,
          12.99,
          19.9,
          20.87,
          18.99,
          33.6,
          19.11,
          14.99,
          19.99,
          18.53,
          42.93,
          11.9,
          16.54,
          14.59,
          13.72,
          12.9,
          6.99,
          11.99,
          17.14,
          12.5,
          10.99,
          27.18,
          14.99,
          15.1,
          41,
          16.99,
          11.95,
          14.32,
          11.42,
          7.21,
          12.99,
          8.99,
          10.99,
          8.99,
          13.69,
          12.04,
          11.06,
          40.3,
          13.85,
          32.57,
          11.13,
          28.03,
          29.89,
          10.32,
          11.67,
          11.72,
          25,
          11.94,
          30.49,
          null,
          27.94,
          9.99,
          10.99,
          11.03,
          27.94,
          11.12,
          14.99,
          18.77,
          13.99,
          9.04,
          9.99,
          20.99,
          20.65,
          19.99,
          24.74,
          15.99,
          17.39,
          8,
          25,
          6.99,
          16.54,
          12.49,
          17.99,
          21,
          11.66,
          14.9,
          19.9,
          12.99,
          19.95,
          16.42,
          15.59,
          15.99,
          14.11,
          11.01,
          13.99,
          15.99,
          15.22,
          11.34,
          12.99,
          12.99,
          12.99,
          11.99,
          9.99,
          9.99,
          8.77,
          9.49,
          3.49,
          6.83,
          6.9,
          6.85,
          13.99,
          19.5,
          29.14,
          36.9,
          18.89,
          20.87,
          14.9,
          24.99,
          29.76,
          21.22,
          15.15,
          18.28,
          11.99,
          9.99,
          14.9,
          19.9,
          19.9,
          19.9,
          13.06,
          20.59,
          16.36,
          28.2,
          35.99,
          10.64,
          4.98,
          22,
          24.9,
          22,
          9.99,
          15.99,
          13.99,
          29.58,
          62.5,
          28.2,
          26.43,
          27.94,
          27.68,
          25.94,
          17.73,
          1.98,
          1.79,
          2.4,
          1.99,
          3.49,
          1.55,
          2.36,
          2.99,
          2.69,
          3.75,
          2.17,
          2.02,
          3.98,
          4.58,
          22.53,
          23.6,
          2.91,
          22.39,
          2.5,
          14.5,
          35.56,
          25.74,
          2.95,
          2.95,
          39,
          33.52,
          19.03,
          3.98,
          28.09,
          23.99,
          9.19,
          null,
          34.97,
          55.65,
          37.35,
          30.09,
          59.97,
          18.5,
          3.99,
          null,
          28.14,
          34.9,
          null,
          28,
          39.45,
          2.79,
          32.12,
          32.99,
          25.99,
          28.99,
          29.99,
          3.5,
          29.9,
          25,
          9.98,
          25.99,
          31.5,
          29.9,
          31.11,
          26.9,
          16.5,
          5.64,
          24.99,
          21.45,
          26.4,
          19.99,
          26.11,
          19.25,
          22.99,
          15.4,
          23,
          24.99,
          26.12,
          20.99,
          14.99,
          14.24,
          20.99,
          null,
          3.58,
          16.14,
          14.99,
          20.69,
          null,
          2.79,
          19.82,
          10.99,
          32.55,
          30.8,
          19.99,
          17.3,
          1.69,
          20.08,
          14.99,
          16.99,
          34.67,
          3.99,
          19.29,
          16.99,
          36.35,
          31.09,
          10.9,
          3.12,
          16.99,
          15.24,
          14.99,
          10.8,
          1.69,
          30,
          18.39,
          14.9,
          12.6,
          2.99,
          14.87,
          15.24,
          12.99,
          2.79,
          1.45,
          1.79,
          14.16,
          6.29,
          5.5,
          15.88,
          5.54,
          12.22,
          5.35,
          1.99,
          12.99,
          14.99,
          9.88,
          7.7,
          8.18,
          1.69,
          3.49,
          1.99,
          11.89,
          10.33,
          8.99,
          7.99,
          7.5,
          19.49,
          3.19,
          6.89,
          4.19,
          15.99,
          null,
          6.82,
          9.49,
          7.63,
          19.99,
          9,
          13.9,
          3.39,
          9.06,
          9.69,
          7.3,
          6.79,
          9.07,
          4.56,
          8.4,
          7.49,
          null,
          14.9,
          7.59,
          16.78,
          1.89,
          5.99,
          4.85,
          4.49,
          5.49,
          10.99,
          5.88,
          3.33,
          7.86,
          5.5,
          3.7,
          9.22,
          6.99,
          1.13,
          3,
          36,
          39.97,
          null,
          6.05,
          6.05,
          19.99,
          33.99,
          3.18,
          35.99,
          17.68,
          19.22,
          null,
          null,
          null,
          21.8,
          3.69,
          29.45,
          25.95,
          13.79,
          4.98,
          15.86,
          5.36,
          null,
          5.99,
          12,
          18.9,
          1.86,
          2.95,
          1.98,
          3.82,
          22,
          2.34,
          19.92,
          17.6,
          15.5,
          21.85,
          9.54,
          23.1,
          3.2,
          3.95,
          15.99,
          3.11,
          69.9,
          43.97,
          3.77,
          44,
          47.97,
          9.99,
          17.99,
          11.41,
          26.78,
          34.86,
          37.97,
          30.9,
          39.01,
          34.92,
          34.99,
          39.95,
          null,
          20.24,
          27.44,
          8.74,
          28.99,
          25.99,
          25.29,
          19.99,
          13.99,
          15.05,
          20.99,
          21.57,
          19.9,
          23.99,
          3.59,
          24.9,
          29.89,
          22.99,
          18.32,
          20.87,
          21.18,
          19.9,
          6.74,
          14.9,
          18.04,
          3.49,
          null,
          13.9,
          13.2,
          63,
          13.3,
          9.99,
          5.58,
          7.9,
          1.69,
          null,
          52,
          11.97,
          8.99,
          9.99,
          1.49,
          25.78,
          9.99,
          20.99,
          44,
          37.99,
          52.89,
          5.9,
          3.09,
          9.8,
          33.25,
          35.99,
          9.99,
          37.2,
          37.99,
          10.8,
          33.95,
          null,
          15.58,
          7.96,
          47.56,
          9.95,
          26.9,
          16.05,
          4.09,
          7.44,
          40.47,
          35.71,
          9.7,
          32.98,
          7.22,
          6.95,
          25.9,
          25,
          18.26,
          25.48,
          3.69,
          5.24,
          7.45,
          25.44,
          null,
          2.99,
          15.99,
          5.5,
          14.09,
          2.95,
          3.69,
          2.99,
          20.1,
          23.15,
          2.19,
          9.99,
          16.12,
          19.99,
          8.5,
          8.5,
          19.9,
          15.63,
          17.77,
          2.2,
          8.54,
          8.9,
          6.7,
          7.99,
          5.36,
          9.07,
          8.25,
          17.06,
          5.05,
          3.4,
          7.93,
          7.75,
          15.39,
          null,
          15.19,
          3.99,
          null,
          5.9,
          10.09,
          14.72,
          14.32,
          11.48,
          7,
          9.99,
          15,
          12.99,
          12.99,
          4.75,
          8.9,
          9.74,
          10.97,
          6.5,
          8.5,
          11.97,
          9.99,
          6.85,
          9.15,
          11.47,
          11.49,
          10.62,
          6.5,
          11.71,
          8.35,
          null,
          10.54,
          8.95,
          7.99,
          8.15,
          11.12,
          10.99,
          8.9,
          null,
          4.49,
          4.5,
          8.37,
          8.9,
          8.64,
          9.95,
          8.99,
          6.49,
          8.17,
          3.69,
          6.84,
          6.5,
          8.12,
          7.15,
          7.86,
          5.9,
          7.52,
          7.25,
          9.45,
          6.78,
          3.24,
          5.59,
          4,
          4.9,
          4.39,
          4.67,
          5.91,
          5,
          4.71,
          4.98,
          3.47,
          37.99,
          10.99,
          33.99,
          11.81,
          18.86,
          null,
          19,
          52.89,
          12,
          2.82,
          37.2,
          23.8,
          47.56,
          7.99,
          9.99,
          47.56,
          47.56,
          12.9,
          null,
          14.05,
          null,
          4.23,
          20.5,
          null,
          42.5,
          21.99,
          5.9,
          8.53,
          11.01,
          4.86,
          null,
          17,
          16.55,
          11.9,
          47.5,
          3.85,
          12.89,
          6.84,
          24.9,
          6.49,
          1.72,
          43.97,
          20.99,
          49.99,
          18.99,
          11.99,
          9.74,
          19.56,
          18.23,
          15.16,
          24.15,
          3.6,
          19.99,
          10,
          16.9,
          7.9,
          23.39,
          29.9,
          10.04,
          6.9,
          14.29,
          3.98,
          19.9,
          22.99,
          60.19,
          12.07,
          null,
          null,
          null,
          13.42,
          null,
          null,
          null,
          null,
          12,
          20.99,
          null,
          6.5
         ],
         "yaxis": "y"
        }
       ],
       "layout": {
        "legend": {
         "tracegroupgap": 0
        },
        "template": {
         "data": {
          "bar": [
           {
            "error_x": {
             "color": "#2a3f5f"
            },
            "error_y": {
             "color": "#2a3f5f"
            },
            "marker": {
             "line": {
              "color": "#E5ECF6",
              "width": 0.5
             },
             "pattern": {
              "fillmode": "overlay",
              "size": 10,
              "solidity": 0.2
             }
            },
            "type": "bar"
           }
          ],
          "barpolar": [
           {
            "marker": {
             "line": {
              "color": "#E5ECF6",
              "width": 0.5
             },
             "pattern": {
              "fillmode": "overlay",
              "size": 10,
              "solidity": 0.2
             }
            },
            "type": "barpolar"
           }
          ],
          "carpet": [
           {
            "aaxis": {
             "endlinecolor": "#2a3f5f",
             "gridcolor": "white",
             "linecolor": "white",
             "minorgridcolor": "white",
             "startlinecolor": "#2a3f5f"
            },
            "baxis": {
             "endlinecolor": "#2a3f5f",
             "gridcolor": "white",
             "linecolor": "white",
             "minorgridcolor": "white",
             "startlinecolor": "#2a3f5f"
            },
            "type": "carpet"
           }
          ],
          "choropleth": [
           {
            "colorbar": {
             "outlinewidth": 0,
             "ticks": ""
            },
            "type": "choropleth"
           }
          ],
          "contour": [
           {
            "colorbar": {
             "outlinewidth": 0,
             "ticks": ""
            },
            "colorscale": [
             [
              0,
              "#0d0887"
             ],
             [
              0.1111111111111111,
              "#46039f"
             ],
             [
              0.2222222222222222,
              "#7201a8"
             ],
             [
              0.3333333333333333,
              "#9c179e"
             ],
             [
              0.4444444444444444,
              "#bd3786"
             ],
             [
              0.5555555555555556,
              "#d8576b"
             ],
             [
              0.6666666666666666,
              "#ed7953"
             ],
             [
              0.7777777777777778,
              "#fb9f3a"
             ],
             [
              0.8888888888888888,
              "#fdca26"
             ],
             [
              1,
              "#f0f921"
             ]
            ],
            "type": "contour"
           }
          ],
          "contourcarpet": [
           {
            "colorbar": {
             "outlinewidth": 0,
             "ticks": ""
            },
            "type": "contourcarpet"
           }
          ],
          "heatmap": [
           {
            "colorbar": {
             "outlinewidth": 0,
             "ticks": ""
            },
            "colorscale": [
             [
              0,
              "#0d0887"
             ],
             [
              0.1111111111111111,
              "#46039f"
             ],
             [
              0.2222222222222222,
              "#7201a8"
             ],
             [
              0.3333333333333333,
              "#9c179e"
             ],
             [
              0.4444444444444444,
              "#bd3786"
             ],
             [
              0.5555555555555556,
              "#d8576b"
             ],
             [
              0.6666666666666666,
              "#ed7953"
             ],
             [
              0.7777777777777778,
              "#fb9f3a"
             ],
             [
              0.8888888888888888,
              "#fdca26"
             ],
             [
              1,
              "#f0f921"
             ]
            ],
            "type": "heatmap"
           }
          ],
          "heatmapgl": [
           {
            "colorbar": {
             "outlinewidth": 0,
             "ticks": ""
            },
            "colorscale": [
             [
              0,
              "#0d0887"
             ],
             [
              0.1111111111111111,
              "#46039f"
             ],
             [
              0.2222222222222222,
              "#7201a8"
             ],
             [
              0.3333333333333333,
              "#9c179e"
             ],
             [
              0.4444444444444444,
              "#bd3786"
             ],
             [
              0.5555555555555556,
              "#d8576b"
             ],
             [
              0.6666666666666666,
              "#ed7953"
             ],
             [
              0.7777777777777778,
              "#fb9f3a"
             ],
             [
              0.8888888888888888,
              "#fdca26"
             ],
             [
              1,
              "#f0f921"
             ]
            ],
            "type": "heatmapgl"
           }
          ],
          "histogram": [
           {
            "marker": {
             "pattern": {
              "fillmode": "overlay",
              "size": 10,
              "solidity": 0.2
             }
            },
            "type": "histogram"
           }
          ],
          "histogram2d": [
           {
            "colorbar": {
             "outlinewidth": 0,
             "ticks": ""
            },
            "colorscale": [
             [
              0,
              "#0d0887"
             ],
             [
              0.1111111111111111,
              "#46039f"
             ],
             [
              0.2222222222222222,
              "#7201a8"
             ],
             [
              0.3333333333333333,
              "#9c179e"
             ],
             [
              0.4444444444444444,
              "#bd3786"
             ],
             [
              0.5555555555555556,
              "#d8576b"
             ],
             [
              0.6666666666666666,
              "#ed7953"
             ],
             [
              0.7777777777777778,
              "#fb9f3a"
             ],
             [
              0.8888888888888888,
              "#fdca26"
             ],
             [
              1,
              "#f0f921"
             ]
            ],
            "type": "histogram2d"
           }
          ],
          "histogram2dcontour": [
           {
            "colorbar": {
             "outlinewidth": 0,
             "ticks": ""
            },
            "colorscale": [
             [
              0,
              "#0d0887"
             ],
             [
              0.1111111111111111,
              "#46039f"
             ],
             [
              0.2222222222222222,
              "#7201a8"
             ],
             [
              0.3333333333333333,
              "#9c179e"
             ],
             [
              0.4444444444444444,
              "#bd3786"
             ],
             [
              0.5555555555555556,
              "#d8576b"
             ],
             [
              0.6666666666666666,
              "#ed7953"
             ],
             [
              0.7777777777777778,
              "#fb9f3a"
             ],
             [
              0.8888888888888888,
              "#fdca26"
             ],
             [
              1,
              "#f0f921"
             ]
            ],
            "type": "histogram2dcontour"
           }
          ],
          "mesh3d": [
           {
            "colorbar": {
             "outlinewidth": 0,
             "ticks": ""
            },
            "type": "mesh3d"
           }
          ],
          "parcoords": [
           {
            "line": {
             "colorbar": {
              "outlinewidth": 0,
              "ticks": ""
             }
            },
            "type": "parcoords"
           }
          ],
          "pie": [
           {
            "automargin": true,
            "type": "pie"
           }
          ],
          "scatter": [
           {
            "fillpattern": {
             "fillmode": "overlay",
             "size": 10,
             "solidity": 0.2
            },
            "type": "scatter"
           }
          ],
          "scatter3d": [
           {
            "line": {
             "colorbar": {
              "outlinewidth": 0,
              "ticks": ""
             }
            },
            "marker": {
             "colorbar": {
              "outlinewidth": 0,
              "ticks": ""
             }
            },
            "type": "scatter3d"
           }
          ],
          "scattercarpet": [
           {
            "marker": {
             "colorbar": {
              "outlinewidth": 0,
              "ticks": ""
             }
            },
            "type": "scattercarpet"
           }
          ],
          "scattergeo": [
           {
            "marker": {
             "colorbar": {
              "outlinewidth": 0,
              "ticks": ""
             }
            },
            "type": "scattergeo"
           }
          ],
          "scattergl": [
           {
            "marker": {
             "colorbar": {
              "outlinewidth": 0,
              "ticks": ""
             }
            },
            "type": "scattergl"
           }
          ],
          "scattermapbox": [
           {
            "marker": {
             "colorbar": {
              "outlinewidth": 0,
              "ticks": ""
             }
            },
            "type": "scattermapbox"
           }
          ],
          "scatterpolar": [
           {
            "marker": {
             "colorbar": {
              "outlinewidth": 0,
              "ticks": ""
             }
            },
            "type": "scatterpolar"
           }
          ],
          "scatterpolargl": [
           {
            "marker": {
             "colorbar": {
              "outlinewidth": 0,
              "ticks": ""
             }
            },
            "type": "scatterpolargl"
           }
          ],
          "scatterternary": [
           {
            "marker": {
             "colorbar": {
              "outlinewidth": 0,
              "ticks": ""
             }
            },
            "type": "scatterternary"
           }
          ],
          "surface": [
           {
            "colorbar": {
             "outlinewidth": 0,
             "ticks": ""
            },
            "colorscale": [
             [
              0,
              "#0d0887"
             ],
             [
              0.1111111111111111,
              "#46039f"
             ],
             [
              0.2222222222222222,
              "#7201a8"
             ],
             [
              0.3333333333333333,
              "#9c179e"
             ],
             [
              0.4444444444444444,
              "#bd3786"
             ],
             [
              0.5555555555555556,
              "#d8576b"
             ],
             [
              0.6666666666666666,
              "#ed7953"
             ],
             [
              0.7777777777777778,
              "#fb9f3a"
             ],
             [
              0.8888888888888888,
              "#fdca26"
             ],
             [
              1,
              "#f0f921"
             ]
            ],
            "type": "surface"
           }
          ],
          "table": [
           {
            "cells": {
             "fill": {
              "color": "#EBF0F8"
             },
             "line": {
              "color": "white"
             }
            },
            "header": {
             "fill": {
              "color": "#C8D4E3"
             },
             "line": {
              "color": "white"
             }
            },
            "type": "table"
           }
          ]
         },
         "layout": {
          "annotationdefaults": {
           "arrowcolor": "#2a3f5f",
           "arrowhead": 0,
           "arrowwidth": 1
          },
          "autotypenumbers": "strict",
          "coloraxis": {
           "colorbar": {
            "outlinewidth": 0,
            "ticks": ""
           }
          },
          "colorscale": {
           "diverging": [
            [
             0,
             "#8e0152"
            ],
            [
             0.1,
             "#c51b7d"
            ],
            [
             0.2,
             "#de77ae"
            ],
            [
             0.3,
             "#f1b6da"
            ],
            [
             0.4,
             "#fde0ef"
            ],
            [
             0.5,
             "#f7f7f7"
            ],
            [
             0.6,
             "#e6f5d0"
            ],
            [
             0.7,
             "#b8e186"
            ],
            [
             0.8,
             "#7fbc41"
            ],
            [
             0.9,
             "#4d9221"
            ],
            [
             1,
             "#276419"
            ]
           ],
           "sequential": [
            [
             0,
             "#0d0887"
            ],
            [
             0.1111111111111111,
             "#46039f"
            ],
            [
             0.2222222222222222,
             "#7201a8"
            ],
            [
             0.3333333333333333,
             "#9c179e"
            ],
            [
             0.4444444444444444,
             "#bd3786"
            ],
            [
             0.5555555555555556,
             "#d8576b"
            ],
            [
             0.6666666666666666,
             "#ed7953"
            ],
            [
             0.7777777777777778,
             "#fb9f3a"
            ],
            [
             0.8888888888888888,
             "#fdca26"
            ],
            [
             1,
             "#f0f921"
            ]
           ],
           "sequentialminus": [
            [
             0,
             "#0d0887"
            ],
            [
             0.1111111111111111,
             "#46039f"
            ],
            [
             0.2222222222222222,
             "#7201a8"
            ],
            [
             0.3333333333333333,
             "#9c179e"
            ],
            [
             0.4444444444444444,
             "#bd3786"
            ],
            [
             0.5555555555555556,
             "#d8576b"
            ],
            [
             0.6666666666666666,
             "#ed7953"
            ],
            [
             0.7777777777777778,
             "#fb9f3a"
            ],
            [
             0.8888888888888888,
             "#fdca26"
            ],
            [
             1,
             "#f0f921"
            ]
           ]
          },
          "colorway": [
           "#636efa",
           "#EF553B",
           "#00cc96",
           "#ab63fa",
           "#FFA15A",
           "#19d3f3",
           "#FF6692",
           "#B6E880",
           "#FF97FF",
           "#FECB52"
          ],
          "font": {
           "color": "#2a3f5f"
          },
          "geo": {
           "bgcolor": "white",
           "lakecolor": "white",
           "landcolor": "#E5ECF6",
           "showlakes": true,
           "showland": true,
           "subunitcolor": "white"
          },
          "hoverlabel": {
           "align": "left"
          },
          "hovermode": "closest",
          "mapbox": {
           "style": "light"
          },
          "paper_bgcolor": "white",
          "plot_bgcolor": "#E5ECF6",
          "polar": {
           "angularaxis": {
            "gridcolor": "white",
            "linecolor": "white",
            "ticks": ""
           },
           "bgcolor": "#E5ECF6",
           "radialaxis": {
            "gridcolor": "white",
            "linecolor": "white",
            "ticks": ""
           }
          },
          "scene": {
           "xaxis": {
            "backgroundcolor": "#E5ECF6",
            "gridcolor": "white",
            "gridwidth": 2,
            "linecolor": "white",
            "showbackground": true,
            "ticks": "",
            "zerolinecolor": "white"
           },
           "yaxis": {
            "backgroundcolor": "#E5ECF6",
            "gridcolor": "white",
            "gridwidth": 2,
            "linecolor": "white",
            "showbackground": true,
            "ticks": "",
            "zerolinecolor": "white"
           },
           "zaxis": {
            "backgroundcolor": "#E5ECF6",
            "gridcolor": "white",
            "gridwidth": 2,
            "linecolor": "white",
            "showbackground": true,
            "ticks": "",
            "zerolinecolor": "white"
           }
          },
          "shapedefaults": {
           "line": {
            "color": "#2a3f5f"
           }
          },
          "ternary": {
           "aaxis": {
            "gridcolor": "white",
            "linecolor": "white",
            "ticks": ""
           },
           "baxis": {
            "gridcolor": "white",
            "linecolor": "white",
            "ticks": ""
           },
           "bgcolor": "#E5ECF6",
           "caxis": {
            "gridcolor": "white",
            "linecolor": "white",
            "ticks": ""
           }
          },
          "title": {
           "x": 0.05
          },
          "xaxis": {
           "automargin": true,
           "gridcolor": "white",
           "linecolor": "white",
           "ticks": "",
           "title": {
            "standoff": 15
           },
           "zerolinecolor": "white",
           "zerolinewidth": 2
          },
          "yaxis": {
           "automargin": true,
           "gridcolor": "white",
           "linecolor": "white",
           "ticks": "",
           "title": {
            "standoff": 15
           },
           "zerolinecolor": "white",
           "zerolinewidth": 2
          }
         }
        },
        "title": {
         "text": "Correlation between Average Rating and price of product"
        },
        "xaxis": {
         "anchor": "y",
         "domain": [
          0,
          1
         ],
         "title": {
          "text": "Average Rating"
         }
        },
        "yaxis": {
         "anchor": "x",
         "domain": [
          0,
          1
         ],
         "title": {
          "text": "Price"
         }
        }
       }
      }
     },
     "metadata": {},
     "output_type": "display_data"
    }
   ],
   "source": [
    "fig9 = px.scatter(\n",
    "    products_df,\n",
    "    x=\"avg_rating\",\n",
    "    y=\"price\",\n",
    "    title=\"Correlation between Average Rating and price of product\",\n",
    "    labels={\"avg_rating\": \"Average Rating\", \"price\": \"Price\"},\n",
    ")\n",
    "\n",
    "# Set all markers to a specific shade of pink\n",
    "fig9.update_traces(marker=dict(color=\"#FF69B4\"))  # Example: Using Hot Pink\n",
    "\n",
    "fig9.show()\n"
   ]
  },
  {
   "cell_type": "code",
   "execution_count": 49,
   "metadata": {},
   "outputs": [],
   "source": [
    "corr = products_df.dropna()\n"
   ]
  },
  {
   "cell_type": "code",
   "execution_count": 50,
   "metadata": {},
   "outputs": [
    {
     "name": "stdout",
     "output_type": "stream",
     "text": [
      "Spearman's rank correlation coefficient: 0.13668414841201879\n",
      "P-value: 0.14522481713308405\n"
     ]
    }
   ],
   "source": [
    "import scipy.stats as stats\n",
    "\n",
    "# Assuming avg_ratings is your DataFrame with 'avg_rating' and 'review_count' columns\n",
    "spearman_corr, spearman_pvalue = stats.spearmanr(\n",
    "    corr[\"avg_rating\"], corr[\"num_reviews\"]\n",
    ")\n",
    "\n",
    "print(f\"Spearman's rank correlation coefficient: {spearman_corr}\")\n",
    "print(f\"P-value: {spearman_pvalue}\")\n"
   ]
  },
  {
   "cell_type": "markdown",
   "metadata": {},
   "source": [
    "While there appears to be a slight positive relationship between the average rating of products and the number of reviews they receive, this correlation is not strong and not statistically significant based on the data provided.\n"
   ]
  },
  {
   "cell_type": "markdown",
   "metadata": {},
   "source": [
    "##### **F. Brand Analysis**\n"
   ]
  },
  {
   "cell_type": "code",
   "execution_count": 51,
   "metadata": {},
   "outputs": [],
   "source": [
    "brand_counts = products_df.groupby(\"brand\").size().reset_index()\n",
    "brand_counts.rename(columns={0: \"n_products\"}, inplace=True)\n",
    "brand_counts = brand_counts.sort_values(by=\"n_products\", ascending=False)\n",
    "top5_global_brands = brand_counts.head()\n"
   ]
  },
  {
   "cell_type": "code",
   "execution_count": 52,
   "metadata": {},
   "outputs": [
    {
     "data": {
      "application/vnd.plotly.v1+json": {
       "config": {
        "plotlyServerURL": "https://plot.ly"
       },
       "data": [
        {
         "alignmentgroup": "True",
         "hovertemplate": "Brand=%{x}<br>Number of Product=%{y}<extra></extra>",
         "legendgroup": "",
         "marker": {
          "color": "#FF69B4",
          "pattern": {
           "shape": ""
          }
         },
         "name": "",
         "offsetgroup": "",
         "orientation": "v",
         "showlegend": false,
         "textposition": "auto",
         "type": "bar",
         "x": [
          "Always",
          "LUNA",
          "Carefree",
          "Natracare",
          "Vania"
         ],
         "xaxis": "x",
         "y": [
          92,
          33,
          28,
          27,
          25
         ],
         "yaxis": "y"
        }
       ],
       "layout": {
        "barmode": "relative",
        "legend": {
         "tracegroupgap": 0
        },
        "template": {
         "data": {
          "bar": [
           {
            "error_x": {
             "color": "#2a3f5f"
            },
            "error_y": {
             "color": "#2a3f5f"
            },
            "marker": {
             "line": {
              "color": "#E5ECF6",
              "width": 0.5
             },
             "pattern": {
              "fillmode": "overlay",
              "size": 10,
              "solidity": 0.2
             }
            },
            "type": "bar"
           }
          ],
          "barpolar": [
           {
            "marker": {
             "line": {
              "color": "#E5ECF6",
              "width": 0.5
             },
             "pattern": {
              "fillmode": "overlay",
              "size": 10,
              "solidity": 0.2
             }
            },
            "type": "barpolar"
           }
          ],
          "carpet": [
           {
            "aaxis": {
             "endlinecolor": "#2a3f5f",
             "gridcolor": "white",
             "linecolor": "white",
             "minorgridcolor": "white",
             "startlinecolor": "#2a3f5f"
            },
            "baxis": {
             "endlinecolor": "#2a3f5f",
             "gridcolor": "white",
             "linecolor": "white",
             "minorgridcolor": "white",
             "startlinecolor": "#2a3f5f"
            },
            "type": "carpet"
           }
          ],
          "choropleth": [
           {
            "colorbar": {
             "outlinewidth": 0,
             "ticks": ""
            },
            "type": "choropleth"
           }
          ],
          "contour": [
           {
            "colorbar": {
             "outlinewidth": 0,
             "ticks": ""
            },
            "colorscale": [
             [
              0,
              "#0d0887"
             ],
             [
              0.1111111111111111,
              "#46039f"
             ],
             [
              0.2222222222222222,
              "#7201a8"
             ],
             [
              0.3333333333333333,
              "#9c179e"
             ],
             [
              0.4444444444444444,
              "#bd3786"
             ],
             [
              0.5555555555555556,
              "#d8576b"
             ],
             [
              0.6666666666666666,
              "#ed7953"
             ],
             [
              0.7777777777777778,
              "#fb9f3a"
             ],
             [
              0.8888888888888888,
              "#fdca26"
             ],
             [
              1,
              "#f0f921"
             ]
            ],
            "type": "contour"
           }
          ],
          "contourcarpet": [
           {
            "colorbar": {
             "outlinewidth": 0,
             "ticks": ""
            },
            "type": "contourcarpet"
           }
          ],
          "heatmap": [
           {
            "colorbar": {
             "outlinewidth": 0,
             "ticks": ""
            },
            "colorscale": [
             [
              0,
              "#0d0887"
             ],
             [
              0.1111111111111111,
              "#46039f"
             ],
             [
              0.2222222222222222,
              "#7201a8"
             ],
             [
              0.3333333333333333,
              "#9c179e"
             ],
             [
              0.4444444444444444,
              "#bd3786"
             ],
             [
              0.5555555555555556,
              "#d8576b"
             ],
             [
              0.6666666666666666,
              "#ed7953"
             ],
             [
              0.7777777777777778,
              "#fb9f3a"
             ],
             [
              0.8888888888888888,
              "#fdca26"
             ],
             [
              1,
              "#f0f921"
             ]
            ],
            "type": "heatmap"
           }
          ],
          "heatmapgl": [
           {
            "colorbar": {
             "outlinewidth": 0,
             "ticks": ""
            },
            "colorscale": [
             [
              0,
              "#0d0887"
             ],
             [
              0.1111111111111111,
              "#46039f"
             ],
             [
              0.2222222222222222,
              "#7201a8"
             ],
             [
              0.3333333333333333,
              "#9c179e"
             ],
             [
              0.4444444444444444,
              "#bd3786"
             ],
             [
              0.5555555555555556,
              "#d8576b"
             ],
             [
              0.6666666666666666,
              "#ed7953"
             ],
             [
              0.7777777777777778,
              "#fb9f3a"
             ],
             [
              0.8888888888888888,
              "#fdca26"
             ],
             [
              1,
              "#f0f921"
             ]
            ],
            "type": "heatmapgl"
           }
          ],
          "histogram": [
           {
            "marker": {
             "pattern": {
              "fillmode": "overlay",
              "size": 10,
              "solidity": 0.2
             }
            },
            "type": "histogram"
           }
          ],
          "histogram2d": [
           {
            "colorbar": {
             "outlinewidth": 0,
             "ticks": ""
            },
            "colorscale": [
             [
              0,
              "#0d0887"
             ],
             [
              0.1111111111111111,
              "#46039f"
             ],
             [
              0.2222222222222222,
              "#7201a8"
             ],
             [
              0.3333333333333333,
              "#9c179e"
             ],
             [
              0.4444444444444444,
              "#bd3786"
             ],
             [
              0.5555555555555556,
              "#d8576b"
             ],
             [
              0.6666666666666666,
              "#ed7953"
             ],
             [
              0.7777777777777778,
              "#fb9f3a"
             ],
             [
              0.8888888888888888,
              "#fdca26"
             ],
             [
              1,
              "#f0f921"
             ]
            ],
            "type": "histogram2d"
           }
          ],
          "histogram2dcontour": [
           {
            "colorbar": {
             "outlinewidth": 0,
             "ticks": ""
            },
            "colorscale": [
             [
              0,
              "#0d0887"
             ],
             [
              0.1111111111111111,
              "#46039f"
             ],
             [
              0.2222222222222222,
              "#7201a8"
             ],
             [
              0.3333333333333333,
              "#9c179e"
             ],
             [
              0.4444444444444444,
              "#bd3786"
             ],
             [
              0.5555555555555556,
              "#d8576b"
             ],
             [
              0.6666666666666666,
              "#ed7953"
             ],
             [
              0.7777777777777778,
              "#fb9f3a"
             ],
             [
              0.8888888888888888,
              "#fdca26"
             ],
             [
              1,
              "#f0f921"
             ]
            ],
            "type": "histogram2dcontour"
           }
          ],
          "mesh3d": [
           {
            "colorbar": {
             "outlinewidth": 0,
             "ticks": ""
            },
            "type": "mesh3d"
           }
          ],
          "parcoords": [
           {
            "line": {
             "colorbar": {
              "outlinewidth": 0,
              "ticks": ""
             }
            },
            "type": "parcoords"
           }
          ],
          "pie": [
           {
            "automargin": true,
            "type": "pie"
           }
          ],
          "scatter": [
           {
            "fillpattern": {
             "fillmode": "overlay",
             "size": 10,
             "solidity": 0.2
            },
            "type": "scatter"
           }
          ],
          "scatter3d": [
           {
            "line": {
             "colorbar": {
              "outlinewidth": 0,
              "ticks": ""
             }
            },
            "marker": {
             "colorbar": {
              "outlinewidth": 0,
              "ticks": ""
             }
            },
            "type": "scatter3d"
           }
          ],
          "scattercarpet": [
           {
            "marker": {
             "colorbar": {
              "outlinewidth": 0,
              "ticks": ""
             }
            },
            "type": "scattercarpet"
           }
          ],
          "scattergeo": [
           {
            "marker": {
             "colorbar": {
              "outlinewidth": 0,
              "ticks": ""
             }
            },
            "type": "scattergeo"
           }
          ],
          "scattergl": [
           {
            "marker": {
             "colorbar": {
              "outlinewidth": 0,
              "ticks": ""
             }
            },
            "type": "scattergl"
           }
          ],
          "scattermapbox": [
           {
            "marker": {
             "colorbar": {
              "outlinewidth": 0,
              "ticks": ""
             }
            },
            "type": "scattermapbox"
           }
          ],
          "scatterpolar": [
           {
            "marker": {
             "colorbar": {
              "outlinewidth": 0,
              "ticks": ""
             }
            },
            "type": "scatterpolar"
           }
          ],
          "scatterpolargl": [
           {
            "marker": {
             "colorbar": {
              "outlinewidth": 0,
              "ticks": ""
             }
            },
            "type": "scatterpolargl"
           }
          ],
          "scatterternary": [
           {
            "marker": {
             "colorbar": {
              "outlinewidth": 0,
              "ticks": ""
             }
            },
            "type": "scatterternary"
           }
          ],
          "surface": [
           {
            "colorbar": {
             "outlinewidth": 0,
             "ticks": ""
            },
            "colorscale": [
             [
              0,
              "#0d0887"
             ],
             [
              0.1111111111111111,
              "#46039f"
             ],
             [
              0.2222222222222222,
              "#7201a8"
             ],
             [
              0.3333333333333333,
              "#9c179e"
             ],
             [
              0.4444444444444444,
              "#bd3786"
             ],
             [
              0.5555555555555556,
              "#d8576b"
             ],
             [
              0.6666666666666666,
              "#ed7953"
             ],
             [
              0.7777777777777778,
              "#fb9f3a"
             ],
             [
              0.8888888888888888,
              "#fdca26"
             ],
             [
              1,
              "#f0f921"
             ]
            ],
            "type": "surface"
           }
          ],
          "table": [
           {
            "cells": {
             "fill": {
              "color": "#EBF0F8"
             },
             "line": {
              "color": "white"
             }
            },
            "header": {
             "fill": {
              "color": "#C8D4E3"
             },
             "line": {
              "color": "white"
             }
            },
            "type": "table"
           }
          ]
         },
         "layout": {
          "annotationdefaults": {
           "arrowcolor": "#2a3f5f",
           "arrowhead": 0,
           "arrowwidth": 1
          },
          "autotypenumbers": "strict",
          "coloraxis": {
           "colorbar": {
            "outlinewidth": 0,
            "ticks": ""
           }
          },
          "colorscale": {
           "diverging": [
            [
             0,
             "#8e0152"
            ],
            [
             0.1,
             "#c51b7d"
            ],
            [
             0.2,
             "#de77ae"
            ],
            [
             0.3,
             "#f1b6da"
            ],
            [
             0.4,
             "#fde0ef"
            ],
            [
             0.5,
             "#f7f7f7"
            ],
            [
             0.6,
             "#e6f5d0"
            ],
            [
             0.7,
             "#b8e186"
            ],
            [
             0.8,
             "#7fbc41"
            ],
            [
             0.9,
             "#4d9221"
            ],
            [
             1,
             "#276419"
            ]
           ],
           "sequential": [
            [
             0,
             "#0d0887"
            ],
            [
             0.1111111111111111,
             "#46039f"
            ],
            [
             0.2222222222222222,
             "#7201a8"
            ],
            [
             0.3333333333333333,
             "#9c179e"
            ],
            [
             0.4444444444444444,
             "#bd3786"
            ],
            [
             0.5555555555555556,
             "#d8576b"
            ],
            [
             0.6666666666666666,
             "#ed7953"
            ],
            [
             0.7777777777777778,
             "#fb9f3a"
            ],
            [
             0.8888888888888888,
             "#fdca26"
            ],
            [
             1,
             "#f0f921"
            ]
           ],
           "sequentialminus": [
            [
             0,
             "#0d0887"
            ],
            [
             0.1111111111111111,
             "#46039f"
            ],
            [
             0.2222222222222222,
             "#7201a8"
            ],
            [
             0.3333333333333333,
             "#9c179e"
            ],
            [
             0.4444444444444444,
             "#bd3786"
            ],
            [
             0.5555555555555556,
             "#d8576b"
            ],
            [
             0.6666666666666666,
             "#ed7953"
            ],
            [
             0.7777777777777778,
             "#fb9f3a"
            ],
            [
             0.8888888888888888,
             "#fdca26"
            ],
            [
             1,
             "#f0f921"
            ]
           ]
          },
          "colorway": [
           "#636efa",
           "#EF553B",
           "#00cc96",
           "#ab63fa",
           "#FFA15A",
           "#19d3f3",
           "#FF6692",
           "#B6E880",
           "#FF97FF",
           "#FECB52"
          ],
          "font": {
           "color": "#2a3f5f"
          },
          "geo": {
           "bgcolor": "white",
           "lakecolor": "white",
           "landcolor": "#E5ECF6",
           "showlakes": true,
           "showland": true,
           "subunitcolor": "white"
          },
          "hoverlabel": {
           "align": "left"
          },
          "hovermode": "closest",
          "mapbox": {
           "style": "light"
          },
          "paper_bgcolor": "white",
          "plot_bgcolor": "#E5ECF6",
          "polar": {
           "angularaxis": {
            "gridcolor": "white",
            "linecolor": "white",
            "ticks": ""
           },
           "bgcolor": "#E5ECF6",
           "radialaxis": {
            "gridcolor": "white",
            "linecolor": "white",
            "ticks": ""
           }
          },
          "scene": {
           "xaxis": {
            "backgroundcolor": "#E5ECF6",
            "gridcolor": "white",
            "gridwidth": 2,
            "linecolor": "white",
            "showbackground": true,
            "ticks": "",
            "zerolinecolor": "white"
           },
           "yaxis": {
            "backgroundcolor": "#E5ECF6",
            "gridcolor": "white",
            "gridwidth": 2,
            "linecolor": "white",
            "showbackground": true,
            "ticks": "",
            "zerolinecolor": "white"
           },
           "zaxis": {
            "backgroundcolor": "#E5ECF6",
            "gridcolor": "white",
            "gridwidth": 2,
            "linecolor": "white",
            "showbackground": true,
            "ticks": "",
            "zerolinecolor": "white"
           }
          },
          "shapedefaults": {
           "line": {
            "color": "#2a3f5f"
           }
          },
          "ternary": {
           "aaxis": {
            "gridcolor": "white",
            "linecolor": "white",
            "ticks": ""
           },
           "baxis": {
            "gridcolor": "white",
            "linecolor": "white",
            "ticks": ""
           },
           "bgcolor": "#E5ECF6",
           "caxis": {
            "gridcolor": "white",
            "linecolor": "white",
            "ticks": ""
           }
          },
          "title": {
           "x": 0.05
          },
          "xaxis": {
           "automargin": true,
           "gridcolor": "white",
           "linecolor": "white",
           "ticks": "",
           "title": {
            "standoff": 15
           },
           "zerolinecolor": "white",
           "zerolinewidth": 2
          },
          "yaxis": {
           "automargin": true,
           "gridcolor": "white",
           "linecolor": "white",
           "ticks": "",
           "title": {
            "standoff": 15
           },
           "zerolinecolor": "white",
           "zerolinewidth": 2
          }
         }
        },
        "title": {
         "text": "Top 5 brands with the most products"
        },
        "xaxis": {
         "anchor": "y",
         "domain": [
          0,
          1
         ],
         "title": {
          "text": "Brand"
         }
        },
        "yaxis": {
         "anchor": "x",
         "domain": [
          0,
          1
         ],
         "title": {
          "text": "Number of Product"
         }
        }
       }
      }
     },
     "metadata": {},
     "output_type": "display_data"
    }
   ],
   "source": [
    "fig10 = px.bar(\n",
    "    top5_global_brands,\n",
    "    x=\"brand\",\n",
    "    y=\"n_products\",\n",
    "    title=\"Top 5 brands with the most products\",\n",
    "    labels={\"n_products\": \"Number of Product\", \"brand\": \"Brand\"},\n",
    ")\n",
    "\n",
    "fig10.update_traces(marker=dict(color=\"#FF69B4\"))\n",
    "\n",
    "fig10.show()\n"
   ]
  },
  {
   "cell_type": "markdown",
   "metadata": {},
   "source": [
    "- **Always with 92 products** stands out significantly with the highest variety of products available. This brand's extensive range indicates its dominant presence in the market, catering to a broad spectrum of consumer needs and preferences.\n",
    "  LUNA with 33 products.\n",
    "\n",
    "- **Luna, holding the second position** offers a considerably lower number of products compared to Always but still maintains a strong market presence. This suggests that Luna has a focused yet diverse product line, appealing to specific consumer segments.\n",
    "\n",
    "- **Carefree with 28 products** Carefree secures the third spot with a close range to Luna, indicating it also has a substantial variety of offerings. This brand's presence suggests a solid market position with a commitment to meeting diverse consumer needs.\n",
    "\n",
    "The significant gap between the first brand (Always) and the second (LUNA) highlights the dominant market position of Always, reflecting its widespread consumer acceptance and trust. LUNA and Carefree, while having fewer products, still show strong brand strength and consumer loyalty, likely catering to niche markets or specific consumer needs with their product offerings. This analysis underlines the importance of product diversity in brand strength and market presence.\n"
   ]
  },
  {
   "cell_type": "code",
   "execution_count": 53,
   "metadata": {},
   "outputs": [],
   "source": [
    "brand_cat_size = (\n",
    "    products_right_cats.groupby([\"brand\", \"category\"])\n",
    "    .size()\n",
    "    .reset_index(name=\"n_product\")\n",
    ")\n",
    "\n",
    "# Get top 5 brands within each category\n",
    "top5_brand_cat = (\n",
    "    brand_cat_size.groupby(\"category\")\n",
    "    .apply(lambda x: x.nlargest(5, \"n_product\"))\n",
    "    .reset_index(drop=True)\n",
    ")\n",
    "\n",
    "# Sorting for better visualization\n",
    "top5_brand_cat.sort_values(\n",
    "    by=[\"category\", \"n_product\"], inplace=True, ascending=[True, False]\n",
    ")\n"
   ]
  },
  {
   "cell_type": "code",
   "execution_count": 59,
   "metadata": {},
   "outputs": [
    {
     "data": {
      "application/vnd.plotly.v1+json": {
       "config": {
        "plotlyServerURL": "https://plot.ly"
       },
       "data": [
        {
         "alignmentgroup": "True",
         "hovertemplate": "category=Coupes menstruelles<br>Brand=%{x}<br>Number Of Products=%{y}<extra></extra>",
         "legendgroup": "Coupes menstruelles",
         "marker": {
          "color": "#FFC0CB",
          "pattern": {
           "shape": ""
          }
         },
         "name": "Coupes menstruelles",
         "offsetgroup": "Coupes menstruelles",
         "orientation": "v",
         "showlegend": true,
         "textposition": "auto",
         "type": "bar",
         "x": [
          "LOKBY",
          "Acboor",
          "DivaCup",
          "FENYW",
          "INTIMINA"
         ],
         "xaxis": "x",
         "y": [
          2,
          1,
          1,
          1,
          1
         ],
         "yaxis": "y"
        },
        {
         "alignmentgroup": "True",
         "hovertemplate": "category=Culottes et sous-vêtements de protection<br>Brand=%{x}<br>Number Of Products=%{y}<extra></extra>",
         "legendgroup": "Culottes et sous-vêtements de protection",
         "marker": {
          "color": "#FFB6C1",
          "pattern": {
           "shape": ""
          }
         },
         "name": "Culottes et sous-vêtements de protection",
         "offsetgroup": "Culottes et sous-vêtements de protection",
         "orientation": "v",
         "showlegend": true,
         "textposition": "auto",
         "type": "bar",
         "x": [
          "Fulidngzg",
          "INNERSY",
          "Oséclore",
          "Culotte",
          "MALVON"
         ],
         "xaxis": "x",
         "y": [
          4,
          2,
          2,
          1,
          1
         ],
         "yaxis": "y"
        },
        {
         "alignmentgroup": "True",
         "hovertemplate": "category=Protections, serviettes hygiéniques, couches pour adultes, protège-slips<br>Brand=%{x}<br>Number Of Products=%{y}<extra></extra>",
         "legendgroup": "Protections, serviettes hygiéniques, couches pour adultes, protège-slips",
         "marker": {
          "color": "#FF69B4",
          "pattern": {
           "shape": ""
          }
         },
         "name": "Protections, serviettes hygiéniques, couches pour adultes, protège-slips",
         "offsetgroup": "Protections, serviettes hygiéniques, couches pour adultes, protège-slips",
         "orientation": "v",
         "showlegend": true,
         "textposition": "auto",
         "type": "bar",
         "x": [
          "TENA",
          "Always"
         ],
         "xaxis": "x",
         "y": [
          5,
          1
         ],
         "yaxis": "y"
        },
        {
         "alignmentgroup": "True",
         "hovertemplate": "category=Serviettes hygièniques<br>Brand=%{x}<br>Number Of Products=%{y}<extra></extra>",
         "legendgroup": "Serviettes hygièniques",
         "marker": {
          "color": "#FF1493",
          "pattern": {
           "shape": ""
          }
         },
         "name": "Serviettes hygièniques",
         "offsetgroup": "Serviettes hygièniques",
         "orientation": "v",
         "showlegend": true,
         "textposition": "auto",
         "type": "bar",
         "x": [
          "Always",
          "Nana",
          "Vania",
          "TENA",
          "Discreet"
         ],
         "xaxis": "x",
         "y": [
          38,
          15,
          11,
          7,
          6
         ],
         "yaxis": "y"
        },
        {
         "alignmentgroup": "True",
         "hovertemplate": "category=Tampons<br>Brand=%{x}<br>Number Of Products=%{y}<extra></extra>",
         "legendgroup": "Tampons",
         "marker": {
          "color": "#DB7093",
          "pattern": {
           "shape": ""
          }
         },
         "name": "Tampons",
         "offsetgroup": "Tampons",
         "orientation": "v",
         "showlegend": true,
         "textposition": "auto",
         "type": "bar",
         "x": [
          "LUNA",
          "Cup",
          "Tampax",
          "MUOOUM",
          "Always"
         ],
         "xaxis": "x",
         "y": [
          31,
          12,
          12,
          11,
          9
         ],
         "yaxis": "y"
        }
       ],
       "layout": {
        "barmode": "group",
        "legend": {
         "title": {
          "text": "category"
         },
         "tracegroupgap": 0
        },
        "template": {
         "data": {
          "bar": [
           {
            "error_x": {
             "color": "#2a3f5f"
            },
            "error_y": {
             "color": "#2a3f5f"
            },
            "marker": {
             "line": {
              "color": "#E5ECF6",
              "width": 0.5
             },
             "pattern": {
              "fillmode": "overlay",
              "size": 10,
              "solidity": 0.2
             }
            },
            "type": "bar"
           }
          ],
          "barpolar": [
           {
            "marker": {
             "line": {
              "color": "#E5ECF6",
              "width": 0.5
             },
             "pattern": {
              "fillmode": "overlay",
              "size": 10,
              "solidity": 0.2
             }
            },
            "type": "barpolar"
           }
          ],
          "carpet": [
           {
            "aaxis": {
             "endlinecolor": "#2a3f5f",
             "gridcolor": "white",
             "linecolor": "white",
             "minorgridcolor": "white",
             "startlinecolor": "#2a3f5f"
            },
            "baxis": {
             "endlinecolor": "#2a3f5f",
             "gridcolor": "white",
             "linecolor": "white",
             "minorgridcolor": "white",
             "startlinecolor": "#2a3f5f"
            },
            "type": "carpet"
           }
          ],
          "choropleth": [
           {
            "colorbar": {
             "outlinewidth": 0,
             "ticks": ""
            },
            "type": "choropleth"
           }
          ],
          "contour": [
           {
            "colorbar": {
             "outlinewidth": 0,
             "ticks": ""
            },
            "colorscale": [
             [
              0,
              "#0d0887"
             ],
             [
              0.1111111111111111,
              "#46039f"
             ],
             [
              0.2222222222222222,
              "#7201a8"
             ],
             [
              0.3333333333333333,
              "#9c179e"
             ],
             [
              0.4444444444444444,
              "#bd3786"
             ],
             [
              0.5555555555555556,
              "#d8576b"
             ],
             [
              0.6666666666666666,
              "#ed7953"
             ],
             [
              0.7777777777777778,
              "#fb9f3a"
             ],
             [
              0.8888888888888888,
              "#fdca26"
             ],
             [
              1,
              "#f0f921"
             ]
            ],
            "type": "contour"
           }
          ],
          "contourcarpet": [
           {
            "colorbar": {
             "outlinewidth": 0,
             "ticks": ""
            },
            "type": "contourcarpet"
           }
          ],
          "heatmap": [
           {
            "colorbar": {
             "outlinewidth": 0,
             "ticks": ""
            },
            "colorscale": [
             [
              0,
              "#0d0887"
             ],
             [
              0.1111111111111111,
              "#46039f"
             ],
             [
              0.2222222222222222,
              "#7201a8"
             ],
             [
              0.3333333333333333,
              "#9c179e"
             ],
             [
              0.4444444444444444,
              "#bd3786"
             ],
             [
              0.5555555555555556,
              "#d8576b"
             ],
             [
              0.6666666666666666,
              "#ed7953"
             ],
             [
              0.7777777777777778,
              "#fb9f3a"
             ],
             [
              0.8888888888888888,
              "#fdca26"
             ],
             [
              1,
              "#f0f921"
             ]
            ],
            "type": "heatmap"
           }
          ],
          "heatmapgl": [
           {
            "colorbar": {
             "outlinewidth": 0,
             "ticks": ""
            },
            "colorscale": [
             [
              0,
              "#0d0887"
             ],
             [
              0.1111111111111111,
              "#46039f"
             ],
             [
              0.2222222222222222,
              "#7201a8"
             ],
             [
              0.3333333333333333,
              "#9c179e"
             ],
             [
              0.4444444444444444,
              "#bd3786"
             ],
             [
              0.5555555555555556,
              "#d8576b"
             ],
             [
              0.6666666666666666,
              "#ed7953"
             ],
             [
              0.7777777777777778,
              "#fb9f3a"
             ],
             [
              0.8888888888888888,
              "#fdca26"
             ],
             [
              1,
              "#f0f921"
             ]
            ],
            "type": "heatmapgl"
           }
          ],
          "histogram": [
           {
            "marker": {
             "pattern": {
              "fillmode": "overlay",
              "size": 10,
              "solidity": 0.2
             }
            },
            "type": "histogram"
           }
          ],
          "histogram2d": [
           {
            "colorbar": {
             "outlinewidth": 0,
             "ticks": ""
            },
            "colorscale": [
             [
              0,
              "#0d0887"
             ],
             [
              0.1111111111111111,
              "#46039f"
             ],
             [
              0.2222222222222222,
              "#7201a8"
             ],
             [
              0.3333333333333333,
              "#9c179e"
             ],
             [
              0.4444444444444444,
              "#bd3786"
             ],
             [
              0.5555555555555556,
              "#d8576b"
             ],
             [
              0.6666666666666666,
              "#ed7953"
             ],
             [
              0.7777777777777778,
              "#fb9f3a"
             ],
             [
              0.8888888888888888,
              "#fdca26"
             ],
             [
              1,
              "#f0f921"
             ]
            ],
            "type": "histogram2d"
           }
          ],
          "histogram2dcontour": [
           {
            "colorbar": {
             "outlinewidth": 0,
             "ticks": ""
            },
            "colorscale": [
             [
              0,
              "#0d0887"
             ],
             [
              0.1111111111111111,
              "#46039f"
             ],
             [
              0.2222222222222222,
              "#7201a8"
             ],
             [
              0.3333333333333333,
              "#9c179e"
             ],
             [
              0.4444444444444444,
              "#bd3786"
             ],
             [
              0.5555555555555556,
              "#d8576b"
             ],
             [
              0.6666666666666666,
              "#ed7953"
             ],
             [
              0.7777777777777778,
              "#fb9f3a"
             ],
             [
              0.8888888888888888,
              "#fdca26"
             ],
             [
              1,
              "#f0f921"
             ]
            ],
            "type": "histogram2dcontour"
           }
          ],
          "mesh3d": [
           {
            "colorbar": {
             "outlinewidth": 0,
             "ticks": ""
            },
            "type": "mesh3d"
           }
          ],
          "parcoords": [
           {
            "line": {
             "colorbar": {
              "outlinewidth": 0,
              "ticks": ""
             }
            },
            "type": "parcoords"
           }
          ],
          "pie": [
           {
            "automargin": true,
            "type": "pie"
           }
          ],
          "scatter": [
           {
            "fillpattern": {
             "fillmode": "overlay",
             "size": 10,
             "solidity": 0.2
            },
            "type": "scatter"
           }
          ],
          "scatter3d": [
           {
            "line": {
             "colorbar": {
              "outlinewidth": 0,
              "ticks": ""
             }
            },
            "marker": {
             "colorbar": {
              "outlinewidth": 0,
              "ticks": ""
             }
            },
            "type": "scatter3d"
           }
          ],
          "scattercarpet": [
           {
            "marker": {
             "colorbar": {
              "outlinewidth": 0,
              "ticks": ""
             }
            },
            "type": "scattercarpet"
           }
          ],
          "scattergeo": [
           {
            "marker": {
             "colorbar": {
              "outlinewidth": 0,
              "ticks": ""
             }
            },
            "type": "scattergeo"
           }
          ],
          "scattergl": [
           {
            "marker": {
             "colorbar": {
              "outlinewidth": 0,
              "ticks": ""
             }
            },
            "type": "scattergl"
           }
          ],
          "scattermapbox": [
           {
            "marker": {
             "colorbar": {
              "outlinewidth": 0,
              "ticks": ""
             }
            },
            "type": "scattermapbox"
           }
          ],
          "scatterpolar": [
           {
            "marker": {
             "colorbar": {
              "outlinewidth": 0,
              "ticks": ""
             }
            },
            "type": "scatterpolar"
           }
          ],
          "scatterpolargl": [
           {
            "marker": {
             "colorbar": {
              "outlinewidth": 0,
              "ticks": ""
             }
            },
            "type": "scatterpolargl"
           }
          ],
          "scatterternary": [
           {
            "marker": {
             "colorbar": {
              "outlinewidth": 0,
              "ticks": ""
             }
            },
            "type": "scatterternary"
           }
          ],
          "surface": [
           {
            "colorbar": {
             "outlinewidth": 0,
             "ticks": ""
            },
            "colorscale": [
             [
              0,
              "#0d0887"
             ],
             [
              0.1111111111111111,
              "#46039f"
             ],
             [
              0.2222222222222222,
              "#7201a8"
             ],
             [
              0.3333333333333333,
              "#9c179e"
             ],
             [
              0.4444444444444444,
              "#bd3786"
             ],
             [
              0.5555555555555556,
              "#d8576b"
             ],
             [
              0.6666666666666666,
              "#ed7953"
             ],
             [
              0.7777777777777778,
              "#fb9f3a"
             ],
             [
              0.8888888888888888,
              "#fdca26"
             ],
             [
              1,
              "#f0f921"
             ]
            ],
            "type": "surface"
           }
          ],
          "table": [
           {
            "cells": {
             "fill": {
              "color": "#EBF0F8"
             },
             "line": {
              "color": "white"
             }
            },
            "header": {
             "fill": {
              "color": "#C8D4E3"
             },
             "line": {
              "color": "white"
             }
            },
            "type": "table"
           }
          ]
         },
         "layout": {
          "annotationdefaults": {
           "arrowcolor": "#2a3f5f",
           "arrowhead": 0,
           "arrowwidth": 1
          },
          "autotypenumbers": "strict",
          "coloraxis": {
           "colorbar": {
            "outlinewidth": 0,
            "ticks": ""
           }
          },
          "colorscale": {
           "diverging": [
            [
             0,
             "#8e0152"
            ],
            [
             0.1,
             "#c51b7d"
            ],
            [
             0.2,
             "#de77ae"
            ],
            [
             0.3,
             "#f1b6da"
            ],
            [
             0.4,
             "#fde0ef"
            ],
            [
             0.5,
             "#f7f7f7"
            ],
            [
             0.6,
             "#e6f5d0"
            ],
            [
             0.7,
             "#b8e186"
            ],
            [
             0.8,
             "#7fbc41"
            ],
            [
             0.9,
             "#4d9221"
            ],
            [
             1,
             "#276419"
            ]
           ],
           "sequential": [
            [
             0,
             "#0d0887"
            ],
            [
             0.1111111111111111,
             "#46039f"
            ],
            [
             0.2222222222222222,
             "#7201a8"
            ],
            [
             0.3333333333333333,
             "#9c179e"
            ],
            [
             0.4444444444444444,
             "#bd3786"
            ],
            [
             0.5555555555555556,
             "#d8576b"
            ],
            [
             0.6666666666666666,
             "#ed7953"
            ],
            [
             0.7777777777777778,
             "#fb9f3a"
            ],
            [
             0.8888888888888888,
             "#fdca26"
            ],
            [
             1,
             "#f0f921"
            ]
           ],
           "sequentialminus": [
            [
             0,
             "#0d0887"
            ],
            [
             0.1111111111111111,
             "#46039f"
            ],
            [
             0.2222222222222222,
             "#7201a8"
            ],
            [
             0.3333333333333333,
             "#9c179e"
            ],
            [
             0.4444444444444444,
             "#bd3786"
            ],
            [
             0.5555555555555556,
             "#d8576b"
            ],
            [
             0.6666666666666666,
             "#ed7953"
            ],
            [
             0.7777777777777778,
             "#fb9f3a"
            ],
            [
             0.8888888888888888,
             "#fdca26"
            ],
            [
             1,
             "#f0f921"
            ]
           ]
          },
          "colorway": [
           "#636efa",
           "#EF553B",
           "#00cc96",
           "#ab63fa",
           "#FFA15A",
           "#19d3f3",
           "#FF6692",
           "#B6E880",
           "#FF97FF",
           "#FECB52"
          ],
          "font": {
           "color": "#2a3f5f"
          },
          "geo": {
           "bgcolor": "white",
           "lakecolor": "white",
           "landcolor": "#E5ECF6",
           "showlakes": true,
           "showland": true,
           "subunitcolor": "white"
          },
          "hoverlabel": {
           "align": "left"
          },
          "hovermode": "closest",
          "mapbox": {
           "style": "light"
          },
          "paper_bgcolor": "white",
          "plot_bgcolor": "#E5ECF6",
          "polar": {
           "angularaxis": {
            "gridcolor": "white",
            "linecolor": "white",
            "ticks": ""
           },
           "bgcolor": "#E5ECF6",
           "radialaxis": {
            "gridcolor": "white",
            "linecolor": "white",
            "ticks": ""
           }
          },
          "scene": {
           "xaxis": {
            "backgroundcolor": "#E5ECF6",
            "gridcolor": "white",
            "gridwidth": 2,
            "linecolor": "white",
            "showbackground": true,
            "ticks": "",
            "zerolinecolor": "white"
           },
           "yaxis": {
            "backgroundcolor": "#E5ECF6",
            "gridcolor": "white",
            "gridwidth": 2,
            "linecolor": "white",
            "showbackground": true,
            "ticks": "",
            "zerolinecolor": "white"
           },
           "zaxis": {
            "backgroundcolor": "#E5ECF6",
            "gridcolor": "white",
            "gridwidth": 2,
            "linecolor": "white",
            "showbackground": true,
            "ticks": "",
            "zerolinecolor": "white"
           }
          },
          "shapedefaults": {
           "line": {
            "color": "#2a3f5f"
           }
          },
          "ternary": {
           "aaxis": {
            "gridcolor": "white",
            "linecolor": "white",
            "ticks": ""
           },
           "baxis": {
            "gridcolor": "white",
            "linecolor": "white",
            "ticks": ""
           },
           "bgcolor": "#E5ECF6",
           "caxis": {
            "gridcolor": "white",
            "linecolor": "white",
            "ticks": ""
           }
          },
          "title": {
           "x": 0.05
          },
          "xaxis": {
           "automargin": true,
           "gridcolor": "white",
           "linecolor": "white",
           "ticks": "",
           "title": {
            "standoff": 15
           },
           "zerolinecolor": "white",
           "zerolinewidth": 2
          },
          "yaxis": {
           "automargin": true,
           "gridcolor": "white",
           "linecolor": "white",
           "ticks": "",
           "title": {
            "standoff": 15
           },
           "zerolinecolor": "white",
           "zerolinewidth": 2
          }
         }
        },
        "title": {
         "text": "Top 5 brands by number of products for each category"
        },
        "xaxis": {
         "anchor": "y",
         "categoryorder": "total descending",
         "domain": [
          0,
          1
         ],
         "title": {
          "text": "Brand"
         }
        },
        "yaxis": {
         "anchor": "x",
         "domain": [
          0,
          1
         ],
         "title": {
          "text": "Number Of Products"
         }
        }
       }
      }
     },
     "metadata": {},
     "output_type": "display_data"
    }
   ],
   "source": [
    "fig11 = px.bar(\n",
    "    top5_brand_cat,\n",
    "    x=\"brand\",\n",
    "    y=\"n_product\",\n",
    "    labels={\"brand\": \"Brand\", \"n_product\": \"Number Of Products\"},\n",
    "    title=\"Top 5 brands by number of products for each category\",\n",
    "    color=\"category\",\n",
    "    color_discrete_sequence=shades_of_pink,\n",
    "    barmode=\"group\",\n",
    "    category_orders={\"category\": top5_brand_cat[\"category\"].unique()},\n",
    ")  # Optional: to maintain the group ordering by category\n",
    "\n",
    "fig11.update_layout(\n",
    "    xaxis={\"categoryorder\": \"total descending\"}\n",
    ")  # Optional: sort bars within groups\n",
    "fig11.show()\n"
   ]
  },
  {
   "cell_type": "markdown",
   "metadata": {},
   "source": [
    "The analysis of product distribution across various feminine hygiene categories reveals distinct market leaders for each specific category, underscoring the diverse preferences and needs of consumers.\n",
    "\n",
    "In the category of `menstrual cups`, **LOKBY** emerges as the top brand, indicating a strong consumer preference for their product offerings in this segment.\n",
    "\n",
    "Similarly, **Fulidngzg** leads the category for `protective underwear`, highlighting its dominance in providing solutions for menstrual protection beyond traditional methods.\n",
    "\n",
    "For `protèges-slips` (panty liners), **Tena** stands out as the market leader, reflecting its success in catering to daily feminine hygiene needs.\n",
    "\n",
    "In the highly competitive `pads` category, **Always** and **Nana** are the top two brands, respectively, demonstrating their strong market presence and consumer trust in their sanitary pad products.\n",
    "\n",
    "In the `tampons` category, **Luna**, **Tampax**, and **Cup** rank as the top three brands, showcasing a varied consumer preference within this segment. Each of these brands has successfully established itself in a niche market, catering to the specific preferences and needs of their customer base.\n",
    "\n",
    "This diversity in leading brands across different categories highlights the importance of targeted product development and marketing strategies in the feminine hygiene market. It reflects the varied consumer preferences that exist within this market and the importance of offering a range of products to meet the diverse needs of consumers.\n"
   ]
  },
  {
   "cell_type": "markdown",
   "metadata": {},
   "source": [
    "# **Testing new categorization**\n"
   ]
  },
  {
   "cell_type": "code",
   "execution_count": 55,
   "metadata": {},
   "outputs": [],
   "source": [
    "import pandas as pd\n",
    "import inflect\n",
    "import unidecode\n",
    "\n",
    "# Initialize the inflect engine\n",
    "p = inflect.engine()\n",
    "\n",
    "\n",
    "# Keywords dictionary\n",
    "keywords_dict = {\n",
    "    \"Tampons\": [\"Tampon\", \"Tampons\"],\n",
    "    \"Culottes et sous-vêtements de protection\": [\"Culotte\", \"Culottes\"],\n",
    "    \"Coupes menstruelles\": [\n",
    "        \"Coupe menstruelle\",\n",
    "        \"Coupes menstruelles\",\n",
    "        \"Menstrual Cup\",\n",
    "        \"Cup menstruelle\",\n",
    "        \"cup menstruelle\",\n",
    "    ],\n",
    "    \"Serviettes hygièniques\": [\n",
    "        \"Serviette hygiénique\",\n",
    "        \"Sanitary Napkin\",\n",
    "        \"Serviettes hygièniques\",\n",
    "    ],\n",
    "    \"Protège-slips\": [\"Protège-slip\", \"Protège slip\", \"protege slip\"],\n",
    "}\n",
    "\n",
    "\n",
    "def normalize_text(text):\n",
    "    if not isinstance(text, str):\n",
    "        return \"\"  # Return an empty string if the input is not a string\n",
    "    return unidecode.unidecode(text).lower().replace(\"-\", \" \")\n"
   ]
  },
  {
   "cell_type": "code",
   "execution_count": 56,
   "metadata": {},
   "outputs": [],
   "source": [
    "def find_category(title):\n",
    "    print(f\"Processing title: {title} (Type: {type(title)})\")  # Debugging line\n",
    "    if pd.isna(title) or not isinstance(title, str):\n",
    "        return None\n",
    "    if pd.isna(title) or not isinstance(title, str):\n",
    "        return None\n",
    "    normalized_title = normalize_text(title)\n",
    "    for category, keywords in keywords_dict.items():\n",
    "        for keyword in keywords:\n",
    "            normalized_keyword = normalize_text(keyword)\n",
    "            if (\n",
    "                normalized_keyword in normalized_title\n",
    "                or normalize_text(p.plural(keyword)) in normalized_title\n",
    "                or normalize_text(p.singular_noun(keyword)) in normalized_title\n",
    "            ):\n",
    "                return category\n",
    "    return None\n"
   ]
  },
  {
   "cell_type": "code",
   "execution_count": 57,
   "metadata": {},
   "outputs": [
    {
     "name": "stdout",
     "output_type": "stream",
     "text": [
      "Processing title: Nett Original Tampon sans Applicateur, Super Plus, Boite de 24 Tampons (Type: <class 'str'>)\n",
      "Title: Nett Original Tampon sans Applicateur, Super Plus, Boite de 24 Tampons => Category: Tampons\n",
      "Processing title: Nett® ProComfort® Normal, Tampon Sans Applicateur, pour Flux Normal, Boite 24 Tampons (Type: <class 'str'>)\n",
      "Title: Nett® ProComfort® Normal, Tampon Sans Applicateur, pour Flux Normal, Boite 24 Tampons => Category: Tampons\n",
      "Processing title: Tampax Compak Pearl, Super, 18 Tampons Avec Applicateur, Flux Moyens à Abondants, Triple Confort avec Applicateur doux, MotionFit, Voile Douceur, Certifié Oeko-Tex (Type: <class 'str'>)\n",
      "Title: Tampax Compak Pearl, Super, 18 Tampons Avec Applicateur, Flux Moyens à Abondants, Triple Confort avec Applicateur doux, MotionFit, Voile Douceur, Certifié Oeko-Tex => Category: Tampons\n",
      "Processing title: Nett Original Tampon sans Applicateur, Super, Boite de 32 Tampons (Type: <class 'str'>)\n",
      "Title: Nett Original Tampon sans Applicateur, Super, Boite de 32 Tampons => Category: Tampons\n",
      "Processing title: Tampax Cotton Protection, Super Plus, 18 Tampons avec applicateur Sans Plastique, Flux Abondants, Coeur de tampon en Coton Biologique, Sans Parfum ni Colorant (Type: <class 'str'>)\n",
      "Title: Tampax Cotton Protection, Super Plus, 18 Tampons avec applicateur Sans Plastique, Flux Abondants, Coeur de tampon en Coton Biologique, Sans Parfum ni Colorant => Category: Tampons\n",
      "Processing title: Nett Coton Bio Tampon Sans Applicateur, Normal, Boite de 16 Tampons (Type: <class 'str'>)\n",
      "Title: Nett Coton Bio Tampon Sans Applicateur, Normal, Boite de 16 Tampons => Category: Tampons\n",
      "Processing title: Tampax Cotton Protection, Super, 18 Tampons avec applicateur Sans Plastique, Flux Moyens à Abondants, Coeur de Tampon en Coton Biologique, Sans parfum ni colorant (Type: <class 'str'>)\n",
      "Title: Tampax Cotton Protection, Super, 18 Tampons avec applicateur Sans Plastique, Flux Moyens à Abondants, Coeur de Tampon en Coton Biologique, Sans parfum ni colorant => Category: Tampons\n",
      "Processing title: Tampax Compak - 28 Tampons Avec Applicateur, Lite, Flux Légers - Sans Parfum et Sans Colorant, Testé sous Controle Gynécologique, Protection Et Confort Pendant Vos Règles (Type: <class 'str'>)\n",
      "Title: Tampax Compak - 28 Tampons Avec Applicateur, Lite, Flux Légers - Sans Parfum et Sans Colorant, Testé sous Controle Gynécologique, Protection Et Confort Pendant Vos Règles => Category: Tampons\n",
      "Processing title: Love & Green Tampons écologiques 100% Coton BIO - Normal avec Applicateur x 16 tampons - Certifiés GOTS par ECOCERT (Type: <class 'str'>)\n",
      "Title: Love & Green Tampons écologiques 100% Coton BIO - Normal avec Applicateur x 16 tampons - Certifiés GOTS par ECOCERT => Category: Tampons\n",
      "Processing title: Tampax Cotton Protection, Super, 16 Tampons Avec Applicateur en Plastique Végétal, Flux Moyens à Abondants, Coeur de Tampon En Coton Biologique (Type: <class 'str'>)\n",
      "Title: Tampax Cotton Protection, Super, 16 Tampons Avec Applicateur en Plastique Végétal, Flux Moyens à Abondants, Coeur de Tampon En Coton Biologique => Category: Tampons\n",
      "Processing title: Tampax Compak Pearl, Régulier, Flux Légers à Moyens, 72 Tampons Avec Applicateur doux Triple Confort, Format Eco, MotionFit, Voile Douceur, Certifié Oeko-Tex (Type: <class 'str'>)\n",
      "Title: Tampax Compak Pearl, Régulier, Flux Légers à Moyens, 72 Tampons Avec Applicateur doux Triple Confort, Format Eco, MotionFit, Voile Douceur, Certifié Oeko-Tex => Category: Tampons\n",
      "Processing title: Beppy Tampon Hygiénique sans Ficelle pour Rapport Sexuel Pendant Reg, Wet, 8 Pièces (Type: <class 'str'>)\n",
      "Title: Beppy Tampon Hygiénique sans Ficelle pour Rapport Sexuel Pendant Reg, Wet, 8 Pièces => Category: Tampons\n",
      "Processing title: o.b. Tampons Confort Mini 16 Pièces (Type: <class 'str'>)\n",
      "Title: o.b. Tampons Confort Mini 16 Pièces => Category: Tampons\n",
      "Processing title: Tampax Compak, Tampons Avec Applicateur Super Plus, 22 Pochettes Individuelles, Flux Abondants, Sans Parfum et Colorant, Testé sous Controle Gynécologique, Protection Et Confort Pendant Vos Règles (Type: <class 'str'>)\n",
      "Title: Tampax Compak, Tampons Avec Applicateur Super Plus, 22 Pochettes Individuelles, Flux Abondants, Sans Parfum et Colorant, Testé sous Controle Gynécologique, Protection Et Confort Pendant Vos Règles => Category: Tampons\n",
      "Processing title: Tampax Compak - 24 Tampons Avec Applicateur, Régulier, Flux Légers à Moyens - Sans Parfum et Sans Colorant, Testé sous Controle Gynécologique, Protection Et Confort Pendant Vos Règles (Type: <class 'str'>)\n",
      "Title: Tampax Compak - 24 Tampons Avec Applicateur, Régulier, Flux Légers à Moyens - Sans Parfum et Sans Colorant, Testé sous Controle Gynécologique, Protection Et Confort Pendant Vos Règles => Category: Tampons\n",
      "Processing title: Tampax Compak Super Tampons Avec Applicateur X24, Protection Et Confort Pendant Vos Règles (Type: <class 'str'>)\n",
      "Title: Tampax Compak Super Tampons Avec Applicateur X24, Protection Et Confort Pendant Vos Règles => Category: Tampons\n",
      "Processing title: Organyc, Tampons 100% coton bio certifié SUPER PLUS- 1 boîte de 16 tampons (Type: <class 'str'>)\n",
      "Title: Organyc, Tampons 100% coton bio certifié SUPER PLUS- 1 boîte de 16 tampons => Category: Tampons\n",
      "Processing title: Tampons Tampax Super-Plus 30 pezzi (Type: <class 'str'>)\n",
      "Title: Tampons Tampax Super-Plus 30 pezzi => Category: Tampons\n",
      "Processing title: Tampax Compak Cotton Protection, Régulier, 56 Tampons Avec Applicateur en Plastique Végétal, Flux Légers à Moyens, Coeur de Tampon En Coton Biologique (Type: <class 'str'>)\n",
      "Title: Tampax Compak Cotton Protection, Régulier, 56 Tampons Avec Applicateur en Plastique Végétal, Flux Légers à Moyens, Coeur de Tampon En Coton Biologique => Category: Tampons\n",
      "Processing title: Jho - Tampons 100% Coton BIO - Avec applicateur compact (Super, 1 boite = 16 tampons) (Type: <class 'str'>)\n",
      "Title: Jho - Tampons 100% Coton BIO - Avec applicateur compact (Super, 1 boite = 16 tampons) => Category: Tampons\n",
      "Processing title: Tampax Super Tampons avec applicateur en carton (Type: <class 'str'>)\n",
      "Title: Tampax Super Tampons avec applicateur en carton => Category: Tampons\n",
      "Processing title: Nett Original Tampon sans Applicateur, Normal, Boite de 32 Tampons (Type: <class 'str'>)\n",
      "Title: Nett Original Tampon sans Applicateur, Normal, Boite de 32 Tampons => Category: Tampons\n",
      "Processing title: Organyc, Tampons 100% coton bio Super sans applicateur,lot de 4 boîtes (16 unités X 4) (Type: <class 'str'>)\n",
      "Title: Organyc, Tampons 100% coton bio Super sans applicateur,lot de 4 boîtes (16 unités X 4) => Category: Tampons\n",
      "Processing title: Nett Boite de Tampons en Coton Bio sans Applicateur Super 16 Unités (Type: <class 'str'>)\n",
      "Title: Nett Boite de Tampons en Coton Bio sans Applicateur Super 16 Unités => Category: Tampons\n",
      "Processing title: Saforelle Florgynal Tampon Probiotique 8 Super (Type: <class 'str'>)\n",
      "Title: Saforelle Florgynal Tampon Probiotique 8 Super => Category: Tampons\n",
      "Processing title: ELANEE Lot de 4 tampons doux sans fil (742-V3) (Type: <class 'str'>)\n",
      "Title: ELANEE Lot de 4 tampons doux sans fil (742-V3) => Category: Tampons\n",
      "Processing title: Tampons compacts avec applicateur Veeda 100% coton naturel, sans BPA, sans chlore, sans toxines ni pesticides, super, 16 unités (Type: <class 'str'>)\n",
      "Title: Tampons compacts avec applicateur Veeda 100% coton naturel, sans BPA, sans chlore, sans toxines ni pesticides, super, 16 unités => Category: Tampons\n",
      "Processing title: MYLILY® Tampons bio | 100% coton bio | 0% chimie | différentes tailles | 16 tampons | protection fiable | insertion facile | Mini |1x 16 (Type: <class 'str'>)\n",
      "Title: MYLILY® Tampons bio | 100% coton bio | 0% chimie | différentes tailles | 16 tampons | protection fiable | insertion facile | Mini |1x 16 => Category: Tampons\n",
      "Processing title: Organyc, Tampons 100% coton bio certifié RÉGULIER - 1 boîte de 16 tampons (Type: <class 'str'>)\n",
      "Title: Organyc, Tampons 100% coton bio certifié RÉGULIER - 1 boîte de 16 tampons => Category: Tampons\n",
      "Processing title: Tampon o.b., ProComfort Normal, pour jours moyens à forts, confort ultime* et protection fiable, 64 pièces (Type: <class 'str'>)\n",
      "Title: Tampon o.b., ProComfort Normal, pour jours moyens à forts, confort ultime* et protection fiable, 64 pièces => Category: Tampons\n",
      "Processing title: TAMPAX&GO MINI, Lot de 18 tampons (Type: <class 'str'>)\n",
      "Title: TAMPAX&GO MINI, Lot de 18 tampons => Category: Tampons\n",
      "Processing title: NETT - Procomfort Tampons Digitaux 24 Tampons - Lot De 4 - Offre Special (Type: <class 'str'>)\n",
      "Title: NETT - Procomfort Tampons Digitaux 24 Tampons - Lot De 4 - Offre Special => Category: Tampons\n",
      "Processing title: o.b. ExtraProtect Super+ Comfort Lot de 36 tampons pour les journées très fortes avec technologie DynamicFit et ailes de protection supplémentaires, protection ultime contre les fuites (Type: <class 'str'>)\n",
      "Title: o.b. ExtraProtect Super+ Comfort Lot de 36 tampons pour les journées très fortes avec technologie DynamicFit et ailes de protection supplémentaires, protection ultime contre les fuites => Category: Tampons\n",
      "Processing title: ELANEE Lot de 50 tampons doux et souples (742-V2) (Type: <class 'str'>)\n",
      "Title: ELANEE Lot de 50 tampons doux et souples (742-V2) => Category: Tampons\n",
      "Processing title: o.b. ExtraProtect Super Lot de 42 tampons pour les jours forts avec technologie Dynamic Fit et ailettes de protection supplémentaires pour une protection ultime contre les fuites (Type: <class 'str'>)\n",
      "Title: o.b. ExtraProtect Super Lot de 42 tampons pour les jours forts avec technologie Dynamic Fit et ailettes de protection supplémentaires pour une protection ultime contre les fuites => Category: Tampons\n",
      "Processing title: o.b.® ProComfort® Super Tampons pour les jours menstruels plus sévères, avec technologie Dynamic Fit™ et surface SilkTouch® pour un confort ultime* et une protection fiable, 54 pièces (Type: <class 'str'>)\n",
      "Title: o.b.® ProComfort® Super Tampons pour les jours menstruels plus sévères, avec technologie Dynamic Fit™ et surface SilkTouch® pour un confort ultime* et une protection fiable, 54 pièces => Category: Tampons\n",
      "Processing title: Jho - Tampons 100% Coton BIO - Sans applicateur (Mini, 1 boite = 16 tampons) (Type: <class 'str'>)\n",
      "Title: Jho - Tampons 100% Coton BIO - Sans applicateur (Mini, 1 boite = 16 tampons) => Category: Tampons\n",
      "Processing title: Organyc Tampons 100% coton bio Regulier sans applicateur,lot de 4 boîtes (16 unités X 4) (Type: <class 'str'>)\n",
      "Title: Organyc Tampons 100% coton bio Regulier sans applicateur,lot de 4 boîtes (16 unités X 4) => Category: Tampons\n",
      "Processing title: Saforelle Coton Protect 14 Tampons Super avec Applicateur (Type: <class 'str'>)\n",
      "Title: Saforelle Coton Protect 14 Tampons Super avec Applicateur => Category: Tampons\n",
      "Processing title: Beppy Soft Comfort Tampon avec Lubrifiant Revêtement 4 Pièces (Type: <class 'str'>)\n",
      "Title: Beppy Soft Comfort Tampon avec Lubrifiant Revêtement 4 Pièces => Category: Tampons\n",
      "Processing title: Saforelle Florgynal Tampon 22 Normal (Type: <class 'str'>)\n",
      "Title: Saforelle Florgynal Tampon 22 Normal => Category: Tampons\n",
      "Processing title: Tampax Super Plus Lot de 20 tampons en carton (Type: <class 'str'>)\n",
      "Title: Tampax Super Plus Lot de 20 tampons en carton => Category: Tampons\n",
      "Processing title: o.b. Organic Super Lot de 16 tampons bio pour les jours forts en 100% coton bio pour une protection fiable et naturelle (Type: <class 'str'>)\n",
      "Title: o.b. Organic Super Lot de 16 tampons bio pour les jours forts en 100% coton bio pour une protection fiable et naturelle => Category: Tampons\n",
      "Processing title: Beppy Cup - Coupe Menstuelle | Cup Menstruelle | 2 coupes menstruelles (Ocean (Bleu/Transparent)) (Type: <class 'str'>)\n",
      "Title: Beppy Cup - Coupe Menstuelle | Cup Menstruelle | 2 coupes menstruelles (Ocean (Bleu/Transparent)) => Category: Tampons\n",
      "Processing title: Masmi - Tampons avec Applicateurs - 100% Coton Bio - Hautement Absorbant - Certifié GOTS - Compostable & Biodégradable à plus de 95% - Flux Normal, 1 boîte de 14 tampons (Type: <class 'str'>)\n",
      "Title: Masmi - Tampons avec Applicateurs - 100% Coton Bio - Hautement Absorbant - Certifié GOTS - Compostable & Biodégradable à plus de 95% - Flux Normal, 1 boîte de 14 tampons => Category: Tampons\n",
      "Processing title: Mini tampons o.b. ProComfort, paquet de 1 x 32 unités (32 unités) (Type: <class 'str'>)\n",
      "Title: Mini tampons o.b. ProComfort, paquet de 1 x 32 unités (32 unités) => Category: Tampons\n",
      "Processing title: MQUPIN Serviettes Hygiéniques Réutilisables Lavables, 8 pcs Tampons Doublure Serviette Hygienique Lavable en Coton Biologique, Serviettes Hygieniques Bio Anti-fuite Convient pour Toutes Les Femmes (Type: <class 'str'>)\n",
      "Title: MQUPIN Serviettes Hygiéniques Réutilisables Lavables, 8 pcs Tampons Doublure Serviette Hygienique Lavable en Coton Biologique, Serviettes Hygieniques Bio Anti-fuite Convient pour Toutes Les Femmes => Category: Tampons\n",
      "Processing title: Tampax Classique - 20 Tampons Avec Applicateur En Carton, Régulier, Flux Légers à Moyens - Sans Parfum ni Colorant, Protection contre les Fuites, Sensation De Fraîcheur (Type: <class 'str'>)\n",
      "Title: Tampax Classique - 20 Tampons Avec Applicateur En Carton, Régulier, Flux Légers à Moyens - Sans Parfum ni Colorant, Protection contre les Fuites, Sensation De Fraîcheur => Category: Tampons\n",
      "Processing title: Coupe Menstruelle Femme Essentials - Coupelle Menstruelle discrète et hygiénique- en Silicone médical avec Pochette en Satin et Instructions en français - Cup Menstruelle │ Taille: S │Couleur: Mauve (Type: <class 'str'>)\n",
      "Title: Coupe Menstruelle Femme Essentials - Coupelle Menstruelle discrète et hygiénique- en Silicone médical avec Pochette en Satin et Instructions en français - Cup Menstruelle │ Taille: S │Couleur: Mauve => Category: Tampons\n",
      "Processing title: FONCBIEN Culotte Menstruelle Absorbante, Femmes Taille Haute sous-vêtements Anti-fuites Culotte de Règles Réutilisable Culotte Menstruelle Grande Taille 3 (Type: <class 'str'>)\n",
      "Title: FONCBIEN Culotte Menstruelle Absorbante, Femmes Taille Haute sous-vêtements Anti-fuites Culotte de Règles Réutilisable Culotte Menstruelle Grande Taille 3 => Category: Tampons\n",
      "Processing title: Coupe menstruelle,Cup Menstruelle,Organi Cup,Silicone,douce et flexible,souple et réutilisable(Violette-S) (Type: <class 'str'>)\n",
      "Title: Coupe menstruelle,Cup Menstruelle,Organi Cup,Silicone,douce et flexible,souple et réutilisable(Violette-S) => Category: Tampons\n",
      "Processing title: La Cup Luneale - cup menstruelle - design ergonomique exclusif créé avec des sages-femmes - fabrication française - 100% silicone médical platine - S (flux faible/moyen) (Type: <class 'str'>)\n",
      "Title: La Cup Luneale - cup menstruelle - design ergonomique exclusif créé avec des sages-femmes - fabrication française - 100% silicone médical platine - S (flux faible/moyen) => Category: Tampons\n",
      "Processing title: Flex Plant Plus Disques menstruels jetables à base de plantes | Alternative aux tampons et aux tasses | Capacité de 5 super tampons | Disque menstruel fabriqué avec des polymères végétaux durables de (Type: <class 'str'>)\n",
      "Title: Flex Plant Plus Disques menstruels jetables à base de plantes | Alternative aux tampons et aux tasses | Capacité de 5 super tampons | Disque menstruel fabriqué avec des polymères végétaux durables de => Category: Tampons\n",
      "Processing title: Gynotex sécher Soft-Tampons (sécher) - 30 pièces (Type: <class 'str'>)\n",
      "Title: Gynotex sécher Soft-Tampons (sécher) - 30 pièces => Category: Tampons\n",
      "Processing title: Lot de 6 tampons absorbants intérieurs Tampax Regular pour femme (Type: <class 'str'>)\n",
      "Title: Lot de 6 tampons absorbants intérieurs Tampax Regular pour femme => Category: Tampons\n",
      "Processing title: Nana Maxi Goodnight Serviettes Hygiéniques pour la Nuit, 12 Serviettes (Type: <class 'str'>)\n",
      "Title: Nana Maxi Goodnight Serviettes Hygiéniques pour la Nuit, 12 Serviettes => Category: Tampons\n",
      "Processing title: Lot de 200 sacs d'élimination de serviettes hygiéniques, sacs d'élimination de tampons féminins noirs opaques pour tampons, serviettes hygiéniques, doublures hygiéniques (Type: <class 'str'>)\n",
      "Title: Lot de 200 sacs d'élimination de serviettes hygiéniques, sacs d'élimination de tampons féminins noirs opaques pour tampons, serviettes hygiéniques, doublures hygiéniques => Category: Tampons\n",
      "Processing title: Ecoblossom Lot de 2 disques menstruels réutilisables – Lot de 2 coupes menstruelles – Disque de menstruation souple pour femme conçu avec une coupe menstruelle souple en silicone de qualité médicale (Type: <class 'str'>)\n",
      "Title: Ecoblossom Lot de 2 disques menstruels réutilisables – Lot de 2 coupes menstruelles – Disque de menstruation souple pour femme conçu avec une coupe menstruelle souple en silicone de qualité médicale => Category: Tampons\n",
      "Processing title: Tampax Tampons avec Applicateur Super Plus, 22 tampons (Type: <class 'str'>)\n",
      "Title: Tampax Tampons avec Applicateur Super Plus, 22 tampons => Category: Tampons\n",
      "Processing title: Always Maxi Serviettes Hygiéniques, Taille 3, Night, 16 Serviettes Avec Ailettes, Flux Très Abondants Nuit, Cœur Ultra Absorbant et Barrières Anti-Fuites (Type: <class 'str'>)\n",
      "Title: Always Maxi Serviettes Hygiéniques, Taille 3, Night, 16 Serviettes Avec Ailettes, Flux Très Abondants Nuit, Cœur Ultra Absorbant et Barrières Anti-Fuites => Category: Tampons\n",
      "Processing title: Sadocom Lot de 100 sacs jetables pour tampons hygiéniques féminines hermétiques et anti-odeurs (Type: <class 'str'>)\n",
      "Title: Sadocom Lot de 100 sacs jetables pour tampons hygiéniques féminines hermétiques et anti-odeurs => Category: Tampons\n",
      "Processing title: Saalt Coupe menstruelle pour adolescent – Coupe réutilisable – À porter pendant 12 heures – Alternative au tampon et au tampon (rose sauvage) (Type: <class 'str'>)\n",
      "Title: Saalt Coupe menstruelle pour adolescent – Coupe réutilisable – À porter pendant 12 heures – Alternative au tampon et au tampon (rose sauvage) => Category: Tampons\n",
      "Processing title: Gyno-Canestest Tampon vaginal (Type: <class 'str'>)\n",
      "Title: Gyno-Canestest Tampon vaginal => Category: Tampons\n",
      "Processing title: o.b. ProComfort Mini Tampons pour jours légers à moyens avec technologie Dynamic Fit et surface SilkTouch, pour un confort ultime* et une protection fiable (1 x 64 pièces) (Type: <class 'str'>)\n",
      "Title: o.b. ProComfort Mini Tampons pour jours légers à moyens avec technologie Dynamic Fit et surface SilkTouch, pour un confort ultime* et une protection fiable (1 x 64 pièces) => Category: Tampons\n",
      "Processing title: Lot de 10 boîtes de 300 sachets pour élimination des tampons et serviettes hygiéniques pour femme - En PE (Type: <class 'str'>)\n",
      "Title: Lot de 10 boîtes de 300 sachets pour élimination des tampons et serviettes hygiéniques pour femme - En PE => Category: Tampons\n",
      "Processing title: Mademoiselle Culotte - Culotte Menstruelle Léa - Sérénité, Confort et Féminité - Taille XS à 6XL (Type: <class 'str'>)\n",
      "Title: Mademoiselle Culotte - Culotte Menstruelle Léa - Sérénité, Confort et Féminité - Taille XS à 6XL => Category: Tampons\n",
      "Processing title: Disque périodique réutilisable, peut être porté jusqu'à 12 heures, alternative durable aux tampons et tampons, pour des flux légers ou lourds, étanche (Type: <class 'str'>)\n",
      "Title: Disque périodique réutilisable, peut être porté jusqu'à 12 heures, alternative durable aux tampons et tampons, pour des flux légers ou lourds, étanche => Category: Tampons\n",
      "Processing title: Ginger Organic - Tampon mini - 18pcs (Type: <class 'str'>)\n",
      "Title: Ginger Organic - Tampon mini - 18pcs => Category: Tampons\n",
      "Processing title: Tampons pour incontinence urinaire, tampons pipi réutilisables utilisation sûre utilisation multifonctionnelle pour les femmes âgées pour un usage quotidien pour les hommes âgés (Type: <class 'str'>)\n",
      "Title: Tampons pour incontinence urinaire, tampons pipi réutilisables utilisation sûre utilisation multifonctionnelle pour les femmes âgées pour un usage quotidien pour les hommes âgés => Category: Tampons\n",
      "Processing title: Pixie N ° 1 pour le plus confortable Coupe menstruelle Cup Chaque Acheté On est à une femme dans le besoin Petit (Type: <class 'str'>)\n",
      "Title: Pixie N ° 1 pour le plus confortable Coupe menstruelle Cup Chaque Acheté On est à une femme dans le besoin Petit => Category: Tampons\n",
      "Processing title: femtis Culotte de règles MEJA Taille Moyenne | sous-vêtements menstruels très absorbants pour saignements abondants | pour Femmes et Filles | Alternative écologique aux tampons et protège-Slips (Type: <class 'str'>)\n",
      "Title: femtis Culotte de règles MEJA Taille Moyenne | sous-vêtements menstruels très absorbants pour saignements abondants | pour Femmes et Filles | Alternative écologique aux tampons et protège-Slips => Category: Tampons\n",
      "Processing title: Tampax Super Plus Tampons, 30 Pièces (Type: <class 'str'>)\n",
      "Title: Tampax Super Plus Tampons, 30 Pièces => Category: Tampons\n",
      "Processing title: FEOYA Lot de 4 Culottes Menstruelle Femmes Nylon Doux Taille Respirante Elasticité Taille Haute sous-vêtements Slips Caleçon. (Type: <class 'str'>)\n",
      "Title: FEOYA Lot de 4 Culottes Menstruelle Femmes Nylon Doux Taille Respirante Elasticité Taille Haute sous-vêtements Slips Caleçon. => Category: Tampons\n",
      "Processing title: CozyCup Coupe menstruelle CLASSIC: Fabriqué Exclusivement en Silicone Médical (grande, violet) (Type: <class 'str'>)\n",
      "Title: CozyCup Coupe menstruelle CLASSIC: Fabriqué Exclusivement en Silicone Médical (grande, violet) => Category: Tampons\n",
      "Processing title: VAILANG 1/3/5/8 Morceaux Médecine Chinoise à Base de Plantes, Detox, Traitement Vaginal, Tampons de Nettoyage (Type: <class 'str'>)\n",
      "Title: VAILANG 1/3/5/8 Morceaux Médecine Chinoise à Base de Plantes, Detox, Traitement Vaginal, Tampons de Nettoyage => Category: Tampons\n",
      "Processing title: O.b. SilkTouch Pro Lot de 3 boîtes de tampons confort mini 16 pièces (Type: <class 'str'>)\n",
      "Title: O.b. SilkTouch Pro Lot de 3 boîtes de tampons confort mini 16 pièces => Category: Tampons\n",
      "Processing title: LATESSA® coupe menstruelle, test très bien, Fabriqué en Allemagne, sans BPA, period menstrual cup, cup menstruelle, cadeau femme, alternative tampons doux/serviettes hygiéniques, S petit (Type: <class 'str'>)\n",
      "Title: LATESSA® coupe menstruelle, test très bien, Fabriqué en Allemagne, sans BPA, period menstrual cup, cup menstruelle, cadeau femme, alternative tampons doux/serviettes hygiéniques, S petit => Category: Tampons\n",
      "Processing title: o.b. ProComfort Super Lot de 54 tampons pour les jours forts avec technologie Dynamic Fit et surface SilkTouch pour un confort ultime et une protection fiable (Type: <class 'str'>)\n",
      "Title: o.b. ProComfort Super Lot de 54 tampons pour les jours forts avec technologie Dynamic Fit et surface SilkTouch pour un confort ultime et une protection fiable => Category: Tampons\n",
      "Processing title: Tampon Menstruel Lavable, 5pcs Tampon Menstruel avec Charbon de Bambou, Tampon Hygiénique Réutilisable Exquis Imprimé Doux pour les Femmes(G42) (Type: <class 'str'>)\n",
      "Title: Tampon Menstruel Lavable, 5pcs Tampon Menstruel avec Charbon de Bambou, Tampon Hygiénique Réutilisable Exquis Imprimé Doux pour les Femmes(G42) => Category: Tampons\n",
      "Processing title: Saforelle Florgynal Tampon Applicateur Compact 9 Normal (Type: <class 'str'>)\n",
      "Title: Saforelle Florgynal Tampon Applicateur Compact 9 Normal => Category: Tampons\n",
      "Processing title: o.b.® Lot de 32 tampons ProComfort Mini pour les jours menstruels légers à normaux, avec technologie Dynamic Fit™ et surface SilkTouch® pour un confort ultime* et une protection fiable (Type: <class 'str'>)\n",
      "Title: o.b.® Lot de 32 tampons ProComfort Mini pour les jours menstruels légers à normaux, avec technologie Dynamic Fit™ et surface SilkTouch® pour un confort ultime* et une protection fiable => Category: Tampons\n",
      "Processing title: Natracare Tampons, Super Plus, 20 CT (Type: <class 'str'>)\n",
      "Title: Natracare Tampons, Super Plus, 20 CT => Category: Tampons\n",
      "Processing title: Didiseaon 4 Pièces Pochette De Protection Menstruelle Support Sacs Menstruels Femme Pochette à Couches Porte-tampon Portable Pochettes Pochette Menstruelle Fruit Délicat Chiffon Étudiant (Type: <class 'str'>)\n",
      "Title: Didiseaon 4 Pièces Pochette De Protection Menstruelle Support Sacs Menstruels Femme Pochette à Couches Porte-tampon Portable Pochettes Pochette Menstruelle Fruit Délicat Chiffon Étudiant => Category: Tampons\n",
      "Processing title: Coussinets Jetables pour la Sueur des Aisselles, Coussinets pour la Sueur des Aisselles pour les Aisselles des Femmes, Tampon Antitranspirant Transparent Ultra Mince (Type: <class 'str'>)\n",
      "Title: Coussinets Jetables pour la Sueur des Aisselles, Coussinets pour la Sueur des Aisselles pour les Aisselles des Femmes, Tampon Antitranspirant Transparent Ultra Mince => Category: Tampons\n",
      "Processing title: Tampax Tampons Compak Cotton Protection, Regular, Bio, 14 unités (Type: <class 'str'>)\n",
      "Title: Tampax Tampons Compak Cotton Protection, Regular, Bio, 14 unités => Category: Tampons\n",
      "Processing title: Tampon Menstruel, ANGGREK 5 Pièces Tampon Hygiénique pour Femmes Coton Réutilisable étanche Lavable Femme Enceinte Tampon Menstruel(M code) (Type: <class 'str'>)\n",
      "Title: Tampon Menstruel, ANGGREK 5 Pièces Tampon Hygiénique pour Femmes Coton Réutilisable étanche Lavable Femme Enceinte Tampon Menstruel(M code) => Category: Tampons\n",
      "Processing title: O.B. Pro Comfort Lot de 2 mini tampons 16 pièces (Type: <class 'str'>)\n",
      "Title: O.B. Pro Comfort Lot de 2 mini tampons 16 pièces => Category: Tampons\n",
      "Processing title: Natracare Super Plus 20 Tampons en coton bio (Type: <class 'str'>)\n",
      "Title: Natracare Super Plus 20 Tampons en coton bio => Category: Tampons\n",
      "Processing title: 5 Pièces Femmes Tampon Hygiénique Tampon Menstruel Coton Réutilisable étanche Lavable Femme Enceinte Tampon Menstruel (M) (Type: <class 'str'>)\n",
      "Title: 5 Pièces Femmes Tampon Hygiénique Tampon Menstruel Coton Réutilisable étanche Lavable Femme Enceinte Tampon Menstruel (M) => Category: Tampons\n",
      "Processing title: Tampon Menstruel, 5 Pièces Tampons Hygiéniques en Coton Réutilisables Lavables et étanches Tampons Féminins Menstruels pour Femmes(M code) (Type: <class 'str'>)\n",
      "Title: Tampon Menstruel, 5 Pièces Tampons Hygiéniques en Coton Réutilisables Lavables et étanches Tampons Féminins Menstruels pour Femmes(M code) => Category: Tampons\n",
      "Processing title: Tampon Menstruel Réutilisable, Tampons Féminins sans Odeur sans Danger 4 Pièces pour Femme (S) (Type: <class 'str'>)\n",
      "Title: Tampon Menstruel Réutilisable, Tampons Féminins sans Odeur sans Danger 4 Pièces pour Femme (S) => Category: Tampons\n",
      "Processing title: Bandelettes de Test de Liquide Amniotique, Tampon de Liquide Amniotique 5pcs pour Ménage pour Femmes Enceintes (Type: <class 'str'>)\n",
      "Title: Bandelettes de Test de Liquide Amniotique, Tampon de Liquide Amniotique 5pcs pour Ménage pour Femmes Enceintes => Category: Tampons\n",
      "Processing title: Natracare Organic Cotton Non Applicator Tampons Super 10 Per Pack (Type: <class 'str'>)\n",
      "Title: Natracare Organic Cotton Non Applicator Tampons Super 10 Per Pack => Category: Tampons\n",
      "Processing title: Organyc Tampons avec Applicateur Compact, 16 Unités (Type: <class 'str'>)\n",
      "Title: Organyc Tampons avec Applicateur Compact, 16 Unités => Category: Tampons\n",
      "Processing title: PROOF® TEEN Culotte menstruelle pour adolescentes - capacité d'absorption moyenne équivalente à 3 tampons, lavable, anti-fuites, anti-odeur, respirante, sans coutures, confortable, anti-bactérienne (Type: <class 'str'>)\n",
      "Title: PROOF® TEEN Culotte menstruelle pour adolescentes - capacité d'absorption moyenne équivalente à 3 tampons, lavable, anti-fuites, anti-odeur, respirante, sans coutures, confortable, anti-bactérienne => Category: Tampons\n",
      "Processing title: Tampax Compak, Tampons Avec Applicateur, Super, 22 Pochettes Individuelles, Flux Moyens à Abondants, Protection contre les Fuites Et Discrétion, Sensation De Fraîcheur, Insertion Confortable (Type: <class 'str'>)\n",
      "Title: Tampax Compak, Tampons Avec Applicateur, Super, 22 Pochettes Individuelles, Flux Moyens à Abondants, Protection contre les Fuites Et Discrétion, Sensation De Fraîcheur, Insertion Confortable => Category: Tampons\n",
      "Processing title: Sac à serviettes hygiéniques à fermeture éclair pour femmes et filles (empreinte de chien mignonne) (Type: <class 'str'>)\n",
      "Title: Sac à serviettes hygiéniques à fermeture éclair pour femmes et filles (empreinte de chien mignonne) => Category: Tampons\n",
      "Processing title: Fulidngzg Sous-vêtements périodiques = 4-5 tampons - Lavable - Coton - Menstruation - Fille Femme - Sous-vêtements menstruels Saignement abondant - Culotte menstruelle - Absorbant 2023 (Type: <class 'str'>)\n",
      "Title: Fulidngzg Sous-vêtements périodiques = 4-5 tampons - Lavable - Coton - Menstruation - Fille Femme - Sous-vêtements menstruels Saignement abondant - Culotte menstruelle - Absorbant 2023 => Category: Tampons\n",
      "Processing title: Sac à serviettes hygiéniques à fermeture éclair pour femmes et filles (formule mathématiques et physique) (Type: <class 'str'>)\n",
      "Title: Sac à serviettes hygiéniques à fermeture éclair pour femmes et filles (formule mathématiques et physique) => Category: Tampons\n",
      "Processing title: FLO Lot de 14 tampons applicateurs, fabriqués à partir de coton bio, biodégradables, standard et super combo, lot de 1 (Type: <class 'str'>)\n",
      "Title: FLO Lot de 14 tampons applicateurs, fabriqués à partir de coton bio, biodégradables, standard et super combo, lot de 1 => Category: Tampons\n",
      "Processing title: Sac à serviettes hygiéniques avec fermeture éclair pour femmes et filles (motif Merry Christmas), Couleur 4, 1 count (Pack of 1) (Type: <class 'str'>)\n",
      "Title: Sac à serviettes hygiéniques avec fermeture éclair pour femmes et filles (motif Merry Christmas), Couleur 4, 1 count (Pack of 1) => Category: Tampons\n",
      "Processing title: Sac à serviettes hygiéniques avec fermeture éclair pour femmes et filles (Merry Christmas Santa Claus), Couleur 6, 4.7x6.6x6.6 in/12x17x17 cm (Type: <class 'str'>)\n",
      "Title: Sac à serviettes hygiéniques avec fermeture éclair pour femmes et filles (Merry Christmas Santa Claus), Couleur 6, 4.7x6.6x6.6 in/12x17x17 cm => Category: Tampons\n",
      "Processing title: Super tampon, tampon en coton léger 18 pièces confortables. Un souffle rafraîchissant pour les femmes au travail. (Type: <class 'str'>)\n",
      "Title: Super tampon, tampon en coton léger 18 pièces confortables. Un souffle rafraîchissant pour les femmes au travail. => Category: Tampons\n",
      "Processing title: MUOOUM Sac de serviettes hygiéniques à fermeture éclair pour femmes et filles (motif Père Noël traîneau), Couleur 7, 1 count (Pack of 1) (Type: <class 'str'>)\n",
      "Title: MUOOUM Sac de serviettes hygiéniques à fermeture éclair pour femmes et filles (motif Père Noël traîneau), Couleur 7, 1 count (Pack of 1) => Category: Tampons\n",
      "Processing title: MUOOUM Sac de serviettes hygiéniques à fermeture éclair pour femmes et filles (motif Père Noël traîneau), Couleur 4, 1 count (Pack of 1) (Type: <class 'str'>)\n",
      "Title: MUOOUM Sac de serviettes hygiéniques à fermeture éclair pour femmes et filles (motif Père Noël traîneau), Couleur 4, 1 count (Pack of 1) => Category: Tampons\n",
      "Processing title: MUOOUM Sac de serviettes hygiéniques à fermeture éclair pour femmes et filles (motif canne de Noël), Couleur 6, 1 count (Pack of 1) (Type: <class 'str'>)\n",
      "Title: MUOOUM Sac de serviettes hygiéniques à fermeture éclair pour femmes et filles (motif canne de Noël), Couleur 6, 1 count (Pack of 1) => Category: Tampons\n",
      "Processing title: MUOOUM Sac de serviettes hygiéniques avec fermeture éclair pour femmes et filles (motif flocon de neige), Couleur 8, 1 count (Pack of 1) (Type: <class 'str'>)\n",
      "Title: MUOOUM Sac de serviettes hygiéniques avec fermeture éclair pour femmes et filles (motif flocon de neige), Couleur 8, 1 count (Pack of 1) => Category: Tampons\n",
      "Processing title: Guantierendiy Sac de soins féminins – Support doux et pratique pour sac à main, sacs menstruels pour adolescentes et femmes, motif hippocampe et algues (Type: <class 'str'>)\n",
      "Title: Guantierendiy Sac de soins féminins – Support doux et pratique pour sac à main, sacs menstruels pour adolescentes et femmes, motif hippocampe et algues => Category: Tampons\n",
      "Processing title: Lurrose Porte-Gobelets Menstruels Cas De Lavage Menstruel Nettoyeur De Disque Menstruel Boîtier De Disque Menstruel Femmes Porte-Gobelet Menstruel Sucettes En Silicone En Plein Air Étui (Type: <class 'str'>)\n",
      "Title: Lurrose Porte-Gobelets Menstruels Cas De Lavage Menstruel Nettoyeur De Disque Menstruel Boîtier De Disque Menstruel Femmes Porte-Gobelet Menstruel Sucettes En Silicone En Plein Air Étui => Category: Tampons\n",
      "Processing title: Extérieur Menstruel Tampon, 16.5 X 16.5cm Chiffon Sanitaire Tampons Fait de Bambou charbon (Type: <class 'str'>)\n",
      "Title: Extérieur Menstruel Tampon, 16.5 X 16.5cm Chiffon Sanitaire Tampons Fait de Bambou charbon => Category: Tampons\n",
      "Processing title: Tampons féminins lavables, respectueux de la peau 4 couches tampon hygiénique pour femmes 2 pièces pour période menstruelle des femmes(M12 noir) (Type: <class 'str'>)\n",
      "Title: Tampons féminins lavables, respectueux de la peau 4 couches tampon hygiénique pour femmes 2 pièces pour période menstruelle des femmes(M12 noir) => Category: Tampons\n",
      "Processing title: Tampon Menstruel, Tampon Menstruel Réutilisable en Tissu de Fibre de Charbon de Bois Imperméable Lavable pour Femme (H1-H5) (Type: <class 'str'>)\n",
      "Title: Tampon Menstruel, Tampon Menstruel Réutilisable en Tissu de Fibre de Charbon de Bois Imperméable Lavable pour Femme (H1-H5) => Category: Tampons\n",
      "Processing title: Fulidngzg Sous-vêtements menstruels anti-fuite pour femme - Protège-slips lavables - En coton - Pour incontinence, gris, XXXL (Type: <class 'str'>)\n",
      "Title: Fulidngzg Sous-vêtements menstruels anti-fuite pour femme - Protège-slips lavables - En coton - Pour incontinence, gris, XXXL => Category: Tampons\n",
      "Processing title: Novent Protection - Sac à tampons à Motif Fleurs | Organisateur d'époque, Porte-Tampon pour Sac à Main, Organisateur Produits d'époque pour Femmes Adolescentes Usage Quotidien (Type: <class 'str'>)\n",
      "Title: Novent Protection - Sac à tampons à Motif Fleurs | Organisateur d'époque, Porte-Tampon pour Sac à Main, Organisateur Produits d'époque pour Femmes Adolescentes Usage Quotidien => Category: Tampons\n",
      "Processing title: Tampon menstruel réutilisable, tampon menstruel imperméable à absorption d'eau forte tampon menstruel femmes pour la période menstruelle des femmes(L) (Type: <class 'str'>)\n",
      "Title: Tampon menstruel réutilisable, tampon menstruel imperméable à absorption d'eau forte tampon menstruel femmes pour la période menstruelle des femmes(L) => Category: Tampons\n",
      "Processing title: Coupe Menstruelle Coupe en Siliconee Securite Alternatifs Tampons pour Femme (Grande, Violet) (Type: <class 'str'>)\n",
      "Title: Coupe Menstruelle Coupe en Siliconee Securite Alternatifs Tampons pour Femme (Grande, Violet) => Category: Tampons\n",
      "Processing title: Tampon Menstruel, Tampon Menstruel Réutilisable Lavable Super Absorbant Imperméable Femmes Tampon Menstruel Tampon Hygiénique Féminin(S code) (Type: <class 'str'>)\n",
      "Title: Tampon Menstruel, Tampon Menstruel Réutilisable Lavable Super Absorbant Imperméable Femmes Tampon Menstruel Tampon Hygiénique Féminin(S code) => Category: Tampons\n",
      "Processing title: Tampon Menstruel, Tampon Menstruel Réutilisable Lavable Super Absorbant Imperméable Femmes Tampon Menstruel Tampon Hygiénique Féminin(M code) (Type: <class 'str'>)\n",
      "Title: Tampon Menstruel, Tampon Menstruel Réutilisable Lavable Super Absorbant Imperméable Femmes Tampon Menstruel Tampon Hygiénique Féminin(M code) => Category: Tampons\n",
      "Processing title: Tampon menstruel réutilisable,Tampon Menstruel, Tampon Menstruel Réutilisable Lavable Super Absorbant Imperméable Femmes Tampon Menstruel Tampon Hygiénique Féminin(L code) (Type: <class 'str'>)\n",
      "Title: Tampon menstruel réutilisable,Tampon Menstruel, Tampon Menstruel Réutilisable Lavable Super Absorbant Imperméable Femmes Tampon Menstruel Tampon Hygiénique Féminin(L code) => Category: Tampons\n",
      "Processing title: Menstruel Tampon, Gynécologique Chiffon Menstruel Tampons Superfin Fibre L'eau Absorption pour Menstruation Femmes (Type: <class 'str'>)\n",
      "Title: Menstruel Tampon, Gynécologique Chiffon Menstruel Tampons Superfin Fibre L'eau Absorption pour Menstruation Femmes => Category: Tampons\n",
      "Processing title: Tampon Menstruel, Tampon Menstruel Lavable Anti-fuite Réutilisable Absorbant Imperméable pour Femme (L) (Type: <class 'str'>)\n",
      "Title: Tampon Menstruel, Tampon Menstruel Lavable Anti-fuite Réutilisable Absorbant Imperméable pour Femme (L) => Category: Tampons\n",
      "Processing title: Tampon menstruel réutilisable,Tampon Menstruel, Tampon Menstruel Réutilisable Lavable Super Absorbant Imperméable Femmes Tampon Menstruel Tampon Hygiénique Féminin(S code) (Type: <class 'str'>)\n",
      "Title: Tampon menstruel réutilisable,Tampon Menstruel, Tampon Menstruel Réutilisable Lavable Super Absorbant Imperméable Femmes Tampon Menstruel Tampon Hygiénique Féminin(S code) => Category: Tampons\n",
      "Processing title: Tampon menstruel réutilisable, tampon menstruel pour femmes en charbon de bambou à forte absorption d'eau lavable pour la maison(code S) (Type: <class 'str'>)\n",
      "Title: Tampon menstruel réutilisable, tampon menstruel pour femmes en charbon de bambou à forte absorption d'eau lavable pour la maison(code S) => Category: Tampons\n",
      "Processing title: Tampon menstruel réutilisable, tissu super doux de tampon menstruel imperméable à perméabilité à l'air forte pour les femmes menstruelles(codeM) (Type: <class 'str'>)\n",
      "Title: Tampon menstruel réutilisable, tissu super doux de tampon menstruel imperméable à perméabilité à l'air forte pour les femmes menstruelles(codeM) => Category: Tampons\n",
      "Processing title: Tampon Menstruel, Tampon Menstruel Réutilisable Lavable Super Absorbant Imperméable Femmes Tampon Menstruel Tampon Hygiénique Féminin(L code) (Type: <class 'str'>)\n",
      "Title: Tampon Menstruel, Tampon Menstruel Réutilisable Lavable Super Absorbant Imperméable Femmes Tampon Menstruel Tampon Hygiénique Féminin(L code) => Category: Tampons\n",
      "Processing title: Menstruel Tampon, L'eau Absorption Superfin Fibre Chiffon Menstruel Tampons pour Menstruation Femmes (Type: <class 'str'>)\n",
      "Title: Menstruel Tampon, L'eau Absorption Superfin Fibre Chiffon Menstruel Tampons pour Menstruation Femmes => Category: Tampons\n",
      "Processing title: Exquis Menstruel Tampon, Chiffon Menstruel Tampons Superfin Fibre Tampon Serviette L'eau Absorption pour Menstruation Femmes (Type: <class 'str'>)\n",
      "Title: Exquis Menstruel Tampon, Chiffon Menstruel Tampons Superfin Fibre Tampon Serviette L'eau Absorption pour Menstruation Femmes => Category: Tampons\n",
      "Processing title: Tampon menstruel réutilisable,Tampon Menstruel, Tampon Menstruel Réutilisable Lavable Super Absorbant Imperméable Femmes Tampon Menstruel Tampon Hygiénique Féminin(M code) (Type: <class 'str'>)\n",
      "Title: Tampon menstruel réutilisable,Tampon Menstruel, Tampon Menstruel Réutilisable Lavable Super Absorbant Imperméable Femmes Tampon Menstruel Tampon Hygiénique Féminin(M code) => Category: Tampons\n",
      "Processing title: Fulidngzg Culotte en coton pour femme - Sans coutures - Pour la première période - Noir (Type: <class 'str'>)\n",
      "Title: Fulidngzg Culotte en coton pour femme - Sans coutures - Pour la première période - Noir => Category: Tampons\n",
      "Processing title: Tampons menstruels en tissu, tampons menstruels en tissu doux pour la peau pour les femmes pour la menstruation(codes) (Type: <class 'str'>)\n",
      "Title: Tampons menstruels en tissu, tampons menstruels en tissu doux pour la peau pour les femmes pour la menstruation(codes) => Category: Tampons\n",
      "Processing title: Fulidngzg Sous-vêtements menstruels pour femme : sous-vêtement hipster slip slip menstruel saignement abondant sous-vêtement menstruel sous-vêtement menstruel anti-fuite (Type: <class 'str'>)\n",
      "Title: Fulidngzg Sous-vêtements menstruels pour femme : sous-vêtement hipster slip slip menstruel saignement abondant sous-vêtement menstruel sous-vêtement menstruel anti-fuite => Category: Tampons\n",
      "Processing title: 5 Pièces/boîte 360mm Femmes Tampon Menstruel, Tampon Hygiénique en Coton Respirant pour Utilisation Nocturne Ion Oxygène Négatif, Tampons Ultra Minces avec Ailes (Type: <class 'str'>)\n",
      "Title: 5 Pièces/boîte 360mm Femmes Tampon Menstruel, Tampon Hygiénique en Coton Respirant pour Utilisation Nocturne Ion Oxygène Négatif, Tampons Ultra Minces avec Ailes => Category: Tampons\n",
      "Processing title: 1 Pc Portable Tampons Boîte Pour Femmes Sans Serviette Sanitaire Tampons Tampons Tampons Tampons Randonnées Couleur Aléatoire (Type: <class 'str'>)\n",
      "Title: 1 Pc Portable Tampons Boîte Pour Femmes Sans Serviette Sanitaire Tampons Tampons Tampons Tampons Randonnées Couleur Aléatoire => Category: Tampons\n",
      "Processing title: De Serviettes Hygiéniques, Pochette De Tasse Menstruelle Avec Bouton Porte-tampons Portatifs Porte-monnaie Pour Femmes Adolescentes Filles Dames (Type: <class 'str'>)\n",
      "Title: De Serviettes Hygiéniques, Pochette De Tasse Menstruelle Avec Bouton Porte-tampons Portatifs Porte-monnaie Pour Femmes Adolescentes Filles Dames => Category: Tampons\n",
      "Processing title: Coupe menstruelle pour femme, sans BPA, coupe menstruelle réutilisable, tasse menstruelle en silicone souple, hygiène féminine sans fuite, alternative au tampon et au tampon, jusqu'à 12 heures de (Type: <class 'str'>)\n",
      "Title: Coupe menstruelle pour femme, sans BPA, coupe menstruelle réutilisable, tasse menstruelle en silicone souple, hygiène féminine sans fuite, alternative au tampon et au tampon, jusqu'à 12 heures de => Category: Tampons\n",
      "Processing title: Fulidngzg Sous-vêtement menstruel en coton pour femme - Absorption du flux - Lavable - Slip périodique hipster - Panties - Sous-vêtements périodiques (Type: <class 'str'>)\n",
      "Title: Fulidngzg Sous-vêtement menstruel en coton pour femme - Absorption du flux - Lavable - Slip périodique hipster - Panties - Sous-vêtements périodiques => Category: Tampons\n",
      "Processing title: Fulidngzg Culotte menstruelle pour femme - En coton - Sans coutures - Absorption du flux - Doux - Disques menstruels hipster - Sous-vêtements menstruels (Type: <class 'str'>)\n",
      "Title: Fulidngzg Culotte menstruelle pour femme - En coton - Sans coutures - Absorption du flux - Doux - Disques menstruels hipster - Sous-vêtements menstruels => Category: Tampons\n",
      "Processing title: Protège-dessous en Tissu, Coussinets Menstruels Confortables et Réutilisables pour une Utilisation Nocturne pour les Femmes (G29) (Type: <class 'str'>)\n",
      "Title: Protège-dessous en Tissu, Coussinets Menstruels Confortables et Réutilisables pour une Utilisation Nocturne pour les Femmes (G29) => Category: Tampons\n",
      "Processing title: Fulidngzg Period Panties Sous-vêtements menstruels sans coutures pour femme Culotte d'incontinence Culotte lavable Sous-vêtement menstruel anti-fuite (Type: <class 'str'>)\n",
      "Title: Fulidngzg Period Panties Sous-vêtements menstruels sans coutures pour femme Culotte d'incontinence Culotte lavable Sous-vêtement menstruel anti-fuite => Category: Tampons\n",
      "Processing title: Guantierendiy Sac de soin féminin en peluche motif pieuvre galaxie - Sac de menstruation compact et élégant pour femme, Couleur 4, 4.7x6.6x6.6 in/12x17x17 cm, Moderne (Type: <class 'str'>)\n",
      "Title: Guantierendiy Sac de soin féminin en peluche motif pieuvre galaxie - Sac de menstruation compact et élégant pour femme, Couleur 4, 4.7x6.6x6.6 in/12x17x17 cm, Moderne => Category: Tampons\n",
      "Processing title: MUOOUM Sac de serviettes hygiéniques avec fermeture éclair pour femmes et filles (motif flocon de neige), Couleur 5, 4.7x6.6x6.6 in/12x17x17 cm (Type: <class 'str'>)\n",
      "Title: MUOOUM Sac de serviettes hygiéniques avec fermeture éclair pour femmes et filles (motif flocon de neige), Couleur 5, 4.7x6.6x6.6 in/12x17x17 cm => Category: Tampons\n",
      "Processing title: Sac à serviettes hygiéniques avec fermeture éclair pour femmes et filles (Merry Christmas Santa Claus), Couleur 5, 4.7x6.6x6.6 in/12x17x17 cm (Type: <class 'str'>)\n",
      "Title: Sac à serviettes hygiéniques avec fermeture éclair pour femmes et filles (Merry Christmas Santa Claus), Couleur 5, 4.7x6.6x6.6 in/12x17x17 cm => Category: Tampons\n",
      "Processing title: MUOOUM Sac de serviettes hygiéniques à fermeture éclair pour femmes et filles (motif arbre de Noël hiver), Couleur 7, 1 count (Pack of 1) (Type: <class 'str'>)\n",
      "Title: MUOOUM Sac de serviettes hygiéniques à fermeture éclair pour femmes et filles (motif arbre de Noël hiver), Couleur 7, 1 count (Pack of 1) => Category: Tampons\n",
      "Processing title: MUOOUM Sac de serviettes hygiéniques à fermeture éclair pour femmes et filles (motif arbre de Noël), Couleur 8, 1 count (Pack of 1) (Type: <class 'str'>)\n",
      "Title: MUOOUM Sac de serviettes hygiéniques à fermeture éclair pour femmes et filles (motif arbre de Noël), Couleur 8, 1 count (Pack of 1) => Category: Tampons\n",
      "Processing title: MUOOUM Sac de serviettes hygiéniques à fermeture éclair pour femmes et filles (motif bonhomme en pain d'épice de Noël), Couleur 6, 4.7x6.6x6.6 in/12x17x17 cm (Type: <class 'str'>)\n",
      "Title: MUOOUM Sac de serviettes hygiéniques à fermeture éclair pour femmes et filles (motif bonhomme en pain d'épice de Noël), Couleur 6, 4.7x6.6x6.6 in/12x17x17 cm => Category: Tampons\n",
      "Processing title: Grace & Green, tampons biologiques de qualité supérieure sans applicateur, fabriqués à 100% en coton biologique certifié (Regular - 1 Pack) (Type: <class 'str'>)\n",
      "Title: Grace & Green, tampons biologiques de qualité supérieure sans applicateur, fabriqués à 100% en coton biologique certifié (Regular - 1 Pack) => Category: Tampons\n",
      "Processing title: Cup Menstruelle 100% en Silicone Médical - Hygiène féminine Menstruelle Boites -43mm (Type: <class 'str'>)\n",
      "Title: Cup Menstruelle 100% en Silicone Médical - Hygiène féminine Menstruelle Boites -43mm => Category: Tampons\n",
      "Processing title: Tampax Compak Super Plus, blanc, 120 grammes, lot de 16 tampons (Type: <class 'str'>)\n",
      "Title: Tampax Compak Super Plus, blanc, 120 grammes, lot de 16 tampons => Category: Tampons\n",
      "Processing title: Tampax Regular Absorbency Tampons with Flushable Applicator 20 ct by Tampax (Type: <class 'str'>)\n",
      "Title: Tampax Regular Absorbency Tampons with Flushable Applicator 20 ct by Tampax => Category: Tampons\n",
      "Processing title: Sac à serviettes hygiéniques à fermeture éclair pour femmes et filles (fleur de chien) (Type: <class 'str'>)\n",
      "Title: Sac à serviettes hygiéniques à fermeture éclair pour femmes et filles (fleur de chien) => Category: Tampons\n",
      "Processing title: Bodhi2000 Porte-tampon multifonction en coton imprimé feuilles d'érable vert (Type: <class 'str'>)\n",
      "Title: Bodhi2000 Porte-tampon multifonction en coton imprimé feuilles d'érable vert => Category: Tampons\n",
      "Processing title: lines Assorbenti Seta Ultra Notte Ali 8 Pzdla Gamma Di Assorbenti Che Offre L'Asciutto Pulito N°1 en Italie, Grazie Alla Tecnologia Instant Dry. (Type: <class 'str'>)\n",
      "Title: lines Assorbenti Seta Ultra Notte Ali 8 Pzdla Gamma Di Assorbenti Che Offre L'Asciutto Pulito N°1 en Italie, Grazie Alla Tecnologia Instant Dry. => Category: Tampons\n",
      "Processing title: Boîte de 16 tampons super avec applicateur - Natracare (Type: <class 'str'>)\n",
      "Title: Boîte de 16 tampons super avec applicateur - Natracare => Category: Tampons\n",
      "Processing title: Saforelle 16 Tampons Normal avec Applicateur (Type: <class 'str'>)\n",
      "Title: Saforelle 16 Tampons Normal avec Applicateur => Category: Tampons\n",
      "Processing title: Intima Cup - Coupe Menstruelle Taille 1 - Protection et Confiance - Flux Régulier (Type: <class 'str'>)\n",
      "Title: Intima Cup - Coupe Menstruelle Taille 1 - Protection et Confiance - Flux Régulier => Category: Tampons\n",
      "Processing title: BE CUP - Coupe Menstruelle BeCup Taille 1 - Coupe Menstruelle - Confort et Sécurité (Type: <class 'str'>)\n",
      "Title: BE CUP - Coupe Menstruelle BeCup Taille 1 - Coupe Menstruelle - Confort et Sécurité => Category: Tampons\n",
      "Processing title: OVIO Tasse menstruelle réutilisable en silicone souple et flexible 100% de qualité médicale avec pochette de voyage – Sans fuite et fiable avec taille de remplacement (Régulière) (Type: <class 'str'>)\n",
      "Title: OVIO Tasse menstruelle réutilisable en silicone souple et flexible 100% de qualité médicale avec pochette de voyage – Sans fuite et fiable avec taille de remplacement (Régulière) => Category: Tampons\n",
      "Processing title: Intimina Lily Cup One - La Coupe Menstruelle Souple pour Débutantes, Idéale pour les Ados (Type: <class 'str'>)\n",
      "Title: Intimina Lily Cup One - La Coupe Menstruelle Souple pour Débutantes, Idéale pour les Ados => Category: Tampons\n",
      "Processing title: BE’CUP INTIMY CARE - Coupe menstruelle taille 2 - Protection hygiénique alternative (Type: <class 'str'>)\n",
      "Title: BE’CUP INTIMY CARE - Coupe menstruelle taille 2 - Protection hygiénique alternative => Category: Tampons\n",
      "Processing title: PEESAFE Coupe menstruelle réutilisable | Petite-moyenne Taille A- 18 ans et plus (N'a pas accouché par voie vaginale) | la cup menstruelle | cup menstruelles | Pas de fuite ni d'infection (Type: <class 'str'>)\n",
      "Title: PEESAFE Coupe menstruelle réutilisable | Petite-moyenne Taille A- 18 ans et plus (N'a pas accouché par voie vaginale) | la cup menstruelle | cup menstruelles | Pas de fuite ni d'infection => Category: Tampons\n",
      "Processing title: CLARIPHARM Duopack Coupes Menstruelles Claricup Taille 2 (Type: <class 'str'>)\n",
      "Title: CLARIPHARM Duopack Coupes Menstruelles Claricup Taille 2 => Category: Tampons\n",
      "Processing title: ella y yo - Applicateur de Cup Menstruelle (utilisation avec un lubrifiant) n'inclut pas la coupe menstruelle (Type: <class 'str'>)\n",
      "Title: ella y yo - Applicateur de Cup Menstruelle (utilisation avec un lubrifiant) n'inclut pas la coupe menstruelle => Category: Tampons\n",
      "Processing title: CROING 𝗖𝗼𝘂𝗽𝗲 𝗠𝗲𝗻𝘀𝘁𝗿𝘂𝗲𝗹𝗹𝗲 2 pcs Coupe Menstruelle (Blanc) (Type: <class 'str'>)\n",
      "Title: CROING 𝗖𝗼𝘂𝗽𝗲 𝗠𝗲𝗻𝘀𝘁𝗿𝘂𝗲𝗹𝗹𝗲 2 pcs Coupe Menstruelle (Blanc) => Category: Tampons\n",
      "Processing title: Rainbow Cup, Coupe menstruelle, fabriquée en Italie, en silicone médical sans latex et additifs, confortable, écologique, sûr, en plusieurs variantes, coupe menstruelle douce, transparente, taille 2 (Type: <class 'str'>)\n",
      "Title: Rainbow Cup, Coupe menstruelle, fabriquée en Italie, en silicone médical sans latex et additifs, confortable, écologique, sûr, en plusieurs variantes, coupe menstruelle douce, transparente, taille 2 => Category: Tampons\n",
      "Processing title: Intimina Lily Cup Taille A - Coupe Menstruelle Fine, la Cup Règles que Vous Pouvez Porter Jusqu’à 8 Heures Consécutives (Type: <class 'str'>)\n",
      "Title: Intimina Lily Cup Taille A - Coupe Menstruelle Fine, la Cup Règles que Vous Pouvez Porter Jusqu’à 8 Heures Consécutives => Category: Tampons\n",
      "Processing title: CROING 𝗖𝗼𝘂𝗽𝗲 𝗠𝗲𝗻𝘀𝘁𝗿𝘂𝗲𝗹𝗹𝗲 2 pcs Coupe Menstruelle (Violet) (Type: <class 'str'>)\n",
      "Title: CROING 𝗖𝗼𝘂𝗽𝗲 𝗠𝗲𝗻𝘀𝘁𝗿𝘂𝗲𝗹𝗹𝗲 2 pcs Coupe Menstruelle (Violet) => Category: Tampons\n",
      "Processing title: Kit de Coupe Menstruelle, Ensemble de Coupe Menstruelle YTYOMUR avec Deux Coupes Menstruelles Réutilisables, Design Compact-Facile à Cacher pour éviter l'embarras, Adapté aux voyages (Type: <class 'str'>)\n",
      "Title: Kit de Coupe Menstruelle, Ensemble de Coupe Menstruelle YTYOMUR avec Deux Coupes Menstruelles Réutilisables, Design Compact-Facile à Cacher pour éviter l'embarras, Adapté aux voyages => Category: Tampons\n",
      "Processing title: PEE SAFE Cup menstruelle (grande) | Flux abondant | Coupe menstruelle douce et flexible | Pas d'éruption cutanée | Pas de fuite ni d'infection | Coupe menstruelle réutilisable (Type: <class 'str'>)\n",
      "Title: PEE SAFE Cup menstruelle (grande) | Flux abondant | Coupe menstruelle douce et flexible | Pas d'éruption cutanée | Pas de fuite ni d'infection | Coupe menstruelle réutilisable => Category: Tampons\n",
      "Processing title: Mamicup® La Cuope Menstruelle en Silicone de Qualité Médicale, Certifié par la FDA, Meilleure Alternative aux Tampon (Rose, L) (Type: <class 'str'>)\n",
      "Title: Mamicup® La Cuope Menstruelle en Silicone de Qualité Médicale, Certifié par la FDA, Meilleure Alternative aux Tampon (Rose, L) => Category: Tampons\n",
      "Processing title: Merula Cup XL midnight (noir) - La coupe menstruelle pour les journées intenses (Type: <class 'str'>)\n",
      "Title: Merula Cup XL midnight (noir) - La coupe menstruelle pour les journées intenses => Category: Tampons\n",
      "Processing title: Coupe Menstruelle Souple, FainFun Menstrual Cup Kit, 2 Pièces Period Cup Sont en Silicone Souple, Cup Menstruelle de Grande Taille et Petite Taille, Coupelle Menstruelle Réutilisable (Type: <class 'str'>)\n",
      "Title: Coupe Menstruelle Souple, FainFun Menstrual Cup Kit, 2 Pièces Period Cup Sont en Silicone Souple, Cup Menstruelle de Grande Taille et Petite Taille, Coupelle Menstruelle Réutilisable => Category: Tampons\n",
      "Processing title: CROING 𝗖𝗼𝘂𝗽𝗲 𝗠𝗲𝗻𝘀𝘁𝗿𝘂𝗲𝗹𝗹𝗲 2 pcs Coupe Menstruelle (Violet S et Blanc L) (Type: <class 'str'>)\n",
      "Title: CROING 𝗖𝗼𝘂𝗽𝗲 𝗠𝗲𝗻𝘀𝘁𝗿𝘂𝗲𝗹𝗹𝗲 2 pcs Coupe Menstruelle (Violet S et Blanc L) => Category: Tampons\n",
      "Processing title: FENYW Disque menstruel, Disques menstruels réutilisables femdisc en silicone médical, disque menstruel femdisc cup menstruelle tampons souples alternatifs et OB (violet, S+L) (Type: <class 'str'>)\n",
      "Title: FENYW Disque menstruel, Disques menstruels réutilisables femdisc en silicone médical, disque menstruel femdisc cup menstruelle tampons souples alternatifs et OB (violet, S+L) => Category: Tampons\n",
      "Processing title: Mkitnvy Disque menstruel 2 pièces, Disques menstruels réutilisables, disque menstruel étanche, Coupes menstruelles, sans BPA et durable, alternative aux tampons (Type: <class 'str'>)\n",
      "Title: Mkitnvy Disque menstruel 2 pièces, Disques menstruels réutilisables, disque menstruel étanche, Coupes menstruelles, sans BPA et durable, alternative aux tampons => Category: Tampons\n",
      "Processing title: Coupe menstruelle OrganiCup – Taille B/Grande – Prix 2019 AllergyAwards – Approuvée par la FDA – Silicone de qualité médicale, doux, souple et réutilisable (Type: <class 'str'>)\n",
      "Title: Coupe menstruelle OrganiCup – Taille B/Grande – Prix 2019 AllergyAwards – Approuvée par la FDA – Silicone de qualité médicale, doux, souple et réutilisable => Category: Tampons\n",
      "Processing title: YTYOMUR Menstrual Cups, 2 coupes menstruelles souples accompagnées d'une coupe nettoyante pliable - Hygiène féminine alternative aux tampons et serviettes hygiéniques, réutilisable (Type: <class 'str'>)\n",
      "Title: YTYOMUR Menstrual Cups, 2 coupes menstruelles souples accompagnées d'une coupe nettoyante pliable - Hygiène féminine alternative aux tampons et serviettes hygiéniques, réutilisable => Category: Tampons\n",
      "Processing title: Ziggy Cup 2 d’INTIMINA – Une nouvelle génération de disque menstruel réutilisable ultrapla t (Taille A) (Type: <class 'str'>)\n",
      "Title: Ziggy Cup 2 d’INTIMINA – Une nouvelle génération de disque menstruel réutilisable ultrapla t (Taille A) => Category: Tampons\n",
      "Processing title: enna Cycle « M » 2 Coupelles Menstruelles + Récipient pour Stérilisation + Applicateur (Type: <class 'str'>)\n",
      "Title: enna Cycle « M » 2 Coupelles Menstruelles + Récipient pour Stérilisation + Applicateur => Category: Tampons\n",
      "Processing title: Coupe menstruelle,Cup Menstruelle,Organi Cup,Silicone,douce et flexible,souple et réutilisable(Blanc-L) (Type: <class 'str'>)\n",
      "Title: Coupe menstruelle,Cup Menstruelle,Organi Cup,Silicone,douce et flexible,souple et réutilisable(Blanc-L) => Category: Tampons\n",
      "Processing title: Coupe menstruelle OrganiCup – Taille A/Petit – Prix 2019 AllergyAwards – Approuvée par la FDA – Silicone de qualité médicale, doux, souple et réutilisable (Type: <class 'str'>)\n",
      "Title: Coupe menstruelle OrganiCup – Taille A/Petit – Prix 2019 AllergyAwards – Approuvée par la FDA – Silicone de qualité médicale, doux, souple et réutilisable => Category: Tampons\n",
      "Processing title: Happy Cup Lot de 2 coupes menstruelles réutilisables pour débutants, coupe menstruelle plus confortable, meilleure alternative féminine, qualité respectueuse de l'environnement (Type: <class 'str'>)\n",
      "Title: Happy Cup Lot de 2 coupes menstruelles réutilisables pour débutants, coupe menstruelle plus confortable, meilleure alternative féminine, qualité respectueuse de l'environnement => Category: Tampons\n",
      "Processing title: Merula Cup Coupe menstruelle en silicone médical Taille unique (Type: <class 'str'>)\n",
      "Title: Merula Cup Coupe menstruelle en silicone médical Taille unique => Category: Tampons\n",
      "Processing title: Saalt Lot de 2 coupelles menstruelles souples – Coupe sensible – # 1 Active Cup – À porter pendant 12 heures – Souple, flexible, réutilisable en silicone de qualité médicale (Type: <class 'str'>)\n",
      "Title: Saalt Lot de 2 coupelles menstruelles souples – Coupe sensible – # 1 Active Cup – À porter pendant 12 heures – Souple, flexible, réutilisable en silicone de qualité médicale => Category: Tampons\n",
      "Processing title: Beppy Cup - Coupe Menstuelle | Cup Menstruelle | 2 coupes menstruelles (Sunrise (Orange/Rouge)) (Type: <class 'str'>)\n",
      "Title: Beppy Cup - Coupe Menstuelle | Cup Menstruelle | 2 coupes menstruelles (Sunrise (Orange/Rouge)) => Category: Tampons\n",
      "Processing title: 2 Lot De Disques Cup Coupe Menstruelle (Petit Et Grand) Lovense Cup Menstruelle Eponge RéUtilisable Tampon En Silicone FéMinin Sans Fuites De L'Environnement (Type: <class 'str'>)\n",
      "Title: 2 Lot De Disques Cup Coupe Menstruelle (Petit Et Grand) Lovense Cup Menstruelle Eponge RéUtilisable Tampon En Silicone FéMinin Sans Fuites De L'Environnement => Category: Tampons\n",
      "Processing title: enna cycle starter kit-easy cup (Type: <class 'str'>)\n",
      "Title: enna cycle starter kit-easy cup => Category: Tampons\n",
      "Processing title: CLARIPHARM Duopack Coupes Menstruelles Claricup Taille 3 (Type: <class 'str'>)\n",
      "Title: CLARIPHARM Duopack Coupes Menstruelles Claricup Taille 3 => Category: Tampons\n",
      "Processing title: ENNA CYCLE \"M\" - 2 coupe menstruelles + Boîte de stérilisation (Type: <class 'str'>)\n",
      "Title: ENNA CYCLE \"M\" - 2 coupe menstruelles + Boîte de stérilisation => Category: Tampons\n",
      "Processing title: PEE SAFE Cup menstruelle (très petite) | Convient pour les 18 ans et moins | 100% silicone de qualité médicale | Livré avec une pochette de voyage | Anti-fuite et sans infection (Type: <class 'str'>)\n",
      "Title: PEE SAFE Cup menstruelle (très petite) | Convient pour les 18 ans et moins | 100% silicone de qualité médicale | Livré avec une pochette de voyage | Anti-fuite et sans infection => Category: Tampons\n",
      "Processing title: LATESSA® Cup Menstruelles, Certifié très bon, Fabriqué en Allemagne, cup menstruelle, cup, Sac en coton biologique, Alternative tampons doux/serviettes hygiéniques, L grand (Type: <class 'str'>)\n",
      "Title: LATESSA® Cup Menstruelles, Certifié très bon, Fabriqué en Allemagne, cup menstruelle, cup, Sac en coton biologique, Alternative tampons doux/serviettes hygiéniques, L grand => Category: Tampons\n",
      "Processing title: Merula Cup apple (vert) \"taille unique\" - Coupe menstruelle en silicone à usage médical (Type: <class 'str'>)\n",
      "Title: Merula Cup apple (vert) \"taille unique\" - Coupe menstruelle en silicone à usage médical => Category: Tampons\n",
      "Processing title: Coupe Menstruelle Eureka!Cup (XL) | Vider sans le retirer du vagin (Type: <class 'str'>)\n",
      "Title: Coupe Menstruelle Eureka!Cup (XL) | Vider sans le retirer du vagin => Category: Tampons\n",
      "Processing title: CLARIPHARM Duopack Coupes Menstruelles Claricup Taille 1 (Type: <class 'str'>)\n",
      "Title: CLARIPHARM Duopack Coupes Menstruelles Claricup Taille 1 => Category: Tampons\n",
      "Processing title: Me Luna Coupe menstruelle Soft, bague, cyan, Taille M (Type: <class 'str'>)\n",
      "Title: Me Luna Coupe menstruelle Soft, bague, cyan, Taille M => Category: Tampons\n",
      "Processing title: enna cycle easy «L» 2 Coupes Menstruelles + Récipient pour Stérilisation (Type: <class 'str'>)\n",
      "Title: enna cycle easy «L» 2 Coupes Menstruelles + Récipient pour Stérilisation => Category: Tampons\n",
      "Processing title: Me Luna Coupe menstruelle Classic, manche, Violet, Taille S (Type: <class 'str'>)\n",
      "Title: Me Luna Coupe menstruelle Classic, manche, Violet, Taille S => Category: Tampons\n",
      "Processing title: Instead Softcups 12 Hour Feminine Protection,14 Count by EvoFem (Type: <class 'str'>)\n",
      "Title: Instead Softcups 12 Hour Feminine Protection,14 Count by EvoFem => Category: Tampons\n",
      "Processing title: IINTI-MACY Parent (Type: <class 'str'>)\n",
      "Title: IINTI-MACY Parent => Category: Tampons\n",
      "Processing title: Lumma Unique - Coupe Menstruelle Flexible avec Cordon Silicone Médical - Cup Réutilisable - Sans Fuites - Confortable Tres Doux - High, Unicorn (Type: <class 'str'>)\n",
      "Title: Lumma Unique - Coupe Menstruelle Flexible avec Cordon Silicone Médical - Cup Réutilisable - Sans Fuites - Confortable Tres Doux - High, Unicorn => Category: Tampons\n",
      "Processing title: Neione Culotte Menstruelle Flux Abondant | Hipsters Extra-Doux pour Règles Post Partum (Type: <class 'str'>)\n",
      "Title: Neione Culotte Menstruelle Flux Abondant | Hipsters Extra-Doux pour Règles Post Partum => Category: Tampons\n",
      "Processing title: Nizirioo 2 Pièces Coupe Menstruelle, Disque Menstruel, Coupe Menstruelle Souple, Ensemble De Coupe Menstruellecoupe Menstruelle Pour Les Soins Féminins Lavable Et Réutilisable (S-L) (Type: <class 'str'>)\n",
      "Title: Nizirioo 2 Pièces Coupe Menstruelle, Disque Menstruel, Coupe Menstruelle Souple, Ensemble De Coupe Menstruellecoupe Menstruelle Pour Les Soins Féminins Lavable Et Réutilisable (S-L) => Category: Tampons\n",
      "Processing title: Lumma Unique - Coupe Menstruelle Flexible avec Cordon Silicone Médical - Cup Réutilisable - Sans Fuites - Confortable Tres Doux - Small, Unicorn (Type: <class 'str'>)\n",
      "Title: Lumma Unique - Coupe Menstruelle Flexible avec Cordon Silicone Médical - Cup Réutilisable - Sans Fuites - Confortable Tres Doux - Small, Unicorn => Category: Tampons\n",
      "Processing title: Me Luna Coupe menstruelle Classic, boule, Violet, Taille L (Type: <class 'str'>)\n",
      "Title: Me Luna Coupe menstruelle Classic, boule, Violet, Taille L => Category: Tampons\n",
      "Processing title: Me Luna Coupe Menstruelle Classic Manche Violet Taille L (Type: <class 'str'>)\n",
      "Title: Me Luna Coupe Menstruelle Classic Manche Violet Taille L => Category: Tampons\n",
      "Processing title: Intima Cup, Coupe Menstruelle Taille 1 Normal - Flux Régulier, Lot de 2 (Type: <class 'str'>)\n",
      "Title: Intima Cup, Coupe Menstruelle Taille 1 Normal - Flux Régulier, Lot de 2 => Category: Tampons\n",
      "Processing title: MYLILY® Cup menstruelle | 100% silicone médical I Durable et économique I Coupe menstruelle | Sans BPA ni latex | Réutilisable I 5 tailles (M1) (Type: <class 'str'>)\n",
      "Title: MYLILY® Cup menstruelle | 100% silicone médical I Durable et économique I Coupe menstruelle | Sans BPA ni latex | Réutilisable I 5 tailles (M1) => Category: Tampons\n",
      "Processing title: Merula Cupscup Nettoyeur vapeur à micro-ondes pour coupes menstruelles (Type: <class 'str'>)\n",
      "Title: Merula Cupscup Nettoyeur vapeur à micro-ondes pour coupes menstruelles => Category: Tampons\n",
      "Processing title: Merula – Coupe menstruelle – Taille XL – Pour les jours de flux abondants (Type: <class 'str'>)\n",
      "Title: Merula – Coupe menstruelle – Taille XL – Pour les jours de flux abondants => Category: Tampons\n",
      "Processing title: Me Luna Coupe menstruelle Classic, bague, bleu/paillettes, Taille M (Type: <class 'str'>)\n",
      "Title: Me Luna Coupe menstruelle Classic, bague, bleu/paillettes, Taille M => Category: Tampons\n",
      "Processing title: Me Luna Coupe menstruelle Classic, bague, bleu, Taille S (Type: <class 'str'>)\n",
      "Title: Me Luna Coupe menstruelle Classic, bague, bleu, Taille S => Category: Tampons\n",
      "Processing title: Chillhil - Comprend 2 Coupes Menstruelles Tailles S et L et une Récipient pour Stérilisation - Cup Menstruelle 100% Silicone de Qualité Médicale, Réutilisable et Lavable (Type: <class 'str'>)\n",
      "Title: Chillhil - Comprend 2 Coupes Menstruelles Tailles S et L et une Récipient pour Stérilisation - Cup Menstruelle 100% Silicone de Qualité Médicale, Réutilisable et Lavable => Category: Tampons\n",
      "Processing title: Gobesty Cup Menstruelle Femdisc Disque Menstruel, Disques Menstruels Réutilisables Coupe Menstruelle Merula Cup Réutilisable Disque Périodique 2pcs(L+S) (Type: <class 'str'>)\n",
      "Title: Gobesty Cup Menstruelle Femdisc Disque Menstruel, Disques Menstruels Réutilisables Coupe Menstruelle Merula Cup Réutilisable Disque Périodique 2pcs(L+S) => Category: Tampons\n",
      "Processing title: French Tendance Pharma'Cup Toilette Intime Rose T1 (Type: <class 'str'>)\n",
      "Title: French Tendance Pharma'Cup Toilette Intime Rose T1 => Category: Tampons\n",
      "Processing title: FENYW Femdisc Disque menstruel, 2 Cup Menstruelle Disque Réutilisables Femdisc, Disque Menstruel, Coupe Menstruelle Souple Anti-fuite en Silicone, Tampons Souples Alternatives & OB, (Taille S+L) (Type: <class 'str'>)\n",
      "Title: FENYW Femdisc Disque menstruel, 2 Cup Menstruelle Disque Réutilisables Femdisc, Disque Menstruel, Coupe Menstruelle Souple Anti-fuite en Silicone, Tampons Souples Alternatives & OB, (Taille S+L) => Category: Tampons\n",
      "Processing title: enna cycle easy «M» 2 Coupes Menstruelles + Récipient pour Stérilisation + Applicateur (Type: <class 'str'>)\n",
      "Title: enna cycle easy «M» 2 Coupes Menstruelles + Récipient pour Stérilisation + Applicateur => Category: Tampons\n",
      "Processing title: 2x Coupe Menstruelle Femme Essentials - Coupelle Menstruelle discrète et hygiénique - en Silicone médical avec Pochette en Satin et Instructions en français - Cup Menstruelle - Rose (Groß) (Type: <class 'str'>)\n",
      "Title: 2x Coupe Menstruelle Femme Essentials - Coupelle Menstruelle discrète et hygiénique - en Silicone médical avec Pochette en Satin et Instructions en français - Cup Menstruelle - Rose (Groß) => Category: Tampons\n",
      "Processing title: Loop Cup - Coupe menstruelle naturelle de qualité supérieure (grande) en caoutchouc biodégradable souple et flexible, protection périodique la plus écologique jusqu'à 12 heures. (Type: <class 'str'>)\n",
      "Title: Loop Cup - Coupe menstruelle naturelle de qualité supérieure (grande) en caoutchouc biodégradable souple et flexible, protection périodique la plus écologique jusqu'à 12 heures. => Category: Tampons\n",
      "Processing title: Me Luna Coupe menstruelle Classic, boule, Violet, Taille M (Type: <class 'str'>)\n",
      "Title: Me Luna Coupe menstruelle Classic, boule, Violet, Taille M => Category: Tampons\n",
      "Processing title: Coupe menstruelle Lybera fuchsia Cup (Taille2) (Type: <class 'str'>)\n",
      "Title: Coupe menstruelle Lybera fuchsia Cup (Taille2) => Category: Tampons\n",
      "Processing title: Me Luna Coupe menstruelle Classic, boule, rouge, Taille Shorty XL (Type: <class 'str'>)\n",
      "Title: Me Luna Coupe menstruelle Classic, boule, rouge, Taille Shorty XL => Category: Tampons\n",
      "Processing title: Applicateur de coupe menstruelle, insertion sans effort et confortable, réutilisable et compatible avec la plupart des coupes menstruelles, pour adolescents ou débutants (doit être utilisé avec du (Type: <class 'str'>)\n",
      "Title: Applicateur de coupe menstruelle, insertion sans effort et confortable, réutilisable et compatible avec la plupart des coupes menstruelles, pour adolescents ou débutants (doit être utilisé avec du => Category: Tampons\n",
      "Processing title: Cups Menstruelles Dutchess – Taille Large A (25 Millilitre) pour les Femmes Après un Accouchement par Voie Basse – Lot de Deux pour Une dans un Sac Réutilisable. Petit Prix — Entièrement sûres (Type: <class 'str'>)\n",
      "Title: Cups Menstruelles Dutchess – Taille Large A (25 Millilitre) pour les Femmes Après un Accouchement par Voie Basse – Lot de Deux pour Une dans un Sac Réutilisable. Petit Prix — Entièrement sûres => Category: Tampons\n",
      "Processing title: M MUNCASO Coupe Menstruelle 2 pièces Period Menstrual Cup, Très douce et flexible Coupe Menstruelle Réutilisable et Lavable Silicone Médical Coupe Menstruelle (L, Rouge Rosé) (Type: <class 'str'>)\n",
      "Title: M MUNCASO Coupe Menstruelle 2 pièces Period Menstrual Cup, Très douce et flexible Coupe Menstruelle Réutilisable et Lavable Silicone Médical Coupe Menstruelle (L, Rouge Rosé) => Category: Tampons\n",
      "Processing title: Me Luna Coupe menstruelle Classic, bille, noir, Taille S (Type: <class 'str'>)\n",
      "Title: Me Luna Coupe menstruelle Classic, bille, noir, Taille S => Category: Tampons\n",
      "Processing title: Pixie Cup Mieux que Diva Coupe menstruelle liquide de lavage Moussant Distributeur Tous les ingrédients biologiques et naturels et Healthiest meilleure façon de nettoyer votre période Coupe 200ml (Type: <class 'str'>)\n",
      "Title: Pixie Cup Mieux que Diva Coupe menstruelle liquide de lavage Moussant Distributeur Tous les ingrédients biologiques et naturels et Healthiest meilleure façon de nettoyer votre période Coupe 200ml => Category: Tampons\n",
      "Processing title: Me Luna Coupe menstruelle Classic, manche, bleu, Taille M (Type: <class 'str'>)\n",
      "Title: Me Luna Coupe menstruelle Classic, manche, bleu, Taille M => Category: Tampons\n",
      "Processing title: Me Luna Coupe menstruelle Classic, manche, Orange, Taille L (Type: <class 'str'>)\n",
      "Title: Me Luna Coupe menstruelle Classic, manche, Orange, Taille L => Category: Tampons\n",
      "Processing title: Me Luna Coupe menstruelle Classic, boule, Violet, Taille XL (Type: <class 'str'>)\n",
      "Title: Me Luna Coupe menstruelle Classic, boule, Violet, Taille XL => Category: Tampons\n",
      "Processing title: Me Luna Coupe menstruelle Classic, manche, rouge, Taille M (Type: <class 'str'>)\n",
      "Title: Me Luna Coupe menstruelle Classic, manche, rouge, Taille M => Category: Tampons\n",
      "Processing title: enna cycle easy «S» 2 Coupes Menstruelles + Récipient pour Stérilisation + Applicateur (Type: <class 'str'>)\n",
      "Title: enna cycle easy «S» 2 Coupes Menstruelles + Récipient pour Stérilisation + Applicateur => Category: Tampons\n",
      "Processing title: Me Luna Coupe menstruelle Classic, boule, bleu, Taille S (Type: <class 'str'>)\n",
      "Title: Me Luna Coupe menstruelle Classic, boule, bleu, Taille S => Category: Tampons\n",
      "Processing title: Me Luna Coupe menstruelle Classic, manche noir taille l (Type: <class 'str'>)\n",
      "Title: Me Luna Coupe menstruelle Classic, manche noir taille l => Category: Tampons\n",
      "Processing title: Lumma Unique - Coupe Menstruelle Flexible avec Cordon Silicone Médical - Cup Réutilisable - Sans Fuites - Confortable Tres Doux - Medium, Pink Love (Type: <class 'str'>)\n",
      "Title: Lumma Unique - Coupe Menstruelle Flexible avec Cordon Silicone Médical - Cup Réutilisable - Sans Fuites - Confortable Tres Doux - Medium, Pink Love => Category: Tampons\n",
      "Processing title: MY FIRST CUP TULIP CUP Coupe Menstruelle Taille L en silicone médicale Violet Translucide (Type: <class 'str'>)\n",
      "Title: MY FIRST CUP TULIP CUP Coupe Menstruelle Taille L en silicone médicale Violet Translucide => Category: Tampons\n",
      "Processing title: Kit Mamicup® Cuope Menstruelle M+L Lilas en Silicone de Qualité Médicale Certifié par la FDA, Meilleure Alternative aux Tampon (Type: <class 'str'>)\n",
      "Title: Kit Mamicup® Cuope Menstruelle M+L Lilas en Silicone de Qualité Médicale Certifié par la FDA, Meilleure Alternative aux Tampon => Category: Tampons\n",
      "Processing title: Me Luna Coupe menstruelle Classic, boule, vert, Taille M (Type: <class 'str'>)\n",
      "Title: Me Luna Coupe menstruelle Classic, boule, vert, Taille M => Category: Tampons\n",
      "Processing title: M MUNCASO Coupe Menstruelle 2 pièces Period Menstrual Cup, Très douce et flexible Coupe Menstruelle Réutilisable et Lavable Silicone Médical Coupe Menstruelle (S, Pourpre) (Type: <class 'str'>)\n",
      "Title: M MUNCASO Coupe Menstruelle 2 pièces Period Menstrual Cup, Très douce et flexible Coupe Menstruelle Réutilisable et Lavable Silicone Médical Coupe Menstruelle (S, Pourpre) => Category: Tampons\n",
      "Processing title: Fun Factory FUN CUP EXPLORE KIT - 2 Coupes menstruelles de forme ergonomique - 1x grand et 1x petit - En silicone - Avec une pochette (Rose/Bleu) (Type: <class 'str'>)\n",
      "Title: Fun Factory FUN CUP EXPLORE KIT - 2 Coupes menstruelles de forme ergonomique - 1x grand et 1x petit - En silicone - Avec une pochette (Rose/Bleu) => Category: Tampons\n",
      "Processing title: Intimina Lily Cup Compact Taille A - Petite Coupelle Menstruelle Compacte qui se Plie à Plat (Type: <class 'str'>)\n",
      "Title: Intimina Lily Cup Compact Taille A - Petite Coupelle Menstruelle Compacte qui se Plie à Plat => Category: Tampons\n",
      "Processing title: Acboor Lot de 2 coupes menstruelles avec deux tailles pour les courants légers ou forts - Anti-fuite (Type: <class 'str'>)\n",
      "Title: Acboor Lot de 2 coupes menstruelles avec deux tailles pour les courants légers ou forts - Anti-fuite => Category: Tampons\n",
      "Processing title: Rovtop Lot de 5 Culotte Menstruelle en Coton pour Fille Culotte Incontinence pour Enfants Adolescente Culotte Périodiques Lavable (Type: <class 'str'>)\n",
      "Title: Rovtop Lot de 5 Culotte Menstruelle en Coton pour Fille Culotte Incontinence pour Enfants Adolescente Culotte Périodiques Lavable => Category: Tampons\n",
      "Processing title: Me Luna Coupe menstruelle Classic, bague, rouge, Taille Shorty XL (Type: <class 'str'>)\n",
      "Title: Me Luna Coupe menstruelle Classic, bague, rouge, Taille Shorty XL => Category: Tampons\n",
      "Processing title: INTIMINA Ziggy Cup Coupe Menstruelle Réutilisable Extrafine au Design Plat, Rose (Type: <class 'str'>)\n",
      "Title: INTIMINA Ziggy Cup Coupe Menstruelle Réutilisable Extrafine au Design Plat, Rose => Category: Tampons\n",
      "Processing title: Me Luna Coupe menstruelle Classic, bague, transparent, taille M (Type: <class 'str'>)\n",
      "Title: Me Luna Coupe menstruelle Classic, bague, transparent, taille M => Category: Tampons\n",
      "Processing title: Coupe Menstruelle Sileu Cup Divine - Hypoallergenique, sans cruauté - Previent la cystite - Sans fuite- Silicone médicale antimicrobien - Taille L, Transparent (Type: <class 'str'>)\n",
      "Title: Coupe Menstruelle Sileu Cup Divine - Hypoallergenique, sans cruauté - Previent la cystite - Sans fuite- Silicone médicale antimicrobien - Taille L, Transparent => Category: Tampons\n",
      "Processing title: L'Ensemble Est Disponible En Deux Tailles Cup Menstruelle Coupe Menstruelle Disque Menstruel En Silicone Disque Menstruel Silicone Disques Menstruels RéUtilisables (Type: <class 'str'>)\n",
      "Title: L'Ensemble Est Disponible En Deux Tailles Cup Menstruelle Coupe Menstruelle Disque Menstruel En Silicone Disque Menstruel Silicone Disques Menstruels RéUtilisables => Category: Tampons\n",
      "Processing title: Pixie Pliable Coupe silicone pour Stériliser Coupes menstruelles et Stockage Diva Cup pliable pour Teal Voyage (Type: <class 'str'>)\n",
      "Title: Pixie Pliable Coupe silicone pour Stériliser Coupes menstruelles et Stockage Diva Cup pliable pour Teal Voyage => Category: Tampons\n",
      "Processing title: Me Luna Coupe menstruelle Classic, boule, transparent, taille XL (Type: <class 'str'>)\n",
      "Title: Me Luna Coupe menstruelle Classic, boule, transparent, taille XL => Category: Tampons\n",
      "Processing title: FENYW Disque menstruel Femdisc, disque menstruel étanche, coupe menstruelle souple femdisc réutilisable en silicone médical, disque menstruel cup tampons souples alternatifs et OB (rouge L) (Type: <class 'str'>)\n",
      "Title: FENYW Disque menstruel Femdisc, disque menstruel étanche, coupe menstruelle souple femdisc réutilisable en silicone médical, disque menstruel cup tampons souples alternatifs et OB (rouge L) => Category: Tampons\n",
      "Processing title: Cup Menstruelle, CJBIN Disque Menstruel Réutilisable, Coupe Menstruelle Souple En Silicone, Disque Menstruel Étanche, Cup Menstruelle Sans Bpa, Alternatives Aux Tampons (Type: <class 'str'>)\n",
      "Title: Cup Menstruelle, CJBIN Disque Menstruel Réutilisable, Coupe Menstruelle Souple En Silicone, Disque Menstruel Étanche, Cup Menstruelle Sans Bpa, Alternatives Aux Tampons => Category: Tampons\n",
      "Processing title: Coupe menstruelle douce, design super doux et flexible, coupe menstruelle réutilisable en silicone, à porter pendant 12 heures, alternative aux tampons et serviettes hygiéniques, blanc large (Type: <class 'str'>)\n",
      "Title: Coupe menstruelle douce, design super doux et flexible, coupe menstruelle réutilisable en silicone, à porter pendant 12 heures, alternative aux tampons et serviettes hygiéniques, blanc large => Category: Tampons\n",
      "Processing title: Me Luna Coupe menstruelle Classic, boule, bleu, Taille M (Type: <class 'str'>)\n",
      "Title: Me Luna Coupe menstruelle Classic, boule, bleu, Taille M => Category: Tampons\n",
      "Processing title: EBKCQ Disque Menstruel, Cup Menstruelle, Coupe Menstruelle Réutilisable, Applicateur Cup Sans Fuites avec 2 Tailles, Silicone Médical, Confortable Doux, Alternatives aux Tampons, S+L (Type: <class 'str'>)\n",
      "Title: EBKCQ Disque Menstruel, Cup Menstruelle, Coupe Menstruelle Réutilisable, Applicateur Cup Sans Fuites avec 2 Tailles, Silicone Médical, Confortable Doux, Alternatives aux Tampons, S+L => Category: Tampons\n",
      "Processing title: DivaCup Menstrual Cups Modèle 1. 100% Silicone de Qualité Médicale. Alternative Sûre et Sans Fuite aux Serviettes Hygiéniques et aux Tampons (Type: <class 'str'>)\n",
      "Title: DivaCup Menstrual Cups Modèle 1. 100% Silicone de Qualité Médicale. Alternative Sûre et Sans Fuite aux Serviettes Hygiéniques et aux Tampons => Category: Tampons\n",
      "Processing title: Tasse menstruelle réutilisable 2 tailles dans un ensemble - Alternative pratique et fiable aux tampons et serviettes hygiéniques (Bleu) (Type: <class 'str'>)\n",
      "Title: Tasse menstruelle réutilisable 2 tailles dans un ensemble - Alternative pratique et fiable aux tampons et serviettes hygiéniques (Bleu) => Category: Tampons\n",
      "Processing title: Coupe menstruelle douce, design super doux et flexible, coupe menstruelle réutilisable en silicone, à porter pendant 12 heures, rose large (Type: <class 'str'>)\n",
      "Title: Coupe menstruelle douce, design super doux et flexible, coupe menstruelle réutilisable en silicone, à porter pendant 12 heures, rose large => Category: Tampons\n",
      "Processing title: Duo Saalt Cup - La plus agréable des coupes menstruelles - Meilleure coupe pour les femmes actives - Silicone doux, souple, réutilisable et de qualité médicale - Fabriquée aux États-Unis (Type: <class 'str'>)\n",
      "Title: Duo Saalt Cup - La plus agréable des coupes menstruelles - Meilleure coupe pour les femmes actives - Silicone doux, souple, réutilisable et de qualité médicale - Fabriquée aux États-Unis => Category: Tampons\n",
      "Processing title: Liberty Cup Coupe Menstruelle Taille 2 (Type: <class 'str'>)\n",
      "Title: Liberty Cup Coupe Menstruelle Taille 2 => Category: Tampons\n",
      "Processing title: Me Luna Coupe menstruelle Classic, boule, transparent, taille S (Type: <class 'str'>)\n",
      "Title: Me Luna Coupe menstruelle Classic, boule, transparent, taille S => Category: Tampons\n",
      "Processing title: ELANEE Coupe menstruelle Taille 2 - Facile à retirer grâce à la languette de traction discrète - Capacité de 33 ml (741-00) (Type: <class 'str'>)\n",
      "Title: ELANEE Coupe menstruelle Taille 2 - Facile à retirer grâce à la languette de traction discrète - Capacité de 33 ml (741-00) => Category: Tampons\n",
      "Processing title: Coupe menstruelle douce, design premium super doux et flexible, coupe menstruelle réutilisable en silicone, à porter pendant 12 heures, petit violet (Type: <class 'str'>)\n",
      "Title: Coupe menstruelle douce, design premium super doux et flexible, coupe menstruelle réutilisable en silicone, à porter pendant 12 heures, petit violet => Category: Tampons\n",
      "Processing title: Coupelle menstruelle Loovara sans silicone (100% caoutchouc naturel) avec nettoyant (150 ml) et sac, taille L, emballage économique (Type: <class 'str'>)\n",
      "Title: Coupelle menstruelle Loovara sans silicone (100% caoutchouc naturel) avec nettoyant (150 ml) et sac, taille L, emballage économique => Category: Tampons\n",
      "Processing title: FENYW Femdisc - Coupe menstruelle réutilisable - Coupe menstruelle réutilisable - Sans BPA - Alternative aux tampons (rouge L + violet S) (Type: <class 'str'>)\n",
      "Title: FENYW Femdisc - Coupe menstruelle réutilisable - Coupe menstruelle réutilisable - Sans BPA - Alternative aux tampons (rouge L + violet S) => Category: Tampons\n",
      "Processing title: FENYW Disque menstruel Femdisc, disque menstruel réutilisable en silicone médical, disques menstruels femdisc cup menstruelle tampons souples alternatifs et OB (rouge L + noir S) (Type: <class 'str'>)\n",
      "Title: FENYW Disque menstruel Femdisc, disque menstruel réutilisable en silicone médical, disques menstruels femdisc cup menstruelle tampons souples alternatifs et OB (rouge L + noir S) => Category: Tampons\n",
      "Processing title: Nizirioo 2 Pièces Coupe Menstruelle, Disque Menstruel, Coupe Menstruelle Souple, Ensemble De Coupe Menstruellecoupe Menstruelle Pour Les Soins Féminins Lavable Et Réutilisable (S/L) (Type: <class 'str'>)\n",
      "Title: Nizirioo 2 Pièces Coupe Menstruelle, Disque Menstruel, Coupe Menstruelle Souple, Ensemble De Coupe Menstruellecoupe Menstruelle Pour Les Soins Féminins Lavable Et Réutilisable (S/L) => Category: Tampons\n",
      "Processing title: FENYW Disque menstruel Femdisc, disque menstruel étanche, disque menstruel en silicone médical, femdisc cup menstruelle tampons souples alternatifs et OB (violet L + noir S) (Type: <class 'str'>)\n",
      "Title: FENYW Disque menstruel Femdisc, disque menstruel étanche, disque menstruel en silicone médical, femdisc cup menstruelle tampons souples alternatifs et OB (violet L + noir S) => Category: Tampons\n",
      "Processing title: Phytoceutic Confort Menstruel 30 Gelules 30 Unités (Type: <class 'str'>)\n",
      "Title: Phytoceutic Confort Menstruel 30 Gelules 30 Unités => Category: Tampons\n",
      "Processing title: Me Luna Coupe menstruelle Classic, bague, transparent, taille XL (Type: <class 'str'>)\n",
      "Title: Me Luna Coupe menstruelle Classic, bague, transparent, taille XL => Category: Tampons\n",
      "Processing title: Me Luna Coupe Menstruelle Soft Anneau Rose Taille Shorty S (Type: <class 'str'>)\n",
      "Title: Me Luna Coupe Menstruelle Soft Anneau Rose Taille Shorty S => Category: Tampons\n",
      "Processing title: Merula Cup mermaid (bleu) \"taille unique\" - Coupe menstruelle en silicone à usage médical (Type: <class 'str'>)\n",
      "Title: Merula Cup mermaid (bleu) \"taille unique\" - Coupe menstruelle en silicone à usage médical => Category: Tampons\n",
      "Processing title: RAINBOWCUP Coupe menstruelle fabriquée en Italie en silicone médical Choisissez la tonicité, la taille et la couleur Smerledo Semitonique, taille 1 (Type: <class 'str'>)\n",
      "Title: RAINBOWCUP Coupe menstruelle fabriquée en Italie en silicone médical Choisissez la tonicité, la taille et la couleur Smerledo Semitonique, taille 1 => Category: Tampons\n",
      "Processing title: Pixie Disque menstruel souple – Classé 1 pour le disque menstruel le plus doux réutilisable – Tige amovible – Porter pendant 12 heures – Silicone de qualité médicale – Alternative aux tampons, tampons (Type: <class 'str'>)\n",
      "Title: Pixie Disque menstruel souple – Classé 1 pour le disque menstruel le plus doux réutilisable – Tige amovible – Porter pendant 12 heures – Silicone de qualité médicale – Alternative aux tampons, tampons => Category: Tampons\n",
      "Processing title: Me Luna Coupe menstruelle Classic, boule, transparent, taille Shorty L (Type: <class 'str'>)\n",
      "Title: Me Luna Coupe menstruelle Classic, boule, transparent, taille Shorty L => Category: Tampons\n",
      "Processing title: Saalt Coupe menstruelle douce – Super douce et flexible – Meilleure coupe sensible – À porter pendant 12 heures – Fabriquée aux États-Unis (Desert Blush, Taille S) (Type: <class 'str'>)\n",
      "Title: Saalt Coupe menstruelle douce – Super douce et flexible – Meilleure coupe sensible – À porter pendant 12 heures – Fabriquée aux États-Unis (Desert Blush, Taille S) => Category: Tampons\n",
      "Processing title: Cup Protect Saforelle (Type: <class 'str'>)\n",
      "Title: Cup Protect Saforelle => Category: Tampons\n",
      "Processing title: Coupe menstruelle douce, design super doux et flexible, coupe menstruelle réutilisable en silicone, à porter pendant 12 heures, petite rose (Type: <class 'str'>)\n",
      "Title: Coupe menstruelle douce, design super doux et flexible, coupe menstruelle réutilisable en silicone, à porter pendant 12 heures, petite rose => Category: Tampons\n",
      "Processing title: Coupe menstruelle douce, design super doux et flexible, coupe menstruelle réutilisable en silicone, à porter pendant 12 heures, alternative aux tampons et serviettes hygiéniques, blanc petit (Type: <class 'str'>)\n",
      "Title: Coupe menstruelle douce, design super doux et flexible, coupe menstruelle réutilisable en silicone, à porter pendant 12 heures, alternative aux tampons et serviettes hygiéniques, blanc petit => Category: Tampons\n",
      "Processing title: Me Luna Coupe menstruelle Classic, boule, transparent, taille L (Type: <class 'str'>)\n",
      "Title: Me Luna Coupe menstruelle Classic, boule, transparent, taille L => Category: Tampons\n",
      "Processing title: Lunette coupe menstruelle - Violette - Taille 1 (EN Version) (Type: <class 'str'>)\n",
      "Title: Lunette coupe menstruelle - Violette - Taille 1 (EN Version) => Category: Tampons\n",
      "Processing title: Me Luna Coupe menstruelle Classic, boule, rouge, Taille Shorty L (Type: <class 'str'>)\n",
      "Title: Me Luna Coupe menstruelle Classic, boule, rouge, Taille Shorty L => Category: Tampons\n",
      "Processing title: Mooncup® La Cup Originale en Silicone -Taille B, Coupe Menstruelle Réutilisable en Silicone souple pour les moins de 30 ans qui n'ont pas accouché par voie vaginale. (Type: <class 'str'>)\n",
      "Title: Mooncup® La Cup Originale en Silicone -Taille B, Coupe Menstruelle Réutilisable en Silicone souple pour les moins de 30 ans qui n'ont pas accouché par voie vaginale. => Category: Tampons\n",
      "Processing title: Cup Protect Saforelle (Type: <class 'str'>)\n",
      "Title: Cup Protect Saforelle => Category: Tampons\n",
      "Processing title: Mascoto® Disques menstruels nouvelle génération avec boucle, coupe plate, silicone de qualité médicale réutilisable, alternative au tampon et aux tampons ultra confortables, pour les règles sexuelles (Type: <class 'str'>)\n",
      "Title: Mascoto® Disques menstruels nouvelle génération avec boucle, coupe plate, silicone de qualité médicale réutilisable, alternative au tampon et aux tampons ultra confortables, pour les règles sexuelles => Category: Tampons\n",
      "Processing title: LUMMA® | Coupes menstruelles flexibles en silicone de qualité médicale Coupe menstruelle réutilisable │ Soins féminins │ Sans fuite │ Confortables et très douces (M, Pink Love) (Type: <class 'str'>)\n",
      "Title: LUMMA® | Coupes menstruelles flexibles en silicone de qualité médicale Coupe menstruelle réutilisable │ Soins féminins │ Sans fuite │ Confortables et très douces (M, Pink Love) => Category: Tampons\n",
      "Processing title: XPJBKC Coupe Menstruelle, 2 Pièces Coupe Menstruelle Réutilisable, Disque Menstruel Anti-fuite Souple, Disque Menstruel Sans BPA, Produits Alternatifs D’hygiène Féminine(S+L) (Type: <class 'str'>)\n",
      "Title: XPJBKC Coupe Menstruelle, 2 Pièces Coupe Menstruelle Réutilisable, Disque Menstruel Anti-fuite Souple, Disque Menstruel Sans BPA, Produits Alternatifs D’hygiène Féminine(S+L) => Category: Tampons\n",
      "Processing title: Coupe menstruelle Rainbow Cup en silicone médical sans latex et additifs, pratique, écologique, sûr, disponible en plusieurs variantes - Coupe menstruelle souple, couleur émeraude, taille 1 (Type: <class 'str'>)\n",
      "Title: Coupe menstruelle Rainbow Cup en silicone médical sans latex et additifs, pratique, écologique, sûr, disponible en plusieurs variantes - Coupe menstruelle souple, couleur émeraude, taille 1 => Category: Tampons\n",
      "Processing title: Mascoto® Disques menstruels nouvelle génération avec boucle, coupe plate, silicone de qualité médicale réutilisable, alternative au tampon et aux tampons ultra confortables, pour les règles sexuelles (Type: <class 'str'>)\n",
      "Title: Mascoto® Disques menstruels nouvelle génération avec boucle, coupe plate, silicone de qualité médicale réutilisable, alternative au tampon et aux tampons ultra confortables, pour les règles sexuelles => Category: Tampons\n",
      "Processing title: Avaloona tasse de nettoyage de coupe menstruelle pliable - pour le stockage et nettoyage (vert) (Type: <class 'str'>)\n",
      "Title: Avaloona tasse de nettoyage de coupe menstruelle pliable - pour le stockage et nettoyage (vert) => Category: Tampons\n",
      "Processing title: FAIR SQUARED Period Cup Menstrual Cup - Coupe menstruelle en caoutchouc naturel issu du commerce équitable - Vegan et Zero Waste (Taille L) (Type: <class 'str'>)\n",
      "Title: FAIR SQUARED Period Cup Menstrual Cup - Coupe menstruelle en caoutchouc naturel issu du commerce équitable - Vegan et Zero Waste (Taille L) => Category: Tampons\n",
      "Processing title: Liberty Cup Culotte Menstruelle Couleur Noir Bio - S/M (Type: <class 'str'>)\n",
      "Title: Liberty Cup Culotte Menstruelle Couleur Noir Bio - S/M => Category: Tampons\n",
      "Processing title: Lamazuna Cup Féminine Coupe Menstruelle Taille 1 (Type: <class 'str'>)\n",
      "Title: Lamazuna Cup Féminine Coupe Menstruelle Taille 1 => Category: Tampons\n",
      "Processing title: Coupe menstruelle douce, design premium super doux et flexible, coupe menstruelle réutilisable en silicone, coupe menstruelle à porter pendant 12 heures, grand blanc (Type: <class 'str'>)\n",
      "Title: Coupe menstruelle douce, design premium super doux et flexible, coupe menstruelle réutilisable en silicone, coupe menstruelle à porter pendant 12 heures, grand blanc => Category: Tampons\n",
      "Processing title: Natur'Eden® Set Serviettes Hygiéniques Lavables et Brosse à Dents Bambou - Protections Menstruelles - 7 Serviette Absorbante avec Sac Étanche - Brosse à Poils Doux pour Nettoyage (Type: <class 'str'>)\n",
      "Title: Natur'Eden® Set Serviettes Hygiéniques Lavables et Brosse à Dents Bambou - Protections Menstruelles - 7 Serviette Absorbante avec Sac Étanche - Brosse à Poils Doux pour Nettoyage => Category: Tampons\n",
      "Processing title: LOPKJ 2 Lot De Disques Cup Coupe Menstruelle (Petit Et Grand) Lovense Cup Menstruelle Eponge RéUtilisable Tampon En Silicone FéMinin Sans Fuites De L'Environnement (Type: <class 'str'>)\n",
      "Title: LOPKJ 2 Lot De Disques Cup Coupe Menstruelle (Petit Et Grand) Lovense Cup Menstruelle Eponge RéUtilisable Tampon En Silicone FéMinin Sans Fuites De L'Environnement => Category: Tampons\n",
      "Processing title: SHORDY CupSister 2.0 Outil applicateur avec lubrifiant pour coupes menstruelles, insertion facile, ensemble d'applicateurs de gobelets menstruels réutilisables pour femmes, doux et facile à utiliser, (Type: <class 'str'>)\n",
      "Title: SHORDY CupSister 2.0 Outil applicateur avec lubrifiant pour coupes menstruelles, insertion facile, ensemble d'applicateurs de gobelets menstruels réutilisables pour femmes, doux et facile à utiliser, => Category: Tampons\n",
      "Processing title: Pure Ella Coupe Menstruelle – Silicone souple réutilisable, de qualité médicale et sans BPA – À porter pendant 12 heures – Respectueux de l'environnement et hypoallergénique – Tailles XS, S, L (Type: <class 'str'>)\n",
      "Title: Pure Ella Coupe Menstruelle – Silicone souple réutilisable, de qualité médicale et sans BPA – À porter pendant 12 heures – Respectueux de l'environnement et hypoallergénique – Tailles XS, S, L => Category: Tampons\n",
      "Processing title: Libby Coupe menstruelle Petit 14 ml – Coupe basse du col de l'utérus ou de débutant (Type: <class 'str'>)\n",
      "Title: Libby Coupe menstruelle Petit 14 ml – Coupe basse du col de l'utérus ou de débutant => Category: Tampons\n",
      "Processing title: Liberty Cup Coupe Menstruelle Taille 1 (Type: <class 'str'>)\n",
      "Title: Liberty Cup Coupe Menstruelle Taille 1 => Category: Tampons\n",
      "Processing title: Omnitex Lot de 2 coupes menstruelles pour le cancer du sein | 100 % silicone pur de qualité médicale | Alternative sûre et respectueuse de l'environnement | Non toxique testée ISO10993 | Sans BPA et (Type: <class 'str'>)\n",
      "Title: Omnitex Lot de 2 coupes menstruelles pour le cancer du sein | 100 % silicone pur de qualité médicale | Alternative sûre et respectueuse de l'environnement | Non toxique testée ISO10993 | Sans BPA et => Category: Tampons\n",
      "Processing title: Coupe menstruelle, coupe menstruelle, souple, réutilisable, anti-fuite, sans BPA, tampon et tampon en silicone féminin alternative aux produits d'hygiène féminine (Type: <class 'str'>)\n",
      "Title: Coupe menstruelle, coupe menstruelle, souple, réutilisable, anti-fuite, sans BPA, tampon et tampon en silicone féminin alternative aux produits d'hygiène féminine => Category: Tampons\n",
      "Processing title: Lunette coupe menstruelle - Bleue - Taille 1 (EN Version) (Type: <class 'str'>)\n",
      "Title: Lunette coupe menstruelle - Bleue - Taille 1 (EN Version) => Category: Tampons\n",
      "Processing title: FENYW Disque menstruel, Disques menstruels réutilisables femdisc, coupe menstruelle souple en silicone, disque menstruel femdisc, cup menstruelletampons souples alternatifs et OB (rouge S) (Type: <class 'str'>)\n",
      "Title: FENYW Disque menstruel, Disques menstruels réutilisables femdisc, coupe menstruelle souple en silicone, disque menstruel femdisc, cup menstruelletampons souples alternatifs et OB (rouge S) => Category: Tampons\n",
      "Processing title: Coupe Menstruelle Sileu Cup Soft - Hypoallergenique, sans cruauté - Previent la cystite - Sans fuite- Silicone médicale antimicrobien - Taille L, Violet (Type: <class 'str'>)\n",
      "Title: Coupe Menstruelle Sileu Cup Soft - Hypoallergenique, sans cruauté - Previent la cystite - Sans fuite- Silicone médicale antimicrobien - Taille L, Violet => Category: Tampons\n",
      "Processing title: JDCMEI Coupe Menstruelle, Menstruels Réutilisables Femdisc Disque Menstruel avec Boîte en Silicone Disque Menstruel Souple Tasse en Silicone Féminine Tampon et Tampon Alternatifs Produits (Type: <class 'str'>)\n",
      "Title: JDCMEI Coupe Menstruelle, Menstruels Réutilisables Femdisc Disque Menstruel avec Boîte en Silicone Disque Menstruel Souple Tasse en Silicone Féminine Tampon et Tampon Alternatifs Produits => Category: Tampons\n",
      "Processing title: Coupe menstruelle CarrieCup, de grande taille, made in Germany, sans BPA, alternative aux tampons et serviettes hygiéniques, sans silicone, avec sachet violet inclus (Type: <class 'str'>)\n",
      "Title: Coupe menstruelle CarrieCup, de grande taille, made in Germany, sans BPA, alternative aux tampons et serviettes hygiéniques, sans silicone, avec sachet violet inclus => Category: Tampons\n",
      "Processing title: Irisana Iriscup Coupe menstruelle L transparent (Type: <class 'str'>)\n",
      "Title: Irisana Iriscup Coupe menstruelle L transparent => Category: Tampons\n",
      "Processing title: DAJASD Femdisc Disque menstruel réutilisable, disque menstruel réutilisable, en silicone, 2 tailles, sans BPA, rouge L et rouge S (Type: <class 'str'>)\n",
      "Title: DAJASD Femdisc Disque menstruel réutilisable, disque menstruel réutilisable, en silicone, 2 tailles, sans BPA, rouge L et rouge S => Category: Tampons\n",
      "Processing title: Livella coupe menstruelle/incluses cup (S) / Qualité allemande/hygiène mensuelle durable/alternative aux tampons et liaisons/silicone médical (Type: <class 'str'>)\n",
      "Title: Livella coupe menstruelle/incluses cup (S) / Qualité allemande/hygiène mensuelle durable/alternative aux tampons et liaisons/silicone médical => Category: Tampons\n",
      "Processing title: Eco-Conseils Coupe Menstruelle, Rose, Grande, 29 ml (Type: <class 'str'>)\n",
      "Title: Eco-Conseils Coupe Menstruelle, Rose, Grande, 29 ml => Category: Tampons\n",
      "Processing title: PLLYPE Femdisc - Disque menstruel - Coupe menstruelle réutilisable, anti-fuite, en silicone avec 2 tailles, coupe menstruelle sans BPA (violet L et violet S) (Type: <class 'str'>)\n",
      "Title: PLLYPE Femdisc - Disque menstruel - Coupe menstruelle réutilisable, anti-fuite, en silicone avec 2 tailles, coupe menstruelle sans BPA (violet L et violet S) => Category: Tampons\n",
      "Processing title: Coupe menstruelle Eurêka! tasse classique M/L 1 unité (Type: <class 'str'>)\n",
      "Title: Coupe menstruelle Eurêka! tasse classique M/L 1 unité => Category: Tampons\n",
      "Processing title: Liberty Cup Culotte Menstruelle Couleur Noir Bio - XS (Type: <class 'str'>)\n",
      "Title: Liberty Cup Culotte Menstruelle Couleur Noir Bio - XS => Category: Tampons\n",
      "Processing title: Coupe Menstruelle Disques Menstruels RéUtilisables Cup Menstruelle L'Ensemble Est Disponible En Deux Tailles Disque Menstruel Silicone Menstruelles Femdisc (Type: <class 'str'>)\n",
      "Title: Coupe Menstruelle Disques Menstruels RéUtilisables Cup Menstruelle L'Ensemble Est Disponible En Deux Tailles Disque Menstruel Silicone Menstruelles Femdisc => Category: Tampons\n",
      "Processing title: 2 Pièces Disque Menstruel, Disques Menstruels Réutilisables en Silicone 100% Médical avec S et L Coupe menstruelle Merula Cup avec Boîte en Silicone Disque Périodique Alternative aux Tampons Doux (Type: <class 'str'>)\n",
      "Title: 2 Pièces Disque Menstruel, Disques Menstruels Réutilisables en Silicone 100% Médical avec S et L Coupe menstruelle Merula Cup avec Boîte en Silicone Disque Périodique Alternative aux Tampons Doux => Category: Tampons\n",
      "Processing title: Coupe menstruelle Rainbow Cup en silicone médical sans latex et additifs, pratique, écologique, sûr, disponible en plusieurs variantes - Coupe menstruelle douce, couleur rayon de soleil, taille 2 (Type: <class 'str'>)\n",
      "Title: Coupe menstruelle Rainbow Cup en silicone médical sans latex et additifs, pratique, écologique, sûr, disponible en plusieurs variantes - Coupe menstruelle douce, couleur rayon de soleil, taille 2 => Category: Tampons\n",
      "Processing title: Me Luna Coupe menstruelle Classic, manche noir taille S (Type: <class 'str'>)\n",
      "Title: Me Luna Coupe menstruelle Classic, manche noir taille S => Category: Tampons\n",
      "Processing title: FENYW Femdisc Disque menstruel, Disque périodique, coupe menstruelle souple femdisc réutilisable en silicone médical, disques menstruels femdisc tampons souples alternatifs et OB (violet, S+L) (Type: <class 'str'>)\n",
      "Title: FENYW Femdisc Disque menstruel, Disque périodique, coupe menstruelle souple femdisc réutilisable en silicone médical, disques menstruels femdisc tampons souples alternatifs et OB (violet, S+L) => Category: Tampons\n",
      "Processing title: Femdisc Disque menstruel Femdisc Disque menstruel Coupe menstruelle Merula Cup réutilisable Disque périodique coloré Alternative aux tampons souples et OB (cordon de serrage) (Type: <class 'str'>)\n",
      "Title: Femdisc Disque menstruel Femdisc Disque menstruel Coupe menstruelle Merula Cup réutilisable Disque périodique coloré Alternative aux tampons souples et OB (cordon de serrage) => Category: Tampons\n",
      "Processing title: Me Luna Coupe menstruelle Soft, bague, cyan taille Shorty L (Type: <class 'str'>)\n",
      "Title: Me Luna Coupe menstruelle Soft, bague, cyan taille Shorty L => Category: Tampons\n",
      "Processing title: Me Luna Coupe Menstruelle Classic Boule Bleu Taille L (Type: <class 'str'>)\n",
      "Title: Me Luna Coupe Menstruelle Classic Boule Bleu Taille L => Category: Tampons\n",
      "Processing title: FENYW Femdisc Disque menstruel, Disque périodique, coupe menstruelle souple femdisc réutilisable en silicone médical, disques menstruels femdisc tampons souples alternatifs et OB(Rose, S+L) (Type: <class 'str'>)\n",
      "Title: FENYW Femdisc Disque menstruel, Disque périodique, coupe menstruelle souple femdisc réutilisable en silicone médical, disques menstruels femdisc tampons souples alternatifs et OB(Rose, S+L) => Category: Tampons\n",
      "Processing title: MY FIRST CUP Coupe menstruelle (TAILLE S, LILA) (Type: <class 'str'>)\n",
      "Title: MY FIRST CUP Coupe menstruelle (TAILLE S, LILA) => Category: Tampons\n",
      "Processing title: MY FIRST CUP COUPE AVEC HUELLA Coupe menstruelle (taille S) (Type: <class 'str'>)\n",
      "Title: MY FIRST CUP COUPE AVEC HUELLA Coupe menstruelle (taille S) => Category: Tampons\n",
      "Processing title: Cup Menstruelle, CJBIN Disque Menstruel Réutilisable, Coupe Menstruelle avec 2 boîtes en silicone, Disque Menstruel Étanche, Cup Menstruelle Sans Bpa, Alternatives Aux Tampons (Violet) (Type: <class 'str'>)\n",
      "Title: Cup Menstruelle, CJBIN Disque Menstruel Réutilisable, Coupe Menstruelle avec 2 boîtes en silicone, Disque Menstruel Étanche, Cup Menstruelle Sans Bpa, Alternatives Aux Tampons (Violet) => Category: Tampons\n",
      "Processing title: Coupe Menstruelle Taille S (Type: <class 'str'>)\n",
      "Title: Coupe Menstruelle Taille S => Category: Tampons\n",
      "Processing title: ‎CTDMJ 2 Coupes disque menstruel (S et L) coupe plate, réutilisable, silicone de qualité médicale, Hygiène et soins féminins, Coupe Menstruelle, tampons, alternatives aux tampons (Type: <class 'str'>)\n",
      "Title: ‎CTDMJ 2 Coupes disque menstruel (S et L) coupe plate, réutilisable, silicone de qualité médicale, Hygiène et soins féminins, Coupe Menstruelle, tampons, alternatives aux tampons => Category: Tampons\n",
      "Processing title: Coupe menstruelle douce, design premium super doux et flexible, coupe menstruelle réutilisable en silicone, à porter pendant 12 heures, rose petit (Type: <class 'str'>)\n",
      "Title: Coupe menstruelle douce, design premium super doux et flexible, coupe menstruelle réutilisable en silicone, à porter pendant 12 heures, rose petit => Category: Tampons\n",
      "Processing title: Tasse de stérilisation en silicone pliable et portable pour période menstruelle - Souple et réutilisable - Bleu (Type: <class 'str'>)\n",
      "Title: Tasse de stérilisation en silicone pliable et portable pour période menstruelle - Souple et réutilisable - Bleu => Category: Tampons\n",
      "Processing title: Sunydog Coupe menstruelle pour femme Gel de silice médical Matériau de qualité alimentaire La coupe menstruelle peut être recyclée Hygiène féminine Coupe menstruelle Plusieurs spécifications en option (Type: <class 'str'>)\n",
      "Title: Sunydog Coupe menstruelle pour femme Gel de silice médical Matériau de qualité alimentaire La coupe menstruelle peut être recyclée Hygiène féminine Coupe menstruelle Plusieurs spécifications en option => Category: Tampons\n",
      "Processing title: Outil d'applicateur de coupe menstruelle Booster de coupe menstruelle confortable Insertion facile Compatible avec la plupart des tasses menstruelles coupe menstruelle réutilisable (Type: <class 'str'>)\n",
      "Title: Outil d'applicateur de coupe menstruelle Booster de coupe menstruelle confortable Insertion facile Compatible avec la plupart des tasses menstruelles coupe menstruelle réutilisable => Category: Tampons\n",
      "Processing title: Liberty Cup Box de Stérilisation (Type: <class 'str'>)\n",
      "Title: Liberty Cup Box de Stérilisation => Category: Tampons\n",
      "Processing title: Applicateur de coupe menstruelle confortable insertion facile compatible avec la plupart des coupes menstruelles réutilisable (Type: <class 'str'>)\n",
      "Title: Applicateur de coupe menstruelle confortable insertion facile compatible avec la plupart des coupes menstruelles réutilisable => Category: Tampons\n",
      "Processing title: La Coupe Menstruelle Souple pour Débutantes (Type: <class 'str'>)\n",
      "Title: La Coupe Menstruelle Souple pour Débutantes => Category: Tampons\n",
      "Processing title: Me Luna Coupe menstruelle Classic, manche, bleu, Taille S (Type: <class 'str'>)\n",
      "Title: Me Luna Coupe menstruelle Classic, manche, bleu, Taille S => Category: Tampons\n",
      "Processing title: Ruby Cup -Coupe menstruelle en Silicone Médical Hypoallergénique - Taille S (Petite, Flux léger) - ROUGE – Un produit acheté-Un produit donné. Alternative fiable aux tampons/serviettes hygiénique (Type: <class 'str'>)\n",
      "Title: Ruby Cup -Coupe menstruelle en Silicone Médical Hypoallergénique - Taille S (Petite, Flux léger) - ROUGE – Un produit acheté-Un produit donné. Alternative fiable aux tampons/serviettes hygiénique => Category: Tampons\n",
      "Processing title: Fun Factory FUN CUP SIZE A - Deux coupes menstruelles, en silicone, avec une pochette (Rose/Turquoise) (Type: <class 'str'>)\n",
      "Title: Fun Factory FUN CUP SIZE A - Deux coupes menstruelles, en silicone, avec une pochette (Rose/Turquoise) => Category: Tampons\n",
      "Processing title: NOUVEAU Neutral Cup Soap Beppy - Savon neutre pour votre coupe menstruelle (Type: <class 'str'>)\n",
      "Title: NOUVEAU Neutral Cup Soap Beppy - Savon neutre pour votre coupe menstruelle => Category: Tampons\n",
      "Processing title: Me Luna Coupe menstruelle Classic, manche, Violet, Taille M (Type: <class 'str'>)\n",
      "Title: Me Luna Coupe menstruelle Classic, manche, Violet, Taille M => Category: Tampons\n",
      "Processing title: Queen Cup® Coupe menstruelle avec sac en coton respirant – Neuf (Type: <class 'str'>)\n",
      "Title: Queen Cup® Coupe menstruelle avec sac en coton respirant – Neuf => Category: Tampons\n",
      "Processing title: Bonne journée Lot de 3 Culottes Menstruelles Noir L Hygieniques Coton Haute Absorbante pour Femmes/Lavables Réutilisables/Protection Périodique Protege Fuites Regle Flux Abondant (Type: <class 'str'>)\n",
      "Title: Bonne journée Lot de 3 Culottes Menstruelles Noir L Hygieniques Coton Haute Absorbante pour Femmes/Lavables Réutilisables/Protection Périodique Protege Fuites Regle Flux Abondant => Category: Tampons\n",
      "Processing title: Intima Cup, Coupe Menstruelle Taille 2 Super - Flux Abondant, Lot de 2 (Type: <class 'str'>)\n",
      "Title: Intima Cup, Coupe Menstruelle Taille 2 Super - Flux Abondant, Lot de 2 => Category: Tampons\n",
      "Processing title: Me Luna Coupe menstruelle Classic, boule, rouge, Taille S (Type: <class 'str'>)\n",
      "Title: Me Luna Coupe menstruelle Classic, boule, rouge, Taille S => Category: Tampons\n",
      "Processing title: Bonnet menstruel taille S. (Type: <class 'str'>)\n",
      "Title: Bonnet menstruel taille S. => Category: Tampons\n",
      "Processing title: Fun Factory FUN CUP SIZE B - Deux grandes coupes menstruelles, en silicone, avec une pochette (Violet/Bleu) (Type: <class 'str'>)\n",
      "Title: Fun Factory FUN CUP SIZE B - Deux grandes coupes menstruelles, en silicone, avec une pochette (Violet/Bleu) => Category: Tampons\n",
      "Processing title: Lot de 2 disques menstruels en silicone Femdisc : ensemble de 2 tailles (S et L), coupe menstruelle, disque menstruel réutilisable, disque menstruel avec boîte en silicone, doux et confortable (noir) (Type: <class 'str'>)\n",
      "Title: Lot de 2 disques menstruels en silicone Femdisc : ensemble de 2 tailles (S et L), coupe menstruelle, disque menstruel réutilisable, disque menstruel avec boîte en silicone, doux et confortable (noir) => Category: Tampons\n",
      "Processing title: IXYHKB Coupe Menstruelle, Lot de 2 Coupes Menstruelles Femdisc, Disque Menstruel, Coupe Menstruelle Souple, Coupe Menstruellecoupe Menstruelle pour Saignements Normaux Ou Abondants (Petit + Grand) (Type: <class 'str'>)\n",
      "Title: IXYHKB Coupe Menstruelle, Lot de 2 Coupes Menstruelles Femdisc, Disque Menstruel, Coupe Menstruelle Souple, Coupe Menstruellecoupe Menstruelle pour Saignements Normaux Ou Abondants (Petit + Grand) => Category: Tampons\n",
      "Processing title: Coupe menstruelle Queen Cup 100 % silicone médical | Certificat allemand | Périodes Tasse avec pochette + instructions Taille S (Type: <class 'str'>)\n",
      "Title: Coupe menstruelle Queen Cup 100 % silicone médical | Certificat allemand | Périodes Tasse avec pochette + instructions Taille S => Category: Tampons\n",
      "Processing title: Cup menstruelle taille S - Femintimate (Type: <class 'str'>)\n",
      "Title: Cup menstruelle taille S - Femintimate => Category: Tampons\n",
      "Processing title: Cup menstruelle taille M - Femintimate (Type: <class 'str'>)\n",
      "Title: Cup menstruelle taille M - Femintimate => Category: Tampons\n",
      "Processing title: Cup menstruelle taille L - Femintimate (Type: <class 'str'>)\n",
      "Title: Cup menstruelle taille L - Femintimate => Category: Tampons\n",
      "Processing title: Me Luna Coupe Menstruelle Classic Anneau Vert Taille L (Type: <class 'str'>)\n",
      "Title: Me Luna Coupe Menstruelle Classic Anneau Vert Taille L => Category: Tampons\n",
      "Processing title: COUPE MENSTRUELLE M (Type: <class 'str'>)\n",
      "Title: COUPE MENSTRUELLE M => Category: Tampons\n",
      "Processing title: Masmi Coupe Menstruelle en Élastomère de Grade Médical | Hypoallergénique | Alternative Zéro Déchet | Réutilisable et Recyclable | Sans silicone, sans latex, sans Bisphénol et sans Phtalates, Taille L (Type: <class 'str'>)\n",
      "Title: Masmi Coupe Menstruelle en Élastomère de Grade Médical | Hypoallergénique | Alternative Zéro Déchet | Réutilisable et Recyclable | Sans silicone, sans latex, sans Bisphénol et sans Phtalates, Taille L => Category: Tampons\n",
      "Processing title: Lunette coupe menstruelle - Transparente - Taille 1 (EN Version) (Type: <class 'str'>)\n",
      "Title: Lunette coupe menstruelle - Transparente - Taille 1 (EN Version) => Category: Tampons\n",
      "Processing title: Ecoblossom Menstrual Original Lot de 2 disques menstruels réutilisables (petit et grand) (Type: <class 'str'>)\n",
      "Title: Ecoblossom Menstrual Original Lot de 2 disques menstruels réutilisables (petit et grand) => Category: Tampons\n",
      "Processing title: Disques menstruels réutilisables en silicone médical souple et flexible (petit) (Type: <class 'str'>)\n",
      "Title: Disques menstruels réutilisables en silicone médical souple et flexible (petit) => Category: Tampons\n",
      "Processing title: OrganiWipes by OrganiCup - Lingettes pour coupe menstruelle biologique 10 pièces - Sans parfum - Vegan - Emballées individuellement - Coton biologique - Biodégradable - Non disponible en Californie (Type: <class 'str'>)\n",
      "Title: OrganiWipes by OrganiCup - Lingettes pour coupe menstruelle biologique 10 pièces - Sans parfum - Vegan - Emballées individuellement - Coton biologique - Biodégradable - Non disponible en Californie => Category: Tampons\n",
      "Processing title: Coupe menstruelle taille S/M (25 ml) - Gaia Cup - Commerce équitable (Type: <class 'str'>)\n",
      "Title: Coupe menstruelle taille S/M (25 ml) - Gaia Cup - Commerce équitable => Category: Tampons\n",
      "Processing title: Saforelle Culotte Noire pour Les Règles, Noir, L (Lot de 1) (Type: <class 'str'>)\n",
      "Title: Saforelle Culotte Noire pour Les Règles, Noir, L (Lot de 1) => Category: Tampons\n",
      "Processing title: Coupe menstruelle taille L (30 ml) - Gaia Cup - Commerce équitable (Type: <class 'str'>)\n",
      "Title: Coupe menstruelle taille L (30 ml) - Gaia Cup - Commerce équitable => Category: Tampons\n",
      "Processing title: Femdisc Lot de 2 coupes menstruelles avec deux tailles de coupe menstruelle anti-fuite en silicone Femdisc pour courants légers ou forts Anti-fuite (Type: <class 'str'>)\n",
      "Title: Femdisc Lot de 2 coupes menstruelles avec deux tailles de coupe menstruelle anti-fuite en silicone Femdisc pour courants légers ou forts Anti-fuite => Category: Tampons\n",
      "Processing title: Culotte menstruelle femme fille lavable reutilisable zero dechet – Culotte, slip de regle absorbante, pour menstruation, à la place de protège slip, serviette hygiénique [Satisfait ou Remboursé] (Type: <class 'str'>)\n",
      "Title: Culotte menstruelle femme fille lavable reutilisable zero dechet – Culotte, slip de regle absorbante, pour menstruation, à la place de protège slip, serviette hygiénique [Satisfait ou Remboursé] => Category: Tampons\n",
      "Processing title: Culotte menstruelle Dentelle - taille  M (38/40) - Feel Natural (Type: <class 'str'>)\n",
      "Title: Culotte menstruelle Dentelle - taille  M (38/40) - Feel Natural => Category: Tampons\n",
      "Processing title: Ruby Cup -Coupe menstruelle en Silicone Médical Hypoallergénique - Taille S (Petite, Flux léger) - NOIRE – Un produit acheté-Un produit donné. Alternative fiable aux tampons/serviettes hygiénique (Type: <class 'str'>)\n",
      "Title: Ruby Cup -Coupe menstruelle en Silicone Médical Hypoallergénique - Taille S (Petite, Flux léger) - NOIRE – Un produit acheté-Un produit donné. Alternative fiable aux tampons/serviettes hygiénique => Category: Tampons\n",
      "Processing title: Nixit Coupe menstruelle, 1 ch (Type: <class 'str'>)\n",
      "Title: Nixit Coupe menstruelle, 1 ch => Category: Tampons\n",
      "Processing title: Lunette coupe menstruelle - Jaune - Taille 2 (EN Version) (Type: <class 'str'>)\n",
      "Title: Lunette coupe menstruelle - Jaune - Taille 2 (EN Version) => Category: Tampons\n",
      "Processing title: CLARIPHARM Duopack Coupes Menstruelles Claricup Taille 0 (Type: <class 'str'>)\n",
      "Title: CLARIPHARM Duopack Coupes Menstruelles Claricup Taille 0 => Category: Tampons\n",
      "Processing title: Mascoto® Disque menstruel nouvelle génération, coupe plate, silicone de qualité médicale, réutilisable, fin et ultra confortable (grand) (Type: <class 'str'>)\n",
      "Title: Mascoto® Disque menstruel nouvelle génération, coupe plate, silicone de qualité médicale, réutilisable, fin et ultra confortable (grand) => Category: Tampons\n",
      "Processing title: Libby Coupe menstruelle Taille M 20 ml (Type: <class 'str'>)\n",
      "Title: Libby Coupe menstruelle Taille M 20 ml => Category: Tampons\n",
      "Processing title: Tampax Cup Coupelle menstruelle réutilisable avec étui de protection Flux abondant (Type: <class 'str'>)\n",
      "Title: Tampax Cup Coupelle menstruelle réutilisable avec étui de protection Flux abondant => Category: Tampons\n",
      "Processing title: INTIMY CARE - Culotte menstruelle Taille S - Flux abondant - 95% coton écologique - Lavable et réutilisable (Type: <class 'str'>)\n",
      "Title: INTIMY CARE - Culotte menstruelle Taille S - Flux abondant - 95% coton écologique - Lavable et réutilisable => Category: Tampons\n",
      "Processing title: Nana Ultra Goodnight Large Serviettes Hygiéniques Avec Ailettes - 10 unités (lot de 1) (Type: <class 'str'>)\n",
      "Title: Nana Ultra Goodnight Large Serviettes Hygiéniques Avec Ailettes - 10 unités (lot de 1) => Category: Tampons\n",
      "Processing title: Always Maxi Serviettes Hygiéniques, ProFresh Night, 12 Serviettes Sans Ailettes, Flux Très Abondants Nuit, Cœur Ultra Absorbant et Neutralisation des Odeurs (Type: <class 'str'>)\n",
      "Title: Always Maxi Serviettes Hygiéniques, ProFresh Night, 12 Serviettes Sans Ailettes, Flux Très Abondants Nuit, Cœur Ultra Absorbant et Neutralisation des Odeurs => Category: Tampons\n",
      "Processing title: Vania Serviettes Hygiéniques, Maxi Confort, Normal, 18 Serviettes (Type: <class 'str'>)\n",
      "Title: Vania Serviettes Hygiéniques, Maxi Confort, Normal, 18 Serviettes => Category: Tampons\n",
      "Processing title: Nana Ultra Long Plus Serviettes Hygiéniques Avec Ailettes - Flux Abondants - 12 Serviettes En Pochette Individuelle (Type: <class 'str'>)\n",
      "Title: Nana Ultra Long Plus Serviettes Hygiéniques Avec Ailettes - Flux Abondants - 12 Serviettes En Pochette Individuelle => Category: Tampons\n",
      "Processing title: Nana Ultra Régulier Plus Serviettes Hygiéniques Avec Ailettes - Flux Modérés - 28 Serviettes En Pochette Individuelle (Type: <class 'str'>)\n",
      "Title: Nana Ultra Régulier Plus Serviettes Hygiéniques Avec Ailettes - Flux Modérés - 28 Serviettes En Pochette Individuelle => Category: Tampons\n",
      "Processing title: Vania - Serviettes Hygiéniques, Maxi Confort, Super, 14 Serviettes Femme (Type: <class 'str'>)\n",
      "Title: Vania - Serviettes Hygiéniques, Maxi Confort, Super, 14 Serviettes Femme => Category: Tampons\n",
      "Processing title: Vania Serviettes Hygiéniques, Maxi Confort, Nuit Plus, Extra Longue, Jusqu'à 8h de Protection,12 Unitès (Type: <class 'str'>)\n",
      "Title: Vania Serviettes Hygiéniques, Maxi Confort, Nuit Plus, Extra Longue, Jusqu'à 8h de Protection,12 Unitès => Category: Tampons\n",
      "Processing title: Always Maxi Serviettes Hygiéniques, Taille 2, Long, 20 Serviettes Avec Ailettes, Flux Très Abondants Jour, Cœur Ultra Absorbant et Barrières Anti-Fuites (Type: <class 'str'>)\n",
      "Title: Always Maxi Serviettes Hygiéniques, Taille 2, Long, 20 Serviettes Avec Ailettes, Flux Très Abondants Jour, Cœur Ultra Absorbant et Barrières Anti-Fuites => Category: Tampons\n",
      "Processing title: Love & Green Serviettes Ecologiques Normal - Certifiées Ecolabel - 14 Pièces - 0% colorant, parfum, allergènes (Type: <class 'str'>)\n",
      "Title: Love & Green Serviettes Ecologiques Normal - Certifiées Ecolabel - 14 Pièces - 0% colorant, parfum, allergènes => Category: Tampons\n",
      "Processing title: Always Ultra Serviettes Hygiéniques, Taille 4, Secure Night, 18 Serviettes Avec Ailettes, Flux Abondants Nuit, Max Confort, Super Absorbantes et Ultra Fines (Type: <class 'str'>)\n",
      "Title: Always Ultra Serviettes Hygiéniques, Taille 4, Secure Night, 18 Serviettes Avec Ailettes, Flux Abondants Nuit, Max Confort, Super Absorbantes et Ultra Fines => Category: Tampons\n",
      "Processing title: Nana PureSensitive Serviettes Hygiéniques Ultra Nuit Plus pour la Nuit - Flux Très Abondant - 0 % Allergène*, Parfum, Colorant - 8 Serviettes avec Ailettes (Type: <class 'str'>)\n",
      "Title: Nana PureSensitive Serviettes Hygiéniques Ultra Nuit Plus pour la Nuit - Flux Très Abondant - 0 % Allergène*, Parfum, Colorant - 8 Serviettes avec Ailettes => Category: Tampons\n",
      "Processing title: Nana Ultra Long Serviettes Hygiéniques - Flux Abondants - 14 Serviettes En Pochette Individuelle (Type: <class 'str'>)\n",
      "Title: Nana Ultra Long Serviettes Hygiéniques - Flux Abondants - 14 Serviettes En Pochette Individuelle => Category: Tampons\n",
      "Processing title: Always Ultra Serviettes Hygiéniques, Taille 1, Normal, 30 Serviettes Avec Ailettes, Flux légers Jour, Max Confort, Super Absorbantes et Ultra Fines (Type: <class 'str'>)\n",
      "Title: Always Ultra Serviettes Hygiéniques, Taille 1, Normal, 30 Serviettes Avec Ailettes, Flux légers Jour, Max Confort, Super Absorbantes et Ultra Fines => Category: Tampons\n",
      "Processing title: Vania Serviettes Hygiéniques, Maxi Confort, Normal+, 16 Serviettes - Lot de 2 (Type: <class 'str'>)\n",
      "Title: Vania Serviettes Hygiéniques, Maxi Confort, Normal+, 16 Serviettes - Lot de 2 => Category: Tampons\n",
      "Processing title: Always Ultra, Serviettes Hygiéniques, Taille 1, Normal, Flux légers Jour, 136 Serviettes Sans Ailettes, Format Eco, Super Absorbantes et Ultra Fines, Emballage 50% de plastique recyclé (Type: <class 'str'>)\n",
      "Title: Always Ultra, Serviettes Hygiéniques, Taille 1, Normal, Flux légers Jour, 136 Serviettes Sans Ailettes, Format Eco, Super Absorbantes et Ultra Fines, Emballage 50% de plastique recyclé => Category: Tampons\n",
      "Processing title: Always Platinum Serviettes Hygiéniques, Taille 3, Day & Night, 64 Serviettes Avec Ailettes, Flux Abondants Jour et Nuit, Format Eco, Douces et Flexibles, Super Absorbantes et Ultra Fines (Type: <class 'str'>)\n",
      "Title: Always Platinum Serviettes Hygiéniques, Taille 3, Day & Night, 64 Serviettes Avec Ailettes, Flux Abondants Jour et Nuit, Format Eco, Douces et Flexibles, Super Absorbantes et Ultra Fines => Category: Tampons\n",
      "Processing title: Always Cotton Protection Ultra Nuit (Taille 3) Serviettes Hygiéniques Avec Ailettes x9 (Type: <class 'str'>)\n",
      "Title: Always Cotton Protection Ultra Nuit (Taille 3) Serviettes Hygiéniques Avec Ailettes x9 => Category: Tampons\n",
      "Processing title: Always Ultra, Serviettes Hygiéniques, Taille 1, Normal, Flux légers Jour, 114 Serviettes Avec Ailettes, Format Eco, Super Absorbantes et Ultra Fines, Technologie InstantAbsorb et OdourLock (Type: <class 'str'>)\n",
      "Title: Always Ultra, Serviettes Hygiéniques, Taille 1, Normal, Flux légers Jour, 114 Serviettes Avec Ailettes, Format Eco, Super Absorbantes et Ultra Fines, Technologie InstantAbsorb et OdourLock => Category: Tampons\n",
      "Processing title: Always Ultra Serviettes Hygiéniques, Taille 2, Long, 12 Serviettes Avec Ailettes, Flux Modérés Jour, Max Confort, Super Absorbantes et Ultra Fines (Type: <class 'str'>)\n",
      "Title: Always Ultra Serviettes Hygiéniques, Taille 2, Long, 12 Serviettes Avec Ailettes, Flux Modérés Jour, Max Confort, Super Absorbantes et Ultra Fines => Category: Tampons\n",
      "Processing title: Always Cotton Protection, Pack Duo, Taille 1, Normal, 44 Serviettes Hygiéniques Avec Ailettes et 52 Protège-Slips, Flux Légers Jour, Format Eco, Voile 100% Coton Bio, Sans Parfum, Emballage papier (Type: <class 'str'>)\n",
      "Title: Always Cotton Protection, Pack Duo, Taille 1, Normal, 44 Serviettes Hygiéniques Avec Ailettes et 52 Protège-Slips, Flux Légers Jour, Format Eco, Voile 100% Coton Bio, Sans Parfum, Emballage papier => Category: Tampons\n",
      "Processing title: Always Discreet, Serviettes Fuites Urinaires, Extra Sûre, Ultimate Nuit, Absorption 7, 48 Serviettes Hygiéniques Incontinence Femme Importante, Protection Très Absorbante de Nuit, Pack 1 Mois (Type: <class 'str'>)\n",
      "Title: Always Discreet, Serviettes Fuites Urinaires, Extra Sûre, Ultimate Nuit, Absorption 7, 48 Serviettes Hygiéniques Incontinence Femme Importante, Protection Très Absorbante de Nuit, Pack 1 Mois => Category: Tampons\n",
      "Processing title: Nana Ultra Régulier Plus Serviettes Hygiéniques Avec Ailettes - Flux Modérés - 168 Serviettes En Pochette Individuelle (Type: <class 'str'>)\n",
      "Title: Nana Ultra Régulier Plus Serviettes Hygiéniques Avec Ailettes - Flux Modérés - 168 Serviettes En Pochette Individuelle => Category: Tampons\n",
      "Processing title: Love & Green Serviettes certifiées Ecolabel & hypoallergéniques \"MAXI SUPER\" x 14 (Type: <class 'str'>)\n",
      "Title: Love & Green Serviettes certifiées Ecolabel & hypoallergéniques \"MAXI SUPER\" x 14 => Category: Tampons\n",
      "Processing title: ECO by Naty Serviettes Ecologiques Super - Serviettes hygiéniques à base de plantes et absorbantes, produit menstruel en coton biologique, meilleur pour la santé féminine (12 unités) (Type: <class 'str'>)\n",
      "Title: ECO by Naty Serviettes Ecologiques Super - Serviettes hygiéniques à base de plantes et absorbantes, produit menstruel en coton biologique, meilleur pour la santé féminine (12 unités) => Category: Tampons\n",
      "Processing title: Always Discreet, Serviettes Fuites Urinaires, Long plus, Absorption 5, 64 Serviettes Hygiéniques Incontinence Femme Importante, Protection Absorbante sûre, Pack 1 Mois (Type: <class 'str'>)\n",
      "Title: Always Discreet, Serviettes Fuites Urinaires, Long plus, Absorption 5, 64 Serviettes Hygiéniques Incontinence Femme Importante, Protection Absorbante sûre, Pack 1 Mois => Category: Tampons\n",
      "Processing title: Always Discreet, Serviettes Fuites Urinaires, Normal, Absorption 3, 96 Serviettes Hygiéniques Incontinence Femme Modérée, Protection Absorbante, Pack 1 Mois (Type: <class 'str'>)\n",
      "Title: Always Discreet, Serviettes Fuites Urinaires, Normal, Absorption 3, 96 Serviettes Hygiéniques Incontinence Femme Modérée, Protection Absorbante, Pack 1 Mois => Category: Tampons\n",
      "Processing title: Organyc, Serviettes Hygieniques Avec Ailettes 100% Coton Bio Certifie - 4 Packs De 10 Serviettes (Total: 40 Unites) (Type: <class 'str'>)\n",
      "Title: Organyc, Serviettes Hygieniques Avec Ailettes 100% Coton Bio Certifie - 4 Packs De 10 Serviettes (Total: 40 Unites) => Category: Tampons\n",
      "Processing title: Always Ultra Serviettes Hygiéniques, Taille 2, Long, 26 Serviettes Avec Ailettes, Flux Modérés Jour, Max Confort, Super Absorbantes et Ultra Fines (Type: <class 'str'>)\n",
      "Title: Always Ultra Serviettes Hygiéniques, Taille 2, Long, 26 Serviettes Avec Ailettes, Flux Modérés Jour, Max Confort, Super Absorbantes et Ultra Fines => Category: Tampons\n",
      "Processing title: Always Ultra Serviettes Hygiéniques, Taille 2, Long, 168 Serviettes Sans Ailettes, Flux Modérés Jour, Format Eco, Max Confort, Super Absorbantes et Ultra Fines (Type: <class 'str'>)\n",
      "Title: Always Ultra Serviettes Hygiéniques, Taille 2, Long, 168 Serviettes Sans Ailettes, Flux Modérés Jour, Format Eco, Max Confort, Super Absorbantes et Ultra Fines => Category: Tampons\n",
      "Processing title: Rovtop 10 pcs 25.4cm Serviettes Hygiéniques Lavables en Charbon de Bambou avec 2 Mini Sac Portatif et un Emballage de Boîte Cadeau (Type: <class 'str'>)\n",
      "Title: Rovtop 10 pcs 25.4cm Serviettes Hygiéniques Lavables en Charbon de Bambou avec 2 Mini Sac Portatif et un Emballage de Boîte Cadeau => Category: Tampons\n",
      "Processing title: Always Discreet, 26 Serviettes Hygiéniques Incontinence Femme, Long 4 Gouttes, Protection Absorbante pour Fuites Urinaires Importantes, Mega Pack (Type: <class 'str'>)\n",
      "Title: Always Discreet, 26 Serviettes Hygiéniques Incontinence Femme, Long 4 Gouttes, Protection Absorbante pour Fuites Urinaires Importantes, Mega Pack => Category: Tampons\n",
      "Processing title: Vania Serviettes Hygiéniques, Maxi Confort, Nuit, Extra Longue, Sans Parfum, 12 Serviettes (Type: <class 'str'>)\n",
      "Title: Vania Serviettes Hygiéniques, Maxi Confort, Nuit, Extra Longue, Sans Parfum, 12 Serviettes => Category: Tampons\n",
      "Processing title: Always Cotton Protection Serviettes Hygiéniques, Taille 3, Night, 108 Serviettes Hygiéniques Avec Ailettes, Flux Abondants Nuit, Format Eco, Voile 100% Coton Bio, Sans Parfum (Type: <class 'str'>)\n",
      "Title: Always Cotton Protection Serviettes Hygiéniques, Taille 3, Night, 108 Serviettes Hygiéniques Avec Ailettes, Flux Abondants Nuit, Format Eco, Voile 100% Coton Bio, Sans Parfum => Category: Tampons\n",
      "Processing title: Always – Lot de 3 paquets de 22 serviettes hygiéniques de nuit Infinity très absorbantes taille 5, non parfumées, avec ailettes (Type: <class 'str'>)\n",
      "Title: Always – Lot de 3 paquets de 22 serviettes hygiéniques de nuit Infinity très absorbantes taille 5, non parfumées, avec ailettes => Category: Tampons\n",
      "Processing title: Serviettes TENA Discreet Ultra Normal - Protections Fuites Urinaires Femme - Sans parfum et absorbantes - Triple Protection contre les fuites urinaires légères - Lot de 128 (16x8) pièces jetables (Type: <class 'str'>)\n",
      "Title: Serviettes TENA Discreet Ultra Normal - Protections Fuites Urinaires Femme - Sans parfum et absorbantes - Triple Protection contre les fuites urinaires légères - Lot de 128 (16x8) pièces jetables => Category: Tampons\n",
      "Processing title: Saugella Saugella Cotton Touch Lot de 56 serviettes hygiéniques pour extérieur, jour à action anti-odeurs avec ailes en coton hypoallergénique, 80 g (Type: <class 'str'>)\n",
      "Title: Saugella Saugella Cotton Touch Lot de 56 serviettes hygiéniques pour extérieur, jour à action anti-odeurs avec ailes en coton hypoallergénique, 80 g => Category: Tampons\n",
      "Processing title: Serviette Hygiénique Lavable Bio Coton; Lot de 6 (L+XL) Serviette Hygiénique Lavable Flux Abondant Nuit FABRIQUÉE EN UE; Protection Hygienique Lavable Longue; Serviette Periodique Lavable Reutilisable (Type: <class 'str'>)\n",
      "Title: Serviette Hygiénique Lavable Bio Coton; Lot de 6 (L+XL) Serviette Hygiénique Lavable Flux Abondant Nuit FABRIQUÉE EN UE; Protection Hygienique Lavable Longue; Serviette Periodique Lavable Reutilisable => Category: Tampons\n",
      "Processing title: Abena Premium Lot de 2x14 serviettes hygiéniques de maternité (Type: <class 'str'>)\n",
      "Title: Abena Premium Lot de 2x14 serviettes hygiéniques de maternité => Category: Tampons\n",
      "Processing title: Lansinoh Serviettes maternité I Extra absorbantes I Dès l'accouchement (Type: <class 'str'>)\n",
      "Title: Lansinoh Serviettes maternité I Extra absorbantes I Dès l'accouchement => Category: Tampons\n",
      "Processing title: Always Ultra, Serviettes Hygiéniques, Taille 2, Long, Flux Modérés Jour, 96 Serviettes Avec Ailettes, Format Eco, Super Absorbantes et Ultra Fines, Approuvé dermatologiquement (Type: <class 'str'>)\n",
      "Title: Always Ultra, Serviettes Hygiéniques, Taille 2, Long, Flux Modérés Jour, 96 Serviettes Avec Ailettes, Format Eco, Super Absorbantes et Ultra Fines, Approuvé dermatologiquement => Category: Tampons\n",
      "Processing title: TENA Discreet Mini - Serviettes Incontinence Femme - Post-Accouchement - Protections Absorbantes pour Fuites Urinaires Légères - 120 Serviettes (Pack 1 Mois) (Type: <class 'str'>)\n",
      "Title: TENA Discreet Mini - Serviettes Incontinence Femme - Post-Accouchement - Protections Absorbantes pour Fuites Urinaires Légères - 120 Serviettes (Pack 1 Mois) => Category: Tampons\n",
      "Processing title: Jho - Serviettes hygiéniques en coton 100% bio (Jour, 6 boites = 60 serviettes) (Type: <class 'str'>)\n",
      "Title: Jho - Serviettes hygiéniques en coton 100% bio (Jour, 6 boites = 60 serviettes) => Category: Tampons\n",
      "Processing title: Always Platinum Serviettes Hygiéniques, Taille 3, Nuit, 8 Serviettes Avec Ailettes, Flux Abondants Nuit, Douces et Flexibles, Technologie OdourLock qui neutralise les odeurs (Type: <class 'str'>)\n",
      "Title: Always Platinum Serviettes Hygiéniques, Taille 3, Nuit, 8 Serviettes Avec Ailettes, Flux Abondants Nuit, Douces et Flexibles, Technologie OdourLock qui neutralise les odeurs => Category: Tampons\n",
      "Processing title: TENA Discreet Extra Plus - Serviettes Incontinence Femme Mega pack 24 Serviettes (Type: <class 'str'>)\n",
      "Title: TENA Discreet Extra Plus - Serviettes Incontinence Femme Mega pack 24 Serviettes => Category: Tampons\n",
      "Processing title: Braguita Ultra Absorb Saforelle T 38 (Type: <class 'str'>)\n",
      "Title: Braguita Ultra Absorb Saforelle T 38 => Category: Tampons\n",
      "Processing title: Nana Ultra Régulier Plus Fraîcheur et Protection Serviettes Hygiéniques - Flux Modéré - Voile de Surface Ultra-Respirant - 14 Serviettes avec Ailettes (Type: <class 'str'>)\n",
      "Title: Nana Ultra Régulier Plus Fraîcheur et Protection Serviettes Hygiéniques - Flux Modéré - Voile de Surface Ultra-Respirant - 14 Serviettes avec Ailettes => Category: Tampons\n",
      "Processing title: ALWAYS - Ultra Serviettes Hygiéniques Ailettes Taille 5 Secure Night Ext - Lot De 4 - Vendu Par Lot (Type: <class 'str'>)\n",
      "Title: ALWAYS - Ultra Serviettes Hygiéniques Ailettes Taille 5 Secure Night Ext - Lot De 4 - Vendu Par Lot => Category: Tampons\n",
      "Processing title: Lot 3 Culottes Menstruelles Ultra Absorbante 4 Couches Coton Bio + Sac | Flux Abondant Sous Vêtement Lavable Réutilisable Règles Fuites Post Accouchement Adolescente Incontinence (Plumetis Couleur, M) (Type: <class 'str'>)\n",
      "Title: Lot 3 Culottes Menstruelles Ultra Absorbante 4 Couches Coton Bio + Sac | Flux Abondant Sous Vêtement Lavable Réutilisable Règles Fuites Post Accouchement Adolescente Incontinence (Plumetis Couleur, M) => Category: Tampons\n",
      "Processing title: Culotte Menstruelle Absorbante = 3 tampons - Lavable - Coton - Ecologique - Menstruation - Culotte de Règles - Protection Périodique Hygiénique Flux léger à abondant - XXS/4XL (Type: <class 'str'>)\n",
      "Title: Culotte Menstruelle Absorbante = 3 tampons - Lavable - Coton - Ecologique - Menstruation - Culotte de Règles - Protection Périodique Hygiénique Flux léger à abondant - XXS/4XL => Category: Tampons\n",
      "Processing title: Serviettes hygiéniques Vuokkoset bio et organiques, taille normale avec ailettes, biodégradables et en coton organique - lot de serviettes hygiéniques 4x12 pièces (Type: <class 'str'>)\n",
      "Title: Serviettes hygiéniques Vuokkoset bio et organiques, taille normale avec ailettes, biodégradables et en coton organique - lot de serviettes hygiéniques 4x12 pièces => Category: Tampons\n",
      "Processing title: Teamoy Serviettes Hygièniques Réutilisables en fibre de bambou (lot de 10) pour féminine, Lavable/Réutilisables, Avec un Sac à humide sec (Type: <class 'str'>)\n",
      "Title: Teamoy Serviettes Hygièniques Réutilisables en fibre de bambou (lot de 10) pour féminine, Lavable/Réutilisables, Avec un Sac à humide sec => Category: Tampons\n",
      "Processing title: Indasec Maternity Serviette Cellulose Anatomique Pack de 25 (Type: <class 'str'>)\n",
      "Title: Indasec Maternity Serviette Cellulose Anatomique Pack de 25 => Category: Tampons\n",
      "Processing title: Lilind® Lot de 6 serviettes hygiéniques lavables en tissu bio de 24 cm avec sac étanche à fermeture éclair, réutilisables et imperméables, 100% coton, fleurs vertes (Type: <class 'str'>)\n",
      "Title: Lilind® Lot de 6 serviettes hygiéniques lavables en tissu bio de 24 cm avec sac étanche à fermeture éclair, réutilisables et imperméables, 100% coton, fleurs vertes => Category: Tampons\n",
      "Processing title: Fab Little Bag Sacs hygiéniques pour tampons, serviettes hygiéniques, serviettes hygiéniques - Prévient les odeurs, scellable, écologique - Paquet de 125 sacs hygiéniques pour femmes - Sixer Pack (Type: <class 'str'>)\n",
      "Title: Fab Little Bag Sacs hygiéniques pour tampons, serviettes hygiéniques, serviettes hygiéniques - Prévient les odeurs, scellable, écologique - Paquet de 125 sacs hygiéniques pour femmes - Sixer Pack => Category: Tampons\n",
      "Processing title: Nana Ultra Goodnight Large Serviettes Hygiéniques pour la Nuit, 10 unités (Type: <class 'str'>)\n",
      "Title: Nana Ultra Goodnight Large Serviettes Hygiéniques pour la Nuit, 10 unités => Category: Tampons\n",
      "Processing title: Lot de 5 | Serviette Hygiénique Lavable en Coton | Flux très abondant | Jour – Nuit | Femme Ado Fille | Zéro déchet | Protège slip réutilisable | Protection hygiénique lavable pour règles (Type: <class 'str'>)\n",
      "Title: Lot de 5 | Serviette Hygiénique Lavable en Coton | Flux très abondant | Jour – Nuit | Femme Ado Fille | Zéro déchet | Protège slip réutilisable | Protection hygiénique lavable pour règles => Category: Tampons\n",
      "Processing title: NANA Maxi Goodnight Serviette Hygiénique pour la Nuit avec Ailettes 12 Pièces - Lot de 4 (Type: <class 'str'>)\n",
      "Title: NANA Maxi Goodnight Serviette Hygiénique pour la Nuit avec Ailettes 12 Pièces - Lot de 4 => Category: Tampons\n",
      "Processing title: Lilind® Lot de 6 serviettes hygiéniques en tissu organique - 24 cm - Noires - Avec fermeture éclair - Sac étanche - Réutilisable - Serviettes hygiéniques - 100 % coton - Fleurs jaunes (Type: <class 'str'>)\n",
      "Title: Lilind® Lot de 6 serviettes hygiéniques en tissu organique - 24 cm - Noires - Avec fermeture éclair - Sac étanche - Réutilisable - Serviettes hygiéniques - 100 % coton - Fleurs jaunes => Category: Tampons\n",
      "Processing title: Lilind® Lot de 6 serviettes hygiéniques en tissu organique, 20 cm, noir standard, lot de 6, sac imperméable à fermeture éclair, réutilisable et imperméable, 100 % coton, roses bleues (Type: <class 'str'>)\n",
      "Title: Lilind® Lot de 6 serviettes hygiéniques en tissu organique, 20 cm, noir standard, lot de 6, sac imperméable à fermeture éclair, réutilisable et imperméable, 100 % coton, roses bleues => Category: Tampons\n",
      "Processing title: CuloClean 7pcs (S) Petite serviette hygiénique menstruelle réutilisable en fibre de bambou. Protège-slips écologiques, en tissu respirant et imperméable + sac + bidet portable (Type: <class 'str'>)\n",
      "Title: CuloClean 7pcs (S) Petite serviette hygiénique menstruelle réutilisable en fibre de bambou. Protège-slips écologiques, en tissu respirant et imperméable + sac + bidet portable => Category: Tampons\n",
      "Processing title: Always - Ultra Serviettes Hygiéniques avec Ailettes, Secure Night - 24 Pièces (Type: <class 'str'>)\n",
      "Title: Always - Ultra Serviettes Hygiéniques avec Ailettes, Secure Night - 24 Pièces => Category: Tampons\n",
      "Processing title: Love & Green Serviettes Hypoallergéniques Normal 0% 14 Pièces+ Love & Green Serviettes Hypoallergéniques Nuit 0% 10 Pièces (Type: <class 'str'>)\n",
      "Title: Love & Green Serviettes Hypoallergéniques Normal 0% 14 Pièces+ Love & Green Serviettes Hypoallergéniques Nuit 0% 10 Pièces => Category: Tampons\n",
      "Processing title: 6 pièces XL super grandes 36cm serviettes hygiéniques lavables pour pendant la nuit de bois en bambou réutilisables Chiffon Mama Menstruel Coussinets (Type: <class 'str'>)\n",
      "Title: 6 pièces XL super grandes 36cm serviettes hygiéniques lavables pour pendant la nuit de bois en bambou réutilisables Chiffon Mama Menstruel Coussinets => Category: Tampons\n",
      "Processing title: Always - Ultra Serviettes Hygiéniques, Normal - 64 Pièces (Type: <class 'str'>)\n",
      "Title: Always - Ultra Serviettes Hygiéniques, Normal - 64 Pièces => Category: Tampons\n",
      "Processing title: Serviettes menstruelles de maternité, serviette hygiénique post-partum avec avertissement de saignement super absorbant pour les femmes (Type: <class 'str'>)\n",
      "Title: Serviettes menstruelles de maternité, serviette hygiénique post-partum avec avertissement de saignement super absorbant pour les femmes => Category: Tampons\n",
      "Processing title: Always - Ultra Secure Night - Serviettes Hygieniques avec Ailettes 9x taille 4 - Lot de 4 (Type: <class 'str'>)\n",
      "Title: Always - Ultra Secure Night - Serviettes Hygieniques avec Ailettes 9x taille 4 - Lot de 4 => Category: Tampons\n",
      "Processing title: 5pcs Serviettes Hygiéniques pour Femmes, Serviettes Hygiéniques Hygiéniques Féminines Réutilisables, Lavables en Coton, Serviettes Hygiéniques pour Femmes, Serviettes Menstruelles en Tissu pour Protèg (Type: <class 'str'>)\n",
      "Title: 5pcs Serviettes Hygiéniques pour Femmes, Serviettes Hygiéniques Hygiéniques Féminines Réutilisables, Lavables en Coton, Serviettes Hygiéniques pour Femmes, Serviettes Menstruelles en Tissu pour Protèg => Category: Tampons\n",
      "Processing title: Always Discreet Boutique, 40 Serviettes Hygiéniques Incontinence Femme, Long 4 Gouttes, Protection Absorbante pour Fuites Urinaires Importantes, Pack 1 Mois (Type: <class 'str'>)\n",
      "Title: Always Discreet Boutique, 40 Serviettes Hygiéniques Incontinence Femme, Long 4 Gouttes, Protection Absorbante pour Fuites Urinaires Importantes, Pack 1 Mois => Category: Tampons\n",
      "Processing title: LIVEHITOP Serviettes Hygiéniques Lavables - Menstruel Chiffon Réutilisable bio Bambou Charbon Protège-slips Grand Longue pour Nuit Lot de 5 L avec Sac, Cadeau La Saint-Valentin pour Femmes (Type: <class 'str'>)\n",
      "Title: LIVEHITOP Serviettes Hygiéniques Lavables - Menstruel Chiffon Réutilisable bio Bambou Charbon Protège-slips Grand Longue pour Nuit Lot de 5 L avec Sac, Cadeau La Saint-Valentin pour Femmes => Category: Tampons\n",
      "Processing title: Always Discreet Boutique, 40 Serviettes Hygiéniques Incontinence Femme, Normal 3 Gouttes, Protection Absorbante pour Fuites Urinaires Modérées, Pack 1 Mois (Type: <class 'str'>)\n",
      "Title: Always Discreet Boutique, 40 Serviettes Hygiéniques Incontinence Femme, Normal 3 Gouttes, Protection Absorbante pour Fuites Urinaires Modérées, Pack 1 Mois => Category: Tampons\n",
      "Processing title: 10 Serviettes Hygiéniques Lavables pour flux moyen et petit | Protège slips Menstruels Réutilisables| PME familiale (Type: <class 'str'>)\n",
      "Title: 10 Serviettes Hygiéniques Lavables pour flux moyen et petit | Protège slips Menstruels Réutilisables| PME familiale => Category: Tampons\n",
      "Processing title: Bonne journée Lot de 3 Culottes Menstruelles Noir Hygieniques Coton Haute Absorbante pour Femmes/Lavables Réutilisables/Protection Périodique Protege Fuites Regle Flux Abondant (S) (Type: <class 'str'>)\n",
      "Title: Bonne journée Lot de 3 Culottes Menstruelles Noir Hygieniques Coton Haute Absorbante pour Femmes/Lavables Réutilisables/Protection Périodique Protege Fuites Regle Flux Abondant (S) => Category: Tampons\n",
      "Processing title: Organyc Lot de 2 packs de 12 serviettes hygiéniques de maternité en coton biologique (Type: <class 'str'>)\n",
      "Title: Organyc Lot de 2 packs de 12 serviettes hygiéniques de maternité en coton biologique => Category: Tampons\n",
      "Processing title: Serviette hygiénique réutilisable en tissu de bambou Protège-slip pour femme (25,5 x 18 cm) (Type: <class 'str'>)\n",
      "Title: Serviette hygiénique réutilisable en tissu de bambou Protège-slip pour femme (25,5 x 18 cm) => Category: Tampons\n",
      "Processing title: Rael serviettes hygiéniques ultra fines normales avec ailettes, en coton bio (28 pièces) (Type: <class 'str'>)\n",
      "Title: Rael serviettes hygiéniques ultra fines normales avec ailettes, en coton bio (28 pièces) => Category: Tampons\n",
      "Processing title: Vania Serviettes Hygiéniques, Maxi Confort, Normal, 4 x 18 Serviettes (Type: <class 'str'>)\n",
      "Title: Vania Serviettes Hygiéniques, Maxi Confort, Normal, 4 x 18 Serviettes => Category: Tampons\n",
      "Processing title: 6 pièces 30cm longues serviettes hygièniques pour flux abondant nuit lavable Chiffon Mama Menstruel Coussinets (L-30cm) (Type: <class 'str'>)\n",
      "Title: 6 pièces 30cm longues serviettes hygièniques pour flux abondant nuit lavable Chiffon Mama Menstruel Coussinets (L-30cm) => Category: Tampons\n",
      "Processing title: TENA Discreet Extra Plus - Serviettes Incontinence Femme - Post-accouchement - Protections Absorbantes Pour Fuites Urinaires Modérées Ã€ Fortes - 96 Serviettes (Pack 1 Mois) (Type: <class 'str'>)\n",
      "Title: TENA Discreet Extra Plus - Serviettes Incontinence Femme - Post-accouchement - Protections Absorbantes Pour Fuites Urinaires Modérées Ã€ Fortes - 96 Serviettes (Pack 1 Mois) => Category: Tampons\n",
      "Processing title: Always Maxi Serviettes Hygiéniques, ProFresh Night, 12 Serviettes Sans Ailettes, Flux Très Abondants Nuit, Cœur Ultra Absorbant et Neutralisation des Odeurs (Lot de 2) (Type: <class 'str'>)\n",
      "Title: Always Maxi Serviettes Hygiéniques, ProFresh Night, 12 Serviettes Sans Ailettes, Flux Très Abondants Nuit, Cœur Ultra Absorbant et Neutralisation des Odeurs (Lot de 2) => Category: Tampons\n",
      "Processing title: TENA Lights Protège-slips Longs Incontinence Femme - Pour Peaux Sensibles - Protections Absorbantes pour Fuites Urinaires Légères - 120 Protège-slips (Pack 1 mois) (Type: <class 'str'>)\n",
      "Title: TENA Lights Protège-slips Longs Incontinence Femme - Pour Peaux Sensibles - Protections Absorbantes pour Fuites Urinaires Légères - 120 Protège-slips (Pack 1 mois) => Category: Tampons\n",
      "Processing title: Rael serviettes hygiéniques ultrafines maxi avec ailettes, en coton bio, sans parfum (24 pièces) (Type: <class 'str'>)\n",
      "Title: Rael serviettes hygiéniques ultrafines maxi avec ailettes, en coton bio, sans parfum (24 pièces) => Category: Tampons\n",
      "Processing title: Erthree Lot de 10 serviettes hygiéniques en coton de bambou réutilisables et lavables Taille S (Type: <class 'str'>)\n",
      "Title: Erthree Lot de 10 serviettes hygiéniques en coton de bambou réutilisables et lavables Taille S => Category: Tampons\n",
      "Processing title: NANA Serviettes Hygiéniques Goodnight - Le paquet de 12 (Type: <class 'str'>)\n",
      "Title: NANA Serviettes Hygiéniques Goodnight - Le paquet de 12 => Category: Tampons\n",
      "Processing title: Nana Ultra Régulier Fraîcheur et Protection Serviettes Hygiéniques - Flux Modéré - Voile de Surface Ultra-Respirant - 16 Serviettes (Type: <class 'str'>)\n",
      "Title: Nana Ultra Régulier Fraîcheur et Protection Serviettes Hygiéniques - Flux Modéré - Voile de Surface Ultra-Respirant - 16 Serviettes => Category: Tampons\n",
      "Processing title: Always Discreet Lot de 3 serviettes hygiéniques pour fuites urinaires sensibles (Type: <class 'str'>)\n",
      "Title: Always Discreet Lot de 3 serviettes hygiéniques pour fuites urinaires sensibles => Category: Tampons\n",
      "Processing title: Always Ultra Serviettes Secure Night (taille 4) Ailettes x18, Super Absorbantes Et Ultra-Fines, Pour Règles (Type: <class 'str'>)\n",
      "Title: Always Ultra Serviettes Secure Night (taille 4) Ailettes x18, Super Absorbantes Et Ultra-Fines, Pour Règles => Category: Tampons\n",
      "Processing title: Serviette hygienique lavable pour flux abondant | pochette discrète | Serviette hygiénique maternité | Zero dechet et écologique réutilisable | protège slip lavable de nuit | Bambaw (Type: <class 'str'>)\n",
      "Title: Serviette hygienique lavable pour flux abondant | pochette discrète | Serviette hygiénique maternité | Zero dechet et écologique réutilisable | protège slip lavable de nuit | Bambaw => Category: Tampons\n",
      "Processing title: Always Discreet, Serviettes Fuites Urinaires, Small Plus, Absorption 2+, 128 Serviettes Hygiéniques Incontinence Femme Légère, Protection Absorbante, Pack 1 Mois (Type: <class 'str'>)\n",
      "Title: Always Discreet, Serviettes Fuites Urinaires, Small Plus, Absorption 2+, 128 Serviettes Hygiéniques Incontinence Femme Légère, Protection Absorbante, Pack 1 Mois => Category: Tampons\n",
      "Processing title: Culottes Menstruelle Bambou Bio Oeko tex - Absorbante Coton = 4 tampons - Protection Périodique Hygiénique Flux léger à abondant- Ecologique- Lavable et Réutilisable, 0 Déchet - (L, UNITE) (Type: <class 'str'>)\n",
      "Title: Culottes Menstruelle Bambou Bio Oeko tex - Absorbante Coton = 4 tampons - Protection Périodique Hygiénique Flux léger à abondant- Ecologique- Lavable et Réutilisable, 0 Déchet - (L, UNITE) => Category: Tampons\n",
      "Processing title: Masmi - Serviettes Hygiéniques Maternité - 100% Coton Bio - Hautement Absorbant - Certifié GOTS - Compostable & Biodégradable à plus de 95% - Boite de 10 Serviettes (Type: <class 'str'>)\n",
      "Title: Masmi - Serviettes Hygiéniques Maternité - 100% Coton Bio - Hautement Absorbant - Certifié GOTS - Compostable & Biodégradable à plus de 95% - Boite de 10 Serviettes => Category: Tampons\n",
      "Processing title: Monoprix Serviettes ultra-minces Nuit - Le paquet de 10 (Type: <class 'str'>)\n",
      "Title: Monoprix Serviettes ultra-minces Nuit - Le paquet de 10 => Category: Tampons\n",
      "Processing title: Serviettes Hygiéniques Réutilisables 3pcs - Serviettes Hygiéniques Lavables avec Charbon de Bois - Serviettes Menstruelles en Tissu - Serviette Hygiénique étanche au Charbon de Bambou Super(B23) (Type: <class 'str'>)\n",
      "Title: Serviettes Hygiéniques Réutilisables 3pcs - Serviettes Hygiéniques Lavables avec Charbon de Bois - Serviettes Menstruelles en Tissu - Serviette Hygiénique étanche au Charbon de Bambou Super(B23) => Category: Tampons\n",
      "Processing title: Rael serviettes hygiéniques ultrafines nuit avec ailettes, en coton bio, sans parfum (20 pièces) (Type: <class 'str'>)\n",
      "Title: Rael serviettes hygiéniques ultrafines nuit avec ailettes, en coton bio, sans parfum (20 pièces) => Category: Tampons\n",
      "Processing title: Lot 6 Serviettes hygiéniques réutilisables - (M L) - En coton biologique - Lavable - Anti-fuite - Noire (Type: <class 'str'>)\n",
      "Title: Lot 6 Serviettes hygiéniques réutilisables - (M L) - En coton biologique - Lavable - Anti-fuite - Noire => Category: Tampons\n",
      "Processing title: Always Serviettes hygiéniques ultra absorbantes et ultra fines Secure Night Extra (taille 5) - Pour règles menstruelles - 72 serviettes (18 x 4) (Type: <class 'str'>)\n",
      "Title: Always Serviettes hygiéniques ultra absorbantes et ultra fines Secure Night Extra (taille 5) - Pour règles menstruelles - 72 serviettes (18 x 4) => Category: Tampons\n",
      "Processing title: Always Serviette Hygiénique Avec Ailettes Cotton Protection Ultra Night - Le paquet de 9 serviettes (Type: <class 'str'>)\n",
      "Title: Always Serviette Hygiénique Avec Ailettes Cotton Protection Ultra Night - Le paquet de 9 serviettes => Category: Tampons\n",
      "Processing title: Coussinets menstruels réutilisables, doublure de culotte en coton bambou Coussins de serviette en tissu menstruel réutilisables lavables, protège-slips en tissu de nuit (Type: <class 'str'>)\n",
      "Title: Coussinets menstruels réutilisables, doublure de culotte en coton bambou Coussins de serviette en tissu menstruel réutilisables lavables, protège-slips en tissu de nuit => Category: Tampons\n",
      "Processing title: Medi-Inn Distributeur de Sacs hygiéniques | avec Sacs hygiéniques | pour Une élimination Facile des Serviettes hygiéniques, protège-Slips et tampons (1 Distributeur Blanc + 150 sachets hygiéniques) (Type: <class 'str'>)\n",
      "Title: Medi-Inn Distributeur de Sacs hygiéniques | avec Sacs hygiéniques | pour Une élimination Facile des Serviettes hygiéniques, protège-Slips et tampons (1 Distributeur Blanc + 150 sachets hygiéniques) => Category: Tampons\n",
      "Processing title: TENA - Lady Serviettes Incontinence Maxi Night 12 Serviettes - Lot De 3 - Livraison Gratuite (Type: <class 'str'>)\n",
      "Title: TENA - Lady Serviettes Incontinence Maxi Night 12 Serviettes - Lot De 3 - Livraison Gratuite => Category: Tampons\n",
      "Processing title: Saugella Saugella Cotton Touch Lot de 48 serviettes hygiéniques pour extérieur et nuit à action anti-odeurs avec ailes en coton hypoallergénique, 80 g (Type: <class 'str'>)\n",
      "Title: Saugella Saugella Cotton Touch Lot de 48 serviettes hygiéniques pour extérieur et nuit à action anti-odeurs avec ailes en coton hypoallergénique, 80 g => Category: Tampons\n",
      "Processing title: Always Discreet, 16 Serviettes Hygiéniques Incontinence Femme, Long plus 5 Gouttes, Protection Absorbante pour Fuites Urinaires Importantes (Type: <class 'str'>)\n",
      "Title: Always Discreet, 16 Serviettes Hygiéniques Incontinence Femme, Long plus 5 Gouttes, Protection Absorbante pour Fuites Urinaires Importantes => Category: Tampons\n",
      "Processing title: Always Dailies Cotton Protection Protège-Slips Normal 28 Protège-slips, Voile Supérieur 100 % Coton Bio (Type: <class 'str'>)\n",
      "Title: Always Dailies Cotton Protection Protège-Slips Normal 28 Protège-slips, Voile Supérieur 100 % Coton Bio => Category: Tampons\n",
      "Processing title: Serviettes hygiéniques réutilisables, doublure en coton de bambou, lavable, fibre douce, couche d'absorption du charbon de bambou (S, M, L, couleur aléatoire) (Type: <class 'str'>)\n",
      "Title: Serviettes hygiéniques réutilisables, doublure en coton de bambou, lavable, fibre douce, couche d'absorption du charbon de bambou (S, M, L, couleur aléatoire) => Category: Tampons\n",
      "Processing title: Lot de 2 serviettes Hygiéniques lavables - Nuit - Feel Natural (Type: <class 'str'>)\n",
      "Title: Lot de 2 serviettes Hygiéniques lavables - Nuit - Feel Natural => Category: Tampons\n",
      "Processing title: Sac Hygiénique pour Serviettes Hygiéniques Medi-Inn -, 10 Packungen 300 Stück (Type: <class 'str'>)\n",
      "Title: Sac Hygiénique pour Serviettes Hygiéniques Medi-Inn -, 10 Packungen 300 Stück => Category: Tampons\n",
      "Processing title: Always Discreet, 96 Protège-Slips Incontinence Femme, Long Plus, Protection Intégrale pour Fuites Urinaires Très Légères, Pack 1 Mois (Type: <class 'str'>)\n",
      "Title: Always Discreet, 96 Protège-Slips Incontinence Femme, Long Plus, Protection Intégrale pour Fuites Urinaires Très Légères, Pack 1 Mois => Category: Tampons\n",
      "Processing title: Monoprix Serviettes ultra-minces Normal Plus - Le paquet de 14 (Type: <class 'str'>)\n",
      "Title: Monoprix Serviettes ultra-minces Normal Plus - Le paquet de 14 => Category: Tampons\n",
      "Processing title: Tena serviettes absorbantes Lady Extra, 3 x 20 pièces (60 serviettes) (Type: <class 'str'>)\n",
      "Title: Tena serviettes absorbantes Lady Extra, 3 x 20 pièces (60 serviettes) => Category: Tampons\n",
      "Processing title: HEALLILY 6 Pcs Tante Ensemble De Serviettes Culottes Filles Serviette Slips Sous-Vêtements Serviettes Hygiéniques Lavables Période De Tissu Serviettes Menstruelles Réutilisables (Type: <class 'str'>)\n",
      "Title: HEALLILY 6 Pcs Tante Ensemble De Serviettes Culottes Filles Serviette Slips Sous-Vêtements Serviettes Hygiéniques Lavables Période De Tissu Serviettes Menstruelles Réutilisables => Category: Tampons\n",
      "Processing title: Lilind® Lot de 10 Serviettes hygiéniques réutilisables en tissu biologique lavable extra fin - zéro gaspillage, 100% coton - Impression aléatoire, noir (Type: <class 'str'>)\n",
      "Title: Lilind® Lot de 10 Serviettes hygiéniques réutilisables en tissu biologique lavable extra fin - zéro gaspillage, 100% coton - Impression aléatoire, noir => Category: Tampons\n",
      "Processing title: Always Discreet, Fuites Urinaires, 112 Protège-Slips Protection Intégrale, Incontinence Femme Très Légères, Technologie RapidDry et Anti-odeurs, Pack 1 Mois (Type: <class 'str'>)\n",
      "Title: Always Discreet, Fuites Urinaires, 112 Protège-Slips Protection Intégrale, Incontinence Femme Très Légères, Technologie RapidDry et Anti-odeurs, Pack 1 Mois => Category: Tampons\n",
      "Processing title: Vania Serviettes spéciale nuit - Maxi - Le paquet de 12 (Type: <class 'str'>)\n",
      "Title: Vania Serviettes spéciale nuit - Maxi - Le paquet de 12 => Category: Tampons\n",
      "Processing title: TENA Lights Protège-Slips Discret Incontinence Femme - pour Peaux Sensibles - Protections Absorbantes pour Fuites Urinaires Légères - 140 Protège-Slips (Pack 1 Mois) (Type: <class 'str'>)\n",
      "Title: TENA Lights Protège-Slips Discret Incontinence Femme - pour Peaux Sensibles - Protections Absorbantes pour Fuites Urinaires Légères - 140 Protège-Slips (Pack 1 Mois) => Category: Tampons\n",
      "Processing title: Lot de 3 serviettes Hygiéniques lavables - Small - Feel Natural (Type: <class 'str'>)\n",
      "Title: Lot de 3 serviettes Hygiéniques lavables - Small - Feel Natural => Category: Tampons\n",
      "Processing title: Veeda Serviettes de jour ultra fines super absorbantes sont toujours des serviettes hygiéniques en coton naturel sans colorant ni parfum au chlore, 14 pièces (lot de 3) (Type: <class 'str'>)\n",
      "Title: Veeda Serviettes de jour ultra fines super absorbantes sont toujours des serviettes hygiéniques en coton naturel sans colorant ni parfum au chlore, 14 pièces (lot de 3) => Category: Tampons\n",
      "Processing title: NANA Serviettes Hygiéniques Régulier Plus - Le paquet de 14 (Type: <class 'str'>)\n",
      "Title: NANA Serviettes Hygiéniques Régulier Plus - Le paquet de 14 => Category: Tampons\n",
      "Processing title: Monoprix Serviettes Maxi Normal - Le paquet de 18 (Type: <class 'str'>)\n",
      "Title: Monoprix Serviettes Maxi Normal - Le paquet de 18 => Category: Tampons\n",
      "Processing title: Monoprix Serviettes Maxi Nuit - Le paquet de 12 (Type: <class 'str'>)\n",
      "Title: Monoprix Serviettes Maxi Nuit - Le paquet de 12 => Category: Tampons\n",
      "Processing title: INTIMY CARE - Serviettes Hygiéniques Lavables & Réutilisables - 2 Unités + 1 Pochon Étanche - Absorption Modérée - Non-Glissant (Type: <class 'str'>)\n",
      "Title: INTIMY CARE - Serviettes Hygiéniques Lavables & Réutilisables - 2 Unités + 1 Pochon Étanche - Absorption Modérée - Non-Glissant => Category: Tampons\n",
      "Processing title: Always Ultra Serviettes Hygiéniques, Taille 3, Day & Night, 22 Serviettes Avec Ailettes, Flux Abondants Jour et Nuit, Max Confort, Super Absorbantes et Ultra Fines (Type: <class 'str'>)\n",
      "Title: Always Ultra Serviettes Hygiéniques, Taille 3, Day & Night, 22 Serviettes Avec Ailettes, Flux Abondants Jour et Nuit, Max Confort, Super Absorbantes et Ultra Fines => Category: Tampons\n",
      "Processing title: Always Ultra Serviettes Hygiéniques avec Ailettes, 14 unités (Type: <class 'str'>)\n",
      "Title: Always Ultra Serviettes Hygiéniques avec Ailettes, 14 unités => Category: Tampons\n",
      "Processing title: YueTech Lot de 4 serviettes hygiéniques lavables pour la nuit de 32,5 cm de long avec couche d'absorption au charbon de bambou et bout festonné, 1 mini sac inclus (Type: <class 'str'>)\n",
      "Title: YueTech Lot de 4 serviettes hygiéniques lavables pour la nuit de 32,5 cm de long avec couche d'absorption au charbon de bambou et bout festonné, 1 mini sac inclus => Category: Tampons\n",
      "Processing title: Bella For Teens Ultra sensible : Lot de 10 serviettes ultra fines pour adolescent avec ailes sans parfum (Type: <class 'str'>)\n",
      "Title: Bella For Teens Ultra sensible : Lot de 10 serviettes ultra fines pour adolescent avec ailes sans parfum => Category: Tampons\n",
      "Processing title: Lines Petalo Lot de 48 serviettes hygiéniques ultra chaudes avec ailettes (Type: <class 'str'>)\n",
      "Title: Lines Petalo Lot de 48 serviettes hygiéniques ultra chaudes avec ailettes => Category: Tampons\n",
      "Processing title: Lines Range & Go Regular - serviette hygiénique - Lot de 24 (Type: <class 'str'>)\n",
      "Title: Lines Range & Go Regular - serviette hygiénique - Lot de 24 => Category: Tampons\n",
      "Processing title: Always Dailies Protect Protège-Slips Long 26 Unités, 0% de parfum, Confortable Avec Cœur Absorbant (Type: <class 'str'>)\n",
      "Title: Always Dailies Protect Protège-Slips Long 26 Unités, 0% de parfum, Confortable Avec Cœur Absorbant => Category: Tampons\n",
      "Processing title: Lot de lingettes menstruelles réutilisables et imperméables en charbon de bambou - Débit régulier - Débit lourd (écoulement régulier) (Type: <class 'str'>)\n",
      "Title: Lot de lingettes menstruelles réutilisables et imperméables en charbon de bambou - Débit régulier - Débit lourd (écoulement régulier) => Category: Tampons\n",
      "Processing title: 6 Pièces Petites Serviettes Sanitaires Lavables Pour Débit Légère Réutilisables Femmes Fille protege slip lavable(S-20cm) (Type: <class 'str'>)\n",
      "Title: 6 Pièces Petites Serviettes Sanitaires Lavables Pour Débit Légère Réutilisables Femmes Fille protege slip lavable(S-20cm) => Category: Tampons\n",
      "Processing title: Lot de 2 serviettes Hygiéniques lavables - Medium - Feel Natural (Type: <class 'str'>)\n",
      "Title: Lot de 2 serviettes Hygiéniques lavables - Medium - Feel Natural => Category: Tampons\n",
      "Processing title: Always Discreet, 8 Serviettes Hygiéniques Incontinence Femme, Long plus 5 Gouttes, Protection Absorbante pour Fuites Urinaires Importantes - lot de 2 (Type: <class 'str'>)\n",
      "Title: Always Discreet, 8 Serviettes Hygiéniques Incontinence Femme, Long plus 5 Gouttes, Protection Absorbante pour Fuites Urinaires Importantes - lot de 2 => Category: Tampons\n",
      "Processing title: Love & Green ServiettesFuites urinaires/ Incontinence légère Normal x 12 - Lot de 2 (Type: <class 'str'>)\n",
      "Title: Love & Green ServiettesFuites urinaires/ Incontinence légère Normal x 12 - Lot de 2 => Category: Tampons\n",
      "Processing title: Monoprix Serviettes ultra-minces Normal - Le paquet de 16 (Type: <class 'str'>)\n",
      "Title: Monoprix Serviettes ultra-minces Normal - Le paquet de 16 => Category: Tampons\n",
      "Processing title: ECO by Naty Protège-Slips Ecologiques Normal - Protège-lingeries pour un usage quotidien, discrets en coton organique pour garder votre fraîcheur (32 unités) (Type: <class 'str'>)\n",
      "Title: ECO by Naty Protège-Slips Ecologiques Normal - Protège-lingeries pour un usage quotidien, discrets en coton organique pour garder votre fraîcheur (32 unités) => Category: Tampons\n",
      "Processing title: Nana Dailies Style Protège-Lingerie Voile Si Discret - Protège-Slip Ultra Fin et Respirant pour Tous Types de Lingerie - 32 Protège-Slips en Pochette Individuelle (Type: <class 'str'>)\n",
      "Title: Nana Dailies Style Protège-Lingerie Voile Si Discret - Protège-Slip Ultra Fin et Respirant pour Tous Types de Lingerie - 32 Protège-Slips en Pochette Individuelle => Category: Tampons\n",
      "Processing title: SUPVOX 4pcs sac de serviettes hygiéniques pochette de la coupe menstruelle tampons collecter des sacs de support de coussin de soins infirmiers lavable pour les femmes et les filles (Type: <class 'str'>)\n",
      "Title: SUPVOX 4pcs sac de serviettes hygiéniques pochette de la coupe menstruelle tampons collecter des sacs de support de coussin de soins infirmiers lavable pour les femmes et les filles => Category: Tampons\n",
      "Processing title: Lot de 3 serviettes Hygiéniques lavables - Mini - Feel Natural (Type: <class 'str'>)\n",
      "Title: Lot de 3 serviettes Hygiéniques lavables - Mini - Feel Natural => Category: Tampons\n",
      "Processing title: 4 pcs serviettes hygiéniques lavables, Tissu de Bambou, Respirant, Hygiénique, Pads Menstruel Chiffon Serviette Menstruelle Réutilisables (Type: <class 'str'>)\n",
      "Title: 4 pcs serviettes hygiéniques lavables, Tissu de Bambou, Respirant, Hygiénique, Pads Menstruel Chiffon Serviette Menstruelle Réutilisables => Category: Tampons\n",
      "Processing title: Lansinoh I Recharge Pochettes Hygièniques Serviette Post Accouchement Froid/Chaud (Type: <class 'str'>)\n",
      "Title: Lansinoh I Recharge Pochettes Hygièniques Serviette Post Accouchement Froid/Chaud => Category: Tampons\n",
      "Processing title: Jho - Serviettes hygiéniques en coton 100% bio (Super + Jour et Nuit, 10) (Type: <class 'str'>)\n",
      "Title: Jho - Serviettes hygiéniques en coton 100% bio (Super + Jour et Nuit, 10) => Category: Tampons\n",
      "Processing title: PHOGARY Lot de grandes serviettes hygiéniques réutilisables et lavables en bambou avec ailettes à 4 couches pour flux abondant et pour la nuit 25,4 cm avec sac (Type: <class 'str'>)\n",
      "Title: PHOGARY Lot de grandes serviettes hygiéniques réutilisables et lavables en bambou avec ailettes à 4 couches pour flux abondant et pour la nuit 25,4 cm avec sac => Category: Tampons\n",
      "Processing title: Monoprix Serviettes ultra-minces Normal Plus - Le paquet de 28 (Type: <class 'str'>)\n",
      "Title: Monoprix Serviettes ultra-minces Normal Plus - Le paquet de 28 => Category: Tampons\n",
      "Processing title: Tigex Serviettes Hygiéniques post accouchement, 10 Unités (Lot de 1) (Type: <class 'str'>)\n",
      "Title: Tigex Serviettes Hygiéniques post accouchement, 10 Unités (Lot de 1) => Category: Tampons\n",
      "Processing title: always Discreet Incontinence Ultimate Tag Big Pack 12 (Type: <class 'str'>)\n",
      "Title: always Discreet Incontinence Ultimate Tag Big Pack 12 => Category: Tampons\n",
      "Processing title: Mqupin Serviettes hygiéniques réutilisables - En coton biologique - Pour femme - Lavable - Anti-fuite - Convient pour toutes les femmes (Type: <class 'str'>)\n",
      "Title: Mqupin Serviettes hygiéniques réutilisables - En coton biologique - Pour femme - Lavable - Anti-fuite - Convient pour toutes les femmes => Category: Tampons\n",
      "Processing title: Nana - Protge Slip Plis - 32 Pices (Type: <class 'str'>)\n",
      "Title: Nana - Protge Slip Plis - 32 Pices => Category: Tampons\n",
      "Processing title: Nuvenia - Absorbant long ultra avec ailes - Surface respirante et absorption rapide - Lot de 24 serviettes hygiéniques (Type: <class 'str'>)\n",
      "Title: Nuvenia - Absorbant long ultra avec ailes - Surface respirante et absorption rapide - Lot de 24 serviettes hygiéniques => Category: Tampons\n",
      "Processing title: TENA Serviettes - Le paquet de 16 (Type: <class 'str'>)\n",
      "Title: TENA Serviettes - Le paquet de 16 => Category: Tampons\n",
      "Processing title: Masmi - Serviettes Hygiéniques Anatomiques Ultra-Minces avec ailettes - 100% Coton Bio - Hautement Absorbant - Certifié GOTS - Compostable & Biodégradable à plus de 95% - Jour (Type: <class 'str'>)\n",
      "Title: Masmi - Serviettes Hygiéniques Anatomiques Ultra-Minces avec ailettes - 100% Coton Bio - Hautement Absorbant - Certifié GOTS - Compostable & Biodégradable à plus de 95% - Jour => Category: Tampons\n",
      "Processing title: Lot de 10&nbsp;serviettes hygi&eacute;niques lavables et r&eacute;utilisables en charbon de bambou - 26&nbsp;cm + 1 pochette imperm&eacute;able (Type: <class 'str'>)\n",
      "Title: Lot de 10&nbsp;serviettes hygi&eacute;niques lavables et r&eacute;utilisables en charbon de bambou - 26&nbsp;cm + 1 pochette imperm&eacute;able => Category: Tampons\n",
      "Processing title: Compresses Tocologiques en Coton Indasec Pospart (12 uds) 12 Unités (Parapharmacie) (Type: <class 'str'>)\n",
      "Title: Compresses Tocologiques en Coton Indasec Pospart (12 uds) 12 Unités (Parapharmacie) => Category: Tampons\n",
      "Processing title: Always Discreet, 16 Serviettes Hygiéniques Incontinence Femme, Long plus 5 Gouttes, Protection Absorbante pour Fuites Urinaires Importantes (Lot de 2) (Type: <class 'str'>)\n",
      "Title: Always Discreet, 16 Serviettes Hygiéniques Incontinence Femme, Long plus 5 Gouttes, Protection Absorbante pour Fuites Urinaires Importantes (Lot de 2) => Category: Tampons\n",
      "Processing title: Always Serviettes ultra secure night extra x8 - Le paquet de 8 (Type: <class 'str'>)\n",
      "Title: Always Serviettes ultra secure night extra x8 - Le paquet de 8 => Category: Tampons\n",
      "Processing title: Serviettes hygiéniques réutilisables - tampons menstruels en tissu lavable/protège-slips pour femmes Sac humide lavable(Apple Green) (Type: <class 'str'>)\n",
      "Title: Serviettes hygiéniques réutilisables - tampons menstruels en tissu lavable/protège-slips pour femmes Sac humide lavable(Apple Green) => Category: Tampons\n",
      "Processing title: Saugella Cotton Touch Nuit 12 Serviettes Extra-Fines avec Ailettes (Type: <class 'str'>)\n",
      "Title: Saugella Cotton Touch Nuit 12 Serviettes Extra-Fines avec Ailettes => Category: Tampons\n",
      "Processing title: Masmi - Serviettes Hygiéniques Anatomiques sans ailettes - 100% Coton Bio – Idéales pour la nuit – Flux abondants - Certifié GOTS - Compostable & Biodégradable à plus de 95% (Type: <class 'str'>)\n",
      "Title: Masmi - Serviettes Hygiéniques Anatomiques sans ailettes - 100% Coton Bio – Idéales pour la nuit – Flux abondants - Certifié GOTS - Compostable & Biodégradable à plus de 95% => Category: Tampons\n",
      "Processing title: Always Serviette Hygiénique Protection Coton, Le paquet de 12 serviettes (Type: <class 'str'>)\n",
      "Title: Always Serviette Hygiénique Protection Coton, Le paquet de 12 serviettes => Category: Tampons\n",
      "Processing title: Silvercare Protection Féminine Serviette Ultra Fine Jour 100% Pur Coton Bio Boîte de 10 Unités (Type: <class 'str'>)\n",
      "Title: Silvercare Protection Féminine Serviette Ultra Fine Jour 100% Pur Coton Bio Boîte de 10 Unités => Category: Tampons\n",
      "Processing title: Organyc - Protège-slips pour fuites urinaires (incontinence urinaire légère) en coton certifié, ne contiennent ni parfums ni plastique ni matériaux chimiques - 1 paquet de 24 Serviettes, ultra minces (Type: <class 'str'>)\n",
      "Title: Organyc - Protège-slips pour fuites urinaires (incontinence urinaire légère) en coton certifié, ne contiennent ni parfums ni plastique ni matériaux chimiques - 1 paquet de 24 Serviettes, ultra minces => Category: Tampons\n",
      "Processing title: Masmi - Serviettes Hygiéniques Anatomiques Ultra-Minces avec ailettes - 100% Coton Bio - Hautement Absorbant - Certifié GOTS - Compostable & Biodégradable à plus de 95% - Nuit (Type: <class 'str'>)\n",
      "Title: Masmi - Serviettes Hygiéniques Anatomiques Ultra-Minces avec ailettes - 100% Coton Bio - Hautement Absorbant - Certifié GOTS - Compostable & Biodégradable à plus de 95% - Nuit => Category: Tampons\n",
      "Processing title: Serviette Hygiénique Lavable Réutilisable Serviette à la Main en Coton Organique Anti-allergie Tampon Menstruels de Nuit(#2) (Type: <class 'str'>)\n",
      "Title: Serviette Hygiénique Lavable Réutilisable Serviette à la Main en Coton Organique Anti-allergie Tampon Menstruels de Nuit(#2) => Category: Tampons\n",
      "Processing title: Jho - Serviettes hygiéniques en coton 100% bio (Super Jour, 10) (Type: <class 'str'>)\n",
      "Title: Jho - Serviettes hygiéniques en coton 100% bio (Super Jour, 10) => Category: Tampons\n",
      "Processing title: Lilind® Lot de 10 Serviettes hygiéniques réutilisables en tissu biologique lavable extra fin - zéro gaspillage, 100% coton - Impression aléatoire, à fleurs (Type: <class 'str'>)\n",
      "Title: Lilind® Lot de 10 Serviettes hygiéniques réutilisables en tissu biologique lavable extra fin - zéro gaspillage, 100% coton - Impression aléatoire, à fleurs => Category: Tampons\n",
      "Processing title: Zerodeko Pochette Serviette Hygiénique Fille Organisateur De Serviettes Hygiéniques en pour Et Filles Pochette Menstruelle À Pois Pochette (Violet) Pochette Serviette Hygiénique (Type: <class 'str'>)\n",
      "Title: Zerodeko Pochette Serviette Hygiénique Fille Organisateur De Serviettes Hygiéniques en pour Et Filles Pochette Menstruelle À Pois Pochette (Violet) Pochette Serviette Hygiénique => Category: Tampons\n",
      "Processing title: Kisbeibi Lot de 10 serviettes hygiéniques réutilisables en coton de bambou pour femme - Lavables pendant la nuit (Type: <class 'str'>)\n",
      "Title: Kisbeibi Lot de 10 serviettes hygiéniques réutilisables en coton de bambou pour femme - Lavables pendant la nuit => Category: Tampons\n",
      "Processing title: Nana Dailies Fraîcheur & Protection - Protège-slips ultra absorbant, standard, 34 pièces (Type: <class 'str'>)\n",
      "Title: Nana Dailies Fraîcheur & Protection - Protège-slips ultra absorbant, standard, 34 pièces => Category: Tampons\n",
      "Processing title: cobee Lot de 2 serviettes hygiéniques (Type: <class 'str'>)\n",
      "Title: cobee Lot de 2 serviettes hygiéniques => Category: Tampons\n",
      "Processing title: Carefree Serviettes Hygièniques (Type: <class 'str'>)\n",
      "Title: Carefree Serviettes Hygièniques => Category: Tampons\n",
      "Processing title: ECO by Naty Serviettes Ecologiques pour Incontinence féminine légère Mini - Serviettes hygiéniques pour fuites urinaires, vessie sensible, absorbantes et discrètes (20 unités) (Type: <class 'str'>)\n",
      "Title: ECO by Naty Serviettes Ecologiques pour Incontinence féminine légère Mini - Serviettes hygiéniques pour fuites urinaires, vessie sensible, absorbantes et discrètes (20 unités) => Category: Tampons\n",
      "Processing title: volumoon 2 Pcs Sac de Rangemen pour Serviettes Hygiéniques, Pochette Serviette Hygiénique avec Fermeture éclair, Portable Sac Périodique, Réutilisables Tampon Sacs, pour Filles, Femmes (Type: <class 'str'>)\n",
      "Title: volumoon 2 Pcs Sac de Rangemen pour Serviettes Hygiéniques, Pochette Serviette Hygiénique avec Fermeture éclair, Portable Sac Périodique, Réutilisables Tampon Sacs, pour Filles, Femmes => Category: Tampons\n",
      "Processing title: Lot de 120 sachets hygiéniques pour serviettes hygiéniques - Distributeur de sacs refermables - Hygiène féminine - Serviettes hygiéniques - Sacs d'élimination pour tampons - Serviettes hygiéniques (Type: <class 'str'>)\n",
      "Title: Lot de 120 sachets hygiéniques pour serviettes hygiéniques - Distributeur de sacs refermables - Hygiène féminine - Serviettes hygiéniques - Sacs d'élimination pour tampons - Serviettes hygiéniques => Category: Tampons\n",
      "Processing title: Lines Coton Serviettes Jour avec Ailes x10+2 (Type: <class 'str'>)\n",
      "Title: Lines Coton Serviettes Jour avec Ailes x10+2 => Category: Tampons\n",
      "Processing title: Vania Kotydia Protège-Slips, Protect, Large, Aloe Vera, 36 Protège-Slips (Type: <class 'str'>)\n",
      "Title: Vania Kotydia Protège-Slips, Protect, Large, Aloe Vera, 36 Protège-Slips => Category: Tampons\n",
      "Processing title: Serviettes hygiéniques Composition, Enrichi en verveine 12 pcs. (Type: <class 'str'>)\n",
      "Title: Serviettes hygiéniques Composition, Enrichi en verveine 12 pcs. => Category: Tampons\n",
      "Processing title: Serviettes Ultra fine à ailettes - flux super (Type: <class 'str'>)\n",
      "Title: Serviettes Ultra fine à ailettes - flux super => Category: Tampons\n",
      "Processing title: Natracare Serviette Hygiénique Super x12 (Type: <class 'str'>)\n",
      "Title: Natracare Serviette Hygiénique Super x12 => Category: Tampons\n",
      "Processing title: Lot de 5 serviettes hygiéniques réutilisables en bambou lavables (Type: <class 'str'>)\n",
      "Title: Lot de 5 serviettes hygiéniques réutilisables en bambou lavables => Category: Tampons\n",
      "Processing title: 2 Pièces Pochette Serviette Hygiénique Fille Organisateur Serviette Hygiénique Porte Monnaie Portable Protège Slip Fermeture Glissière 5,18x5,18 Pouces Poche Collecte Tampons Serviettes Hygiéniques (Type: <class 'str'>)\n",
      "Title: 2 Pièces Pochette Serviette Hygiénique Fille Organisateur Serviette Hygiénique Porte Monnaie Portable Protège Slip Fermeture Glissière 5,18x5,18 Pouces Poche Collecte Tampons Serviettes Hygiéniques => Category: Tampons\n",
      "Processing title: Nana PureSensitive Extra Long Protège-Lingerie - Protège-Slip et Absorbant pour Peaux Sensibles - 0 % Allergène*, Parfum, Colorant - 20 (Type: <class 'str'>)\n",
      "Title: Nana PureSensitive Extra Long Protège-Lingerie - Protège-Slip et Absorbant pour Peaux Sensibles - 0 % Allergène*, Parfum, Colorant - 20 => Category: Tampons\n",
      "Processing title: Indasec #1 Dermoseda Serviette pour Incontinence Micro 50 g (Type: <class 'str'>)\n",
      "Title: Indasec #1 Dermoseda Serviette pour Incontinence Micro 50 g => Category: Tampons\n",
      "Processing title: TENA - Lady Serviettes Incontinence Maxi 12 Serviettes - Lot De 3 - Livraison Gratuite (Type: <class 'str'>)\n",
      "Title: TENA - Lady Serviettes Incontinence Maxi 12 Serviettes - Lot De 3 - Livraison Gratuite => Category: Tampons\n",
      "Processing title: Serviette Hygiénique Lavable Reutilisable Flux Abondant avec Impression Non-Glissante; Lot de 6 (L+XL) Serviette Periodique Lavable Bio Coton Protection Hygienique Lavable Nuit pour Période sans Souci (Type: <class 'str'>)\n",
      "Title: Serviette Hygiénique Lavable Reutilisable Flux Abondant avec Impression Non-Glissante; Lot de 6 (L+XL) Serviette Periodique Lavable Bio Coton Protection Hygienique Lavable Nuit pour Période sans Souci => Category: Tampons\n",
      "Processing title: Always Discreet 0%, 48 Serviettes Hygiéniques Incontinence Femme, Normal 3 Gouttes, Protection Absorbante pour Fuites Urinaires Modérées, Pack 1 Mois (Type: <class 'str'>)\n",
      "Title: Always Discreet 0%, 48 Serviettes Hygiéniques Incontinence Femme, Normal 3 Gouttes, Protection Absorbante pour Fuites Urinaires Modérées, Pack 1 Mois => Category: Tampons\n",
      "Processing title: Nuvenia - Absorbant fin normal avec ailes - Surface douce et contrôle des odeurs - Lot de 32 serviettes hygiéniques (Type: <class 'str'>)\n",
      "Title: Nuvenia - Absorbant fin normal avec ailes - Surface douce et contrôle des odeurs - Lot de 32 serviettes hygiéniques => Category: Tampons\n",
      "Processing title: Tena Serviettes hygiéniques Maxi - Le paquet de 12 (Type: <class 'str'>)\n",
      "Title: Tena Serviettes hygiéniques Maxi - Le paquet de 12 => Category: Tampons\n",
      "Processing title: MQUPIN Serviettes hygiéniques réutilisables - En coton biologique - Pour femme - Lavable - Anti-fuite - Convient pour toutes les femmes （agrandir et allonger）9.84in (Type: <class 'str'>)\n",
      "Title: MQUPIN Serviettes hygiéniques réutilisables - En coton biologique - Pour femme - Lavable - Anti-fuite - Convient pour toutes les femmes （agrandir et allonger）9.84in => Category: Tampons\n",
      "Processing title: SERVIETTES HYGIÉNIQUES MAXI FRESH FLUX SUPER 14 SERVIETTES, VANIA, LOT DE 4 (Type: <class 'str'>)\n",
      "Title: SERVIETTES HYGIÉNIQUES MAXI FRESH FLUX SUPER 14 SERVIETTES, VANIA, LOT DE 4 => Category: Tampons\n",
      "Processing title: Vania Maxi Confort Super+ 14 Serviettes (Type: <class 'str'>)\n",
      "Title: Vania Maxi Confort Super+ 14 Serviettes => Category: Tampons\n",
      "Processing title: VANIA - Serviettes Hygiéniques Maxi Fresh Flux Super 14 Serviettes - Lot De 4 - Offre Special (Type: <class 'str'>)\n",
      "Title: VANIA - Serviettes Hygiéniques Maxi Fresh Flux Super 14 Serviettes - Lot De 4 - Offre Special => Category: Tampons\n",
      "Processing title: ACMEDE Lot de 5 serviettes hygiéniques lavables pour la nuit de 30 cm de long Pads Menstruel Chiffon Serviette Menstruelle Réutilisables au Charbon de Bambou Menstruel Coussinets (Type: <class 'str'>)\n",
      "Title: ACMEDE Lot de 5 serviettes hygiéniques lavables pour la nuit de 30 cm de long Pads Menstruel Chiffon Serviette Menstruelle Réutilisables au Charbon de Bambou Menstruel Coussinets => Category: Tampons\n",
      "Processing title: Serviette hygiénique réutilisable, utilisation confortable 5pcs serviettes menstruelles lavables en pur coton respirant pour la période menstruelle pour les femmes (Type: <class 'str'>)\n",
      "Title: Serviette hygiénique réutilisable, utilisation confortable 5pcs serviettes menstruelles lavables en pur coton respirant pour la période menstruelle pour les femmes => Category: Tampons\n",
      "Processing title: Always Ultra Secure Night Extra Lot de 16 serviettes hygiéniques avec ailes Taille 5 (Type: <class 'str'>)\n",
      "Title: Always Ultra Secure Night Extra Lot de 16 serviettes hygiéniques avec ailes Taille 5 => Category: Tampons\n",
      "Processing title: Always Serviettes ultra secure night x9 - Le paquet de 9 (Type: <class 'str'>)\n",
      "Title: Always Serviettes ultra secure night x9 - Le paquet de 9 => Category: Tampons\n",
      "Processing title: Jho - Serviettes hygiéniques en coton 100% bio (Super Nuit, 8) (Type: <class 'str'>)\n",
      "Title: Jho - Serviettes hygiéniques en coton 100% bio (Super Nuit, 8) => Category: Tampons\n",
      "Processing title: \"LAURIER\" SUPERABSORBENT GUARD, 4*, NORMAL NIGHTTIME 30 CM, WITH WINGS … (Type: <class 'str'>)\n",
      "Title: \"LAURIER\" SUPERABSORBENT GUARD, 4*, NORMAL NIGHTTIME 30 CM, WITH WINGS … => Category: Tampons\n",
      "Processing title: Lot de 28 Serviettes Hygiéniques Normales Bodyform Noires (Type: <class 'str'>)\n",
      "Title: Lot de 28 Serviettes Hygiéniques Normales Bodyform Noires => Category: Tampons\n",
      "Processing title: Always Ultra Secure Night Lot de 3 paquets de 54 serviettes hygiéniques avec ailettes Taille 4 (Type: <class 'str'>)\n",
      "Title: Always Ultra Secure Night Lot de 3 paquets de 54 serviettes hygiéniques avec ailettes Taille 4 => Category: Tampons\n",
      "Processing title: TENA Lights Sensitive Ultra - Mini - Serviettes d'incontinence sans parfum - Pour les fuites urinaires légères et les peaux sensibles - 120 pièces, 6 x 20 (Type: <class 'str'>)\n",
      "Title: TENA Lights Sensitive Ultra - Mini - Serviettes d'incontinence sans parfum - Pour les fuites urinaires légères et les peaux sensibles - 120 pièces, 6 x 20 => Category: Tampons\n",
      "Processing title: Serviettes 100% coton Bio Normal x10 Unyque (Type: <class 'str'>)\n",
      "Title: Serviettes 100% coton Bio Normal x10 Unyque => Category: Tampons\n",
      "Processing title: 2 Pcs Sac de Protection Menstruelle Pochette Serviette Hygiénique avec Fermeture éclair Imperméable Sacs Serviettes Hygiéniques pour Filles Dames (Type: <class 'str'>)\n",
      "Title: 2 Pcs Sac de Protection Menstruelle Pochette Serviette Hygiénique avec Fermeture éclair Imperméable Sacs Serviettes Hygiéniques pour Filles Dames => Category: Tampons\n",
      "Processing title: Serviettes Hygiéniques Lavables pour Incontinence, 5pcs Serviette Hygienique Lavable Réutilisables Doux pour la Peau Anti-fuites Pour les Menstruations (18 x 25 cm) (Type: <class 'str'>)\n",
      "Title: Serviettes Hygiéniques Lavables pour Incontinence, 5pcs Serviette Hygienique Lavable Réutilisables Doux pour la Peau Anti-fuites Pour les Menstruations (18 x 25 cm) => Category: Tampons\n",
      "Processing title: Nuvenia - Absorbant Pure Sensitive Ultra Nuit avec Ailes - Surface délicate pour peaux sensibles - Lot de 8 serviettes hygiéniques (Type: <class 'str'>)\n",
      "Title: Nuvenia - Absorbant Pure Sensitive Ultra Nuit avec Ailes - Surface délicate pour peaux sensibles - Lot de 8 serviettes hygiéniques => Category: Tampons\n",
      "Processing title: Jho - Serviettes hygiéniques en coton 100% bio (Serviette-normal-jour-jho, 10) (Type: <class 'str'>)\n",
      "Title: Jho - Serviettes hygiéniques en coton 100% bio (Serviette-normal-jour-jho, 10) => Category: Tampons\n",
      "Processing title: Serviettes hygiéniques MYLILY® | 100% coton certifié biologique | 0% produits chimiques | protection supplémentaire la nuit | ultra-mince | avec ailes | 12 serviettes hygiéniques (Type: <class 'str'>)\n",
      "Title: Serviettes hygiéniques MYLILY® | 100% coton certifié biologique | 0% produits chimiques | protection supplémentaire la nuit | ultra-mince | avec ailes | 12 serviettes hygiéniques => Category: Tampons\n",
      "Processing title: MUMBABY Lot de 5 protège-slips réutilisables en charbon de bambou - 20,5 cm - Motif renard, taille S (Type: <class 'str'>)\n",
      "Title: MUMBABY Lot de 5 protège-slips réutilisables en charbon de bambou - 20,5 cm - Motif renard, taille S => Category: Tampons\n",
      "Processing title: Vania Maxi Confort Serviettes Hygiéniques Super x16 (lot de 4) (Type: <class 'str'>)\n",
      "Title: Vania Maxi Confort Serviettes Hygiéniques Super x16 (lot de 4) => Category: Tampons\n",
      "Processing title: Vania Kotydia Protège-Slips, Confort, Normal, Parfum Fresh, 28 Unités (Type: <class 'str'>)\n",
      "Title: Vania Kotydia Protège-Slips, Confort, Normal, Parfum Fresh, 28 Unités => Category: Tampons\n",
      "Processing title: Love & Green Protège-slips Flexi x 28 (Type: <class 'str'>)\n",
      "Title: Love & Green Protège-slips Flexi x 28 => Category: Tampons\n",
      "Processing title: Always Daily Protect Protège-Slips Extra Long 24 Unités, Technologie Odour Block, Confortable Avec Cœur Absorbant (Type: <class 'str'>)\n",
      "Title: Always Daily Protect Protège-Slips Extra Long 24 Unités, Technologie Odour Block, Confortable Avec Cœur Absorbant => Category: Tampons\n",
      "Processing title: Nana Dailies Style Protège-Lingerie String - Protège-Slip Fin et Flexible - 30 Protège-Slips - Lot de 2 (Type: <class 'str'>)\n",
      "Title: Nana Dailies Style Protège-Lingerie String - Protège-Slip Fin et Flexible - 30 Protège-Slips - Lot de 2 => Category: Tampons\n",
      "Processing title: Always Daily Fresh Protège-Slips Normal 10x30 Unités, Avec un parfum frais, Pour ne sentir rien d’autre que fraîcheur et protection (Type: <class 'str'>)\n",
      "Title: Always Daily Fresh Protège-Slips Normal 10x30 Unités, Avec un parfum frais, Pour ne sentir rien d’autre que fraîcheur et protection => Category: Tampons\n",
      "Processing title: Nana Dailies extra protection Protège-Lingerie - 30 % plus Absorbant* pour Tous Types de Pertes - Sensation de Fraîcheur - 22 Protège-Slips Longs (Type: <class 'str'>)\n",
      "Title: Nana Dailies extra protection Protège-Lingerie - 30 % plus Absorbant* pour Tous Types de Pertes - Sensation de Fraîcheur - 22 Protège-Slips Longs => Category: Tampons\n",
      "Processing title: Always Daily Protect, Extra Long, 192 Protège-Slips pour Femme, Retient les odeurs, Confortable avec cœur Absorbant, Format Eco (Type: <class 'str'>)\n",
      "Title: Always Daily Protect, Extra Long, 192 Protège-Slips pour Femme, Retient les odeurs, Confortable avec cœur Absorbant, Format Eco => Category: Tampons\n",
      "Processing title: Always Daily Protect, Long, 192 Protège-Slips pour Femme, Avec un Parfum frais, Confortable avec cœur Absorbant, Format Eco (Type: <class 'str'>)\n",
      "Title: Always Daily Protect, Long, 192 Protège-Slips pour Femme, Avec un Parfum frais, Confortable avec cœur Absorbant, Format Eco => Category: Tampons\n",
      "Processing title: Organyc, Protège-slips Pocket en pochette individuelle 100% coton bio certifié - 4 boîtes de 24 (Total 96 unités) (Type: <class 'str'>)\n",
      "Title: Organyc, Protège-slips Pocket en pochette individuelle 100% coton bio certifié - 4 boîtes de 24 (Total 96 unités) => Category: Tampons\n",
      "Processing title: Always Daily Extra Protect Expert, Normal, 240 Protège-slips, Retient les odeurs au Quotidien, Convient aussi pour les premiers signes de Fuites Urinaires, Format Eco (Type: <class 'str'>)\n",
      "Title: Always Daily Extra Protect Expert, Normal, 240 Protège-slips, Retient les odeurs au Quotidien, Convient aussi pour les premiers signes de Fuites Urinaires, Format Eco => Category: Tampons\n",
      "Processing title: Vania Protège-Slips Confort Multiformes Non Parfumé (Type: <class 'str'>)\n",
      "Title: Vania Protège-Slips Confort Multiformes Non Parfumé => Category: Tampons\n",
      "Processing title: Always Daily, Normal To Go, 320 Protège-Slips en Pochettes Individuelles, Sans Parfum et Sans Colorant, Pour ne sentir rien d’autre que fraîcheur et protection, Format Eco (Type: <class 'str'>)\n",
      "Title: Always Daily, Normal To Go, 320 Protège-Slips en Pochettes Individuelles, Sans Parfum et Sans Colorant, Pour ne sentir rien d’autre que fraîcheur et protection, Format Eco => Category: Tampons\n",
      "Processing title: Vania | Protège-slips Confort Voile 100% Coton Bio Normal (boîte de 30) – Protège-lingeries sans parfum et sans colorant – Protection hygiénique respirante pour une sensation naturelle (Type: <class 'str'>)\n",
      "Title: Vania | Protège-slips Confort Voile 100% Coton Bio Normal (boîte de 30) – Protège-lingeries sans parfum et sans colorant – Protection hygiénique respirante pour une sensation naturelle => Category: Tampons\n",
      "Processing title: Love & Green Protège-slipsFuites urinaires/ Incontinence légèrex 28 (Type: <class 'str'>)\n",
      "Title: Love & Green Protège-slipsFuites urinaires/ Incontinence légèrex 28 => Category: Tampons\n",
      "Processing title: Always - Dailies Protège-Slips, Normal - 56 Pièces (Type: <class 'str'>)\n",
      "Title: Always - Dailies Protège-Slips, Normal - 56 Pièces => Category: Tampons\n",
      "Processing title: Vania voile 100% Coton bio Protection Long x24 (Type: <class 'str'>)\n",
      "Title: Vania voile 100% Coton bio Protection Long x24 => Category: Tampons\n",
      "Processing title: Proteges-slips Quotidiens Lavables X10 Eco Belle Les Tendances D'Emma (Type: <class 'str'>)\n",
      "Title: Proteges-slips Quotidiens Lavables X10 Eco Belle Les Tendances D'Emma => Category: Tampons\n",
      "Processing title: Protege Slip Lavable Bio Coton; Lot de 7 (S) Reutilisable FABRIQUÉE EN UE; Serviette Hygiénique sans PUL; pour pertes blanches NE CONVIENT PAS pour les Règles (Type: <class 'str'>)\n",
      "Title: Protege Slip Lavable Bio Coton; Lot de 7 (S) Reutilisable FABRIQUÉE EN UE; Serviette Hygiénique sans PUL; pour pertes blanches NE CONVIENT PAS pour les Règles => Category: Tampons\n",
      "Processing title: Always Daily Protect Protège-Slips Long 24 Unités, Avec un parfum frais, Confortable Avec Cœur Absorbant (Type: <class 'str'>)\n",
      "Title: Always Daily Protect Protège-Slips Long 24 Unités, Avec un parfum frais, Confortable Avec Cœur Absorbant => Category: Tampons\n",
      "Processing title: VANIA - Kotydia 56 Protège-Slips Confort Normal Fresh - le Lot De 4 (Type: <class 'str'>)\n",
      "Title: VANIA - Kotydia 56 Protège-Slips Confort Normal Fresh - le Lot De 4 => Category: Tampons\n",
      "Processing title: Serviette Hygiénique Lavable Bio Coton; Lot de 6 (S+M) Petite Serviette Hygiénique Lavable Nuit FABRIQUÉE EN UE; Protection Hygienique Lavable pour Règles; Serviette Periodique Lavable Reutilisable (Type: <class 'str'>)\n",
      "Title: Serviette Hygiénique Lavable Bio Coton; Lot de 6 (S+M) Petite Serviette Hygiénique Lavable Nuit FABRIQUÉE EN UE; Protection Hygienique Lavable pour Règles; Serviette Periodique Lavable Reutilisable => Category: Tampons\n",
      "Processing title: Lot de lingettes menstruelles réutilisables et imperméables en charbon de bambou - Débit régulier - Débit lourd (protège-slips) (Type: <class 'str'>)\n",
      "Title: Lot de lingettes menstruelles réutilisables et imperméables en charbon de bambou - Débit régulier - Débit lourd (protège-slips) => Category: Tampons\n",
      "Processing title: Always Dailies Protect Protège-Slips Long, 0% de parfum, Confortable Avec Cœur Absorbant - 8x26 (208 Unités) (Type: <class 'str'>)\n",
      "Title: Always Dailies Protect Protège-Slips Long, 0% de parfum, Confortable Avec Cœur Absorbant - 8x26 (208 Unités) => Category: Tampons\n",
      "Processing title: Always Dailies Lot de 74 protège-slips (Type: <class 'str'>)\n",
      "Title: Always Dailies Lot de 74 protège-slips => Category: Tampons\n",
      "Processing title: Always Dailies Singles Normal to Go Fresh Boîte de 20 protège-slips parfumés - Lot de 6 (Type: <class 'str'>)\n",
      "Title: Always Dailies Singles Normal to Go Fresh Boîte de 20 protège-slips parfumés - Lot de 6 => Category: Tampons\n",
      "Processing title: VANIA - Kotydia 40 Protège-Slips Protect Long Fresh - Lot De 4 - Vendu Par Lot (Type: <class 'str'>)\n",
      "Title: VANIA - Kotydia 40 Protège-Slips Protect Long Fresh - Lot De 4 - Vendu Par Lot => Category: Tampons\n",
      "Processing title: Protege Slip Lavable Coton Bio avec Impression Non-Glissante; Lot de 7 M Protège Slip Reutilisable pour Pertes Blanches; Protege Slip Coton Lavable; Protege Slip Bio Lavable pour Quotidien sans Souci (Type: <class 'str'>)\n",
      "Title: Protege Slip Lavable Coton Bio avec Impression Non-Glissante; Lot de 7 M Protège Slip Reutilisable pour Pertes Blanches; Protege Slip Coton Lavable; Protege Slip Bio Lavable pour Quotidien sans Souci => Category: Tampons\n",
      "Processing title: TENA Men Protections Absorbantes Niveau 2 Incontinence Homme - Pour Fuites Urinaires Modérées, Sans parfum, Blanc, 60 Protections (Pack 1 mois) (Type: <class 'str'>)\n",
      "Title: TENA Men Protections Absorbantes Niveau 2 Incontinence Homme - Pour Fuites Urinaires Modérées, Sans parfum, Blanc, 60 Protections (Pack 1 mois) => Category: Tampons\n",
      "Processing title: Nana Protège-Lingeries Fraîcheur Quotidienne Voile Si Discret Jumbo Pack x64 (lot de 4) (Type: <class 'str'>)\n",
      "Title: Nana Protège-Lingeries Fraîcheur Quotidienne Voile Si Discret Jumbo Pack x64 (lot de 4) => Category: Tampons\n",
      "Processing title: Nana - Protège-Lingerie Extra Long Fraîcheur Quotidienne - 24 Protèges - Lot De 4 - Vendu Par Lot - Livraison Gratuite En France (Type: <class 'str'>)\n",
      "Title: Nana - Protège-Lingerie Extra Long Fraîcheur Quotidienne - 24 Protèges - Lot De 4 - Vendu Par Lot - Livraison Gratuite En France => Category: Tampons\n",
      "Processing title: NANA - Protege Lingerie Extra Long 24 Protèges - Lot De 4 - Livraison Gratuite (Type: <class 'str'>)\n",
      "Title: NANA - Protege Lingerie Extra Long 24 Protèges - Lot De 4 - Livraison Gratuite => Category: Tampons\n",
      "Processing title: Saugella Saugella Cotton Touch Lot de 160 protège-slips extérieurs à action anti-odeurs autocollants en coton hypoallergénique 80 g (Type: <class 'str'>)\n",
      "Title: Saugella Saugella Cotton Touch Lot de 160 protège-slips extérieurs à action anti-odeurs autocollants en coton hypoallergénique 80 g => Category: Tampons\n",
      "Processing title: Always Daily Fresh Protège-Slips Normal 30 Unités, 0% de parfum, Pour ne sentir rien d’autre que fraîcheur et protection (Type: <class 'str'>)\n",
      "Title: Always Daily Fresh Protège-Slips Normal 30 Unités, 0% de parfum, Pour ne sentir rien d’autre que fraîcheur et protection => Category: Tampons\n",
      "Processing title: 4x Bodyform Noir Protège-Slip Normale 28 Par Paquet (Type: <class 'str'>)\n",
      "Title: 4x Bodyform Noir Protège-Slip Normale 28 Par Paquet => Category: Tampons\n",
      "Processing title: Vania Kotydia Protege-slips Confort + Normal Aloe Vera x 28 - Lot de 4 (Type: <class 'str'>)\n",
      "Title: Vania Kotydia Protege-slips Confort + Normal Aloe Vera x 28 - Lot de 4 => Category: Tampons\n",
      "Processing title: Jessa Protège-slips Normal Noir + Flexibles 1 x 28 (Type: <class 'str'>)\n",
      "Title: Jessa Protège-slips Normal Noir + Flexibles 1 x 28 => Category: Tampons\n",
      "Processing title: Vuokkoset Lot de 120 protège-slips bio ultra légers biodégradables de 15,5 cm pour peaux sensibles | Coton bio | Sans colorants, parfums et chlore | Cœur absorbant respectueux de l'environnement (Type: <class 'str'>)\n",
      "Title: Vuokkoset Lot de 120 protège-slips bio ultra légers biodégradables de 15,5 cm pour peaux sensibles | Coton bio | Sans colorants, parfums et chlore | Cœur absorbant respectueux de l'environnement => Category: Tampons\n",
      "Processing title: Protège-slips bio Vuokkoset bio et organiques, protège-slips de taille normale, biodégradables et en coton organique - 3x26 pièces (Type: <class 'str'>)\n",
      "Title: Protège-slips bio Vuokkoset bio et organiques, protège-slips de taille normale, biodégradables et en coton organique - 3x26 pièces => Category: Tampons\n",
      "Processing title: Vania Kotydia Flexi+ Flexiform Lot de 56 protège-slips (Type: <class 'str'>)\n",
      "Title: Vania Kotydia Flexi+ Flexiform Lot de 56 protège-slips => Category: Tampons\n",
      "Processing title: Naturalena Brands UK Limited, Veeda Lot de 120 doublures quotidiennes ultra fines en coton naturel respirant (Type: <class 'str'>)\n",
      "Title: Naturalena Brands UK Limited, Veeda Lot de 120 doublures quotidiennes ultra fines en coton naturel respirant => Category: Tampons\n",
      "Processing title: PEESAFE Protège slips femme infusé à l'aloe vera extra long (185mm) | Protege slip bio | Serviette hygiénique coton | très confortable - Vous gardez au sec et au frais toute la journée- lot de 50 (Type: <class 'str'>)\n",
      "Title: PEESAFE Protège slips femme infusé à l'aloe vera extra long (185mm) | Protege slip bio | Serviette hygiénique coton | très confortable - Vous gardez au sec et au frais toute la journée- lot de 50 => Category: Tampons\n",
      "Processing title: Vania Protège-Slips Finesse Normal Fresh 40 Pièces (Type: <class 'str'>)\n",
      "Title: Vania Protège-Slips Finesse Normal Fresh 40 Pièces => Category: Tampons\n",
      "Processing title: MQUPIN Réutilisable (Type: <class 'str'>)\n",
      "Title: MQUPIN Réutilisable => Category: Tampons\n",
      "Processing title: Enna Protect. Protège-slip x 5 unités. Écologique, Réutilisable, Lavable. En cotton bio et bambou. Avec la technologie antimicrobienne SaniDX. Aucune allergie, irritation ou infections (Type: <class 'str'>)\n",
      "Title: Enna Protect. Protège-slip x 5 unités. Écologique, Réutilisable, Lavable. En cotton bio et bambou. Avec la technologie antimicrobienne SaniDX. Aucune allergie, irritation ou infections => Category: Tampons\n",
      "Processing title: Lilind® 7x Thong Protège-slips Serviettes Hygiéniques Décontractées Ultra-fins Réutilisables et Lavables 100% coton Fleurs Rouges (Type: <class 'str'>)\n",
      "Title: Lilind® 7x Thong Protège-slips Serviettes Hygiéniques Décontractées Ultra-fins Réutilisables et Lavables 100% coton Fleurs Rouges => Category: Tampons\n",
      "Processing title: Protège-slips hygiéniques en tissu menstruel lavable pour les peaux sensibles pour économiser de l'argent pour éliminer les odeurs pour les femmes(H1-H5) (Type: <class 'str'>)\n",
      "Title: Protège-slips hygiéniques en tissu menstruel lavable pour les peaux sensibles pour économiser de l'argent pour éliminer les odeurs pour les femmes(H1-H5) => Category: Tampons\n",
      "Processing title: Always - Discreet Protège-Slips Fuites Urinaires, Normal 28 Pièces (Type: <class 'str'>)\n",
      "Title: Always - Discreet Protège-Slips Fuites Urinaires, Normal 28 Pièces => Category: Tampons\n",
      "Processing title: Lilind® Lot de 6 serviettes hygiéniques en tissu organique, 20 cm, sac étanche à fermeture éclair, réutilisable et imperméable, 100 % coton, pivoines roses (Type: <class 'str'>)\n",
      "Title: Lilind® Lot de 6 serviettes hygiéniques en tissu organique, 20 cm, sac étanche à fermeture éclair, réutilisable et imperméable, 100 % coton, pivoines roses => Category: Tampons\n",
      "Processing title: Nana Protège-Lingeries Fraîcheur Quotidienne Voile Si Discret x32 (lot de 4) (Type: <class 'str'>)\n",
      "Title: Nana Protège-Lingeries Fraîcheur Quotidienne Voile Si Discret x32 (lot de 4) => Category: Tampons\n",
      "Processing title: INNERSY Culotte Menstruelle Femme Coton Slip Regles Anti Fuite Sous-vêtement Lavable Lot de 3 (Type: <class 'str'>)\n",
      "Title: INNERSY Culotte Menstruelle Femme Coton Slip Regles Anti Fuite Sous-vêtement Lavable Lot de 3 => Category: Tampons\n",
      "Processing title: CAREFREE Plus Long Lot de 5 packs de 40 protège-slips parfumés super absorbants pour contenir instantanément les liquides Taille Plus Long (Type: <class 'str'>)\n",
      "Title: CAREFREE Plus Long Lot de 5 packs de 40 protège-slips parfumés super absorbants pour contenir instantanément les liquides Taille Plus Long => Category: Tampons\n",
      "Processing title: Carefree Acti-Fresh Ultra-Thin Panty Liners, Regular, Unscented - 120 Count by Carefree (Type: <class 'str'>)\n",
      "Title: Carefree Acti-Fresh Ultra-Thin Panty Liners, Regular, Unscented - 120 Count by Carefree => Category: Tampons\n",
      "Processing title: INTIMY CARE - 3 PROTEGE-LINGERIES LAVABLES ET REUTILISABLES - protège-lingeries lavables et réutilisables (Type: <class 'str'>)\n",
      "Title: INTIMY CARE - 3 PROTEGE-LINGERIES LAVABLES ET REUTILISABLES - protège-lingeries lavables et réutilisables => Category: Tampons\n",
      "Processing title: Lilind® Lot de 7 strings en tissu bio réutilisable extra fin et lavable, zéro déchet, 100 % coton, 7X T fleurs aléatoires (Type: <class 'str'>)\n",
      "Title: Lilind® Lot de 7 strings en tissu bio réutilisable extra fin et lavable, zéro déchet, 100 % coton, 7X T fleurs aléatoires => Category: Tampons\n",
      "Processing title: Carefree Plus Long Protège-slips avec noyau amélioré ultime, sans parfum, absorption quatre, taille L, extra long, lot de 40 (Type: <class 'str'>)\n",
      "Title: Carefree Plus Long Protège-slips avec noyau amélioré ultime, sans parfum, absorption quatre, taille L, extra long, lot de 40 => Category: Tampons\n",
      "Processing title: Lot de 5 protège-slips réutilisables et lavables pour femme - Débit faible - 18 cm (Type: <class 'str'>)\n",
      "Title: Lot de 5 protège-slips réutilisables et lavables pour femme - Débit faible - 18 cm => Category: Tampons\n",
      "Processing title: Blümchen Bio Lot de 3 protège-slips étanches Taille M 26 x 5 cm (Type: <class 'str'>)\n",
      "Title: Blümchen Bio Lot de 3 protège-slips étanches Taille M 26 x 5 cm => Category: Tampons\n",
      "Processing title: Vania Pocket Protège-Slips, 30 unités (Type: <class 'str'>)\n",
      "Title: Vania Pocket Protège-Slips, 30 unités => Category: Tampons\n",
      "Processing title: Vania Kotydia Protège-Slips, Confort Multiformes, Normal, Sans Parfum, 56 Unités (Type: <class 'str'>)\n",
      "Title: Vania Kotydia Protège-Slips, Confort Multiformes, Normal, Sans Parfum, 56 Unités => Category: Tampons\n",
      "Processing title: ZCOINS Lot de 4 protège-slips réutilisables pour femme serviette hygiénique lavable Petit format 18 cm (Type: <class 'str'>)\n",
      "Title: ZCOINS Lot de 4 protège-slips réutilisables pour femme serviette hygiénique lavable Petit format 18 cm => Category: Tampons\n",
      "Processing title: MoliCare Premium Men Pad Lot de 14 protège-slips pour incontinence pour homme souffrant de faiblesse de la vessie Coupe en V 5 gouttes (Type: <class 'str'>)\n",
      "Title: MoliCare Premium Men Pad Lot de 14 protège-slips pour incontinence pour homme souffrant de faiblesse de la vessie Coupe en V 5 gouttes => Category: Tampons\n",
      "Processing title: TENA Silhouette Noir Normal Lot de 10 x 26 protège-slips (Type: <class 'str'>)\n",
      "Title: TENA Silhouette Noir Normal Lot de 10 x 26 protège-slips => Category: Tampons\n",
      "Processing title: Tena Lady Compr Ultra Mini 28 unités (Type: <class 'str'>)\n",
      "Title: Tena Lady Compr Ultra Mini 28 unités => Category: Tampons\n",
      "Processing title: Rael protège-slip normal en coton bio, sans parfum, ni chlore, ni colorant ajoutés (44 pièces) (Type: <class 'str'>)\n",
      "Title: Rael protège-slip normal en coton bio, sans parfum, ni chlore, ni colorant ajoutés (44 pièces) => Category: Tampons\n",
      "Processing title: Love & Green Protège-slips Large x 28 (Lot de 2) (Type: <class 'str'>)\n",
      "Title: Love & Green Protège-slips Large x 28 (Lot de 2) => Category: Tampons\n",
      "Processing title: Vania Kotydia Protège-Slips, Finesse, Normal, Parfum Fresh, 40 Protège-Slips (Type: <class 'str'>)\n",
      "Title: Vania Kotydia Protège-Slips, Finesse, Normal, Parfum Fresh, 40 Protège-Slips => Category: Tampons\n",
      "Processing title: Monoprix Protège-lingerie large - La boîte de 28 (Type: <class 'str'>)\n",
      "Title: Monoprix Protège-lingerie large - La boîte de 28 => Category: Tampons\n",
      "Processing title: Nana PureSensitive Régulier Protège-Lingerie - Protège-Slip Long et Absorbant pour Peaux Sensibles - 0 % Allergène*, Parfum, Colorant - 30 Protège-Slips - lot de 4 (120 Protège-Slip) (Type: <class 'str'>)\n",
      "Title: Nana PureSensitive Régulier Protège-Lingerie - Protège-Slip Long et Absorbant pour Peaux Sensibles - 0 % Allergène*, Parfum, Colorant - 30 Protège-Slips - lot de 4 (120 Protège-Slip) => Category: Tampons\n",
      "Processing title: Tena Silhouette Noir Normal Lot de 8 packs de 26 (Type: <class 'str'>)\n",
      "Title: Tena Silhouette Noir Normal Lot de 8 packs de 26 => Category: Tampons\n",
      "Processing title: Protège-Slip flux léger 100% Bio - 24 u vrac - Organyc (Type: <class 'str'>)\n",
      "Title: Protège-Slip flux léger 100% Bio - 24 u vrac - Organyc => Category: Tampons\n",
      "Processing title: Always - Dailies Protège-Slips, Normal - 30 Pièces (Type: <class 'str'>)\n",
      "Title: Always - Dailies Protège-Slips, Normal - 30 Pièces => Category: Tampons\n",
      "Processing title: Saforelle 30 Protège-Slips Flexibles & Extra-Fins (Type: <class 'str'>)\n",
      "Title: Saforelle 30 Protège-Slips Flexibles & Extra-Fins => Category: Tampons\n",
      "Processing title: Monoprix Protège-lingerie multi-forme - La boîte de 30 (Type: <class 'str'>)\n",
      "Title: Monoprix Protège-lingerie multi-forme - La boîte de 30 => Category: Tampons\n",
      "Processing title: Serviette hygiéniques lavables avec pochette discrète | Mix Set | Kit zero dechet et écologique réutilisable | Protege slip lavable pour femmes | Period panties avec ailettes | Bambaw (Type: <class 'str'>)\n",
      "Title: Serviette hygiéniques lavables avec pochette discrète | Mix Set | Kit zero dechet et écologique réutilisable | Protege slip lavable pour femmes | Period panties avec ailettes | Bambaw => Category: Tampons\n",
      "Processing title: Rael protège-slip long en coton bio, sans parfum, ni chlore, ni colorant ajoutés (36 pièces) (Type: <class 'str'>)\n",
      "Title: Rael protège-slip long en coton bio, sans parfum, ni chlore, ni colorant ajoutés (36 pièces) => Category: Tampons\n",
      "Processing title: Always - Dailies Protège-Slips, Long Plus - 40 Pièces (Type: <class 'str'>)\n",
      "Title: Always - Dailies Protège-Slips, Long Plus - 40 Pièces => Category: Tampons\n",
      "Processing title: ALWAYS - Dailies Protèges-Slips Long 24 Protèges - Lot De 4 - Offre Special (Type: <class 'str'>)\n",
      "Title: ALWAYS - Dailies Protèges-Slips Long 24 Protèges - Lot De 4 - Offre Special => Category: Tampons\n",
      "Processing title: ALWAYS Dailies Extra Protect, 28 Protège-Slips Coton Bio Normal, pour une fraîcheur et une protection inégalées - Hygiène Intime et Incontinence. - Le Lot De 3 (Type: <class 'str'>)\n",
      "Title: ALWAYS Dailies Extra Protect, 28 Protège-Slips Coton Bio Normal, pour une fraîcheur et une protection inégalées - Hygiène Intime et Incontinence. - Le Lot De 3 => Category: Tampons\n",
      "Processing title: VANIA - Kotydia 56 Protège-Slips Confort Normal Fresh - Lot De 4 - Vendu Par Lot (Type: <class 'str'>)\n",
      "Title: VANIA - Kotydia 56 Protège-Slips Confort Normal Fresh - Lot De 4 - Vendu Par Lot => Category: Tampons\n",
      "Processing title: Love & Green Protège-slips Flexi x 28 (Lot de 2) (Type: <class 'str'>)\n",
      "Title: Love & Green Protège-slips Flexi x 28 (Lot de 2) => Category: Tampons\n",
      "Processing title: Monoprix Protège-lingerie plat enrichi à l'aloe vera - La boîte de 60 (Type: <class 'str'>)\n",
      "Title: Monoprix Protège-lingerie plat enrichi à l'aloe vera - La boîte de 60 => Category: Tampons\n",
      "Processing title: Carefree les Protège Slips de Flexiform Soucis Réguliers 30 Pièces (Type: <class 'str'>)\n",
      "Title: Carefree les Protège Slips de Flexiform Soucis Réguliers 30 Pièces => Category: Tampons\n",
      "Processing title: Bamboolik Protège-slips lavables | Satin et coton biologique, tissu fin | réutilisable | Fabriqué en UE | Protège-slips en tissu avec bouton pression Lot de 4 boîtes cadeau – Rouge, jaune, bleu foncé, (Type: <class 'str'>)\n",
      "Title: Bamboolik Protège-slips lavables | Satin et coton biologique, tissu fin | réutilisable | Fabriqué en UE | Protège-slips en tissu avec bouton pression Lot de 4 boîtes cadeau – Rouge, jaune, bleu foncé, => Category: Tampons\n",
      "Processing title: Tena Confioair Comfort Maxi Protège Slip Pack de 28 (Type: <class 'str'>)\n",
      "Title: Tena Confioair Comfort Maxi Protège Slip Pack de 28 => Category: Tampons\n",
      "Processing title: TRADERPLUS 6pcs Coussinets de talon pour hommes et femmes, Protège l'arrière du talon, Heel Pads Snugs for Shoe Too Big Men Women, Stop Heel Slip and Blister (Type: <class 'str'>)\n",
      "Title: TRADERPLUS 6pcs Coussinets de talon pour hommes et femmes, Protège l'arrière du talon, Heel Pads Snugs for Shoe Too Big Men Women, Stop Heel Slip and Blister => Category: Tampons\n",
      "Processing title: ALWAYS - Dailies Extra Protect 28 Protège-Slips Coton Bio Normal - le Lot De 3 (Type: <class 'str'>)\n",
      "Title: ALWAYS - Dailies Extra Protect 28 Protège-Slips Coton Bio Normal - le Lot De 3 => Category: Tampons\n",
      "Processing title: ALWAYS - Dailies Extra Protect 28 Protège-Slips Coton Bio Normal - Lot De 3 - Vendu Par Lot (Type: <class 'str'>)\n",
      "Title: ALWAYS - Dailies Extra Protect 28 Protège-Slips Coton Bio Normal - Lot De 3 - Vendu Par Lot => Category: Tampons\n",
      "Processing title: Protège-Slip Plat Extra Fin x24 Unyque (Type: <class 'str'>)\n",
      "Title: Protège-Slip Plat Extra Fin x24 Unyque => Category: Tampons\n",
      "Processing title: VANIA - Kotydia Protège Slip Confort Normal Aloe Vera 28 Protèges - Lot De 4 - livraison offerte (Type: <class 'str'>)\n",
      "Title: VANIA - Kotydia Protège Slip Confort Normal Aloe Vera 28 Protèges - Lot De 4 - livraison offerte => Category: Tampons\n",
      "Processing title: Vania Kotydia Protege-slips Flexi + Flexiform x 56 - Lot de 3 (Type: <class 'str'>)\n",
      "Title: Vania Kotydia Protege-slips Flexi + Flexiform x 56 - Lot de 3 => Category: Tampons\n",
      "Processing title: Protèges-slips Always Dailies Normal Singles emballés individuellement, lot de 6 (Type: <class 'str'>)\n",
      "Title: Protèges-slips Always Dailies Normal Singles emballés individuellement, lot de 6 => Category: Tampons\n",
      "Processing title: Nana PureSensitive Serviettes Hygiéniques Ultra Régulier - Flux Modéré - 0 % Allergène*, Parfum, Colorant - 14 Unité (Lot de 4) (Type: <class 'str'>)\n",
      "Title: Nana PureSensitive Serviettes Hygiéniques Ultra Régulier - Flux Modéré - 0 % Allergène*, Parfum, Colorant - 14 Unité (Lot de 4) => Category: Tampons\n",
      "Processing title: Bamboolik |Protège-slips lavables | Satin et coton bio | Fermeture Velcro | Lot de 5 – 2 x bleu clair, 2 x rose, 1 x jaune + mini Wetbag noir | Réutilisables | Fabriqué en UE | Protège-slips en tissu (Type: <class 'str'>)\n",
      "Title: Bamboolik |Protège-slips lavables | Satin et coton bio | Fermeture Velcro | Lot de 5 – 2 x bleu clair, 2 x rose, 1 x jaune + mini Wetbag noir | Réutilisables | Fabriqué en UE | Protège-slips en tissu => Category: Tampons\n",
      "Processing title: Enna protect, PROTÈGE-SLIP RÉUTILISABLE et écologique enBAMBOU et en COTON BIOLOGIQUE. 1 Unité (Type: <class 'str'>)\n",
      "Title: Enna protect, PROTÈGE-SLIP RÉUTILISABLE et écologique enBAMBOU et en COTON BIOLOGIQUE. 1 Unité => Category: Tampons\n",
      "Processing title: CuloClean 7pcs (M) Serviette menstruelle réutilisable en fibre de bambou. Protège-slips hygiéniques écologiques, en tissu respirant et imperméable + sac + bidet portable (Type: <class 'str'>)\n",
      "Title: CuloClean 7pcs (M) Serviette menstruelle réutilisable en fibre de bambou. Protège-slips hygiéniques écologiques, en tissu respirant et imperméable + sac + bidet portable => Category: Tampons\n",
      "Processing title: Carefree Lot de 5 paquets de protège-slips en coton aloe = 280 protège-slips (Type: <class 'str'>)\n",
      "Title: Carefree Lot de 5 paquets de protège-slips en coton aloe = 280 protège-slips => Category: Tampons\n",
      "Processing title: Masmi - Protège-Slips - 100% Coton Bio - Hautement Absorbant - Certifié GOTS - Compostable & Biodégradable à plus de 95% - Boite de 30 Protèges Slip (Type: <class 'str'>)\n",
      "Title: Masmi - Protège-Slips - 100% Coton Bio - Hautement Absorbant - Certifié GOTS - Compostable & Biodégradable à plus de 95% - Boite de 30 Protèges Slip => Category: Tampons\n",
      "Processing title: Nana Maxi Régulier Plus Serviettes Hygiéniques - Flux Modéré - Confort & Sécurité avec Triple Protection - 64 Serviettes avec Ailettes (Type: <class 'str'>)\n",
      "Title: Nana Maxi Régulier Plus Serviettes Hygiéniques - Flux Modéré - Confort & Sécurité avec Triple Protection - 64 Serviettes avec Ailettes => Category: Tampons\n",
      "Processing title: Love & Green Prottège-slips Anti-Irritation Normal x30 (lot de 120 protège-slips) (Type: <class 'str'>)\n",
      "Title: Love & Green Prottège-slips Anti-Irritation Normal x30 (lot de 120 protège-slips) => Category: Tampons\n",
      "Processing title: Always Dailies Lot de 4 protège-slips fins et discrets Flexistyle adaptables avec parfum frais 74 coussinets (296 coussinets au total) (Type: <class 'str'>)\n",
      "Title: Always Dailies Lot de 4 protège-slips fins et discrets Flexistyle adaptables avec parfum frais 74 coussinets (296 coussinets au total) => Category: Tampons\n",
      "Processing title: Always - Normal - 30 serviettes hygiéniques avec inhibiteur d'odeurs ActiPearls (Type: <class 'str'>)\n",
      "Title: Always - Normal - 30 serviettes hygiéniques avec inhibiteur d'odeurs ActiPearls => Category: Tampons\n",
      "Processing title: Natracare protège-slips TANGA 30pieces x 7 (Lot de 7) (Type: <class 'str'>)\n",
      "Title: Natracare protège-slips TANGA 30pieces x 7 (Lot de 7) => Category: Tampons\n",
      "Processing title: Carefree Cotton Feel Flexiform - Protège-slips perméables à l'air, sans parfum, taux d'absorption deux, taille normale, lot de 56 (Type: <class 'str'>)\n",
      "Title: Carefree Cotton Feel Flexiform - Protège-slips perméables à l'air, sans parfum, taux d'absorption deux, taille normale, lot de 56 => Category: Tampons\n",
      "Processing title: Protège-slip - Lavable et réutilisable - Zéro déchet (Type: <class 'str'>)\n",
      "Title: Protège-slip - Lavable et réutilisable - Zéro déchet => Category: Tampons\n",
      "Processing title: Selenacare Lot de 5 protège-slips pour femme lavables, antibactériens et anti-odeurs, technologie SELENAtec, capacité d’absorption de 5 ml (Type: <class 'str'>)\n",
      "Title: Selenacare Lot de 5 protège-slips pour femme lavables, antibactériens et anti-odeurs, technologie SELENAtec, capacité d’absorption de 5 ml => Category: Tampons\n",
      "Processing title: Maison Eliette - Petits Protège-Slips Lavables en Coton Biologique et Chanvre - Lot de 7 (Type: <class 'str'>)\n",
      "Title: Maison Eliette - Petits Protège-Slips Lavables en Coton Biologique et Chanvre - Lot de 7 => Category: Tampons\n",
      "Processing title: Always Dailies Extra Long Protect Plus Protège-Slips 44 Unités (Type: <class 'str'>)\n",
      "Title: Always Dailies Extra Long Protect Plus Protège-Slips 44 Unités => Category: Tampons\n",
      "Processing title: Bodyform Light String Lot de 4 protège-slips 30 par paquet (Type: <class 'str'>)\n",
      "Title: Bodyform Light String Lot de 4 protège-slips 30 par paquet => Category: Tampons\n",
      "Processing title: Tena Protège slips ultra mini - Le paquet de 28 (Type: <class 'str'>)\n",
      "Title: Tena Protège slips ultra mini - Le paquet de 28 => Category: Tampons\n",
      "Processing title: Carefree Lot de 48 protège-slips super absorbants et parfumés Taille L (Type: <class 'str'>)\n",
      "Title: Carefree Lot de 48 protège-slips super absorbants et parfumés Taille L => Category: Tampons\n",
      "Processing title: Carefree Salvaslip Plus Large Parfum léger 48 pièces 180 g (Type: <class 'str'>)\n",
      "Title: Carefree Salvaslip Plus Large Parfum léger 48 pièces 180 g => Category: Tampons\n",
      "Processing title: VANIA - Kotydia 28 Protege Slips Flexiform Fresh - Lot De 4 (Type: <class 'str'>)\n",
      "Title: VANIA - Kotydia 28 Protege Slips Flexiform Fresh - Lot De 4 => Category: Tampons\n",
      "Processing title: Lampes par TENA Long Sacs (Type: <class 'str'>)\n",
      "Title: Lampes par TENA Long Sacs => Category: Tampons\n",
      "Processing title: Monoprix Protège-lingerie écologiques Normal - La boîte de 30 (Type: <class 'str'>)\n",
      "Title: Monoprix Protège-lingerie écologiques Normal - La boîte de 30 => Category: Tampons\n",
      "Processing title: Lot de 5 protège slips 100% coton lavable (L) (Type: <class 'str'>)\n",
      "Title: Lot de 5 protège slips 100% coton lavable (L) => Category: Tampons\n",
      "Processing title: The Female Company 30x Protège-Slips en Coton Bio | Panty Liners en Coton Bio 100% Certifié | Hypoallergéniques, sans Pesticides, Parfum | Produits en Allemagne (Type: <class 'str'>)\n",
      "Title: The Female Company 30x Protège-Slips en Coton Bio | Panty Liners en Coton Bio 100% Certifié | Hypoallergéniques, sans Pesticides, Parfum | Produits en Allemagne => Category: Tampons\n",
      "Processing title: Bodyform Micro Liners Dailies Style Lot de 22 protège-slips discrets pour femme (Type: <class 'str'>)\n",
      "Title: Bodyform Micro Liners Dailies Style Lot de 22 protège-slips discrets pour femme => Category: Tampons\n",
      "Processing title: Vania Protège-slips Confort+ Fresh parfumé normal - Le paquet de 28 (Type: <class 'str'>)\n",
      "Title: Vania Protège-slips Confort+ Fresh parfumé normal - Le paquet de 28 => Category: Tampons\n",
      "Processing title: Bodyform Dailies Lot de 28 protège-slips normaux Noir (Type: <class 'str'>)\n",
      "Title: Bodyform Dailies Lot de 28 protège-slips normaux Noir => Category: Tampons\n",
      "Processing title: Vania Serviettes Super Maxi Confort, Le paquet de 16 (Type: <class 'str'>)\n",
      "Title: Vania Serviettes Super Maxi Confort, Le paquet de 16 => Category: Tampons\n",
      "Processing title: Always Extra Protect Protège-slips (Type: <class 'str'>)\n",
      "Title: Always Extra Protect Protège-slips => Category: Tampons\n",
      "Processing title: Protège-slips hygiéniques lavables et réutilisables en fibre de charbon de bambou imperméable pour incontinence (Type: <class 'str'>)\n",
      "Title: Protège-slips hygiéniques lavables et réutilisables en fibre de charbon de bambou imperméable pour incontinence => Category: Tampons\n",
      "Processing title: Monoprix Protège-lingerie plié enrichi à l'aloe vera - La boîte de 30 (Type: <class 'str'>)\n",
      "Title: Monoprix Protège-lingerie plié enrichi à l'aloe vera - La boîte de 30 => Category: Tampons\n",
      "Processing title: Always Protège-Slips doublure, grande, 52 pièces (Type: <class 'str'>)\n",
      "Title: Always Protège-Slips doublure, grande, 52 pièces => Category: Tampons\n",
      "Processing title: Carefree Protège-slips parfumés Cotton Fresh 0,58 ml (Type: <class 'str'>)\n",
      "Title: Carefree Protège-slips parfumés Cotton Fresh 0,58 ml => Category: Tampons\n",
      "Processing title: Lilind® 5x Thong Protège-slips Ultra-fins Réutilisables et Lavables - 100% coton - Halloween (Type: <class 'str'>)\n",
      "Title: Lilind® 5x Thong Protège-slips Ultra-fins Réutilisables et Lavables - 100% coton - Halloween => Category: Tampons\n",
      "Processing title: Veeda Daily Natural Premium Protège-slips féminins pour incontinence et post-partum pour femme, non parfumés, ultra fins, absorption Petite Lite, longue longueur, 46 pièces (Type: <class 'str'>)\n",
      "Title: Veeda Daily Natural Premium Protège-slips féminins pour incontinence et post-partum pour femme, non parfumés, ultra fins, absorption Petite Lite, longue longueur, 46 pièces => Category: Tampons\n",
      "Processing title: Veeda Daily Natural Premium Protège-slips féminins pour incontinence et post-partum pour femme, non parfumés, ultra fins, absorption longue légère, longue longueur, 44 pièces (Type: <class 'str'>)\n",
      "Title: Veeda Daily Natural Premium Protège-slips féminins pour incontinence et post-partum pour femme, non parfumés, ultra fins, absorption longue légère, longue longueur, 44 pièces => Category: Tampons\n",
      "Processing title: Lilind® 7x Thong Protège-slips Serviettes Hygiéniques Décontractées Ultra-fins Réutilisables et Lavables 100% coton (Type: <class 'str'>)\n",
      "Title: Lilind® 7x Thong Protège-slips Serviettes Hygiéniques Décontractées Ultra-fins Réutilisables et Lavables 100% coton => Category: Tampons\n",
      "Processing title: Lot de 4 x Natracare protège-slips Normal enroulée – 18 ct (Type: <class 'str'>)\n",
      "Title: Lot de 4 x Natracare protège-slips Normal enroulée – 18 ct => Category: Tampons\n",
      "Processing title: Lot de 3 protège-slips incurvés 30 ct (Type: <class 'str'>)\n",
      "Title: Lot de 3 protège-slips incurvés 30 ct => Category: Tampons\n",
      "Processing title: Always Daily Extra Protect Normal Protège-slips Longs 24 Unités, Retiennent Les Odeurs, Aussi Pour Les Premiers Signes De Fuites Urinaires (Type: <class 'str'>)\n",
      "Title: Always Daily Extra Protect Normal Protège-slips Longs 24 Unités, Retiennent Les Odeurs, Aussi Pour Les Premiers Signes De Fuites Urinaires => Category: Tampons\n",
      "Processing title: Always Dailies Normal To Go Fresh Lot de 20 protège-slips (Type: <class 'str'>)\n",
      "Title: Always Dailies Normal To Go Fresh Lot de 20 protège-slips => Category: Tampons\n",
      "Processing title: Carefree Protège-slips Cotton Feel Normal au parfum frais, taille normale, 56 pièces (lot de 1) (Type: <class 'str'>)\n",
      "Title: Carefree Protège-slips Cotton Feel Normal au parfum frais, taille normale, 56 pièces (lot de 1) => Category: Tampons\n",
      "Processing title: Carefree Lot de 24 protège-slips en coton biologique, taille plus longue, (Type: <class 'str'>)\n",
      "Title: Carefree Lot de 24 protège-slips en coton biologique, taille plus longue, => Category: Tampons\n",
      "Processing title: Protèges-slip respirants en coton naturel ultra fins Veeda pour femmes, toujours exemptes de chlore, de pesticides et de toxines, 40 unités (Type: <class 'str'>)\n",
      "Title: Protèges-slip respirants en coton naturel ultra fins Veeda pour femmes, toujours exemptes de chlore, de pesticides et de toxines, 40 unités => Category: Tampons\n",
      "Processing title: Carefree Cotton Fel Aloe 56 pièces (Type: <class 'str'>)\n",
      "Title: Carefree Cotton Fel Aloe 56 pièces => Category: Tampons\n",
      "Processing title: Carefree Lot de 56 protège-slips Plus Normal avec un léger parfum super absorbant pour emprisonner instantanément les liquides Taille normale (Type: <class 'str'>)\n",
      "Title: Carefree Lot de 56 protège-slips Plus Normal avec un léger parfum super absorbant pour emprisonner instantanément les liquides Taille normale => Category: Tampons\n",
      "Processing title: Lot de 2 protège-slips en coton, 40 pièces par paquet, pur coton hydrophile (Type: <class 'str'>)\n",
      "Title: Lot de 2 protège-slips en coton, 40 pièces par paquet, pur coton hydrophile => Category: Tampons\n",
      "Processing title: NATRACARE - 30 Protège-Slips Tanga (Type: <class 'str'>)\n",
      "Title: NATRACARE - 30 Protège-Slips Tanga => Category: Tampons\n",
      "Processing title: Hydas - 5 - Slip Jetable pour Femme - Idéal pour Le Voyage - Taille 40/42 (Type: <class 'str'>)\n",
      "Title: Hydas - 5 - Slip Jetable pour Femme - Idéal pour Le Voyage - Taille 40/42 => Category: Tampons\n",
      "Processing title: Always Dailies Protège-Slips, Idéaux pour Pertes Blanches, Normal To Go, 20 Pochettes Individuelles, Flexibles et Confortables, Sensation de Fraicheur, Pratique et Hygiénique (Type: <class 'str'>)\n",
      "Title: Always Dailies Protège-Slips, Idéaux pour Pertes Blanches, Normal To Go, 20 Pochettes Individuelles, Flexibles et Confortables, Sensation de Fraicheur, Pratique et Hygiénique => Category: Tampons\n",
      "Processing title: EveryDay All Cotton Salvaslip String, filtre 100% coton, 30 unités (Type: <class 'str'>)\n",
      "Title: EveryDay All Cotton Salvaslip String, filtre 100% coton, 30 unités => Category: Tampons\n",
      "Processing title: Always - Dailies Protège-Slips Flexistyle, Normal - 54 Pièces (Type: <class 'str'>)\n",
      "Title: Always - Dailies Protège-Slips Flexistyle, Normal - 54 Pièces => Category: Tampons\n",
      "Processing title: NATRACARE Mini protège-slip 30 couches (lot de 1) (Type: <class 'str'>)\n",
      "Title: NATRACARE Mini protège-slip 30 couches (lot de 1) => Category: Tampons\n",
      "Processing title: Always Protège-slips Long Plus Fresh & Protect - Le paquet de 24 (Type: <class 'str'>)\n",
      "Title: Always Protège-slips Long Plus Fresh & Protect - Le paquet de 24 => Category: Tampons\n",
      "Processing title: Bodyform Dailies Lot de 30 paquets de 4 sacs pour string (Type: <class 'str'>)\n",
      "Title: Bodyform Dailies Lot de 30 paquets de 4 sacs pour string => Category: Tampons\n",
      "Processing title: Always - Profresh Protège-Slips Vessie Sensible, Normal - 24 Pièces (Type: <class 'str'>)\n",
      "Title: Always - Profresh Protège-Slips Vessie Sensible, Normal - 24 Pièces => Category: Tampons\n",
      "Processing title: Protège-slips Organyc Flux léger en Pochette individuelle en coton biologique (24 unités) (Type: <class 'str'>)\n",
      "Title: Protège-slips Organyc Flux léger en Pochette individuelle en coton biologique (24 unités) => Category: Tampons\n",
      "Processing title: Carefree protège-slips Transpirable 44 UDS (Type: <class 'str'>)\n",
      "Title: Carefree protège-slips Transpirable 44 UDS => Category: Tampons\n",
      "Processing title: BOMAIS Lot de 6 tampons menstruels en tissu imperméable réutilisable au charbon de bambou (Type: <class 'str'>)\n",
      "Title: BOMAIS Lot de 6 tampons menstruels en tissu imperméable réutilisable au charbon de bambou => Category: Tampons\n",
      "Processing title: 3pcs Serviettes Menstruelles Lavables, Protège-slips Hygiéniques Réutilisables en Coton Doux pour Femme Jaune (Type: <class 'str'>)\n",
      "Title: 3pcs Serviettes Menstruelles Lavables, Protège-slips Hygiéniques Réutilisables en Coton Doux pour Femme Jaune => Category: Tampons\n",
      "Processing title: ZDZQTM 5 pièces Super Mince 100% Coton réutilisables en Tissu imperméable Pads, Utiliser Lady Daily Tissu Panty Liners Femmes féminin Hyqiene 17.5cm (Size : Panty Liner 175mm) (Type: <class 'str'>)\n",
      "Title: ZDZQTM 5 pièces Super Mince 100% Coton réutilisables en Tissu imperméable Pads, Utiliser Lady Daily Tissu Panty Liners Femmes féminin Hyqiene 17.5cm (Size : Panty Liner 175mm) => Category: Tampons\n",
      "Processing title: Coussinets Menstruels Lavables, Protège-slips Réutilisables à Motif Floral, Respirants pour la Maison, 5 Pièces (M) (Type: <class 'str'>)\n",
      "Title: Coussinets Menstruels Lavables, Protège-slips Réutilisables à Motif Floral, Respirants pour la Maison, 5 Pièces (M) => Category: Tampons\n",
      "Processing title: Evax Protège-Slip Maxi 60 g (Type: <class 'str'>)\n",
      "Title: Evax Protège-Slip Maxi 60 g => Category: Tampons\n",
      "Processing title: Always Dailies Large Sans Ailettes 52 Protège-Slips (Type: <class 'str'>)\n",
      "Title: Always Dailies Large Sans Ailettes 52 Protège-Slips => Category: Tampons\n",
      "Processing title: BLOOMING – Protège-slip Lavable, Serviette lavable - Bande anti-glisse en silicone – Noir – Protège-Slip Flux Léger (Type: <class 'str'>)\n",
      "Title: BLOOMING – Protège-slip Lavable, Serviette lavable - Bande anti-glisse en silicone – Noir – Protège-Slip Flux Léger => Category: Tampons\n",
      "Processing title: Carefree cotton feel size Normal, Protège slip cotton, 56 Protège slip/ taille Normale (Type: <class 'str'>)\n",
      "Title: Carefree cotton feel size Normal, Protège slip cotton, 56 Protège slip/ taille Normale => Category: Tampons\n",
      "Processing title: Lot de 2 paquets de 2 paquets de 60 protège-slips Bodyform pour femme Style quotidien Avec micro-doublures Bodyform 22 x 2 paquets de 44 micro-doublures au total (Type: <class 'str'>)\n",
      "Title: Lot de 2 paquets de 2 paquets de 60 protège-slips Bodyform pour femme Style quotidien Avec micro-doublures Bodyform 22 x 2 paquets de 44 micro-doublures au total => Category: Tampons\n",
      "Processing title: MYLILY® protège-slips | 100% coton certifié biologique | 0% produits chimiques | protection fiable au quotidien | super-mince | 32 protège-slips | emballé individuellement (Type: <class 'str'>)\n",
      "Title: MYLILY® protège-slips | 100% coton certifié biologique | 0% produits chimiques | protection fiable au quotidien | super-mince | 32 protège-slips | emballé individuellement => Category: Tampons\n",
      "Processing title: Carefree Carefree Protège-Slip Transp 56 Alo 200 g (Type: <class 'str'>)\n",
      "Title: Carefree Carefree Protège-Slip Transp 56 Alo 200 g => Category: Tampons\n",
      "Processing title: LINE Protège-slips plié 40 + 4 unités (Type: <class 'str'>)\n",
      "Title: LINE Protège-slips plié 40 + 4 unités => Category: Tampons\n",
      "Processing title: Protege Slip STRING Lavable Bio Coton (Single S); Protège Slip Reutilisable TANGA FABRIQUÉE EN UE; Serviette Hygiénique Lavable sans PUL; pour pertes blanches NE CONVIENT PAS pour les Règles (Type: <class 'str'>)\n",
      "Title: Protege Slip STRING Lavable Bio Coton (Single S); Protège Slip Reutilisable TANGA FABRIQUÉE EN UE; Serviette Hygiénique Lavable sans PUL; pour pertes blanches NE CONVIENT PAS pour les Règles => Category: Tampons\n",
      "Processing title: Always Protège-slips ultra standard, l'emballage peut varier (Type: <class 'str'>)\n",
      "Title: Always Protège-slips ultra standard, l'emballage peut varier => Category: Tampons\n",
      "Processing title: Veeda Daily Natural Premium Protège-slips féminins pour incontinence et post-partum pour femme, non parfumés, ultra fins, absorption légère, longue longueur, 46 pièces (Type: <class 'str'>)\n",
      "Title: Veeda Daily Natural Premium Protège-slips féminins pour incontinence et post-partum pour femme, non parfumés, ultra fins, absorption légère, longue longueur, 46 pièces => Category: Tampons\n",
      "Processing title: Silvercare Protection Féminine Protège-Slips Anatomiques 100% Pur Coton Bio Emballage Individuel Boîte de 24 Unités (Type: <class 'str'>)\n",
      "Title: Silvercare Protection Féminine Protège-Slips Anatomiques 100% Pur Coton Bio Emballage Individuel Boîte de 24 Unités => Category: Tampons\n",
      "Processing title: Always Protege Lingerie Profresh Normal, 24 unités (Type: <class 'str'>)\n",
      "Title: Always Protege Lingerie Profresh Normal, 24 unités => Category: Tampons\n",
      "Processing title: Always - Dailies Protège-Slips, Large - 24 Pièces (Type: <class 'str'>)\n",
      "Title: Always - Dailies Protège-Slips, Large - 24 Pièces => Category: Tampons\n",
      "Processing title: Nuvenia – Protège-slip, usage quotidien – 36 pièces (Type: <class 'str'>)\n",
      "Title: Nuvenia – Protège-slip, usage quotidien – 36 pièces => Category: Tampons\n",
      "Processing title: Protège-slip Carefree Carefree Normal Aloe (Type: <class 'str'>)\n",
      "Title: Protège-slip Carefree Carefree Normal Aloe => Category: Tampons\n",
      "Processing title: Carefree protège-slips FlexiForm, 58 pièces (Type: <class 'str'>)\n",
      "Title: Carefree protège-slips FlexiForm, 58 pièces => Category: Tampons\n",
      "Processing title: Carefree Lot de 56 protège-slips à l'extrait de coton Parfum frais(1 x 56 pièces) (Type: <class 'str'>)\n",
      "Title: Carefree Lot de 56 protège-slips à l'extrait de coton Parfum frais(1 x 56 pièces) => Category: Tampons\n",
      "Processing title: Always - Dailies Normal Fresh & Protect With Fresh parfum x56 Protège-slips - 1 pièce (Type: <class 'str'>)\n",
      "Title: Always - Dailies Normal Fresh & Protect With Fresh parfum x56 Protège-slips - 1 pièce => Category: Tampons\n",
      "Processing title: Protège Slip Ultra fin Coton Bio Boîte de 24 Les Petites Choses (Type: <class 'str'>)\n",
      "Title: Protège Slip Ultra fin Coton Bio Boîte de 24 Les Petites Choses => Category: Tampons\n",
      "Processing title: Natracare Organic Long Wrapped Panty Liners 16 pcs (Type: <class 'str'>)\n",
      "Title: Natracare Organic Long Wrapped Panty Liners 16 pcs => Category: Tampons\n",
      "Processing title: Protège Slip Classique Coton Bio x24 Les Petites Choses (Type: <class 'str'>)\n",
      "Title: Protège Slip Classique Coton Bio x24 Les Petites Choses => Category: Tampons\n",
      "Processing title: Serviettes Hygiéniques Réutilisables, Protège-slips en Tissu Anti-fuite Graphène 4 Pièces pour Femme (L) (Type: <class 'str'>)\n",
      "Title: Serviettes Hygiéniques Réutilisables, Protège-slips en Tissu Anti-fuite Graphène 4 Pièces pour Femme (L) => Category: Tampons\n",
      "Processing title: Carefree Cotton Feel Lot de 56 protège-slips 100% perméables à l'air avec aloe vera pour une sensation de fraîcheur longue durée en taille S/M (Type: <class 'str'>)\n",
      "Title: Carefree Cotton Feel Lot de 56 protège-slips 100% perméables à l'air avec aloe vera pour une sensation de fraîcheur longue durée en taille S/M => Category: Tampons\n",
      "Processing title: CAREFREE Protège-slips plus grande boîte 36 unités (Type: <class 'str'>)\n",
      "Title: CAREFREE Protège-slips plus grande boîte 36 unités => Category: Tampons\n",
      "Processing title: NATRACARE Lot de 6 protège-slips normaux emballés 18 (Type: <class 'str'>)\n",
      "Title: NATRACARE Lot de 6 protège-slips normaux emballés 18 => Category: Tampons\n",
      "Processing title: 4pcs Protège-slips en Tissu Graphène, Serviettes Hygiéniques Réutilisables pour Femmes, Protège-slips Réutilisables Mama Protège-slips, Tampons Anti-fuites Respirants (M) (Type: <class 'str'>)\n",
      "Title: 4pcs Protège-slips en Tissu Graphène, Serviettes Hygiéniques Réutilisables pour Femmes, Protège-slips Réutilisables Mama Protège-slips, Tampons Anti-fuites Respirants (M) => Category: Tampons\n",
      "Processing title: Robin Goods® 2x linge de boulanger ovale - toile de lin avec ceinture élastique - linge de boulanger pour paniers de fermentation - torchon à pâte (Ovale en lin Baker&#39;s - 2 pièces) (Type: <class 'str'>)\n",
      "Title: Robin Goods® 2x linge de boulanger ovale - toile de lin avec ceinture élastique - linge de boulanger pour paniers de fermentation - torchon à pâte (Ovale en lin Baker&#39;s - 2 pièces) => Category: Tampons\n",
      "Processing title: Carefree Cotton Feel Lot de 56 protège-slips normaux (Type: <class 'str'>)\n",
      "Title: Carefree Cotton Feel Lot de 56 protège-slips normaux => Category: Tampons\n",
      "Processing title: Flo Lot de 24 protège-slips fins en bambou biologique, étanches, très absorbants, emballés individuellement, biodégradables et sans cruauté envers les animaux, sans plastique et végétalien (Type: <class 'str'>)\n",
      "Title: Flo Lot de 24 protège-slips fins en bambou biologique, étanches, très absorbants, emballés individuellement, biodégradables et sans cruauté envers les animaux, sans plastique et végétalien => Category: Tampons\n",
      "Processing title: Bodyform Micro protège-slips 22 par paquet (Type: <class 'str'>)\n",
      "Title: Bodyform Micro protège-slips 22 par paquet => Category: Tampons\n",
      "Processing title: Organyc - Protège-slips en vrac (24 protèges slip) (Type: <class 'str'>)\n",
      "Title: Organyc - Protège-slips en vrac (24 protèges slip) => Category: Tampons\n",
      "Processing title: Protège-Slip Pocket Extra Fin x24 Unyque (Type: <class 'str'>)\n",
      "Title: Protège-Slip Pocket Extra Fin x24 Unyque => Category: Tampons\n",
      "Processing title: Natracare Organic Dry and Light Incontinence Pads Slim 20 pcs (Type: <class 'str'>)\n",
      "Title: Natracare Organic Dry and Light Incontinence Pads Slim 20 pcs => Category: Tampons\n",
      "Processing title: Carefree Flexiform Lot de 58 protège-slips Parfum frais Blanc (Type: <class 'str'>)\n",
      "Title: Carefree Flexiform Lot de 58 protège-slips Parfum frais Blanc => Category: Tampons\n",
      "Processing title: Enna protect, PROTÈGE-SLIP STRING RÉUTILISABLE et écologique enBAMBOU et en COTON BIOLOGIQUE. 1 Unité (Type: <class 'str'>)\n",
      "Title: Enna protect, PROTÈGE-SLIP STRING RÉUTILISABLE et écologique enBAMBOU et en COTON BIOLOGIQUE. 1 Unité => Category: Tampons\n",
      "Processing title: Organyc Lot de 20 protège-slips extra longs (Type: <class 'str'>)\n",
      "Title: Organyc Lot de 20 protège-slips extra longs => Category: Tampons\n",
      "Processing title: Protège-slip Lavable Réutilisable pour Femme (WSD12) (Type: <class 'str'>)\n",
      "Title: Protège-slip Lavable Réutilisable pour Femme (WSD12) => Category: Tampons\n",
      "Processing title: Always Dailies Normal Fresh & Protect Lot de 54 protège-slips respirants, flexibles et confortables avec noyau absorbant (Type: <class 'str'>)\n",
      "Title: Always Dailies Normal Fresh & Protect Lot de 54 protège-slips respirants, flexibles et confortables avec noyau absorbant => Category: Tampons\n",
      "Processing title: Masmi Protège-slips anatomiques en coton bio pour écoulement léger, hypoallergénique, biodégradable, sans parfum, viscose, rayonne, chlore et dioxines (30) (Type: <class 'str'>)\n",
      "Title: Masmi Protège-slips anatomiques en coton bio pour écoulement léger, hypoallergénique, biodégradable, sans parfum, viscose, rayonne, chlore et dioxines (30) => Category: Tampons\n",
      "Processing title: SUNERLORY Sunlory Lot de 1/5/10 Serviettes réutilisables en Bambou pour Femme, Pas de zéro, 1 pièce, Small (Type: <class 'str'>)\n",
      "Title: SUNERLORY Sunlory Lot de 1/5/10 Serviettes réutilisables en Bambou pour Femme, Pas de zéro, 1 pièce, Small => Category: Tampons\n",
      "Processing title: Always Dailies Fresh & Protect Protège-Slips - Normal x60 (Type: <class 'str'>)\n",
      "Title: Always Dailies Fresh & Protect Protège-Slips - Normal x60 => Category: Tampons\n",
      "Processing title: Always Discreet Plus Long Plus Lot de 8 protège-slips pour fuites urinaires (Type: <class 'str'>)\n",
      "Title: Always Discreet Plus Long Plus Lot de 8 protège-slips pour fuites urinaires => Category: Tampons\n",
      "Processing title: Always Dailies protège-slips Normal (Type: <class 'str'>)\n",
      "Title: Always Dailies protège-slips Normal => Category: Tampons\n",
      "Processing title: Natracare Organic Cotton Natural Panty Liners Curved -- 30 Pads by NatraCare (Type: <class 'str'>)\n",
      "Title: Natracare Organic Cotton Natural Panty Liners Curved -- 30 Pads by NatraCare => Category: Tampons\n",
      "Processing title: Natracare Lot de 12 serviettes hygiéniques sans ailes bio (Type: <class 'str'>)\n",
      "Title: Natracare Lot de 12 serviettes hygiéniques sans ailes bio => Category: Tampons\n",
      "Processing title: Protège-slip - PROTEGESLIP FARMACONFORT ALG30 (Type: <class 'str'>)\n",
      "Title: Protège-slip - PROTEGESLIP FARMACONFORT ALG30 => Category: Tampons\n",
      "Processing title: Evax Maxi Plus Protège-slip 30-Pièces (Type: <class 'str'>)\n",
      "Title: Evax Maxi Plus Protège-slip 30-Pièces => Category: Tampons\n",
      "Processing title: Protège slip en coton bio, 30 unités (Type: <class 'str'>)\n",
      "Title: Protège slip en coton bio, 30 unités => Category: Tampons\n",
      "Processing title: Nana Normal Plat - Protège-lingerie absorbant (Lot de 2 paquets de 68 protège-lingeries) (Type: <class 'str'>)\n",
      "Title: Nana Normal Plat - Protège-lingerie absorbant (Lot de 2 paquets de 68 protège-lingeries) => Category: Tampons\n",
      "Processing title: Natracare Natural Organic Thong Style Panty Liners -- 30 Pads (Type: <class 'str'>)\n",
      "Title: Natracare Natural Organic Thong Style Panty Liners -- 30 Pads => Category: Tampons\n",
      "Processing title: Carefree Slip Extra Large Plus (+ 5 Avantages de fraîcheur – 24 pièces) (Type: <class 'str'>)\n",
      "Title: Carefree Slip Extra Large Plus (+ 5 Avantages de fraîcheur – 24 pièces) => Category: Tampons\n",
      "Processing title: Natracare - Couverture de coton Panty Liners Normal - 18Liner(s) (Type: <class 'str'>)\n",
      "Title: Natracare - Couverture de coton Panty Liners Normal - 18Liner(s) => Category: Tampons\n",
      "Processing title: Natracare Panty Shields Curved 30 ct ( Multi-Pack) by Natracare (Type: <class 'str'>)\n",
      "Title: Natracare Panty Shields Curved 30 ct ( Multi-Pack) by Natracare => Category: Tampons\n",
      "Processing title: Protège Slip Flex Coton Bio x24 Les Petites Choses (Type: <class 'str'>)\n",
      "Title: Protège Slip Flex Coton Bio x24 Les Petites Choses => Category: Tampons\n",
      "Processing title: Leadrop Protège-slip multi-usages lavable indéchirable ultra absorbant en bambou compatible avec les adolescents Couleur aléatoire Style aléatoire (Type: <class 'str'>)\n",
      "Title: Leadrop Protège-slip multi-usages lavable indéchirable ultra absorbant en bambou compatible avec les adolescents Couleur aléatoire Style aléatoire => Category: Tampons\n",
      "Processing title: Evax Normal Protège-slip 50-Pièces (Type: <class 'str'>)\n",
      "Title: Evax Normal Protège-slip 50-Pièces => Category: Tampons\n",
      "Processing title: Natracare Organic Long Wrapped Panty Liners 16 pcs (Type: <class 'str'>)\n",
      "Title: Natracare Organic Long Wrapped Panty Liners 16 pcs => Category: Tampons\n",
      "Processing title: Bella for Teens Energy Packs de 20 protège-slip (Type: <class 'str'>)\n",
      "Title: Bella for Teens Energy Packs de 20 protège-slip => Category: Tampons\n",
      "Processing title: cobee 2 serviettes hygiéniques (Type: <class 'str'>)\n",
      "Title: cobee 2 serviettes hygiéniques => Category: Tampons\n",
      "Processing title: Natracare 30 Units Mini Bag (Type: <class 'str'>)\n",
      "Title: Natracare 30 Units Mini Bag => Category: Tampons\n",
      "Processing title: ALWAYS - Dailies Extra Protect - Protège-Slips en Coton Bio - Niveau de Protection Normal - 28 Unités - Lot De 3 (Type: <class 'str'>)\n",
      "Title: ALWAYS - Dailies Extra Protect - Protège-Slips en Coton Bio - Niveau de Protection Normal - 28 Unités - Lot De 3 => Category: Tampons\n",
      "Processing title: Natracare Natural Tanga Style Panty Liners - 30 Pack (Type: <class 'str'>)\n",
      "Title: Natracare Natural Tanga Style Panty Liners - 30 Pack => Category: Tampons\n",
      "Processing title: VANIA - Kotydia Protège Slips Large Aloe 36 Protèges - Lot De 3 (Type: <class 'str'>)\n",
      "Title: VANIA - Kotydia Protège Slips Large Aloe 36 Protèges - Lot De 3 => Category: Tampons\n",
      "Processing title: Evax Maxi Lot de 40 protège-slips (Type: <class 'str'>)\n",
      "Title: Evax Maxi Lot de 40 protège-slips => Category: Tampons\n",
      "Processing title: Carefree Protège-slips extra longs, non emballés, non parfumés, 100 ct (l'emballage peut varier) (Type: <class 'str'>)\n",
      "Title: Carefree Protège-slips extra longs, non emballés, non parfumés, 100 ct (l'emballage peut varier) => Category: Tampons\n",
      "Processing title: Tena - Tena Lights Sensitive Long Protège-slips – 20 pièces (Type: <class 'str'>)\n",
      "Title: Tena - Tena Lights Sensitive Long Protège-slips – 20 pièces => Category: Tampons\n",
      "Processing title: BLOOMING – Protège-slip Lavable, Serviette lavable - Bande anti-glisse en silicone – Noir – Serviettes lavable Flux Abondant (Type: <class 'str'>)\n",
      "Title: BLOOMING – Protège-slip Lavable, Serviette lavable - Bande anti-glisse en silicone – Noir – Serviettes lavable Flux Abondant => Category: Tampons\n",
      "Processing title: VANIA - Kotydia 56 Protège-Slips Confort Normal Fresh - Lot De 4 (Type: <class 'str'>)\n",
      "Title: VANIA - Kotydia 56 Protège-Slips Confort Normal Fresh - Lot De 4 => Category: Tampons\n",
      "Processing title: Natracare Ultra Pad Lot de 2 doublures ailées longues (Type: <class 'str'>)\n",
      "Title: Natracare Ultra Pad Lot de 2 doublures ailées longues => Category: Tampons\n",
      "Processing title: Charbon de bambou Fibre en tissu réutilisable Menstruel Pad étanche lavable Femme sanitaire Serviettes Button fixe Menstruel Chiffon unités pour Regular Flux Confort et de maintien (Type: <class 'str'>)\n",
      "Title: Charbon de bambou Fibre en tissu réutilisable Menstruel Pad étanche lavable Femme sanitaire Serviettes Button fixe Menstruel Chiffon unités pour Regular Flux Confort et de maintien => Category: Tampons\n",
      "Processing title: ALWAYS - Dailies Extra Protect 28 Protège-Slips Coton Bio Normal - Lot De 3 (Type: <class 'str'>)\n",
      "Title: ALWAYS - Dailies Extra Protect 28 Protège-Slips Coton Bio Normal - Lot De 3 => Category: Tampons\n",
      "Processing title: Carefree Lot de 6 protège-slips normaux respirants au toucher coton Parfum frais 20 de chaque (120 protège-slips au total) (Type: <class 'str'>)\n",
      "Title: Carefree Lot de 6 protège-slips normaux respirants au toucher coton Parfum frais 20 de chaque (120 protège-slips au total) => Category: Tampons\n",
      "Processing title: Bamboolik |Protège-slips lavables | Satin et coton biologique | Lot de 5 – 2 x bleu foncé, 2 x rouge, 1 x jaune + mini Wetbag noir | réutilisables | Fabriqué en UE | Protège-slips en tissu | (Type: <class 'str'>)\n",
      "Title: Bamboolik |Protège-slips lavables | Satin et coton biologique | Lot de 5 – 2 x bleu foncé, 2 x rouge, 1 x jaune + mini Wetbag noir | réutilisables | Fabriqué en UE | Protège-slips en tissu | => Category: Tampons\n",
      "Processing title: Carefree Fresh Lot de 36 protège-slips 140 g (Type: <class 'str'>)\n",
      "Title: Carefree Fresh Lot de 36 protège-slips 140 g => Category: Tampons\n",
      "Processing title: Lot de lingettes menstruelles réutilisables et imperméables en charbon de bambou - Débit régulier - Débit lourd (large) (Type: <class 'str'>)\n",
      "Title: Lot de lingettes menstruelles réutilisables et imperméables en charbon de bambou - Débit régulier - Débit lourd (large) => Category: Tampons\n",
      "Processing title: Bamboolik |Protège-slips lavables | Satin et coton bio | Fermeture Velcro | Lot de 5 – 2 x bleu foncé, 2 x rouge, 1 x jaune + mini Wetbag noir | Réutilisables | Fabriqué en UE | Protège-slips en tissu (Type: <class 'str'>)\n",
      "Title: Bamboolik |Protège-slips lavables | Satin et coton bio | Fermeture Velcro | Lot de 5 – 2 x bleu foncé, 2 x rouge, 1 x jaune + mini Wetbag noir | Réutilisables | Fabriqué en UE | Protège-slips en tissu => Category: Tampons\n",
      "Processing title: Bamboolik |Protège-slips lavables | Satin et coton bio | Bouton pression | Lot de 5 - 2 x bleu clair, 2 x rose, 1 x jaune + mini Wetbag noir | Réutilisables | Fabriqué en UE | Protège-slips en tissu | (Type: <class 'str'>)\n",
      "Title: Bamboolik |Protège-slips lavables | Satin et coton bio | Bouton pression | Lot de 5 - 2 x bleu clair, 2 x rose, 1 x jaune + mini Wetbag noir | Réutilisables | Fabriqué en UE | Protège-slips en tissu | => Category: Tampons\n",
      "Processing title: Carefree Protège Slips féminines – 40 pièces (Type: <class 'str'>)\n",
      "Title: Carefree Protège Slips féminines – 40 pièces => Category: Tampons\n",
      "Processing title: Jho - Protège-slips bio adaptables (35 protège-slips) (Type: <class 'str'>)\n",
      "Title: Jho - Protège-slips bio adaptables (35 protège-slips) => Category: Tampons\n",
      "Processing title: 4pcs Protège-slips en Tissu, Absorbant L'eau en Graphène Toujours Tampons Respirants Anti-fuites Lavables Réutilisables Serviettes Hygiéniques pour Femmes (S) (Type: <class 'str'>)\n",
      "Title: 4pcs Protège-slips en Tissu, Absorbant L'eau en Graphène Toujours Tampons Respirants Anti-fuites Lavables Réutilisables Serviettes Hygiéniques pour Femmes (S) => Category: Tampons\n",
      "Processing title: Always Dailies Fresh & Protect Lot de 2 protège-slips normaux 60 par paquet (Type: <class 'str'>)\n",
      "Title: Always Dailies Fresh & Protect Lot de 2 protège-slips normaux 60 par paquet => Category: Tampons\n",
      "Processing title: EVAX Salvaslip Adapt 30U (Type: <class 'str'>)\n",
      "Title: EVAX Salvaslip Adapt 30U => Category: Tampons\n",
      "Processing title: BLOOMING – Protège-slip Lavable, Serviette lavable - Bande anti-glisse en silicone – Noir – Serviettes lavables Flux très Abondant ou spécial Nuit (Type: <class 'str'>)\n",
      "Title: BLOOMING – Protège-slip Lavable, Serviette lavable - Bande anti-glisse en silicone – Noir – Serviettes lavables Flux très Abondant ou spécial Nuit => Category: Tampons\n",
      "Processing title: SAUGELLA - Cotton Touch 40 protège-slips (Type: <class 'str'>)\n",
      "Title: SAUGELLA - Cotton Touch 40 protège-slips => Category: Tampons\n",
      "Processing title: Kotydia 40 Protège-Slips Protect Long Fresh - Lot De 4 (Type: <class 'str'>)\n",
      "Title: Kotydia 40 Protège-Slips Protect Long Fresh - Lot De 4 => Category: Tampons\n",
      "Processing title: Always Twist & Flex Normal Lot de 4 packs de 58 protège-slips flexibles (Type: <class 'str'>)\n",
      "Title: Always Twist & Flex Normal Lot de 4 packs de 58 protège-slips flexibles => Category: Tampons\n",
      "Processing title: Natracare Pads Regular 14 carats Lot de 1 boîte (14 patins au total) (L'emballage peut varier) (Type: <class 'str'>)\n",
      "Title: Natracare Pads Regular 14 carats Lot de 1 boîte (14 patins au total) (L'emballage peut varier) => Category: Tampons\n",
      "Processing title: ORGANYC Lot spécial de protège-slips plats en coton bio avec flux lumineux 40 + 8 offerts (Type: <class 'str'>)\n",
      "Title: ORGANYC Lot spécial de protège-slips plats en coton bio avec flux lumineux 40 + 8 offerts => Category: Tampons\n",
      "Processing title: Pads, Night-Time/Overnight 10 ct, 3 Pack (30 Pads) by NATRACARE (Type: <class 'str'>)\n",
      "Title: Pads, Night-Time/Overnight 10 ct, 3 Pack (30 Pads) by NATRACARE => Category: Tampons\n",
      "Processing title: Always Dailies Protège-Slips Doux comme du Coton, 34 Unités (Type: <class 'str'>)\n",
      "Title: Always Dailies Protège-Slips Doux comme du Coton, 34 Unités => Category: Tampons\n",
      "Processing title: Natracare Organic Normal Wrapped Panty Liners 18 pcs (Type: <class 'str'>)\n",
      "Title: Natracare Organic Normal Wrapped Panty Liners 18 pcs => Category: Tampons\n",
      "Processing title: BLOOMING – Protège-slip Lavable, Serviette lavable - Bande anti-glisse en silicone – Noir – Serviette lavable Flux Moyen (Type: <class 'str'>)\n",
      "Title: BLOOMING – Protège-slip Lavable, Serviette lavable - Bande anti-glisse en silicone – Noir – Serviette lavable Flux Moyen => Category: Tampons\n",
      "Processing title: SAKAI - MINI PROTEGESLIP 30 unités (Type: <class 'str'>)\n",
      "Title: SAKAI - MINI PROTEGESLIP 30 unités => Category: Tampons\n",
      "Processing title: Always Serviettes Sanitaires Discrète Lumière pour Incontinence (Type: <class 'str'>)\n",
      "Title: Always Serviettes Sanitaires Discrète Lumière pour Incontinence => Category: Tampons\n",
      "Processing title: VANIA - Kotydia 56 Protège-Slips Confort Normal Fresh - Lot De 4 (Type: <class 'str'>)\n",
      "Title: VANIA - Kotydia 56 Protège-Slips Confort Normal Fresh - Lot De 4 => Category: Tampons\n",
      "Processing title: Evax Protège-Slip String 60 g (Type: <class 'str'>)\n",
      "Title: Evax Protège-Slip String 60 g => Category: Tampons\n",
      "Processing title: Always Dailies Extra Protect Lot de 64 protège-slips pour femme - Bloque instantanément les odeurs et les liquides pour une protection maximale pendant la journée (Type: <class 'str'>)\n",
      "Title: Always Dailies Extra Protect Lot de 64 protège-slips pour femme - Bloque instantanément les odeurs et les liquides pour une protection maximale pendant la journée => Category: Tampons\n",
      "Processing title: Femilady Lot de 30 protège-slips sans ailes 8 couches 100 ml. (Type: <class 'str'>)\n",
      "Title: Femilady Lot de 30 protège-slips sans ailes 8 couches 100 ml. => Category: Tampons\n",
      "Processing title: Protége-Slips Hygiéniques Pour Femme \"Fraîcheur de Jade\" à Base d'Herbes, Pour le Jour, tianDe 61912, Paquet d'Épargne - 3x10 Un. Confort Et Protection Lors de Journées Spéciales (Type: <class 'str'>)\n",
      "Title: Protége-Slips Hygiéniques Pour Femme \"Fraîcheur de Jade\" à Base d'Herbes, Pour le Jour, tianDe 61912, Paquet d'Épargne - 3x10 Un. Confort Et Protection Lors de Journées Spéciales => Category: Tampons\n",
      "Processing title: Lines Protège-slips Intervalle Lady Maxi, 22 pcs (Type: <class 'str'>)\n",
      "Title: Lines Protège-slips Intervalle Lady Maxi, 22 pcs => Category: Tampons\n",
      "Processing title: Vania Kotydia Protège-Slips, Confort, Normal, Aloe Vera, 28 Protège-Slips (Type: <class 'str'>)\n",
      "Title: Vania Kotydia Protège-Slips, Confort, Normal, Aloe Vera, 28 Protège-Slips => Category: Tampons\n",
      "Processing title: Lot de 7 (S) Protege Slip Lavable Bio Coton Reutilisable FABRIQUÉE EN UE; Serviette Hygiéniqu/e Lavable sans PUL; Protege Slip pour pertes blanches NE CONVIENT PAS pour les Règles (Type: <class 'str'>)\n",
      "Title: Lot de 7 (S) Protege Slip Lavable Bio Coton Reutilisable FABRIQUÉE EN UE; Serviette Hygiéniqu/e Lavable sans PUL; Protege Slip pour pertes blanches NE CONVIENT PAS pour les Règles => Category: Tampons\n",
      "Processing title: NCM-M10-01 Lot de 10 serviettes hygiéniques lavables en charbon de bambou 25,4 cm (Type: <class 'str'>)\n",
      "Title: NCM-M10-01 Lot de 10 serviettes hygiéniques lavables en charbon de bambou 25,4 cm => Category: Tampons\n",
      "Processing title: Lot 3 Culottes Menstruelles Coton BIO certifié GOTS | Absorbante = 2 tampons, fine, antifuite, réutilisable, écologique et Super Sexy (S) (Type: <class 'str'>)\n",
      "Title: Lot 3 Culottes Menstruelles Coton BIO certifié GOTS | Absorbante = 2 tampons, fine, antifuite, réutilisable, écologique et Super Sexy (S) => Category: Tampons\n",
      "Processing title: Culotte Menstruelle Absorbante = 3 tampons - Lavable - Coton - Ecologique - Menstruation - Culotte de Règles - Protection Périodique Hygiénique Flux léger à abondant - XXS/4XL (Type: <class 'str'>)\n",
      "Title: Culotte Menstruelle Absorbante = 3 tampons - Lavable - Coton - Ecologique - Menstruation - Culotte de Règles - Protection Périodique Hygiénique Flux léger à abondant - XXS/4XL => Category: Tampons\n",
      "Processing title: Lot de 200 sacs à déchets hygiéniques pour femme avec poignées Noir (Type: <class 'str'>)\n",
      "Title: Lot de 200 sacs à déchets hygiéniques pour femme avec poignées Noir => Category: Tampons\n",
      "Processing title: Nettoyant Excite Man or Woman: Hygiène et soin de vos jouets érotiques et coupes menstruelles (Type: <class 'str'>)\n",
      "Title: Nettoyant Excite Man or Woman: Hygiène et soin de vos jouets érotiques et coupes menstruelles => Category: Tampons\n",
      "Processing title: SHORDY Lot de 2 disques menstruels réutilisables (petit et grand), 100 % silicone de qualité médicale, disques menstruels flexibles et sans fuite, respectueux de l'environnement, hygiène féminine et (Type: <class 'str'>)\n",
      "Title: SHORDY Lot de 2 disques menstruels réutilisables (petit et grand), 100 % silicone de qualité médicale, disques menstruels flexibles et sans fuite, respectueux de l'environnement, hygiène féminine et => Category: Tampons\n",
      "Processing title: Mascoto® Disque menstruel nouvelle génération, coupe plate, silicone de qualité médicale, réutilisable, pétale mince et ultra confortable, alternative au tampon et tampon avec pochette de voyage (Type: <class 'str'>)\n",
      "Title: Mascoto® Disque menstruel nouvelle génération, coupe plate, silicone de qualité médicale, réutilisable, pétale mince et ultra confortable, alternative au tampon et tampon avec pochette de voyage => Category: Tampons\n",
      "Processing title: Nett Procomfort Tampon sans Applicateur, Super, Boite de 32 Tampons - Lot de 4 (Type: <class 'str'>)\n",
      "Title: Nett Procomfort Tampon sans Applicateur, Super, Boite de 32 Tampons - Lot de 4 => Category: Tampons\n",
      "Processing title: Tampax Compak Cotton Protection, Super, Flux Moyens à Abondants, 56 Tampons Avec Applicateur en Plastique Végétal, Coeur de Tampon En Coton Biologique (Type: <class 'str'>)\n",
      "Title: Tampax Compak Cotton Protection, Super, Flux Moyens à Abondants, 56 Tampons Avec Applicateur en Plastique Végétal, Coeur de Tampon En Coton Biologique => Category: Tampons\n",
      "Processing title: Nett Procomfort Tampon Sans Applicateur, Super Plus, Boite de 24 Tampons (Type: <class 'str'>)\n",
      "Title: Nett Procomfort Tampon Sans Applicateur, Super Plus, Boite de 24 Tampons => Category: Tampons\n",
      "Processing title: Cupimatch Bracelet Diffuseur d'huiles Essentielles Arbre de Vie Aimant Rond Ouvert en Acier Inoxydable avec 8/10 Pièces Recharge Coussins Lavable,Bon Cadeau de Fête des Mères Noël Saint-Valentin (Type: <class 'str'>)\n",
      "Title: Cupimatch Bracelet Diffuseur d'huiles Essentielles Arbre de Vie Aimant Rond Ouvert en Acier Inoxydable avec 8/10 Pièces Recharge Coussins Lavable,Bon Cadeau de Fête des Mères Noël Saint-Valentin => Category: Tampons\n",
      "Processing title: Fab Little Bag Sacs hygiéniques pour tampons, serviettes hygiéniques, serviettes hygiéniques - Prévient les odeurs, scellable, écologique - Paquet de 45 Sacs hygiéniques pour femmes - Starter Plus (Type: <class 'str'>)\n",
      "Title: Fab Little Bag Sacs hygiéniques pour tampons, serviettes hygiéniques, serviettes hygiéniques - Prévient les odeurs, scellable, écologique - Paquet de 45 Sacs hygiéniques pour femmes - Starter Plus => Category: Tampons\n",
      "Processing title: Culotte Menstruelle Flux Abondant En Coton Bio Oeko Tex + Pochon Lavage, Culotte De Règle Ou Incontinence Anti Fuite Urinaire Ultra Absorbante et Lavable, Culottes Menstruelles Femme Adolescentes (Type: <class 'str'>)\n",
      "Title: Culotte Menstruelle Flux Abondant En Coton Bio Oeko Tex + Pochon Lavage, Culotte De Règle Ou Incontinence Anti Fuite Urinaire Ultra Absorbante et Lavable, Culottes Menstruelles Femme Adolescentes => Category: Tampons\n",
      "Processing title: Jho - Tampons 100% Coton BIO - Avec applicateur compact (Normal, 1 boite = 16 tampons) (Type: <class 'str'>)\n",
      "Title: Jho - Tampons 100% Coton BIO - Avec applicateur compact (Normal, 1 boite = 16 tampons) => Category: Tampons\n",
      "Processing title: FEMME FAVOR CUP-MENSTRUELLE - Disque Menstruel en Silicone Médical 100% - Ensemble de Coupe Menstruelle en Deux Tailles avec Housse - Alternative aux Tampons et Serviettes Hygiéniques (Type: <class 'str'>)\n",
      "Title: FEMME FAVOR CUP-MENSTRUELLE - Disque Menstruel en Silicone Médical 100% - Ensemble de Coupe Menstruelle en Deux Tailles avec Housse - Alternative aux Tampons et Serviettes Hygiéniques => Category: Tampons\n",
      "Processing title: Culotte Menstruelle Flux Abondant En Coton Bio Oeko Tex + Pochon Lavage, Culotte De Règle Ou Incontinence Anti Fuite Urinaire Ultra Absorbante et Lavable, Culottes Menstruelles Femme Adolescentes (Type: <class 'str'>)\n",
      "Title: Culotte Menstruelle Flux Abondant En Coton Bio Oeko Tex + Pochon Lavage, Culotte De Règle Ou Incontinence Anti Fuite Urinaire Ultra Absorbante et Lavable, Culottes Menstruelles Femme Adolescentes => Category: Tampons\n",
      "Processing title: Naturalena Brands Veeda 100% coton naturel sans applicateur Super Tampons Super absorbants Confort Digital Super Tampons Super Absorbants sans toxine de chlore et pesticide 32 pièces Sans couleur (Type: <class 'str'>)\n",
      "Title: Naturalena Brands Veeda 100% coton naturel sans applicateur Super Tampons Super absorbants Confort Digital Super Tampons Super Absorbants sans toxine de chlore et pesticide 32 pièces Sans couleur => Category: Tampons\n",
      "Processing title: Jho - Tampons 100% Coton BIO - Sans applicateur (Normal, 1 boite = 16 tampons) (Type: <class 'str'>)\n",
      "Title: Jho - Tampons 100% Coton BIO - Sans applicateur (Normal, 1 boite = 16 tampons) => Category: Tampons\n",
      "Processing title: PH PandaHall 120pcs Tampons Absorbants de Rechange, 12 Couleurs Tampons Ronds en Fibre d'huile Essentielle pour Diffuseur de Voiture de Bracelet de Collier d'aromathérapie 22,5mm (Type: <class 'str'>)\n",
      "Title: PH PandaHall 120pcs Tampons Absorbants de Rechange, 12 Couleurs Tampons Ronds en Fibre d'huile Essentielle pour Diffuseur de Voiture de Bracelet de Collier d'aromathérapie 22,5mm => Category: Tampons\n",
      "Processing title: Fulidngzg Culotte menstruelle pour femme - En coton - Sans coutures - Absorption du flux - Doux - Disques menstruels hipster - Sous-vêtements menstruels (Type: <class 'str'>)\n",
      "Title: Fulidngzg Culotte menstruelle pour femme - En coton - Sans coutures - Absorption du flux - Doux - Disques menstruels hipster - Sous-vêtements menstruels => Category: Tampons\n",
      "Processing title: Mademoiselle Culotte - Culotte Menstruelle Léa Edition Limitée - Sérénité, Confort et Féminité - Taille S à 6XL (Type: <class 'str'>)\n",
      "Title: Mademoiselle Culotte - Culotte Menstruelle Léa Edition Limitée - Sérénité, Confort et Féminité - Taille S à 6XL => Category: Tampons\n",
      "Processing title: INNERSY Culotte Menstruelle Femme Coton Slip Regles Anti Fuite Sous-vêtement Lavable Lot de 3 (Type: <class 'str'>)\n",
      "Title: INNERSY Culotte Menstruelle Femme Coton Slip Regles Anti Fuite Sous-vêtement Lavable Lot de 3 => Category: Tampons\n",
      "Processing title: Bamboolik |Serviettes hygiéniques lavables | Satin et coton bio | Fermeture Velcro | Lot de 5 - 2 x bleu clair, 2 x rose, 1 x jaune + XS Wetbag rose | réutilisable| Fabriqué en UE | Protège-slips en (Type: <class 'str'>)\n",
      "Title: Bamboolik |Serviettes hygiéniques lavables | Satin et coton bio | Fermeture Velcro | Lot de 5 - 2 x bleu clair, 2 x rose, 1 x jaune + XS Wetbag rose | réutilisable| Fabriqué en UE | Protège-slips en => Category: Tampons\n",
      "Processing title: Natracare Organic Cotton Ultra Maxi Pads 12 Super (Type: <class 'str'>)\n",
      "Title: Natracare Organic Cotton Ultra Maxi Pads 12 Super => Category: Tampons\n",
      "Processing title: Always Discreet, Serviettes Fuites Urinaires, Long, Absorption 4, 80 Serviettes Hygiéniques Incontinence Femme Importante, Protection Absorbante, Pack 1 Mois (Type: <class 'str'>)\n",
      "Title: Always Discreet, Serviettes Fuites Urinaires, Long, Absorption 4, 80 Serviettes Hygiéniques Incontinence Femme Importante, Protection Absorbante, Pack 1 Mois => Category: Tampons\n",
      "Processing title: Lights by Tena, protège-slips longs, 20 pièces (Type: <class 'str'>)\n",
      "Title: Lights by Tena, protège-slips longs, 20 pièces => Category: Tampons\n",
      "Processing title: Saforelle 24 Protège-Slips Pocket (Type: <class 'str'>)\n",
      "Title: Saforelle 24 Protège-Slips Pocket => Category: Tampons\n",
      "Processing title: 4 Pièces Protège-slips en Tissu Protège-slips Réutilisables pour Femmes Protège-slips Quotidiens Féminins Lavables pour Femmes Doublures Hygiéniques Réutilisables (M) (Type: <class 'str'>)\n",
      "Title: 4 Pièces Protège-slips en Tissu Protège-slips Réutilisables pour Femmes Protège-slips Quotidiens Féminins Lavables pour Femmes Doublures Hygiéniques Réutilisables (M) => Category: Tampons\n",
      "Processing title: Always Dailies Singles To Go Protège-Slips 20 (Type: <class 'str'>)\n",
      "Title: Always Dailies Singles To Go Protège-Slips 20 => Category: Tampons\n",
      "Processing title: Tena Protège-slip lady normal discreet - Le paquet de 24 (Type: <class 'str'>)\n",
      "Title: Tena Protège-slip lady normal discreet - Le paquet de 24 => Category: Tampons\n",
      "Processing title: Always Dailies Singles To Go Fraîcheur Flexible/Confortable/Pochette Individuelle Protège-Slips 20 Pièces - 1 pc (Type: <class 'str'>)\n",
      "Title: Always Dailies Singles To Go Fraîcheur Flexible/Confortable/Pochette Individuelle Protège-Slips 20 Pièces - 1 pc => Category: Tampons\n",
      "Processing title: always Protège-slips Extra Protect Large Gigapack 64 (Type: <class 'str'>)\n",
      "Title: always Protège-slips Extra Protect Large Gigapack 64 => Category: Tampons\n",
      "Processing title: Silvercare Protection Féminine Protège-Slips Anatomiques 100% Pur Coton Bio Boîte de 30 Unités Lot de 2 (Type: <class 'str'>)\n",
      "Title: Silvercare Protection Féminine Protège-Slips Anatomiques 100% Pur Coton Bio Boîte de 30 Unités Lot de 2 => Category: Tampons\n",
      "Processing title: Carefree Protège Slip Normal - 76 unités (Type: <class 'str'>)\n",
      "Title: Carefree Protège Slip Normal - 76 unités => Category: Tampons\n",
      "Processing title: Always Dailies Extra Protect Long Plus Protège-slips, pour femme, (40 bandes), larges, respirants, flexibles et confortables, avec cœur absorbant (Type: <class 'str'>)\n",
      "Title: Always Dailies Extra Protect Long Plus Protège-slips, pour femme, (40 bandes), larges, respirants, flexibles et confortables, avec cœur absorbant => Category: Tampons\n",
      "Processing title: CAREFREE protector flexiform 30 uds (Type: <class 'str'>)\n",
      "Title: CAREFREE protector flexiform 30 uds => Category: Tampons\n"
     ]
    }
   ],
   "source": [
    "for index, row in products_df.iterrows():\n",
    "    title = row[\"title\"]\n",
    "    category = find_category(title)\n",
    "    print(f\"Title: {title} => Category: {category}\")\n",
    "    # Optionally, directly assign the category to the DataFrame for verification\n",
    "    products_df.at[index, \"true_cat\"] = category\n"
   ]
  }
 ],
 "metadata": {
  "kernelspec": {
   "display_name": "Python 3",
   "language": "python",
   "name": "python3"
  },
  "language_info": {
   "codemirror_mode": {
    "name": "ipython",
    "version": 3
   },
   "file_extension": ".py",
   "mimetype": "text/x-python",
   "name": "python",
   "nbconvert_exporter": "python",
   "pygments_lexer": "ipython3",
   "version": "3.11.6"
  }
 },
 "nbformat": 4,
 "nbformat_minor": 2
}
